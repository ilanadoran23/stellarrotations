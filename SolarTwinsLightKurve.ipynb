{
 "cells": [
  {
   "cell_type": "markdown",
   "metadata": {},
   "source": [
    " # Light Curves of Solar Twin Stars  ☀️"
   ]
  },
  {
   "cell_type": "code",
   "execution_count": 1,
   "metadata": {},
   "outputs": [],
   "source": [
    "#tools\n",
    "from tqdm import tqdm\n",
    "import numpy as np\n",
    "import pandas as pd\n",
    "from scipy import stats\n",
    "import matplotlib.pyplot as plt\n",
    "import astropy.stats as astat\n",
    "import lightkurve as lk\n",
    "from solartwins import *\n",
    "import eleanor\n",
    "import pickle "
   ]
  },
  {
   "cell_type": "markdown",
   "metadata": {},
   "source": [
    "# setting up star data\n",
    "solar_twin_stars = [i for i in t['star_name']] #list of names of solar twin stars\n",
    "\n",
    "thirtym_cadence =[] #setting up list of star names with thirty min cadence\n",
    "twom_cadence = [] #names of two min cadence stars \n",
    "thirty = [] #list of thirty min cadence target names and sectors\n",
    "two = [] #list of two min cadence target names and sectors"
   ]
  },
  {
   "cell_type": "markdown",
   "metadata": {},
   "source": [
    "#filling the lists \n",
    "\n",
    "for each, val in tqdm(enumerate(solar_twin_stars)): \n",
    "    star = lk.search_targetpixelfile(val, mission = 'TESS')\n",
    "    if len(star) == 1: #checking for star in 2min cadence tess databse\n",
    "        twom_cadence.append(val)\n",
    "        two.append(star)\n",
    "    else : \n",
    "        try : \n",
    "            star_thirty = eleanor.Source(name = val) #checking for star in 30min database\n",
    "            thirtym_cadence.append(val)\n",
    "            thirty.append(star)\n",
    "        except: \n",
    "            pass \n",
    "        \n",
    "thirty.remove(thirty[6]) #removing an error"
   ]
  },
  {
   "cell_type": "markdown",
   "metadata": {},
   "source": [
    "# saving lists to text files for easy access\n",
    "with open('two_result.data', 'wb') as filehandle:\n",
    "    pickle.dump(two, filehandle)\n",
    "    \n",
    "with open('thirty_result.data', 'wb') as filehandle:\n",
    "    pickle.dump(thirty, filehandle)\n",
    "    \n",
    "with open('two_m_cadence.data', 'wb') as filehandle:\n",
    "    pickle.dump(twom_cadence, filehandle)\n",
    "    \n",
    "with open('thirty_m_cadence.data', 'wb') as filehandle:\n",
    "    pickle.dump(thirtym_cadence, filehandle)"
   ]
  },
  {
   "cell_type": "code",
   "execution_count": 2,
   "metadata": {},
   "outputs": [],
   "source": [
    "# opening saved files\n",
    "\n",
    "with open('two_result.data', 'rb') as filehandle:\n",
    "    two = pickle.load(filehandle) #list of two min cadence target names and sectors\n",
    "    \n",
    "with open('thirty_result.data', 'rb') as filehandle:\n",
    "    thirty = pickle.load(filehandle) #list of thirty min cadence target names and sectors\n",
    "    \n",
    "with open('thirty_m_cadence.data', 'rb') as filehandle:\n",
    "    thirtym_cadence = pickle.load(filehandle) #names of thirty min cadence stars \n",
    "    \n",
    "with open('two_m_cadence.data', 'rb') as filehandle:\n",
    "    twom_cadence = pickle.load(filehandle) #names of two min cadence stars "
   ]
  },
  {
   "cell_type": "markdown",
   "metadata": {},
   "source": [
    " # stars with two minute cadences "
   ]
  },
  {
   "cell_type": "code",
   "execution_count": null,
   "metadata": {
    "scrolled": true
   },
   "outputs": [],
   "source": [
    "star0 = two[0].download(quality_bitmask='default')\n",
    "#star0.interact()\n",
    "#star0.interact_sky()\n",
    "\n",
    "#making aperture mask \n",
    "target_mask_0 = star0.create_threshold_mask(threshold=300, reference_pixel= 'center')\n",
    "star0.plot(aperture_mask=target_mask_0, mask_color='r');\n",
    "\n",
    "lc0 = star0.to_lightcurve(aperture_mask=target_mask_0)\n",
    "lc0.errorbar()\n",
    "\n",
    "#removing outliers, instrument errors and lost signals \n",
    "lc_0 = lc0[(star0.time < 1691) | (star0.time > 1694) | (star0.time < 1705)|(star0.time > 1708)]\n",
    "lc_0.remove_outliers(sigma=3).bin(binsize=20).errorbar();"
   ]
  },
  {
   "cell_type": "code",
   "execution_count": null,
   "metadata": {
    "scrolled": true
   },
   "outputs": [],
   "source": [
    "star1 = two[1].download(quality_bitmask='default')\n",
    "#star1.interact()\n",
    "#star1.interact_sky()\n",
    "\n",
    "#making aperture mask \n",
    "target_mask_1 = star1.create_threshold_mask(threshold=15, reference_pixel= 'center')\n",
    "star1.plot(aperture_mask=target_mask_1, mask_color='r');\n",
    "\n",
    "lc1 = star1.to_lightcurve(aperture_mask=target_mask_1)\n",
    "lc1.errorbar()\n",
    "\n",
    "#removing outliers, instrument errors and lost signals \n",
    "lc_1 = lc1[(star1.time < 1347) | (star1.time > 1350)]\n",
    "lc_1.remove_outliers(sigma=3).bin(binsize=20).errorbar();"
   ]
  },
  {
   "cell_type": "code",
   "execution_count": null,
   "metadata": {
    "scrolled": false
   },
   "outputs": [],
   "source": [
    "star2 = two[2].download(quality_bitmask='default')\n",
    "#star2.interact()\n",
    "#star2.interact_sky()\n",
    "\n",
    "#making aperture mask \n",
    "target_mask_2 = star2.create_threshold_mask(threshold=211, reference_pixel= 'center')\n",
    "star2.plot(aperture_mask=target_mask_2, mask_color='r');\n",
    "\n",
    "lc2 = star2.to_lightcurve(aperture_mask=target_mask_2)\n",
    "lc2.errorbar()\n",
    "\n",
    "#removing outliers, instrument errors and lost signals \n",
    "lc_2 = lc2[(star2.time < 1418) | (star2.time > 1425)]\n",
    "lc_2.remove_outliers(sigma=3).bin(binsize=20).errorbar();"
   ]
  },
  {
   "cell_type": "code",
   "execution_count": null,
   "metadata": {
    "scrolled": true
   },
   "outputs": [],
   "source": [
    "star4 = two[4].download(quality_bitmask='default')\n",
    "#star4.interact()\n",
    "#star4.interact_sky()\n",
    "\n",
    "target_mask_4 = star4.create_threshold_mask(threshold=15, reference_pixel= 'center')\n",
    "star4.plot(aperture_mask=target_mask_4, mask_color='r');\n",
    "\n",
    "lc4 = star4.to_lightcurve(aperture_mask=target_mask_4)\n",
    "lc4.errorbar()\n",
    "\n",
    "lc_4 = lc4[(star4.time < 1366) | (star4.time > 1369) | (star4.time < 1379)]\n",
    "lc_4.remove_outliers(sigma=3).bin(binsize=20).errorbar();"
   ]
  },
  {
   "cell_type": "code",
   "execution_count": null,
   "metadata": {
    "scrolled": true
   },
   "outputs": [],
   "source": [
    "star6 = two[6].download(quality_bitmask='default')\n",
    "#star6.interact()\n",
    "#star6.interact_sky()\n",
    "\n",
    "target_mask_6 = star6.create_threshold_mask(threshold=25, reference_pixel= 'center')\n",
    "star6.plot(aperture_mask=target_mask_6, mask_color='r');\n",
    "\n",
    "lc6 = star6.to_lightcurve(aperture_mask=target_mask_6)\n",
    "lc6.errorbar()\n",
    "\n",
    "lc_6 = lc6[(star6.time < 1419) | (star6.time > 1425)]\n",
    "lc_6.remove_outliers(sigma=3).bin(binsize=20).errorbar();"
   ]
  },
  {
   "cell_type": "code",
   "execution_count": null,
   "metadata": {
    "scrolled": true
   },
   "outputs": [],
   "source": [
    "star7 = two[7].download(quality_bitmask='default')\n",
    "#star7.interact()\n",
    "#star7.interact_sky()\n",
    "\n",
    "target_mask_7 = star7.create_threshold_mask(threshold=60, reference_pixel= 'center')\n",
    "star7.plot(aperture_mask=target_mask_7, mask_color='r');\n",
    "\n",
    "lc7 = star7.to_lightcurve(aperture_mask=target_mask_7)\n",
    "lc7.errorbar()\n",
    "\n",
    "lc_7 = lc7[(star7.time < 1419) | (star7.time > 1425)]\n",
    "lc_7.remove_outliers(sigma=3).bin(binsize=20).errorbar();"
   ]
  },
  {
   "cell_type": "code",
   "execution_count": null,
   "metadata": {
    "scrolled": true
   },
   "outputs": [],
   "source": [
    "star8 = two[8].download(quality_bitmask='default')\n",
    "#star8.interact()\n",
    "#star8.interact_sky()\n",
    "\n",
    "target_mask_8 = star8.create_threshold_mask(threshold=60, reference_pixel= 'center')\n",
    "star8.plot(aperture_mask=target_mask_8, mask_color='r');\n",
    "\n",
    "lc8 = star8.to_lightcurve(aperture_mask=target_mask_8)\n",
    "lc8.errorbar()\n",
    "\n",
    "lc_8 = lc8[(star8.time < 1379) | (star8.time > 1381)]\n",
    "lc_8.remove_outliers(sigma=4).bin(binsize=20).errorbar();"
   ]
  },
  {
   "cell_type": "code",
   "execution_count": null,
   "metadata": {
    "scrolled": true
   },
   "outputs": [],
   "source": [
    "star12 = two[12].download(quality_bitmask='default')\n",
    "#star12.interact()\n",
    "#star12.interact_sky()\n",
    "\n",
    "target_mask_12 = star12.create_threshold_mask(threshold=200, reference_pixel= 'center')\n",
    "star12.plot(aperture_mask=target_mask_12, mask_color='r');\n",
    "\n",
    "lc12 = star12.to_lightcurve(aperture_mask=target_mask_12)\n",
    "lc12.errorbar()\n",
    "\n",
    "lc_12 = lc12[(star12.time < 1395) | (star12.time > 1396.5)]\n",
    "lc_12.remove_outliers(sigma=3).bin(binsize=20).errorbar();"
   ]
  },
  {
   "cell_type": "code",
   "execution_count": null,
   "metadata": {
    "scrolled": true
   },
   "outputs": [],
   "source": [
    "star13 = two[13].download(quality_bitmask='default')\n",
    "#star13.interact()\n",
    "#star13.interact_sky()\n",
    "\n",
    "target_mask_13 = star13.create_threshold_mask(threshold=200, reference_pixel= 'center')\n",
    "star13.plot(aperture_mask=target_mask_13, mask_color='r');\n",
    "\n",
    "lc13 = star13.to_lightcurve(aperture_mask=target_mask_13)\n",
    "lc13.errorbar()\n",
    "\n",
    "lc_13 = lc13[(star13.time < 1529) | (star13.time > 1535)]\n",
    "lc_13.remove_outliers(sigma=3).bin(binsize=20).errorbar();"
   ]
  },
  {
   "cell_type": "code",
   "execution_count": null,
   "metadata": {
    "scrolled": true
   },
   "outputs": [],
   "source": [
    "star16 = two[16].download(quality_bitmask='default')\n",
    "#star16.interact()\n",
    "#star16.interact_sky()\n",
    "\n",
    "target_mask_16 = star16.create_threshold_mask(threshold=50, reference_pixel= 'center')\n",
    "star16.plot(aperture_mask=target_mask_16, mask_color='r');\n",
    "\n",
    "lc16 = star16.to_lightcurve(aperture_mask=target_mask_16)\n",
    "lc16.errorbar()\n",
    "\n",
    "lc_16 = lc16[(star16.time < 1529) | (star16.time > 1537)]\n",
    "lc_16.remove_outliers(sigma=3).bin(binsize=20).errorbar();"
   ]
  },
  {
   "cell_type": "code",
   "execution_count": null,
   "metadata": {
    "scrolled": true
   },
   "outputs": [],
   "source": [
    "star17 = two[17].download(quality_bitmask=100)\n",
    "#star17.interact()\n",
    "#star17.interact_sky()\n",
    "\n",
    "target_mask_17 = star17.create_threshold_mask(threshold=50, reference_pixel= 'center')\n",
    "star17.plot(aperture_mask=target_mask_17, mask_color='r');\n",
    "\n",
    "lc17 = star17.to_lightcurve(aperture_mask=target_mask_17)\n",
    "lc17.errorbar()\n",
    "\n",
    "lc_17 = lc17[(star17.time < 1381) | (star17.time > 1385)]\n",
    "lc_17.remove_outliers(sigma=3).bin(binsize=20).errorbar();"
   ]
  },
  {
   "cell_type": "code",
   "execution_count": null,
   "metadata": {
    "scrolled": true
   },
   "outputs": [],
   "source": [
    "star19 = two[19].download(quality_bitmask='default')\n",
    "#star19.interact()\n",
    "#star19.interact_sky()\n",
    "\n",
    "target_mask_19 = star19.create_threshold_mask(threshold=15, reference_pixel= 'center')\n",
    "star19.plot(aperture_mask=target_mask_19, mask_color='r');\n",
    "\n",
    "lc19 = star19.to_lightcurve(aperture_mask=target_mask_19)\n",
    "lc19.errorbar()\n",
    "\n",
    "lc_19 = lc19[(star19.time < 1581) | (star19.time > 1586)]\n",
    "lc_19.remove_outliers(sigma=3).bin(binsize=20).errorbar();"
   ]
  },
  {
   "cell_type": "code",
   "execution_count": null,
   "metadata": {
    "scrolled": true
   },
   "outputs": [],
   "source": [
    "star20 = two[20].download(quality_bitmask='default')\n",
    "#star20.interact()\n",
    "#star20.interact_sky()\n",
    "\n",
    "target_mask_20 = star20.create_threshold_mask(threshold=15, reference_pixel= 'center')\n",
    "star20.plot(aperture_mask=target_mask_20, mask_color='r');\n",
    "\n",
    "lc20 = star20.to_lightcurve(aperture_mask=target_mask_20)\n",
    "lc20.errorbar()\n",
    "\n",
    "lc_20 = lc20[(star20.time < 1570) | (star20.time > 1545) |(star20.time > 1558)| (star20.time < 1555)]\n",
    "lc_20.remove_outliers(sigma=3).bin(binsize=20).errorbar();"
   ]
  },
  {
   "cell_type": "code",
   "execution_count": null,
   "metadata": {
    "scrolled": true
   },
   "outputs": [],
   "source": [
    "star21 = two[21].download(quality_bitmask='default')\n",
    "#star21.interact()\n",
    "#star21.interact_sky()\n",
    "\n",
    "target_mask_21 = star21.create_threshold_mask(threshold=70, reference_pixel='center')\n",
    "star21.plot(aperture_mask=target_mask_21, mask_color='r');\n",
    "\n",
    "lc21 = star21.to_lightcurve(aperture_mask=target_mask_21)\n",
    "lc21.errorbar()\n",
    "\n",
    "lc_21 = lc21[(star21.time < 1610) | (star21.time > 1612)]\n",
    "lc_21.remove_outliers(sigma=3).bin(binsize=20).errorbar();"
   ]
  },
  {
   "cell_type": "code",
   "execution_count": null,
   "metadata": {
    "scrolled": false
   },
   "outputs": [],
   "source": [
    "star22 = two[22].download(quality_bitmask='default')\n",
    "#star22.interact()\n",
    "#star22.interact_sky()\n",
    "\n",
    "target_mask_22 = star22.create_threshold_mask(threshold=70, reference_pixel='center')\n",
    "star22.plot(aperture_mask=target_mask_22, mask_color='r');\n",
    "\n",
    "lc22 = star22.to_lightcurve(aperture_mask=target_mask_22)\n",
    "lc22.errorbar()\n",
    "\n",
    "lc22.remove_outliers(sigma=1).bin(binsize=10).errorbar();"
   ]
  },
  {
   "cell_type": "code",
   "execution_count": null,
   "metadata": {
    "scrolled": false
   },
   "outputs": [],
   "source": [
    "star23 = two[23].download(quality_bitmask='default')\n",
    "#star23.interact()\n",
    "#star23.interact_sky()\n",
    "\n",
    "target_mask_23 = star23.create_threshold_mask(threshold=15, reference_pixel='center')\n",
    "star23.plot(aperture_mask=target_mask_23, mask_color='r');\n",
    "\n",
    "lc23 = star23.to_lightcurve(aperture_mask=target_mask_23)\n",
    "lc23.errorbar()\n",
    "\n",
    "lc23.remove_outliers(sigma=1).bin(binsize=20).errorbar();"
   ]
  },
  {
   "cell_type": "code",
   "execution_count": null,
   "metadata": {
    "scrolled": false
   },
   "outputs": [],
   "source": [
    "star24 = two[24].download(quality_bitmask='default')\n",
    "#star24.interact()\n",
    "#star24.interact_sky()\n",
    "\n",
    "target_mask_24 = star24.create_threshold_mask(threshold=15, reference_pixel='center')\n",
    "star24.plot(aperture_mask=target_mask_24, mask_color='r');\n",
    "\n",
    "lc24 = star24.to_lightcurve(aperture_mask=target_mask_24)\n",
    "lc24.errorbar()\n",
    "\n",
    "lc24.remove_outliers(sigma=1).bin(binsize=20).errorbar();"
   ]
  },
  {
   "cell_type": "code",
   "execution_count": null,
   "metadata": {
    "scrolled": true
   },
   "outputs": [],
   "source": [
    "star25 = two[25].download(quality_bitmask='default')\n",
    "#star25.interact()\n",
    "#star25.interact_sky()\n",
    "\n",
    "target_mask_25 = star25.create_threshold_mask(threshold=40, reference_pixel='center')\n",
    "star25.plot(aperture_mask=target_mask_25, mask_color='r');\n",
    "\n",
    "lc25 = star25.to_lightcurve(aperture_mask=target_mask_25)\n",
    "lc25.errorbar()\n",
    "\n",
    "lc_26 = lc25[(star25.time < 1610) | (star25.time > 1615)]\n",
    "lc_26.remove_outliers(sigma=1).bin(binsize=20).errorbar();"
   ]
  },
  {
   "cell_type": "code",
   "execution_count": null,
   "metadata": {
    "scrolled": true
   },
   "outputs": [],
   "source": [
    "star26 = two[26].download(quality_bitmask='default')\n",
    "#star26.interact()\n",
    "#star26.interact_sky()\n",
    "\n",
    "target_mask_26 = star26.create_threshold_mask(threshold=100, reference_pixel='center')\n",
    "star26.plot(aperture_mask=target_mask_26, mask_color='r');\n",
    "\n",
    "lc26 = star26.to_lightcurve(aperture_mask=target_mask_26)\n",
    "lc26.errorbar()\n",
    "\n",
    "lc_26 = lc26[(star26.time < 1639) | (star26.time > 1641)]\n",
    "lc_26.remove_outliers(sigma=3).bin(binsize=20).errorbar();"
   ]
  },
  {
   "cell_type": "code",
   "execution_count": null,
   "metadata": {
    "scrolled": true
   },
   "outputs": [],
   "source": [
    "star27 = two[27].download(quality_bitmask='default')\n",
    "#star27.interact()\n",
    "#star27.interact_sky()\n",
    "\n",
    "target_mask_27 = star27.create_threshold_mask(threshold=15, reference_pixel='center')\n",
    "star27.plot(aperture_mask=target_mask_27, mask_color='r');\n",
    "\n",
    "lc27 = star27.to_lightcurve(aperture_mask=target_mask_27)\n",
    "lc27.errorbar()\n",
    "\n",
    "lc_27 = lc27[(star27.time < 1639) | (star27.time > 1641)]\n",
    "lc_27.remove_outliers(sigma=3).bin(binsize=20).errorbar();"
   ]
  },
  {
   "cell_type": "code",
   "execution_count": null,
   "metadata": {
    "scrolled": true
   },
   "outputs": [],
   "source": [
    "star28 = two[28].download(quality_bitmask='default')\n",
    "#star28.interact()\n",
    "#star28.interact_sky()\n",
    "\n",
    "target_mask_28 = star28.create_threshold_mask(threshold=40, reference_pixel='center')\n",
    "star28.plot(aperture_mask=target_mask_28, mask_color='r');\n",
    "\n",
    "lc28 = star28.to_lightcurve(aperture_mask=target_mask_28)\n",
    "lc28.errorbar()\n",
    "\n",
    "lc_28 = lc28[(star28.time < 1639) | (star28.time > 1642)]\n",
    "lc_28.remove_outliers(sigma=3).bin(binsize=20).errorbar();"
   ]
  },
  {
   "cell_type": "code",
   "execution_count": null,
   "metadata": {
    "scrolled": false
   },
   "outputs": [],
   "source": [
    "star29 = two[29].download(quality_bitmask= 'default')\n",
    "#star29.interact()\n",
    "#star29.interact_sky()\n",
    "\n",
    "target_mask_29 = star29.create_threshold_mask(threshold=40, reference_pixel='center')\n",
    "star29.plot(aperture_mask=target_mask_29, mask_color='r');\n",
    "\n",
    "lc29 = star29.to_lightcurve(aperture_mask=target_mask_29)\n",
    "lc29.errorbar()\n",
    "\n",
    "lc_29 = lc29[(star29.time < 1405) | (star29.time > 1384)]\n",
    "lc_29.remove_outliers(sigma=3).bin(binsize=20).errorbar();"
   ]
  },
  {
   "cell_type": "code",
   "execution_count": null,
   "metadata": {
    "scrolled": true
   },
   "outputs": [],
   "source": [
    "star30 = two[30].download(quality_bitmask='default')\n",
    "#star30.interact()\n",
    "#star30.interact_sky()\n",
    "\n",
    "target_mask_30 = star30.create_threshold_mask(threshold=15, reference_pixel='center')\n",
    "star30.plot(aperture_mask=target_mask_30, mask_color='r');\n",
    "\n",
    "lc30 = star30.to_lightcurve(aperture_mask=target_mask_30)\n",
    "lc30.errorbar()\n",
    "\n",
    "lc_30 = lc30[(star30.time < 1667) | (star30.time > 1669)]\n",
    "lc_30.remove_outliers(sigma=3).bin(binsize=20).errorbar();"
   ]
  },
  {
   "cell_type": "code",
   "execution_count": null,
   "metadata": {
    "scrolled": true
   },
   "outputs": [],
   "source": [
    "star32 = two[32].download(quality_bitmask='default')\n",
    "#star32.interact()\n",
    "#star32.interact_sky()\n",
    "\n",
    "target_mask_32 = star32.create_threshold_mask(threshold=40, reference_pixel='center')\n",
    "star32.plot(aperture_mask=target_mask_32, mask_color='r');\n",
    "\n",
    "lc32 = star32.to_lightcurve(aperture_mask=target_mask_32)\n",
    "lc32.errorbar()\n",
    "\n",
    "lc_32 = lc32[(star32.time < 1667) | (star32.time > 1669)]\n",
    "lc_32.remove_outliers(sigma=3).bin(binsize=20).errorbar();"
   ]
  },
  {
   "cell_type": "markdown",
   "metadata": {},
   "source": [
    "# stars with thirty minute cadences"
   ]
  },
  {
   "cell_type": "code",
   "execution_count": null,
   "metadata": {
    "scrolled": true
   },
   "outputs": [],
   "source": [
    "star_th_0 = thirty[0].download(quality_bitmask='default')\n",
    "#star_th_0.interact()\n",
    "#star_th_0.interact_sky()\n",
    "\n",
    "target_mask__th_0 = star_th_0.create_threshold_mask(threshold=15, reference_pixel='center')\n",
    "star_th_0.plot(aperture_mask=target_mask__th_0, mask_color='r');\n",
    "\n",
    "lc_th_0 = star_th_0.to_lightcurve(aperture_mask=target_mask__th_0)\n",
    "lc_th_0.errorbar()\n",
    "\n",
    "lc__th_0 = lc_th_0[(star_th_0.time < 1347) | (star_th_0.time > 1350)]\n",
    "lc__th_0.remove_outliers(sigma=3).bin(binsize=20).errorbar();"
   ]
  },
  {
   "cell_type": "code",
   "execution_count": null,
   "metadata": {
    "scrolled": true
   },
   "outputs": [],
   "source": [
    "star_th_1 = thirty[1].download(quality_bitmask='default')\n",
    "#star_th_1.interact()\n",
    "#star_th_1.interact_sky()\n",
    "\n",
    "target_mask__th_1 = star_th_1.create_threshold_mask(threshold=60, reference_pixel='center')\n",
    "star_th_1.plot(aperture_mask=target_mask__th_1, mask_color='r');\n",
    "\n",
    "lc_th_1 = star_th_1.to_lightcurve(aperture_mask=target_mask__th_1)\n",
    "lc_th_1.errorbar()\n",
    "\n",
    "lc__th_1 = lc_th_1[(star_th_1.time < 1611) | (star_th_1.time > 1612)]\n",
    "lc__th_1.remove_outliers(sigma=3).bin(binsize=20).errorbar();"
   ]
  },
  {
   "cell_type": "code",
   "execution_count": null,
   "metadata": {
    "scrolled": true
   },
   "outputs": [],
   "source": [
    "star_th_2 = thirty[2].download(quality_bitmask='default')\n",
    "#star_th_2.interact()\n",
    "#star_th_2.interact_sky()\n",
    "\n",
    "target_mask__th_2 = star_th_2.create_threshold_mask(threshold=15, reference_pixel='center')\n",
    "star_th_2.plot(aperture_mask=target_mask__th_2, mask_color='r');\n",
    "\n",
    "lc_th_2 = star_th_2.to_lightcurve(aperture_mask=target_mask__th_2)\n",
    "lc_th_2.errorbar()\n",
    "\n",
    "lc__th_2 = lc_th_2[(star_th_2.time < 1347) | (star_th_2.time > 1350)]\n",
    "lc__th_2.remove_outliers(sigma=3).bin(binsize=20).errorbar();"
   ]
  },
  {
   "cell_type": "code",
   "execution_count": null,
   "metadata": {
    "scrolled": true
   },
   "outputs": [],
   "source": [
    "star_th_3 = thirty[3].download(quality_bitmask='default')\n",
    "#star_th_3.interact()\n",
    "#star_th_3.interact_sky()\n",
    "\n",
    "target_mask__th_3 = star_th_3.create_threshold_mask(threshold=15, reference_pixel='center')\n",
    "star_th_3.plot(aperture_mask=target_mask__th_3, mask_color='r');\n",
    "\n",
    "lc_th_3 = star_th_3.to_lightcurve(aperture_mask=target_mask__th_3)\n",
    "lc_th_3.errorbar()\n",
    "\n",
    "lc__th_3 = lc_th_3[(star_th_3.time < 1477) | (star_th_3.time > 1478)]\n",
    "lc__th_3.remove_outliers(sigma=3).bin(binsize=20).errorbar();"
   ]
  },
  {
   "cell_type": "code",
   "execution_count": null,
   "metadata": {
    "scrolled": true
   },
   "outputs": [],
   "source": [
    "star_th_4 = thirty[4].download(quality_bitmask='default')\n",
    "#star_th_4.interact()\n",
    "#star_th_4.interact_sky()\n",
    "\n",
    "target_mask__th_4 = star_th_4.create_threshold_mask(threshold=15, reference_pixel='center')\n",
    "star_th_4.plot(aperture_mask=target_mask__th_4, mask_color='r');\n",
    "\n",
    "lc_th_4 = star_th_4.to_lightcurve(aperture_mask=target_mask__th_4)\n",
    "lc_th_4.errorbar()\n",
    "\n",
    "lc__th_4 = lc_th_4[(star_th_4.time < 1477) | (star_th_4.time > 1478)]\n",
    "lc__th_4.remove_outliers(sigma=3).bin(binsize=20).errorbar();"
   ]
  }
 ],
 "metadata": {
  "kernelspec": {
   "display_name": "Python 3",
   "language": "python",
   "name": "python3"
  },
  "language_info": {
   "codemirror_mode": {
    "name": "ipython",
    "version": 3
   },
   "file_extension": ".py",
   "mimetype": "text/x-python",
   "name": "python",
   "nbconvert_exporter": "python",
   "pygments_lexer": "ipython3",
   "version": "3.7.4"
  }
 },
 "nbformat": 4,
 "nbformat_minor": 2
}
