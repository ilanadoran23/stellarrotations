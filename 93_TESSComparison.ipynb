{
 "cells": [
  {
   "cell_type": "code",
   "execution_count": 1,
   "metadata": {},
   "outputs": [
    {
     "name": "stderr",
     "output_type": "stream",
     "text": [
      "/Users/ilanadoran/opt/anaconda3/lib/python3.7/site-packages/theano/configdefaults.py:560: UserWarning: DeprecationWarning: there is no c++ compiler.This is deprecated and with Theano 0.11 a c++ compiler will be mandatory\n",
      "  warnings.warn(\"DeprecationWarning: there is no c++ compiler.\"\n",
      "WARNING (theano.configdefaults): g++ not detected ! Theano will be unable to execute optimized C-implementations (for both CPU and GPU) and will default to Python implementations. Performance will be severely degraded. To remove this warning, set Theano flags cxx to an empty string.\n",
      "WARNING (theano.tensor.blas): Using NumPy C-API based implementation for BLAS functions.\n"
     ]
    }
   ],
   "source": [
    "from acfunctions import *\n",
    "import numpy as np\n",
    "import pandas as pd\n",
    "import matplotlib.pyplot as plt\n",
    "import astropy.stats as astat\n",
    "from solartwins import *\n",
    "import pickle\n",
    "from IPython.display import Image, display, HTML\n",
    "import starspot as ss\n",
    "import starspot.rotation_tools as rt\n",
    "from starspot import sigma_clipping\n",
    "import lightkurve as lk\n",
    "from lightkurve import search_targetpixelfile, search_lightcurvefile\n",
    "import math\n",
    "import exoplanet\n",
    "import eleanor\n",
    "from astropy.coordinates import SkyCoord\n",
    "from tess_kep_funct import *\n",
    "from tqdm import tqdm\n",
    "from scipy import misc\n",
    "from bokeh.models import ColumnDataSource, LabelSet\n",
    "from bokeh.plotting import figure, output_file, show\n",
    "from bokeh.io import output_notebook\n",
    "import warnings\n",
    "warnings.filterwarnings(\"ignore\")"
   ]
  },
  {
   "cell_type": "code",
   "execution_count": 2,
   "metadata": {},
   "outputs": [],
   "source": [
    "from matplotlib import rc\n",
    "rc('font',**{'family':'sans-serif','sans-serif':['Helvetica']})\n",
    "rc('text', usetex=False)"
   ]
  },
  {
   "cell_type": "markdown",
   "metadata": {},
   "source": [
    "# key \n",
    "\n",
    "short_tess_period = periods calculated using starspot's pdm period function\n",
    "\n",
    "short_periods = calculated mcquillan periods under 13 days\n",
    "\n",
    "tics_short_periods = tic ids of the mcquillan-determined short periods\n",
    "\n",
    "ls_periods = calculated lombs-scargle tess periods from starspot"
   ]
  },
  {
   "cell_type": "markdown",
   "metadata": {},
   "source": [
    "# importing data from TESS_Kep"
   ]
  },
  {
   "cell_type": "code",
   "execution_count": 3,
   "metadata": {},
   "outputs": [],
   "source": [
    "#dataset with tess vs kepler IDs\n",
    "tess_kep = pd.read_csv('data_summary.csv')\n",
    "tess_short = tess_kep[tess_kep.tess_ffi == True]\n",
    "cat = pd.read_csv('tics_kics_mcq_rot.txt', names=['tic_id', 'kic_id', 'prot'], delim_whitespace=True)"
   ]
  },
  {
   "cell_type": "code",
   "execution_count": 4,
   "metadata": {},
   "outputs": [],
   "source": [
    "#importing McQ periods\n",
    "headers = 'TIC ID', 'KIC ID', 'McQ Periods';  \n",
    "\n",
    "with open(\"tics_kics_mcq_rot.txt\") as file:\n",
    "    rot_table = [line.split() for line in file.read().splitlines()]\n",
    "\n",
    "widths = [max(len(value) for value in col)\n",
    "for col in zip(*(rot_table + [headers]))]\n",
    "\n",
    "formatting = '{:{widths[0]}}  {:{widths[1]}}  {:{widths[2]}}'\n",
    "formatting.format(*headers, widths=widths)\n",
    "for tics_kics_mcq in rot_table:\n",
    "    formatting.format(*tics_kics_mcq, widths=widths)"
   ]
  },
  {
   "cell_type": "code",
   "execution_count": 5,
   "metadata": {},
   "outputs": [],
   "source": [
    "# converting txt file data to arrays\n",
    "tic_ids = []\n",
    "mcq_periods = []\n",
    "\n",
    "for index, row in enumerate(rot_table):\n",
    "    tic_ids.append(int(rot_table[index][0]))\n",
    "    mcq_periods.append(float(rot_table[index][2]))"
   ]
  },
  {
   "cell_type": "code",
   "execution_count": 6,
   "metadata": {},
   "outputs": [],
   "source": [
    "# selecting shortest periods only (<13 days, half a tess cycle)\n",
    "short_periods = []\n",
    "tics_short_periods = []\n",
    "\n",
    "for index, period in enumerate(mcq_periods):\n",
    "    if period < 13: \n",
    "        short_periods.append(period)\n",
    "        tics_short_periods.append(tic_ids[index])\n",
    "        \n",
    "#limiting to the first 60\n",
    "short_periods = short_periods[0:61]\n",
    "tics_short_periods = tics_short_periods[0:61]"
   ]
  },
  {
   "cell_type": "code",
   "execution_count": 7,
   "metadata": {},
   "outputs": [],
   "source": [
    "with open('tess_period.data', 'rb') as filehandle:\n",
    "    short_tess_period = pickle.load(filehandle) "
   ]
  },
  {
   "cell_type": "code",
   "execution_count": 8,
   "metadata": {},
   "outputs": [
    {
     "data": {
      "text/plain": [
       "7.730630630630631"
      ]
     },
     "execution_count": 8,
     "metadata": {},
     "output_type": "execute_result"
    }
   ],
   "source": [
    "short_tess_period[0]"
   ]
  },
  {
   "cell_type": "code",
   "execution_count": 9,
   "metadata": {},
   "outputs": [
    {
     "data": {
      "text/html": [
       "\n",
       "    <div class=\"bk-root\">\n",
       "        <a href=\"https://bokeh.pydata.org\" target=\"_blank\" class=\"bk-logo bk-logo-small bk-logo-notebook\"></a>\n",
       "        <span id=\"1001\">Loading BokehJS ...</span>\n",
       "    </div>"
      ]
     },
     "metadata": {},
     "output_type": "display_data"
    },
    {
     "data": {
      "application/javascript": [
       "\n",
       "(function(root) {\n",
       "  function now() {\n",
       "    return new Date();\n",
       "  }\n",
       "\n",
       "  var force = true;\n",
       "\n",
       "  if (typeof root._bokeh_onload_callbacks === \"undefined\" || force === true) {\n",
       "    root._bokeh_onload_callbacks = [];\n",
       "    root._bokeh_is_loading = undefined;\n",
       "  }\n",
       "\n",
       "  var JS_MIME_TYPE = 'application/javascript';\n",
       "  var HTML_MIME_TYPE = 'text/html';\n",
       "  var EXEC_MIME_TYPE = 'application/vnd.bokehjs_exec.v0+json';\n",
       "  var CLASS_NAME = 'output_bokeh rendered_html';\n",
       "\n",
       "  /**\n",
       "   * Render data to the DOM node\n",
       "   */\n",
       "  function render(props, node) {\n",
       "    var script = document.createElement(\"script\");\n",
       "    node.appendChild(script);\n",
       "  }\n",
       "\n",
       "  /**\n",
       "   * Handle when an output is cleared or removed\n",
       "   */\n",
       "  function handleClearOutput(event, handle) {\n",
       "    var cell = handle.cell;\n",
       "\n",
       "    var id = cell.output_area._bokeh_element_id;\n",
       "    var server_id = cell.output_area._bokeh_server_id;\n",
       "    // Clean up Bokeh references\n",
       "    if (id != null && id in Bokeh.index) {\n",
       "      Bokeh.index[id].model.document.clear();\n",
       "      delete Bokeh.index[id];\n",
       "    }\n",
       "\n",
       "    if (server_id !== undefined) {\n",
       "      // Clean up Bokeh references\n",
       "      var cmd = \"from bokeh.io.state import curstate; print(curstate().uuid_to_server['\" + server_id + \"'].get_sessions()[0].document.roots[0]._id)\";\n",
       "      cell.notebook.kernel.execute(cmd, {\n",
       "        iopub: {\n",
       "          output: function(msg) {\n",
       "            var id = msg.content.text.trim();\n",
       "            if (id in Bokeh.index) {\n",
       "              Bokeh.index[id].model.document.clear();\n",
       "              delete Bokeh.index[id];\n",
       "            }\n",
       "          }\n",
       "        }\n",
       "      });\n",
       "      // Destroy server and session\n",
       "      var cmd = \"import bokeh.io.notebook as ion; ion.destroy_server('\" + server_id + \"')\";\n",
       "      cell.notebook.kernel.execute(cmd);\n",
       "    }\n",
       "  }\n",
       "\n",
       "  /**\n",
       "   * Handle when a new output is added\n",
       "   */\n",
       "  function handleAddOutput(event, handle) {\n",
       "    var output_area = handle.output_area;\n",
       "    var output = handle.output;\n",
       "\n",
       "    // limit handleAddOutput to display_data with EXEC_MIME_TYPE content only\n",
       "    if ((output.output_type != \"display_data\") || (!output.data.hasOwnProperty(EXEC_MIME_TYPE))) {\n",
       "      return\n",
       "    }\n",
       "\n",
       "    var toinsert = output_area.element.find(\".\" + CLASS_NAME.split(' ')[0]);\n",
       "\n",
       "    if (output.metadata[EXEC_MIME_TYPE][\"id\"] !== undefined) {\n",
       "      toinsert[toinsert.length - 1].firstChild.textContent = output.data[JS_MIME_TYPE];\n",
       "      // store reference to embed id on output_area\n",
       "      output_area._bokeh_element_id = output.metadata[EXEC_MIME_TYPE][\"id\"];\n",
       "    }\n",
       "    if (output.metadata[EXEC_MIME_TYPE][\"server_id\"] !== undefined) {\n",
       "      var bk_div = document.createElement(\"div\");\n",
       "      bk_div.innerHTML = output.data[HTML_MIME_TYPE];\n",
       "      var script_attrs = bk_div.children[0].attributes;\n",
       "      for (var i = 0; i < script_attrs.length; i++) {\n",
       "        toinsert[toinsert.length - 1].firstChild.setAttribute(script_attrs[i].name, script_attrs[i].value);\n",
       "      }\n",
       "      // store reference to server id on output_area\n",
       "      output_area._bokeh_server_id = output.metadata[EXEC_MIME_TYPE][\"server_id\"];\n",
       "    }\n",
       "  }\n",
       "\n",
       "  function register_renderer(events, OutputArea) {\n",
       "\n",
       "    function append_mime(data, metadata, element) {\n",
       "      // create a DOM node to render to\n",
       "      var toinsert = this.create_output_subarea(\n",
       "        metadata,\n",
       "        CLASS_NAME,\n",
       "        EXEC_MIME_TYPE\n",
       "      );\n",
       "      this.keyboard_manager.register_events(toinsert);\n",
       "      // Render to node\n",
       "      var props = {data: data, metadata: metadata[EXEC_MIME_TYPE]};\n",
       "      render(props, toinsert[toinsert.length - 1]);\n",
       "      element.append(toinsert);\n",
       "      return toinsert\n",
       "    }\n",
       "\n",
       "    /* Handle when an output is cleared or removed */\n",
       "    events.on('clear_output.CodeCell', handleClearOutput);\n",
       "    events.on('delete.Cell', handleClearOutput);\n",
       "\n",
       "    /* Handle when a new output is added */\n",
       "    events.on('output_added.OutputArea', handleAddOutput);\n",
       "\n",
       "    /**\n",
       "     * Register the mime type and append_mime function with output_area\n",
       "     */\n",
       "    OutputArea.prototype.register_mime_type(EXEC_MIME_TYPE, append_mime, {\n",
       "      /* Is output safe? */\n",
       "      safe: true,\n",
       "      /* Index of renderer in `output_area.display_order` */\n",
       "      index: 0\n",
       "    });\n",
       "  }\n",
       "\n",
       "  // register the mime type if in Jupyter Notebook environment and previously unregistered\n",
       "  if (root.Jupyter !== undefined) {\n",
       "    var events = require('base/js/events');\n",
       "    var OutputArea = require('notebook/js/outputarea').OutputArea;\n",
       "\n",
       "    if (OutputArea.prototype.mime_types().indexOf(EXEC_MIME_TYPE) == -1) {\n",
       "      register_renderer(events, OutputArea);\n",
       "    }\n",
       "  }\n",
       "\n",
       "  \n",
       "  if (typeof (root._bokeh_timeout) === \"undefined\" || force === true) {\n",
       "    root._bokeh_timeout = Date.now() + 5000;\n",
       "    root._bokeh_failed_load = false;\n",
       "  }\n",
       "\n",
       "  var NB_LOAD_WARNING = {'data': {'text/html':\n",
       "     \"<div style='background-color: #fdd'>\\n\"+\n",
       "     \"<p>\\n\"+\n",
       "     \"BokehJS does not appear to have successfully loaded. If loading BokehJS from CDN, this \\n\"+\n",
       "     \"may be due to a slow or bad network connection. Possible fixes:\\n\"+\n",
       "     \"</p>\\n\"+\n",
       "     \"<ul>\\n\"+\n",
       "     \"<li>re-rerun `output_notebook()` to attempt to load from CDN again, or</li>\\n\"+\n",
       "     \"<li>use INLINE resources instead, as so:</li>\\n\"+\n",
       "     \"</ul>\\n\"+\n",
       "     \"<code>\\n\"+\n",
       "     \"from bokeh.resources import INLINE\\n\"+\n",
       "     \"output_notebook(resources=INLINE)\\n\"+\n",
       "     \"</code>\\n\"+\n",
       "     \"</div>\"}};\n",
       "\n",
       "  function display_loaded() {\n",
       "    var el = document.getElementById(\"1001\");\n",
       "    if (el != null) {\n",
       "      el.textContent = \"BokehJS is loading...\";\n",
       "    }\n",
       "    if (root.Bokeh !== undefined) {\n",
       "      if (el != null) {\n",
       "        el.textContent = \"BokehJS \" + root.Bokeh.version + \" successfully loaded.\";\n",
       "      }\n",
       "    } else if (Date.now() < root._bokeh_timeout) {\n",
       "      setTimeout(display_loaded, 100)\n",
       "    }\n",
       "  }\n",
       "\n",
       "\n",
       "  function run_callbacks() {\n",
       "    try {\n",
       "      root._bokeh_onload_callbacks.forEach(function(callback) {\n",
       "        if (callback != null)\n",
       "          callback();\n",
       "      });\n",
       "    } finally {\n",
       "      delete root._bokeh_onload_callbacks\n",
       "    }\n",
       "    console.debug(\"Bokeh: all callbacks have finished\");\n",
       "  }\n",
       "\n",
       "  function load_libs(css_urls, js_urls, callback) {\n",
       "    if (css_urls == null) css_urls = [];\n",
       "    if (js_urls == null) js_urls = [];\n",
       "\n",
       "    root._bokeh_onload_callbacks.push(callback);\n",
       "    if (root._bokeh_is_loading > 0) {\n",
       "      console.debug(\"Bokeh: BokehJS is being loaded, scheduling callback at\", now());\n",
       "      return null;\n",
       "    }\n",
       "    if (js_urls == null || js_urls.length === 0) {\n",
       "      run_callbacks();\n",
       "      return null;\n",
       "    }\n",
       "    console.debug(\"Bokeh: BokehJS not loaded, scheduling load and callback at\", now());\n",
       "    root._bokeh_is_loading = css_urls.length + js_urls.length;\n",
       "\n",
       "    function on_load() {\n",
       "      root._bokeh_is_loading--;\n",
       "      if (root._bokeh_is_loading === 0) {\n",
       "        console.debug(\"Bokeh: all BokehJS libraries/stylesheets loaded\");\n",
       "        run_callbacks()\n",
       "      }\n",
       "    }\n",
       "\n",
       "    function on_error() {\n",
       "      console.error(\"failed to load \" + url);\n",
       "    }\n",
       "\n",
       "    for (var i = 0; i < css_urls.length; i++) {\n",
       "      var url = css_urls[i];\n",
       "      const element = document.createElement(\"link\");\n",
       "      element.onload = on_load;\n",
       "      element.onerror = on_error;\n",
       "      element.rel = \"stylesheet\";\n",
       "      element.type = \"text/css\";\n",
       "      element.href = url;\n",
       "      console.debug(\"Bokeh: injecting link tag for BokehJS stylesheet: \", url);\n",
       "      document.body.appendChild(element);\n",
       "    }\n",
       "\n",
       "    for (var i = 0; i < js_urls.length; i++) {\n",
       "      var url = js_urls[i];\n",
       "      var element = document.createElement('script');\n",
       "      element.onload = on_load;\n",
       "      element.onerror = on_error;\n",
       "      element.async = false;\n",
       "      element.src = url;\n",
       "      console.debug(\"Bokeh: injecting script tag for BokehJS library: \", url);\n",
       "      document.head.appendChild(element);\n",
       "    }\n",
       "  };var element = document.getElementById(\"1001\");\n",
       "  if (element == null) {\n",
       "    console.error(\"Bokeh: ERROR: autoload.js configured with elementid '1001' but no matching script tag was found. \")\n",
       "    return false;\n",
       "  }\n",
       "\n",
       "  function inject_raw_css(css) {\n",
       "    const element = document.createElement(\"style\");\n",
       "    element.appendChild(document.createTextNode(css));\n",
       "    document.body.appendChild(element);\n",
       "  }\n",
       "\n",
       "  var js_urls = [\"https://cdn.pydata.org/bokeh/release/bokeh-1.3.4.min.js\", \"https://cdn.pydata.org/bokeh/release/bokeh-widgets-1.3.4.min.js\", \"https://cdn.pydata.org/bokeh/release/bokeh-tables-1.3.4.min.js\", \"https://cdn.pydata.org/bokeh/release/bokeh-gl-1.3.4.min.js\"];\n",
       "  var css_urls = [];\n",
       "\n",
       "  var inline_js = [\n",
       "    function(Bokeh) {\n",
       "      Bokeh.set_log_level(\"info\");\n",
       "    },\n",
       "    \n",
       "    function(Bokeh) {\n",
       "      \n",
       "    },\n",
       "    function(Bokeh) {} // ensure no trailing comma for IE\n",
       "  ];\n",
       "\n",
       "  function run_inline_js() {\n",
       "    \n",
       "    if ((root.Bokeh !== undefined) || (force === true)) {\n",
       "      for (var i = 0; i < inline_js.length; i++) {\n",
       "        inline_js[i].call(root, root.Bokeh);\n",
       "      }if (force === true) {\n",
       "        display_loaded();\n",
       "      }} else if (Date.now() < root._bokeh_timeout) {\n",
       "      setTimeout(run_inline_js, 100);\n",
       "    } else if (!root._bokeh_failed_load) {\n",
       "      console.log(\"Bokeh: BokehJS failed to load within specified timeout.\");\n",
       "      root._bokeh_failed_load = true;\n",
       "    } else if (force !== true) {\n",
       "      var cell = $(document.getElementById(\"1001\")).parents('.cell').data().cell;\n",
       "      cell.output_area.append_execute_result(NB_LOAD_WARNING)\n",
       "    }\n",
       "\n",
       "  }\n",
       "\n",
       "  if (root._bokeh_is_loading === 0) {\n",
       "    console.debug(\"Bokeh: BokehJS loaded, going straight to plotting\");\n",
       "    run_inline_js();\n",
       "  } else {\n",
       "    load_libs(css_urls, js_urls, function() {\n",
       "      console.debug(\"Bokeh: BokehJS plotting callback run at\", now());\n",
       "      run_inline_js();\n",
       "    });\n",
       "  }\n",
       "}(window));"
      ],
      "application/vnd.bokehjs_load.v0+json": "\n(function(root) {\n  function now() {\n    return new Date();\n  }\n\n  var force = true;\n\n  if (typeof root._bokeh_onload_callbacks === \"undefined\" || force === true) {\n    root._bokeh_onload_callbacks = [];\n    root._bokeh_is_loading = undefined;\n  }\n\n  \n\n  \n  if (typeof (root._bokeh_timeout) === \"undefined\" || force === true) {\n    root._bokeh_timeout = Date.now() + 5000;\n    root._bokeh_failed_load = false;\n  }\n\n  var NB_LOAD_WARNING = {'data': {'text/html':\n     \"<div style='background-color: #fdd'>\\n\"+\n     \"<p>\\n\"+\n     \"BokehJS does not appear to have successfully loaded. If loading BokehJS from CDN, this \\n\"+\n     \"may be due to a slow or bad network connection. Possible fixes:\\n\"+\n     \"</p>\\n\"+\n     \"<ul>\\n\"+\n     \"<li>re-rerun `output_notebook()` to attempt to load from CDN again, or</li>\\n\"+\n     \"<li>use INLINE resources instead, as so:</li>\\n\"+\n     \"</ul>\\n\"+\n     \"<code>\\n\"+\n     \"from bokeh.resources import INLINE\\n\"+\n     \"output_notebook(resources=INLINE)\\n\"+\n     \"</code>\\n\"+\n     \"</div>\"}};\n\n  function display_loaded() {\n    var el = document.getElementById(\"1001\");\n    if (el != null) {\n      el.textContent = \"BokehJS is loading...\";\n    }\n    if (root.Bokeh !== undefined) {\n      if (el != null) {\n        el.textContent = \"BokehJS \" + root.Bokeh.version + \" successfully loaded.\";\n      }\n    } else if (Date.now() < root._bokeh_timeout) {\n      setTimeout(display_loaded, 100)\n    }\n  }\n\n\n  function run_callbacks() {\n    try {\n      root._bokeh_onload_callbacks.forEach(function(callback) {\n        if (callback != null)\n          callback();\n      });\n    } finally {\n      delete root._bokeh_onload_callbacks\n    }\n    console.debug(\"Bokeh: all callbacks have finished\");\n  }\n\n  function load_libs(css_urls, js_urls, callback) {\n    if (css_urls == null) css_urls = [];\n    if (js_urls == null) js_urls = [];\n\n    root._bokeh_onload_callbacks.push(callback);\n    if (root._bokeh_is_loading > 0) {\n      console.debug(\"Bokeh: BokehJS is being loaded, scheduling callback at\", now());\n      return null;\n    }\n    if (js_urls == null || js_urls.length === 0) {\n      run_callbacks();\n      return null;\n    }\n    console.debug(\"Bokeh: BokehJS not loaded, scheduling load and callback at\", now());\n    root._bokeh_is_loading = css_urls.length + js_urls.length;\n\n    function on_load() {\n      root._bokeh_is_loading--;\n      if (root._bokeh_is_loading === 0) {\n        console.debug(\"Bokeh: all BokehJS libraries/stylesheets loaded\");\n        run_callbacks()\n      }\n    }\n\n    function on_error() {\n      console.error(\"failed to load \" + url);\n    }\n\n    for (var i = 0; i < css_urls.length; i++) {\n      var url = css_urls[i];\n      const element = document.createElement(\"link\");\n      element.onload = on_load;\n      element.onerror = on_error;\n      element.rel = \"stylesheet\";\n      element.type = \"text/css\";\n      element.href = url;\n      console.debug(\"Bokeh: injecting link tag for BokehJS stylesheet: \", url);\n      document.body.appendChild(element);\n    }\n\n    for (var i = 0; i < js_urls.length; i++) {\n      var url = js_urls[i];\n      var element = document.createElement('script');\n      element.onload = on_load;\n      element.onerror = on_error;\n      element.async = false;\n      element.src = url;\n      console.debug(\"Bokeh: injecting script tag for BokehJS library: \", url);\n      document.head.appendChild(element);\n    }\n  };var element = document.getElementById(\"1001\");\n  if (element == null) {\n    console.error(\"Bokeh: ERROR: autoload.js configured with elementid '1001' but no matching script tag was found. \")\n    return false;\n  }\n\n  function inject_raw_css(css) {\n    const element = document.createElement(\"style\");\n    element.appendChild(document.createTextNode(css));\n    document.body.appendChild(element);\n  }\n\n  var js_urls = [\"https://cdn.pydata.org/bokeh/release/bokeh-1.3.4.min.js\", \"https://cdn.pydata.org/bokeh/release/bokeh-widgets-1.3.4.min.js\", \"https://cdn.pydata.org/bokeh/release/bokeh-tables-1.3.4.min.js\", \"https://cdn.pydata.org/bokeh/release/bokeh-gl-1.3.4.min.js\"];\n  var css_urls = [];\n\n  var inline_js = [\n    function(Bokeh) {\n      Bokeh.set_log_level(\"info\");\n    },\n    \n    function(Bokeh) {\n      \n    },\n    function(Bokeh) {} // ensure no trailing comma for IE\n  ];\n\n  function run_inline_js() {\n    \n    if ((root.Bokeh !== undefined) || (force === true)) {\n      for (var i = 0; i < inline_js.length; i++) {\n        inline_js[i].call(root, root.Bokeh);\n      }if (force === true) {\n        display_loaded();\n      }} else if (Date.now() < root._bokeh_timeout) {\n      setTimeout(run_inline_js, 100);\n    } else if (!root._bokeh_failed_load) {\n      console.log(\"Bokeh: BokehJS failed to load within specified timeout.\");\n      root._bokeh_failed_load = true;\n    } else if (force !== true) {\n      var cell = $(document.getElementById(\"1001\")).parents('.cell').data().cell;\n      cell.output_area.append_execute_result(NB_LOAD_WARNING)\n    }\n\n  }\n\n  if (root._bokeh_is_loading === 0) {\n    console.debug(\"Bokeh: BokehJS loaded, going straight to plotting\");\n    run_inline_js();\n  } else {\n    load_libs(css_urls, js_urls, function() {\n      console.debug(\"Bokeh: BokehJS plotting callback run at\", now());\n      run_inline_js();\n    });\n  }\n}(window));"
     },
     "metadata": {},
     "output_type": "display_data"
    }
   ],
   "source": [
    "output_notebook()"
   ]
  },
  {
   "cell_type": "code",
   "execution_count": 10,
   "metadata": {
    "scrolled": true
   },
   "outputs": [
    {
     "name": "stdout",
     "output_type": "stream",
     "text": [
      "No eleanor postcard has been made for your target (yet). Using TessCut instead.\n",
      "WARNING:tensorflow:From /Users/ilanadoran/opt/anaconda3/lib/python3.7/site-packages/eleanor-1.0.4-py3.7.egg/eleanor/targetdata.py:833: The name tf.logging.set_verbosity is deprecated. Please use tf.compat.v1.logging.set_verbosity instead.\n",
      "\n",
      "WARNING:tensorflow:From /Users/ilanadoran/opt/anaconda3/lib/python3.7/site-packages/eleanor-1.0.4-py3.7.egg/eleanor/targetdata.py:833: The name tf.logging.ERROR is deprecated. Please use tf.compat.v1.logging.ERROR instead.\n",
      "\n"
     ]
    },
    {
     "name": "stderr",
     "output_type": "stream",
     "text": [
      "100%|██████████| 1197/1197 [00:17<00:00, 68.64it/s]\n"
     ]
    },
    {
     "name": "stdout",
     "output_type": "stream",
     "text": [
      "No eleanor postcard has been made for your target (yet). Using TessCut instead.\n"
     ]
    },
    {
     "name": "stderr",
     "output_type": "stream",
     "text": [
      "100%|██████████| 1241/1241 [00:18<00:00, 68.39it/s]\n"
     ]
    },
    {
     "name": "stdout",
     "output_type": "stream",
     "text": [
      "No eleanor postcard has been made for your target (yet). Using TessCut instead.\n"
     ]
    },
    {
     "name": "stderr",
     "output_type": "stream",
     "text": [
      "100%|██████████| 1241/1241 [00:23<00:00, 52.21it/s]\n"
     ]
    },
    {
     "name": "stdout",
     "output_type": "stream",
     "text": [
      "No eleanor postcard has been made for your target (yet). Using TessCut instead.\n"
     ]
    },
    {
     "name": "stderr",
     "output_type": "stream",
     "text": [
      "100%|██████████| 1241/1241 [00:23<00:00, 52.30it/s]\n"
     ]
    },
    {
     "name": "stdout",
     "output_type": "stream",
     "text": [
      "No eleanor postcard has been made for your target (yet). Using TessCut instead.\n"
     ]
    },
    {
     "name": "stderr",
     "output_type": "stream",
     "text": [
      "100%|██████████| 1241/1241 [00:24<00:00, 49.89it/s]\n"
     ]
    },
    {
     "name": "stdout",
     "output_type": "stream",
     "text": [
      "No eleanor postcard has been made for your target (yet). Using TessCut instead.\n"
     ]
    },
    {
     "name": "stderr",
     "output_type": "stream",
     "text": [
      "100%|██████████| 1241/1241 [00:24<00:00, 50.22it/s]\n"
     ]
    },
    {
     "name": "stdout",
     "output_type": "stream",
     "text": [
      "No eleanor postcard has been made for your target (yet). Using TessCut instead.\n"
     ]
    },
    {
     "name": "stderr",
     "output_type": "stream",
     "text": [
      "100%|██████████| 1241/1241 [00:27<00:00, 44.72it/s]\n"
     ]
    },
    {
     "name": "stdout",
     "output_type": "stream",
     "text": [
      "No eleanor postcard has been made for your target (yet). Using TessCut instead.\n"
     ]
    },
    {
     "name": "stderr",
     "output_type": "stream",
     "text": [
      "100%|██████████| 1197/1197 [00:19<00:00, 62.96it/s]\n"
     ]
    },
    {
     "name": "stdout",
     "output_type": "stream",
     "text": [
      "No eleanor postcard has been made for your target (yet). Using TessCut instead.\n"
     ]
    },
    {
     "name": "stderr",
     "output_type": "stream",
     "text": [
      "100%|██████████| 1197/1197 [00:25<00:00, 46.89it/s]\n"
     ]
    },
    {
     "name": "stdout",
     "output_type": "stream",
     "text": [
      "No eleanor postcard has been made for your target (yet). Using TessCut instead.\n"
     ]
    },
    {
     "name": "stderr",
     "output_type": "stream",
     "text": [
      "100%|██████████| 1197/1197 [00:18<00:00, 65.19it/s]\n"
     ]
    },
    {
     "name": "stdout",
     "output_type": "stream",
     "text": [
      "No eleanor postcard has been made for your target (yet). Using TessCut instead.\n"
     ]
    },
    {
     "name": "stderr",
     "output_type": "stream",
     "text": [
      "100%|██████████| 1197/1197 [00:19<00:00, 60.62it/s]\n"
     ]
    },
    {
     "name": "stdout",
     "output_type": "stream",
     "text": [
      "No eleanor postcard has been made for your target (yet). Using TessCut instead.\n"
     ]
    },
    {
     "name": "stderr",
     "output_type": "stream",
     "text": [
      "100%|██████████| 1197/1197 [00:18<00:00, 64.61it/s]\n"
     ]
    },
    {
     "name": "stdout",
     "output_type": "stream",
     "text": [
      "No eleanor postcard has been made for your target (yet). Using TessCut instead.\n"
     ]
    },
    {
     "name": "stderr",
     "output_type": "stream",
     "text": [
      "100%|██████████| 1197/1197 [00:25<00:00, 47.59it/s]\n"
     ]
    },
    {
     "name": "stdout",
     "output_type": "stream",
     "text": [
      "No eleanor postcard has been made for your target (yet). Using TessCut instead.\n"
     ]
    },
    {
     "name": "stderr",
     "output_type": "stream",
     "text": [
      "100%|██████████| 1197/1197 [00:21<00:00, 55.39it/s]\n"
     ]
    },
    {
     "name": "stdout",
     "output_type": "stream",
     "text": [
      "No eleanor postcard has been made for your target (yet). Using TessCut instead.\n"
     ]
    },
    {
     "name": "stderr",
     "output_type": "stream",
     "text": [
      "100%|██████████| 1241/1241 [00:27<00:00, 45.93it/s]\n"
     ]
    },
    {
     "name": "stdout",
     "output_type": "stream",
     "text": [
      "No eleanor postcard has been made for your target (yet). Using TessCut instead.\n"
     ]
    },
    {
     "name": "stderr",
     "output_type": "stream",
     "text": [
      "100%|██████████| 1241/1241 [01:55<00:00, 10.79it/s]\n"
     ]
    },
    {
     "name": "stdout",
     "output_type": "stream",
     "text": [
      "No eleanor postcard has been made for your target (yet). Using TessCut instead.\n"
     ]
    },
    {
     "name": "stderr",
     "output_type": "stream",
     "text": [
      "100%|██████████| 1241/1241 [00:18<00:00, 65.78it/s]\n"
     ]
    },
    {
     "name": "stdout",
     "output_type": "stream",
     "text": [
      "No eleanor postcard has been made for your target (yet). Using TessCut instead.\n"
     ]
    },
    {
     "name": "stderr",
     "output_type": "stream",
     "text": [
      "100%|██████████| 1197/1197 [00:20<00:00, 58.01it/s]\n"
     ]
    },
    {
     "name": "stdout",
     "output_type": "stream",
     "text": [
      "No eleanor postcard has been made for your target (yet). Using TessCut instead.\n"
     ]
    },
    {
     "name": "stderr",
     "output_type": "stream",
     "text": [
      "100%|██████████| 1197/1197 [00:19<00:00, 62.82it/s]\n"
     ]
    },
    {
     "name": "stdout",
     "output_type": "stream",
     "text": [
      "No eleanor postcard has been made for your target (yet). Using TessCut instead.\n"
     ]
    },
    {
     "name": "stderr",
     "output_type": "stream",
     "text": [
      "100%|██████████| 1197/1197 [00:25<00:00, 46.37it/s]\n"
     ]
    },
    {
     "name": "stdout",
     "output_type": "stream",
     "text": [
      "No eleanor postcard has been made for your target (yet). Using TessCut instead.\n"
     ]
    },
    {
     "name": "stderr",
     "output_type": "stream",
     "text": [
      "100%|██████████| 1197/1197 [00:18<00:00, 63.39it/s]\n"
     ]
    },
    {
     "name": "stdout",
     "output_type": "stream",
     "text": [
      "No eleanor postcard has been made for your target (yet). Using TessCut instead.\n"
     ]
    },
    {
     "name": "stderr",
     "output_type": "stream",
     "text": [
      "100%|██████████| 1197/1197 [00:26<00:00, 45.65it/s]\n"
     ]
    },
    {
     "name": "stdout",
     "output_type": "stream",
     "text": [
      "No eleanor postcard has been made for your target (yet). Using TessCut instead.\n"
     ]
    },
    {
     "name": "stderr",
     "output_type": "stream",
     "text": [
      "100%|██████████| 1197/1197 [00:16<00:00, 72.92it/s]\n"
     ]
    },
    {
     "name": "stdout",
     "output_type": "stream",
     "text": [
      "No eleanor postcard has been made for your target (yet). Using TessCut instead.\n"
     ]
    },
    {
     "name": "stderr",
     "output_type": "stream",
     "text": [
      "100%|██████████| 1197/1197 [00:25<00:00, 46.33it/s]\n"
     ]
    },
    {
     "name": "stdout",
     "output_type": "stream",
     "text": [
      "No eleanor postcard has been made for your target (yet). Using TessCut instead.\n"
     ]
    },
    {
     "name": "stderr",
     "output_type": "stream",
     "text": [
      "100%|██████████| 1197/1197 [00:16<00:00, 70.85it/s]\n"
     ]
    },
    {
     "name": "stdout",
     "output_type": "stream",
     "text": [
      "No eleanor postcard has been made for your target (yet). Using TessCut instead.\n"
     ]
    },
    {
     "name": "stderr",
     "output_type": "stream",
     "text": [
      "100%|██████████| 1197/1197 [00:23<00:00, 51.73it/s]\n"
     ]
    },
    {
     "name": "stdout",
     "output_type": "stream",
     "text": [
      "No eleanor postcard has been made for your target (yet). Using TessCut instead.\n"
     ]
    },
    {
     "name": "stderr",
     "output_type": "stream",
     "text": [
      "100%|██████████| 1197/1197 [00:18<00:00, 64.94it/s]\n"
     ]
    },
    {
     "name": "stdout",
     "output_type": "stream",
     "text": [
      "No eleanor postcard has been made for your target (yet). Using TessCut instead.\n"
     ]
    },
    {
     "name": "stderr",
     "output_type": "stream",
     "text": [
      "100%|██████████| 1197/1197 [00:16<00:00, 73.05it/s]\n"
     ]
    },
    {
     "name": "stdout",
     "output_type": "stream",
     "text": [
      "No eleanor postcard has been made for your target (yet). Using TessCut instead.\n"
     ]
    },
    {
     "name": "stderr",
     "output_type": "stream",
     "text": [
      "100%|██████████| 1197/1197 [00:15<00:00, 77.41it/s]\n"
     ]
    },
    {
     "name": "stdout",
     "output_type": "stream",
     "text": [
      "No eleanor postcard has been made for your target (yet). Using TessCut instead.\n"
     ]
    },
    {
     "name": "stderr",
     "output_type": "stream",
     "text": [
      "100%|██████████| 1197/1197 [00:19<00:00, 61.86it/s]\n"
     ]
    },
    {
     "name": "stdout",
     "output_type": "stream",
     "text": [
      "No eleanor postcard has been made for your target (yet). Using TessCut instead.\n"
     ]
    },
    {
     "name": "stderr",
     "output_type": "stream",
     "text": [
      "100%|██████████| 1197/1197 [00:17<00:00, 70.25it/s]\n"
     ]
    },
    {
     "name": "stdout",
     "output_type": "stream",
     "text": [
      "No eleanor postcard has been made for your target (yet). Using TessCut instead.\n"
     ]
    },
    {
     "name": "stderr",
     "output_type": "stream",
     "text": [
      "100%|██████████| 1197/1197 [00:17<00:00, 67.43it/s]\n"
     ]
    },
    {
     "name": "stdout",
     "output_type": "stream",
     "text": [
      "No eleanor postcard has been made for your target (yet). Using TessCut instead.\n"
     ]
    },
    {
     "name": "stderr",
     "output_type": "stream",
     "text": [
      "100%|██████████| 1197/1197 [00:17<00:00, 67.61it/s]\n"
     ]
    },
    {
     "name": "stdout",
     "output_type": "stream",
     "text": [
      "No eleanor postcard has been made for your target (yet). Using TessCut instead.\n"
     ]
    },
    {
     "name": "stderr",
     "output_type": "stream",
     "text": [
      "100%|██████████| 1197/1197 [00:27<00:00, 43.09it/s]\n"
     ]
    },
    {
     "name": "stdout",
     "output_type": "stream",
     "text": [
      "No eleanor postcard has been made for your target (yet). Using TessCut instead.\n"
     ]
    },
    {
     "name": "stderr",
     "output_type": "stream",
     "text": [
      "100%|██████████| 1197/1197 [00:20<00:00, 58.20it/s]\n"
     ]
    },
    {
     "name": "stdout",
     "output_type": "stream",
     "text": [
      "No eleanor postcard has been made for your target (yet). Using TessCut instead.\n"
     ]
    },
    {
     "name": "stderr",
     "output_type": "stream",
     "text": [
      "100%|██████████| 1197/1197 [02:12<00:00,  9.03it/s]\n"
     ]
    },
    {
     "name": "stdout",
     "output_type": "stream",
     "text": [
      "No eleanor postcard has been made for your target (yet). Using TessCut instead.\n"
     ]
    },
    {
     "name": "stderr",
     "output_type": "stream",
     "text": [
      "100%|██████████| 1241/1241 [00:24<00:00, 50.57it/s]\n"
     ]
    },
    {
     "name": "stdout",
     "output_type": "stream",
     "text": [
      "No eleanor postcard has been made for your target (yet). Using TessCut instead.\n"
     ]
    },
    {
     "name": "stderr",
     "output_type": "stream",
     "text": [
      "100%|██████████| 1197/1197 [00:52<00:00, 22.87it/s] \n"
     ]
    },
    {
     "name": "stdout",
     "output_type": "stream",
     "text": [
      "No eleanor postcard has been made for your target (yet). Using TessCut instead.\n"
     ]
    },
    {
     "name": "stderr",
     "output_type": "stream",
     "text": [
      "100%|██████████| 1241/1241 [00:20<00:00, 60.07it/s]\n"
     ]
    },
    {
     "name": "stdout",
     "output_type": "stream",
     "text": [
      "No eleanor postcard has been made for your target (yet). Using TessCut instead.\n"
     ]
    },
    {
     "name": "stderr",
     "output_type": "stream",
     "text": [
      "100%|██████████| 1197/1197 [00:22<00:00, 53.58it/s]\n"
     ]
    },
    {
     "name": "stdout",
     "output_type": "stream",
     "text": [
      "No eleanor postcard has been made for your target (yet). Using TessCut instead.\n"
     ]
    },
    {
     "name": "stderr",
     "output_type": "stream",
     "text": [
      "100%|██████████| 1241/1241 [00:20<00:00, 59.54it/s]\n"
     ]
    },
    {
     "name": "stdout",
     "output_type": "stream",
     "text": [
      "No eleanor postcard has been made for your target (yet). Using TessCut instead.\n"
     ]
    },
    {
     "name": "stderr",
     "output_type": "stream",
     "text": [
      "100%|██████████| 1197/1197 [02:41<00:00,  7.39it/s]\n"
     ]
    },
    {
     "name": "stdout",
     "output_type": "stream",
     "text": [
      "No eleanor postcard has been made for your target (yet). Using TessCut instead.\n"
     ]
    },
    {
     "name": "stderr",
     "output_type": "stream",
     "text": [
      "100%|██████████| 1197/1197 [00:22<00:00, 52.69it/s]\n"
     ]
    },
    {
     "name": "stdout",
     "output_type": "stream",
     "text": [
      "No eleanor postcard has been made for your target (yet). Using TessCut instead.\n"
     ]
    },
    {
     "name": "stderr",
     "output_type": "stream",
     "text": [
      "100%|██████████| 1197/1197 [00:22<00:00, 53.47it/s]\n"
     ]
    },
    {
     "name": "stdout",
     "output_type": "stream",
     "text": [
      "No eleanor postcard has been made for your target (yet). Using TessCut instead.\n"
     ]
    },
    {
     "name": "stderr",
     "output_type": "stream",
     "text": [
      "100%|██████████| 1197/1197 [00:30<00:00, 39.74it/s]\n"
     ]
    },
    {
     "name": "stdout",
     "output_type": "stream",
     "text": [
      "No eleanor postcard has been made for your target (yet). Using TessCut instead.\n"
     ]
    },
    {
     "name": "stderr",
     "output_type": "stream",
     "text": [
      "100%|██████████| 1197/1197 [00:20<00:00, 58.53it/s]\n"
     ]
    },
    {
     "name": "stdout",
     "output_type": "stream",
     "text": [
      "No eleanor postcard has been made for your target (yet). Using TessCut instead.\n"
     ]
    },
    {
     "name": "stderr",
     "output_type": "stream",
     "text": [
      "100%|██████████| 1197/1197 [00:18<00:00, 66.32it/s]\n"
     ]
    },
    {
     "name": "stdout",
     "output_type": "stream",
     "text": [
      "No eleanor postcard has been made for your target (yet). Using TessCut instead.\n"
     ]
    },
    {
     "name": "stderr",
     "output_type": "stream",
     "text": [
      "100%|██████████| 1241/1241 [00:22<00:00, 55.56it/s]\n"
     ]
    },
    {
     "name": "stdout",
     "output_type": "stream",
     "text": [
      "No eleanor postcard has been made for your target (yet). Using TessCut instead.\n"
     ]
    },
    {
     "name": "stderr",
     "output_type": "stream",
     "text": [
      "100%|██████████| 1241/1241 [00:22<00:00, 54.53it/s]\n"
     ]
    },
    {
     "name": "stdout",
     "output_type": "stream",
     "text": [
      "No eleanor postcard has been made for your target (yet). Using TessCut instead.\n"
     ]
    },
    {
     "name": "stderr",
     "output_type": "stream",
     "text": [
      "100%|██████████| 1197/1197 [00:21<00:00, 54.56it/s]\n"
     ]
    },
    {
     "name": "stdout",
     "output_type": "stream",
     "text": [
      "No eleanor postcard has been made for your target (yet). Using TessCut instead.\n"
     ]
    },
    {
     "name": "stderr",
     "output_type": "stream",
     "text": [
      "100%|██████████| 1197/1197 [00:17<00:00, 66.63it/s]\n"
     ]
    },
    {
     "name": "stdout",
     "output_type": "stream",
     "text": [
      "No eleanor postcard has been made for your target (yet). Using TessCut instead.\n"
     ]
    },
    {
     "name": "stderr",
     "output_type": "stream",
     "text": [
      "100%|██████████| 1197/1197 [00:19<00:00, 62.20it/s]\n"
     ]
    },
    {
     "name": "stdout",
     "output_type": "stream",
     "text": [
      "No eleanor postcard has been made for your target (yet). Using TessCut instead.\n"
     ]
    },
    {
     "name": "stderr",
     "output_type": "stream",
     "text": [
      "100%|██████████| 1241/1241 [00:21<00:00, 56.42it/s]\n"
     ]
    },
    {
     "name": "stdout",
     "output_type": "stream",
     "text": [
      "No eleanor postcard has been made for your target (yet). Using TessCut instead.\n"
     ]
    },
    {
     "name": "stderr",
     "output_type": "stream",
     "text": [
      "100%|██████████| 1241/1241 [00:23<00:00, 52.58it/s]\n"
     ]
    },
    {
     "name": "stdout",
     "output_type": "stream",
     "text": [
      "No eleanor postcard has been made for your target (yet). Using TessCut instead.\n"
     ]
    },
    {
     "name": "stderr",
     "output_type": "stream",
     "text": [
      "100%|██████████| 1197/1197 [00:23<00:00, 50.45it/s]\n"
     ]
    },
    {
     "name": "stdout",
     "output_type": "stream",
     "text": [
      "No eleanor postcard has been made for your target (yet). Using TessCut instead.\n"
     ]
    },
    {
     "name": "stderr",
     "output_type": "stream",
     "text": [
      "100%|██████████| 1241/1241 [00:19<00:00, 64.27it/s]\n"
     ]
    },
    {
     "name": "stdout",
     "output_type": "stream",
     "text": [
      "No eleanor postcard has been made for your target (yet). Using TessCut instead.\n"
     ]
    },
    {
     "name": "stderr",
     "output_type": "stream",
     "text": [
      "100%|██████████| 1241/1241 [00:20<00:00, 60.21it/s]\n"
     ]
    },
    {
     "name": "stdout",
     "output_type": "stream",
     "text": [
      "No eleanor postcard has been made for your target (yet). Using TessCut instead.\n"
     ]
    },
    {
     "name": "stderr",
     "output_type": "stream",
     "text": [
      "100%|██████████| 1241/1241 [00:26<00:00, 46.88it/s]\n"
     ]
    },
    {
     "name": "stdout",
     "output_type": "stream",
     "text": [
      "No eleanor postcard has been made for your target (yet). Using TessCut instead.\n"
     ]
    },
    {
     "name": "stderr",
     "output_type": "stream",
     "text": [
      "100%|██████████| 1197/1197 [00:21<00:00, 54.49it/s]\n"
     ]
    },
    {
     "name": "stdout",
     "output_type": "stream",
     "text": [
      "No eleanor postcard has been made for your target (yet). Using TessCut instead.\n"
     ]
    },
    {
     "name": "stderr",
     "output_type": "stream",
     "text": [
      "100%|██████████| 1197/1197 [00:20<00:00, 57.12it/s]\n"
     ]
    },
    {
     "name": "stdout",
     "output_type": "stream",
     "text": [
      "No eleanor postcard has been made for your target (yet). Using TessCut instead.\n"
     ]
    },
    {
     "name": "stderr",
     "output_type": "stream",
     "text": [
      "100%|██████████| 1197/1197 [00:22<00:00, 54.25it/s]\n"
     ]
    }
   ],
   "source": [
    "#calculating lombs-scargle tess periods from starspot\n",
    "ls_period_no_interp = []\n",
    "\n",
    "for each, star in enumerate(tics_short_periods):\n",
    "    star_el = eleanor.Source(tic=star)\n",
    "    data = eleanor.TargetData(star_el, do_psf=True, do_pca=True)\n",
    "    q = data.quality == 0\n",
    "    \n",
    "    time = data.time[q]\n",
    "    norm_flux = data.pca_flux[q]/np.nanmedian(data.pca_flux[q])\n",
    "    flux_err = np.sqrt(norm_flux)\n",
    "\n",
    "    #exo = exoplanet.lomb_scargle_estimator(time, norm_flux, yerr=flux_err)#, max_period= 15, max_peaks=2)\n",
    "    #print(exo['peaks'][1]['period'])\n",
    "    \n",
    "    rotate = ss.RotationModel(time, norm_flux, flux_err)\n",
    "    ls_period = rotate.ls_rotation()\n",
    "    ls_period_no_interp.append(ls_period)\n",
    "    \n",
    "    #exo_ls.append(exo['peaks'][1]['period'])"
   ]
  },
  {
   "cell_type": "code",
   "execution_count": 29,
   "metadata": {},
   "outputs": [],
   "source": [
    "with open('ls_period_no_interp.data', 'wb') as filehandle:\n",
    "    pickle.dump(ls_period_no_interp, filehandle)"
   ]
  },
  {
   "cell_type": "code",
   "execution_count": 30,
   "metadata": {},
   "outputs": [],
   "source": [
    "with open('ls_period_no_interp.data', 'rb') as filehandle:\n",
    "    ls_period_no_interp = pickle.load(filehandle) "
   ]
  },
  {
   "cell_type": "markdown",
   "metadata": {},
   "source": [
    "with open('ls_periods', 'wb') as filehandle:\n",
    "    pickle.dump(ls_periods, filehandle)"
   ]
  },
  {
   "cell_type": "markdown",
   "metadata": {},
   "source": [
    "with open('exo_ls.data', 'wb') as filehandle:\n",
    "    pickle.dump(exo_ls, filehandle)"
   ]
  },
  {
   "cell_type": "markdown",
   "metadata": {},
   "source": [
    "with open('ls_periods.data', 'rb') as filehandle:\n",
    "    ls_periods = pickle.load(filehandle) "
   ]
  },
  {
   "cell_type": "markdown",
   "metadata": {},
   "source": [
    "with open('exo_ls.data', 'rb') as filehandle:\n",
    "    exo_ls = pickle.load(filehandle) "
   ]
  },
  {
   "cell_type": "markdown",
   "metadata": {},
   "source": [
    "exo_0 = exoplanet.lomb_scargle_estimator(time, norm_flux, yerr=flux_err)\n",
    "plt.plot(1/(exo_0['periodogram'][0]), exo_0['periodogram'][1])\n",
    "plt.title('Periodigram')"
   ]
  },
  {
   "cell_type": "markdown",
   "metadata": {},
   "source": [
    "exo_0"
   ]
  },
  {
   "cell_type": "markdown",
   "metadata": {},
   "source": [
    "exo_acf = [] \n",
    "\n",
    "for each, star in enumerate(tics_short_periods):\n",
    "    star_el = eleanor.Source(tic=star)\n",
    "    data = eleanor.TargetData(star_el, do_psf=True, do_pca=True)\n",
    "    q = data.quality == 0\n",
    "    \n",
    "    time = data.time[q]\n",
    "    norm_flux = data.pca_flux[q]/np.nanmedian(data.pca_flux[q])\n",
    "    flux_err = norm_flux * 0.01\n",
    "    \n",
    "    ex_1 = exoplanet.autocorr_estimator(time, norm_flux, yerr=flux_err, oversample=2.0, smooth=2.0)\n",
    "    \n",
    "    if len(ex_1['peaks']) > 0: \n",
    "        exo_acf.append(ex_1['peaks'][0]['period'])\n",
    "    else:\n",
    "        exo_acf.append(0)  "
   ]
  },
  {
   "cell_type": "markdown",
   "metadata": {},
   "source": [
    "with open('exo_acf.data', 'wb') as filehandle:\n",
    "    pickle.dump(exo_acf, filehandle)"
   ]
  },
  {
   "cell_type": "markdown",
   "metadata": {},
   "source": [
    "with open('exo_acf.data', 'rb') as filehandle:\n",
    "    exo_acf = pickle.load(filehandle) "
   ]
  },
  {
   "cell_type": "code",
   "execution_count": 14,
   "metadata": {},
   "outputs": [
    {
     "data": {
      "text/html": [
       "\n",
       "\n",
       "\n",
       "\n",
       "\n",
       "\n",
       "  <div class=\"bk-root\" id=\"24778e10-f94d-4140-9a21-a68bafdf70d3\" data-root-id=\"1003\"></div>\n"
      ]
     },
     "metadata": {},
     "output_type": "display_data"
    },
    {
     "data": {
      "application/javascript": [
       "(function(root) {\n",
       "  function embed_document(root) {\n",
       "    \n",
       "  var docs_json = {\"893de0d3-259e-458e-bdf5-c7811ecbd731\":{\"roots\":{\"references\":[{\"attributes\":{\"below\":[{\"id\":\"1014\",\"type\":\"LinearAxis\"}],\"center\":[{\"id\":\"1018\",\"type\":\"Grid\"},{\"id\":\"1023\",\"type\":\"Grid\"},{\"id\":\"1046\",\"type\":\"Legend\"}],\"left\":[{\"id\":\"1019\",\"type\":\"LinearAxis\"}],\"plot_width\":900,\"renderers\":[{\"id\":\"1038\",\"type\":\"GlyphRenderer\"},{\"id\":\"1051\",\"type\":\"GlyphRenderer\"},{\"id\":\"1056\",\"type\":\"GlyphRenderer\"},{\"id\":\"1072\",\"type\":\"GlyphRenderer\"}],\"title\":{\"id\":\"1004\",\"type\":\"Title\"},\"toolbar\":{\"id\":\"1029\",\"type\":\"Toolbar\"},\"x_range\":{\"id\":\"1006\",\"type\":\"DataRange1d\"},\"x_scale\":{\"id\":\"1010\",\"type\":\"LinearScale\"},\"y_range\":{\"id\":\"1008\",\"type\":\"Range1d\"},\"y_scale\":{\"id\":\"1012\",\"type\":\"LinearScale\"}},\"id\":\"1003\",\"subtype\":\"Figure\",\"type\":\"Plot\"},{\"attributes\":{\"callback\":null,\"data\":{\"x\":[7.0,8.88,2.85,10.69,8.74,12.83,6.72,2.67,6.41,2.81,2.19,10.68,11.96,7.7,3.56,8.6,3.72,11.19,10.5,0.84,3.32,1.54,1.37,12.11,10.51,3.2,11.11,1.18,5.62,1.85,3.83,2.38,2.7,12.12,8.23,3.54,8.01,6.32,11.72,7.97,1.45,12.32,2.78,10.03,1.45,1.68,3.15,0.57,1.18,6.4,2.99,0.96,6.24,7.59,3.91,6.42,1.03,8.52,9.73,9.44,8.54],\"y\":[14.0,17.76,5.7,21.38,17.48,25.66,13.44,5.34,12.82,5.62,4.38,21.36,23.92,15.4,7.12,17.2,7.44,22.38,21.0,1.68,6.64,3.08,2.74,24.22,21.02,6.4,22.22,2.36,11.24,3.7,7.66,4.76,5.4,24.24,16.46,7.08,16.02,12.64,23.44,15.94,2.9,24.64,5.56,20.06,2.9,3.36,6.3,1.14,2.36,12.8,5.98,1.92,12.48,15.18,7.82,12.84,2.06,17.04,19.46,18.88,17.08]},\"selected\":{\"id\":\"1085\",\"type\":\"Selection\"},\"selection_policy\":{\"id\":\"1084\",\"type\":\"UnionRenderers\"}},\"id\":\"1053\",\"type\":\"ColumnDataSource\"},{\"attributes\":{\"ticker\":{\"id\":\"1015\",\"type\":\"BasicTicker\"}},\"id\":\"1018\",\"type\":\"Grid\"},{\"attributes\":{},\"id\":\"1012\",\"type\":\"LinearScale\"},{\"attributes\":{\"source\":{\"id\":\"1069\",\"type\":\"ColumnDataSource\"}},\"id\":\"1073\",\"type\":\"CDSView\"},{\"attributes\":{},\"id\":\"1085\",\"type\":\"Selection\"},{\"attributes\":{\"callback\":null,\"end\":15},\"id\":\"1008\",\"type\":\"Range1d\"},{\"attributes\":{},\"id\":\"1026\",\"type\":\"ResetTool\"},{\"attributes\":{},\"id\":\"1100\",\"type\":\"UnionRenderers\"},{\"attributes\":{},\"id\":\"1101\",\"type\":\"Selection\"},{\"attributes\":{\"items\":[{\"id\":\"1047\",\"type\":\"LegendItem\"},{\"id\":\"1068\",\"type\":\"LegendItem\"},{\"id\":\"1086\",\"type\":\"LegendItem\"}]},\"id\":\"1046\",\"type\":\"Legend\"},{\"attributes\":{},\"id\":\"1024\",\"type\":\"PanTool\"},{\"attributes\":{\"overlay\":{\"id\":\"1045\",\"type\":\"BoxAnnotation\"}},\"id\":\"1025\",\"type\":\"BoxZoomTool\"},{\"attributes\":{\"source\":{\"id\":\"1035\",\"type\":\"ColumnDataSource\"}},\"id\":\"1039\",\"type\":\"CDSView\"},{\"attributes\":{\"fill_color\":{\"value\":\"mediumvioletred\"},\"line_color\":{\"value\":null},\"x\":{\"field\":\"x\"},\"y\":{\"field\":\"y\"}},\"id\":\"1049\",\"type\":\"Circle\"},{\"attributes\":{\"fill_alpha\":{\"value\":0.1},\"fill_color\":{\"value\":\"#1f77b4\"},\"line_alpha\":{\"value\":0.1},\"line_color\":{\"value\":\"#1f77b4\"},\"x\":{\"field\":\"x\"},\"y\":{\"field\":\"y\"}},\"id\":\"1050\",\"type\":\"Circle\"},{\"attributes\":{\"callback\":null},\"id\":\"1006\",\"type\":\"DataRange1d\"},{\"attributes\":{\"active_drag\":\"auto\",\"active_inspect\":\"auto\",\"active_multi\":null,\"active_scroll\":\"auto\",\"active_tap\":\"auto\",\"tools\":[{\"id\":\"1024\",\"type\":\"PanTool\"},{\"id\":\"1025\",\"type\":\"BoxZoomTool\"},{\"id\":\"1026\",\"type\":\"ResetTool\"},{\"id\":\"1027\",\"type\":\"SaveTool\"},{\"id\":\"1028\",\"type\":\"HoverTool\"}]},\"id\":\"1029\",\"type\":\"Toolbar\"},{\"attributes\":{\"bottom_units\":\"screen\",\"fill_alpha\":{\"value\":0.5},\"fill_color\":{\"value\":\"lightgrey\"},\"left_units\":\"screen\",\"level\":\"overlay\",\"line_alpha\":{\"value\":1.0},\"line_color\":{\"value\":\"black\"},\"line_dash\":[4,4],\"line_width\":{\"value\":2},\"render_mode\":\"css\",\"right_units\":\"screen\",\"top_units\":\"screen\"},\"id\":\"1045\",\"type\":\"BoxAnnotation\"},{\"attributes\":{\"axis_label\":\"McQuillan Period\",\"formatter\":{\"id\":\"1042\",\"type\":\"BasicTickFormatter\"},\"ticker\":{\"id\":\"1015\",\"type\":\"BasicTicker\"}},\"id\":\"1014\",\"type\":\"LinearAxis\"},{\"attributes\":{\"source\":{\"id\":\"1002\",\"type\":\"ColumnDataSource\"}},\"id\":\"1052\",\"type\":\"CDSView\"},{\"attributes\":{\"line_color\":\"khaki\",\"line_dash\":[2,4],\"x\":{\"field\":\"x\"},\"y\":{\"field\":\"y\"}},\"id\":\"1054\",\"type\":\"Line\"},{\"attributes\":{\"line_color\":\"rosybrown\",\"line_dash\":[2,4],\"x\":{\"field\":\"x\"},\"y\":{\"field\":\"y\"}},\"id\":\"1070\",\"type\":\"Line\"},{\"attributes\":{\"line_alpha\":0.1,\"line_color\":\"#1f77b4\",\"line_dash\":[4,4],\"line_width\":2,\"x\":{\"field\":\"x\"},\"y\":{\"field\":\"y\"}},\"id\":\"1037\",\"type\":\"Line\"},{\"attributes\":{\"callback\":null,\"data\":{\"tess\":[275493837,121789795,63007124,275490626,171098535,63210277,351803000,170253623,158791870,164724054,122684770,121457565,273582401,267991320,137218354,184089663,272370950,159172008,121659832,138728898,169460055,169466444,122213500,63209318,120963553,267746802,271165094,27395090,298964604,270608620,185058148,271426791,273687618,272719990,239227465,27186774,271538184,121215119,121939294,352013209,185058255,170344764,378084176,120422997,63075888,270856793,26597576,158412743,121329643,351055098,120890400,137408312,267671733,279916031,271547585,158936101,121939266,239225673,27389081,121785547,138725623],\"x\":[7.0,8.88,2.85,10.69,8.74,12.83,6.72,2.67,6.41,2.81,2.19,10.68,11.96,7.7,3.56,8.6,3.72,11.19,10.5,0.84,3.32,1.54,1.37,12.11,10.51,3.2,11.11,1.18,5.62,1.85,3.83,2.38,2.7,12.12,8.23,3.54,8.01,6.32,11.72,7.97,1.45,12.32,2.78,10.03,1.45,1.68,3.15,0.57,1.18,6.4,2.99,0.96,6.24,7.59,3.91,6.42,1.03,8.52,9.73,9.44,8.54],\"y\":[7.730630630630631,7.83963963963964,2.8153153153153156,7.066666666666667,7.046846846846847,9.762162162162163,2.8153153153153156,7.750450450450451,6.72972972972973,8.00810810810811,7.84954954954955,7.641441441441442,0.44684684684684695,7.472972972972974,5.6000000000000005,3.5288288288288294,3.7072072072072078,4.559459459459459,4.440540540540541,0.8333333333333334,8.612612612612613,9.682882882882884,1.3783783783783785,7.443243243243244,1.0216216216216218,6.838738738738739,7.215315315315316,1.1603603603603605,4.757657657657658,7.532432432432433,7.363963963963965,0.7837837837837839,7.522522522522523,7.770270270270271,6.918018018018018,6.937837837837838,2.8252252252252257,4.52972972972973,8.394594594594595,9.791891891891893,1.447747747747748,6.918018018018018,1.3882882882882885,6.898198198198199,7.205405405405406,1.665765765765766,6.838738738738739,0.5657657657657659,4.688288288288288,3.558558558558559,8.156756756756756,8.612612612612613,2.8153153153153156,7.046846846846847,7.710810810810811,6.848648648648649,7.066666666666667,7.096396396396397,7.86936936936937,0.5954954954954955,8.572972972972973]},\"selected\":{\"id\":\"1067\",\"type\":\"Selection\"},\"selection_policy\":{\"id\":\"1066\",\"type\":\"UnionRenderers\"}},\"id\":\"1002\",\"type\":\"ColumnDataSource\"},{\"attributes\":{\"line_alpha\":0.1,\"line_color\":\"#1f77b4\",\"line_dash\":[2,4],\"x\":{\"field\":\"x\"},\"y\":{\"field\":\"y\"}},\"id\":\"1055\",\"type\":\"Line\"},{\"attributes\":{\"dimension\":1,\"ticker\":{\"id\":\"1020\",\"type\":\"BasicTicker\"}},\"id\":\"1023\",\"type\":\"Grid\"},{\"attributes\":{},\"id\":\"1010\",\"type\":\"LinearScale\"},{\"attributes\":{},\"id\":\"1015\",\"type\":\"BasicTicker\"},{\"attributes\":{\"line_alpha\":0.1,\"line_color\":\"#1f77b4\",\"line_dash\":[2,4],\"x\":{\"field\":\"x\"},\"y\":{\"field\":\"y\"}},\"id\":\"1071\",\"type\":\"Line\"},{\"attributes\":{\"line_color\":\"lightsteelblue\",\"line_dash\":[4,4],\"line_width\":2,\"x\":{\"field\":\"x\"},\"y\":{\"field\":\"y\"}},\"id\":\"1036\",\"type\":\"Line\"},{\"attributes\":{\"label\":{\"value\":\"y=x\"},\"renderers\":[{\"id\":\"1038\",\"type\":\"GlyphRenderer\"}]},\"id\":\"1047\",\"type\":\"LegendItem\"},{\"attributes\":{},\"id\":\"1044\",\"type\":\"BasicTickFormatter\"},{\"attributes\":{},\"id\":\"1020\",\"type\":\"BasicTicker\"},{\"attributes\":{},\"id\":\"1064\",\"type\":\"UnionRenderers\"},{\"attributes\":{},\"id\":\"1084\",\"type\":\"UnionRenderers\"},{\"attributes\":{\"data_source\":{\"id\":\"1002\",\"type\":\"ColumnDataSource\"},\"glyph\":{\"id\":\"1049\",\"type\":\"Circle\"},\"hover_glyph\":null,\"muted_glyph\":null,\"nonselection_glyph\":{\"id\":\"1050\",\"type\":\"Circle\"},\"selection_glyph\":null,\"view\":{\"id\":\"1052\",\"type\":\"CDSView\"}},\"id\":\"1051\",\"type\":\"GlyphRenderer\"},{\"attributes\":{\"label\":{\"value\":\"y=0.5*x\"},\"renderers\":[{\"id\":\"1072\",\"type\":\"GlyphRenderer\"}]},\"id\":\"1086\",\"type\":\"LegendItem\"},{\"attributes\":{},\"id\":\"1067\",\"type\":\"Selection\"},{\"attributes\":{},\"id\":\"1042\",\"type\":\"BasicTickFormatter\"},{\"attributes\":{},\"id\":\"1027\",\"type\":\"SaveTool\"},{\"attributes\":{\"callback\":null,\"data\":{\"x\":[7.0,8.88,2.85,10.69,8.74,12.83,6.72,2.67,6.41,2.81,2.19,10.68,11.96,7.7,3.56,8.6,3.72,11.19,10.5,0.84,3.32,1.54,1.37,12.11,10.51,3.2,11.11,1.18,5.62,1.85,3.83,2.38,2.7,12.12,8.23,3.54,8.01,6.32,11.72,7.97,1.45,12.32,2.78,10.03,1.45,1.68,3.15,0.57,1.18,6.4,2.99,0.96,6.24,7.59,3.91,6.42,1.03,8.52,9.73,9.44,8.54],\"y\":[7.0,8.88,2.85,10.69,8.74,12.83,6.72,2.67,6.41,2.81,2.19,10.68,11.96,7.7,3.56,8.6,3.72,11.19,10.5,0.84,3.32,1.54,1.37,12.11,10.51,3.2,11.11,1.18,5.62,1.85,3.83,2.38,2.7,12.12,8.23,3.54,8.01,6.32,11.72,7.97,1.45,12.32,2.78,10.03,1.45,1.68,3.15,0.57,1.18,6.4,2.99,0.96,6.24,7.59,3.91,6.42,1.03,8.52,9.73,9.44,8.54]},\"selected\":{\"id\":\"1065\",\"type\":\"Selection\"},\"selection_policy\":{\"id\":\"1064\",\"type\":\"UnionRenderers\"}},\"id\":\"1035\",\"type\":\"ColumnDataSource\"},{\"attributes\":{},\"id\":\"1066\",\"type\":\"UnionRenderers\"},{\"attributes\":{\"axis_label\":\"TESS PDM Period\",\"formatter\":{\"id\":\"1044\",\"type\":\"BasicTickFormatter\"},\"ticker\":{\"id\":\"1020\",\"type\":\"BasicTicker\"}},\"id\":\"1019\",\"type\":\"LinearAxis\"},{\"attributes\":{\"text\":\"PDM Period vs McQuillan Periods\"},\"id\":\"1004\",\"type\":\"Title\"},{\"attributes\":{\"data_source\":{\"id\":\"1035\",\"type\":\"ColumnDataSource\"},\"glyph\":{\"id\":\"1036\",\"type\":\"Line\"},\"hover_glyph\":null,\"muted_glyph\":null,\"name\":\"y=x\",\"nonselection_glyph\":{\"id\":\"1037\",\"type\":\"Line\"},\"selection_glyph\":null,\"view\":{\"id\":\"1039\",\"type\":\"CDSView\"}},\"id\":\"1038\",\"type\":\"GlyphRenderer\"},{\"attributes\":{\"data_source\":{\"id\":\"1069\",\"type\":\"ColumnDataSource\"},\"glyph\":{\"id\":\"1070\",\"type\":\"Line\"},\"hover_glyph\":null,\"muted_glyph\":null,\"nonselection_glyph\":{\"id\":\"1071\",\"type\":\"Line\"},\"selection_glyph\":null,\"view\":{\"id\":\"1073\",\"type\":\"CDSView\"}},\"id\":\"1072\",\"type\":\"GlyphRenderer\"},{\"attributes\":{\"label\":{\"value\":\"y=2x\"},\"renderers\":[{\"id\":\"1056\",\"type\":\"GlyphRenderer\"}]},\"id\":\"1068\",\"type\":\"LegendItem\"},{\"attributes\":{\"source\":{\"id\":\"1053\",\"type\":\"ColumnDataSource\"}},\"id\":\"1057\",\"type\":\"CDSView\"},{\"attributes\":{\"callback\":null,\"data\":{\"x\":[7.0,8.88,2.85,10.69,8.74,12.83,6.72,2.67,6.41,2.81,2.19,10.68,11.96,7.7,3.56,8.6,3.72,11.19,10.5,0.84,3.32,1.54,1.37,12.11,10.51,3.2,11.11,1.18,5.62,1.85,3.83,2.38,2.7,12.12,8.23,3.54,8.01,6.32,11.72,7.97,1.45,12.32,2.78,10.03,1.45,1.68,3.15,0.57,1.18,6.4,2.99,0.96,6.24,7.59,3.91,6.42,1.03,8.52,9.73,9.44,8.54],\"y\":[3.5,4.44,1.425,5.345,4.37,6.415,3.36,1.335,3.205,1.405,1.095,5.34,5.98,3.85,1.78,4.3,1.86,5.595,5.25,0.42,1.66,0.77,0.685,6.055,5.255,1.6,5.555,0.59,2.81,0.925,1.915,1.19,1.35,6.06,4.115,1.77,4.005,3.16,5.86,3.985,0.725,6.16,1.39,5.015,0.725,0.84,1.575,0.285,0.59,3.2,1.495,0.48,3.12,3.795,1.955,3.21,0.515,4.26,4.865,4.72,4.27]},\"selected\":{\"id\":\"1101\",\"type\":\"Selection\"},\"selection_policy\":{\"id\":\"1100\",\"type\":\"UnionRenderers\"}},\"id\":\"1069\",\"type\":\"ColumnDataSource\"},{\"attributes\":{},\"id\":\"1065\",\"type\":\"Selection\"},{\"attributes\":{\"data_source\":{\"id\":\"1053\",\"type\":\"ColumnDataSource\"},\"glyph\":{\"id\":\"1054\",\"type\":\"Line\"},\"hover_glyph\":null,\"muted_glyph\":null,\"nonselection_glyph\":{\"id\":\"1055\",\"type\":\"Line\"},\"selection_glyph\":null,\"view\":{\"id\":\"1057\",\"type\":\"CDSView\"}},\"id\":\"1056\",\"type\":\"GlyphRenderer\"},{\"attributes\":{\"callback\":null,\"tooltips\":[[\"index\",\"$index\"],[\"(x,y)\",\"($x, $y)\"],[\"TIC ID\",\"@tess\"]]},\"id\":\"1028\",\"type\":\"HoverTool\"}],\"root_ids\":[\"1003\"]},\"title\":\"Bokeh Application\",\"version\":\"1.3.4\"}};\n",
       "  var render_items = [{\"docid\":\"893de0d3-259e-458e-bdf5-c7811ecbd731\",\"roots\":{\"1003\":\"24778e10-f94d-4140-9a21-a68bafdf70d3\"}}];\n",
       "  root.Bokeh.embed.embed_items_notebook(docs_json, render_items);\n",
       "\n",
       "  }\n",
       "  if (root.Bokeh !== undefined) {\n",
       "    embed_document(root);\n",
       "  } else {\n",
       "    var attempts = 0;\n",
       "    var timer = setInterval(function(root) {\n",
       "      if (root.Bokeh !== undefined) {\n",
       "        embed_document(root);\n",
       "        clearInterval(timer);\n",
       "      }\n",
       "      attempts++;\n",
       "      if (attempts > 100) {\n",
       "        console.log(\"Bokeh: ERROR: Unable to run BokehJS code because BokehJS library is missing\");\n",
       "        clearInterval(timer);\n",
       "      }\n",
       "    }, 10, root)\n",
       "  }\n",
       "})(window);"
      ],
      "application/vnd.bokehjs_exec.v0+json": ""
     },
     "metadata": {
      "application/vnd.bokehjs_exec.v0+json": {
       "id": "1003"
      }
     },
     "output_type": "display_data"
    }
   ],
   "source": [
    "x =  short_periods\n",
    "y = short_tess_period\n",
    "\n",
    "source = ColumnDataSource(data=dict(\n",
    "    x =  short_periods,\n",
    "    y = short_tess_period, \n",
    "    tess = (cat['tic_id'])[0:61]))\n",
    "\n",
    "x2 = [i*2 for i in x]\n",
    "x_half = [float(i)*0.5 for i in x]\n",
    "\n",
    "pdm_plot = figure(\n",
    "   tools=\"pan,box_zoom,reset,save,hover\",\n",
    "   y_range=[0, 15], title=\"PDM Period vs McQuillan Periods\",\n",
    "   x_axis_label='McQuillan Period', y_axis_label='TESS PDM Period', plot_width=900)\n",
    "\n",
    "pdm_plot.line(x, x, name = \"y=x\", color = 'lightsteelblue', line_dash=\"4 4\", legend = \"y=x\", line_width = 2)\n",
    "pdm_plot.circle('x', 'y', source = source, color=\"mediumvioletred\", line_color=None)\n",
    "pdm_plot.line(x, x2, legend=\"y=2x\", line_width=1, color = 'khaki', line_dash=\"dotted\")\n",
    "pdm_plot.line(x, x_half, legend=\"y=0.5*x\", line_width=1, color = 'rosybrown', line_dash=\"dotted\")\n",
    "\n",
    "pdm_plot.hover.tooltips = [\n",
    "    (\"index\", \"$index\"), \n",
    "    (\"(x,y)\", \"($x, $y)\"), \n",
    "    (\"TIC ID\", \"@tess\")] \n",
    "\n",
    "show(pdm_plot)"
   ]
  },
  {
   "cell_type": "code",
   "execution_count": 15,
   "metadata": {},
   "outputs": [],
   "source": [
    "#finding differences between PDM and McQ tess periods\n",
    "differences_mcq_pdm = []\n",
    "\n",
    "for indx, period in enumerate(short_tess_period):\n",
    "    diff = np.abs(period - short_periods[indx])\n",
    "    differences_mcq_pdm.append(diff)"
   ]
  },
  {
   "cell_type": "code",
   "execution_count": 16,
   "metadata": {},
   "outputs": [
    {
     "data": {
      "text/html": [
       "\n",
       "\n",
       "\n",
       "\n",
       "\n",
       "\n",
       "  <div class=\"bk-root\" id=\"f2ea111a-c949-44ef-8c61-db25b7a13eec\" data-root-id=\"1187\"></div>\n"
      ]
     },
     "metadata": {},
     "output_type": "display_data"
    },
    {
     "data": {
      "application/javascript": [
       "(function(root) {\n",
       "  function embed_document(root) {\n",
       "    \n",
       "  var docs_json = {\"43bff101-abdb-49c2-9473-3d4e5208b2bc\":{\"roots\":{\"references\":[{\"attributes\":{\"below\":[{\"id\":\"1198\",\"type\":\"LinearAxis\"}],\"center\":[{\"id\":\"1202\",\"type\":\"Grid\"},{\"id\":\"1207\",\"type\":\"Grid\"},{\"id\":\"1230\",\"type\":\"Legend\"}],\"left\":[{\"id\":\"1203\",\"type\":\"LinearAxis\"}],\"plot_width\":900,\"renderers\":[{\"id\":\"1222\",\"type\":\"GlyphRenderer\"},{\"id\":\"1235\",\"type\":\"GlyphRenderer\"}],\"title\":{\"id\":\"1188\",\"type\":\"Title\"},\"toolbar\":{\"id\":\"1213\",\"type\":\"Toolbar\"},\"x_range\":{\"id\":\"1190\",\"type\":\"DataRange1d\"},\"x_scale\":{\"id\":\"1194\",\"type\":\"LinearScale\"},\"y_range\":{\"id\":\"1192\",\"type\":\"Range1d\"},\"y_scale\":{\"id\":\"1196\",\"type\":\"LinearScale\"}},\"id\":\"1187\",\"subtype\":\"Figure\",\"type\":\"Plot\"},{\"attributes\":{},\"id\":\"1260\",\"type\":\"UnionRenderers\"},{\"attributes\":{\"ticker\":{\"id\":\"1199\",\"type\":\"BasicTicker\"}},\"id\":\"1202\",\"type\":\"Grid\"},{\"attributes\":{\"source\":{\"id\":\"1219\",\"type\":\"ColumnDataSource\"}},\"id\":\"1223\",\"type\":\"CDSView\"},{\"attributes\":{\"text\":\"Differences Between McQ and PDM TESS Periods\"},\"id\":\"1188\",\"type\":\"Title\"},{\"attributes\":{},\"id\":\"1196\",\"type\":\"LinearScale\"},{\"attributes\":{},\"id\":\"1211\",\"type\":\"SaveTool\"},{\"attributes\":{\"callback\":null,\"tooltips\":[[\"index\",\"$index\"],[\"(x,y)\",\"($x, $y)\"],[\"TIC ID\",\"@tess\"]]},\"id\":\"1212\",\"type\":\"HoverTool\"},{\"attributes\":{\"line_alpha\":0.1,\"line_color\":\"#1f77b4\",\"line_dash\":[4,4],\"line_width\":2,\"x\":{\"field\":\"x\"},\"y\":{\"field\":\"y\"}},\"id\":\"1221\",\"type\":\"Line\"},{\"attributes\":{\"label\":{\"value\":\"y=0\"},\"renderers\":[{\"id\":\"1222\",\"type\":\"GlyphRenderer\"}]},\"id\":\"1231\",\"type\":\"LegendItem\"},{\"attributes\":{\"line_color\":\"bisque\",\"line_dash\":[4,4],\"line_width\":2,\"x\":{\"field\":\"x\"},\"y\":{\"field\":\"y\"}},\"id\":\"1220\",\"type\":\"Line\"},{\"attributes\":{},\"id\":\"1261\",\"type\":\"Selection\"},{\"attributes\":{},\"id\":\"1226\",\"type\":\"BasicTickFormatter\"},{\"attributes\":{\"overlay\":{\"id\":\"1229\",\"type\":\"BoxAnnotation\"}},\"id\":\"1209\",\"type\":\"BoxZoomTool\"},{\"attributes\":{\"fill_color\":{\"value\":\"mediumseagreen\"},\"line_color\":{\"value\":null},\"x\":{\"field\":\"x\"},\"y\":{\"field\":\"y\"}},\"id\":\"1233\",\"type\":\"Circle\"},{\"attributes\":{\"axis_label\":\"McQuillan Period\",\"formatter\":{\"id\":\"1226\",\"type\":\"BasicTickFormatter\"},\"ticker\":{\"id\":\"1199\",\"type\":\"BasicTicker\"}},\"id\":\"1198\",\"type\":\"LinearAxis\"},{\"attributes\":{\"callback\":null,\"data\":{\"x\":[7.0,8.88,2.85,10.69,8.74,12.83,6.72,2.67,6.41,2.81,2.19,10.68,11.96,7.7,3.56,8.6,3.72,11.19,10.5,0.84,3.32,1.54,1.37,12.11,10.51,3.2,11.11,1.18,5.62,1.85,3.83,2.38,2.7,12.12,8.23,3.54,8.01,6.32,11.72,7.97,1.45,12.32,2.78,10.03,1.45,1.68,3.15,0.57,1.18,6.4,2.99,0.96,6.24,7.59,3.91,6.42,1.03,8.52,9.73,9.44,8.54],\"y\":[0.0,0.0,0.0,0.0,0.0,0.0,0.0,0.0,0.0,0.0,0.0,0.0,0.0,0.0,0.0,0.0,0.0,0.0,0.0,0.0,0.0,0.0,0.0,0.0,0.0,0.0,0.0,0.0,0.0,0.0,0.0,0.0,0.0,0.0,0.0,0.0,0.0,0.0,0.0,0.0,0.0,0.0,0.0,0.0,0.0,0.0,0.0,0.0,0.0,0.0,0.0,0.0,0.0,0.0,0.0,0.0,0.0,0.0,0.0,0.0,0.0]},\"selected\":{\"id\":\"1259\",\"type\":\"Selection\"},\"selection_policy\":{\"id\":\"1258\",\"type\":\"UnionRenderers\"}},\"id\":\"1219\",\"type\":\"ColumnDataSource\"},{\"attributes\":{\"callback\":null,\"data\":{\"tess\":[275493837,121789795,63007124,275490626,171098535,63210277,351803000,170253623,158791870,164724054,122684770,121457565,273582401,267991320,137218354,184089663,272370950,159172008,121659832,138728898,169460055,169466444,122213500,63209318,120963553,267746802,271165094,27395090,298964604,270608620,185058148,271426791,273687618,272719990,239227465,27186774,271538184,121215119,121939294,352013209,185058255,170344764,378084176,120422997,63075888,270856793,26597576,158412743,121329643,351055098,120890400,137408312,267671733,279916031,271547585,158936101,121939266,239225673,27389081,121785547,138725623],\"x\":[7.0,8.88,2.85,10.69,8.74,12.83,6.72,2.67,6.41,2.81,2.19,10.68,11.96,7.7,3.56,8.6,3.72,11.19,10.5,0.84,3.32,1.54,1.37,12.11,10.51,3.2,11.11,1.18,5.62,1.85,3.83,2.38,2.7,12.12,8.23,3.54,8.01,6.32,11.72,7.97,1.45,12.32,2.78,10.03,1.45,1.68,3.15,0.57,1.18,6.4,2.99,0.96,6.24,7.59,3.91,6.42,1.03,8.52,9.73,9.44,8.54],\"y\":[0.7306306306306309,1.0403603603603608,0.03468468468468444,3.623333333333332,1.693153153153153,3.0678378378378373,3.904684684684684,5.080450450450451,0.3197297297297297,5.198108108108109,5.659549549549551,3.0385585585585577,11.513153153153153,0.22702702702702648,2.0400000000000005,5.07117117117117,0.01279279279279244,6.63054054054054,6.059459459459459,0.006666666666666599,5.292612612612613,8.142882882882883,0.008378378378378404,4.666756756756755,9.488378378378378,3.6387387387387387,3.894684684684684,0.01963963963963944,0.862342342342342,5.682432432432433,3.5339639639639646,1.5962162162162161,4.822522522522523,4.349729729729728,1.3119819819819822,3.397837837837838,5.184774774774774,1.7902702702702706,3.325405405405405,1.8218918918918936,0.002252252252251896,5.401981981981982,1.3917117117117113,3.1318018018018003,5.755405405405406,0.014234234234233867,3.688738738738739,0.00423423423423408,3.5082882882882886,2.8414414414414413,5.166756756756756,7.6526126126126135,3.4246846846846846,0.5431531531531526,3.8008108108108107,0.4286486486486494,6.036666666666667,1.4236036036036026,1.8606306306306308,8.844504504504505,0.03297297297297419]},\"selected\":{\"id\":\"1261\",\"type\":\"Selection\"},\"selection_policy\":{\"id\":\"1260\",\"type\":\"UnionRenderers\"}},\"id\":\"1186\",\"type\":\"ColumnDataSource\"},{\"attributes\":{},\"id\":\"1258\",\"type\":\"UnionRenderers\"},{\"attributes\":{},\"id\":\"1194\",\"type\":\"LinearScale\"},{\"attributes\":{\"source\":{\"id\":\"1186\",\"type\":\"ColumnDataSource\"}},\"id\":\"1236\",\"type\":\"CDSView\"},{\"attributes\":{\"dimension\":1,\"ticker\":{\"id\":\"1204\",\"type\":\"BasicTicker\"}},\"id\":\"1207\",\"type\":\"Grid\"},{\"attributes\":{\"fill_alpha\":{\"value\":0.1},\"fill_color\":{\"value\":\"#1f77b4\"},\"line_alpha\":{\"value\":0.1},\"line_color\":{\"value\":\"#1f77b4\"},\"x\":{\"field\":\"x\"},\"y\":{\"field\":\"y\"}},\"id\":\"1234\",\"type\":\"Circle\"},{\"attributes\":{},\"id\":\"1208\",\"type\":\"PanTool\"},{\"attributes\":{},\"id\":\"1204\",\"type\":\"BasicTicker\"},{\"attributes\":{},\"id\":\"1210\",\"type\":\"ResetTool\"},{\"attributes\":{\"bottom_units\":\"screen\",\"fill_alpha\":{\"value\":0.5},\"fill_color\":{\"value\":\"lightgrey\"},\"left_units\":\"screen\",\"level\":\"overlay\",\"line_alpha\":{\"value\":1.0},\"line_color\":{\"value\":\"black\"},\"line_dash\":[4,4],\"line_width\":{\"value\":2},\"render_mode\":\"css\",\"right_units\":\"screen\",\"top_units\":\"screen\"},\"id\":\"1229\",\"type\":\"BoxAnnotation\"},{\"attributes\":{\"active_drag\":\"auto\",\"active_inspect\":\"auto\",\"active_multi\":null,\"active_scroll\":\"auto\",\"active_tap\":\"auto\",\"tools\":[{\"id\":\"1208\",\"type\":\"PanTool\"},{\"id\":\"1209\",\"type\":\"BoxZoomTool\"},{\"id\":\"1210\",\"type\":\"ResetTool\"},{\"id\":\"1211\",\"type\":\"SaveTool\"},{\"id\":\"1212\",\"type\":\"HoverTool\"}]},\"id\":\"1213\",\"type\":\"Toolbar\"},{\"attributes\":{},\"id\":\"1199\",\"type\":\"BasicTicker\"},{\"attributes\":{},\"id\":\"1259\",\"type\":\"Selection\"},{\"attributes\":{\"data_source\":{\"id\":\"1219\",\"type\":\"ColumnDataSource\"},\"glyph\":{\"id\":\"1220\",\"type\":\"Line\"},\"hover_glyph\":null,\"muted_glyph\":null,\"name\":\"y=0\",\"nonselection_glyph\":{\"id\":\"1221\",\"type\":\"Line\"},\"selection_glyph\":null,\"view\":{\"id\":\"1223\",\"type\":\"CDSView\"}},\"id\":\"1222\",\"type\":\"GlyphRenderer\"},{\"attributes\":{\"data_source\":{\"id\":\"1186\",\"type\":\"ColumnDataSource\"},\"glyph\":{\"id\":\"1233\",\"type\":\"Circle\"},\"hover_glyph\":null,\"muted_glyph\":null,\"nonselection_glyph\":{\"id\":\"1234\",\"type\":\"Circle\"},\"selection_glyph\":null,\"view\":{\"id\":\"1236\",\"type\":\"CDSView\"}},\"id\":\"1235\",\"type\":\"GlyphRenderer\"},{\"attributes\":{\"items\":[{\"id\":\"1231\",\"type\":\"LegendItem\"}]},\"id\":\"1230\",\"type\":\"Legend\"},{\"attributes\":{\"axis_label\":\"Difference Between Period Calculations\",\"formatter\":{\"id\":\"1228\",\"type\":\"BasicTickFormatter\"},\"ticker\":{\"id\":\"1204\",\"type\":\"BasicTicker\"}},\"id\":\"1203\",\"type\":\"LinearAxis\"},{\"attributes\":{\"callback\":null},\"id\":\"1190\",\"type\":\"DataRange1d\"},{\"attributes\":{\"callback\":null,\"end\":12,\"start\":-1},\"id\":\"1192\",\"type\":\"Range1d\"},{\"attributes\":{},\"id\":\"1228\",\"type\":\"BasicTickFormatter\"}],\"root_ids\":[\"1187\"]},\"title\":\"Bokeh Application\",\"version\":\"1.3.4\"}};\n",
       "  var render_items = [{\"docid\":\"43bff101-abdb-49c2-9473-3d4e5208b2bc\",\"roots\":{\"1187\":\"f2ea111a-c949-44ef-8c61-db25b7a13eec\"}}];\n",
       "  root.Bokeh.embed.embed_items_notebook(docs_json, render_items);\n",
       "\n",
       "  }\n",
       "  if (root.Bokeh !== undefined) {\n",
       "    embed_document(root);\n",
       "  } else {\n",
       "    var attempts = 0;\n",
       "    var timer = setInterval(function(root) {\n",
       "      if (root.Bokeh !== undefined) {\n",
       "        embed_document(root);\n",
       "        clearInterval(timer);\n",
       "      }\n",
       "      attempts++;\n",
       "      if (attempts > 100) {\n",
       "        console.log(\"Bokeh: ERROR: Unable to run BokehJS code because BokehJS library is missing\");\n",
       "        clearInterval(timer);\n",
       "      }\n",
       "    }, 10, root)\n",
       "  }\n",
       "})(window);"
      ],
      "application/vnd.bokehjs_exec.v0+json": ""
     },
     "metadata": {
      "application/vnd.bokehjs_exec.v0+json": {
       "id": "1187"
      }
     },
     "output_type": "display_data"
    }
   ],
   "source": [
    "x =  short_periods\n",
    "y = differences_mcq_pdm\n",
    "\n",
    "source = ColumnDataSource(data=dict(\n",
    "    x = short_periods,\n",
    "    y = differences_mcq_pdm, \n",
    "    tess = (cat['tic_id'])[0:61]))\n",
    "\n",
    "x2 = [i*2 for i in x]\n",
    "x_half = [float(i)*0.5 for i in x]\n",
    "x_0 = [i*0 for i in x]\n",
    "\n",
    "pdm_diff = figure(\n",
    "   tools=\"pan,box_zoom,reset,save,hover\",\n",
    "   y_range=[-1, 12], title=\"Differences Between McQ and PDM TESS Periods\",\n",
    "   x_axis_label='McQuillan Period', y_axis_label='Difference Between Period Calculations', plot_width=900)\n",
    "\n",
    "pdm_diff.line(x, x_0, name = \"y=0\", color = 'bisque', line_dash=\"4 4\", legend = \"y=0\", line_width = 2)\n",
    "pdm_diff.circle('x', 'y', source = source, color=\"mediumseagreen\", line_color=None)\n",
    "\n",
    "\n",
    "pdm_diff.hover.tooltips = [\n",
    "    (\"index\", \"$index\"), \n",
    "    (\"(x,y)\", \"($x, $y)\"), \n",
    "    (\"TIC ID\", \"@tess\")] \n",
    "\n",
    "show(pdm_diff)"
   ]
  },
  {
   "cell_type": "code",
   "execution_count": 17,
   "metadata": {},
   "outputs": [
    {
     "data": {
      "text/html": [
       "\n",
       "\n",
       "\n",
       "\n",
       "\n",
       "\n",
       "  <div class=\"bk-root\" id=\"326d0496-179e-4733-8a87-2b18df810cdc\" data-root-id=\"1323\"></div>\n"
      ]
     },
     "metadata": {},
     "output_type": "display_data"
    },
    {
     "data": {
      "application/javascript": [
       "(function(root) {\n",
       "  function embed_document(root) {\n",
       "    \n",
       "  var docs_json = {\"efdbe14c-04d5-4e48-8ced-dbceff17c471\":{\"roots\":{\"references\":[{\"attributes\":{\"below\":[{\"id\":\"1334\",\"type\":\"LinearAxis\"}],\"center\":[{\"id\":\"1338\",\"type\":\"Grid\"},{\"id\":\"1343\",\"type\":\"Grid\"},{\"id\":\"1366\",\"type\":\"Legend\"}],\"left\":[{\"id\":\"1339\",\"type\":\"LinearAxis\"}],\"plot_width\":900,\"renderers\":[{\"id\":\"1358\",\"type\":\"GlyphRenderer\"},{\"id\":\"1371\",\"type\":\"GlyphRenderer\"},{\"id\":\"1376\",\"type\":\"GlyphRenderer\"},{\"id\":\"1392\",\"type\":\"GlyphRenderer\"}],\"title\":{\"id\":\"1324\",\"type\":\"Title\"},\"toolbar\":{\"id\":\"1349\",\"type\":\"Toolbar\"},\"x_range\":{\"id\":\"1326\",\"type\":\"DataRange1d\"},\"x_scale\":{\"id\":\"1330\",\"type\":\"LinearScale\"},\"y_range\":{\"id\":\"1328\",\"type\":\"Range1d\"},\"y_scale\":{\"id\":\"1332\",\"type\":\"LinearScale\"}},\"id\":\"1323\",\"subtype\":\"Figure\",\"type\":\"Plot\"},{\"attributes\":{},\"id\":\"1387\",\"type\":\"Selection\"},{\"attributes\":{},\"id\":\"1346\",\"type\":\"ResetTool\"},{\"attributes\":{},\"id\":\"1347\",\"type\":\"SaveTool\"},{\"attributes\":{\"label\":{\"value\":\"y=0.5*x\"},\"renderers\":[{\"id\":\"1392\",\"type\":\"GlyphRenderer\"}]},\"id\":\"1406\",\"type\":\"LegendItem\"},{\"attributes\":{},\"id\":\"1386\",\"type\":\"UnionRenderers\"},{\"attributes\":{\"line_alpha\":0.1,\"line_color\":\"#1f77b4\",\"line_dash\":[4,4],\"line_width\":2,\"x\":{\"field\":\"x\"},\"y\":{\"field\":\"y\"}},\"id\":\"1357\",\"type\":\"Line\"},{\"attributes\":{\"source\":{\"id\":\"1373\",\"type\":\"ColumnDataSource\"}},\"id\":\"1377\",\"type\":\"CDSView\"},{\"attributes\":{\"line_alpha\":0.1,\"line_color\":\"#1f77b4\",\"line_dash\":[2,4],\"x\":{\"field\":\"x\"},\"y\":{\"field\":\"y\"}},\"id\":\"1375\",\"type\":\"Line\"},{\"attributes\":{},\"id\":\"1385\",\"type\":\"Selection\"},{\"attributes\":{\"line_alpha\":0.1,\"line_color\":\"#1f77b4\",\"line_dash\":[2,4],\"x\":{\"field\":\"x\"},\"y\":{\"field\":\"y\"}},\"id\":\"1391\",\"type\":\"Line\"},{\"attributes\":{\"label\":{\"value\":\"y=2x\"},\"renderers\":[{\"id\":\"1376\",\"type\":\"GlyphRenderer\"}]},\"id\":\"1388\",\"type\":\"LegendItem\"},{\"attributes\":{\"line_color\":\"skyblue\",\"line_dash\":[2,4],\"x\":{\"field\":\"x\"},\"y\":{\"field\":\"y\"}},\"id\":\"1390\",\"type\":\"Line\"},{\"attributes\":{},\"id\":\"1384\",\"type\":\"UnionRenderers\"},{\"attributes\":{},\"id\":\"1444\",\"type\":\"UnionRenderers\"},{\"attributes\":{\"data_source\":{\"id\":\"1389\",\"type\":\"ColumnDataSource\"},\"glyph\":{\"id\":\"1390\",\"type\":\"Line\"},\"hover_glyph\":null,\"muted_glyph\":null,\"nonselection_glyph\":{\"id\":\"1391\",\"type\":\"Line\"},\"selection_glyph\":null,\"view\":{\"id\":\"1393\",\"type\":\"CDSView\"}},\"id\":\"1392\",\"type\":\"GlyphRenderer\"},{\"attributes\":{},\"id\":\"1330\",\"type\":\"LinearScale\"},{\"attributes\":{\"callback\":null,\"data\":{\"x\":[7.0,8.88,2.85,10.69,8.74,12.83,6.72,2.67,6.41,2.81,2.19,10.68,11.96,7.7,3.56,8.6,3.72,11.19,10.5,0.84,3.32,1.54,1.37,12.11,10.51,3.2,11.11,1.18,5.62,1.85,3.83,2.38,2.7,12.12,8.23,3.54,8.01,6.32,11.72,7.97,1.45,12.32,2.78,10.03,1.45,1.68,3.15,0.57,1.18,6.4,2.99,0.96,6.24,7.59,3.91,6.42,1.03,8.52,9.73,9.44,8.54],\"y\":[3.5,4.44,1.425,5.345,4.37,6.415,3.36,1.335,3.205,1.405,1.095,5.34,5.98,3.85,1.78,4.3,1.86,5.595,5.25,0.42,1.66,0.77,0.685,6.055,5.255,1.6,5.555,0.59,2.81,0.925,1.915,1.19,1.35,6.06,4.115,1.77,4.005,3.16,5.86,3.985,0.725,6.16,1.39,5.015,0.725,0.84,1.575,0.285,0.59,3.2,1.495,0.48,3.12,3.795,1.955,3.21,0.515,4.26,4.865,4.72,4.27]},\"selected\":{\"id\":\"1445\",\"type\":\"Selection\"},\"selection_policy\":{\"id\":\"1444\",\"type\":\"UnionRenderers\"}},\"id\":\"1389\",\"type\":\"ColumnDataSource\"},{\"attributes\":{\"ticker\":{\"id\":\"1335\",\"type\":\"BasicTicker\"}},\"id\":\"1338\",\"type\":\"Grid\"},{\"attributes\":{\"fill_alpha\":{\"value\":0.1},\"fill_color\":{\"value\":\"#1f77b4\"},\"line_alpha\":{\"value\":0.1},\"line_color\":{\"value\":\"#1f77b4\"},\"x\":{\"field\":\"x\"},\"y\":{\"field\":\"y\"}},\"id\":\"1370\",\"type\":\"Circle\"},{\"attributes\":{\"callback\":null,\"data\":{\"tess\":[275493837,121789795,63007124,275490626,171098535,63210277,351803000,170253623,158791870,164724054,122684770,121457565,273582401,267991320,137218354,184089663,272370950,159172008,121659832,138728898,169460055,169466444,122213500,63209318,120963553,267746802,271165094,27395090,298964604,270608620,185058148,271426791,273687618,272719990,239227465,27186774,271538184,121215119,121939294,352013209,185058255,170344764,378084176,120422997,63075888,270856793,26597576,158412743,121329643,351055098,120890400,137408312,267671733,279916031,271547585,158936101,121939266,239225673,27389081,121785547,138725623],\"x\":[7.0,8.88,2.85,10.69,8.74,12.83,6.72,2.67,6.41,2.81,2.19,10.68,11.96,7.7,3.56,8.6,3.72,11.19,10.5,0.84,3.32,1.54,1.37,12.11,10.51,3.2,11.11,1.18,5.62,1.85,3.83,2.38,2.7,12.12,8.23,3.54,8.01,6.32,11.72,7.97,1.45,12.32,2.78,10.03,1.45,1.68,3.15,0.57,1.18,6.4,2.99,0.96,6.24,7.59,3.91,6.42,1.03,8.52,9.73,9.44,8.54],\"y\":[7.896067005262466,0.5187996694417052,0.6556020979678578,2.4663304390951453,1.1343089931267514,0.6225593780391137,0.35381523998466946,2.272325657862666,3.330690843164348,3.787223287507686,2.666620377551226,1.1205980496115444,0.1452628217898564,1.9921757191041252,0.8221136796107658,0.18731576214349843,3.724997754402011,2.80151447677099,2.843002666153552,0.8093290718020398,1.9610469827791803,1.6290142247673884,1.3696295360496151,1.3903741671238095,0.3320287480164552,2.2308219197952894,0.4876718291943689,1.1621017599209154,0.7781971774136309,1.7846587333706339,4.015474960653819,0.7055652248745901,13.198174563975044,2.0025659433204055,2.62512151145188,6.588747016103298,1.061463502670449,0.7678252174500813,3.1219025765039987,0.9649590065168923,1.442261670930293,3.6419800904702697,1.3903830366843977,2.884498889497081,1.338494274118375,1.6705306774572364,3.3825642836027328,0.5706823268678818,0.7700772749890348,0.18676748487632722,5.302117542241376,3.1127996858685947,1.175936030627554,0.7492561485814804,2.8533895177702107,6.661415952095922,1.5817774082970573,1.3112205198394804,2.3449630919694755,0.14526366111249445,1.5771382194616308]},\"selected\":{\"id\":\"1387\",\"type\":\"Selection\"},\"selection_policy\":{\"id\":\"1386\",\"type\":\"UnionRenderers\"}},\"id\":\"1322\",\"type\":\"ColumnDataSource\"},{\"attributes\":{},\"id\":\"1445\",\"type\":\"Selection\"},{\"attributes\":{\"callback\":null},\"id\":\"1326\",\"type\":\"DataRange1d\"},{\"attributes\":{\"data_source\":{\"id\":\"1322\",\"type\":\"ColumnDataSource\"},\"glyph\":{\"id\":\"1369\",\"type\":\"Circle\"},\"hover_glyph\":null,\"muted_glyph\":null,\"nonselection_glyph\":{\"id\":\"1370\",\"type\":\"Circle\"},\"selection_glyph\":null,\"view\":{\"id\":\"1372\",\"type\":\"CDSView\"}},\"id\":\"1371\",\"type\":\"GlyphRenderer\"},{\"attributes\":{\"label\":{\"value\":\"y=x\"},\"renderers\":[{\"id\":\"1358\",\"type\":\"GlyphRenderer\"}]},\"id\":\"1367\",\"type\":\"LegendItem\"},{\"attributes\":{\"axis_label\":\"Exoplanet ACF Period\",\"formatter\":{\"id\":\"1364\",\"type\":\"BasicTickFormatter\"},\"ticker\":{\"id\":\"1340\",\"type\":\"BasicTicker\"}},\"id\":\"1339\",\"type\":\"LinearAxis\"},{\"attributes\":{\"source\":{\"id\":\"1322\",\"type\":\"ColumnDataSource\"}},\"id\":\"1372\",\"type\":\"CDSView\"},{\"attributes\":{\"source\":{\"id\":\"1389\",\"type\":\"ColumnDataSource\"}},\"id\":\"1393\",\"type\":\"CDSView\"},{\"attributes\":{\"items\":[{\"id\":\"1367\",\"type\":\"LegendItem\"},{\"id\":\"1388\",\"type\":\"LegendItem\"},{\"id\":\"1406\",\"type\":\"LegendItem\"}]},\"id\":\"1366\",\"type\":\"Legend\"},{\"attributes\":{},\"id\":\"1340\",\"type\":\"BasicTicker\"},{\"attributes\":{\"data_source\":{\"id\":\"1373\",\"type\":\"ColumnDataSource\"},\"glyph\":{\"id\":\"1374\",\"type\":\"Line\"},\"hover_glyph\":null,\"muted_glyph\":null,\"nonselection_glyph\":{\"id\":\"1375\",\"type\":\"Line\"},\"selection_glyph\":null,\"view\":{\"id\":\"1377\",\"type\":\"CDSView\"}},\"id\":\"1376\",\"type\":\"GlyphRenderer\"},{\"attributes\":{\"overlay\":{\"id\":\"1365\",\"type\":\"BoxAnnotation\"}},\"id\":\"1345\",\"type\":\"BoxZoomTool\"},{\"attributes\":{\"fill_color\":{\"value\":\"darkgreen\"},\"line_color\":{\"value\":null},\"x\":{\"field\":\"x\"},\"y\":{\"field\":\"y\"}},\"id\":\"1369\",\"type\":\"Circle\"},{\"attributes\":{},\"id\":\"1404\",\"type\":\"UnionRenderers\"},{\"attributes\":{\"active_drag\":\"auto\",\"active_inspect\":\"auto\",\"active_multi\":null,\"active_scroll\":\"auto\",\"active_tap\":\"auto\",\"tools\":[{\"id\":\"1344\",\"type\":\"PanTool\"},{\"id\":\"1345\",\"type\":\"BoxZoomTool\"},{\"id\":\"1346\",\"type\":\"ResetTool\"},{\"id\":\"1347\",\"type\":\"SaveTool\"},{\"id\":\"1348\",\"type\":\"HoverTool\"}]},\"id\":\"1349\",\"type\":\"Toolbar\"},{\"attributes\":{},\"id\":\"1405\",\"type\":\"Selection\"},{\"attributes\":{\"text\":\"Exoplanet ACF vs McQuillan Periods\"},\"id\":\"1324\",\"type\":\"Title\"},{\"attributes\":{\"line_color\":\"mediumpurple\",\"line_dash\":[2,4],\"x\":{\"field\":\"x\"},\"y\":{\"field\":\"y\"}},\"id\":\"1374\",\"type\":\"Line\"},{\"attributes\":{\"dimension\":1,\"ticker\":{\"id\":\"1340\",\"type\":\"BasicTicker\"}},\"id\":\"1343\",\"type\":\"Grid\"},{\"attributes\":{\"data_source\":{\"id\":\"1355\",\"type\":\"ColumnDataSource\"},\"glyph\":{\"id\":\"1356\",\"type\":\"Line\"},\"hover_glyph\":null,\"muted_glyph\":null,\"name\":\"y=x\",\"nonselection_glyph\":{\"id\":\"1357\",\"type\":\"Line\"},\"selection_glyph\":null,\"view\":{\"id\":\"1359\",\"type\":\"CDSView\"}},\"id\":\"1358\",\"type\":\"GlyphRenderer\"},{\"attributes\":{},\"id\":\"1332\",\"type\":\"LinearScale\"},{\"attributes\":{\"callback\":null,\"end\":15},\"id\":\"1328\",\"type\":\"Range1d\"},{\"attributes\":{\"callback\":null,\"data\":{\"x\":[7.0,8.88,2.85,10.69,8.74,12.83,6.72,2.67,6.41,2.81,2.19,10.68,11.96,7.7,3.56,8.6,3.72,11.19,10.5,0.84,3.32,1.54,1.37,12.11,10.51,3.2,11.11,1.18,5.62,1.85,3.83,2.38,2.7,12.12,8.23,3.54,8.01,6.32,11.72,7.97,1.45,12.32,2.78,10.03,1.45,1.68,3.15,0.57,1.18,6.4,2.99,0.96,6.24,7.59,3.91,6.42,1.03,8.52,9.73,9.44,8.54],\"y\":[14.0,17.76,5.7,21.38,17.48,25.66,13.44,5.34,12.82,5.62,4.38,21.36,23.92,15.4,7.12,17.2,7.44,22.38,21.0,1.68,6.64,3.08,2.74,24.22,21.02,6.4,22.22,2.36,11.24,3.7,7.66,4.76,5.4,24.24,16.46,7.08,16.02,12.64,23.44,15.94,2.9,24.64,5.56,20.06,2.9,3.36,6.3,1.14,2.36,12.8,5.98,1.92,12.48,15.18,7.82,12.84,2.06,17.04,19.46,18.88,17.08]},\"selected\":{\"id\":\"1405\",\"type\":\"Selection\"},\"selection_policy\":{\"id\":\"1404\",\"type\":\"UnionRenderers\"}},\"id\":\"1373\",\"type\":\"ColumnDataSource\"},{\"attributes\":{\"axis_label\":\"McQuillan Period\",\"formatter\":{\"id\":\"1362\",\"type\":\"BasicTickFormatter\"},\"ticker\":{\"id\":\"1335\",\"type\":\"BasicTicker\"}},\"id\":\"1334\",\"type\":\"LinearAxis\"},{\"attributes\":{},\"id\":\"1344\",\"type\":\"PanTool\"},{\"attributes\":{\"line_color\":\"lightseagreen\",\"line_dash\":[4,4],\"line_width\":2,\"x\":{\"field\":\"x\"},\"y\":{\"field\":\"y\"}},\"id\":\"1356\",\"type\":\"Line\"},{\"attributes\":{},\"id\":\"1364\",\"type\":\"BasicTickFormatter\"},{\"attributes\":{\"source\":{\"id\":\"1355\",\"type\":\"ColumnDataSource\"}},\"id\":\"1359\",\"type\":\"CDSView\"},{\"attributes\":{},\"id\":\"1335\",\"type\":\"BasicTicker\"},{\"attributes\":{\"callback\":null,\"tooltips\":[[\"index\",\"$index\"],[\"(x,y)\",\"($x, $y)\"],[\"TIC ID\",\"@tess\"]]},\"id\":\"1348\",\"type\":\"HoverTool\"},{\"attributes\":{\"bottom_units\":\"screen\",\"fill_alpha\":{\"value\":0.5},\"fill_color\":{\"value\":\"lightgrey\"},\"left_units\":\"screen\",\"level\":\"overlay\",\"line_alpha\":{\"value\":1.0},\"line_color\":{\"value\":\"black\"},\"line_dash\":[4,4],\"line_width\":{\"value\":2},\"render_mode\":\"css\",\"right_units\":\"screen\",\"top_units\":\"screen\"},\"id\":\"1365\",\"type\":\"BoxAnnotation\"},{\"attributes\":{\"callback\":null,\"data\":{\"x\":[7.0,8.88,2.85,10.69,8.74,12.83,6.72,2.67,6.41,2.81,2.19,10.68,11.96,7.7,3.56,8.6,3.72,11.19,10.5,0.84,3.32,1.54,1.37,12.11,10.51,3.2,11.11,1.18,5.62,1.85,3.83,2.38,2.7,12.12,8.23,3.54,8.01,6.32,11.72,7.97,1.45,12.32,2.78,10.03,1.45,1.68,3.15,0.57,1.18,6.4,2.99,0.96,6.24,7.59,3.91,6.42,1.03,8.52,9.73,9.44,8.54],\"y\":[7.0,8.88,2.85,10.69,8.74,12.83,6.72,2.67,6.41,2.81,2.19,10.68,11.96,7.7,3.56,8.6,3.72,11.19,10.5,0.84,3.32,1.54,1.37,12.11,10.51,3.2,11.11,1.18,5.62,1.85,3.83,2.38,2.7,12.12,8.23,3.54,8.01,6.32,11.72,7.97,1.45,12.32,2.78,10.03,1.45,1.68,3.15,0.57,1.18,6.4,2.99,0.96,6.24,7.59,3.91,6.42,1.03,8.52,9.73,9.44,8.54]},\"selected\":{\"id\":\"1385\",\"type\":\"Selection\"},\"selection_policy\":{\"id\":\"1384\",\"type\":\"UnionRenderers\"}},\"id\":\"1355\",\"type\":\"ColumnDataSource\"},{\"attributes\":{},\"id\":\"1362\",\"type\":\"BasicTickFormatter\"}],\"root_ids\":[\"1323\"]},\"title\":\"Bokeh Application\",\"version\":\"1.3.4\"}};\n",
       "  var render_items = [{\"docid\":\"efdbe14c-04d5-4e48-8ced-dbceff17c471\",\"roots\":{\"1323\":\"326d0496-179e-4733-8a87-2b18df810cdc\"}}];\n",
       "  root.Bokeh.embed.embed_items_notebook(docs_json, render_items);\n",
       "\n",
       "  }\n",
       "  if (root.Bokeh !== undefined) {\n",
       "    embed_document(root);\n",
       "  } else {\n",
       "    var attempts = 0;\n",
       "    var timer = setInterval(function(root) {\n",
       "      if (root.Bokeh !== undefined) {\n",
       "        embed_document(root);\n",
       "        clearInterval(timer);\n",
       "      }\n",
       "      attempts++;\n",
       "      if (attempts > 100) {\n",
       "        console.log(\"Bokeh: ERROR: Unable to run BokehJS code because BokehJS library is missing\");\n",
       "        clearInterval(timer);\n",
       "      }\n",
       "    }, 10, root)\n",
       "  }\n",
       "})(window);"
      ],
      "application/vnd.bokehjs_exec.v0+json": ""
     },
     "metadata": {
      "application/vnd.bokehjs_exec.v0+json": {
       "id": "1323"
      }
     },
     "output_type": "display_data"
    }
   ],
   "source": [
    "x =  short_periods\n",
    "y = exo_acf\n",
    "\n",
    "source = ColumnDataSource(data=dict(\n",
    "    x =  short_periods,\n",
    "    y = exo_acf, \n",
    "    tess = (cat['tic_id'])[0:61]))\n",
    "\n",
    "x2 = [i*2 for i in x]\n",
    "x_half = [float(i)*0.5 for i in x]\n",
    "\n",
    "exo_acf_plot = figure(\n",
    "   tools=\"pan,box_zoom,reset,save,hover\",\n",
    "   y_range=[0, 15], title=\"Exoplanet ACF vs McQuillan Periods\",\n",
    "   x_axis_label='McQuillan Period', y_axis_label='Exoplanet ACF Period', plot_width=900)\n",
    "\n",
    "exo_acf_plot.line(x, x, name = \"y=x\", color = 'lightseagreen', line_dash=\"4 4\", legend = \"y=x\", line_width = 2)\n",
    "exo_acf_plot.circle('x', 'y', source = source, color=\"darkgreen\", line_color=None)\n",
    "exo_acf_plot.line(x, x2, legend=\"y=2x\", line_width=1, color = 'mediumpurple', line_dash=\"dotted\")\n",
    "exo_acf_plot.line(x, x_half, legend=\"y=0.5*x\", line_width=1, color = 'skyblue', line_dash=\"dotted\")\n",
    "\n",
    "exo_acf_plot.hover.tooltips = [\n",
    "    (\"index\", \"$index\"), \n",
    "    (\"(x,y)\", \"($x, $y)\"), \n",
    "    (\"TIC ID\", \"@tess\")] \n",
    "\n",
    "show(exo_acf_plot)"
   ]
  },
  {
   "cell_type": "code",
   "execution_count": 18,
   "metadata": {},
   "outputs": [],
   "source": [
    "#finding differences between Exoplanet ACF and McQ tess periods\n",
    "differences_exo_acf = []\n",
    "\n",
    "for indx, period in enumerate(exo_acf):\n",
    "    diff = np.abs(period - short_periods[indx])\n",
    "    differences_exo_acf.append(diff)"
   ]
  },
  {
   "cell_type": "code",
   "execution_count": 19,
   "metadata": {},
   "outputs": [
    {
     "data": {
      "text/html": [
       "\n",
       "\n",
       "\n",
       "\n",
       "\n",
       "\n",
       "  <div class=\"bk-root\" id=\"331a1bf9-1cd4-4fb5-895c-bd6c2e47f342\" data-root-id=\"1531\"></div>\n"
      ]
     },
     "metadata": {},
     "output_type": "display_data"
    },
    {
     "data": {
      "application/javascript": [
       "(function(root) {\n",
       "  function embed_document(root) {\n",
       "    \n",
       "  var docs_json = {\"636604e7-f1b8-4b3c-8d63-db509765516e\":{\"roots\":{\"references\":[{\"attributes\":{\"below\":[{\"id\":\"1542\",\"type\":\"LinearAxis\"}],\"center\":[{\"id\":\"1546\",\"type\":\"Grid\"},{\"id\":\"1551\",\"type\":\"Grid\"},{\"id\":\"1574\",\"type\":\"Legend\"}],\"left\":[{\"id\":\"1547\",\"type\":\"LinearAxis\"}],\"plot_width\":900,\"renderers\":[{\"id\":\"1566\",\"type\":\"GlyphRenderer\"},{\"id\":\"1579\",\"type\":\"GlyphRenderer\"}],\"title\":{\"id\":\"1532\",\"type\":\"Title\"},\"toolbar\":{\"id\":\"1557\",\"type\":\"Toolbar\"},\"x_range\":{\"id\":\"1534\",\"type\":\"DataRange1d\"},\"x_scale\":{\"id\":\"1538\",\"type\":\"LinearScale\"},\"y_range\":{\"id\":\"1536\",\"type\":\"Range1d\"},\"y_scale\":{\"id\":\"1540\",\"type\":\"LinearScale\"}},\"id\":\"1531\",\"subtype\":\"Figure\",\"type\":\"Plot\"},{\"attributes\":{\"axis_label\":\"McQuillan Period\",\"formatter\":{\"id\":\"1570\",\"type\":\"BasicTickFormatter\"},\"ticker\":{\"id\":\"1543\",\"type\":\"BasicTicker\"}},\"id\":\"1542\",\"type\":\"LinearAxis\"},{\"attributes\":{\"overlay\":{\"id\":\"1573\",\"type\":\"BoxAnnotation\"}},\"id\":\"1553\",\"type\":\"BoxZoomTool\"},{\"attributes\":{\"callback\":null,\"tooltips\":[[\"index\",\"$index\"],[\"(x,y)\",\"($x, $y)\"],[\"TIC ID\",\"@tess\"]]},\"id\":\"1556\",\"type\":\"HoverTool\"},{\"attributes\":{},\"id\":\"1543\",\"type\":\"BasicTicker\"},{\"attributes\":{\"line_alpha\":0.1,\"line_color\":\"#1f77b4\",\"line_dash\":[4,4],\"line_width\":2,\"x\":{\"field\":\"x\"},\"y\":{\"field\":\"y\"}},\"id\":\"1565\",\"type\":\"Line\"},{\"attributes\":{\"text\":\"Differences Between McQ and Exoplanet ACF TESS Periods\"},\"id\":\"1532\",\"type\":\"Title\"},{\"attributes\":{\"active_drag\":\"auto\",\"active_inspect\":\"auto\",\"active_multi\":null,\"active_scroll\":\"auto\",\"active_tap\":\"auto\",\"tools\":[{\"id\":\"1552\",\"type\":\"PanTool\"},{\"id\":\"1553\",\"type\":\"BoxZoomTool\"},{\"id\":\"1554\",\"type\":\"ResetTool\"},{\"id\":\"1555\",\"type\":\"SaveTool\"},{\"id\":\"1556\",\"type\":\"HoverTool\"}]},\"id\":\"1557\",\"type\":\"Toolbar\"},{\"attributes\":{},\"id\":\"1570\",\"type\":\"BasicTickFormatter\"},{\"attributes\":{\"source\":{\"id\":\"1563\",\"type\":\"ColumnDataSource\"}},\"id\":\"1567\",\"type\":\"CDSView\"},{\"attributes\":{\"source\":{\"id\":\"1530\",\"type\":\"ColumnDataSource\"}},\"id\":\"1580\",\"type\":\"CDSView\"},{\"attributes\":{},\"id\":\"1554\",\"type\":\"ResetTool\"},{\"attributes\":{},\"id\":\"1538\",\"type\":\"LinearScale\"},{\"attributes\":{\"callback\":null},\"id\":\"1534\",\"type\":\"DataRange1d\"},{\"attributes\":{\"dimension\":1,\"ticker\":{\"id\":\"1548\",\"type\":\"BasicTicker\"}},\"id\":\"1551\",\"type\":\"Grid\"},{\"attributes\":{\"fill_alpha\":{\"value\":0.1},\"fill_color\":{\"value\":\"#1f77b4\"},\"line_alpha\":{\"value\":0.1},\"line_color\":{\"value\":\"#1f77b4\"},\"x\":{\"field\":\"x\"},\"y\":{\"field\":\"y\"}},\"id\":\"1578\",\"type\":\"Circle\"},{\"attributes\":{\"bottom_units\":\"screen\",\"fill_alpha\":{\"value\":0.5},\"fill_color\":{\"value\":\"lightgrey\"},\"left_units\":\"screen\",\"level\":\"overlay\",\"line_alpha\":{\"value\":1.0},\"line_color\":{\"value\":\"black\"},\"line_dash\":[4,4],\"line_width\":{\"value\":2},\"render_mode\":\"css\",\"right_units\":\"screen\",\"top_units\":\"screen\"},\"id\":\"1573\",\"type\":\"BoxAnnotation\"},{\"attributes\":{},\"id\":\"1628\",\"type\":\"UnionRenderers\"},{\"attributes\":{\"label\":{\"value\":\"y=0\"},\"renderers\":[{\"id\":\"1566\",\"type\":\"GlyphRenderer\"}]},\"id\":\"1575\",\"type\":\"LegendItem\"},{\"attributes\":{},\"id\":\"1552\",\"type\":\"PanTool\"},{\"attributes\":{},\"id\":\"1540\",\"type\":\"LinearScale\"},{\"attributes\":{},\"id\":\"1572\",\"type\":\"BasicTickFormatter\"},{\"attributes\":{},\"id\":\"1629\",\"type\":\"Selection\"},{\"attributes\":{\"line_color\":\"lightgreen\",\"line_dash\":[4,4],\"line_width\":2,\"x\":{\"field\":\"x\"},\"y\":{\"field\":\"y\"}},\"id\":\"1564\",\"type\":\"Line\"},{\"attributes\":{\"callback\":null,\"data\":{\"x\":[7.0,8.88,2.85,10.69,8.74,12.83,6.72,2.67,6.41,2.81,2.19,10.68,11.96,7.7,3.56,8.6,3.72,11.19,10.5,0.84,3.32,1.54,1.37,12.11,10.51,3.2,11.11,1.18,5.62,1.85,3.83,2.38,2.7,12.12,8.23,3.54,8.01,6.32,11.72,7.97,1.45,12.32,2.78,10.03,1.45,1.68,3.15,0.57,1.18,6.4,2.99,0.96,6.24,7.59,3.91,6.42,1.03,8.52,9.73,9.44,8.54],\"y\":[0.0,0.0,0.0,0.0,0.0,0.0,0.0,0.0,0.0,0.0,0.0,0.0,0.0,0.0,0.0,0.0,0.0,0.0,0.0,0.0,0.0,0.0,0.0,0.0,0.0,0.0,0.0,0.0,0.0,0.0,0.0,0.0,0.0,0.0,0.0,0.0,0.0,0.0,0.0,0.0,0.0,0.0,0.0,0.0,0.0,0.0,0.0,0.0,0.0,0.0,0.0,0.0,0.0,0.0,0.0,0.0,0.0,0.0,0.0,0.0,0.0]},\"selected\":{\"id\":\"1627\",\"type\":\"Selection\"},\"selection_policy\":{\"id\":\"1626\",\"type\":\"UnionRenderers\"}},\"id\":\"1563\",\"type\":\"ColumnDataSource\"},{\"attributes\":{\"data_source\":{\"id\":\"1563\",\"type\":\"ColumnDataSource\"},\"glyph\":{\"id\":\"1564\",\"type\":\"Line\"},\"hover_glyph\":null,\"muted_glyph\":null,\"name\":\"y=0\",\"nonselection_glyph\":{\"id\":\"1565\",\"type\":\"Line\"},\"selection_glyph\":null,\"view\":{\"id\":\"1567\",\"type\":\"CDSView\"}},\"id\":\"1566\",\"type\":\"GlyphRenderer\"},{\"attributes\":{\"items\":[{\"id\":\"1575\",\"type\":\"LegendItem\"}]},\"id\":\"1574\",\"type\":\"Legend\"},{\"attributes\":{},\"id\":\"1626\",\"type\":\"UnionRenderers\"},{\"attributes\":{\"callback\":null,\"end\":9,\"start\":-1},\"id\":\"1536\",\"type\":\"Range1d\"},{\"attributes\":{\"callback\":null,\"data\":{\"tess\":[275493837,121789795,63007124,275490626,171098535,63210277,351803000,170253623,158791870,164724054,122684770,121457565,273582401,267991320,137218354,184089663,272370950,159172008,121659832,138728898,169460055,169466444,122213500,63209318,120963553,267746802,271165094,27395090,298964604,270608620,185058148,271426791,273687618,272719990,239227465,27186774,271538184,121215119,121939294,352013209,185058255,170344764,378084176,120422997,63075888,270856793,26597576,158412743,121329643,351055098,120890400,137408312,267671733,279916031,271547585,158936101,121939266,239225673,27389081,121785547,138725623],\"x\":[7.0,8.88,2.85,10.69,8.74,12.83,6.72,2.67,6.41,2.81,2.19,10.68,11.96,7.7,3.56,8.6,3.72,11.19,10.5,0.84,3.32,1.54,1.37,12.11,10.51,3.2,11.11,1.18,5.62,1.85,3.83,2.38,2.7,12.12,8.23,3.54,8.01,6.32,11.72,7.97,1.45,12.32,2.78,10.03,1.45,1.68,3.15,0.57,1.18,6.4,2.99,0.96,6.24,7.59,3.91,6.42,1.03,8.52,9.73,9.44,8.54],\"y\":[7.896067005262466,0.5187996694417052,0.6556020979678578,2.4663304390951453,1.1343089931267514,0.6225593780391137,0.35381523998466946,2.272325657862666,3.330690843164348,3.787223287507686,2.666620377551226,1.1205980496115444,0.1452628217898564,1.9921757191041252,0.8221136796107658,0.18731576214349843,3.724997754402011,2.80151447677099,2.843002666153552,0.8093290718020398,1.9610469827791803,1.6290142247673884,1.3696295360496151,1.3903741671238095,0.3320287480164552,2.2308219197952894,0.4876718291943689,1.1621017599209154,0.7781971774136309,1.7846587333706339,4.015474960653819,0.7055652248745901,13.198174563975044,2.0025659433204055,2.62512151145188,6.588747016103298,1.061463502670449,0.7678252174500813,3.1219025765039987,0.9649590065168923,1.442261670930293,3.6419800904702697,1.3903830366843977,2.884498889497081,1.338494274118375,1.6705306774572364,3.3825642836027328,0.5706823268678818,0.7700772749890348,0.18676748487632722,5.302117542241376,3.1127996858685947,1.175936030627554,0.7492561485814804,2.8533895177702107,6.661415952095922,1.5817774082970573,1.3112205198394804,2.3449630919694755,0.14526366111249445,1.5771382194616308]},\"selected\":{\"id\":\"1629\",\"type\":\"Selection\"},\"selection_policy\":{\"id\":\"1628\",\"type\":\"UnionRenderers\"}},\"id\":\"1530\",\"type\":\"ColumnDataSource\"},{\"attributes\":{},\"id\":\"1555\",\"type\":\"SaveTool\"},{\"attributes\":{\"fill_color\":{\"value\":\"indigo\"},\"line_color\":{\"value\":null},\"x\":{\"field\":\"x\"},\"y\":{\"field\":\"y\"}},\"id\":\"1577\",\"type\":\"Circle\"},{\"attributes\":{},\"id\":\"1548\",\"type\":\"BasicTicker\"},{\"attributes\":{},\"id\":\"1627\",\"type\":\"Selection\"},{\"attributes\":{\"ticker\":{\"id\":\"1543\",\"type\":\"BasicTicker\"}},\"id\":\"1546\",\"type\":\"Grid\"},{\"attributes\":{\"axis_label\":\"Difference Between Period Calculations\",\"formatter\":{\"id\":\"1572\",\"type\":\"BasicTickFormatter\"},\"ticker\":{\"id\":\"1548\",\"type\":\"BasicTicker\"}},\"id\":\"1547\",\"type\":\"LinearAxis\"},{\"attributes\":{\"data_source\":{\"id\":\"1530\",\"type\":\"ColumnDataSource\"},\"glyph\":{\"id\":\"1577\",\"type\":\"Circle\"},\"hover_glyph\":null,\"muted_glyph\":null,\"nonselection_glyph\":{\"id\":\"1578\",\"type\":\"Circle\"},\"selection_glyph\":null,\"view\":{\"id\":\"1580\",\"type\":\"CDSView\"}},\"id\":\"1579\",\"type\":\"GlyphRenderer\"}],\"root_ids\":[\"1531\"]},\"title\":\"Bokeh Application\",\"version\":\"1.3.4\"}};\n",
       "  var render_items = [{\"docid\":\"636604e7-f1b8-4b3c-8d63-db509765516e\",\"roots\":{\"1531\":\"331a1bf9-1cd4-4fb5-895c-bd6c2e47f342\"}}];\n",
       "  root.Bokeh.embed.embed_items_notebook(docs_json, render_items);\n",
       "\n",
       "  }\n",
       "  if (root.Bokeh !== undefined) {\n",
       "    embed_document(root);\n",
       "  } else {\n",
       "    var attempts = 0;\n",
       "    var timer = setInterval(function(root) {\n",
       "      if (root.Bokeh !== undefined) {\n",
       "        embed_document(root);\n",
       "        clearInterval(timer);\n",
       "      }\n",
       "      attempts++;\n",
       "      if (attempts > 100) {\n",
       "        console.log(\"Bokeh: ERROR: Unable to run BokehJS code because BokehJS library is missing\");\n",
       "        clearInterval(timer);\n",
       "      }\n",
       "    }, 10, root)\n",
       "  }\n",
       "})(window);"
      ],
      "application/vnd.bokehjs_exec.v0+json": ""
     },
     "metadata": {
      "application/vnd.bokehjs_exec.v0+json": {
       "id": "1531"
      }
     },
     "output_type": "display_data"
    }
   ],
   "source": [
    "x =  short_periods\n",
    "y = exo_acf\n",
    "\n",
    "source = ColumnDataSource(data=dict(\n",
    "    x = short_periods,\n",
    "    y = exo_acf, \n",
    "    tess = (cat['tic_id'])[0:61]))\n",
    "\n",
    "x2 = [i*2 for i in x]\n",
    "x_half = [float(i)*0.5 for i in x]\n",
    "x_0 = [i*0 for i in x]\n",
    "\n",
    "exo_ac_diff = figure(\n",
    "   tools=\"pan,box_zoom,reset,save,hover\",\n",
    "   y_range=[-1, 9], title=\"Differences Between McQ and Exoplanet ACF TESS Periods\",\n",
    "   x_axis_label='McQuillan Period', y_axis_label='Difference Between Period Calculations', plot_width=900)\n",
    "\n",
    "exo_ac_diff.line(x, x_0, name = \"y=0\", color = 'lightgreen', line_dash=\"4 4\", legend = \"y=0\", line_width = 2)\n",
    "exo_ac_diff.circle('x', 'y', source = source, color=\"indigo\", line_color=None)\n",
    "\n",
    "\n",
    "exo_ac_diff.hover.tooltips = [\n",
    "    (\"index\", \"$index\"), \n",
    "    (\"(x,y)\", \"($x, $y)\"), \n",
    "    (\"TIC ID\", \"@tess\")] \n",
    "\n",
    "show(exo_ac_diff)"
   ]
  },
  {
   "cell_type": "code",
   "execution_count": 20,
   "metadata": {},
   "outputs": [
    {
     "data": {
      "text/html": [
       "\n",
       "\n",
       "\n",
       "\n",
       "\n",
       "\n",
       "  <div class=\"bk-root\" id=\"5dd27796-568c-4e67-946f-ea3e1be91bdd\" data-root-id=\"1691\"></div>\n"
      ]
     },
     "metadata": {},
     "output_type": "display_data"
    },
    {
     "data": {
      "application/javascript": [
       "(function(root) {\n",
       "  function embed_document(root) {\n",
       "    \n",
       "  var docs_json = {\"8d5fe76c-9979-4746-811d-78e8dff0d0b5\":{\"roots\":{\"references\":[{\"attributes\":{\"below\":[{\"id\":\"1702\",\"type\":\"LinearAxis\"}],\"center\":[{\"id\":\"1706\",\"type\":\"Grid\"},{\"id\":\"1711\",\"type\":\"Grid\"},{\"id\":\"1734\",\"type\":\"Legend\"}],\"left\":[{\"id\":\"1707\",\"type\":\"LinearAxis\"}],\"plot_width\":900,\"renderers\":[{\"id\":\"1726\",\"type\":\"GlyphRenderer\"},{\"id\":\"1739\",\"type\":\"GlyphRenderer\"},{\"id\":\"1744\",\"type\":\"GlyphRenderer\"},{\"id\":\"1760\",\"type\":\"GlyphRenderer\"}],\"title\":{\"id\":\"1692\",\"type\":\"Title\"},\"toolbar\":{\"id\":\"1717\",\"type\":\"Toolbar\"},\"x_range\":{\"id\":\"1694\",\"type\":\"DataRange1d\"},\"x_scale\":{\"id\":\"1698\",\"type\":\"LinearScale\"},\"y_range\":{\"id\":\"1696\",\"type\":\"Range1d\"},\"y_scale\":{\"id\":\"1700\",\"type\":\"LinearScale\"}},\"id\":\"1691\",\"subtype\":\"Figure\",\"type\":\"Plot\"},{\"attributes\":{},\"id\":\"1837\",\"type\":\"Selection\"},{\"attributes\":{\"data_source\":{\"id\":\"1723\",\"type\":\"ColumnDataSource\"},\"glyph\":{\"id\":\"1724\",\"type\":\"Line\"},\"hover_glyph\":null,\"muted_glyph\":null,\"name\":\"y=x\",\"nonselection_glyph\":{\"id\":\"1725\",\"type\":\"Line\"},\"selection_glyph\":null,\"view\":{\"id\":\"1727\",\"type\":\"CDSView\"}},\"id\":\"1726\",\"type\":\"GlyphRenderer\"},{\"attributes\":{\"line_alpha\":0.1,\"line_color\":\"#1f77b4\",\"line_dash\":[2,4],\"x\":{\"field\":\"x\"},\"y\":{\"field\":\"y\"}},\"id\":\"1759\",\"type\":\"Line\"},{\"attributes\":{\"dimension\":1,\"ticker\":{\"id\":\"1708\",\"type\":\"BasicTicker\"}},\"id\":\"1711\",\"type\":\"Grid\"},{\"attributes\":{},\"id\":\"1712\",\"type\":\"PanTool\"},{\"attributes\":{},\"id\":\"1732\",\"type\":\"BasicTickFormatter\"},{\"attributes\":{},\"id\":\"1714\",\"type\":\"ResetTool\"},{\"attributes\":{},\"id\":\"1698\",\"type\":\"LinearScale\"},{\"attributes\":{\"line_alpha\":0.1,\"line_color\":\"#1f77b4\",\"line_dash\":[4,4],\"line_width\":2,\"x\":{\"field\":\"x\"},\"y\":{\"field\":\"y\"}},\"id\":\"1725\",\"type\":\"Line\"},{\"attributes\":{},\"id\":\"1753\",\"type\":\"Selection\"},{\"attributes\":{},\"id\":\"1703\",\"type\":\"BasicTicker\"},{\"attributes\":{\"text\":\"Lomb-Scargle vs McQuillan TESS Periods\"},\"id\":\"1692\",\"type\":\"Title\"},{\"attributes\":{\"callback\":null,\"end\":15},\"id\":\"1696\",\"type\":\"Range1d\"},{\"attributes\":{\"source\":{\"id\":\"1757\",\"type\":\"ColumnDataSource\"}},\"id\":\"1761\",\"type\":\"CDSView\"},{\"attributes\":{},\"id\":\"1773\",\"type\":\"Selection\"},{\"attributes\":{\"data_source\":{\"id\":\"1741\",\"type\":\"ColumnDataSource\"},\"glyph\":{\"id\":\"1742\",\"type\":\"Line\"},\"hover_glyph\":null,\"muted_glyph\":null,\"nonselection_glyph\":{\"id\":\"1743\",\"type\":\"Line\"},\"selection_glyph\":null,\"view\":{\"id\":\"1745\",\"type\":\"CDSView\"}},\"id\":\"1744\",\"type\":\"GlyphRenderer\"},{\"attributes\":{\"source\":{\"id\":\"1690\",\"type\":\"ColumnDataSource\"}},\"id\":\"1740\",\"type\":\"CDSView\"},{\"attributes\":{},\"id\":\"1755\",\"type\":\"Selection\"},{\"attributes\":{},\"id\":\"1730\",\"type\":\"BasicTickFormatter\"},{\"attributes\":{\"line_alpha\":0.1,\"line_color\":\"#1f77b4\",\"line_dash\":[2,4],\"x\":{\"field\":\"x\"},\"y\":{\"field\":\"y\"}},\"id\":\"1743\",\"type\":\"Line\"},{\"attributes\":{\"callback\":null,\"data\":{\"x\":[7.0,8.88,2.85,10.69,8.74,12.83,6.72,2.67,6.41,2.81,2.19,10.68,11.96,7.7,3.56,8.6,3.72,11.19,10.5,0.84,3.32,1.54,1.37,12.11,10.51,3.2,11.11,1.18,5.62,1.85,3.83,2.38,2.7,12.12,8.23,3.54,8.01,6.32,11.72,7.97,1.45,12.32,2.78,10.03,1.45,1.68,3.15,0.57,1.18,6.4,2.99,0.96,6.24,7.59,3.91,6.42,1.03,8.52,9.73,9.44,8.54],\"y\":[3.5,4.44,1.425,5.345,4.37,6.415,3.36,1.335,3.205,1.405,1.095,5.34,5.98,3.85,1.78,4.3,1.86,5.595,5.25,0.42,1.66,0.77,0.685,6.055,5.255,1.6,5.555,0.59,2.81,0.925,1.915,1.19,1.35,6.06,4.115,1.77,4.005,3.16,5.86,3.985,0.725,6.16,1.39,5.015,0.725,0.84,1.575,0.285,0.59,3.2,1.495,0.48,3.12,3.795,1.955,3.21,0.515,4.26,4.865,4.72,4.27]},\"selected\":{\"id\":\"1837\",\"type\":\"Selection\"},\"selection_policy\":{\"id\":\"1836\",\"type\":\"UnionRenderers\"}},\"id\":\"1757\",\"type\":\"ColumnDataSource\"},{\"attributes\":{\"callback\":null,\"data\":{\"tess\":[275493837,121789795,63007124,275490626,171098535,63210277,351803000,170253623,158791870,164724054,122684770,121457565,273582401,267991320,137218354,184089663,272370950,159172008,121659832,138728898,169460055,169466444,122213500,63209318,120963553,267746802,271165094,27395090,298964604,270608620,185058148,271426791,273687618,272719990,239227465,27186774,271538184,121215119,121939294,352013209,185058255,170344764,378084176,120422997,63075888,270856793,26597576,158412743,121329643,351055098,120890400,137408312,267671733,279916031,271547585,158936101,121939266,239225673,27389081,121785547,138725623],\"x\":[7.0,8.88,2.85,10.69,8.74,12.83,6.72,2.67,6.41,2.81,2.19,10.68,11.96,7.7,3.56,8.6,3.72,11.19,10.5,0.84,3.32,1.54,1.37,12.11,10.51,3.2,11.11,1.18,5.62,1.85,3.83,2.38,2.7,12.12,8.23,3.54,8.01,6.32,11.72,7.97,1.45,12.32,2.78,10.03,1.45,1.68,3.15,0.57,1.18,6.4,2.99,0.96,6.24,7.59,3.91,6.42,1.03,8.52,9.73,9.44,8.54],\"y\":[7.7853919672636565,2.2057188686137184,2.835248846609235,2.8342941686648637,13.182810497840634,9.31974500922664,2.802368809995813,7.166722567661704,4.286552008826956,7.483162715517242,7.453345318432457,7.70580484083501,7.090257038568549,7.433598715461297,13.002925687536571,2.811886299678092,1.863561346071275,4.610143893250129,4.41469791244507,0.836540662305904,4.537250289933193,3.9440989379224174,1.3716200201465565,7.552543571059572,7.1901896071960145,6.940210873475914,5.164015950771978,1.1596353791593348,0.7937834702147237,1.8584183289455636,7.282463361560444,0.7830758084477184,7.435787613935996,7.945850079379836,1.5311325226824242,7.107219158980133,13.224232325636752,11.580713749687318,8.1960078485756,10.204812637766349,1.4621583779003664,1.522271666100376,1.3873315936021178,6.328025332604338,7.515455689181693,0.8326102041397461,3.368071975070629,0.5668484227625021,2.8327044666530696,3.4291304804054095,2.7301095876947272,8.353256048235524,13.806257610775615,7.294032692181449,1.523511521975807,6.841496003842224,2.352101882782301,3.566178594583491,7.725844134171441,4.413540524651636,8.472366253888856]},\"selected\":{\"id\":\"1755\",\"type\":\"Selection\"},\"selection_policy\":{\"id\":\"1754\",\"type\":\"UnionRenderers\"}},\"id\":\"1690\",\"type\":\"ColumnDataSource\"},{\"attributes\":{\"callback\":null},\"id\":\"1694\",\"type\":\"DataRange1d\"},{\"attributes\":{\"ticker\":{\"id\":\"1703\",\"type\":\"BasicTicker\"}},\"id\":\"1706\",\"type\":\"Grid\"},{\"attributes\":{\"line_color\":\"palegreen\",\"line_dash\":[4,4],\"line_width\":2,\"x\":{\"field\":\"x\"},\"y\":{\"field\":\"y\"}},\"id\":\"1724\",\"type\":\"Line\"},{\"attributes\":{\"source\":{\"id\":\"1741\",\"type\":\"ColumnDataSource\"}},\"id\":\"1745\",\"type\":\"CDSView\"},{\"attributes\":{},\"id\":\"1708\",\"type\":\"BasicTicker\"},{\"attributes\":{\"active_drag\":\"auto\",\"active_inspect\":\"auto\",\"active_multi\":null,\"active_scroll\":\"auto\",\"active_tap\":\"auto\",\"tools\":[{\"id\":\"1712\",\"type\":\"PanTool\"},{\"id\":\"1713\",\"type\":\"BoxZoomTool\"},{\"id\":\"1714\",\"type\":\"ResetTool\"},{\"id\":\"1715\",\"type\":\"SaveTool\"},{\"id\":\"1716\",\"type\":\"HoverTool\"}]},\"id\":\"1717\",\"type\":\"Toolbar\"},{\"attributes\":{\"axis_label\":\"Lomb-Scargle Period\",\"formatter\":{\"id\":\"1732\",\"type\":\"BasicTickFormatter\"},\"ticker\":{\"id\":\"1708\",\"type\":\"BasicTicker\"}},\"id\":\"1707\",\"type\":\"LinearAxis\"},{\"attributes\":{\"fill_alpha\":{\"value\":0.1},\"fill_color\":{\"value\":\"#1f77b4\"},\"line_alpha\":{\"value\":0.1},\"line_color\":{\"value\":\"#1f77b4\"},\"x\":{\"field\":\"x\"},\"y\":{\"field\":\"y\"}},\"id\":\"1738\",\"type\":\"Circle\"},{\"attributes\":{\"data_source\":{\"id\":\"1690\",\"type\":\"ColumnDataSource\"},\"glyph\":{\"id\":\"1737\",\"type\":\"Circle\"},\"hover_glyph\":null,\"muted_glyph\":null,\"nonselection_glyph\":{\"id\":\"1738\",\"type\":\"Circle\"},\"selection_glyph\":null,\"view\":{\"id\":\"1740\",\"type\":\"CDSView\"}},\"id\":\"1739\",\"type\":\"GlyphRenderer\"},{\"attributes\":{\"overlay\":{\"id\":\"1733\",\"type\":\"BoxAnnotation\"}},\"id\":\"1713\",\"type\":\"BoxZoomTool\"},{\"attributes\":{\"data_source\":{\"id\":\"1757\",\"type\":\"ColumnDataSource\"},\"glyph\":{\"id\":\"1758\",\"type\":\"Line\"},\"hover_glyph\":null,\"muted_glyph\":null,\"nonselection_glyph\":{\"id\":\"1759\",\"type\":\"Line\"},\"selection_glyph\":null,\"view\":{\"id\":\"1761\",\"type\":\"CDSView\"}},\"id\":\"1760\",\"type\":\"GlyphRenderer\"},{\"attributes\":{\"callback\":null,\"data\":{\"x\":[7.0,8.88,2.85,10.69,8.74,12.83,6.72,2.67,6.41,2.81,2.19,10.68,11.96,7.7,3.56,8.6,3.72,11.19,10.5,0.84,3.32,1.54,1.37,12.11,10.51,3.2,11.11,1.18,5.62,1.85,3.83,2.38,2.7,12.12,8.23,3.54,8.01,6.32,11.72,7.97,1.45,12.32,2.78,10.03,1.45,1.68,3.15,0.57,1.18,6.4,2.99,0.96,6.24,7.59,3.91,6.42,1.03,8.52,9.73,9.44,8.54],\"y\":[7.0,8.88,2.85,10.69,8.74,12.83,6.72,2.67,6.41,2.81,2.19,10.68,11.96,7.7,3.56,8.6,3.72,11.19,10.5,0.84,3.32,1.54,1.37,12.11,10.51,3.2,11.11,1.18,5.62,1.85,3.83,2.38,2.7,12.12,8.23,3.54,8.01,6.32,11.72,7.97,1.45,12.32,2.78,10.03,1.45,1.68,3.15,0.57,1.18,6.4,2.99,0.96,6.24,7.59,3.91,6.42,1.03,8.52,9.73,9.44,8.54]},\"selected\":{\"id\":\"1753\",\"type\":\"Selection\"},\"selection_policy\":{\"id\":\"1752\",\"type\":\"UnionRenderers\"}},\"id\":\"1723\",\"type\":\"ColumnDataSource\"},{\"attributes\":{\"fill_color\":{\"value\":\"darkcyan\"},\"line_color\":{\"value\":null},\"x\":{\"field\":\"x\"},\"y\":{\"field\":\"y\"}},\"id\":\"1737\",\"type\":\"Circle\"},{\"attributes\":{\"bottom_units\":\"screen\",\"fill_alpha\":{\"value\":0.5},\"fill_color\":{\"value\":\"lightgrey\"},\"left_units\":\"screen\",\"level\":\"overlay\",\"line_alpha\":{\"value\":1.0},\"line_color\":{\"value\":\"black\"},\"line_dash\":[4,4],\"line_width\":{\"value\":2},\"render_mode\":\"css\",\"right_units\":\"screen\",\"top_units\":\"screen\"},\"id\":\"1733\",\"type\":\"BoxAnnotation\"},{\"attributes\":{},\"id\":\"1836\",\"type\":\"UnionRenderers\"},{\"attributes\":{\"axis_label\":\"McQuillan Period\",\"formatter\":{\"id\":\"1730\",\"type\":\"BasicTickFormatter\"},\"ticker\":{\"id\":\"1703\",\"type\":\"BasicTicker\"}},\"id\":\"1702\",\"type\":\"LinearAxis\"},{\"attributes\":{\"callback\":null,\"tooltips\":[[\"index\",\"$index\"],[\"(x,y)\",\"($x, $y)\"],[\"TIC ID\",\"@tess\"]]},\"id\":\"1716\",\"type\":\"HoverTool\"},{\"attributes\":{\"line_color\":\"sienna\",\"line_dash\":[2,4],\"x\":{\"field\":\"x\"},\"y\":{\"field\":\"y\"}},\"id\":\"1758\",\"type\":\"Line\"},{\"attributes\":{\"label\":{\"value\":\"y=x\"},\"renderers\":[{\"id\":\"1726\",\"type\":\"GlyphRenderer\"}]},\"id\":\"1735\",\"type\":\"LegendItem\"},{\"attributes\":{\"label\":{\"value\":\"y=0.5*x\"},\"renderers\":[{\"id\":\"1760\",\"type\":\"GlyphRenderer\"}]},\"id\":\"1774\",\"type\":\"LegendItem\"},{\"attributes\":{},\"id\":\"1772\",\"type\":\"UnionRenderers\"},{\"attributes\":{\"callback\":null,\"data\":{\"x\":[7.0,8.88,2.85,10.69,8.74,12.83,6.72,2.67,6.41,2.81,2.19,10.68,11.96,7.7,3.56,8.6,3.72,11.19,10.5,0.84,3.32,1.54,1.37,12.11,10.51,3.2,11.11,1.18,5.62,1.85,3.83,2.38,2.7,12.12,8.23,3.54,8.01,6.32,11.72,7.97,1.45,12.32,2.78,10.03,1.45,1.68,3.15,0.57,1.18,6.4,2.99,0.96,6.24,7.59,3.91,6.42,1.03,8.52,9.73,9.44,8.54],\"y\":[14.0,17.76,5.7,21.38,17.48,25.66,13.44,5.34,12.82,5.62,4.38,21.36,23.92,15.4,7.12,17.2,7.44,22.38,21.0,1.68,6.64,3.08,2.74,24.22,21.02,6.4,22.22,2.36,11.24,3.7,7.66,4.76,5.4,24.24,16.46,7.08,16.02,12.64,23.44,15.94,2.9,24.64,5.56,20.06,2.9,3.36,6.3,1.14,2.36,12.8,5.98,1.92,12.48,15.18,7.82,12.84,2.06,17.04,19.46,18.88,17.08]},\"selected\":{\"id\":\"1773\",\"type\":\"Selection\"},\"selection_policy\":{\"id\":\"1772\",\"type\":\"UnionRenderers\"}},\"id\":\"1741\",\"type\":\"ColumnDataSource\"},{\"attributes\":{},\"id\":\"1754\",\"type\":\"UnionRenderers\"},{\"attributes\":{\"label\":{\"value\":\"y=2x\"},\"renderers\":[{\"id\":\"1744\",\"type\":\"GlyphRenderer\"}]},\"id\":\"1756\",\"type\":\"LegendItem\"},{\"attributes\":{},\"id\":\"1752\",\"type\":\"UnionRenderers\"},{\"attributes\":{\"items\":[{\"id\":\"1735\",\"type\":\"LegendItem\"},{\"id\":\"1756\",\"type\":\"LegendItem\"},{\"id\":\"1774\",\"type\":\"LegendItem\"}]},\"id\":\"1734\",\"type\":\"Legend\"},{\"attributes\":{\"source\":{\"id\":\"1723\",\"type\":\"ColumnDataSource\"}},\"id\":\"1727\",\"type\":\"CDSView\"},{\"attributes\":{},\"id\":\"1715\",\"type\":\"SaveTool\"},{\"attributes\":{},\"id\":\"1700\",\"type\":\"LinearScale\"},{\"attributes\":{\"line_color\":\"dimgray\",\"line_dash\":[2,4],\"x\":{\"field\":\"x\"},\"y\":{\"field\":\"y\"}},\"id\":\"1742\",\"type\":\"Line\"}],\"root_ids\":[\"1691\"]},\"title\":\"Bokeh Application\",\"version\":\"1.3.4\"}};\n",
       "  var render_items = [{\"docid\":\"8d5fe76c-9979-4746-811d-78e8dff0d0b5\",\"roots\":{\"1691\":\"5dd27796-568c-4e67-946f-ea3e1be91bdd\"}}];\n",
       "  root.Bokeh.embed.embed_items_notebook(docs_json, render_items);\n",
       "\n",
       "  }\n",
       "  if (root.Bokeh !== undefined) {\n",
       "    embed_document(root);\n",
       "  } else {\n",
       "    var attempts = 0;\n",
       "    var timer = setInterval(function(root) {\n",
       "      if (root.Bokeh !== undefined) {\n",
       "        embed_document(root);\n",
       "        clearInterval(timer);\n",
       "      }\n",
       "      attempts++;\n",
       "      if (attempts > 100) {\n",
       "        console.log(\"Bokeh: ERROR: Unable to run BokehJS code because BokehJS library is missing\");\n",
       "        clearInterval(timer);\n",
       "      }\n",
       "    }, 10, root)\n",
       "  }\n",
       "})(window);"
      ],
      "application/vnd.bokehjs_exec.v0+json": ""
     },
     "metadata": {
      "application/vnd.bokehjs_exec.v0+json": {
       "id": "1691"
      }
     },
     "output_type": "display_data"
    }
   ],
   "source": [
    "x =  short_periods\n",
    "y = ls_periods\n",
    "\n",
    "source = ColumnDataSource(data=dict(\n",
    "    x =  short_periods,\n",
    "    y = ls_periods, \n",
    "    tess = (cat['tic_id'])[0:61]))\n",
    "\n",
    "x2 = [i*2 for i in x]\n",
    "x_half = [float(i)*0.5 for i in x]\n",
    "\n",
    "ls_plot = figure(\n",
    "   tools=\"pan,box_zoom,reset,save,hover\",\n",
    "   y_range=[0, 15], title=\"Lomb-Scargle vs McQuillan TESS Periods\",\n",
    "   x_axis_label='McQuillan Period', y_axis_label='Lomb-Scargle Period', plot_width=900)\n",
    "\n",
    "ls_plot.line(x, x, name = \"y=x\", color = 'palegreen', line_dash=\"4 4\", legend = \"y=x\", line_width = 2)\n",
    "ls_plot.circle('x', 'y', source = source, color=\"darkcyan\", line_color=None)\n",
    "ls_plot.line(x, x2, legend=\"y=2x\", line_width=1, color = 'dimgray', line_dash=\"dotted\")\n",
    "ls_plot.line(x, x_half, legend=\"y=0.5*x\", line_width=1, color = 'sienna', line_dash=\"dotted\")\n",
    "\n",
    "ls_plot.hover.tooltips = [\n",
    "    (\"index\", \"$index\"), \n",
    "    (\"(x,y)\", \"($x, $y)\"), \n",
    "    (\"TIC ID\", \"@tess\")] \n",
    "\n",
    "show(ls_plot)"
   ]
  },
  {
   "cell_type": "code",
   "execution_count": 21,
   "metadata": {},
   "outputs": [],
   "source": [
    "#finding differences between L-S and McQ tess periods\n",
    "differences_mcq_ls = []\n",
    "\n",
    "for indx, period in enumerate(ls_periods):\n",
    "    diff = np.abs(period - short_periods[indx])\n",
    "    differences_mcq_ls.append(diff)"
   ]
  },
  {
   "cell_type": "code",
   "execution_count": 22,
   "metadata": {},
   "outputs": [
    {
     "data": {
      "text/html": [
       "\n",
       "\n",
       "\n",
       "\n",
       "\n",
       "\n",
       "  <div class=\"bk-root\" id=\"865a68d5-cd69-42c9-9249-2afa807cd3e8\" data-root-id=\"1923\"></div>\n"
      ]
     },
     "metadata": {},
     "output_type": "display_data"
    },
    {
     "data": {
      "application/javascript": [
       "(function(root) {\n",
       "  function embed_document(root) {\n",
       "    \n",
       "  var docs_json = {\"dd8619e8-5779-46c5-b078-24de3c1f56ab\":{\"roots\":{\"references\":[{\"attributes\":{\"below\":[{\"id\":\"1934\",\"type\":\"LinearAxis\"}],\"center\":[{\"id\":\"1938\",\"type\":\"Grid\"},{\"id\":\"1943\",\"type\":\"Grid\"},{\"id\":\"1966\",\"type\":\"Legend\"}],\"left\":[{\"id\":\"1939\",\"type\":\"LinearAxis\"}],\"plot_width\":900,\"renderers\":[{\"id\":\"1958\",\"type\":\"GlyphRenderer\"},{\"id\":\"1971\",\"type\":\"GlyphRenderer\"}],\"title\":{\"id\":\"1924\",\"type\":\"Title\"},\"toolbar\":{\"id\":\"1949\",\"type\":\"Toolbar\"},\"x_range\":{\"id\":\"1926\",\"type\":\"DataRange1d\"},\"x_scale\":{\"id\":\"1930\",\"type\":\"LinearScale\"},\"y_range\":{\"id\":\"1928\",\"type\":\"Range1d\"},\"y_scale\":{\"id\":\"1932\",\"type\":\"LinearScale\"}},\"id\":\"1923\",\"subtype\":\"Figure\",\"type\":\"Plot\"},{\"attributes\":{\"overlay\":{\"id\":\"1965\",\"type\":\"BoxAnnotation\"}},\"id\":\"1945\",\"type\":\"BoxZoomTool\"},{\"attributes\":{\"items\":[{\"id\":\"1967\",\"type\":\"LegendItem\"}]},\"id\":\"1966\",\"type\":\"Legend\"},{\"attributes\":{\"callback\":null},\"id\":\"1926\",\"type\":\"DataRange1d\"},{\"attributes\":{\"label\":{\"value\":\"y=0\"},\"renderers\":[{\"id\":\"1958\",\"type\":\"GlyphRenderer\"}]},\"id\":\"1967\",\"type\":\"LegendItem\"},{\"attributes\":{\"axis_label\":\"McQuillan Period\",\"formatter\":{\"id\":\"1962\",\"type\":\"BasicTickFormatter\"},\"ticker\":{\"id\":\"1935\",\"type\":\"BasicTicker\"}},\"id\":\"1934\",\"type\":\"LinearAxis\"},{\"attributes\":{},\"id\":\"1964\",\"type\":\"BasicTickFormatter\"},{\"attributes\":{\"source\":{\"id\":\"1955\",\"type\":\"ColumnDataSource\"}},\"id\":\"1959\",\"type\":\"CDSView\"},{\"attributes\":{},\"id\":\"1946\",\"type\":\"ResetTool\"},{\"attributes\":{\"callback\":null,\"data\":{\"tess\":[275493837,121789795,63007124,275490626,171098535,63210277,351803000,170253623,158791870,164724054,122684770,121457565,273582401,267991320,137218354,184089663,272370950,159172008,121659832,138728898,169460055,169466444,122213500,63209318,120963553,267746802,271165094,27395090,298964604,270608620,185058148,271426791,273687618,272719990,239227465,27186774,271538184,121215119,121939294,352013209,185058255,170344764,378084176,120422997,63075888,270856793,26597576,158412743,121329643,351055098,120890400,137408312,267671733,279916031,271547585,158936101,121939266,239225673,27389081,121785547,138725623],\"x\":[7.0,8.88,2.85,10.69,8.74,12.83,6.72,2.67,6.41,2.81,2.19,10.68,11.96,7.7,3.56,8.6,3.72,11.19,10.5,0.84,3.32,1.54,1.37,12.11,10.51,3.2,11.11,1.18,5.62,1.85,3.83,2.38,2.7,12.12,8.23,3.54,8.01,6.32,11.72,7.97,1.45,12.32,2.78,10.03,1.45,1.68,3.15,0.57,1.18,6.4,2.99,0.96,6.24,7.59,3.91,6.42,1.03,8.52,9.73,9.44,8.54],\"y\":[0.7853919672636565,6.674281131386282,0.014751153390764937,7.855705831335136,4.442810497840634,3.51025499077336,3.9176311900041867,4.496722567661704,2.1234479911730437,4.6731627155172415,5.263345318432457,2.9741951591649896,4.869742961431452,0.26640128453870293,9.44292568753657,5.788113700321908,1.8564386539287252,6.579856106749871,6.08530208755493,0.0034593376940960097,1.2172502899331934,2.4040989379224174,0.001620020146556378,4.557456428940427,3.3198103928039853,3.740210873475914,5.945984049228022,0.02036462084066515,4.826216529785277,0.008418328945563491,3.4524633615604436,1.5969241915522816,4.735787613935996,4.174149920620163,6.6988674773175765,3.5672191589801328,5.214232325636752,5.2607137496873175,3.5239921514244,2.234812637766349,0.012158377900366446,10.797728333899624,1.392668406397882,3.7019746673956613,6.065455689181693,0.8473897958602539,0.21807197507062925,0.0031515772374978157,1.6527044666530697,2.970869519594591,0.259890412305273,7.393256048235524,7.566257610775615,0.2959673078185512,2.386488478024193,0.42149600384222374,1.3221018827823008,4.953821405416509,2.00415586582856,5.026459475348363,0.06763374611114337]},\"selected\":{\"id\":\"2045\",\"type\":\"Selection\"},\"selection_policy\":{\"id\":\"2044\",\"type\":\"UnionRenderers\"}},\"id\":\"1922\",\"type\":\"ColumnDataSource\"},{\"attributes\":{\"bottom_units\":\"screen\",\"fill_alpha\":{\"value\":0.5},\"fill_color\":{\"value\":\"lightgrey\"},\"left_units\":\"screen\",\"level\":\"overlay\",\"line_alpha\":{\"value\":1.0},\"line_color\":{\"value\":\"black\"},\"line_dash\":[4,4],\"line_width\":{\"value\":2},\"render_mode\":\"css\",\"right_units\":\"screen\",\"top_units\":\"screen\"},\"id\":\"1965\",\"type\":\"BoxAnnotation\"},{\"attributes\":{\"ticker\":{\"id\":\"1935\",\"type\":\"BasicTicker\"}},\"id\":\"1938\",\"type\":\"Grid\"},{\"attributes\":{\"dimension\":1,\"ticker\":{\"id\":\"1940\",\"type\":\"BasicTicker\"}},\"id\":\"1943\",\"type\":\"Grid\"},{\"attributes\":{\"callback\":null,\"tooltips\":[[\"index\",\"$index\"],[\"(x,y)\",\"($x, $y)\"],[\"TIC ID\",\"@tess\"]]},\"id\":\"1948\",\"type\":\"HoverTool\"},{\"attributes\":{\"line_alpha\":0.1,\"line_color\":\"#1f77b4\",\"line_dash\":[4,4],\"line_width\":2,\"x\":{\"field\":\"x\"},\"y\":{\"field\":\"y\"}},\"id\":\"1957\",\"type\":\"Line\"},{\"attributes\":{},\"id\":\"2045\",\"type\":\"Selection\"},{\"attributes\":{\"callback\":null,\"end\":12,\"start\":-1},\"id\":\"1928\",\"type\":\"Range1d\"},{\"attributes\":{},\"id\":\"2044\",\"type\":\"UnionRenderers\"},{\"attributes\":{\"data_source\":{\"id\":\"1922\",\"type\":\"ColumnDataSource\"},\"glyph\":{\"id\":\"1969\",\"type\":\"Circle\"},\"hover_glyph\":null,\"muted_glyph\":null,\"nonselection_glyph\":{\"id\":\"1970\",\"type\":\"Circle\"},\"selection_glyph\":null,\"view\":{\"id\":\"1972\",\"type\":\"CDSView\"}},\"id\":\"1971\",\"type\":\"GlyphRenderer\"},{\"attributes\":{},\"id\":\"1944\",\"type\":\"PanTool\"},{\"attributes\":{\"fill_alpha\":{\"value\":0.1},\"fill_color\":{\"value\":\"#1f77b4\"},\"line_alpha\":{\"value\":0.1},\"line_color\":{\"value\":\"#1f77b4\"},\"x\":{\"field\":\"x\"},\"y\":{\"field\":\"y\"}},\"id\":\"1970\",\"type\":\"Circle\"},{\"attributes\":{\"data_source\":{\"id\":\"1955\",\"type\":\"ColumnDataSource\"},\"glyph\":{\"id\":\"1956\",\"type\":\"Line\"},\"hover_glyph\":null,\"muted_glyph\":null,\"name\":\"y=0\",\"nonselection_glyph\":{\"id\":\"1957\",\"type\":\"Line\"},\"selection_glyph\":null,\"view\":{\"id\":\"1959\",\"type\":\"CDSView\"}},\"id\":\"1958\",\"type\":\"GlyphRenderer\"},{\"attributes\":{},\"id\":\"1935\",\"type\":\"BasicTicker\"},{\"attributes\":{\"text\":\"Differences Between McQ and L-S TESS Periods\"},\"id\":\"1924\",\"type\":\"Title\"},{\"attributes\":{},\"id\":\"1962\",\"type\":\"BasicTickFormatter\"},{\"attributes\":{\"line_color\":\"tomato\",\"line_dash\":[4,4],\"line_width\":2,\"x\":{\"field\":\"x\"},\"y\":{\"field\":\"y\"}},\"id\":\"1956\",\"type\":\"Line\"},{\"attributes\":{},\"id\":\"1947\",\"type\":\"SaveTool\"},{\"attributes\":{\"fill_color\":{\"value\":\"black\"},\"line_color\":{\"value\":null},\"x\":{\"field\":\"x\"},\"y\":{\"field\":\"y\"}},\"id\":\"1969\",\"type\":\"Circle\"},{\"attributes\":{\"active_drag\":\"auto\",\"active_inspect\":\"auto\",\"active_multi\":null,\"active_scroll\":\"auto\",\"active_tap\":\"auto\",\"tools\":[{\"id\":\"1944\",\"type\":\"PanTool\"},{\"id\":\"1945\",\"type\":\"BoxZoomTool\"},{\"id\":\"1946\",\"type\":\"ResetTool\"},{\"id\":\"1947\",\"type\":\"SaveTool\"},{\"id\":\"1948\",\"type\":\"HoverTool\"}]},\"id\":\"1949\",\"type\":\"Toolbar\"},{\"attributes\":{},\"id\":\"1932\",\"type\":\"LinearScale\"},{\"attributes\":{},\"id\":\"2043\",\"type\":\"Selection\"},{\"attributes\":{},\"id\":\"1930\",\"type\":\"LinearScale\"},{\"attributes\":{\"callback\":null,\"data\":{\"x\":[7.0,8.88,2.85,10.69,8.74,12.83,6.72,2.67,6.41,2.81,2.19,10.68,11.96,7.7,3.56,8.6,3.72,11.19,10.5,0.84,3.32,1.54,1.37,12.11,10.51,3.2,11.11,1.18,5.62,1.85,3.83,2.38,2.7,12.12,8.23,3.54,8.01,6.32,11.72,7.97,1.45,12.32,2.78,10.03,1.45,1.68,3.15,0.57,1.18,6.4,2.99,0.96,6.24,7.59,3.91,6.42,1.03,8.52,9.73,9.44,8.54],\"y\":[0.0,0.0,0.0,0.0,0.0,0.0,0.0,0.0,0.0,0.0,0.0,0.0,0.0,0.0,0.0,0.0,0.0,0.0,0.0,0.0,0.0,0.0,0.0,0.0,0.0,0.0,0.0,0.0,0.0,0.0,0.0,0.0,0.0,0.0,0.0,0.0,0.0,0.0,0.0,0.0,0.0,0.0,0.0,0.0,0.0,0.0,0.0,0.0,0.0,0.0,0.0,0.0,0.0,0.0,0.0,0.0,0.0,0.0,0.0,0.0,0.0]},\"selected\":{\"id\":\"2043\",\"type\":\"Selection\"},\"selection_policy\":{\"id\":\"2042\",\"type\":\"UnionRenderers\"}},\"id\":\"1955\",\"type\":\"ColumnDataSource\"},{\"attributes\":{\"source\":{\"id\":\"1922\",\"type\":\"ColumnDataSource\"}},\"id\":\"1972\",\"type\":\"CDSView\"},{\"attributes\":{},\"id\":\"2042\",\"type\":\"UnionRenderers\"},{\"attributes\":{},\"id\":\"1940\",\"type\":\"BasicTicker\"},{\"attributes\":{\"axis_label\":\"Difference Between Period Calculations\",\"formatter\":{\"id\":\"1964\",\"type\":\"BasicTickFormatter\"},\"ticker\":{\"id\":\"1940\",\"type\":\"BasicTicker\"}},\"id\":\"1939\",\"type\":\"LinearAxis\"}],\"root_ids\":[\"1923\"]},\"title\":\"Bokeh Application\",\"version\":\"1.3.4\"}};\n",
       "  var render_items = [{\"docid\":\"dd8619e8-5779-46c5-b078-24de3c1f56ab\",\"roots\":{\"1923\":\"865a68d5-cd69-42c9-9249-2afa807cd3e8\"}}];\n",
       "  root.Bokeh.embed.embed_items_notebook(docs_json, render_items);\n",
       "\n",
       "  }\n",
       "  if (root.Bokeh !== undefined) {\n",
       "    embed_document(root);\n",
       "  } else {\n",
       "    var attempts = 0;\n",
       "    var timer = setInterval(function(root) {\n",
       "      if (root.Bokeh !== undefined) {\n",
       "        embed_document(root);\n",
       "        clearInterval(timer);\n",
       "      }\n",
       "      attempts++;\n",
       "      if (attempts > 100) {\n",
       "        console.log(\"Bokeh: ERROR: Unable to run BokehJS code because BokehJS library is missing\");\n",
       "        clearInterval(timer);\n",
       "      }\n",
       "    }, 10, root)\n",
       "  }\n",
       "})(window);"
      ],
      "application/vnd.bokehjs_exec.v0+json": ""
     },
     "metadata": {
      "application/vnd.bokehjs_exec.v0+json": {
       "id": "1923"
      }
     },
     "output_type": "display_data"
    }
   ],
   "source": [
    "x =  short_periods\n",
    "y = differences_mcq_ls\n",
    "\n",
    "source = ColumnDataSource(data=dict(\n",
    "    x = short_periods,\n",
    "    y = differences_mcq_ls, \n",
    "    tess = (cat['tic_id'])[0:61]))\n",
    "\n",
    "x2 = [i*2 for i in x]\n",
    "x_half = [float(i)*0.5 for i in x]\n",
    "x_0 = [i*0 for i in x]\n",
    "\n",
    "ls_diff = figure(\n",
    "   tools=\"pan,box_zoom,reset,save,hover\",\n",
    "   y_range=[-1, 12], title=\"Differences Between McQ and L-S TESS Periods\",\n",
    "   x_axis_label='McQuillan Period', y_axis_label='Difference Between Period Calculations', plot_width=900)\n",
    "\n",
    "ls_diff.line(x, x_0, name = \"y=0\", color = 'tomato', line_dash=\"4 4\", legend = \"y=0\", line_width = 2)\n",
    "ls_diff.circle('x', 'y', source = source, color=\"black\", line_color=None)\n",
    "\n",
    "\n",
    "ls_diff.hover.tooltips = [\n",
    "    (\"index\", \"$index\"), \n",
    "    (\"(x,y)\", \"($x, $y)\"), \n",
    "    (\"TIC ID\", \"@tess\")] \n",
    "\n",
    "show(ls_diff)"
   ]
  },
  {
   "cell_type": "code",
   "execution_count": 23,
   "metadata": {},
   "outputs": [
    {
     "data": {
      "text/html": [
       "\n",
       "\n",
       "\n",
       "\n",
       "\n",
       "\n",
       "  <div class=\"bk-root\" id=\"82bfbf44-98d9-46a3-a521-fa4d326241f0\" data-root-id=\"2107\"></div>\n"
      ]
     },
     "metadata": {},
     "output_type": "display_data"
    },
    {
     "data": {
      "application/javascript": [
       "(function(root) {\n",
       "  function embed_document(root) {\n",
       "    \n",
       "  var docs_json = {\"f894fb43-ae77-4647-9b22-c7b535557473\":{\"roots\":{\"references\":[{\"attributes\":{\"below\":[{\"id\":\"2118\",\"type\":\"LinearAxis\"}],\"center\":[{\"id\":\"2122\",\"type\":\"Grid\"},{\"id\":\"2127\",\"type\":\"Grid\"},{\"id\":\"2150\",\"type\":\"Legend\"}],\"left\":[{\"id\":\"2123\",\"type\":\"LinearAxis\"}],\"plot_width\":900,\"renderers\":[{\"id\":\"2142\",\"type\":\"GlyphRenderer\"},{\"id\":\"2155\",\"type\":\"GlyphRenderer\"},{\"id\":\"2160\",\"type\":\"GlyphRenderer\"},{\"id\":\"2176\",\"type\":\"GlyphRenderer\"}],\"title\":{\"id\":\"2108\",\"type\":\"Title\"},\"toolbar\":{\"id\":\"2133\",\"type\":\"Toolbar\"},\"x_range\":{\"id\":\"2110\",\"type\":\"DataRange1d\"},\"x_scale\":{\"id\":\"2114\",\"type\":\"LinearScale\"},\"y_range\":{\"id\":\"2112\",\"type\":\"Range1d\"},\"y_scale\":{\"id\":\"2116\",\"type\":\"LinearScale\"}},\"id\":\"2107\",\"subtype\":\"Figure\",\"type\":\"Plot\"},{\"attributes\":{\"fill_color\":{\"value\":\"purple\"},\"line_color\":{\"value\":null},\"x\":{\"field\":\"x\"},\"y\":{\"field\":\"y\"}},\"id\":\"2153\",\"type\":\"Circle\"},{\"attributes\":{},\"id\":\"2189\",\"type\":\"Selection\"},{\"attributes\":{\"active_drag\":\"auto\",\"active_inspect\":\"auto\",\"active_multi\":null,\"active_scroll\":\"auto\",\"active_tap\":\"auto\",\"tools\":[{\"id\":\"2128\",\"type\":\"PanTool\"},{\"id\":\"2129\",\"type\":\"BoxZoomTool\"},{\"id\":\"2130\",\"type\":\"ResetTool\"},{\"id\":\"2131\",\"type\":\"SaveTool\"},{\"id\":\"2132\",\"type\":\"HoverTool\"}]},\"id\":\"2133\",\"type\":\"Toolbar\"},{\"attributes\":{\"callback\":null,\"data\":{\"tess\":[275493837,121789795,63007124,275490626,171098535,63210277,351803000,170253623,158791870,164724054,122684770,121457565,273582401,267991320,137218354,184089663,272370950,159172008,121659832,138728898,169460055,169466444,122213500,63209318,120963553,267746802,271165094,27395090,298964604,270608620,185058148,271426791,273687618,272719990,239227465,27186774,271538184,121215119,121939294,352013209,185058255,170344764,378084176,120422997,63075888,270856793,26597576,158412743,121329643,351055098,120890400,137408312,267671733,279916031,271547585,158936101,121939266,239225673,27389081,121785547,138725623],\"x\":[7.0,8.88,2.85,10.69,8.74,12.83,6.72,2.67,6.41,2.81,2.19,10.68,11.96,7.7,3.56,8.6,3.72,11.19,10.5,0.84,3.32,1.54,1.37,12.11,10.51,3.2,11.11,1.18,5.62,1.85,3.83,2.38,2.7,12.12,8.23,3.54,8.01,6.32,11.72,7.97,1.45,12.32,2.78,10.03,1.45,1.68,3.15,0.57,1.18,6.4,2.99,0.96,6.24,7.59,3.91,6.42,1.03,8.52,9.73,9.44,8.54],\"y\":[0.01043044219396304,0.010466031308605137,0.010455116536496032,0.010454962684451693,0.01042444161650941,0.0208796822801977,0.010455444191755923,0.02089370975474007,0.02073227656612099,0.02089106484166426,0.02089106747014351,0.02077673955954041,0.011200409891589942,0.010401895334931776,0.0208658582210329,0.020956106866512288,0.02106888923591606,0.01044013273659174,0.020931576423978807,0.010288445145498214,0.02073755895759237,0.02094355128345194,0.010338017718140462,0.010402113717320008,0.01074502043120679,0.02089576639329427,0.010437622365525027,0.02121403016911685,0.020300248399470686,0.010475190345871353,0.020892686039348084,0.010279779467425667,0.010401890755512636,0.010430220532582237,0.010441257958966773,0.010393342381470582,0.01042458463305001,0.01040710346695378,0.010403477198264224,0.020790850180163516,0.010491328799191386,0.010488190757377863,0.02115067069450785,0.020900361910805933,0.010402051749079726,0.02136766487537469,0.0209627125445426,0.010611638817124075,0.010455005399056841,0.02096077120700867,0.02067524393449228,0.01040355677348823,0.0104243190688951,0.01045584497722909,0.010345767927615861,0.010400755974183051,0.010370607805718595,0.010386258215272318,0.02077697019599032,0.00973308874558381,0.010403662526062434]},\"selected\":{\"id\":\"2171\",\"type\":\"Selection\"},\"selection_policy\":{\"id\":\"2170\",\"type\":\"UnionRenderers\"}},\"id\":\"2106\",\"type\":\"ColumnDataSource\"},{\"attributes\":{\"dimension\":1,\"ticker\":{\"id\":\"2124\",\"type\":\"BasicTicker\"}},\"id\":\"2127\",\"type\":\"Grid\"},{\"attributes\":{\"overlay\":{\"id\":\"2149\",\"type\":\"BoxAnnotation\"}},\"id\":\"2129\",\"type\":\"BoxZoomTool\"},{\"attributes\":{\"callback\":null,\"data\":{\"x\":[7.0,8.88,2.85,10.69,8.74,12.83,6.72,2.67,6.41,2.81,2.19,10.68,11.96,7.7,3.56,8.6,3.72,11.19,10.5,0.84,3.32,1.54,1.37,12.11,10.51,3.2,11.11,1.18,5.62,1.85,3.83,2.38,2.7,12.12,8.23,3.54,8.01,6.32,11.72,7.97,1.45,12.32,2.78,10.03,1.45,1.68,3.15,0.57,1.18,6.4,2.99,0.96,6.24,7.59,3.91,6.42,1.03,8.52,9.73,9.44,8.54],\"y\":[3.5,4.44,1.425,5.345,4.37,6.415,3.36,1.335,3.205,1.405,1.095,5.34,5.98,3.85,1.78,4.3,1.86,5.595,5.25,0.42,1.66,0.77,0.685,6.055,5.255,1.6,5.555,0.59,2.81,0.925,1.915,1.19,1.35,6.06,4.115,1.77,4.005,3.16,5.86,3.985,0.725,6.16,1.39,5.015,0.725,0.84,1.575,0.285,0.59,3.2,1.495,0.48,3.12,3.795,1.955,3.21,0.515,4.26,4.865,4.72,4.27]},\"selected\":{\"id\":\"2277\",\"type\":\"Selection\"},\"selection_policy\":{\"id\":\"2276\",\"type\":\"UnionRenderers\"}},\"id\":\"2173\",\"type\":\"ColumnDataSource\"},{\"attributes\":{\"source\":{\"id\":\"2157\",\"type\":\"ColumnDataSource\"}},\"id\":\"2161\",\"type\":\"CDSView\"},{\"attributes\":{},\"id\":\"2116\",\"type\":\"LinearScale\"},{\"attributes\":{\"line_color\":\"plum\",\"line_dash\":[4,4],\"line_width\":2,\"x\":{\"field\":\"x\"},\"y\":{\"field\":\"y\"}},\"id\":\"2140\",\"type\":\"Line\"},{\"attributes\":{\"line_alpha\":0.1,\"line_color\":\"#1f77b4\",\"line_dash\":[4,4],\"line_width\":2,\"x\":{\"field\":\"x\"},\"y\":{\"field\":\"y\"}},\"id\":\"2141\",\"type\":\"Line\"},{\"attributes\":{\"callback\":null,\"data\":{\"x\":[7.0,8.88,2.85,10.69,8.74,12.83,6.72,2.67,6.41,2.81,2.19,10.68,11.96,7.7,3.56,8.6,3.72,11.19,10.5,0.84,3.32,1.54,1.37,12.11,10.51,3.2,11.11,1.18,5.62,1.85,3.83,2.38,2.7,12.12,8.23,3.54,8.01,6.32,11.72,7.97,1.45,12.32,2.78,10.03,1.45,1.68,3.15,0.57,1.18,6.4,2.99,0.96,6.24,7.59,3.91,6.42,1.03,8.52,9.73,9.44,8.54],\"y\":[14.0,17.76,5.7,21.38,17.48,25.66,13.44,5.34,12.82,5.62,4.38,21.36,23.92,15.4,7.12,17.2,7.44,22.38,21.0,1.68,6.64,3.08,2.74,24.22,21.02,6.4,22.22,2.36,11.24,3.7,7.66,4.76,5.4,24.24,16.46,7.08,16.02,12.64,23.44,15.94,2.9,24.64,5.56,20.06,2.9,3.36,6.3,1.14,2.36,12.8,5.98,1.92,12.48,15.18,7.82,12.84,2.06,17.04,19.46,18.88,17.08]},\"selected\":{\"id\":\"2189\",\"type\":\"Selection\"},\"selection_policy\":{\"id\":\"2188\",\"type\":\"UnionRenderers\"}},\"id\":\"2157\",\"type\":\"ColumnDataSource\"},{\"attributes\":{\"source\":{\"id\":\"2173\",\"type\":\"ColumnDataSource\"}},\"id\":\"2177\",\"type\":\"CDSView\"},{\"attributes\":{\"data_source\":{\"id\":\"2173\",\"type\":\"ColumnDataSource\"},\"glyph\":{\"id\":\"2174\",\"type\":\"Line\"},\"hover_glyph\":null,\"muted_glyph\":null,\"nonselection_glyph\":{\"id\":\"2175\",\"type\":\"Line\"},\"selection_glyph\":null,\"view\":{\"id\":\"2177\",\"type\":\"CDSView\"}},\"id\":\"2176\",\"type\":\"GlyphRenderer\"},{\"attributes\":{\"bottom_units\":\"screen\",\"fill_alpha\":{\"value\":0.5},\"fill_color\":{\"value\":\"lightgrey\"},\"left_units\":\"screen\",\"level\":\"overlay\",\"line_alpha\":{\"value\":1.0},\"line_color\":{\"value\":\"black\"},\"line_dash\":[4,4],\"line_width\":{\"value\":2},\"render_mode\":\"css\",\"right_units\":\"screen\",\"top_units\":\"screen\"},\"id\":\"2149\",\"type\":\"BoxAnnotation\"},{\"attributes\":{\"axis_label\":\"Lomb-Scargle Period\",\"formatter\":{\"id\":\"2148\",\"type\":\"BasicTickFormatter\"},\"ticker\":{\"id\":\"2124\",\"type\":\"BasicTicker\"}},\"id\":\"2123\",\"type\":\"LinearAxis\"},{\"attributes\":{},\"id\":\"2119\",\"type\":\"BasicTicker\"},{\"attributes\":{\"label\":{\"value\":\"y=x\"},\"renderers\":[{\"id\":\"2142\",\"type\":\"GlyphRenderer\"}]},\"id\":\"2151\",\"type\":\"LegendItem\"},{\"attributes\":{},\"id\":\"2169\",\"type\":\"Selection\"},{\"attributes\":{},\"id\":\"2114\",\"type\":\"LinearScale\"},{\"attributes\":{\"ticker\":{\"id\":\"2119\",\"type\":\"BasicTicker\"}},\"id\":\"2122\",\"type\":\"Grid\"},{\"attributes\":{\"line_color\":\"orange\",\"line_dash\":[2,4],\"x\":{\"field\":\"x\"},\"y\":{\"field\":\"y\"}},\"id\":\"2158\",\"type\":\"Line\"},{\"attributes\":{},\"id\":\"2168\",\"type\":\"UnionRenderers\"},{\"attributes\":{\"fill_alpha\":{\"value\":0.1},\"fill_color\":{\"value\":\"#1f77b4\"},\"line_alpha\":{\"value\":0.1},\"line_color\":{\"value\":\"#1f77b4\"},\"x\":{\"field\":\"x\"},\"y\":{\"field\":\"y\"}},\"id\":\"2154\",\"type\":\"Circle\"},{\"attributes\":{\"line_color\":\"powderblue\",\"line_dash\":[2,4],\"x\":{\"field\":\"x\"},\"y\":{\"field\":\"y\"}},\"id\":\"2174\",\"type\":\"Line\"},{\"attributes\":{\"callback\":null,\"end\":15},\"id\":\"2112\",\"type\":\"Range1d\"},{\"attributes\":{\"label\":{\"value\":\"y=2x\"},\"renderers\":[{\"id\":\"2160\",\"type\":\"GlyphRenderer\"}]},\"id\":\"2172\",\"type\":\"LegendItem\"},{\"attributes\":{},\"id\":\"2148\",\"type\":\"BasicTickFormatter\"},{\"attributes\":{},\"id\":\"2188\",\"type\":\"UnionRenderers\"},{\"attributes\":{},\"id\":\"2124\",\"type\":\"BasicTicker\"},{\"attributes\":{},\"id\":\"2277\",\"type\":\"Selection\"},{\"attributes\":{\"text\":\"Exoplant Lomb-Scargle vs McQuillan TESS Periods\"},\"id\":\"2108\",\"type\":\"Title\"},{\"attributes\":{},\"id\":\"2171\",\"type\":\"Selection\"},{\"attributes\":{},\"id\":\"2130\",\"type\":\"ResetTool\"},{\"attributes\":{},\"id\":\"2131\",\"type\":\"SaveTool\"},{\"attributes\":{\"callback\":null,\"data\":{\"x\":[7.0,8.88,2.85,10.69,8.74,12.83,6.72,2.67,6.41,2.81,2.19,10.68,11.96,7.7,3.56,8.6,3.72,11.19,10.5,0.84,3.32,1.54,1.37,12.11,10.51,3.2,11.11,1.18,5.62,1.85,3.83,2.38,2.7,12.12,8.23,3.54,8.01,6.32,11.72,7.97,1.45,12.32,2.78,10.03,1.45,1.68,3.15,0.57,1.18,6.4,2.99,0.96,6.24,7.59,3.91,6.42,1.03,8.52,9.73,9.44,8.54],\"y\":[7.0,8.88,2.85,10.69,8.74,12.83,6.72,2.67,6.41,2.81,2.19,10.68,11.96,7.7,3.56,8.6,3.72,11.19,10.5,0.84,3.32,1.54,1.37,12.11,10.51,3.2,11.11,1.18,5.62,1.85,3.83,2.38,2.7,12.12,8.23,3.54,8.01,6.32,11.72,7.97,1.45,12.32,2.78,10.03,1.45,1.68,3.15,0.57,1.18,6.4,2.99,0.96,6.24,7.59,3.91,6.42,1.03,8.52,9.73,9.44,8.54]},\"selected\":{\"id\":\"2169\",\"type\":\"Selection\"},\"selection_policy\":{\"id\":\"2168\",\"type\":\"UnionRenderers\"}},\"id\":\"2139\",\"type\":\"ColumnDataSource\"},{\"attributes\":{},\"id\":\"2276\",\"type\":\"UnionRenderers\"},{\"attributes\":{\"axis_label\":\"McQuillan Period\",\"formatter\":{\"id\":\"2146\",\"type\":\"BasicTickFormatter\"},\"ticker\":{\"id\":\"2119\",\"type\":\"BasicTicker\"}},\"id\":\"2118\",\"type\":\"LinearAxis\"},{\"attributes\":{\"line_alpha\":0.1,\"line_color\":\"#1f77b4\",\"line_dash\":[2,4],\"x\":{\"field\":\"x\"},\"y\":{\"field\":\"y\"}},\"id\":\"2159\",\"type\":\"Line\"},{\"attributes\":{},\"id\":\"2146\",\"type\":\"BasicTickFormatter\"},{\"attributes\":{\"callback\":null,\"tooltips\":[[\"index\",\"$index\"],[\"(x,y)\",\"($x, $y)\"],[\"TIC ID\",\"@tess\"]]},\"id\":\"2132\",\"type\":\"HoverTool\"},{\"attributes\":{\"source\":{\"id\":\"2106\",\"type\":\"ColumnDataSource\"}},\"id\":\"2156\",\"type\":\"CDSView\"},{\"attributes\":{\"label\":{\"value\":\"y=0.5*x\"},\"renderers\":[{\"id\":\"2176\",\"type\":\"GlyphRenderer\"}]},\"id\":\"2190\",\"type\":\"LegendItem\"},{\"attributes\":{},\"id\":\"2170\",\"type\":\"UnionRenderers\"},{\"attributes\":{\"data_source\":{\"id\":\"2106\",\"type\":\"ColumnDataSource\"},\"glyph\":{\"id\":\"2153\",\"type\":\"Circle\"},\"hover_glyph\":null,\"muted_glyph\":null,\"nonselection_glyph\":{\"id\":\"2154\",\"type\":\"Circle\"},\"selection_glyph\":null,\"view\":{\"id\":\"2156\",\"type\":\"CDSView\"}},\"id\":\"2155\",\"type\":\"GlyphRenderer\"},{\"attributes\":{\"callback\":null},\"id\":\"2110\",\"type\":\"DataRange1d\"},{\"attributes\":{\"data_source\":{\"id\":\"2139\",\"type\":\"ColumnDataSource\"},\"glyph\":{\"id\":\"2140\",\"type\":\"Line\"},\"hover_glyph\":null,\"muted_glyph\":null,\"name\":\"y=x\",\"nonselection_glyph\":{\"id\":\"2141\",\"type\":\"Line\"},\"selection_glyph\":null,\"view\":{\"id\":\"2143\",\"type\":\"CDSView\"}},\"id\":\"2142\",\"type\":\"GlyphRenderer\"},{\"attributes\":{\"data_source\":{\"id\":\"2157\",\"type\":\"ColumnDataSource\"},\"glyph\":{\"id\":\"2158\",\"type\":\"Line\"},\"hover_glyph\":null,\"muted_glyph\":null,\"nonselection_glyph\":{\"id\":\"2159\",\"type\":\"Line\"},\"selection_glyph\":null,\"view\":{\"id\":\"2161\",\"type\":\"CDSView\"}},\"id\":\"2160\",\"type\":\"GlyphRenderer\"},{\"attributes\":{\"source\":{\"id\":\"2139\",\"type\":\"ColumnDataSource\"}},\"id\":\"2143\",\"type\":\"CDSView\"},{\"attributes\":{\"line_alpha\":0.1,\"line_color\":\"#1f77b4\",\"line_dash\":[2,4],\"x\":{\"field\":\"x\"},\"y\":{\"field\":\"y\"}},\"id\":\"2175\",\"type\":\"Line\"},{\"attributes\":{},\"id\":\"2128\",\"type\":\"PanTool\"},{\"attributes\":{\"items\":[{\"id\":\"2151\",\"type\":\"LegendItem\"},{\"id\":\"2172\",\"type\":\"LegendItem\"},{\"id\":\"2190\",\"type\":\"LegendItem\"}]},\"id\":\"2150\",\"type\":\"Legend\"}],\"root_ids\":[\"2107\"]},\"title\":\"Bokeh Application\",\"version\":\"1.3.4\"}};\n",
       "  var render_items = [{\"docid\":\"f894fb43-ae77-4647-9b22-c7b535557473\",\"roots\":{\"2107\":\"82bfbf44-98d9-46a3-a521-fa4d326241f0\"}}];\n",
       "  root.Bokeh.embed.embed_items_notebook(docs_json, render_items);\n",
       "\n",
       "  }\n",
       "  if (root.Bokeh !== undefined) {\n",
       "    embed_document(root);\n",
       "  } else {\n",
       "    var attempts = 0;\n",
       "    var timer = setInterval(function(root) {\n",
       "      if (root.Bokeh !== undefined) {\n",
       "        embed_document(root);\n",
       "        clearInterval(timer);\n",
       "      }\n",
       "      attempts++;\n",
       "      if (attempts > 100) {\n",
       "        console.log(\"Bokeh: ERROR: Unable to run BokehJS code because BokehJS library is missing\");\n",
       "        clearInterval(timer);\n",
       "      }\n",
       "    }, 10, root)\n",
       "  }\n",
       "})(window);"
      ],
      "application/vnd.bokehjs_exec.v0+json": ""
     },
     "metadata": {
      "application/vnd.bokehjs_exec.v0+json": {
       "id": "2107"
      }
     },
     "output_type": "display_data"
    }
   ],
   "source": [
    "x =  short_periods\n",
    "y = exo_ls\n",
    "\n",
    "source = ColumnDataSource(data=dict(\n",
    "    x =  short_periods,\n",
    "    y = exo_ls, \n",
    "    tess = (cat['tic_id'])[0:61]))\n",
    "\n",
    "x2 = [i*2 for i in x]\n",
    "x_half = [float(i)*0.5 for i in x]\n",
    "\n",
    "exo_ls_plot = figure(\n",
    "   tools=\"pan,box_zoom,reset,save,hover\",\n",
    "   y_range=[0, 15], title=\"Exoplant Lomb-Scargle vs McQuillan TESS Periods\",\n",
    "   x_axis_label='McQuillan Period', y_axis_label='Lomb-Scargle Period', plot_width=900)\n",
    "\n",
    "exo_ls_plot.line(x, x, name = \"y=x\", color = 'plum', line_dash=\"4 4\", legend = \"y=x\", line_width = 2)\n",
    "exo_ls_plot.circle('x', 'y', source = source, color=\"purple\", line_color=None)\n",
    "exo_ls_plot.line(x, x2, legend=\"y=2x\", line_width=1, color = 'orange', line_dash=\"dotted\")\n",
    "exo_ls_plot.line(x, x_half, legend=\"y=0.5*x\", line_width=1, color = 'powderblue', line_dash=\"dotted\")\n",
    "\n",
    "exo_ls_plot.hover.tooltips = [\n",
    "    (\"index\", \"$index\"), \n",
    "    (\"(x,y)\", \"($x, $y)\"), \n",
    "    (\"TIC ID\", \"@tess\")] \n",
    "\n",
    "show(exo_ls_plot)"
   ]
  },
  {
   "cell_type": "code",
   "execution_count": 24,
   "metadata": {},
   "outputs": [],
   "source": [
    "#finding differences between Exo Lomb-Scargle and McQ tess period\n",
    "differences_exo_ls_mcq = []\n",
    "\n",
    "for indx, period in enumerate(short_periods):\n",
    "    diff = np.abs(period - exo_ls[indx])\n",
    "    differences_exo_ls_mcq.append(diff)"
   ]
  },
  {
   "cell_type": "code",
   "execution_count": 25,
   "metadata": {},
   "outputs": [
    {
     "data": {
      "text/html": [
       "\n",
       "\n",
       "\n",
       "\n",
       "\n",
       "\n",
       "  <div class=\"bk-root\" id=\"8cc680d4-d1d6-4cfa-b9e1-bbdb8ee09d3a\" data-root-id=\"2363\"></div>\n"
      ]
     },
     "metadata": {},
     "output_type": "display_data"
    },
    {
     "data": {
      "application/javascript": [
       "(function(root) {\n",
       "  function embed_document(root) {\n",
       "    \n",
       "  var docs_json = {\"35435046-67ad-445e-9f4c-2e726c072774\":{\"roots\":{\"references\":[{\"attributes\":{\"below\":[{\"id\":\"2374\",\"type\":\"LinearAxis\"}],\"center\":[{\"id\":\"2378\",\"type\":\"Grid\"},{\"id\":\"2383\",\"type\":\"Grid\"},{\"id\":\"2406\",\"type\":\"Legend\"}],\"left\":[{\"id\":\"2379\",\"type\":\"LinearAxis\"}],\"plot_width\":900,\"renderers\":[{\"id\":\"2398\",\"type\":\"GlyphRenderer\"},{\"id\":\"2411\",\"type\":\"GlyphRenderer\"}],\"title\":{\"id\":\"2364\",\"type\":\"Title\"},\"toolbar\":{\"id\":\"2389\",\"type\":\"Toolbar\"},\"x_range\":{\"id\":\"2366\",\"type\":\"DataRange1d\"},\"x_scale\":{\"id\":\"2370\",\"type\":\"LinearScale\"},\"y_range\":{\"id\":\"2368\",\"type\":\"Range1d\"},\"y_scale\":{\"id\":\"2372\",\"type\":\"LinearScale\"}},\"id\":\"2363\",\"subtype\":\"Figure\",\"type\":\"Plot\"},{\"attributes\":{\"callback\":null},\"id\":\"2366\",\"type\":\"DataRange1d\"},{\"attributes\":{\"active_drag\":\"auto\",\"active_inspect\":\"auto\",\"active_multi\":null,\"active_scroll\":\"auto\",\"active_tap\":\"auto\",\"tools\":[{\"id\":\"2384\",\"type\":\"PanTool\"},{\"id\":\"2385\",\"type\":\"BoxZoomTool\"},{\"id\":\"2386\",\"type\":\"ResetTool\"},{\"id\":\"2387\",\"type\":\"SaveTool\"},{\"id\":\"2388\",\"type\":\"HoverTool\"}]},\"id\":\"2389\",\"type\":\"Toolbar\"},{\"attributes\":{},\"id\":\"2384\",\"type\":\"PanTool\"},{\"attributes\":{\"fill_color\":{\"value\":\"mediumblue\"},\"line_color\":{\"value\":null},\"x\":{\"field\":\"x\"},\"y\":{\"field\":\"y\"}},\"id\":\"2409\",\"type\":\"Circle\"},{\"attributes\":{\"source\":{\"id\":\"2362\",\"type\":\"ColumnDataSource\"}},\"id\":\"2412\",\"type\":\"CDSView\"},{\"attributes\":{\"axis_label\":\"McQuillan Period\",\"formatter\":{\"id\":\"2402\",\"type\":\"BasicTickFormatter\"},\"ticker\":{\"id\":\"2375\",\"type\":\"BasicTicker\"}},\"id\":\"2374\",\"type\":\"LinearAxis\"},{\"attributes\":{\"text\":\"Differences Between Exo L-S and McQ TESS Periods\"},\"id\":\"2364\",\"type\":\"Title\"},{\"attributes\":{},\"id\":\"2370\",\"type\":\"LinearScale\"},{\"attributes\":{},\"id\":\"2372\",\"type\":\"LinearScale\"},{\"attributes\":{\"ticker\":{\"id\":\"2375\",\"type\":\"BasicTicker\"}},\"id\":\"2378\",\"type\":\"Grid\"},{\"attributes\":{\"items\":[{\"id\":\"2407\",\"type\":\"LegendItem\"}]},\"id\":\"2406\",\"type\":\"Legend\"},{\"attributes\":{\"callback\":null,\"end\":15,\"start\":-1},\"id\":\"2368\",\"type\":\"Range1d\"},{\"attributes\":{\"source\":{\"id\":\"2395\",\"type\":\"ColumnDataSource\"}},\"id\":\"2399\",\"type\":\"CDSView\"},{\"attributes\":{\"data_source\":{\"id\":\"2395\",\"type\":\"ColumnDataSource\"},\"glyph\":{\"id\":\"2396\",\"type\":\"Line\"},\"hover_glyph\":null,\"muted_glyph\":null,\"name\":\"y=0\",\"nonselection_glyph\":{\"id\":\"2397\",\"type\":\"Line\"},\"selection_glyph\":null,\"view\":{\"id\":\"2399\",\"type\":\"CDSView\"}},\"id\":\"2398\",\"type\":\"GlyphRenderer\"},{\"attributes\":{},\"id\":\"2508\",\"type\":\"UnionRenderers\"},{\"attributes\":{\"bottom_units\":\"screen\",\"fill_alpha\":{\"value\":0.5},\"fill_color\":{\"value\":\"lightgrey\"},\"left_units\":\"screen\",\"level\":\"overlay\",\"line_alpha\":{\"value\":1.0},\"line_color\":{\"value\":\"black\"},\"line_dash\":[4,4],\"line_width\":{\"value\":2},\"render_mode\":\"css\",\"right_units\":\"screen\",\"top_units\":\"screen\"},\"id\":\"2405\",\"type\":\"BoxAnnotation\"},{\"attributes\":{},\"id\":\"2506\",\"type\":\"UnionRenderers\"},{\"attributes\":{\"dimension\":1,\"ticker\":{\"id\":\"2380\",\"type\":\"BasicTicker\"}},\"id\":\"2383\",\"type\":\"Grid\"},{\"attributes\":{},\"id\":\"2402\",\"type\":\"BasicTickFormatter\"},{\"attributes\":{\"label\":{\"value\":\"y=0\"},\"renderers\":[{\"id\":\"2398\",\"type\":\"GlyphRenderer\"}]},\"id\":\"2407\",\"type\":\"LegendItem\"},{\"attributes\":{\"axis_label\":\"Difference Between Period Calculations\",\"formatter\":{\"id\":\"2404\",\"type\":\"BasicTickFormatter\"},\"ticker\":{\"id\":\"2380\",\"type\":\"BasicTicker\"}},\"id\":\"2379\",\"type\":\"LinearAxis\"},{\"attributes\":{\"callback\":null,\"tooltips\":[[\"index\",\"$index\"],[\"(x,y)\",\"($x, $y)\"],[\"TIC ID\",\"@tess\"]]},\"id\":\"2388\",\"type\":\"HoverTool\"},{\"attributes\":{\"line_color\":\"slategrey\",\"line_dash\":[4,4],\"line_width\":2,\"x\":{\"field\":\"x\"},\"y\":{\"field\":\"y\"}},\"id\":\"2396\",\"type\":\"Line\"},{\"attributes\":{\"line_alpha\":0.1,\"line_color\":\"#1f77b4\",\"line_dash\":[4,4],\"line_width\":2,\"x\":{\"field\":\"x\"},\"y\":{\"field\":\"y\"}},\"id\":\"2397\",\"type\":\"Line\"},{\"attributes\":{},\"id\":\"2507\",\"type\":\"Selection\"},{\"attributes\":{\"callback\":null,\"data\":{\"x\":[7.0,8.88,2.85,10.69,8.74,12.83,6.72,2.67,6.41,2.81,2.19,10.68,11.96,7.7,3.56,8.6,3.72,11.19,10.5,0.84,3.32,1.54,1.37,12.11,10.51,3.2,11.11,1.18,5.62,1.85,3.83,2.38,2.7,12.12,8.23,3.54,8.01,6.32,11.72,7.97,1.45,12.32,2.78,10.03,1.45,1.68,3.15,0.57,1.18,6.4,2.99,0.96,6.24,7.59,3.91,6.42,1.03,8.52,9.73,9.44,8.54],\"y\":[0.0,0.0,0.0,0.0,0.0,0.0,0.0,0.0,0.0,0.0,0.0,0.0,0.0,0.0,0.0,0.0,0.0,0.0,0.0,0.0,0.0,0.0,0.0,0.0,0.0,0.0,0.0,0.0,0.0,0.0,0.0,0.0,0.0,0.0,0.0,0.0,0.0,0.0,0.0,0.0,0.0,0.0,0.0,0.0,0.0,0.0,0.0,0.0,0.0,0.0,0.0,0.0,0.0,0.0,0.0,0.0,0.0,0.0,0.0,0.0,0.0]},\"selected\":{\"id\":\"2507\",\"type\":\"Selection\"},\"selection_policy\":{\"id\":\"2506\",\"type\":\"UnionRenderers\"}},\"id\":\"2395\",\"type\":\"ColumnDataSource\"},{\"attributes\":{},\"id\":\"2404\",\"type\":\"BasicTickFormatter\"},{\"attributes\":{},\"id\":\"2509\",\"type\":\"Selection\"},{\"attributes\":{},\"id\":\"2375\",\"type\":\"BasicTicker\"},{\"attributes\":{\"data_source\":{\"id\":\"2362\",\"type\":\"ColumnDataSource\"},\"glyph\":{\"id\":\"2409\",\"type\":\"Circle\"},\"hover_glyph\":null,\"muted_glyph\":null,\"nonselection_glyph\":{\"id\":\"2410\",\"type\":\"Circle\"},\"selection_glyph\":null,\"view\":{\"id\":\"2412\",\"type\":\"CDSView\"}},\"id\":\"2411\",\"type\":\"GlyphRenderer\"},{\"attributes\":{\"fill_alpha\":{\"value\":0.1},\"fill_color\":{\"value\":\"#1f77b4\"},\"line_alpha\":{\"value\":0.1},\"line_color\":{\"value\":\"#1f77b4\"},\"x\":{\"field\":\"x\"},\"y\":{\"field\":\"y\"}},\"id\":\"2410\",\"type\":\"Circle\"},{\"attributes\":{},\"id\":\"2386\",\"type\":\"ResetTool\"},{\"attributes\":{},\"id\":\"2380\",\"type\":\"BasicTicker\"},{\"attributes\":{\"overlay\":{\"id\":\"2405\",\"type\":\"BoxAnnotation\"}},\"id\":\"2385\",\"type\":\"BoxZoomTool\"},{\"attributes\":{\"callback\":null,\"data\":{\"tess\":[275493837,121789795,63007124,275490626,171098535,63210277,351803000,170253623,158791870,164724054,122684770,121457565,273582401,267991320,137218354,184089663,272370950,159172008,121659832,138728898,169460055,169466444,122213500,63209318,120963553,267746802,271165094,27395090,298964604,270608620,185058148,271426791,273687618,272719990,239227465,27186774,271538184,121215119,121939294,352013209,185058255,170344764,378084176,120422997,63075888,270856793,26597576,158412743,121329643,351055098,120890400,137408312,267671733,279916031,271547585,158936101,121939266,239225673,27389081,121785547,138725623],\"x\":[7.0,8.88,2.85,10.69,8.74,12.83,6.72,2.67,6.41,2.81,2.19,10.68,11.96,7.7,3.56,8.6,3.72,11.19,10.5,0.84,3.32,1.54,1.37,12.11,10.51,3.2,11.11,1.18,5.62,1.85,3.83,2.38,2.7,12.12,8.23,3.54,8.01,6.32,11.72,7.97,1.45,12.32,2.78,10.03,1.45,1.68,3.15,0.57,1.18,6.4,2.99,0.96,6.24,7.59,3.91,6.42,1.03,8.52,9.73,9.44,8.54],\"y\":[6.989569557806037,8.869533968691396,2.839544883463504,10.679545037315547,8.729575558383491,12.809120317719803,6.709544555808244,2.64910629024526,6.389267723433879,2.789108935158336,2.1691089325298565,10.65922326044046,11.948799590108411,7.689598104665069,3.539134141778967,8.579043893133488,3.698931110764084,11.179559867263407,10.47906842357602,0.8297115548545018,3.2992624410424076,1.519056448716548,1.3596619822818596,12.09959788628268,10.499254979568793,3.179104233606706,11.099562377634474,1.1587859698308831,5.59969975160053,1.8395248096541288,3.809107313960652,2.369720220532574,2.6895981092444874,12.109569779467417,8.219558742041034,3.5296066576185297,7.99957541536695,6.309592896533046,11.709596522801736,7.949209149819836,1.4395086712008085,12.309511809242622,2.758849329305492,10.009099638089193,1.4395979482509202,1.6586323351246253,3.1290372874554575,0.5593883611828758,1.169544994600943,6.379039228792991,2.969324756065508,0.9495964432265117,6.229575680931105,7.579544155022771,3.8996542320723844,6.4095992440258165,1.0196293921942814,8.509613741784728,9.70922302980401,9.430266911254416,8.529596337473937]},\"selected\":{\"id\":\"2509\",\"type\":\"Selection\"},\"selection_policy\":{\"id\":\"2508\",\"type\":\"UnionRenderers\"}},\"id\":\"2362\",\"type\":\"ColumnDataSource\"},{\"attributes\":{},\"id\":\"2387\",\"type\":\"SaveTool\"}],\"root_ids\":[\"2363\"]},\"title\":\"Bokeh Application\",\"version\":\"1.3.4\"}};\n",
       "  var render_items = [{\"docid\":\"35435046-67ad-445e-9f4c-2e726c072774\",\"roots\":{\"2363\":\"8cc680d4-d1d6-4cfa-b9e1-bbdb8ee09d3a\"}}];\n",
       "  root.Bokeh.embed.embed_items_notebook(docs_json, render_items);\n",
       "\n",
       "  }\n",
       "  if (root.Bokeh !== undefined) {\n",
       "    embed_document(root);\n",
       "  } else {\n",
       "    var attempts = 0;\n",
       "    var timer = setInterval(function(root) {\n",
       "      if (root.Bokeh !== undefined) {\n",
       "        embed_document(root);\n",
       "        clearInterval(timer);\n",
       "      }\n",
       "      attempts++;\n",
       "      if (attempts > 100) {\n",
       "        console.log(\"Bokeh: ERROR: Unable to run BokehJS code because BokehJS library is missing\");\n",
       "        clearInterval(timer);\n",
       "      }\n",
       "    }, 10, root)\n",
       "  }\n",
       "})(window);"
      ],
      "application/vnd.bokehjs_exec.v0+json": ""
     },
     "metadata": {
      "application/vnd.bokehjs_exec.v0+json": {
       "id": "2363"
      }
     },
     "output_type": "display_data"
    }
   ],
   "source": [
    "x =  short_periods\n",
    "y = differences_exo_ls_mcq\n",
    "\n",
    "source = ColumnDataSource(data=dict(\n",
    "    x = short_periods,\n",
    "    y = differences_exo_ls_mcq, \n",
    "    tess = (cat['tic_id'])[0:61]))\n",
    "\n",
    "x2 = [i*2 for i in x]\n",
    "x_half = [float(i)*0.5 for i in x]\n",
    "x_0 = [i*0 for i in x]\n",
    "\n",
    "exo_diff_plot = figure(\n",
    "   tools=\"pan,box_zoom,reset,save,hover\",\n",
    "   y_range=[-1, 15], title=\"Differences Between Exo L-S and McQ TESS Periods\",\n",
    "   x_axis_label='McQuillan Period', y_axis_label='Difference Between Period Calculations', plot_width=900)\n",
    "\n",
    "exo_diff_plot.line(x, x_0, name = \"y=0\", color = 'slategrey', line_dash=\"4 4\", legend = \"y=0\", line_width = 2)\n",
    "exo_diff_plot.circle('x', 'y', source = source, color=\"mediumblue\", line_color=None)\n",
    "\n",
    "\n",
    "exo_diff_plot.hover.tooltips = [\n",
    "    (\"index\", \"$index\"), \n",
    "    (\"(x,y)\", \"($x, $y)\"), \n",
    "    (\"TIC ID\", \"@tess\")] \n",
    "\n",
    "show(exo_diff_plot)"
   ]
  },
  {
   "cell_type": "code",
   "execution_count": 26,
   "metadata": {},
   "outputs": [],
   "source": [
    "#finding differences between Lomb-Scargle and PDM calculated tess period\n",
    "differences_ls_pdm = []\n",
    "\n",
    "for indx, period in enumerate(short_tess_period):\n",
    "    tess_diff = np.abs(period - ls_periods[indx])\n",
    "    differences_ls_pdm.append(tess_diff)"
   ]
  },
  {
   "cell_type": "code",
   "execution_count": 27,
   "metadata": {},
   "outputs": [
    {
     "data": {
      "text/html": [
       "\n",
       "\n",
       "\n",
       "\n",
       "\n",
       "\n",
       "  <div class=\"bk-root\" id=\"9cdb434d-b285-4976-b0ff-6b14f722b932\" data-root-id=\"2571\"></div>\n"
      ]
     },
     "metadata": {},
     "output_type": "display_data"
    },
    {
     "data": {
      "application/javascript": [
       "(function(root) {\n",
       "  function embed_document(root) {\n",
       "    \n",
       "  var docs_json = {\"3e944705-2505-45c2-a9a3-d0bcc6ca58c2\":{\"roots\":{\"references\":[{\"attributes\":{\"below\":[{\"id\":\"2582\",\"type\":\"LinearAxis\"}],\"center\":[{\"id\":\"2586\",\"type\":\"Grid\"},{\"id\":\"2591\",\"type\":\"Grid\"},{\"id\":\"2614\",\"type\":\"Legend\"}],\"left\":[{\"id\":\"2587\",\"type\":\"LinearAxis\"}],\"plot_width\":900,\"renderers\":[{\"id\":\"2606\",\"type\":\"GlyphRenderer\"},{\"id\":\"2619\",\"type\":\"GlyphRenderer\"}],\"title\":{\"id\":\"2572\",\"type\":\"Title\"},\"toolbar\":{\"id\":\"2597\",\"type\":\"Toolbar\"},\"x_range\":{\"id\":\"2574\",\"type\":\"DataRange1d\"},\"x_scale\":{\"id\":\"2578\",\"type\":\"LinearScale\"},\"y_range\":{\"id\":\"2576\",\"type\":\"Range1d\"},\"y_scale\":{\"id\":\"2580\",\"type\":\"LinearScale\"}},\"id\":\"2571\",\"subtype\":\"Figure\",\"type\":\"Plot\"},{\"attributes\":{\"dimension\":1,\"ticker\":{\"id\":\"2588\",\"type\":\"BasicTicker\"}},\"id\":\"2591\",\"type\":\"Grid\"},{\"attributes\":{\"line_alpha\":0.1,\"line_color\":\"#1f77b4\",\"line_dash\":[4,4],\"line_width\":2,\"x\":{\"field\":\"x\"},\"y\":{\"field\":\"y\"}},\"id\":\"2605\",\"type\":\"Line\"},{\"attributes\":{},\"id\":\"2610\",\"type\":\"BasicTickFormatter\"},{\"attributes\":{},\"id\":\"2588\",\"type\":\"BasicTicker\"},{\"attributes\":{\"axis_label\":\"Difference Between Period Calculations\",\"formatter\":{\"id\":\"2612\",\"type\":\"BasicTickFormatter\"},\"ticker\":{\"id\":\"2588\",\"type\":\"BasicTicker\"}},\"id\":\"2587\",\"type\":\"LinearAxis\"},{\"attributes\":{\"source\":{\"id\":\"2603\",\"type\":\"ColumnDataSource\"}},\"id\":\"2607\",\"type\":\"CDSView\"},{\"attributes\":{\"source\":{\"id\":\"2570\",\"type\":\"ColumnDataSource\"}},\"id\":\"2620\",\"type\":\"CDSView\"},{\"attributes\":{\"callback\":null,\"end\":15,\"start\":-1},\"id\":\"2576\",\"type\":\"Range1d\"},{\"attributes\":{},\"id\":\"2724\",\"type\":\"UnionRenderers\"},{\"attributes\":{\"items\":[{\"id\":\"2615\",\"type\":\"LegendItem\"}]},\"id\":\"2614\",\"type\":\"Legend\"},{\"attributes\":{\"bottom_units\":\"screen\",\"fill_alpha\":{\"value\":0.5},\"fill_color\":{\"value\":\"lightgrey\"},\"left_units\":\"screen\",\"level\":\"overlay\",\"line_alpha\":{\"value\":1.0},\"line_color\":{\"value\":\"black\"},\"line_dash\":[4,4],\"line_width\":{\"value\":2},\"render_mode\":\"css\",\"right_units\":\"screen\",\"top_units\":\"screen\"},\"id\":\"2613\",\"type\":\"BoxAnnotation\"},{\"attributes\":{},\"id\":\"2726\",\"type\":\"UnionRenderers\"},{\"attributes\":{\"callback\":null},\"id\":\"2574\",\"type\":\"DataRange1d\"},{\"attributes\":{\"line_color\":\"lightpink\",\"line_dash\":[4,4],\"line_width\":2,\"x\":{\"field\":\"x\"},\"y\":{\"field\":\"y\"}},\"id\":\"2604\",\"type\":\"Line\"},{\"attributes\":{},\"id\":\"2725\",\"type\":\"Selection\"},{\"attributes\":{\"active_drag\":\"auto\",\"active_inspect\":\"auto\",\"active_multi\":null,\"active_scroll\":\"auto\",\"active_tap\":\"auto\",\"tools\":[{\"id\":\"2592\",\"type\":\"PanTool\"},{\"id\":\"2593\",\"type\":\"BoxZoomTool\"},{\"id\":\"2594\",\"type\":\"ResetTool\"},{\"id\":\"2595\",\"type\":\"SaveTool\"},{\"id\":\"2596\",\"type\":\"HoverTool\"}]},\"id\":\"2597\",\"type\":\"Toolbar\"},{\"attributes\":{},\"id\":\"2592\",\"type\":\"PanTool\"},{\"attributes\":{\"callback\":null,\"data\":{\"kep\":[7756984,5352889,7033500,9025444,5561963,8099075,7584332,6228783,7517679,10124839,3643810,3633847,8972956,10684727,3747118,4761031,8179896,10006576,5264764,5022454,5384707,6306891,2845689,8432040,2556702,12010753,9595170,11197664,11237492,6611940,8264427,9226959,9172572,8574353,5809758,11512772,7129992,4142809,3946300,8938427,8330380,5473615,3658536,5344075,8300087,9028495,11192119,10394802,5520881,2162377,1996773,6205481,11911283,7016864,9839696,9764489,3946262,5207114,11920493,4355362,5630581],\"tess\":[275493837,121789795,63007124,275490626,171098535,63210277,351803000,170253623,158791870,164724054,122684770,121457565,273582401,267991320,137218354,184089663,272370950,159172008,121659832,138728898,169460055,169466444,122213500,63209318,120963553,267746802,271165094,27395090,298964604,270608620,185058148,271426791,273687618,272719990,239227465,27186774,271538184,121215119,121939294,352013209,185058255,170344764,378084176,120422997,63075888,270856793,26597576,158412743,121329643,351055098,120890400,137408312,267671733,279916031,271547585,158936101,121939266,239225673,27389081,121785547,138725623],\"x\":[7.0,8.88,2.85,10.69,8.74,12.83,6.72,2.67,6.41,2.81,2.19,10.68,11.96,7.7,3.56,8.6,3.72,11.19,10.5,0.84,3.32,1.54,1.37,12.11,10.51,3.2,11.11,1.18,5.62,1.85,3.83,2.38,2.7,12.12,8.23,3.54,8.01,6.32,11.72,7.97,1.45,12.32,2.78,10.03,1.45,1.68,3.15,0.57,1.18,6.4,2.99,0.96,6.24,7.59,3.91,6.42,1.03,8.52,9.73,9.44,8.54],\"y\":[0.054761336633025515,5.633920771025922,0.019933531293919504,4.232372498001803,6.135963650993787,0.44241715293552275,0.012946505319502588,0.5837278827887467,2.4431777209027734,0.5249453925908671,0.39620423111709346,0.06436339939356817,6.643410191721702,0.03937425751167645,7.4029256875365705,0.7169425291507374,1.8436458611359328,0.05068443379066956,0.025842628095470666,0.003207328972570589,4.07536232267942,5.738783944960467,0.006758358231822026,0.10930032781632804,6.168567985574393,0.10147213473717542,2.051299364543338,0.0007249812010257095,3.9638741874429346,5.674014103486869,0.08150060240352097,0.0007079753360654806,0.08673490858652766,0.17557980910956505,5.386885495335594,0.16938132114229454,10.399007100411527,7.050984019957588,0.19858674601899473,0.41292074587445526,0.014410630152618342,5.3957463519176425,0.000956694686170767,0.5701728655938609,0.3100502837762873,0.83315556162602,3.4706667636681097,0.0010826569967362643,1.8555838216352187,0.1294280781531496,5.426647169062029,0.2593565643770894,10.9909422954603,0.24718584533460142,6.187299288835003,0.007152644806425634,4.7145647838843665,3.530217801812906,0.14352523519792904,3.8180450291561407,0.10060671908411756]},\"selected\":{\"id\":\"2727\",\"type\":\"Selection\"},\"selection_policy\":{\"id\":\"2726\",\"type\":\"UnionRenderers\"}},\"id\":\"2570\",\"type\":\"ColumnDataSource\"},{\"attributes\":{\"overlay\":{\"id\":\"2613\",\"type\":\"BoxAnnotation\"}},\"id\":\"2593\",\"type\":\"BoxZoomTool\"},{\"attributes\":{},\"id\":\"2580\",\"type\":\"LinearScale\"},{\"attributes\":{},\"id\":\"2594\",\"type\":\"ResetTool\"},{\"attributes\":{\"fill_alpha\":{\"value\":0.1},\"fill_color\":{\"value\":\"#1f77b4\"},\"line_alpha\":{\"value\":0.1},\"line_color\":{\"value\":\"#1f77b4\"},\"x\":{\"field\":\"x\"},\"y\":{\"field\":\"y\"}},\"id\":\"2618\",\"type\":\"Circle\"},{\"attributes\":{\"text\":\"Differences Between L-S and PDM TESS Periods\"},\"id\":\"2572\",\"type\":\"Title\"},{\"attributes\":{},\"id\":\"2595\",\"type\":\"SaveTool\"},{\"attributes\":{},\"id\":\"2612\",\"type\":\"BasicTickFormatter\"},{\"attributes\":{},\"id\":\"2583\",\"type\":\"BasicTicker\"},{\"attributes\":{\"callback\":null,\"tooltips\":[[\"index\",\"$index\"],[\"(x,y)\",\"($x, $y)\"],[\"TIC ID\",\"@tess\"],[\"KIC ID\",\"@kep\"]]},\"id\":\"2596\",\"type\":\"HoverTool\"},{\"attributes\":{\"fill_color\":{\"value\":\"darkred\"},\"line_color\":{\"value\":null},\"x\":{\"field\":\"x\"},\"y\":{\"field\":\"y\"}},\"id\":\"2617\",\"type\":\"Circle\"},{\"attributes\":{\"data_source\":{\"id\":\"2603\",\"type\":\"ColumnDataSource\"},\"glyph\":{\"id\":\"2604\",\"type\":\"Line\"},\"hover_glyph\":null,\"muted_glyph\":null,\"name\":\"y=0\",\"nonselection_glyph\":{\"id\":\"2605\",\"type\":\"Line\"},\"selection_glyph\":null,\"view\":{\"id\":\"2607\",\"type\":\"CDSView\"}},\"id\":\"2606\",\"type\":\"GlyphRenderer\"},{\"attributes\":{\"callback\":null,\"data\":{\"x\":[7.0,8.88,2.85,10.69,8.74,12.83,6.72,2.67,6.41,2.81,2.19,10.68,11.96,7.7,3.56,8.6,3.72,11.19,10.5,0.84,3.32,1.54,1.37,12.11,10.51,3.2,11.11,1.18,5.62,1.85,3.83,2.38,2.7,12.12,8.23,3.54,8.01,6.32,11.72,7.97,1.45,12.32,2.78,10.03,1.45,1.68,3.15,0.57,1.18,6.4,2.99,0.96,6.24,7.59,3.91,6.42,1.03,8.52,9.73,9.44,8.54],\"y\":[0.0,0.0,0.0,0.0,0.0,0.0,0.0,0.0,0.0,0.0,0.0,0.0,0.0,0.0,0.0,0.0,0.0,0.0,0.0,0.0,0.0,0.0,0.0,0.0,0.0,0.0,0.0,0.0,0.0,0.0,0.0,0.0,0.0,0.0,0.0,0.0,0.0,0.0,0.0,0.0,0.0,0.0,0.0,0.0,0.0,0.0,0.0,0.0,0.0,0.0,0.0,0.0,0.0,0.0,0.0,0.0,0.0,0.0,0.0,0.0,0.0]},\"selected\":{\"id\":\"2725\",\"type\":\"Selection\"},\"selection_policy\":{\"id\":\"2724\",\"type\":\"UnionRenderers\"}},\"id\":\"2603\",\"type\":\"ColumnDataSource\"},{\"attributes\":{\"axis_label\":\"McQuillan Period\",\"formatter\":{\"id\":\"2610\",\"type\":\"BasicTickFormatter\"},\"ticker\":{\"id\":\"2583\",\"type\":\"BasicTicker\"}},\"id\":\"2582\",\"type\":\"LinearAxis\"},{\"attributes\":{\"data_source\":{\"id\":\"2570\",\"type\":\"ColumnDataSource\"},\"glyph\":{\"id\":\"2617\",\"type\":\"Circle\"},\"hover_glyph\":null,\"muted_glyph\":null,\"nonselection_glyph\":{\"id\":\"2618\",\"type\":\"Circle\"},\"selection_glyph\":null,\"view\":{\"id\":\"2620\",\"type\":\"CDSView\"}},\"id\":\"2619\",\"type\":\"GlyphRenderer\"},{\"attributes\":{},\"id\":\"2578\",\"type\":\"LinearScale\"},{\"attributes\":{},\"id\":\"2727\",\"type\":\"Selection\"},{\"attributes\":{\"label\":{\"value\":\"y=0\"},\"renderers\":[{\"id\":\"2606\",\"type\":\"GlyphRenderer\"}]},\"id\":\"2615\",\"type\":\"LegendItem\"},{\"attributes\":{\"ticker\":{\"id\":\"2583\",\"type\":\"BasicTicker\"}},\"id\":\"2586\",\"type\":\"Grid\"}],\"root_ids\":[\"2571\"]},\"title\":\"Bokeh Application\",\"version\":\"1.3.4\"}};\n",
       "  var render_items = [{\"docid\":\"3e944705-2505-45c2-a9a3-d0bcc6ca58c2\",\"roots\":{\"2571\":\"9cdb434d-b285-4976-b0ff-6b14f722b932\"}}];\n",
       "  root.Bokeh.embed.embed_items_notebook(docs_json, render_items);\n",
       "\n",
       "  }\n",
       "  if (root.Bokeh !== undefined) {\n",
       "    embed_document(root);\n",
       "  } else {\n",
       "    var attempts = 0;\n",
       "    var timer = setInterval(function(root) {\n",
       "      if (root.Bokeh !== undefined) {\n",
       "        embed_document(root);\n",
       "        clearInterval(timer);\n",
       "      }\n",
       "      attempts++;\n",
       "      if (attempts > 100) {\n",
       "        console.log(\"Bokeh: ERROR: Unable to run BokehJS code because BokehJS library is missing\");\n",
       "        clearInterval(timer);\n",
       "      }\n",
       "    }, 10, root)\n",
       "  }\n",
       "})(window);"
      ],
      "application/vnd.bokehjs_exec.v0+json": ""
     },
     "metadata": {
      "application/vnd.bokehjs_exec.v0+json": {
       "id": "2571"
      }
     },
     "output_type": "display_data"
    }
   ],
   "source": [
    "x =  short_periods\n",
    "y = differences_ls_pdm\n",
    "\n",
    "source = ColumnDataSource(data=dict(\n",
    "    x = short_periods,\n",
    "    y = differences_ls_pdm, \n",
    "    kep = (cat['kic_id'])[0:61],\n",
    "    tess = (cat['tic_id'])[0:61]))\n",
    "\n",
    "x2 = [i*2 for i in x]\n",
    "x_half = [float(i)*0.5 for i in x]\n",
    "x_0 = [i*0 for i in x]\n",
    "\n",
    "diff_plot = figure(\n",
    "   tools=\"pan,box_zoom,reset,save,hover\",\n",
    "   y_range=[-1, 15], title=\"Differences Between L-S and PDM TESS Periods\",\n",
    "   x_axis_label='McQuillan Period', y_axis_label='Difference Between Period Calculations', plot_width=900)\n",
    "\n",
    "diff_plot.line(x, x_0, name = \"y=0\", color = 'lightpink', line_dash=\"4 4\", legend = \"y=0\", line_width = 2)\n",
    "diff_plot.circle('x', 'y', source = source, color=\"darkred\", line_color=None)\n",
    "\n",
    "\n",
    "diff_plot.hover.tooltips = [\n",
    "    (\"index\", \"$index\"), \n",
    "    (\"(x,y)\", \"($x, $y)\"), \n",
    "    (\"TIC ID\", \"@tess\"), \n",
    "    (\"KIC ID\", \"@kep\")] \n",
    "\n",
    "show(diff_plot)"
   ]
  },
  {
   "cell_type": "code",
   "execution_count": null,
   "metadata": {},
   "outputs": [],
   "source": []
  }
 ],
 "metadata": {
  "kernelspec": {
   "display_name": "Python 3",
   "language": "python",
   "name": "python3"
  },
  "language_info": {
   "codemirror_mode": {
    "name": "ipython",
    "version": 3
   },
   "file_extension": ".py",
   "mimetype": "text/x-python",
   "name": "python",
   "nbconvert_exporter": "python",
   "pygments_lexer": "ipython3",
   "version": "3.7.4"
  }
 },
 "nbformat": 4,
 "nbformat_minor": 2
}
