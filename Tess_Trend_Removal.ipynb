{
 "cells": [
  {
   "cell_type": "code",
   "execution_count": 1,
   "metadata": {},
   "outputs": [
    {
     "name": "stderr",
     "output_type": "stream",
     "text": [
      "/Users/ilanadoran/opt/anaconda3/lib/python3.7/site-packages/theano/configdefaults.py:560: UserWarning: DeprecationWarning: there is no c++ compiler.This is deprecated and with Theano 0.11 a c++ compiler will be mandatory\n",
      "  warnings.warn(\"DeprecationWarning: there is no c++ compiler.\"\n",
      "WARNING (theano.configdefaults): g++ not detected ! Theano will be unable to execute optimized C-implementations (for both CPU and GPU) and will default to Python implementations. Performance will be severely degraded. To remove this warning, set Theano flags cxx to an empty string.\n",
      "WARNING (theano.tensor.blas): Using NumPy C-API based implementation for BLAS functions.\n"
     ]
    }
   ],
   "source": [
    "from acfunctions import *\n",
    "import numpy as np\n",
    "import pandas as pd\n",
    "import matplotlib.pyplot as plt\n",
    "import astropy.stats as astat\n",
    "from solartwins import *\n",
    "import pickle\n",
    "from IPython.display import Image, display, HTML\n",
    "import starspot as ss\n",
    "import starspot.rotation_tools as rt\n",
    "from starspot import sigma_clipping\n",
    "import lightkurve as lk\n",
    "from lightkurve import search_targetpixelfile, search_lightcurvefile\n",
    "import math\n",
    "import exoplanet\n",
    "import eleanor\n",
    "from astropy.coordinates import SkyCoord\n",
    "from scipy import interpolate\n",
    "from tess_kep_funct import *\n",
    "from tqdm import tqdm\n",
    "from scipy import misc\n",
    "from bokeh.models import ColumnDataSource, LabelSet, Whisker\n",
    "from bokeh.plotting import figure, output_file, show\n",
    "from bokeh.io import output_notebook\n",
    "from bokeh.sampledata.autompg import autompg as df\n",
    "\n",
    "import warnings\n",
    "warnings.filterwarnings(\"ignore\")"
   ]
  },
  {
   "cell_type": "code",
   "execution_count": 2,
   "metadata": {},
   "outputs": [],
   "source": [
    "from matplotlib import rc\n",
    "rc('font',**{'family':'sans-serif','sans-serif':['Helvetica']})\n",
    "rc('text', usetex=False)"
   ]
  },
  {
   "cell_type": "code",
   "execution_count": 3,
   "metadata": {},
   "outputs": [
    {
     "data": {
      "text/html": [
       "\n",
       "    <div class=\"bk-root\">\n",
       "        <a href=\"https://bokeh.pydata.org\" target=\"_blank\" class=\"bk-logo bk-logo-small bk-logo-notebook\"></a>\n",
       "        <span id=\"1001\">Loading BokehJS ...</span>\n",
       "    </div>"
      ]
     },
     "metadata": {},
     "output_type": "display_data"
    },
    {
     "data": {
      "application/javascript": [
       "\n",
       "(function(root) {\n",
       "  function now() {\n",
       "    return new Date();\n",
       "  }\n",
       "\n",
       "  var force = true;\n",
       "\n",
       "  if (typeof root._bokeh_onload_callbacks === \"undefined\" || force === true) {\n",
       "    root._bokeh_onload_callbacks = [];\n",
       "    root._bokeh_is_loading = undefined;\n",
       "  }\n",
       "\n",
       "  var JS_MIME_TYPE = 'application/javascript';\n",
       "  var HTML_MIME_TYPE = 'text/html';\n",
       "  var EXEC_MIME_TYPE = 'application/vnd.bokehjs_exec.v0+json';\n",
       "  var CLASS_NAME = 'output_bokeh rendered_html';\n",
       "\n",
       "  /**\n",
       "   * Render data to the DOM node\n",
       "   */\n",
       "  function render(props, node) {\n",
       "    var script = document.createElement(\"script\");\n",
       "    node.appendChild(script);\n",
       "  }\n",
       "\n",
       "  /**\n",
       "   * Handle when an output is cleared or removed\n",
       "   */\n",
       "  function handleClearOutput(event, handle) {\n",
       "    var cell = handle.cell;\n",
       "\n",
       "    var id = cell.output_area._bokeh_element_id;\n",
       "    var server_id = cell.output_area._bokeh_server_id;\n",
       "    // Clean up Bokeh references\n",
       "    if (id != null && id in Bokeh.index) {\n",
       "      Bokeh.index[id].model.document.clear();\n",
       "      delete Bokeh.index[id];\n",
       "    }\n",
       "\n",
       "    if (server_id !== undefined) {\n",
       "      // Clean up Bokeh references\n",
       "      var cmd = \"from bokeh.io.state import curstate; print(curstate().uuid_to_server['\" + server_id + \"'].get_sessions()[0].document.roots[0]._id)\";\n",
       "      cell.notebook.kernel.execute(cmd, {\n",
       "        iopub: {\n",
       "          output: function(msg) {\n",
       "            var id = msg.content.text.trim();\n",
       "            if (id in Bokeh.index) {\n",
       "              Bokeh.index[id].model.document.clear();\n",
       "              delete Bokeh.index[id];\n",
       "            }\n",
       "          }\n",
       "        }\n",
       "      });\n",
       "      // Destroy server and session\n",
       "      var cmd = \"import bokeh.io.notebook as ion; ion.destroy_server('\" + server_id + \"')\";\n",
       "      cell.notebook.kernel.execute(cmd);\n",
       "    }\n",
       "  }\n",
       "\n",
       "  /**\n",
       "   * Handle when a new output is added\n",
       "   */\n",
       "  function handleAddOutput(event, handle) {\n",
       "    var output_area = handle.output_area;\n",
       "    var output = handle.output;\n",
       "\n",
       "    // limit handleAddOutput to display_data with EXEC_MIME_TYPE content only\n",
       "    if ((output.output_type != \"display_data\") || (!output.data.hasOwnProperty(EXEC_MIME_TYPE))) {\n",
       "      return\n",
       "    }\n",
       "\n",
       "    var toinsert = output_area.element.find(\".\" + CLASS_NAME.split(' ')[0]);\n",
       "\n",
       "    if (output.metadata[EXEC_MIME_TYPE][\"id\"] !== undefined) {\n",
       "      toinsert[toinsert.length - 1].firstChild.textContent = output.data[JS_MIME_TYPE];\n",
       "      // store reference to embed id on output_area\n",
       "      output_area._bokeh_element_id = output.metadata[EXEC_MIME_TYPE][\"id\"];\n",
       "    }\n",
       "    if (output.metadata[EXEC_MIME_TYPE][\"server_id\"] !== undefined) {\n",
       "      var bk_div = document.createElement(\"div\");\n",
       "      bk_div.innerHTML = output.data[HTML_MIME_TYPE];\n",
       "      var script_attrs = bk_div.children[0].attributes;\n",
       "      for (var i = 0; i < script_attrs.length; i++) {\n",
       "        toinsert[toinsert.length - 1].firstChild.setAttribute(script_attrs[i].name, script_attrs[i].value);\n",
       "      }\n",
       "      // store reference to server id on output_area\n",
       "      output_area._bokeh_server_id = output.metadata[EXEC_MIME_TYPE][\"server_id\"];\n",
       "    }\n",
       "  }\n",
       "\n",
       "  function register_renderer(events, OutputArea) {\n",
       "\n",
       "    function append_mime(data, metadata, element) {\n",
       "      // create a DOM node to render to\n",
       "      var toinsert = this.create_output_subarea(\n",
       "        metadata,\n",
       "        CLASS_NAME,\n",
       "        EXEC_MIME_TYPE\n",
       "      );\n",
       "      this.keyboard_manager.register_events(toinsert);\n",
       "      // Render to node\n",
       "      var props = {data: data, metadata: metadata[EXEC_MIME_TYPE]};\n",
       "      render(props, toinsert[toinsert.length - 1]);\n",
       "      element.append(toinsert);\n",
       "      return toinsert\n",
       "    }\n",
       "\n",
       "    /* Handle when an output is cleared or removed */\n",
       "    events.on('clear_output.CodeCell', handleClearOutput);\n",
       "    events.on('delete.Cell', handleClearOutput);\n",
       "\n",
       "    /* Handle when a new output is added */\n",
       "    events.on('output_added.OutputArea', handleAddOutput);\n",
       "\n",
       "    /**\n",
       "     * Register the mime type and append_mime function with output_area\n",
       "     */\n",
       "    OutputArea.prototype.register_mime_type(EXEC_MIME_TYPE, append_mime, {\n",
       "      /* Is output safe? */\n",
       "      safe: true,\n",
       "      /* Index of renderer in `output_area.display_order` */\n",
       "      index: 0\n",
       "    });\n",
       "  }\n",
       "\n",
       "  // register the mime type if in Jupyter Notebook environment and previously unregistered\n",
       "  if (root.Jupyter !== undefined) {\n",
       "    var events = require('base/js/events');\n",
       "    var OutputArea = require('notebook/js/outputarea').OutputArea;\n",
       "\n",
       "    if (OutputArea.prototype.mime_types().indexOf(EXEC_MIME_TYPE) == -1) {\n",
       "      register_renderer(events, OutputArea);\n",
       "    }\n",
       "  }\n",
       "\n",
       "  \n",
       "  if (typeof (root._bokeh_timeout) === \"undefined\" || force === true) {\n",
       "    root._bokeh_timeout = Date.now() + 5000;\n",
       "    root._bokeh_failed_load = false;\n",
       "  }\n",
       "\n",
       "  var NB_LOAD_WARNING = {'data': {'text/html':\n",
       "     \"<div style='background-color: #fdd'>\\n\"+\n",
       "     \"<p>\\n\"+\n",
       "     \"BokehJS does not appear to have successfully loaded. If loading BokehJS from CDN, this \\n\"+\n",
       "     \"may be due to a slow or bad network connection. Possible fixes:\\n\"+\n",
       "     \"</p>\\n\"+\n",
       "     \"<ul>\\n\"+\n",
       "     \"<li>re-rerun `output_notebook()` to attempt to load from CDN again, or</li>\\n\"+\n",
       "     \"<li>use INLINE resources instead, as so:</li>\\n\"+\n",
       "     \"</ul>\\n\"+\n",
       "     \"<code>\\n\"+\n",
       "     \"from bokeh.resources import INLINE\\n\"+\n",
       "     \"output_notebook(resources=INLINE)\\n\"+\n",
       "     \"</code>\\n\"+\n",
       "     \"</div>\"}};\n",
       "\n",
       "  function display_loaded() {\n",
       "    var el = document.getElementById(\"1001\");\n",
       "    if (el != null) {\n",
       "      el.textContent = \"BokehJS is loading...\";\n",
       "    }\n",
       "    if (root.Bokeh !== undefined) {\n",
       "      if (el != null) {\n",
       "        el.textContent = \"BokehJS \" + root.Bokeh.version + \" successfully loaded.\";\n",
       "      }\n",
       "    } else if (Date.now() < root._bokeh_timeout) {\n",
       "      setTimeout(display_loaded, 100)\n",
       "    }\n",
       "  }\n",
       "\n",
       "\n",
       "  function run_callbacks() {\n",
       "    try {\n",
       "      root._bokeh_onload_callbacks.forEach(function(callback) {\n",
       "        if (callback != null)\n",
       "          callback();\n",
       "      });\n",
       "    } finally {\n",
       "      delete root._bokeh_onload_callbacks\n",
       "    }\n",
       "    console.debug(\"Bokeh: all callbacks have finished\");\n",
       "  }\n",
       "\n",
       "  function load_libs(css_urls, js_urls, callback) {\n",
       "    if (css_urls == null) css_urls = [];\n",
       "    if (js_urls == null) js_urls = [];\n",
       "\n",
       "    root._bokeh_onload_callbacks.push(callback);\n",
       "    if (root._bokeh_is_loading > 0) {\n",
       "      console.debug(\"Bokeh: BokehJS is being loaded, scheduling callback at\", now());\n",
       "      return null;\n",
       "    }\n",
       "    if (js_urls == null || js_urls.length === 0) {\n",
       "      run_callbacks();\n",
       "      return null;\n",
       "    }\n",
       "    console.debug(\"Bokeh: BokehJS not loaded, scheduling load and callback at\", now());\n",
       "    root._bokeh_is_loading = css_urls.length + js_urls.length;\n",
       "\n",
       "    function on_load() {\n",
       "      root._bokeh_is_loading--;\n",
       "      if (root._bokeh_is_loading === 0) {\n",
       "        console.debug(\"Bokeh: all BokehJS libraries/stylesheets loaded\");\n",
       "        run_callbacks()\n",
       "      }\n",
       "    }\n",
       "\n",
       "    function on_error() {\n",
       "      console.error(\"failed to load \" + url);\n",
       "    }\n",
       "\n",
       "    for (var i = 0; i < css_urls.length; i++) {\n",
       "      var url = css_urls[i];\n",
       "      const element = document.createElement(\"link\");\n",
       "      element.onload = on_load;\n",
       "      element.onerror = on_error;\n",
       "      element.rel = \"stylesheet\";\n",
       "      element.type = \"text/css\";\n",
       "      element.href = url;\n",
       "      console.debug(\"Bokeh: injecting link tag for BokehJS stylesheet: \", url);\n",
       "      document.body.appendChild(element);\n",
       "    }\n",
       "\n",
       "    for (var i = 0; i < js_urls.length; i++) {\n",
       "      var url = js_urls[i];\n",
       "      var element = document.createElement('script');\n",
       "      element.onload = on_load;\n",
       "      element.onerror = on_error;\n",
       "      element.async = false;\n",
       "      element.src = url;\n",
       "      console.debug(\"Bokeh: injecting script tag for BokehJS library: \", url);\n",
       "      document.head.appendChild(element);\n",
       "    }\n",
       "  };var element = document.getElementById(\"1001\");\n",
       "  if (element == null) {\n",
       "    console.error(\"Bokeh: ERROR: autoload.js configured with elementid '1001' but no matching script tag was found. \")\n",
       "    return false;\n",
       "  }\n",
       "\n",
       "  function inject_raw_css(css) {\n",
       "    const element = document.createElement(\"style\");\n",
       "    element.appendChild(document.createTextNode(css));\n",
       "    document.body.appendChild(element);\n",
       "  }\n",
       "\n",
       "  var js_urls = [\"https://cdn.pydata.org/bokeh/release/bokeh-1.3.4.min.js\", \"https://cdn.pydata.org/bokeh/release/bokeh-widgets-1.3.4.min.js\", \"https://cdn.pydata.org/bokeh/release/bokeh-tables-1.3.4.min.js\", \"https://cdn.pydata.org/bokeh/release/bokeh-gl-1.3.4.min.js\"];\n",
       "  var css_urls = [];\n",
       "\n",
       "  var inline_js = [\n",
       "    function(Bokeh) {\n",
       "      Bokeh.set_log_level(\"info\");\n",
       "    },\n",
       "    \n",
       "    function(Bokeh) {\n",
       "      \n",
       "    },\n",
       "    function(Bokeh) {} // ensure no trailing comma for IE\n",
       "  ];\n",
       "\n",
       "  function run_inline_js() {\n",
       "    \n",
       "    if ((root.Bokeh !== undefined) || (force === true)) {\n",
       "      for (var i = 0; i < inline_js.length; i++) {\n",
       "        inline_js[i].call(root, root.Bokeh);\n",
       "      }if (force === true) {\n",
       "        display_loaded();\n",
       "      }} else if (Date.now() < root._bokeh_timeout) {\n",
       "      setTimeout(run_inline_js, 100);\n",
       "    } else if (!root._bokeh_failed_load) {\n",
       "      console.log(\"Bokeh: BokehJS failed to load within specified timeout.\");\n",
       "      root._bokeh_failed_load = true;\n",
       "    } else if (force !== true) {\n",
       "      var cell = $(document.getElementById(\"1001\")).parents('.cell').data().cell;\n",
       "      cell.output_area.append_execute_result(NB_LOAD_WARNING)\n",
       "    }\n",
       "\n",
       "  }\n",
       "\n",
       "  if (root._bokeh_is_loading === 0) {\n",
       "    console.debug(\"Bokeh: BokehJS loaded, going straight to plotting\");\n",
       "    run_inline_js();\n",
       "  } else {\n",
       "    load_libs(css_urls, js_urls, function() {\n",
       "      console.debug(\"Bokeh: BokehJS plotting callback run at\", now());\n",
       "      run_inline_js();\n",
       "    });\n",
       "  }\n",
       "}(window));"
      ],
      "application/vnd.bokehjs_load.v0+json": "\n(function(root) {\n  function now() {\n    return new Date();\n  }\n\n  var force = true;\n\n  if (typeof root._bokeh_onload_callbacks === \"undefined\" || force === true) {\n    root._bokeh_onload_callbacks = [];\n    root._bokeh_is_loading = undefined;\n  }\n\n  \n\n  \n  if (typeof (root._bokeh_timeout) === \"undefined\" || force === true) {\n    root._bokeh_timeout = Date.now() + 5000;\n    root._bokeh_failed_load = false;\n  }\n\n  var NB_LOAD_WARNING = {'data': {'text/html':\n     \"<div style='background-color: #fdd'>\\n\"+\n     \"<p>\\n\"+\n     \"BokehJS does not appear to have successfully loaded. If loading BokehJS from CDN, this \\n\"+\n     \"may be due to a slow or bad network connection. Possible fixes:\\n\"+\n     \"</p>\\n\"+\n     \"<ul>\\n\"+\n     \"<li>re-rerun `output_notebook()` to attempt to load from CDN again, or</li>\\n\"+\n     \"<li>use INLINE resources instead, as so:</li>\\n\"+\n     \"</ul>\\n\"+\n     \"<code>\\n\"+\n     \"from bokeh.resources import INLINE\\n\"+\n     \"output_notebook(resources=INLINE)\\n\"+\n     \"</code>\\n\"+\n     \"</div>\"}};\n\n  function display_loaded() {\n    var el = document.getElementById(\"1001\");\n    if (el != null) {\n      el.textContent = \"BokehJS is loading...\";\n    }\n    if (root.Bokeh !== undefined) {\n      if (el != null) {\n        el.textContent = \"BokehJS \" + root.Bokeh.version + \" successfully loaded.\";\n      }\n    } else if (Date.now() < root._bokeh_timeout) {\n      setTimeout(display_loaded, 100)\n    }\n  }\n\n\n  function run_callbacks() {\n    try {\n      root._bokeh_onload_callbacks.forEach(function(callback) {\n        if (callback != null)\n          callback();\n      });\n    } finally {\n      delete root._bokeh_onload_callbacks\n    }\n    console.debug(\"Bokeh: all callbacks have finished\");\n  }\n\n  function load_libs(css_urls, js_urls, callback) {\n    if (css_urls == null) css_urls = [];\n    if (js_urls == null) js_urls = [];\n\n    root._bokeh_onload_callbacks.push(callback);\n    if (root._bokeh_is_loading > 0) {\n      console.debug(\"Bokeh: BokehJS is being loaded, scheduling callback at\", now());\n      return null;\n    }\n    if (js_urls == null || js_urls.length === 0) {\n      run_callbacks();\n      return null;\n    }\n    console.debug(\"Bokeh: BokehJS not loaded, scheduling load and callback at\", now());\n    root._bokeh_is_loading = css_urls.length + js_urls.length;\n\n    function on_load() {\n      root._bokeh_is_loading--;\n      if (root._bokeh_is_loading === 0) {\n        console.debug(\"Bokeh: all BokehJS libraries/stylesheets loaded\");\n        run_callbacks()\n      }\n    }\n\n    function on_error() {\n      console.error(\"failed to load \" + url);\n    }\n\n    for (var i = 0; i < css_urls.length; i++) {\n      var url = css_urls[i];\n      const element = document.createElement(\"link\");\n      element.onload = on_load;\n      element.onerror = on_error;\n      element.rel = \"stylesheet\";\n      element.type = \"text/css\";\n      element.href = url;\n      console.debug(\"Bokeh: injecting link tag for BokehJS stylesheet: \", url);\n      document.body.appendChild(element);\n    }\n\n    for (var i = 0; i < js_urls.length; i++) {\n      var url = js_urls[i];\n      var element = document.createElement('script');\n      element.onload = on_load;\n      element.onerror = on_error;\n      element.async = false;\n      element.src = url;\n      console.debug(\"Bokeh: injecting script tag for BokehJS library: \", url);\n      document.head.appendChild(element);\n    }\n  };var element = document.getElementById(\"1001\");\n  if (element == null) {\n    console.error(\"Bokeh: ERROR: autoload.js configured with elementid '1001' but no matching script tag was found. \")\n    return false;\n  }\n\n  function inject_raw_css(css) {\n    const element = document.createElement(\"style\");\n    element.appendChild(document.createTextNode(css));\n    document.body.appendChild(element);\n  }\n\n  var js_urls = [\"https://cdn.pydata.org/bokeh/release/bokeh-1.3.4.min.js\", \"https://cdn.pydata.org/bokeh/release/bokeh-widgets-1.3.4.min.js\", \"https://cdn.pydata.org/bokeh/release/bokeh-tables-1.3.4.min.js\", \"https://cdn.pydata.org/bokeh/release/bokeh-gl-1.3.4.min.js\"];\n  var css_urls = [];\n\n  var inline_js = [\n    function(Bokeh) {\n      Bokeh.set_log_level(\"info\");\n    },\n    \n    function(Bokeh) {\n      \n    },\n    function(Bokeh) {} // ensure no trailing comma for IE\n  ];\n\n  function run_inline_js() {\n    \n    if ((root.Bokeh !== undefined) || (force === true)) {\n      for (var i = 0; i < inline_js.length; i++) {\n        inline_js[i].call(root, root.Bokeh);\n      }if (force === true) {\n        display_loaded();\n      }} else if (Date.now() < root._bokeh_timeout) {\n      setTimeout(run_inline_js, 100);\n    } else if (!root._bokeh_failed_load) {\n      console.log(\"Bokeh: BokehJS failed to load within specified timeout.\");\n      root._bokeh_failed_load = true;\n    } else if (force !== true) {\n      var cell = $(document.getElementById(\"1001\")).parents('.cell').data().cell;\n      cell.output_area.append_execute_result(NB_LOAD_WARNING)\n    }\n\n  }\n\n  if (root._bokeh_is_loading === 0) {\n    console.debug(\"Bokeh: BokehJS loaded, going straight to plotting\");\n    run_inline_js();\n  } else {\n    load_libs(css_urls, js_urls, function() {\n      console.debug(\"Bokeh: BokehJS plotting callback run at\", now());\n      run_inline_js();\n    });\n  }\n}(window));"
     },
     "metadata": {},
     "output_type": "display_data"
    }
   ],
   "source": [
    "output_notebook()"
   ]
  },
  {
   "cell_type": "code",
   "execution_count": 4,
   "metadata": {},
   "outputs": [],
   "source": [
    "with open('tess_period.data', 'rb') as filehandle:\n",
    "    short_tess_period = pickle.load(filehandle) "
   ]
  },
  {
   "cell_type": "code",
   "execution_count": 5,
   "metadata": {},
   "outputs": [],
   "source": [
    "with open('tess_periods_interp.data', 'rb') as filehandle:\n",
    "    tess_periods_interp = pickle.load(filehandle) "
   ]
  },
  {
   "cell_type": "code",
   "execution_count": 6,
   "metadata": {},
   "outputs": [],
   "source": [
    "with open('ls_periods_interp.data', 'rb') as filehandle:\n",
    "    ls_period_interp = pickle.load(filehandle) "
   ]
  },
  {
   "cell_type": "code",
   "execution_count": 7,
   "metadata": {},
   "outputs": [],
   "source": [
    "with open('ls_period_no_interp.data', 'rb') as filehandle:\n",
    "    ls_period_no_interp = pickle.load(filehandle) "
   ]
  },
  {
   "cell_type": "code",
   "execution_count": 8,
   "metadata": {},
   "outputs": [],
   "source": [
    "#dataset with tess vs kepler IDs\n",
    "tess_kep = pd.read_csv('data_summary.csv')\n",
    "tess_short = tess_kep[tess_kep.tess_ffi == True]\n",
    "cat = pd.read_csv('tics_kics_mcq_rot.txt', names=['tic_id', 'kic_id', 'prot'], delim_whitespace=True)"
   ]
  },
  {
   "cell_type": "code",
   "execution_count": 9,
   "metadata": {},
   "outputs": [],
   "source": [
    "#importing McQ periods\n",
    "headers = 'TIC ID', 'KIC ID', 'McQ Periods';  \n",
    "\n",
    "with open(\"tics_kics_mcq_rot.txt\") as file:\n",
    "    rot_table = [line.split() for line in file.read().splitlines()]\n",
    "\n",
    "widths = [max(len(value) for value in col)\n",
    "for col in zip(*(rot_table + [headers]))]\n",
    "\n",
    "formatting = '{:{widths[0]}}  {:{widths[1]}}  {:{widths[2]}}'\n",
    "formatting.format(*headers, widths=widths)\n",
    "for tics_kics_mcq in rot_table:\n",
    "    formatting.format(*tics_kics_mcq, widths=widths)"
   ]
  },
  {
   "cell_type": "code",
   "execution_count": 10,
   "metadata": {},
   "outputs": [],
   "source": [
    "# converting txt file data to arrays\n",
    "tic_ids = []\n",
    "mcq_periods = []\n",
    "\n",
    "for index, row in enumerate(rot_table):\n",
    "    tic_ids.append(int(rot_table[index][0]))\n",
    "    mcq_periods.append(float(rot_table[index][2]))"
   ]
  },
  {
   "cell_type": "code",
   "execution_count": 11,
   "metadata": {},
   "outputs": [],
   "source": [
    "# selecting shortest periods only (<13 days, half a tess cycle)\n",
    "short_periods = []\n",
    "tics_short_periods = []\n",
    "\n",
    "for index, period in enumerate(mcq_periods):\n",
    "    if period < 13: \n",
    "        short_periods.append(period)\n",
    "        tics_short_periods.append(tic_ids[index])\n",
    "        \n",
    "#limiting to the first 60\n",
    "#short_periods = short_periods[0:61]\n",
    "#tics_short_periods = tics_short_periods[0:61]"
   ]
  },
  {
   "cell_type": "code",
   "execution_count": 12,
   "metadata": {},
   "outputs": [],
   "source": [
    "def find_m_b(x,y,err): #analytical approach to finding line of best fit \n",
    "    #C     \n",
    "    errorsq = np.square(err)\n",
    "    C = np.diag(errorsq)\n",
    "\n",
    "    #A \n",
    "    xb = ([1] * len(x))\n",
    "    mata = []\n",
    "    for z, txt in enumerate(x):\n",
    "        mata.append(x[z])\n",
    "        mata.append(xb[z])\n",
    "    A= np.matrix(mata).reshape((len(x), 2))\n",
    "\n",
    "    #plugging in \n",
    "    At = np.transpose(A)\n",
    "    invC = np.linalg.inv(C)\n",
    "    pt1 = np.dot(At, np.dot(invC,A))\n",
    "    invpt1= np.linalg.inv(pt1)\n",
    "    pt2 = np.dot(At, np.dot(invC, y)).T\n",
    "    cov = np.dot(invpt1, pt2)\n",
    "\n",
    "    m = float(cov[0])\n",
    "    b = float(cov[1])\n",
    "    return m ,b \n",
    "\n",
    "def residuals(x, y, error): #residual abundance function\n",
    "    mborig = find_m_b(x, y, error)\n",
    "    m = mborig[0]\n",
    "    b = mborig[1]\n",
    "\n",
    "    predicted_values = [] #y values from slope\n",
    "    pv = 0\n",
    "    for u in x:\n",
    "        pv = (m*u) + b\n",
    "        predicted_values.append(pv)\n",
    "        pv = 0\n",
    "\n",
    "    prev = np.array(predicted_values)\n",
    "    abu = np.array(y)\n",
    "    diff = abu - prev #difference between slope and measured values  \n",
    "    return diff"
   ]
  },
  {
   "cell_type": "markdown",
   "metadata": {},
   "source": [
    "# test "
   ]
  },
  {
   "cell_type": "markdown",
   "metadata": {},
   "source": [
    "star = eleanor.Source(tic=tics_short_periods[0])\n",
    "data = eleanor.TargetData(star, do_psf=True, do_pca=True)\n",
    "q = data.quality == 0\n",
    "\n",
    "time = data.time[q]    \n",
    "norm_flux = data.pca_flux[q]/np.nanmedian(data.pca_flux[q])\n",
    "flux_err = np.sqrt(norm_flux)"
   ]
  },
  {
   "cell_type": "markdown",
   "metadata": {},
   "source": [
    "plt.plot(time, norm_flux, c = 'steelblue')\n",
    "plt.ylabel('Normalized Flux')\n",
    "plt.xlabel('Time')"
   ]
  },
  {
   "cell_type": "markdown",
   "metadata": {},
   "source": [
    "find_m_b(time, norm_flux, flux_err)"
   ]
  },
  {
   "cell_type": "markdown",
   "metadata": {},
   "source": [
    "resid = residuals(time, norm_flux, flux_err)\n",
    "resid"
   ]
  },
  {
   "cell_type": "markdown",
   "metadata": {},
   "source": [
    "plt.plot(time, resid)"
   ]
  },
  {
   "cell_type": "markdown",
   "metadata": {},
   "source": [
    "#linear interpolation\n",
    "f = interpolate.interp1d(time, resid)\n",
    "xnew = np.arange(time[0], time[-1], 0.1)\n",
    "flux = f(xnew) \n",
    "flux_err = np.sqrt(flux)\n",
    "        \n",
    "rotate_el = ss.RotationModel(xnew, flux, flux_err)\n",
    "ls_period = rotate_el.ls_rotation()\n",
    "    \n",
    "period_grid = np.linspace(.1, 10, 1000)\n",
    "pdm_period, period_err = rotate_el.pdm_rotation(period_grid, pdm_nbins=10)\n",
    "pdm_plot = rotate_el.pdm_plot();\n",
    "    \n",
    "print(ls_period, pdm_period)"
   ]
  },
  {
   "cell_type": "markdown",
   "metadata": {},
   "source": [
    "short_periods[0]"
   ]
  },
  {
   "cell_type": "markdown",
   "metadata": {},
   "source": [
    "# all tess stars "
   ]
  },
  {
   "cell_type": "markdown",
   "metadata": {
    "scrolled": true
   },
   "source": [
    "ls_periods_resid = []\n",
    "pdm_periods_resid = []\n",
    "pdm_error = []\n",
    "exo_periods_resid = []\n",
    "error = []\n",
    "exo_error = []\n",
    "\n",
    "for each, tic in enumerate(tics_short_periods[0:61]): \n",
    "    star = eleanor.Source(tic=tic)\n",
    "    data = eleanor.TargetData(star, do_psf=True, do_pca=True)\n",
    "    index = np.where(np.array(tics_short_periods) == tic)\n",
    "    mcq_period = short_periods[index[0][0]]\n",
    "    \n",
    "    q = data.quality == 0\n",
    "\n",
    "    time = data.time[q]    \n",
    "    norm_flux = data.pca_flux[q]/np.nanmedian(data.pca_flux[q])\n",
    "    norm_flux_err = np.sqrt(norm_flux)\n",
    "    \n",
    "    resid = residuals(time, norm_flux, norm_flux_err)\n",
    "    resid = resid[~np.isnan(resid)]\n",
    "    time = time[~np.isnan(resid)]\n",
    "    \n",
    "    try :\n",
    "        #linear interpolation\n",
    "        f = interpolate.interp1d(time, resid)\n",
    "        xnew = np.arange(time[0], time[-1], 0.1)\n",
    "        flux = f(xnew) \n",
    "        flux_err = np.sqrt(flux)\n",
    "        \n",
    "        #plot - flux\n",
    "        #fig, axs = plt.subplots(2, figsize = (12,10))\n",
    "        #fig.tight_layout(h_pad=6)\n",
    "        \n",
    "        #axs[0].plot(xnew, flux, c='steelblue')\n",
    "        #axs[0].annotate('McQ Period = {0}'.format(mcq_period),\n",
    "            #xy=(np.average(time), np.average(flux)), xycoords='data',\n",
    "            #xytext=(0.1, 0.2), textcoords='offset points')\n",
    "        #axs[0].set_title('Normalized LC for {}'.format(tic))\n",
    "        #axs[0].set_xlabel('Time')\n",
    "        #axs[0].set_ylabel('Flux')\n",
    "    \n",
    "        #plot - exoplanet's ac function\n",
    "        ex_1 = exoplanet.autocorr_estimator(xnew, flux, yerr=flux_err, min_period = 0.1, max_period = 15)\n",
    "        exo_period = ex_1['peaks'][0]['period']\n",
    "        #axs[1].plot(ex_1['autocorr'][0], ex_1['autocorr'][1])\n",
    "        #axs[1].set_title('Autocorrelation for {0}'.format(tic))\n",
    "        #axs[1].annotate('McQ Period = {0}'.format(mcq_period),\n",
    "            # xy=(np.average(ex_1['autocorr'][0]), np.average(ex_1['autocorr'][1])), xycoords='data',\n",
    "            # xytext=(0.1, 0.2), textcoords='offset points')\n",
    "        #axs[1].annotate('Peak = {0}'.format(np.around(ex_1['peaks'][0]['period'], 3)),\n",
    "            #xy=(10, 0.5), xycoords='data',\n",
    "            #xytext=(0.1, 0.2), textcoords='offset points')\n",
    "        ex_error = ex_1['peaks'][0]['period_uncert']\n",
    "        exo_error.append(ex_error)   \n",
    "        exo_periods_resid.append(exo_period)\n",
    "        \n",
    "        #fig.savefig('tess_{0}_flux_ac.jpg'.format(each))\n",
    "        #plt.close(fig)\n",
    "        \n",
    "        #plot - lomb-scargle \n",
    "        rotate_el = ss.RotationModel(xnew, flux, flux_err)\n",
    "        ls_period = rotate_el.ls_rotation()\n",
    "        #ls_plot = rotate_el.ls_plot()\n",
    "        #plt.savefig('tess_{0}_ls.jpg'.format(each))\n",
    "        #plt.close()\n",
    "\n",
    "        \n",
    "        #plot - pdm \n",
    "        period_grid = np.linspace(.1, 10, 1000)\n",
    "        pdm_period, period_err = rotate_el.pdm_rotation(period_grid, pdm_nbins=10)\n",
    "        #pdm_plot = rotate_el.pdm_plot()\n",
    "        #plt.savefig('tess_{0}_pdm.jpg'.format(each), dpi = 75)\n",
    "        #plt.close()\n",
    "        \n",
    "        ls_periods_resid.append(ls_period)\n",
    "        pdm_periods_resid.append(pdm_period)\n",
    "        pdm_error.append(period_err)\n",
    "        print('works!')\n",
    "        \n",
    "        \n",
    "    except : \n",
    "        print('error')\n",
    "        error.append(each)\n",
    "        ls_periods_resid.append(0)\n",
    "        pdm_periods_resid.append(0)\n",
    "        exo_periods_resid.append(0)\n",
    "        exo_error.append(0)\n",
    "        #time = data.time[q]    \n",
    "        #norm_flux = data.pca_flux[q]/np.nanmedian(data.pca_flux[q])\n",
    "        #norm_flux_err = np.sqrt(norm_flux)\n",
    "        \n",
    "        #plt.plot(time, norm_flux)\n",
    "        #plt.xlabel('Time')\n",
    "        #plt.ylabel('Normalized Flux')\n",
    "        \n",
    "        #plt.savefig('error_tess_{0}_flux_ac.jpg'.format(each))\n",
    "        #plt.close()"
   ]
  },
  {
   "cell_type": "markdown",
   "metadata": {},
   "source": [
    "with open('ls_periods_resid.data', 'wb') as filehandle:\n",
    "    pickle.dump(ls_periods_resid, filehandle)"
   ]
  },
  {
   "cell_type": "markdown",
   "metadata": {},
   "source": [
    "with open('pdm_periods_resid.data', 'wb') as filehandle:\n",
    "    pickle.dump(pdm_periods_resid, filehandle)"
   ]
  },
  {
   "cell_type": "markdown",
   "metadata": {},
   "source": [
    "with open('exo_periods_resid.data', 'wb') as filehandle:\n",
    "    pickle.dump(exo_periods_resid, filehandle)"
   ]
  },
  {
   "cell_type": "markdown",
   "metadata": {},
   "source": [
    "with open('pdm_error.data', 'wb') as filehandle:\n",
    "    pickle.dump(pdm_error, filehandle)"
   ]
  },
  {
   "cell_type": "code",
   "execution_count": 13,
   "metadata": {},
   "outputs": [],
   "source": [
    "with open('pdm_periods_resid.data', 'rb') as filehandle:\n",
    "    pdm_periods_resid = pickle.load(filehandle) "
   ]
  },
  {
   "cell_type": "code",
   "execution_count": 14,
   "metadata": {},
   "outputs": [],
   "source": [
    "with open('ls_periods_resid.data', 'rb') as filehandle:\n",
    "    ls_periods_resid = pickle.load(filehandle) "
   ]
  },
  {
   "cell_type": "code",
   "execution_count": 15,
   "metadata": {},
   "outputs": [],
   "source": [
    "with open('exo_periods_resid.data', 'rb') as filehandle:\n",
    "    exo_periods_resid = pickle.load(filehandle) "
   ]
  },
  {
   "cell_type": "code",
   "execution_count": 16,
   "metadata": {},
   "outputs": [],
   "source": [
    "with open('pdm_error.data', 'rb') as filehandle:\n",
    "    pdm_error = pickle.load(filehandle) "
   ]
  },
  {
   "cell_type": "code",
   "execution_count": 17,
   "metadata": {},
   "outputs": [],
   "source": [
    "with open('mcq_exo_difference.data', 'rb') as filehandle:\n",
    "    mcq_exo_difference = pickle.load(filehandle) "
   ]
  },
  {
   "cell_type": "code",
   "execution_count": 18,
   "metadata": {},
   "outputs": [],
   "source": [
    "pdm_resid_periods = []\n",
    "for each, value in enumerate(pdm_periods_resid): \n",
    "    if value == 'NaN':\n",
    "        pdm_resid_periods.append(0)\n",
    "    else: \n",
    "        pdm_resid_periods.append(value)"
   ]
  },
  {
   "cell_type": "code",
   "execution_count": 19,
   "metadata": {},
   "outputs": [
    {
     "data": {
      "text/html": [
       "\n",
       "\n",
       "\n",
       "\n",
       "\n",
       "\n",
       "  <div class=\"bk-root\" id=\"ae1c1426-9592-4f61-a916-f56c7c7d7538\" data-root-id=\"1003\"></div>\n"
      ]
     },
     "metadata": {},
     "output_type": "display_data"
    },
    {
     "data": {
      "application/javascript": [
       "(function(root) {\n",
       "  function embed_document(root) {\n",
       "    \n",
       "  var docs_json = {\"16e6ec1c-8377-496a-a717-ea698dd0c79d\":{\"roots\":{\"references\":[{\"attributes\":{\"below\":[{\"id\":\"1014\",\"type\":\"LinearAxis\"}],\"center\":[{\"id\":\"1018\",\"type\":\"Grid\"},{\"id\":\"1023\",\"type\":\"Grid\"},{\"id\":\"1046\",\"type\":\"Legend\"}],\"left\":[{\"id\":\"1019\",\"type\":\"LinearAxis\"}],\"plot_width\":900,\"renderers\":[{\"id\":\"1038\",\"type\":\"GlyphRenderer\"},{\"id\":\"1051\",\"type\":\"GlyphRenderer\"},{\"id\":\"1056\",\"type\":\"GlyphRenderer\"},{\"id\":\"1072\",\"type\":\"GlyphRenderer\"}],\"title\":{\"id\":\"1004\",\"type\":\"Title\"},\"toolbar\":{\"id\":\"1029\",\"type\":\"Toolbar\"},\"x_range\":{\"id\":\"1006\",\"type\":\"DataRange1d\"},\"x_scale\":{\"id\":\"1010\",\"type\":\"LinearScale\"},\"y_range\":{\"id\":\"1008\",\"type\":\"Range1d\"},\"y_scale\":{\"id\":\"1012\",\"type\":\"LinearScale\"}},\"id\":\"1003\",\"subtype\":\"Figure\",\"type\":\"Plot\"},{\"attributes\":{\"data_source\":{\"id\":\"1035\",\"type\":\"ColumnDataSource\"},\"glyph\":{\"id\":\"1036\",\"type\":\"Line\"},\"hover_glyph\":null,\"muted_glyph\":null,\"name\":\"y=x\",\"nonselection_glyph\":{\"id\":\"1037\",\"type\":\"Line\"},\"selection_glyph\":null,\"view\":{\"id\":\"1039\",\"type\":\"CDSView\"}},\"id\":\"1038\",\"type\":\"GlyphRenderer\"},{\"attributes\":{\"line_color\":\"lightsteelblue\",\"line_dash\":[4,4],\"line_width\":2,\"x\":{\"field\":\"x\"},\"y\":{\"field\":\"y\"}},\"id\":\"1036\",\"type\":\"Line\"},{\"attributes\":{},\"id\":\"1010\",\"type\":\"LinearScale\"},{\"attributes\":{\"dimension\":1,\"ticker\":{\"id\":\"1020\",\"type\":\"BasicTicker\"}},\"id\":\"1023\",\"type\":\"Grid\"},{\"attributes\":{\"fill_alpha\":{\"value\":0.1},\"fill_color\":{\"value\":\"#1f77b4\"},\"line_alpha\":{\"value\":0.1},\"line_color\":{\"value\":\"#1f77b4\"},\"x\":{\"field\":\"x\"},\"y\":{\"field\":\"y\"}},\"id\":\"1050\",\"type\":\"Circle\"},{\"attributes\":{\"callback\":null,\"end\":15},\"id\":\"1008\",\"type\":\"Range1d\"},{\"attributes\":{\"callback\":null,\"data\":{\"x\":[7.0,8.88,2.85,10.69,8.74,12.83,6.72,2.67,6.41,2.81,2.19,10.68,11.96,7.7,3.56,8.6,3.72,11.19,10.5,0.84,3.32,1.54,1.37,12.11,10.51,3.2,11.11,1.18,5.62,1.85,3.83,2.38,2.7,12.12,8.23,3.54,8.01,6.32,11.72,7.97,1.45,12.32,2.78,10.03,1.45,1.68,3.15,0.57,1.18,6.4,2.99,0.96,6.24,7.59,3.91,6.42,1.03,8.52],\"y\":[3.5,4.44,1.425,5.345,4.37,6.415,3.36,1.335,3.205,1.405,1.095,5.34,5.98,3.85,1.78,4.3,1.86,5.595,5.25,0.42,1.66,0.77,0.685,6.055,5.255,1.6,5.555,0.59,2.81,0.925,1.915,1.19,1.35,6.06,4.115,1.77,4.005,3.16,5.86,3.985,0.725,6.16,1.39,5.015,0.725,0.84,1.575,0.285,0.59,3.2,1.495,0.48,3.12,3.795,1.955,3.21,0.515,4.26]},\"selected\":{\"id\":\"1084\",\"type\":\"Selection\"},\"selection_policy\":{\"id\":\"1083\",\"type\":\"UnionRenderers\"}},\"id\":\"1053\",\"type\":\"ColumnDataSource\"},{\"attributes\":{\"line_alpha\":0.1,\"line_color\":\"#1f77b4\",\"line_dash\":[4,4],\"line_width\":2,\"x\":{\"field\":\"x\"},\"y\":{\"field\":\"y\"}},\"id\":\"1037\",\"type\":\"Line\"},{\"attributes\":{\"items\":[{\"id\":\"1047\",\"type\":\"LegendItem\"},{\"id\":\"1068\",\"type\":\"LegendItem\"}]},\"id\":\"1046\",\"type\":\"Legend\"},{\"attributes\":{\"source\":{\"id\":\"1069\",\"type\":\"ColumnDataSource\"}},\"id\":\"1073\",\"type\":\"CDSView\"},{\"attributes\":{},\"id\":\"1099\",\"type\":\"Selection\"},{\"attributes\":{\"axis_label\":\"PDM Period\",\"formatter\":{\"id\":\"1044\",\"type\":\"BasicTickFormatter\"},\"ticker\":{\"id\":\"1020\",\"type\":\"BasicTicker\"}},\"id\":\"1019\",\"type\":\"LinearAxis\"},{\"attributes\":{\"source\":{\"id\":\"1053\",\"type\":\"ColumnDataSource\"}},\"id\":\"1057\",\"type\":\"CDSView\"},{\"attributes\":{\"label\":{\"value\":\"y=x\"},\"renderers\":[{\"id\":\"1038\",\"type\":\"GlyphRenderer\"}]},\"id\":\"1047\",\"type\":\"LegendItem\"},{\"attributes\":{\"callback\":null,\"tooltips\":[[\"index\",\"$index\"],[\"(x,y)\",\"($x, $y)\"],[\"ls\",\"$ls\"],[\"TESS\",\"$tess\"]]},\"id\":\"1028\",\"type\":\"HoverTool\"},{\"attributes\":{\"callback\":null,\"data\":{\"ls\":[7.856849905952568,2.2097722409170824,2.3361086581724906,2.842109571240747,7.213810834675115,9.502103786816269,2.362996801415544,7.104219948849106,4.293840767334194,7.682361888958031,7.456646623000108,7.777000069993702,7.222063335239977,7.540140338495365,0.8766157943901638,\"NaN\",1.8656954505307768,15.664739884393065,2.650448937530414,0.8370259100613362,4.691511282259155,9.24299143166126,1.3677568344756952,7.548028586179724,14.910891620591551,6.967979028960605,5.088572580054225,1.1596620061703913,7.553673161379798,7.919684096481725,7.343882191201354,0.7822873968015703,7.357790874776505,8.295629321029134,2.6934190495583286,\"NaN\",7.353505671815644,7.2803637888556905,8.20133158151139,10.32793590005763,1.4613968170459029,7.212780598003195,1.3861512128667168,7.0555887171541425,7.527777777777778,0.8317463454363617,3.3633617271169713,0.5667784478299593,2.8507725385756144,3.49027146904901,2.7375086232383956,8.218681578791644,1.4115659221993546,\"NaN\",7.197362284292895,6.834089874647871,2.3541850294935247,3.571474490845505,4.464257015203627,4.451272765149391,8.535367502458211],\"tess\":[275493837,121789795,63007124,275490626,171098535,63210277,351803000,170253623,158791870,164724054,122684770,121457565,273582401,267991320,137218354,184089663,272370950,159172008,121659832,138728898,169460055,169466444,122213500,63209318,120963553,267746802,271165094,27395090,298964604,270608620,185058148,271426791,273687618,272719990,239227465,27186774,271538184,121215119,121939294,352013209,185058255,170344764,378084176,120422997,63075888,270856793,26597576,158412743,121329643,351055098,120890400,137408312,267671733,279916031,271547585,158936101,121939266,239225673],\"x\":[7.0,8.88,2.85,10.69,8.74,12.83,6.72,2.67,6.41,2.81,2.19,10.68,11.96,7.7,3.56,8.6,3.72,11.19,10.5,0.84,3.32,1.54,1.37,12.11,10.51,3.2,11.11,1.18,5.62,1.85,3.83,2.38,2.7,12.12,8.23,3.54,8.01,6.32,11.72,7.97,1.45,12.32,2.78,10.03,1.45,1.68,3.15,0.57,1.18,6.4,2.99,0.96,6.24,7.59,3.91,6.42,1.03,8.52],\"y\":[7.84954954954955,9.881081081081081,5.877477477477478,7.066666666666667,7.046846846846847,8.771171171171172,2.8252252252252257,7.760360360360361,8.870270270270272,7.978378378378379,7.720720720720721,8.771171171171172,0.44684684684684695,7.690990990990992,6.9972972972972975,0,3.7072072072072078,6.709909909909911,8.612612612612613,0.8333333333333334,8.00810810810811,9.920720720720722,1.3783783783783785,7.80990990990991,1.0216216216216218,6.76936936936937,7.126126126126127,1.1603603603603605,7.443243243243244,7.492792792792793,7.363963963963965,6.660360360360361,7.532432432432433,8.077477477477478,8.087387387387388,0,5.0549549549549555,9.98018018018018,7.978378378378379,9.791891891891893,1.4576576576576579,6.987387387387388,1.3882882882882885,6.987387387387388,8.642342342342342,1.665765765765766,9.99009009009009,0.5657657657657659,4.688288288288288,6.6504504504504505,8.156756756756756,8.117117117117118,2.8252252252252257,0,6.640540540540541,6.8684684684684685,7.155855855855856,7.126126126126127]},\"selected\":{\"id\":\"1066\",\"type\":\"Selection\"},\"selection_policy\":{\"id\":\"1065\",\"type\":\"UnionRenderers\"}},\"id\":\"1002\",\"type\":\"ColumnDataSource\"},{\"attributes\":{\"line_alpha\":0.1,\"line_color\":\"#1f77b4\",\"line_dash\":[2,4],\"x\":{\"field\":\"x\"},\"y\":{\"field\":\"y\"}},\"id\":\"1071\",\"type\":\"Line\"},{\"attributes\":{},\"id\":\"1083\",\"type\":\"UnionRenderers\"},{\"attributes\":{},\"id\":\"1012\",\"type\":\"LinearScale\"},{\"attributes\":{},\"id\":\"1015\",\"type\":\"BasicTicker\"},{\"attributes\":{\"fill_color\":{\"value\":\"mediumvioletred\"},\"line_color\":{\"value\":null},\"x\":{\"field\":\"x\"},\"y\":{\"field\":\"y\"}},\"id\":\"1049\",\"type\":\"Circle\"},{\"attributes\":{},\"id\":\"1042\",\"type\":\"BasicTickFormatter\"},{\"attributes\":{},\"id\":\"1024\",\"type\":\"PanTool\"},{\"attributes\":{},\"id\":\"1064\",\"type\":\"Selection\"},{\"attributes\":{\"overlay\":{\"id\":\"1045\",\"type\":\"BoxAnnotation\"}},\"id\":\"1025\",\"type\":\"BoxZoomTool\"},{\"attributes\":{},\"id\":\"1084\",\"type\":\"Selection\"},{\"attributes\":{\"axis_label\":\"McQuillan Period\",\"formatter\":{\"id\":\"1042\",\"type\":\"BasicTickFormatter\"},\"ticker\":{\"id\":\"1015\",\"type\":\"BasicTicker\"}},\"id\":\"1014\",\"type\":\"LinearAxis\"},{\"attributes\":{},\"id\":\"1020\",\"type\":\"BasicTicker\"},{\"attributes\":{\"active_drag\":\"auto\",\"active_inspect\":\"auto\",\"active_multi\":null,\"active_scroll\":\"auto\",\"active_tap\":\"auto\",\"tools\":[{\"id\":\"1024\",\"type\":\"PanTool\"},{\"id\":\"1025\",\"type\":\"BoxZoomTool\"},{\"id\":\"1026\",\"type\":\"ResetTool\"},{\"id\":\"1027\",\"type\":\"SaveTool\"},{\"id\":\"1028\",\"type\":\"HoverTool\"}]},\"id\":\"1029\",\"type\":\"Toolbar\"},{\"attributes\":{\"callback\":null},\"id\":\"1006\",\"type\":\"DataRange1d\"},{\"attributes\":{\"source\":{\"id\":\"1002\",\"type\":\"ColumnDataSource\"}},\"id\":\"1052\",\"type\":\"CDSView\"},{\"attributes\":{\"line_alpha\":0.1,\"line_color\":\"#1f77b4\",\"line_dash\":[2,4],\"x\":{\"field\":\"x\"},\"y\":{\"field\":\"y\"}},\"id\":\"1055\",\"type\":\"Line\"},{\"attributes\":{\"line_color\":\"khaki\",\"line_dash\":[2,4],\"x\":{\"field\":\"x\"},\"y\":{\"field\":\"y\"}},\"id\":\"1070\",\"type\":\"Line\"},{\"attributes\":{\"line_color\":\"khaki\",\"line_dash\":[2,4],\"x\":{\"field\":\"x\"},\"y\":{\"field\":\"y\"}},\"id\":\"1054\",\"type\":\"Line\"},{\"attributes\":{\"text\":\"PDM Periods from Flux with Trends Removed\"},\"id\":\"1004\",\"type\":\"Title\"},{\"attributes\":{\"callback\":null,\"data\":{\"x\":[7.0,8.88,2.85,10.69,8.74,12.83,6.72,2.67,6.41,2.81,2.19,10.68,11.96,7.7,3.56,8.6,3.72,11.19,10.5,0.84,3.32,1.54,1.37,12.11,10.51,3.2,11.11,1.18,5.62,1.85,3.83,2.38,2.7,12.12,8.23,3.54,8.01,6.32,11.72,7.97,1.45,12.32,2.78,10.03,1.45,1.68,3.15,0.57,1.18,6.4,2.99,0.96,6.24,7.59,3.91,6.42,1.03,8.52],\"y\":[14.0,17.76,5.7,21.38,17.48,25.66,13.44,5.34,12.82,5.62,4.38,21.36,23.92,15.4,7.12,17.2,7.44,22.38,21.0,1.68,6.64,3.08,2.74,24.22,21.02,6.4,22.22,2.36,11.24,3.7,7.66,4.76,5.4,24.24,16.46,7.08,16.02,12.64,23.44,15.94,2.9,24.64,5.56,20.06,2.9,3.36,6.3,1.14,2.36,12.8,5.98,1.92,12.48,15.18,7.82,12.84,2.06,17.04]},\"selected\":{\"id\":\"1099\",\"type\":\"Selection\"},\"selection_policy\":{\"id\":\"1098\",\"type\":\"UnionRenderers\"}},\"id\":\"1069\",\"type\":\"ColumnDataSource\"},{\"attributes\":{},\"id\":\"1026\",\"type\":\"ResetTool\"},{\"attributes\":{},\"id\":\"1066\",\"type\":\"Selection\"},{\"attributes\":{\"callback\":null,\"data\":{\"x\":[7.0,8.88,2.85,10.69,8.74,12.83,6.72,2.67,6.41,2.81,2.19,10.68,11.96,7.7,3.56,8.6,3.72,11.19,10.5,0.84,3.32,1.54,1.37,12.11,10.51,3.2,11.11,1.18,5.62,1.85,3.83,2.38,2.7,12.12,8.23,3.54,8.01,6.32,11.72,7.97,1.45,12.32,2.78,10.03,1.45,1.68,3.15,0.57,1.18,6.4,2.99,0.96,6.24,7.59,3.91,6.42,1.03,8.52],\"y\":[7.0,8.88,2.85,10.69,8.74,12.83,6.72,2.67,6.41,2.81,2.19,10.68,11.96,7.7,3.56,8.6,3.72,11.19,10.5,0.84,3.32,1.54,1.37,12.11,10.51,3.2,11.11,1.18,5.62,1.85,3.83,2.38,2.7,12.12,8.23,3.54,8.01,6.32,11.72,7.97,1.45,12.32,2.78,10.03,1.45,1.68,3.15,0.57,1.18,6.4,2.99,0.96,6.24,7.59,3.91,6.42,1.03,8.52]},\"selected\":{\"id\":\"1064\",\"type\":\"Selection\"},\"selection_policy\":{\"id\":\"1063\",\"type\":\"UnionRenderers\"}},\"id\":\"1035\",\"type\":\"ColumnDataSource\"},{\"attributes\":{},\"id\":\"1098\",\"type\":\"UnionRenderers\"},{\"attributes\":{\"data_source\":{\"id\":\"1069\",\"type\":\"ColumnDataSource\"},\"glyph\":{\"id\":\"1070\",\"type\":\"Line\"},\"hover_glyph\":null,\"muted_glyph\":null,\"nonselection_glyph\":{\"id\":\"1071\",\"type\":\"Line\"},\"selection_glyph\":null,\"view\":{\"id\":\"1073\",\"type\":\"CDSView\"}},\"id\":\"1072\",\"type\":\"GlyphRenderer\"},{\"attributes\":{\"label\":{\"value\":\"y=2x\"},\"renderers\":[{\"id\":\"1056\",\"type\":\"GlyphRenderer\"},{\"id\":\"1072\",\"type\":\"GlyphRenderer\"}]},\"id\":\"1068\",\"type\":\"LegendItem\"},{\"attributes\":{\"source\":{\"id\":\"1035\",\"type\":\"ColumnDataSource\"}},\"id\":\"1039\",\"type\":\"CDSView\"},{\"attributes\":{},\"id\":\"1063\",\"type\":\"UnionRenderers\"},{\"attributes\":{\"bottom_units\":\"screen\",\"fill_alpha\":{\"value\":0.5},\"fill_color\":{\"value\":\"lightgrey\"},\"left_units\":\"screen\",\"level\":\"overlay\",\"line_alpha\":{\"value\":1.0},\"line_color\":{\"value\":\"black\"},\"line_dash\":[4,4],\"line_width\":{\"value\":2},\"render_mode\":\"css\",\"right_units\":\"screen\",\"top_units\":\"screen\"},\"id\":\"1045\",\"type\":\"BoxAnnotation\"},{\"attributes\":{},\"id\":\"1044\",\"type\":\"BasicTickFormatter\"},{\"attributes\":{},\"id\":\"1027\",\"type\":\"SaveTool\"},{\"attributes\":{\"data_source\":{\"id\":\"1002\",\"type\":\"ColumnDataSource\"},\"glyph\":{\"id\":\"1049\",\"type\":\"Circle\"},\"hover_glyph\":null,\"muted_glyph\":null,\"nonselection_glyph\":{\"id\":\"1050\",\"type\":\"Circle\"},\"selection_glyph\":null,\"view\":{\"id\":\"1052\",\"type\":\"CDSView\"}},\"id\":\"1051\",\"type\":\"GlyphRenderer\"},{\"attributes\":{\"data_source\":{\"id\":\"1053\",\"type\":\"ColumnDataSource\"},\"glyph\":{\"id\":\"1054\",\"type\":\"Line\"},\"hover_glyph\":null,\"muted_glyph\":null,\"nonselection_glyph\":{\"id\":\"1055\",\"type\":\"Line\"},\"selection_glyph\":null,\"view\":{\"id\":\"1057\",\"type\":\"CDSView\"}},\"id\":\"1056\",\"type\":\"GlyphRenderer\"},{\"attributes\":{\"ticker\":{\"id\":\"1015\",\"type\":\"BasicTicker\"}},\"id\":\"1018\",\"type\":\"Grid\"},{\"attributes\":{},\"id\":\"1065\",\"type\":\"UnionRenderers\"}],\"root_ids\":[\"1003\"]},\"title\":\"Bokeh Application\",\"version\":\"1.3.4\"}};\n",
       "  var render_items = [{\"docid\":\"16e6ec1c-8377-496a-a717-ea698dd0c79d\",\"roots\":{\"1003\":\"ae1c1426-9592-4f61-a916-f56c7c7d7538\"}}];\n",
       "  root.Bokeh.embed.embed_items_notebook(docs_json, render_items);\n",
       "\n",
       "  }\n",
       "  if (root.Bokeh !== undefined) {\n",
       "    embed_document(root);\n",
       "  } else {\n",
       "    var attempts = 0;\n",
       "    var timer = setInterval(function(root) {\n",
       "      if (root.Bokeh !== undefined) {\n",
       "        embed_document(root);\n",
       "        clearInterval(timer);\n",
       "      }\n",
       "      attempts++;\n",
       "      if (attempts > 100) {\n",
       "        console.log(\"Bokeh: ERROR: Unable to run BokehJS code because BokehJS library is missing\");\n",
       "        clearInterval(timer);\n",
       "      }\n",
       "    }, 10, root)\n",
       "  }\n",
       "})(window);"
      ],
      "application/vnd.bokehjs_exec.v0+json": ""
     },
     "metadata": {
      "application/vnd.bokehjs_exec.v0+json": {
       "id": "1003"
      }
     },
     "output_type": "display_data"
    }
   ],
   "source": [
    "x = short_periods[0:58]\n",
    "y =  pdm_resid_periods\n",
    "\n",
    "source = ColumnDataSource(data=dict(\n",
    "    x =  short_periods[0:58],\n",
    "    y = pdm_resid_periods[0:58],\n",
    "    ls = ls_periods_resid, \n",
    "    tess = (cat['tic_id'])[0:58]))\n",
    "\n",
    "x2 = [i*2 for i in x]\n",
    "x_half = [float(i)*0.5 for i in x]\n",
    "\n",
    "tess_pdm_periods_plot = figure(\n",
    "   tools=\"pan,box_zoom,reset,save,hover\",\n",
    "   y_range=[0, 15], title=\"PDM Periods from Flux with Trends Removed\",\n",
    "   x_axis_label='McQuillan Period', y_axis_label='PDM Period', plot_width=900)\n",
    "\n",
    "tess_pdm_periods_plot.line(x, x, name = \"y=x\", color = 'lightsteelblue', line_dash=\"4 4\", legend = \"y=x\", line_width = 2)\n",
    "tess_pdm_periods_plot.circle('x', 'y', source = source, color=\"mediumvioletred\", line_color=None)\n",
    "tess_pdm_periods_plot.line(x, x_half, legend=\"y=2x\", line_width=1, color = 'khaki', line_dash=\"dotted\")\n",
    "tess_pdm_periods_plot.line(x, x2, legend=\"y=2x\", line_width=1, color = 'khaki', line_dash=\"dotted\")\n",
    "\n",
    "tess_pdm_periods_plot.hover.tooltips = [\n",
    "    (\"index\", \"$index\"), \n",
    "    (\"(x,y)\", \"($x, $y)\"), \n",
    "    (\"ls\", \"$ls\"),\n",
    "    (\"TESS\", \"$tess\")] \n",
    "\n",
    "show(tess_pdm_periods_plot)"
   ]
  },
  {
   "cell_type": "code",
   "execution_count": 20,
   "metadata": {},
   "outputs": [
    {
     "data": {
      "text/html": [
       "\n",
       "\n",
       "\n",
       "\n",
       "\n",
       "\n",
       "  <div class=\"bk-root\" id=\"8ad37238-7677-40be-bda2-0b6b24c0d9a7\" data-root-id=\"1185\"></div>\n"
      ]
     },
     "metadata": {},
     "output_type": "display_data"
    },
    {
     "data": {
      "application/javascript": [
       "(function(root) {\n",
       "  function embed_document(root) {\n",
       "    \n",
       "  var docs_json = {\"5dafab6e-07d0-4dac-a2a7-4126fd176643\":{\"roots\":{\"references\":[{\"attributes\":{\"below\":[{\"id\":\"1196\",\"type\":\"LinearAxis\"}],\"center\":[{\"id\":\"1200\",\"type\":\"Grid\"},{\"id\":\"1205\",\"type\":\"Grid\"},{\"id\":\"1218\",\"type\":\"Whisker\"},{\"id\":\"1242\",\"type\":\"Legend\"}],\"left\":[{\"id\":\"1201\",\"type\":\"LinearAxis\"}],\"plot_width\":900,\"renderers\":[{\"id\":\"1223\",\"type\":\"GlyphRenderer\"},{\"id\":\"1228\",\"type\":\"GlyphRenderer\"},{\"id\":\"1247\",\"type\":\"GlyphRenderer\"},{\"id\":\"1266\",\"type\":\"GlyphRenderer\"}],\"title\":{\"id\":\"1186\",\"type\":\"Title\"},\"toolbar\":{\"id\":\"1211\",\"type\":\"Toolbar\"},\"x_range\":{\"id\":\"1188\",\"type\":\"DataRange1d\"},\"x_scale\":{\"id\":\"1192\",\"type\":\"LinearScale\"},\"y_range\":{\"id\":\"1190\",\"type\":\"Range1d\"},\"y_scale\":{\"id\":\"1194\",\"type\":\"LinearScale\"}},\"id\":\"1185\",\"subtype\":\"Figure\",\"type\":\"Plot\"},{\"attributes\":{\"line_color\":\"khaki\",\"line_dash\":[2,4],\"x\":{\"field\":\"x\"},\"y\":{\"field\":\"y\"}},\"id\":\"1245\",\"type\":\"Line\"},{\"attributes\":{},\"id\":\"1239\",\"type\":\"UnionRenderers\"},{\"attributes\":{\"fill_color\":{\"value\":\"mediumvioletred\"},\"line_color\":{\"value\":null},\"x\":{\"field\":\"x\"},\"y\":{\"field\":\"y\"}},\"id\":\"1221\",\"type\":\"Circle\"},{\"attributes\":{\"callback\":null,\"data\":{\"base\":[7.0,8.88,2.85,10.69,8.74,12.83,6.72,2.67,6.41,2.81,2.19,10.68,11.96,7.7,3.56,8.6,3.72,11.19,10.5,0.84,3.32,1.54,1.37,12.11,10.51,3.2,11.11,1.18,5.62,1.85,3.83,2.38,2.7,12.12,8.23,3.54,8.01,6.32,11.72,7.97,1.45,12.32,2.78,10.03,1.45,1.68,3.15,0.57,1.18,6.4,2.99,0.96,6.24,7.59,3.91,6.42,1.03,8.52],\"lower\":[6.860019171150784,9.681354114146433,3.636979670415169,3.4729599853362703,6.745232402236232,1.7255747223733744,2.778694255990315,6.802010303067938,-3.67097301359137,6.439299366157432,6.8174086561937735,7.8356334018665335,0.44857274658118373,4.784278877103548,6.392692139917726,-0.09667672881467891,2.4001587740024233,-6.7350381120951806,8.603813948939791,0.34528768531810383,6.408422497718302,9.888075001418239,0.3466497285132677,7.80578412563695,-0.2324625673466474,4.691390287446934,7.108642641655081,-1.2638117480001534,5.992404590600357,6.7310708400180275,4.508327222616857,5.5783358730585935,6.4224400168267195,0.8864189614134732,7.858502580704085,-2.999866593148415,4.227446604213305,4.982295943865229,7.953345925354242,8.072679011451799,1.4646072059086057,4.873496681323749,0.1058331709057474,6.957344025345313,8.40682702304007,1.6631493862221338,9.89910683672939,0.18855076841040525,4.06248076111951,5.559855982057526,8.109692053712667,2.043150411714418,2.178744768320658,-29.913041033714702,6.385236375327864,2.2706825677029734,7.137146970687578,6.156529184504986],\"upper\":[8.839079927948317,10.08080804801573,8.117975284539787,10.660373347997064,7.348461291457462,15.81676761996897,2.8717561944601364,8.718710417652783,21.411513554131915,9.517457390599326,8.62403278524767,9.70670894047581,0.44512094711251016,10.597703104878436,7.601902454676869,0.09667672881467891,5.014255640411992,20.154857931915004,8.621411276285436,1.321378981348563,9.607793718497916,9.953366440023204,2.4101070282434893,7.814035694182871,2.275705810589891,8.847348451291806,7.1436096105971725,3.5845324687208744,8.894081895886131,8.254514745567558,10.219600705311073,7.742384847662128,8.642424848038146,15.268535993541484,8.31627219407069,2.999866593148415,5.882463305696606,14.978064416495133,8.003410831402515,11.511104772331988,1.45070810940671,9.101278093451027,2.6707434056708297,7.0174307494294625,8.877857661644615,1.6683821453093983,10.081073343450791,0.9429807631211264,5.314095815457066,7.741044918843375,8.203821459800846,14.191083822519818,3.471705682129793,29.913041033714702,6.895844705753218,11.466254369233964,7.174564741024135,8.095723067747267]},\"selected\":{\"id\":\"1240\",\"type\":\"Selection\"},\"selection_policy\":{\"id\":\"1239\",\"type\":\"UnionRenderers\"}},\"id\":\"1217\",\"type\":\"ColumnDataSource\"},{\"attributes\":{},\"id\":\"1313\",\"type\":\"Selection\"},{\"attributes\":{\"bottom_units\":\"screen\",\"fill_alpha\":{\"value\":0.5},\"fill_color\":{\"value\":\"lightgrey\"},\"left_units\":\"screen\",\"level\":\"overlay\",\"line_alpha\":{\"value\":1.0},\"line_color\":{\"value\":\"black\"},\"line_dash\":[4,4],\"line_width\":{\"value\":2},\"render_mode\":\"css\",\"right_units\":\"screen\",\"top_units\":\"screen\"},\"id\":\"1241\",\"type\":\"BoxAnnotation\"},{\"attributes\":{\"active_drag\":\"auto\",\"active_inspect\":\"auto\",\"active_multi\":null,\"active_scroll\":\"auto\",\"active_tap\":\"auto\",\"tools\":[{\"id\":\"1206\",\"type\":\"PanTool\"},{\"id\":\"1207\",\"type\":\"BoxZoomTool\"},{\"id\":\"1208\",\"type\":\"ResetTool\"},{\"id\":\"1209\",\"type\":\"SaveTool\"},{\"id\":\"1210\",\"type\":\"HoverTool\"}]},\"id\":\"1211\",\"type\":\"Toolbar\"},{\"attributes\":{\"callback\":null,\"data\":{\"x\":[7.0,8.88,2.85,10.69,8.74,12.83,6.72,2.67,6.41,2.81,2.19,10.68,11.96,7.7,3.56,8.6,3.72,11.19,10.5,0.84,3.32,1.54,1.37,12.11,10.51,3.2,11.11,1.18,5.62,1.85,3.83,2.38,2.7,12.12,8.23,3.54,8.01,6.32,11.72,7.97,1.45,12.32,2.78,10.03,1.45,1.68,3.15,0.57,1.18,6.4,2.99,0.96,6.24,7.59,3.91,6.42,1.03,8.52],\"y\":[14.0,17.76,5.7,21.38,17.48,25.66,13.44,5.34,12.82,5.62,4.38,21.36,23.92,15.4,7.12,17.2,7.44,22.38,21.0,1.68,6.64,3.08,2.74,24.22,21.02,6.4,22.22,2.36,11.24,3.7,7.66,4.76,5.4,24.24,16.46,7.08,16.02,12.64,23.44,15.94,2.9,24.64,5.56,20.06,2.9,3.36,6.3,1.14,2.36,12.8,5.98,1.92,12.48,15.18,7.82,12.84,2.06,17.04]},\"selected\":{\"id\":\"1280\",\"type\":\"Selection\"},\"selection_policy\":{\"id\":\"1279\",\"type\":\"UnionRenderers\"}},\"id\":\"1244\",\"type\":\"ColumnDataSource\"},{\"attributes\":{\"source\":{\"id\":\"1263\",\"type\":\"ColumnDataSource\"}},\"id\":\"1267\",\"type\":\"CDSView\"},{\"attributes\":{},\"id\":\"1206\",\"type\":\"PanTool\"},{\"attributes\":{\"callback\":null,\"end\":15,\"start\":-1},\"id\":\"1190\",\"type\":\"Range1d\"},{\"attributes\":{\"line_alpha\":0.1,\"line_color\":\"#1f77b4\",\"line_dash\":[2,4],\"x\":{\"field\":\"x\"},\"y\":{\"field\":\"y\"}},\"id\":\"1227\",\"type\":\"Line\"},{\"attributes\":{\"overlay\":{\"id\":\"1241\",\"type\":\"BoxAnnotation\"}},\"id\":\"1207\",\"type\":\"BoxZoomTool\"},{\"attributes\":{\"callback\":null},\"id\":\"1188\",\"type\":\"DataRange1d\"},{\"attributes\":{\"callback\":null,\"data\":{\"ls\":[7.856849905952568,2.2097722409170824,2.3361086581724906,2.842109571240747,7.213810834675115,9.502103786816269,2.362996801415544,7.104219948849106,4.293840767334194,7.682361888958031,7.456646623000108,7.777000069993702,7.222063335239977,7.540140338495365,0.8766157943901638,\"NaN\",1.8656954505307768,15.664739884393065,2.650448937530414,0.8370259100613362,4.691511282259155,9.24299143166126,1.3677568344756952,7.548028586179724,14.910891620591551,6.967979028960605,5.088572580054225,1.1596620061703913,7.553673161379798,7.919684096481725,7.343882191201354,0.7822873968015703,7.357790874776505,8.295629321029134,2.6934190495583286,\"NaN\",7.353505671815644,7.2803637888556905,8.20133158151139,10.32793590005763,1.4613968170459029,7.212780598003195,1.3861512128667168,7.0555887171541425,7.527777777777778,0.8317463454363617,3.3633617271169713,0.5667784478299593,2.8507725385756144,3.49027146904901,2.7375086232383956,8.218681578791644,1.4115659221993546,\"NaN\",7.197362284292895,6.834089874647871,2.3541850294935247,3.571474490845505,4.464257015203627,4.451272765149391,8.535367502458211],\"tess\":[275493837,121789795,63007124,275490626,171098535,63210277,351803000,170253623,158791870,164724054,122684770,121457565,273582401,267991320,137218354,184089663,272370950,159172008,121659832,138728898,169460055,169466444,122213500,63209318,120963553,267746802,271165094,27395090,298964604,270608620,185058148,271426791,273687618,272719990,239227465,27186774,271538184,121215119,121939294,352013209,185058255,170344764,378084176,120422997,63075888,270856793,26597576,158412743,121329643,351055098,120890400,137408312,267671733,279916031,271547585,158936101,121939266,239225673],\"x\":[7.0,8.88,2.85,10.69,8.74,12.83,6.72,2.67,6.41,2.81,2.19,10.68,11.96,7.7,3.56,8.6,3.72,11.19,10.5,0.84,3.32,1.54,1.37,12.11,10.51,3.2,11.11,1.18,5.62,1.85,3.83,2.38,2.7,12.12,8.23,3.54,8.01,6.32,11.72,7.97,1.45,12.32,2.78,10.03,1.45,1.68,3.15,0.57,1.18,6.4,2.99,0.96,6.24,7.59,3.91,6.42,1.03,8.52],\"y\":[7.84954954954955,9.881081081081081,5.877477477477478,7.066666666666667,7.046846846846847,8.771171171171172,2.8252252252252257,7.760360360360361,8.870270270270272,7.978378378378379,7.720720720720721,8.771171171171172,0.44684684684684695,7.690990990990992,6.9972972972972975,0,3.7072072072072078,6.709909909909911,8.612612612612613,0.8333333333333334,8.00810810810811,9.920720720720722,1.3783783783783785,7.80990990990991,1.0216216216216218,6.76936936936937,7.126126126126127,1.1603603603603605,7.443243243243244,7.492792792792793,7.363963963963965,6.660360360360361,7.532432432432433,8.077477477477478,8.087387387387388,0,5.0549549549549555,9.98018018018018,7.978378378378379,9.791891891891893,1.4576576576576579,6.987387387387388,1.3882882882882885,6.987387387387388,8.642342342342342,1.665765765765766,9.99009009009009,0.5657657657657659,4.688288288288288,6.6504504504504505,8.156756756756756,8.117117117117118,2.8252252252252257,0,6.640540540540541,6.8684684684684685,7.155855855855856,7.126126126126127]},\"selected\":{\"id\":\"1066\",\"type\":\"Selection\"},\"selection_policy\":{\"id\":\"1065\",\"type\":\"UnionRenderers\"}},\"id\":\"1002\",\"type\":\"ColumnDataSource\"},{\"attributes\":{\"line_alpha\":0.1,\"line_color\":\"#1f77b4\",\"line_dash\":[2,4],\"x\":{\"field\":\"x\"},\"y\":{\"field\":\"y\"}},\"id\":\"1246\",\"type\":\"Line\"},{\"attributes\":{},\"id\":\"1208\",\"type\":\"ResetTool\"},{\"attributes\":{},\"id\":\"1192\",\"type\":\"LinearScale\"},{\"attributes\":{\"text\":\"PDM Periods from Flux with Trends Removed\"},\"id\":\"1186\",\"type\":\"Title\"},{\"attributes\":{\"line_color\":\"khaki\",\"line_dash\":[2,4],\"x\":{\"field\":\"x\"},\"y\":{\"field\":\"y\"}},\"id\":\"1226\",\"type\":\"Line\"},{\"attributes\":{\"data_source\":{\"id\":\"1244\",\"type\":\"ColumnDataSource\"},\"glyph\":{\"id\":\"1245\",\"type\":\"Line\"},\"hover_glyph\":null,\"muted_glyph\":null,\"nonselection_glyph\":{\"id\":\"1246\",\"type\":\"Line\"},\"selection_glyph\":null,\"view\":{\"id\":\"1248\",\"type\":\"CDSView\"}},\"id\":\"1247\",\"type\":\"GlyphRenderer\"},{\"attributes\":{\"base\":{\"field\":\"base\",\"units\":\"data\"},\"line_color\":{\"value\":\"lightsteelblue\"},\"lower\":{\"field\":\"lower\",\"units\":\"data\"},\"lower_head\":{\"id\":\"1231\",\"type\":\"TeeHead\"},\"source\":{\"id\":\"1217\",\"type\":\"ColumnDataSource\"},\"upper\":{\"field\":\"upper\",\"units\":\"data\"},\"upper_head\":{\"id\":\"1232\",\"type\":\"TeeHead\"}},\"id\":\"1218\",\"type\":\"Whisker\"},{\"attributes\":{\"fill_alpha\":{\"value\":0.1},\"fill_color\":{\"value\":\"#1f77b4\"},\"line_alpha\":{\"value\":0.1},\"line_color\":{\"value\":\"#1f77b4\"},\"x\":{\"field\":\"x\"},\"y\":{\"field\":\"y\"}},\"id\":\"1222\",\"type\":\"Circle\"},{\"attributes\":{},\"id\":\"1209\",\"type\":\"SaveTool\"},{\"attributes\":{\"callback\":null},\"id\":\"1210\",\"type\":\"HoverTool\"},{\"attributes\":{\"source\":{\"id\":\"1244\",\"type\":\"ColumnDataSource\"}},\"id\":\"1248\",\"type\":\"CDSView\"},{\"attributes\":{\"items\":[{\"id\":\"1243\",\"type\":\"LegendItem\"},{\"id\":\"1284\",\"type\":\"LegendItem\"}]},\"id\":\"1242\",\"type\":\"Legend\"},{\"attributes\":{},\"id\":\"1194\",\"type\":\"LinearScale\"},{\"attributes\":{\"callback\":null,\"data\":{\"x\":[7.0,8.88,2.85,10.69,8.74,12.83,6.72,2.67,6.41,2.81,2.19,10.68,11.96,7.7,3.56,8.6,3.72,11.19,10.5,0.84,3.32,1.54,1.37,12.11,10.51,3.2,11.11,1.18,5.62,1.85,3.83,2.38,2.7,12.12,8.23,3.54,8.01,6.32,11.72,7.97,1.45,12.32,2.78,10.03,1.45,1.68,3.15,0.57,1.18,6.4,2.99,0.96,6.24,7.59,3.91,6.42,1.03,8.52],\"y\":[7.0,8.88,2.85,10.69,8.74,12.83,6.72,2.67,6.41,2.81,2.19,10.68,11.96,7.7,3.56,8.6,3.72,11.19,10.5,0.84,3.32,1.54,1.37,12.11,10.51,3.2,11.11,1.18,5.62,1.85,3.83,2.38,2.7,12.12,8.23,3.54,8.01,6.32,11.72,7.97,1.45,12.32,2.78,10.03,1.45,1.68,3.15,0.57,1.18,6.4,2.99,0.96,6.24,7.59,3.91,6.42,1.03,8.52]},\"selected\":{\"id\":\"1313\",\"type\":\"Selection\"},\"selection_policy\":{\"id\":\"1312\",\"type\":\"UnionRenderers\"}},\"id\":\"1263\",\"type\":\"ColumnDataSource\"},{\"attributes\":{\"line_alpha\":0.1,\"line_color\":\"#1f77b4\",\"line_dash\":[4,4],\"line_width\":2,\"x\":{\"field\":\"x\"},\"y\":{\"field\":\"y\"}},\"id\":\"1265\",\"type\":\"Line\"},{\"attributes\":{\"level\":\"underlay\",\"size\":10},\"id\":\"1231\",\"type\":\"TeeHead\"},{\"attributes\":{\"axis_label\":\"McQuillan Period\",\"formatter\":{\"id\":\"1234\",\"type\":\"BasicTickFormatter\"},\"ticker\":{\"id\":\"1197\",\"type\":\"BasicTicker\"}},\"id\":\"1196\",\"type\":\"LinearAxis\"},{\"attributes\":{\"callback\":null,\"data\":{\"x\":[7.0,8.88,2.85,10.69,8.74,12.83,6.72,2.67,6.41,2.81,2.19,10.68,11.96,7.7,3.56,8.6,3.72,11.19,10.5,0.84,3.32,1.54,1.37,12.11,10.51,3.2,11.11,1.18,5.62,1.85,3.83,2.38,2.7,12.12,8.23,3.54,8.01,6.32,11.72,7.97,1.45,12.32,2.78,10.03,1.45,1.68,3.15,0.57,1.18,6.4,2.99,0.96,6.24,7.59,3.91,6.42,1.03,8.52],\"y\":[3.5,4.44,1.425,5.345,4.37,6.415,3.36,1.335,3.205,1.405,1.095,5.34,5.98,3.85,1.78,4.3,1.86,5.595,5.25,0.42,1.66,0.77,0.685,6.055,5.255,1.6,5.555,0.59,2.81,0.925,1.915,1.19,1.35,6.06,4.115,1.77,4.005,3.16,5.86,3.985,0.725,6.16,1.39,5.015,0.725,0.84,1.575,0.285,0.59,3.2,1.495,0.48,3.12,3.795,1.955,3.21,0.515,4.26]},\"selected\":{\"id\":\"1259\",\"type\":\"Selection\"},\"selection_policy\":{\"id\":\"1258\",\"type\":\"UnionRenderers\"}},\"id\":\"1225\",\"type\":\"ColumnDataSource\"},{\"attributes\":{},\"id\":\"1202\",\"type\":\"BasicTicker\"},{\"attributes\":{},\"id\":\"1197\",\"type\":\"BasicTicker\"},{\"attributes\":{},\"id\":\"1066\",\"type\":\"Selection\"},{\"attributes\":{\"data_source\":{\"id\":\"1225\",\"type\":\"ColumnDataSource\"},\"glyph\":{\"id\":\"1226\",\"type\":\"Line\"},\"hover_glyph\":null,\"muted_glyph\":null,\"nonselection_glyph\":{\"id\":\"1227\",\"type\":\"Line\"},\"selection_glyph\":null,\"view\":{\"id\":\"1229\",\"type\":\"CDSView\"}},\"id\":\"1228\",\"type\":\"GlyphRenderer\"},{\"attributes\":{},\"id\":\"1279\",\"type\":\"UnionRenderers\"},{\"attributes\":{\"source\":{\"id\":\"1002\",\"type\":\"ColumnDataSource\"}},\"id\":\"1224\",\"type\":\"CDSView\"},{\"attributes\":{\"ticker\":{\"id\":\"1197\",\"type\":\"BasicTicker\"}},\"id\":\"1200\",\"type\":\"Grid\"},{\"attributes\":{\"data_source\":{\"id\":\"1263\",\"type\":\"ColumnDataSource\"},\"glyph\":{\"id\":\"1264\",\"type\":\"Line\"},\"hover_glyph\":null,\"muted_glyph\":null,\"name\":\"y=x\",\"nonselection_glyph\":{\"id\":\"1265\",\"type\":\"Line\"},\"selection_glyph\":null,\"view\":{\"id\":\"1267\",\"type\":\"CDSView\"}},\"id\":\"1266\",\"type\":\"GlyphRenderer\"},{\"attributes\":{\"source\":{\"id\":\"1225\",\"type\":\"ColumnDataSource\"}},\"id\":\"1229\",\"type\":\"CDSView\"},{\"attributes\":{\"data_source\":{\"id\":\"1002\",\"type\":\"ColumnDataSource\"},\"glyph\":{\"id\":\"1221\",\"type\":\"Circle\"},\"hover_glyph\":null,\"muted_glyph\":null,\"nonselection_glyph\":{\"id\":\"1222\",\"type\":\"Circle\"},\"selection_glyph\":null,\"view\":{\"id\":\"1224\",\"type\":\"CDSView\"}},\"id\":\"1223\",\"type\":\"GlyphRenderer\"},{\"attributes\":{},\"id\":\"1234\",\"type\":\"BasicTickFormatter\"},{\"attributes\":{},\"id\":\"1065\",\"type\":\"UnionRenderers\"},{\"attributes\":{},\"id\":\"1259\",\"type\":\"Selection\"},{\"attributes\":{\"label\":{\"value\":\"y=x\"},\"renderers\":[{\"id\":\"1266\",\"type\":\"GlyphRenderer\"}]},\"id\":\"1284\",\"type\":\"LegendItem\"},{\"attributes\":{\"line_color\":\"plum\",\"line_dash\":[4,4],\"line_width\":2,\"x\":{\"field\":\"x\"},\"y\":{\"field\":\"y\"}},\"id\":\"1264\",\"type\":\"Line\"},{\"attributes\":{\"level\":\"underlay\",\"size\":10},\"id\":\"1232\",\"type\":\"TeeHead\"},{\"attributes\":{},\"id\":\"1280\",\"type\":\"Selection\"},{\"attributes\":{\"dimension\":1,\"ticker\":{\"id\":\"1202\",\"type\":\"BasicTicker\"}},\"id\":\"1205\",\"type\":\"Grid\"},{\"attributes\":{},\"id\":\"1236\",\"type\":\"BasicTickFormatter\"},{\"attributes\":{},\"id\":\"1258\",\"type\":\"UnionRenderers\"},{\"attributes\":{},\"id\":\"1312\",\"type\":\"UnionRenderers\"},{\"attributes\":{\"axis_label\":\"PDM Period\",\"formatter\":{\"id\":\"1236\",\"type\":\"BasicTickFormatter\"},\"ticker\":{\"id\":\"1202\",\"type\":\"BasicTicker\"}},\"id\":\"1201\",\"type\":\"LinearAxis\"},{\"attributes\":{},\"id\":\"1240\",\"type\":\"Selection\"},{\"attributes\":{\"label\":{\"value\":\"y=2x\"},\"renderers\":[{\"id\":\"1228\",\"type\":\"GlyphRenderer\"},{\"id\":\"1247\",\"type\":\"GlyphRenderer\"}]},\"id\":\"1243\",\"type\":\"LegendItem\"}],\"root_ids\":[\"1185\"]},\"title\":\"Bokeh Application\",\"version\":\"1.3.4\"}};\n",
       "  var render_items = [{\"docid\":\"5dafab6e-07d0-4dac-a2a7-4126fd176643\",\"roots\":{\"1185\":\"8ad37238-7677-40be-bda2-0b6b24c0d9a7\"}}];\n",
       "  root.Bokeh.embed.embed_items_notebook(docs_json, render_items);\n",
       "\n",
       "  }\n",
       "  if (root.Bokeh !== undefined) {\n",
       "    embed_document(root);\n",
       "  } else {\n",
       "    var attempts = 0;\n",
       "    var timer = setInterval(function(root) {\n",
       "      if (root.Bokeh !== undefined) {\n",
       "        embed_document(root);\n",
       "        clearInterval(timer);\n",
       "      }\n",
       "      attempts++;\n",
       "      if (attempts > 100) {\n",
       "        console.log(\"Bokeh: ERROR: Unable to run BokehJS code because BokehJS library is missing\");\n",
       "        clearInterval(timer);\n",
       "      }\n",
       "    }, 10, root)\n",
       "  }\n",
       "})(window);"
      ],
      "application/vnd.bokehjs_exec.v0+json": ""
     },
     "metadata": {
      "application/vnd.bokehjs_exec.v0+json": {
       "id": "1185"
      }
     },
     "output_type": "display_data"
    }
   ],
   "source": [
    "p = figure(plot_width=900, plot_height=600, tools=\"pan,box_zoom,reset,save,hover\",\n",
    "   y_range=[-1, 15], title=\"PDM Periods from Flux with Trends Removed\",\n",
    "   x_axis_label='McQuillan Period', y_axis_label='PDM Period')\n",
    "\n",
    "base, lower, upper = [], [], []\n",
    "\n",
    "y = pdm_resid_periods[0:58]\n",
    "x = short_periods[0:58]\n",
    "\n",
    "x2 = [i*2 for i in x]\n",
    "x_half = [float(i)*0.5 for i in x]\n",
    "\n",
    "for i, per in enumerate(pdm_resid_periods[0:58]):\n",
    "    lower.append(per - pdm_error[i])\n",
    "    upper.append(per + pdm_error[i])\n",
    "    base.append(short_periods[i])\n",
    "    \n",
    "source_error = ColumnDataSource(data=dict(base=base, lower=lower, upper=upper))\n",
    "\n",
    "p.add_layout(\n",
    "    Whisker(source=source_error, base=\"base\", upper=\"upper\", lower=\"lower\", line_color = 'lightsteelblue')\n",
    ")\n",
    "\n",
    "p.circle(x = 'x', y = 'y', source = source, color=\"mediumvioletred\", line_color=None)\n",
    "p.line(x, x_half, legend=\"y=2x\", line_width=1, color = 'khaki', line_dash=\"dotted\")\n",
    "p.line(x, x2, legend=\"y=2x\", line_width=1, color = 'khaki', line_dash=\"dotted\")\n",
    "p.line(x, x, name = \"y=x\", color = 'plum', line_dash=\"4 4\", legend = \"y=x\", line_width = 2)\n",
    "\n",
    "\n",
    "\n",
    "show(p)"
   ]
  },
  {
   "cell_type": "code",
   "execution_count": 21,
   "metadata": {},
   "outputs": [
    {
     "data": {
      "text/html": [
       "\n",
       "\n",
       "\n",
       "\n",
       "\n",
       "\n",
       "  <div class=\"bk-root\" id=\"7cc3d912-bf8a-442b-b3af-e2a7b406fc75\" data-root-id=\"1425\"></div>\n"
      ]
     },
     "metadata": {},
     "output_type": "display_data"
    },
    {
     "data": {
      "application/javascript": [
       "(function(root) {\n",
       "  function embed_document(root) {\n",
       "    \n",
       "  var docs_json = {\"3bd4c8dd-e6a9-4ff1-ac8e-32e5fb7fe61a\":{\"roots\":{\"references\":[{\"attributes\":{\"below\":[{\"id\":\"1436\",\"type\":\"LinearAxis\"}],\"center\":[{\"id\":\"1440\",\"type\":\"Grid\"},{\"id\":\"1445\",\"type\":\"Grid\"},{\"id\":\"1459\",\"type\":\"Whisker\"},{\"id\":\"1483\",\"type\":\"Legend\"}],\"left\":[{\"id\":\"1441\",\"type\":\"LinearAxis\"}],\"plot_width\":900,\"renderers\":[{\"id\":\"1464\",\"type\":\"GlyphRenderer\"},{\"id\":\"1469\",\"type\":\"GlyphRenderer\"},{\"id\":\"1488\",\"type\":\"GlyphRenderer\"},{\"id\":\"1507\",\"type\":\"GlyphRenderer\"}],\"title\":{\"id\":\"1426\",\"type\":\"Title\"},\"toolbar\":{\"id\":\"1451\",\"type\":\"Toolbar\"},\"x_range\":{\"id\":\"1428\",\"type\":\"DataRange1d\"},\"x_scale\":{\"id\":\"1432\",\"type\":\"LinearScale\"},\"y_range\":{\"id\":\"1430\",\"type\":\"Range1d\"},\"y_scale\":{\"id\":\"1434\",\"type\":\"LinearScale\"}},\"id\":\"1425\",\"subtype\":\"Figure\",\"type\":\"Plot\"},{\"attributes\":{\"callback\":null,\"data\":{\"base\":[7.0,8.88,2.85,10.69,8.74,12.83,6.72,2.67,6.41,2.81,2.19,10.68,11.96,7.7,3.56,8.6,3.72,11.19,10.5,0.84,3.32,1.54,1.37,12.11,10.51,3.2,11.11,1.18,5.62,1.85,3.83,2.38,2.7,12.12,8.23,3.54,8.01,6.32,11.72,7.97,1.45,12.32,2.78,10.03,1.45,1.68,3.15,0.57,1.18,6.4,2.99,0.96,6.24,7.59,3.91,6.42,1.03,8.52],\"lower\":[7.849549549547163,9.711081081084169,5.877477477476505,6.60666666667047,7.036846846849832,8.751171171175555,2.755225225222958,7.740360360359457,8.860270270271727,7.968378378377423,7.680720720719988,8.751171171174821,0.3568468468509576,7.690990990988365,6.987297297296086,-0.05000000000291571,3.6872072072038424,6.619909909906125,8.512612612609066,0.8233333333336232,7.988108108106983,9.910720720721251,1.358378378377918,7.499909909905886,0.9116216216239867,6.769369369368278,7.086126126129929,1.1403603603607697,7.423243243241334,7.492792792792162,7.333963963962669,6.640360360361179,7.532432432431512,8.057477477473352,7.917387387390253,-0.0099999999987892,4.994954954952244,9.950180180182347,7.948378378382387,9.76189189189462,-0.092342342341319,6.7573873873916686,1.3582882882873508,6.967387387390815,8.642342342341848,1.6457657657663458,9.940090090089033,0.5457657657655783,4.658288288287896,6.550450450448301,8.14675675675778,8.107117117117333,2.8152252252273575,-0.10999999999737398,6.600540540541888,6.848468468466286,7.135855855856215,7.096126126129042],\"upper\":[7.849549549551938,10.051081081077994,5.87747747747845,7.526666666662865,7.056846846843863,8.79117117116679,2.8952252252274935,7.780360360361264,8.880270270268817,7.988378378379334,7.760720720721455,8.791171171167523,0.5368468468427363,7.690990990993618,7.007297297298509,0.05000000000291571,3.727207207210573,6.799909909913696,8.71261261261616,0.8433333333330435,8.028108108109235,9.930720720720192,1.398378378378839,8.119909909913934,1.131621621619257,6.7693693693704615,7.166126126122324,1.1803603603599513,7.463243243245154,7.4927927927934235,7.393963963965261,6.6803603603595425,7.532432432433354,8.097477477481604,8.257387387384522,0.0099999999987892,5.114954954957667,10.010180180178015,8.00837837837437,9.821891891889166,3.007657657656635,7.217387387383107,1.4182882882892263,7.007387387383961,8.642342342342836,1.6857657657651863,10.040090090091148,0.5857657657659534,4.71828828828868,6.7504504504525995,8.166756756755733,8.127117117116903,2.835225225223094,0.10999999999737398,6.6805405405391936,6.888468468470651,7.175855855855498,7.156126126123211]},\"selected\":{\"id\":\"1481\",\"type\":\"Selection\"},\"selection_policy\":{\"id\":\"1480\",\"type\":\"UnionRenderers\"}},\"id\":\"1458\",\"type\":\"ColumnDataSource\"},{\"attributes\":{\"text\":\"PDM Periods from Flux with Trends Removed\"},\"id\":\"1426\",\"type\":\"Title\"},{\"attributes\":{\"overlay\":{\"id\":\"1482\",\"type\":\"BoxAnnotation\"}},\"id\":\"1447\",\"type\":\"BoxZoomTool\"},{\"attributes\":{},\"id\":\"1520\",\"type\":\"UnionRenderers\"},{\"attributes\":{\"bottom_units\":\"screen\",\"fill_alpha\":{\"value\":0.5},\"fill_color\":{\"value\":\"lightgrey\"},\"left_units\":\"screen\",\"level\":\"overlay\",\"line_alpha\":{\"value\":1.0},\"line_color\":{\"value\":\"black\"},\"line_dash\":[4,4],\"line_width\":{\"value\":2},\"render_mode\":\"css\",\"right_units\":\"screen\",\"top_units\":\"screen\"},\"id\":\"1482\",\"type\":\"BoxAnnotation\"},{\"attributes\":{\"callback\":null},\"id\":\"1428\",\"type\":\"DataRange1d\"},{\"attributes\":{\"source\":{\"id\":\"1466\",\"type\":\"ColumnDataSource\"}},\"id\":\"1470\",\"type\":\"CDSView\"},{\"attributes\":{},\"id\":\"1448\",\"type\":\"ResetTool\"},{\"attributes\":{\"line_color\":\"plum\",\"line_dash\":[4,4],\"line_width\":2,\"x\":{\"field\":\"x\"},\"y\":{\"field\":\"y\"}},\"id\":\"1505\",\"type\":\"Line\"},{\"attributes\":{\"callback\":null,\"end\":15,\"start\":-1},\"id\":\"1430\",\"type\":\"Range1d\"},{\"attributes\":{},\"id\":\"1449\",\"type\":\"SaveTool\"},{\"attributes\":{},\"id\":\"1572\",\"type\":\"Selection\"},{\"attributes\":{},\"id\":\"1432\",\"type\":\"LinearScale\"},{\"attributes\":{\"callback\":null,\"data\":{\"x\":[7.0,8.88,2.85,10.69,8.74,12.83,6.72,2.67,6.41,2.81,2.19,10.68,11.96,7.7,3.56,8.6,3.72,11.19,10.5,0.84,3.32,1.54,1.37,12.11,10.51,3.2,11.11,1.18,5.62,1.85,3.83,2.38,2.7,12.12,8.23,3.54,8.01,6.32,11.72,7.97,1.45,12.32,2.78,10.03,1.45,1.68,3.15,0.57,1.18,6.4,2.99,0.96,6.24,7.59,3.91,6.42,1.03,8.52],\"y\":[7.0,8.88,2.85,10.69,8.74,12.83,6.72,2.67,6.41,2.81,2.19,10.68,11.96,7.7,3.56,8.6,3.72,11.19,10.5,0.84,3.32,1.54,1.37,12.11,10.51,3.2,11.11,1.18,5.62,1.85,3.83,2.38,2.7,12.12,8.23,3.54,8.01,6.32,11.72,7.97,1.45,12.32,2.78,10.03,1.45,1.68,3.15,0.57,1.18,6.4,2.99,0.96,6.24,7.59,3.91,6.42,1.03,8.52]},\"selected\":{\"id\":\"1572\",\"type\":\"Selection\"},\"selection_policy\":{\"id\":\"1571\",\"type\":\"UnionRenderers\"}},\"id\":\"1504\",\"type\":\"ColumnDataSource\"},{\"attributes\":{\"callback\":null},\"id\":\"1450\",\"type\":\"HoverTool\"},{\"attributes\":{\"source\":{\"id\":\"1457\",\"type\":\"ColumnDataSource\"}},\"id\":\"1465\",\"type\":\"CDSView\"},{\"attributes\":{\"fill_color\":{\"value\":\"mediumvioletred\"},\"line_color\":{\"value\":null},\"x\":{\"field\":\"x\"},\"y\":{\"field\":\"y\"}},\"id\":\"1462\",\"type\":\"Circle\"},{\"attributes\":{\"line_color\":\"khaki\",\"line_dash\":[2,4],\"x\":{\"field\":\"x\"},\"y\":{\"field\":\"y\"}},\"id\":\"1467\",\"type\":\"Line\"},{\"attributes\":{},\"id\":\"1521\",\"type\":\"Selection\"},{\"attributes\":{\"line_alpha\":0.1,\"line_color\":\"#1f77b4\",\"line_dash\":[2,4],\"x\":{\"field\":\"x\"},\"y\":{\"field\":\"y\"}},\"id\":\"1487\",\"type\":\"Line\"},{\"attributes\":{},\"id\":\"1434\",\"type\":\"LinearScale\"},{\"attributes\":{\"callback\":null,\"data\":{\"x\":[7.0,8.88,2.85,10.69,8.74,12.83,6.72,2.67,6.41,2.81,2.19,10.68,11.96,7.7,3.56,8.6,3.72,11.19,10.5,0.84,3.32,1.54,1.37,12.11,10.51,3.2,11.11,1.18,5.62,1.85,3.83,2.38,2.7,12.12,8.23,3.54,8.01,6.32,11.72,7.97,1.45,12.32,2.78,10.03,1.45,1.68,3.15,0.57,1.18,6.4,2.99,0.96,6.24,7.59,3.91,6.42,1.03,8.52],\"y\":[14.0,17.76,5.7,21.38,17.48,25.66,13.44,5.34,12.82,5.62,4.38,21.36,23.92,15.4,7.12,17.2,7.44,22.38,21.0,1.68,6.64,3.08,2.74,24.22,21.02,6.4,22.22,2.36,11.24,3.7,7.66,4.76,5.4,24.24,16.46,7.08,16.02,12.64,23.44,15.94,2.9,24.64,5.56,20.06,2.9,3.36,6.3,1.14,2.36,12.8,5.98,1.92,12.48,15.18,7.82,12.84,2.06,17.04]},\"selected\":{\"id\":\"1521\",\"type\":\"Selection\"},\"selection_policy\":{\"id\":\"1520\",\"type\":\"UnionRenderers\"}},\"id\":\"1485\",\"type\":\"ColumnDataSource\"},{\"attributes\":{\"data_source\":{\"id\":\"1485\",\"type\":\"ColumnDataSource\"},\"glyph\":{\"id\":\"1486\",\"type\":\"Line\"},\"hover_glyph\":null,\"muted_glyph\":null,\"nonselection_glyph\":{\"id\":\"1487\",\"type\":\"Line\"},\"selection_glyph\":null,\"view\":{\"id\":\"1489\",\"type\":\"CDSView\"}},\"id\":\"1488\",\"type\":\"GlyphRenderer\"},{\"attributes\":{\"dimension\":1,\"ticker\":{\"id\":\"1442\",\"type\":\"BasicTicker\"}},\"id\":\"1445\",\"type\":\"Grid\"},{\"attributes\":{\"axis_label\":\"McQuillan Period\",\"formatter\":{\"id\":\"1475\",\"type\":\"BasicTickFormatter\"},\"ticker\":{\"id\":\"1437\",\"type\":\"BasicTicker\"}},\"id\":\"1436\",\"type\":\"LinearAxis\"},{\"attributes\":{\"items\":[{\"id\":\"1484\",\"type\":\"LegendItem\"},{\"id\":\"1525\",\"type\":\"LegendItem\"}]},\"id\":\"1483\",\"type\":\"Legend\"},{\"attributes\":{\"callback\":null,\"data\":{\"x\":[7.0,8.88,2.85,10.69,8.74,12.83,6.72,2.67,6.41,2.81,2.19,10.68,11.96,7.7,3.56,8.6,3.72,11.19,10.5,0.84,3.32,1.54,1.37,12.11,10.51,3.2,11.11,1.18,5.62,1.85,3.83,2.38,2.7,12.12,8.23,3.54,8.01,6.32,11.72,7.97,1.45,12.32,2.78,10.03,1.45,1.68,3.15,0.57,1.18,6.4,2.99,0.96,6.24,7.59,3.91,6.42,1.03,8.52],\"y\":[3.5,4.44,1.425,5.345,4.37,6.415,3.36,1.335,3.205,1.405,1.095,5.34,5.98,3.85,1.78,4.3,1.86,5.595,5.25,0.42,1.66,0.77,0.685,6.055,5.255,1.6,5.555,0.59,2.81,0.925,1.915,1.19,1.35,6.06,4.115,1.77,4.005,3.16,5.86,3.985,0.725,6.16,1.39,5.015,0.725,0.84,1.575,0.285,0.59,3.2,1.495,0.48,3.12,3.795,1.955,3.21,0.515,4.26]},\"selected\":{\"id\":\"1500\",\"type\":\"Selection\"},\"selection_policy\":{\"id\":\"1499\",\"type\":\"UnionRenderers\"}},\"id\":\"1466\",\"type\":\"ColumnDataSource\"},{\"attributes\":{\"base\":{\"field\":\"base\",\"units\":\"data\"},\"line_color\":{\"value\":\"lightsteelblue\"},\"lower\":{\"field\":\"lower\",\"units\":\"data\"},\"lower_head\":{\"id\":\"1472\",\"type\":\"TeeHead\"},\"source\":{\"id\":\"1458\",\"type\":\"ColumnDataSource\"},\"upper\":{\"field\":\"upper\",\"units\":\"data\"},\"upper_head\":{\"id\":\"1473\",\"type\":\"TeeHead\"}},\"id\":\"1459\",\"type\":\"Whisker\"},{\"attributes\":{\"fill_alpha\":{\"value\":0.1},\"fill_color\":{\"value\":\"#1f77b4\"},\"line_alpha\":{\"value\":0.1},\"line_color\":{\"value\":\"#1f77b4\"},\"x\":{\"field\":\"x\"},\"y\":{\"field\":\"y\"}},\"id\":\"1463\",\"type\":\"Circle\"},{\"attributes\":{\"line_color\":\"khaki\",\"line_dash\":[2,4],\"x\":{\"field\":\"x\"},\"y\":{\"field\":\"y\"}},\"id\":\"1486\",\"type\":\"Line\"},{\"attributes\":{},\"id\":\"1571\",\"type\":\"UnionRenderers\"},{\"attributes\":{\"source\":{\"id\":\"1485\",\"type\":\"ColumnDataSource\"}},\"id\":\"1489\",\"type\":\"CDSView\"},{\"attributes\":{},\"id\":\"1437\",\"type\":\"BasicTicker\"},{\"attributes\":{\"label\":{\"value\":\"y=2x\"},\"renderers\":[{\"id\":\"1469\",\"type\":\"GlyphRenderer\"},{\"id\":\"1488\",\"type\":\"GlyphRenderer\"}]},\"id\":\"1484\",\"type\":\"LegendItem\"},{\"attributes\":{},\"id\":\"1481\",\"type\":\"Selection\"},{\"attributes\":{\"callback\":null,\"data\":{\"x\":[7.0,8.88,2.85,10.69,8.74,12.83,6.72,2.67,6.41,2.81,2.19,10.68,11.96,7.7,3.56,8.6,3.72,11.19,10.5,0.84,3.32,1.54,1.37,12.11,10.51,3.2,11.11,1.18,5.62,1.85,3.83,2.38,2.7,12.12,8.23,3.54,8.01,6.32,11.72,7.97,1.45,12.32,2.78,10.03,1.45,1.68,3.15,0.57,1.18,6.4,2.99,0.96,6.24,7.59,3.91,6.42,1.03,8.52],\"y\":[7.84954954954955,9.881081081081081,5.877477477477478,7.066666666666667,7.046846846846847,8.771171171171172,2.8252252252252257,7.760360360360361,8.870270270270272,7.978378378378379,7.720720720720721,8.771171171171172,0.44684684684684695,7.690990990990992,6.9972972972972975,0,3.7072072072072078,6.709909909909911,8.612612612612613,0.8333333333333334,8.00810810810811,9.920720720720722,1.3783783783783785,7.80990990990991,1.0216216216216218,6.76936936936937,7.126126126126127,1.1603603603603605,7.443243243243244,7.492792792792793,7.363963963963965,6.660360360360361,7.532432432432433,8.077477477477478,8.087387387387388,0,5.0549549549549555,9.98018018018018,7.978378378378379,9.791891891891893,1.4576576576576579,6.987387387387388,1.3882882882882885,6.987387387387388,8.642342342342342,1.665765765765766,9.99009009009009,0.5657657657657659,4.688288288288288,6.6504504504504505,8.156756756756756,8.117117117117118,2.8252252252252257,0,6.640540540540541,6.8684684684684685,7.155855855855856,7.126126126126127]},\"selected\":{\"id\":\"1479\",\"type\":\"Selection\"},\"selection_policy\":{\"id\":\"1478\",\"type\":\"UnionRenderers\"}},\"id\":\"1457\",\"type\":\"ColumnDataSource\"},{\"attributes\":{\"label\":{\"value\":\"y=x\"},\"renderers\":[{\"id\":\"1507\",\"type\":\"GlyphRenderer\"}]},\"id\":\"1525\",\"type\":\"LegendItem\"},{\"attributes\":{},\"id\":\"1499\",\"type\":\"UnionRenderers\"},{\"attributes\":{\"data_source\":{\"id\":\"1457\",\"type\":\"ColumnDataSource\"},\"glyph\":{\"id\":\"1462\",\"type\":\"Circle\"},\"hover_glyph\":null,\"muted_glyph\":null,\"nonselection_glyph\":{\"id\":\"1463\",\"type\":\"Circle\"},\"selection_glyph\":null,\"view\":{\"id\":\"1465\",\"type\":\"CDSView\"}},\"id\":\"1464\",\"type\":\"GlyphRenderer\"},{\"attributes\":{\"ticker\":{\"id\":\"1437\",\"type\":\"BasicTicker\"}},\"id\":\"1440\",\"type\":\"Grid\"},{\"attributes\":{\"level\":\"underlay\",\"size\":10},\"id\":\"1472\",\"type\":\"TeeHead\"},{\"attributes\":{},\"id\":\"1500\",\"type\":\"Selection\"},{\"attributes\":{\"axis_label\":\"PDM Period\",\"formatter\":{\"id\":\"1477\",\"type\":\"BasicTickFormatter\"},\"ticker\":{\"id\":\"1442\",\"type\":\"BasicTicker\"}},\"id\":\"1441\",\"type\":\"LinearAxis\"},{\"attributes\":{},\"id\":\"1475\",\"type\":\"BasicTickFormatter\"},{\"attributes\":{\"line_alpha\":0.1,\"line_color\":\"#1f77b4\",\"line_dash\":[4,4],\"line_width\":2,\"x\":{\"field\":\"x\"},\"y\":{\"field\":\"y\"}},\"id\":\"1506\",\"type\":\"Line\"},{\"attributes\":{},\"id\":\"1442\",\"type\":\"BasicTicker\"},{\"attributes\":{\"source\":{\"id\":\"1504\",\"type\":\"ColumnDataSource\"}},\"id\":\"1508\",\"type\":\"CDSView\"},{\"attributes\":{},\"id\":\"1478\",\"type\":\"UnionRenderers\"},{\"attributes\":{},\"id\":\"1477\",\"type\":\"BasicTickFormatter\"},{\"attributes\":{\"data_source\":{\"id\":\"1466\",\"type\":\"ColumnDataSource\"},\"glyph\":{\"id\":\"1467\",\"type\":\"Line\"},\"hover_glyph\":null,\"muted_glyph\":null,\"nonselection_glyph\":{\"id\":\"1468\",\"type\":\"Line\"},\"selection_glyph\":null,\"view\":{\"id\":\"1470\",\"type\":\"CDSView\"}},\"id\":\"1469\",\"type\":\"GlyphRenderer\"},{\"attributes\":{},\"id\":\"1479\",\"type\":\"Selection\"},{\"attributes\":{\"data_source\":{\"id\":\"1504\",\"type\":\"ColumnDataSource\"},\"glyph\":{\"id\":\"1505\",\"type\":\"Line\"},\"hover_glyph\":null,\"muted_glyph\":null,\"name\":\"y=x\",\"nonselection_glyph\":{\"id\":\"1506\",\"type\":\"Line\"},\"selection_glyph\":null,\"view\":{\"id\":\"1508\",\"type\":\"CDSView\"}},\"id\":\"1507\",\"type\":\"GlyphRenderer\"},{\"attributes\":{\"level\":\"underlay\",\"size\":10},\"id\":\"1473\",\"type\":\"TeeHead\"},{\"attributes\":{\"active_drag\":\"auto\",\"active_inspect\":\"auto\",\"active_multi\":null,\"active_scroll\":\"auto\",\"active_tap\":\"auto\",\"tools\":[{\"id\":\"1446\",\"type\":\"PanTool\"},{\"id\":\"1447\",\"type\":\"BoxZoomTool\"},{\"id\":\"1448\",\"type\":\"ResetTool\"},{\"id\":\"1449\",\"type\":\"SaveTool\"},{\"id\":\"1450\",\"type\":\"HoverTool\"}]},\"id\":\"1451\",\"type\":\"Toolbar\"},{\"attributes\":{\"line_alpha\":0.1,\"line_color\":\"#1f77b4\",\"line_dash\":[2,4],\"x\":{\"field\":\"x\"},\"y\":{\"field\":\"y\"}},\"id\":\"1468\",\"type\":\"Line\"},{\"attributes\":{},\"id\":\"1480\",\"type\":\"UnionRenderers\"},{\"attributes\":{},\"id\":\"1446\",\"type\":\"PanTool\"}],\"root_ids\":[\"1425\"]},\"title\":\"Bokeh Application\",\"version\":\"1.3.4\"}};\n",
       "  var render_items = [{\"docid\":\"3bd4c8dd-e6a9-4ff1-ac8e-32e5fb7fe61a\",\"roots\":{\"1425\":\"7cc3d912-bf8a-442b-b3af-e2a7b406fc75\"}}];\n",
       "  root.Bokeh.embed.embed_items_notebook(docs_json, render_items);\n",
       "\n",
       "  }\n",
       "  if (root.Bokeh !== undefined) {\n",
       "    embed_document(root);\n",
       "  } else {\n",
       "    var attempts = 0;\n",
       "    var timer = setInterval(function(root) {\n",
       "      if (root.Bokeh !== undefined) {\n",
       "        embed_document(root);\n",
       "        clearInterval(timer);\n",
       "      }\n",
       "      attempts++;\n",
       "      if (attempts > 100) {\n",
       "        console.log(\"Bokeh: ERROR: Unable to run BokehJS code because BokehJS library is missing\");\n",
       "        clearInterval(timer);\n",
       "      }\n",
       "    }, 10, root)\n",
       "  }\n",
       "})(window);"
      ],
      "application/vnd.bokehjs_exec.v0+json": ""
     },
     "metadata": {
      "application/vnd.bokehjs_exec.v0+json": {
       "id": "1425"
      }
     },
     "output_type": "display_data"
    }
   ],
   "source": [
    "plot_mcq_err = figure(plot_width=900, plot_height=600, tools=\"pan,box_zoom,reset,save,hover\",\n",
    "   y_range=[-1, 15], title=\"PDM Periods from Flux with Trends Removed\",\n",
    "   x_axis_label='McQuillan Period', y_axis_label='PDM Period')\n",
    "\n",
    "base, lower, upper = [], [], []\n",
    "\n",
    "source = ColumnDataSource(data=dict(\n",
    "    y = pdm_resid_periods[0:58],\n",
    "    x = short_periods[0:58]))\n",
    "\n",
    "x2 = [i*2 for i in x]\n",
    "x_half = [float(i)*0.5 for i in x]\n",
    "\n",
    "for i, per in enumerate(pdm_resid_periods[0:58]):\n",
    "    lower.append(per - mcq_exo_difference[i])\n",
    "    upper.append(per + mcq_exo_difference[i])\n",
    "    base.append(short_periods[i])\n",
    "    \n",
    "source_error = ColumnDataSource(data=dict(base=base, lower=lower, upper=upper))\n",
    "\n",
    "plot_mcq_err.add_layout(\n",
    "    Whisker(source=source_error, base=\"base\", upper=\"upper\", lower=\"lower\", line_color = 'lightsteelblue')\n",
    ")\n",
    "\n",
    "plot_mcq_err.circle(x = 'x', y = 'y', source = source, color=\"mediumvioletred\", line_color=None)\n",
    "plot_mcq_err.line(x, x_half, legend=\"y=2x\", line_width=1, color = 'khaki', line_dash=\"dotted\")\n",
    "plot_mcq_err.line(x, x2, legend=\"y=2x\", line_width=1, color = 'khaki', line_dash=\"dotted\")\n",
    "plot_mcq_err.line(x, x, name = \"y=x\", color = 'plum', line_dash=\"4 4\", legend = \"y=x\", line_width = 2)\n",
    "\n",
    "\n",
    "\n",
    "show(plot_mcq_err)"
   ]
  },
  {
   "cell_type": "code",
   "execution_count": 22,
   "metadata": {},
   "outputs": [],
   "source": [
    "ls_resid_periods = []\n",
    "for each, value in enumerate(ls_periods_resid): \n",
    "    if value == 'NaN':\n",
    "        ls_resid_periods.append(0)\n",
    "    else: \n",
    "        ls_resid_periods.append(value)"
   ]
  },
  {
   "cell_type": "code",
   "execution_count": 23,
   "metadata": {},
   "outputs": [
    {
     "data": {
      "text/html": [
       "\n",
       "\n",
       "\n",
       "\n",
       "\n",
       "\n",
       "  <div class=\"bk-root\" id=\"7e65ab88-3630-4304-a4d1-64070810548f\" data-root-id=\"1685\"></div>\n"
      ]
     },
     "metadata": {},
     "output_type": "display_data"
    },
    {
     "data": {
      "application/javascript": [
       "(function(root) {\n",
       "  function embed_document(root) {\n",
       "    \n",
       "  var docs_json = {\"405dd2c5-6b02-49e6-bd19-bb0e5b4707e4\":{\"roots\":{\"references\":[{\"attributes\":{\"below\":[{\"id\":\"1696\",\"type\":\"LinearAxis\"}],\"center\":[{\"id\":\"1700\",\"type\":\"Grid\"},{\"id\":\"1705\",\"type\":\"Grid\"},{\"id\":\"1728\",\"type\":\"Legend\"}],\"left\":[{\"id\":\"1701\",\"type\":\"LinearAxis\"}],\"plot_width\":900,\"renderers\":[{\"id\":\"1720\",\"type\":\"GlyphRenderer\"},{\"id\":\"1733\",\"type\":\"GlyphRenderer\"},{\"id\":\"1738\",\"type\":\"GlyphRenderer\"},{\"id\":\"1754\",\"type\":\"GlyphRenderer\"}],\"title\":{\"id\":\"1686\",\"type\":\"Title\"},\"toolbar\":{\"id\":\"1711\",\"type\":\"Toolbar\"},\"x_range\":{\"id\":\"1688\",\"type\":\"DataRange1d\"},\"x_scale\":{\"id\":\"1692\",\"type\":\"LinearScale\"},\"y_range\":{\"id\":\"1690\",\"type\":\"Range1d\"},\"y_scale\":{\"id\":\"1694\",\"type\":\"LinearScale\"}},\"id\":\"1685\",\"subtype\":\"Figure\",\"type\":\"Plot\"},{\"attributes\":{},\"id\":\"1831\",\"type\":\"Selection\"},{\"attributes\":{\"source\":{\"id\":\"1717\",\"type\":\"ColumnDataSource\"}},\"id\":\"1721\",\"type\":\"CDSView\"},{\"attributes\":{\"active_drag\":\"auto\",\"active_inspect\":\"auto\",\"active_multi\":null,\"active_scroll\":\"auto\",\"active_tap\":\"auto\",\"tools\":[{\"id\":\"1706\",\"type\":\"PanTool\"},{\"id\":\"1707\",\"type\":\"BoxZoomTool\"},{\"id\":\"1708\",\"type\":\"ResetTool\"},{\"id\":\"1709\",\"type\":\"SaveTool\"},{\"id\":\"1710\",\"type\":\"HoverTool\"}]},\"id\":\"1711\",\"type\":\"Toolbar\"},{\"attributes\":{},\"id\":\"1745\",\"type\":\"UnionRenderers\"},{\"attributes\":{\"source\":{\"id\":\"1684\",\"type\":\"ColumnDataSource\"}},\"id\":\"1734\",\"type\":\"CDSView\"},{\"attributes\":{\"line_color\":\"khaki\",\"line_dash\":[2,4],\"x\":{\"field\":\"x\"},\"y\":{\"field\":\"y\"}},\"id\":\"1736\",\"type\":\"Line\"},{\"attributes\":{\"data_source\":{\"id\":\"1751\",\"type\":\"ColumnDataSource\"},\"glyph\":{\"id\":\"1752\",\"type\":\"Line\"},\"hover_glyph\":null,\"muted_glyph\":null,\"nonselection_glyph\":{\"id\":\"1753\",\"type\":\"Line\"},\"selection_glyph\":null,\"view\":{\"id\":\"1755\",\"type\":\"CDSView\"}},\"id\":\"1754\",\"type\":\"GlyphRenderer\"},{\"attributes\":{},\"id\":\"1697\",\"type\":\"BasicTicker\"},{\"attributes\":{},\"id\":\"1706\",\"type\":\"PanTool\"},{\"attributes\":{\"fill_color\":{\"value\":\"mediumvioletred\"},\"line_color\":{\"value\":null},\"x\":{\"field\":\"x\"},\"y\":{\"field\":\"y\"}},\"id\":\"1731\",\"type\":\"Circle\"},{\"attributes\":{\"overlay\":{\"id\":\"1727\",\"type\":\"BoxAnnotation\"}},\"id\":\"1707\",\"type\":\"BoxZoomTool\"},{\"attributes\":{\"line_color\":\"lightsteelblue\",\"line_dash\":[4,4],\"line_width\":2,\"x\":{\"field\":\"x\"},\"y\":{\"field\":\"y\"}},\"id\":\"1718\",\"type\":\"Line\"},{\"attributes\":{\"dimension\":1,\"ticker\":{\"id\":\"1702\",\"type\":\"BasicTicker\"}},\"id\":\"1705\",\"type\":\"Grid\"},{\"attributes\":{\"source\":{\"id\":\"1751\",\"type\":\"ColumnDataSource\"}},\"id\":\"1755\",\"type\":\"CDSView\"},{\"attributes\":{\"text\":\"Lomb-Scargle TESS Periods from Flux with Trends Removed\"},\"id\":\"1686\",\"type\":\"Title\"},{\"attributes\":{},\"id\":\"1708\",\"type\":\"ResetTool\"},{\"attributes\":{},\"id\":\"1765\",\"type\":\"UnionRenderers\"},{\"attributes\":{\"label\":{\"value\":\"y=2x\"},\"renderers\":[{\"id\":\"1738\",\"type\":\"GlyphRenderer\"},{\"id\":\"1754\",\"type\":\"GlyphRenderer\"}]},\"id\":\"1750\",\"type\":\"LegendItem\"},{\"attributes\":{},\"id\":\"1709\",\"type\":\"SaveTool\"},{\"attributes\":{\"callback\":null,\"end\":15},\"id\":\"1690\",\"type\":\"Range1d\"},{\"attributes\":{\"callback\":null,\"data\":{\"x\":[7.0,8.88,2.85,10.69,8.74,12.83,6.72,2.67,6.41,2.81,2.19,10.68,11.96,7.7,3.56,8.6,3.72,11.19,10.5,0.84,3.32,1.54,1.37,12.11,10.51,3.2,11.11,1.18,5.62,1.85,3.83,2.38,2.7,12.12,8.23,3.54,8.01,6.32,11.72,7.97,1.45,12.32,2.78,10.03,1.45,1.68,3.15,0.57,1.18,6.4,2.99,0.96,6.24,7.59,3.91,6.42,1.03,8.52,9.73,9.44,8.54],\"y\":[14.0,17.76,5.7,21.38,17.48,25.66,13.44,5.34,12.82,5.62,4.38,21.36,23.92,15.4,7.12,17.2,7.44,22.38,21.0,1.68,6.64,3.08,2.74,24.22,21.02,6.4,22.22,2.36,11.24,3.7,7.66,4.76,5.4,24.24,16.46,7.08,16.02,12.64,23.44,15.94,2.9,24.64,5.56,20.06,2.9,3.36,6.3,1.14,2.36,12.8,5.98,1.92,12.48,15.18,7.82,12.84,2.06,17.04,19.46,18.88,17.08]},\"selected\":{\"id\":\"1831\",\"type\":\"Selection\"},\"selection_policy\":{\"id\":\"1830\",\"type\":\"UnionRenderers\"}},\"id\":\"1751\",\"type\":\"ColumnDataSource\"},{\"attributes\":{},\"id\":\"1766\",\"type\":\"Selection\"},{\"attributes\":{\"axis_label\":\"McQuillan Period\",\"formatter\":{\"id\":\"1724\",\"type\":\"BasicTickFormatter\"},\"ticker\":{\"id\":\"1697\",\"type\":\"BasicTicker\"}},\"id\":\"1696\",\"type\":\"LinearAxis\"},{\"attributes\":{\"callback\":null,\"tooltips\":[[\"index\",\"$index\"],[\"(x,y)\",\"($x, $y)\"],[\"pdm\",\"$pdm\"],[\"TESS\",\"$tess\"]]},\"id\":\"1710\",\"type\":\"HoverTool\"},{\"attributes\":{\"callback\":null,\"data\":{\"x\":[7.0,8.88,2.85,10.69,8.74,12.83,6.72,2.67,6.41,2.81,2.19,10.68,11.96,7.7,3.56,8.6,3.72,11.19,10.5,0.84,3.32,1.54,1.37,12.11,10.51,3.2,11.11,1.18,5.62,1.85,3.83,2.38,2.7,12.12,8.23,3.54,8.01,6.32,11.72,7.97,1.45,12.32,2.78,10.03,1.45,1.68,3.15,0.57,1.18,6.4,2.99,0.96,6.24,7.59,3.91,6.42,1.03,8.52,9.73,9.44,8.54],\"y\":[3.5,4.44,1.425,5.345,4.37,6.415,3.36,1.335,3.205,1.405,1.095,5.34,5.98,3.85,1.78,4.3,1.86,5.595,5.25,0.42,1.66,0.77,0.685,6.055,5.255,1.6,5.555,0.59,2.81,0.925,1.915,1.19,1.35,6.06,4.115,1.77,4.005,3.16,5.86,3.985,0.725,6.16,1.39,5.015,0.725,0.84,1.575,0.285,0.59,3.2,1.495,0.48,3.12,3.795,1.955,3.21,0.515,4.26,4.865,4.72,4.27]},\"selected\":{\"id\":\"1766\",\"type\":\"Selection\"},\"selection_policy\":{\"id\":\"1765\",\"type\":\"UnionRenderers\"}},\"id\":\"1735\",\"type\":\"ColumnDataSource\"},{\"attributes\":{},\"id\":\"1747\",\"type\":\"UnionRenderers\"},{\"attributes\":{},\"id\":\"1724\",\"type\":\"BasicTickFormatter\"},{\"attributes\":{\"line_alpha\":0.1,\"line_color\":\"#1f77b4\",\"line_dash\":[2,4],\"x\":{\"field\":\"x\"},\"y\":{\"field\":\"y\"}},\"id\":\"1753\",\"type\":\"Line\"},{\"attributes\":{},\"id\":\"1748\",\"type\":\"Selection\"},{\"attributes\":{},\"id\":\"1830\",\"type\":\"UnionRenderers\"},{\"attributes\":{\"data_source\":{\"id\":\"1717\",\"type\":\"ColumnDataSource\"},\"glyph\":{\"id\":\"1718\",\"type\":\"Line\"},\"hover_glyph\":null,\"muted_glyph\":null,\"name\":\"y=x\",\"nonselection_glyph\":{\"id\":\"1719\",\"type\":\"Line\"},\"selection_glyph\":null,\"view\":{\"id\":\"1721\",\"type\":\"CDSView\"}},\"id\":\"1720\",\"type\":\"GlyphRenderer\"},{\"attributes\":{\"line_color\":\"khaki\",\"line_dash\":[2,4],\"x\":{\"field\":\"x\"},\"y\":{\"field\":\"y\"}},\"id\":\"1752\",\"type\":\"Line\"},{\"attributes\":{},\"id\":\"1726\",\"type\":\"BasicTickFormatter\"},{\"attributes\":{\"line_alpha\":0.1,\"line_color\":\"#1f77b4\",\"line_dash\":[2,4],\"x\":{\"field\":\"x\"},\"y\":{\"field\":\"y\"}},\"id\":\"1737\",\"type\":\"Line\"},{\"attributes\":{},\"id\":\"1702\",\"type\":\"BasicTicker\"},{\"attributes\":{\"ticker\":{\"id\":\"1697\",\"type\":\"BasicTicker\"}},\"id\":\"1700\",\"type\":\"Grid\"},{\"attributes\":{\"axis_label\":\"LS TESS Period\",\"formatter\":{\"id\":\"1726\",\"type\":\"BasicTickFormatter\"},\"ticker\":{\"id\":\"1702\",\"type\":\"BasicTicker\"}},\"id\":\"1701\",\"type\":\"LinearAxis\"},{\"attributes\":{\"items\":[{\"id\":\"1729\",\"type\":\"LegendItem\"},{\"id\":\"1750\",\"type\":\"LegendItem\"}]},\"id\":\"1728\",\"type\":\"Legend\"},{\"attributes\":{\"data_source\":{\"id\":\"1735\",\"type\":\"ColumnDataSource\"},\"glyph\":{\"id\":\"1736\",\"type\":\"Line\"},\"hover_glyph\":null,\"muted_glyph\":null,\"nonselection_glyph\":{\"id\":\"1737\",\"type\":\"Line\"},\"selection_glyph\":null,\"view\":{\"id\":\"1739\",\"type\":\"CDSView\"}},\"id\":\"1738\",\"type\":\"GlyphRenderer\"},{\"attributes\":{\"callback\":null},\"id\":\"1688\",\"type\":\"DataRange1d\"},{\"attributes\":{},\"id\":\"1694\",\"type\":\"LinearScale\"},{\"attributes\":{\"label\":{\"value\":\"y=x\"},\"renderers\":[{\"id\":\"1720\",\"type\":\"GlyphRenderer\"}]},\"id\":\"1729\",\"type\":\"LegendItem\"},{\"attributes\":{},\"id\":\"1746\",\"type\":\"Selection\"},{\"attributes\":{},\"id\":\"1692\",\"type\":\"LinearScale\"},{\"attributes\":{\"data_source\":{\"id\":\"1684\",\"type\":\"ColumnDataSource\"},\"glyph\":{\"id\":\"1731\",\"type\":\"Circle\"},\"hover_glyph\":null,\"muted_glyph\":null,\"nonselection_glyph\":{\"id\":\"1732\",\"type\":\"Circle\"},\"selection_glyph\":null,\"view\":{\"id\":\"1734\",\"type\":\"CDSView\"}},\"id\":\"1733\",\"type\":\"GlyphRenderer\"},{\"attributes\":{\"callback\":null,\"data\":{\"x\":[7.0,8.88,2.85,10.69,8.74,12.83,6.72,2.67,6.41,2.81,2.19,10.68,11.96,7.7,3.56,8.6,3.72,11.19,10.5,0.84,3.32,1.54,1.37,12.11,10.51,3.2,11.11,1.18,5.62,1.85,3.83,2.38,2.7,12.12,8.23,3.54,8.01,6.32,11.72,7.97,1.45,12.32,2.78,10.03,1.45,1.68,3.15,0.57,1.18,6.4,2.99,0.96,6.24,7.59,3.91,6.42,1.03,8.52,9.73,9.44,8.54],\"y\":[7.0,8.88,2.85,10.69,8.74,12.83,6.72,2.67,6.41,2.81,2.19,10.68,11.96,7.7,3.56,8.6,3.72,11.19,10.5,0.84,3.32,1.54,1.37,12.11,10.51,3.2,11.11,1.18,5.62,1.85,3.83,2.38,2.7,12.12,8.23,3.54,8.01,6.32,11.72,7.97,1.45,12.32,2.78,10.03,1.45,1.68,3.15,0.57,1.18,6.4,2.99,0.96,6.24,7.59,3.91,6.42,1.03,8.52,9.73,9.44,8.54]},\"selected\":{\"id\":\"1746\",\"type\":\"Selection\"},\"selection_policy\":{\"id\":\"1745\",\"type\":\"UnionRenderers\"}},\"id\":\"1717\",\"type\":\"ColumnDataSource\"},{\"attributes\":{\"line_alpha\":0.1,\"line_color\":\"#1f77b4\",\"line_dash\":[4,4],\"line_width\":2,\"x\":{\"field\":\"x\"},\"y\":{\"field\":\"y\"}},\"id\":\"1719\",\"type\":\"Line\"},{\"attributes\":{\"callback\":null,\"data\":{\"pdm\":[7.84954954954955,9.881081081081081,5.877477477477478,7.066666666666667,7.046846846846847,8.771171171171172,2.8252252252252257,7.760360360360361,8.870270270270272,7.978378378378379,7.720720720720721,8.771171171171172,0.44684684684684695,7.690990990990992,6.9972972972972975,\"NaN\",3.7072072072072078,6.709909909909911,8.612612612612613,0.8333333333333334,8.00810810810811,9.920720720720722,1.3783783783783785,7.80990990990991,1.0216216216216218,6.76936936936937,7.126126126126127,1.1603603603603605,7.443243243243244,7.492792792792793,7.363963963963965,6.660360360360361,7.532432432432433,8.077477477477478,8.087387387387388,\"NaN\",5.0549549549549555,9.98018018018018,7.978378378378379,9.791891891891893,1.4576576576576579,6.987387387387388,1.3882882882882885,6.987387387387388,8.642342342342342,1.665765765765766,9.99009009009009,0.5657657657657659,4.688288288288288,6.6504504504504505,8.156756756756756,8.117117117117118,2.8252252252252257,\"NaN\",6.640540540540541,6.8684684684684685,7.155855855855856,7.126126126126127,7.899099099099099,0.17927927927927928,8.404504504504505],\"tess\":[275493837,121789795,63007124,275490626,171098535,63210277,351803000,170253623,158791870,164724054,122684770,121457565,273582401,267991320,137218354,184089663,272370950,159172008,121659832,138728898,169460055,169466444,122213500,63209318,120963553,267746802,271165094,27395090,298964604,270608620,185058148,271426791,273687618,272719990,239227465,27186774,271538184,121215119,121939294,352013209,185058255,170344764,378084176,120422997,63075888,270856793,26597576,158412743,121329643,351055098,120890400,137408312,267671733,279916031,271547585,158936101,121939266,239225673],\"x\":[7.0,8.88,2.85,10.69,8.74,12.83,6.72,2.67,6.41,2.81,2.19,10.68,11.96,7.7,3.56,8.6,3.72,11.19,10.5,0.84,3.32,1.54,1.37,12.11,10.51,3.2,11.11,1.18,5.62,1.85,3.83,2.38,2.7,12.12,8.23,3.54,8.01,6.32,11.72,7.97,1.45,12.32,2.78,10.03,1.45,1.68,3.15,0.57,1.18,6.4,2.99,0.96,6.24,7.59,3.91,6.42,1.03,8.52],\"y\":[7.856849905952568,2.2097722409170824,2.3361086581724906,2.842109571240747,7.213810834675115,9.502103786816269,2.362996801415544,7.104219948849106,4.293840767334194,7.682361888958031,7.456646623000108,7.777000069993702,7.222063335239977,7.540140338495365,0.8766157943901638,\"NaN\",1.8656954505307768,15.664739884393065,2.650448937530414,0.8370259100613362,4.691511282259155,9.24299143166126,1.3677568344756952,7.548028586179724,14.910891620591551,6.967979028960605,5.088572580054225,1.1596620061703913,7.553673161379798,7.919684096481725,7.343882191201354,0.7822873968015703,7.357790874776505,8.295629321029134,2.6934190495583286,\"NaN\",7.353505671815644,7.2803637888556905,8.20133158151139,10.32793590005763,1.4613968170459029,7.212780598003195,1.3861512128667168,7.0555887171541425,7.527777777777778,0.8317463454363617,3.3633617271169713,0.5667784478299593,2.8507725385756144,3.49027146904901,2.7375086232383956,8.218681578791644,1.4115659221993546,\"NaN\",7.197362284292895,6.834089874647871,2.3541850294935247,3.571474490845505,4.464257015203627,4.451272765149391,8.535367502458211]},\"selected\":{\"id\":\"1748\",\"type\":\"Selection\"},\"selection_policy\":{\"id\":\"1747\",\"type\":\"UnionRenderers\"}},\"id\":\"1684\",\"type\":\"ColumnDataSource\"},{\"attributes\":{\"fill_alpha\":{\"value\":0.1},\"fill_color\":{\"value\":\"#1f77b4\"},\"line_alpha\":{\"value\":0.1},\"line_color\":{\"value\":\"#1f77b4\"},\"x\":{\"field\":\"x\"},\"y\":{\"field\":\"y\"}},\"id\":\"1732\",\"type\":\"Circle\"},{\"attributes\":{\"bottom_units\":\"screen\",\"fill_alpha\":{\"value\":0.5},\"fill_color\":{\"value\":\"lightgrey\"},\"left_units\":\"screen\",\"level\":\"overlay\",\"line_alpha\":{\"value\":1.0},\"line_color\":{\"value\":\"black\"},\"line_dash\":[4,4],\"line_width\":{\"value\":2},\"render_mode\":\"css\",\"right_units\":\"screen\",\"top_units\":\"screen\"},\"id\":\"1727\",\"type\":\"BoxAnnotation\"},{\"attributes\":{\"source\":{\"id\":\"1735\",\"type\":\"ColumnDataSource\"}},\"id\":\"1739\",\"type\":\"CDSView\"}],\"root_ids\":[\"1685\"]},\"title\":\"Bokeh Application\",\"version\":\"1.3.4\"}};\n",
       "  var render_items = [{\"docid\":\"405dd2c5-6b02-49e6-bd19-bb0e5b4707e4\",\"roots\":{\"1685\":\"7e65ab88-3630-4304-a4d1-64070810548f\"}}];\n",
       "  root.Bokeh.embed.embed_items_notebook(docs_json, render_items);\n",
       "\n",
       "  }\n",
       "  if (root.Bokeh !== undefined) {\n",
       "    embed_document(root);\n",
       "  } else {\n",
       "    var attempts = 0;\n",
       "    var timer = setInterval(function(root) {\n",
       "      if (root.Bokeh !== undefined) {\n",
       "        embed_document(root);\n",
       "        clearInterval(timer);\n",
       "      }\n",
       "      attempts++;\n",
       "      if (attempts > 100) {\n",
       "        console.log(\"Bokeh: ERROR: Unable to run BokehJS code because BokehJS library is missing\");\n",
       "        clearInterval(timer);\n",
       "      }\n",
       "    }, 10, root)\n",
       "  }\n",
       "})(window);"
      ],
      "application/vnd.bokehjs_exec.v0+json": ""
     },
     "metadata": {
      "application/vnd.bokehjs_exec.v0+json": {
       "id": "1685"
      }
     },
     "output_type": "display_data"
    }
   ],
   "source": [
    "x =  short_periods[0:61]\n",
    "y = ls_periods_resid\n",
    "\n",
    "source = ColumnDataSource(data=dict(\n",
    "    x =  short_periods[0:58],\n",
    "    y = ls_periods_resid, \n",
    "    pdm = pdm_periods_resid, \n",
    "    tess = (cat['tic_id'])[0:58]))\n",
    "\n",
    "x2 = [i*2 for i in x]\n",
    "x_half = [float(i)*0.5 for i in x]\n",
    "\n",
    "tess_periods_plot = figure(\n",
    "   tools=\"pan,box_zoom,reset,save,hover\",\n",
    "   y_range=[0, 15], title=\"Lomb-Scargle TESS Periods from Flux with Trends Removed\",\n",
    "   x_axis_label='McQuillan Period', y_axis_label='LS TESS Period', plot_width=900)\n",
    "\n",
    "tess_periods_plot.line(x, x, name = \"y=x\", color = 'lightsteelblue', line_dash=\"4 4\", legend = \"y=x\", line_width = 2)\n",
    "tess_periods_plot.circle('x', 'y', source = source, color=\"mediumvioletred\", line_color=None)\n",
    "tess_periods_plot.line(x, x_half, legend=\"y=2x\", line_width=1, color = 'khaki', line_dash=\"dotted\")\n",
    "tess_periods_plot.line(x, x2, legend=\"y=2x\", line_width=1, color = 'khaki', line_dash=\"dotted\")\n",
    "\n",
    "tess_periods_plot.hover.tooltips = [\n",
    "    (\"index\", \"$index\"), \n",
    "    (\"(x,y)\", \"($x, $y)\"), \n",
    "    (\"pdm\", \"$pdm\"),\n",
    "    (\"TESS\", \"$tess\")] \n",
    "\n",
    "show(tess_periods_plot)"
   ]
  },
  {
   "cell_type": "code",
   "execution_count": 24,
   "metadata": {},
   "outputs": [],
   "source": [
    "ls_error = np.std(ls_resid_periods)"
   ]
  },
  {
   "cell_type": "code",
   "execution_count": 25,
   "metadata": {},
   "outputs": [
    {
     "data": {
      "text/html": [
       "\n",
       "\n",
       "\n",
       "\n",
       "\n",
       "\n",
       "  <div class=\"bk-root\" id=\"bafd1adb-538d-4157-8ae4-1712a15f68fc\" data-root-id=\"1917\"></div>\n"
      ]
     },
     "metadata": {},
     "output_type": "display_data"
    },
    {
     "data": {
      "application/javascript": [
       "(function(root) {\n",
       "  function embed_document(root) {\n",
       "    \n",
       "  var docs_json = {\"e8229e1c-95de-4bd7-814c-1bb05a3a7a6c\":{\"roots\":{\"references\":[{\"attributes\":{\"below\":[{\"id\":\"1928\",\"type\":\"LinearAxis\"}],\"center\":[{\"id\":\"1932\",\"type\":\"Grid\"},{\"id\":\"1937\",\"type\":\"Grid\"},{\"id\":\"1950\",\"type\":\"Whisker\"},{\"id\":\"1974\",\"type\":\"Legend\"}],\"left\":[{\"id\":\"1933\",\"type\":\"LinearAxis\"}],\"plot_width\":900,\"renderers\":[{\"id\":\"1955\",\"type\":\"GlyphRenderer\"},{\"id\":\"1960\",\"type\":\"GlyphRenderer\"},{\"id\":\"1979\",\"type\":\"GlyphRenderer\"},{\"id\":\"1998\",\"type\":\"GlyphRenderer\"}],\"title\":{\"id\":\"1918\",\"type\":\"Title\"},\"toolbar\":{\"id\":\"1943\",\"type\":\"Toolbar\"},\"x_range\":{\"id\":\"1920\",\"type\":\"DataRange1d\"},\"x_scale\":{\"id\":\"1924\",\"type\":\"LinearScale\"},\"y_range\":{\"id\":\"1922\",\"type\":\"Range1d\"},\"y_scale\":{\"id\":\"1926\",\"type\":\"LinearScale\"}},\"id\":\"1917\",\"subtype\":\"Figure\",\"type\":\"Plot\"},{\"attributes\":{\"bottom_units\":\"screen\",\"fill_alpha\":{\"value\":0.5},\"fill_color\":{\"value\":\"lightgrey\"},\"left_units\":\"screen\",\"level\":\"overlay\",\"line_alpha\":{\"value\":1.0},\"line_color\":{\"value\":\"black\"},\"line_dash\":[4,4],\"line_width\":{\"value\":2},\"render_mode\":\"css\",\"right_units\":\"screen\",\"top_units\":\"screen\"},\"id\":\"1973\",\"type\":\"BoxAnnotation\"},{\"attributes\":{\"data_source\":{\"id\":\"1684\",\"type\":\"ColumnDataSource\"},\"glyph\":{\"id\":\"1953\",\"type\":\"Circle\"},\"hover_glyph\":null,\"muted_glyph\":null,\"nonselection_glyph\":{\"id\":\"1954\",\"type\":\"Circle\"},\"selection_glyph\":null,\"view\":{\"id\":\"1956\",\"type\":\"CDSView\"}},\"id\":\"1955\",\"type\":\"GlyphRenderer\"},{\"attributes\":{\"data_source\":{\"id\":\"1957\",\"type\":\"ColumnDataSource\"},\"glyph\":{\"id\":\"1958\",\"type\":\"Line\"},\"hover_glyph\":null,\"muted_glyph\":null,\"nonselection_glyph\":{\"id\":\"1959\",\"type\":\"Line\"},\"selection_glyph\":null,\"view\":{\"id\":\"1961\",\"type\":\"CDSView\"}},\"id\":\"1960\",\"type\":\"GlyphRenderer\"},{\"attributes\":{\"line_alpha\":0.1,\"line_color\":\"#1f77b4\",\"line_dash\":[2,4],\"x\":{\"field\":\"x\"},\"y\":{\"field\":\"y\"}},\"id\":\"1959\",\"type\":\"Line\"},{\"attributes\":{},\"id\":\"2012\",\"type\":\"Selection\"},{\"attributes\":{\"fill_alpha\":{\"value\":0.1},\"fill_color\":{\"value\":\"#1f77b4\"},\"line_alpha\":{\"value\":0.1},\"line_color\":{\"value\":\"#1f77b4\"},\"x\":{\"field\":\"x\"},\"y\":{\"field\":\"y\"}},\"id\":\"1954\",\"type\":\"Circle\"},{\"attributes\":{\"base\":{\"field\":\"base\",\"units\":\"data\"},\"line_color\":{\"value\":\"lightsteelblue\"},\"lower\":{\"field\":\"lower\",\"units\":\"data\"},\"lower_head\":{\"id\":\"1963\",\"type\":\"TeeHead\"},\"source\":{\"id\":\"1949\",\"type\":\"ColumnDataSource\"},\"upper\":{\"field\":\"upper\",\"units\":\"data\"},\"upper_head\":{\"id\":\"1964\",\"type\":\"TeeHead\"}},\"id\":\"1950\",\"type\":\"Whisker\"},{\"attributes\":{\"axis_label\":\"McQuillan Period\",\"formatter\":{\"id\":\"1966\",\"type\":\"BasicTickFormatter\"},\"ticker\":{\"id\":\"1929\",\"type\":\"BasicTicker\"}},\"id\":\"1928\",\"type\":\"LinearAxis\"},{\"attributes\":{\"callback\":null,\"data\":{\"x\":[7.0,8.88,2.85,10.69,8.74,12.83,6.72,2.67,6.41,2.81,2.19,10.68,11.96,7.7,3.56,8.6,3.72,11.19,10.5,0.84,3.32,1.54,1.37,12.11,10.51,3.2,11.11,1.18,5.62,1.85,3.83,2.38,2.7,12.12,8.23,3.54,8.01,6.32,11.72,7.97,1.45,12.32,2.78,10.03,1.45,1.68,3.15,0.57,1.18,6.4,2.99,0.96,6.24,7.59,3.91,6.42,1.03,8.52,9.73,9.44,8.54],\"y\":[14.0,17.76,5.7,21.38,17.48,25.66,13.44,5.34,12.82,5.62,4.38,21.36,23.92,15.4,7.12,17.2,7.44,22.38,21.0,1.68,6.64,3.08,2.74,24.22,21.02,6.4,22.22,2.36,11.24,3.7,7.66,4.76,5.4,24.24,16.46,7.08,16.02,12.64,23.44,15.94,2.9,24.64,5.56,20.06,2.9,3.36,6.3,1.14,2.36,12.8,5.98,1.92,12.48,15.18,7.82,12.84,2.06,17.04,19.46,18.88,17.08]},\"selected\":{\"id\":\"2012\",\"type\":\"Selection\"},\"selection_policy\":{\"id\":\"2011\",\"type\":\"UnionRenderers\"}},\"id\":\"1976\",\"type\":\"ColumnDataSource\"},{\"attributes\":{},\"id\":\"2095\",\"type\":\"Selection\"},{\"attributes\":{\"dimension\":1,\"ticker\":{\"id\":\"1934\",\"type\":\"BasicTicker\"}},\"id\":\"1937\",\"type\":\"Grid\"},{\"attributes\":{\"line_color\":\"khaki\",\"line_dash\":[2,4],\"x\":{\"field\":\"x\"},\"y\":{\"field\":\"y\"}},\"id\":\"1958\",\"type\":\"Line\"},{\"attributes\":{\"callback\":null,\"data\":{\"x\":[7.0,8.88,2.85,10.69,8.74,12.83,6.72,2.67,6.41,2.81,2.19,10.68,11.96,7.7,3.56,8.6,3.72,11.19,10.5,0.84,3.32,1.54,1.37,12.11,10.51,3.2,11.11,1.18,5.62,1.85,3.83,2.38,2.7,12.12,8.23,3.54,8.01,6.32,11.72,7.97,1.45,12.32,2.78,10.03,1.45,1.68,3.15,0.57,1.18,6.4,2.99,0.96,6.24,7.59,3.91,6.42,1.03,8.52,9.73,9.44,8.54],\"y\":[3.5,4.44,1.425,5.345,4.37,6.415,3.36,1.335,3.205,1.405,1.095,5.34,5.98,3.85,1.78,4.3,1.86,5.595,5.25,0.42,1.66,0.77,0.685,6.055,5.255,1.6,5.555,0.59,2.81,0.925,1.915,1.19,1.35,6.06,4.115,1.77,4.005,3.16,5.86,3.985,0.725,6.16,1.39,5.015,0.725,0.84,1.575,0.285,0.59,3.2,1.495,0.48,3.12,3.795,1.955,3.21,0.515,4.26,4.865,4.72,4.27]},\"selected\":{\"id\":\"1991\",\"type\":\"Selection\"},\"selection_policy\":{\"id\":\"1990\",\"type\":\"UnionRenderers\"}},\"id\":\"1957\",\"type\":\"ColumnDataSource\"},{\"attributes\":{\"label\":{\"value\":\"y=2x\"},\"renderers\":[{\"id\":\"1960\",\"type\":\"GlyphRenderer\"},{\"id\":\"1979\",\"type\":\"GlyphRenderer\"}]},\"id\":\"1975\",\"type\":\"LegendItem\"},{\"attributes\":{\"source\":{\"id\":\"1684\",\"type\":\"ColumnDataSource\"}},\"id\":\"1956\",\"type\":\"CDSView\"},{\"attributes\":{},\"id\":\"1929\",\"type\":\"BasicTicker\"},{\"attributes\":{},\"id\":\"1972\",\"type\":\"Selection\"},{\"attributes\":{\"level\":\"underlay\",\"size\":10},\"id\":\"1964\",\"type\":\"TeeHead\"},{\"attributes\":{\"ticker\":{\"id\":\"1929\",\"type\":\"BasicTicker\"}},\"id\":\"1932\",\"type\":\"Grid\"},{\"attributes\":{},\"id\":\"1966\",\"type\":\"BasicTickFormatter\"},{\"attributes\":{\"items\":[{\"id\":\"1975\",\"type\":\"LegendItem\"},{\"id\":\"2016\",\"type\":\"LegendItem\"}]},\"id\":\"1974\",\"type\":\"Legend\"},{\"attributes\":{\"line_color\":\"plum\",\"line_dash\":[4,4],\"line_width\":2,\"x\":{\"field\":\"x\"},\"y\":{\"field\":\"y\"}},\"id\":\"1996\",\"type\":\"Line\"},{\"attributes\":{},\"id\":\"1934\",\"type\":\"BasicTicker\"},{\"attributes\":{\"data_source\":{\"id\":\"1976\",\"type\":\"ColumnDataSource\"},\"glyph\":{\"id\":\"1977\",\"type\":\"Line\"},\"hover_glyph\":null,\"muted_glyph\":null,\"nonselection_glyph\":{\"id\":\"1978\",\"type\":\"Line\"},\"selection_glyph\":null,\"view\":{\"id\":\"1980\",\"type\":\"CDSView\"}},\"id\":\"1979\",\"type\":\"GlyphRenderer\"},{\"attributes\":{\"axis_label\":\"LS Period\",\"formatter\":{\"id\":\"1968\",\"type\":\"BasicTickFormatter\"},\"ticker\":{\"id\":\"1934\",\"type\":\"BasicTicker\"}},\"id\":\"1933\",\"type\":\"LinearAxis\"},{\"attributes\":{\"callback\":null,\"data\":{\"x\":[7.0,8.88,2.85,10.69,8.74,12.83,6.72,2.67,6.41,2.81,2.19,10.68,11.96,7.7,3.56,8.6,3.72,11.19,10.5,0.84,3.32,1.54,1.37,12.11,10.51,3.2,11.11,1.18,5.62,1.85,3.83,2.38,2.7,12.12,8.23,3.54,8.01,6.32,11.72,7.97,1.45,12.32,2.78,10.03,1.45,1.68,3.15,0.57,1.18,6.4,2.99,0.96,6.24,7.59,3.91,6.42,1.03,8.52,9.73,9.44,8.54],\"y\":[7.0,8.88,2.85,10.69,8.74,12.83,6.72,2.67,6.41,2.81,2.19,10.68,11.96,7.7,3.56,8.6,3.72,11.19,10.5,0.84,3.32,1.54,1.37,12.11,10.51,3.2,11.11,1.18,5.62,1.85,3.83,2.38,2.7,12.12,8.23,3.54,8.01,6.32,11.72,7.97,1.45,12.32,2.78,10.03,1.45,1.68,3.15,0.57,1.18,6.4,2.99,0.96,6.24,7.59,3.91,6.42,1.03,8.52,9.73,9.44,8.54]},\"selected\":{\"id\":\"2095\",\"type\":\"Selection\"},\"selection_policy\":{\"id\":\"2094\",\"type\":\"UnionRenderers\"}},\"id\":\"1995\",\"type\":\"ColumnDataSource\"},{\"attributes\":{\"source\":{\"id\":\"1957\",\"type\":\"ColumnDataSource\"}},\"id\":\"1961\",\"type\":\"CDSView\"},{\"attributes\":{\"line_alpha\":0.1,\"line_color\":\"#1f77b4\",\"line_dash\":[2,4],\"x\":{\"field\":\"x\"},\"y\":{\"field\":\"y\"}},\"id\":\"1978\",\"type\":\"Line\"},{\"attributes\":{\"fill_color\":{\"value\":\"mediumvioletred\"},\"line_color\":{\"value\":null},\"x\":{\"field\":\"x\"},\"y\":{\"field\":\"y\"}},\"id\":\"1953\",\"type\":\"Circle\"},{\"attributes\":{\"callback\":null,\"data\":{\"base\":[7.0,8.88,2.85,10.69,8.74,12.83,6.72,2.67,6.41,2.81,2.19,10.68,11.96,7.7,3.56,8.6,3.72,11.19,10.5,0.84,3.32,1.54,1.37,12.11,10.51,3.2,11.11,1.18,5.62,1.85,3.83,2.38,2.7,12.12,8.23,3.54,8.01,6.32,11.72,7.97,1.45,12.32,2.78,10.03,1.45,1.68,3.15,0.57,1.18,6.4,2.99,0.96,6.24,7.59,3.91,6.42,1.03,8.52,9.73,9.44,8.54],\"lower\":[4.365341569711131,-1.2817360953243546,-1.1553996780689464,-0.64939876500069,3.7223024984336783,6.010595450574832,-1.128511534825893,3.6127116126076686,0.8023324310927569,4.190853552716594,3.9651382867586706,4.285491733752265,3.7305549989985396,4.048632002253928,-2.6148925418512734,-3.491508336241437,-1.6258128857106602,12.173231548151627,-0.8410593987110229,-2.6544824261801008,1.200002946017718,5.751483095419823,-2.123751501765742,4.056520249938287,11.419383284350115,3.476470692719168,1.5970642438127882,-2.3318463300710457,4.062164825138361,4.428175760240288,3.852373854959917,-2.7092209394398665,3.866282538535068,4.804120984787697,-0.7980892866831084,-3.491508336241437,3.861997335574207,3.7888554526142535,4.709823245269953,6.836427563816193,-2.0301115191955343,3.721272261761758,-2.10535712337472,3.5640803809127055,4.036269441536341,-2.6597619908050754,-0.12814660912446563,-2.924729888411478,-0.6407357976658226,-0.0012368671924267716,-0.7539997130030414,4.727173242550207,-2.0799424140420824,-3.491508336241437,3.705853948051458,3.342581538406434,-1.1373233067479123,0.07996615460406797,0.9727486789621898,0.9597644289079543,5.043859166216774],\"upper\":[11.348358242194005,5.701280577158519,5.827616994413928,6.333617907482184,10.705319170916553,12.993612123057705,5.8545051376569806,10.595728285090543,7.785349103575631,11.173870225199469,10.948154959241545,11.268508406235139,10.713571671481414,11.031648674736802,4.3681241306316005,3.491508336241437,5.357203786772214,19.156248220634502,6.141957273771851,4.328534246302773,8.183019618500591,12.734499767902697,4.859265170717132,11.03953692242116,18.402399956832987,10.459487365202042,8.580080916295662,4.651170342411828,11.045181497621236,11.411192432723162,10.83539052744279,4.273795733043007,10.849299211017943,11.78713765727057,6.1849273857997655,3.491508336241437,10.845014008057081,10.771872125097127,11.692839917752828,13.819444236299066,4.95290515328734,10.704288934244632,4.877659549108154,10.547097053395579,11.019286114019215,4.323254681677799,6.854870063358408,4.058286784071396,6.342280874817051,6.981779805290447,6.229016959479832,11.71018991503308,4.903074258440792,3.491508336241437,10.688870620534331,10.325598210889307,5.845693365734961,7.062982827086942,7.955765351445064,7.942781101390828,12.026875838699649]},\"selected\":{\"id\":\"1972\",\"type\":\"Selection\"},\"selection_policy\":{\"id\":\"1971\",\"type\":\"UnionRenderers\"}},\"id\":\"1949\",\"type\":\"ColumnDataSource\"},{\"attributes\":{},\"id\":\"1747\",\"type\":\"UnionRenderers\"},{\"attributes\":{\"source\":{\"id\":\"1976\",\"type\":\"ColumnDataSource\"}},\"id\":\"1980\",\"type\":\"CDSView\"},{\"attributes\":{},\"id\":\"1748\",\"type\":\"Selection\"},{\"attributes\":{},\"id\":\"1990\",\"type\":\"UnionRenderers\"},{\"attributes\":{\"active_drag\":\"auto\",\"active_inspect\":\"auto\",\"active_multi\":null,\"active_scroll\":\"auto\",\"active_tap\":\"auto\",\"tools\":[{\"id\":\"1938\",\"type\":\"PanTool\"},{\"id\":\"1939\",\"type\":\"BoxZoomTool\"},{\"id\":\"1940\",\"type\":\"ResetTool\"},{\"id\":\"1941\",\"type\":\"SaveTool\"},{\"id\":\"1942\",\"type\":\"HoverTool\"}]},\"id\":\"1943\",\"type\":\"Toolbar\"},{\"attributes\":{\"text\":\"LS Periods from Flux with Trends Removed\"},\"id\":\"1918\",\"type\":\"Title\"},{\"attributes\":{},\"id\":\"1991\",\"type\":\"Selection\"},{\"attributes\":{},\"id\":\"1938\",\"type\":\"PanTool\"},{\"attributes\":{\"callback\":null},\"id\":\"1920\",\"type\":\"DataRange1d\"},{\"attributes\":{\"line_alpha\":0.1,\"line_color\":\"#1f77b4\",\"line_dash\":[4,4],\"line_width\":2,\"x\":{\"field\":\"x\"},\"y\":{\"field\":\"y\"}},\"id\":\"1997\",\"type\":\"Line\"},{\"attributes\":{\"level\":\"underlay\",\"size\":10},\"id\":\"1963\",\"type\":\"TeeHead\"},{\"attributes\":{\"overlay\":{\"id\":\"1973\",\"type\":\"BoxAnnotation\"}},\"id\":\"1939\",\"type\":\"BoxZoomTool\"},{\"attributes\":{\"callback\":null,\"end\":15,\"start\":-2},\"id\":\"1922\",\"type\":\"Range1d\"},{\"attributes\":{\"source\":{\"id\":\"1995\",\"type\":\"ColumnDataSource\"}},\"id\":\"1999\",\"type\":\"CDSView\"},{\"attributes\":{},\"id\":\"1924\",\"type\":\"LinearScale\"},{\"attributes\":{},\"id\":\"1940\",\"type\":\"ResetTool\"},{\"attributes\":{},\"id\":\"2094\",\"type\":\"UnionRenderers\"},{\"attributes\":{},\"id\":\"1971\",\"type\":\"UnionRenderers\"},{\"attributes\":{},\"id\":\"1926\",\"type\":\"LinearScale\"},{\"attributes\":{\"label\":{\"value\":\"y=x\"},\"renderers\":[{\"id\":\"1998\",\"type\":\"GlyphRenderer\"}]},\"id\":\"2016\",\"type\":\"LegendItem\"},{\"attributes\":{},\"id\":\"1941\",\"type\":\"SaveTool\"},{\"attributes\":{\"data_source\":{\"id\":\"1995\",\"type\":\"ColumnDataSource\"},\"glyph\":{\"id\":\"1996\",\"type\":\"Line\"},\"hover_glyph\":null,\"muted_glyph\":null,\"name\":\"y=x\",\"nonselection_glyph\":{\"id\":\"1997\",\"type\":\"Line\"},\"selection_glyph\":null,\"view\":{\"id\":\"1999\",\"type\":\"CDSView\"}},\"id\":\"1998\",\"type\":\"GlyphRenderer\"},{\"attributes\":{\"callback\":null,\"data\":{\"pdm\":[7.84954954954955,9.881081081081081,5.877477477477478,7.066666666666667,7.046846846846847,8.771171171171172,2.8252252252252257,7.760360360360361,8.870270270270272,7.978378378378379,7.720720720720721,8.771171171171172,0.44684684684684695,7.690990990990992,6.9972972972972975,\"NaN\",3.7072072072072078,6.709909909909911,8.612612612612613,0.8333333333333334,8.00810810810811,9.920720720720722,1.3783783783783785,7.80990990990991,1.0216216216216218,6.76936936936937,7.126126126126127,1.1603603603603605,7.443243243243244,7.492792792792793,7.363963963963965,6.660360360360361,7.532432432432433,8.077477477477478,8.087387387387388,\"NaN\",5.0549549549549555,9.98018018018018,7.978378378378379,9.791891891891893,1.4576576576576579,6.987387387387388,1.3882882882882885,6.987387387387388,8.642342342342342,1.665765765765766,9.99009009009009,0.5657657657657659,4.688288288288288,6.6504504504504505,8.156756756756756,8.117117117117118,2.8252252252252257,\"NaN\",6.640540540540541,6.8684684684684685,7.155855855855856,7.126126126126127,7.899099099099099,0.17927927927927928,8.404504504504505],\"tess\":[275493837,121789795,63007124,275490626,171098535,63210277,351803000,170253623,158791870,164724054,122684770,121457565,273582401,267991320,137218354,184089663,272370950,159172008,121659832,138728898,169460055,169466444,122213500,63209318,120963553,267746802,271165094,27395090,298964604,270608620,185058148,271426791,273687618,272719990,239227465,27186774,271538184,121215119,121939294,352013209,185058255,170344764,378084176,120422997,63075888,270856793,26597576,158412743,121329643,351055098,120890400,137408312,267671733,279916031,271547585,158936101,121939266,239225673],\"x\":[7.0,8.88,2.85,10.69,8.74,12.83,6.72,2.67,6.41,2.81,2.19,10.68,11.96,7.7,3.56,8.6,3.72,11.19,10.5,0.84,3.32,1.54,1.37,12.11,10.51,3.2,11.11,1.18,5.62,1.85,3.83,2.38,2.7,12.12,8.23,3.54,8.01,6.32,11.72,7.97,1.45,12.32,2.78,10.03,1.45,1.68,3.15,0.57,1.18,6.4,2.99,0.96,6.24,7.59,3.91,6.42,1.03,8.52],\"y\":[7.856849905952568,2.2097722409170824,2.3361086581724906,2.842109571240747,7.213810834675115,9.502103786816269,2.362996801415544,7.104219948849106,4.293840767334194,7.682361888958031,7.456646623000108,7.777000069993702,7.222063335239977,7.540140338495365,0.8766157943901638,\"NaN\",1.8656954505307768,15.664739884393065,2.650448937530414,0.8370259100613362,4.691511282259155,9.24299143166126,1.3677568344756952,7.548028586179724,14.910891620591551,6.967979028960605,5.088572580054225,1.1596620061703913,7.553673161379798,7.919684096481725,7.343882191201354,0.7822873968015703,7.357790874776505,8.295629321029134,2.6934190495583286,\"NaN\",7.353505671815644,7.2803637888556905,8.20133158151139,10.32793590005763,1.4613968170459029,7.212780598003195,1.3861512128667168,7.0555887171541425,7.527777777777778,0.8317463454363617,3.3633617271169713,0.5667784478299593,2.8507725385756144,3.49027146904901,2.7375086232383956,8.218681578791644,1.4115659221993546,\"NaN\",7.197362284292895,6.834089874647871,2.3541850294935247,3.571474490845505,4.464257015203627,4.451272765149391,8.535367502458211]},\"selected\":{\"id\":\"1748\",\"type\":\"Selection\"},\"selection_policy\":{\"id\":\"1747\",\"type\":\"UnionRenderers\"}},\"id\":\"1684\",\"type\":\"ColumnDataSource\"},{\"attributes\":{\"callback\":null},\"id\":\"1942\",\"type\":\"HoverTool\"},{\"attributes\":{},\"id\":\"2011\",\"type\":\"UnionRenderers\"},{\"attributes\":{},\"id\":\"1968\",\"type\":\"BasicTickFormatter\"},{\"attributes\":{\"line_color\":\"khaki\",\"line_dash\":[2,4],\"x\":{\"field\":\"x\"},\"y\":{\"field\":\"y\"}},\"id\":\"1977\",\"type\":\"Line\"}],\"root_ids\":[\"1917\"]},\"title\":\"Bokeh Application\",\"version\":\"1.3.4\"}};\n",
       "  var render_items = [{\"docid\":\"e8229e1c-95de-4bd7-814c-1bb05a3a7a6c\",\"roots\":{\"1917\":\"bafd1adb-538d-4157-8ae4-1712a15f68fc\"}}];\n",
       "  root.Bokeh.embed.embed_items_notebook(docs_json, render_items);\n",
       "\n",
       "  }\n",
       "  if (root.Bokeh !== undefined) {\n",
       "    embed_document(root);\n",
       "  } else {\n",
       "    var attempts = 0;\n",
       "    var timer = setInterval(function(root) {\n",
       "      if (root.Bokeh !== undefined) {\n",
       "        embed_document(root);\n",
       "        clearInterval(timer);\n",
       "      }\n",
       "      attempts++;\n",
       "      if (attempts > 100) {\n",
       "        console.log(\"Bokeh: ERROR: Unable to run BokehJS code because BokehJS library is missing\");\n",
       "        clearInterval(timer);\n",
       "      }\n",
       "    }, 10, root)\n",
       "  }\n",
       "})(window);"
      ],
      "application/vnd.bokehjs_exec.v0+json": ""
     },
     "metadata": {
      "application/vnd.bokehjs_exec.v0+json": {
       "id": "1917"
      }
     },
     "output_type": "display_data"
    }
   ],
   "source": [
    "p_ls = figure(plot_width=900, plot_height=600, tools=\"pan,box_zoom,reset,save,hover\",\n",
    "   y_range=[-2, 15], title=\"LS Periods from Flux with Trends Removed\",\n",
    "   x_axis_label='McQuillan Period', y_axis_label='LS Period')\n",
    "\n",
    "base, lower, upper = [], [], []\n",
    "\n",
    "y = ls_resid_periods\n",
    "x = short_periods[0:61]\n",
    "\n",
    "x2 = [i*2 for i in x]\n",
    "x_half = [float(i)*0.5 for i in x]\n",
    "\n",
    "for i, per in enumerate(ls_resid_periods):\n",
    "    lower.append(per - ls_error)\n",
    "    upper.append(per + ls_error)\n",
    "    base.append(short_periods[i])\n",
    "    \n",
    "source_error = ColumnDataSource(data=dict(base=base, lower=lower, upper=upper))\n",
    "\n",
    "p_ls.add_layout(\n",
    "    Whisker(source=source_error, base=\"base\", upper=\"upper\", lower=\"lower\", line_color = 'lightsteelblue')\n",
    ")\n",
    "\n",
    "p_ls.circle(x = 'x', y = 'y', source = source, color=\"mediumvioletred\", line_color=None)\n",
    "p_ls.line(x, x_half, legend=\"y=2x\", line_width=1, color = 'khaki', line_dash=\"dotted\")\n",
    "p_ls.line(x, x2, legend=\"y=2x\", line_width=1, color = 'khaki', line_dash=\"dotted\")\n",
    "p_ls.line(x, x, name = \"y=x\", color = 'plum', line_dash=\"4 4\", legend = \"y=x\", line_width = 2)\n",
    "\n",
    "\n",
    "\n",
    "show(p_ls)"
   ]
  },
  {
   "cell_type": "code",
   "execution_count": 26,
   "metadata": {},
   "outputs": [
    {
     "data": {
      "text/html": [
       "\n",
       "\n",
       "\n",
       "\n",
       "\n",
       "\n",
       "  <div class=\"bk-root\" id=\"85b0297d-971f-4fe3-8588-9da4fbd88612\" data-root-id=\"2207\"></div>\n"
      ]
     },
     "metadata": {},
     "output_type": "display_data"
    },
    {
     "data": {
      "application/javascript": [
       "(function(root) {\n",
       "  function embed_document(root) {\n",
       "    \n",
       "  var docs_json = {\"fbf83c44-010f-44f0-b3c1-55fef13b0f84\":{\"roots\":{\"references\":[{\"attributes\":{\"below\":[{\"id\":\"2218\",\"type\":\"LinearAxis\"}],\"center\":[{\"id\":\"2222\",\"type\":\"Grid\"},{\"id\":\"2227\",\"type\":\"Grid\"},{\"id\":\"2241\",\"type\":\"Whisker\"},{\"id\":\"2265\",\"type\":\"Legend\"}],\"left\":[{\"id\":\"2223\",\"type\":\"LinearAxis\"}],\"plot_width\":900,\"renderers\":[{\"id\":\"2246\",\"type\":\"GlyphRenderer\"},{\"id\":\"2251\",\"type\":\"GlyphRenderer\"},{\"id\":\"2270\",\"type\":\"GlyphRenderer\"},{\"id\":\"2289\",\"type\":\"GlyphRenderer\"}],\"title\":{\"id\":\"2208\",\"type\":\"Title\"},\"toolbar\":{\"id\":\"2233\",\"type\":\"Toolbar\"},\"x_range\":{\"id\":\"2210\",\"type\":\"DataRange1d\"},\"x_scale\":{\"id\":\"2214\",\"type\":\"LinearScale\"},\"y_range\":{\"id\":\"2212\",\"type\":\"Range1d\"},\"y_scale\":{\"id\":\"2216\",\"type\":\"LinearScale\"}},\"id\":\"2207\",\"subtype\":\"Figure\",\"type\":\"Plot\"},{\"attributes\":{\"fill_color\":{\"value\":\"mediumvioletred\"},\"line_color\":{\"value\":null},\"x\":{\"field\":\"x\"},\"y\":{\"field\":\"y\"}},\"id\":\"2244\",\"type\":\"Circle\"},{\"attributes\":{},\"id\":\"2281\",\"type\":\"UnionRenderers\"},{\"attributes\":{},\"id\":\"2403\",\"type\":\"UnionRenderers\"},{\"attributes\":{},\"id\":\"2219\",\"type\":\"BasicTicker\"},{\"attributes\":{\"callback\":null,\"data\":{\"base\":[7.0,8.88,2.85,10.69,8.74,12.83,6.72,2.67,6.41,2.81,2.19,10.68,11.96,7.7,3.56,8.6,3.72,11.19,10.5,0.84,3.32,1.54,1.37,12.11,10.51,3.2,11.11,1.18,5.62,1.85,3.83,2.38,2.7,12.12,8.23,3.54,8.01,6.32,11.72,7.97,1.45,12.32,2.78,10.03,1.45,1.68,3.15,0.57,1.18,6.4,2.99,0.96,6.24,7.59,3.91,6.42,1.03,8.52],\"lower\":[7.85684990595018,2.0397722409201697,2.3361086581715185,2.3821095712445493,7.2038108346781,9.482103786820652,2.292996801413276,7.084219948848202,4.283840767335649,7.6723618889570755,7.416646622999375,7.757000069997351,7.132063335244087,7.540140338492739,0.866615794388953,-0.05000000000291571,1.8456954505274115,15.57473988438928,2.550448937526867,0.8270259100616261,4.671511282258029,9.232991431661787,1.3477568344752346,7.2380285861757,14.800891620593916,6.967979028959514,5.0485725800580274,1.1396620061708005,7.533673161377888,7.9196840964810935,7.313882191200058,0.7622873968023888,7.357790874775584,8.275629321025008,2.523419049561194,-0.0099999999987892,7.293505671812933,7.2503637888578565,8.171331581515398,10.29793590006036,-0.08860318295307401,6.9827805980074755,1.356151212865779,7.0355887171575695,7.527777777777283,0.8117463454369415,3.313361727115914,0.5467784478297718,2.8207725385752225,3.390271469046861,2.727508623239419,8.208681578791861,1.4015659222014865,-0.10999999999737398,7.157362284294242,6.814089874645688,2.3341850294938826,3.5414744908484206],\"upper\":[7.856849905954955,2.379772240913995,2.3361086581734627,3.3021095712369446,7.223810834672131,9.522103786811886,2.432996801417812,7.124219948850009,4.303840767332739,7.692361888958986,7.49664662300084,7.797000069990053,7.312063335235866,7.5401403384979915,0.8866157943913746,0.05000000000291571,1.8856954505341421,15.75473988439685,2.750448937533961,0.8470259100610463,4.711511282260281,9.252991431660732,1.3877568344761557,7.858028586183748,15.020891620589186,6.967979028961697,5.128572580050423,1.179662006169982,7.573673161381708,7.9196840964823565,7.37388219120265,0.8022873968007519,7.357790874777426,8.31562932103326,2.8634190495554632,0.0099999999987892,7.413505671818355,7.3103637888535244,8.231331581507382,10.357935900054901,3.0113968170448797,7.442780597998914,1.4161512128676546,7.0755887171507155,7.527777777778272,0.851746345435782,3.4133617271180285,0.5867784478301469,2.8807725385760063,3.5902714690511592,2.747508623237372,8.228681578791427,1.4215659221972228,0.10999999999737398,7.237362284291548,6.854089874650054,2.374185029493167,3.6014744908425893]},\"selected\":{\"id\":\"2263\",\"type\":\"Selection\"},\"selection_policy\":{\"id\":\"2262\",\"type\":\"UnionRenderers\"}},\"id\":\"2240\",\"type\":\"ColumnDataSource\"},{\"attributes\":{\"ticker\":{\"id\":\"2219\",\"type\":\"BasicTicker\"}},\"id\":\"2222\",\"type\":\"Grid\"},{\"attributes\":{\"level\":\"underlay\",\"size\":10},\"id\":\"2254\",\"type\":\"TeeHead\"},{\"attributes\":{},\"id\":\"2282\",\"type\":\"Selection\"},{\"attributes\":{\"dimension\":1,\"ticker\":{\"id\":\"2224\",\"type\":\"BasicTicker\"}},\"id\":\"2227\",\"type\":\"Grid\"},{\"attributes\":{\"fill_alpha\":{\"value\":0.1},\"fill_color\":{\"value\":\"#1f77b4\"},\"line_alpha\":{\"value\":0.1},\"line_color\":{\"value\":\"#1f77b4\"},\"x\":{\"field\":\"x\"},\"y\":{\"field\":\"y\"}},\"id\":\"2245\",\"type\":\"Circle\"},{\"attributes\":{\"line_color\":\"plum\",\"line_dash\":[4,4],\"line_width\":2,\"x\":{\"field\":\"x\"},\"y\":{\"field\":\"y\"}},\"id\":\"2287\",\"type\":\"Line\"},{\"attributes\":{\"line_alpha\":0.1,\"line_color\":\"#1f77b4\",\"line_dash\":[4,4],\"line_width\":2,\"x\":{\"field\":\"x\"},\"y\":{\"field\":\"y\"}},\"id\":\"2288\",\"type\":\"Line\"},{\"attributes\":{\"callback\":null,\"end\":15,\"start\":-1},\"id\":\"2212\",\"type\":\"Range1d\"},{\"attributes\":{\"source\":{\"id\":\"2239\",\"type\":\"ColumnDataSource\"}},\"id\":\"2247\",\"type\":\"CDSView\"},{\"attributes\":{\"source\":{\"id\":\"2286\",\"type\":\"ColumnDataSource\"}},\"id\":\"2290\",\"type\":\"CDSView\"},{\"attributes\":{\"line_color\":\"khaki\",\"line_dash\":[2,4],\"x\":{\"field\":\"x\"},\"y\":{\"field\":\"y\"}},\"id\":\"2249\",\"type\":\"Line\"},{\"attributes\":{},\"id\":\"2224\",\"type\":\"BasicTicker\"},{\"attributes\":{\"axis_label\":\"LS Period\",\"formatter\":{\"id\":\"2259\",\"type\":\"BasicTickFormatter\"},\"ticker\":{\"id\":\"2224\",\"type\":\"BasicTicker\"}},\"id\":\"2223\",\"type\":\"LinearAxis\"},{\"attributes\":{\"source\":{\"id\":\"2248\",\"type\":\"ColumnDataSource\"}},\"id\":\"2252\",\"type\":\"CDSView\"},{\"attributes\":{\"data_source\":{\"id\":\"2239\",\"type\":\"ColumnDataSource\"},\"glyph\":{\"id\":\"2244\",\"type\":\"Circle\"},\"hover_glyph\":null,\"muted_glyph\":null,\"nonselection_glyph\":{\"id\":\"2245\",\"type\":\"Circle\"},\"selection_glyph\":null,\"view\":{\"id\":\"2247\",\"type\":\"CDSView\"}},\"id\":\"2246\",\"type\":\"GlyphRenderer\"},{\"attributes\":{},\"id\":\"2260\",\"type\":\"UnionRenderers\"},{\"attributes\":{\"base\":{\"field\":\"base\",\"units\":\"data\"},\"line_color\":{\"value\":\"lightsteelblue\"},\"lower\":{\"field\":\"lower\",\"units\":\"data\"},\"lower_head\":{\"id\":\"2254\",\"type\":\"TeeHead\"},\"source\":{\"id\":\"2240\",\"type\":\"ColumnDataSource\"},\"upper\":{\"field\":\"upper\",\"units\":\"data\"},\"upper_head\":{\"id\":\"2255\",\"type\":\"TeeHead\"}},\"id\":\"2241\",\"type\":\"Whisker\"},{\"attributes\":{},\"id\":\"2302\",\"type\":\"UnionRenderers\"},{\"attributes\":{\"data_source\":{\"id\":\"2286\",\"type\":\"ColumnDataSource\"},\"glyph\":{\"id\":\"2287\",\"type\":\"Line\"},\"hover_glyph\":null,\"muted_glyph\":null,\"name\":\"y=x\",\"nonselection_glyph\":{\"id\":\"2288\",\"type\":\"Line\"},\"selection_glyph\":null,\"view\":{\"id\":\"2290\",\"type\":\"CDSView\"}},\"id\":\"2289\",\"type\":\"GlyphRenderer\"},{\"attributes\":{\"callback\":null,\"data\":{\"x\":[7.0,8.88,2.85,10.69,8.74,12.83,6.72,2.67,6.41,2.81,2.19,10.68,11.96,7.7,3.56,8.6,3.72,11.19,10.5,0.84,3.32,1.54,1.37,12.11,10.51,3.2,11.11,1.18,5.62,1.85,3.83,2.38,2.7,12.12,8.23,3.54,8.01,6.32,11.72,7.97,1.45,12.32,2.78,10.03,1.45,1.68,3.15,0.57,1.18,6.4,2.99,0.96,6.24,7.59,3.91,6.42,1.03,8.52],\"y\":[7.856849905952568,2.2097722409170824,2.3361086581724906,2.842109571240747,7.213810834675115,9.502103786816269,2.362996801415544,7.104219948849106,4.293840767334194,7.682361888958031,7.456646623000108,7.777000069993702,7.222063335239977,7.540140338495365,0.8766157943901638,0,1.8656954505307768,15.664739884393065,2.650448937530414,0.8370259100613362,4.691511282259155,9.24299143166126,1.3677568344756952,7.548028586179724,14.910891620591551,6.967979028960605,5.088572580054225,1.1596620061703913,7.553673161379798,7.919684096481725,7.343882191201354,0.7822873968015703,7.357790874776505,8.295629321029134,2.6934190495583286,0,7.353505671815644,7.2803637888556905,8.20133158151139,10.32793590005763,1.4613968170459029,7.212780598003195,1.3861512128667168,7.0555887171541425,7.527777777777778,0.8317463454363617,3.3633617271169713,0.5667784478299593,2.8507725385756144,3.49027146904901,2.7375086232383956,8.218681578791644,1.4115659221993546,0,7.197362284292895,6.834089874647871,2.3541850294935247,3.571474490845505]},\"selected\":{\"id\":\"2261\",\"type\":\"Selection\"},\"selection_policy\":{\"id\":\"2260\",\"type\":\"UnionRenderers\"}},\"id\":\"2239\",\"type\":\"ColumnDataSource\"},{\"attributes\":{\"level\":\"underlay\",\"size\":10},\"id\":\"2255\",\"type\":\"TeeHead\"},{\"attributes\":{\"data_source\":{\"id\":\"2248\",\"type\":\"ColumnDataSource\"},\"glyph\":{\"id\":\"2249\",\"type\":\"Line\"},\"hover_glyph\":null,\"muted_glyph\":null,\"nonselection_glyph\":{\"id\":\"2250\",\"type\":\"Line\"},\"selection_glyph\":null,\"view\":{\"id\":\"2252\",\"type\":\"CDSView\"}},\"id\":\"2251\",\"type\":\"GlyphRenderer\"},{\"attributes\":{\"callback\":null,\"data\":{\"x\":[7.0,8.88,2.85,10.69,8.74,12.83,6.72,2.67,6.41,2.81,2.19,10.68,11.96,7.7,3.56,8.6,3.72,11.19,10.5,0.84,3.32,1.54,1.37,12.11,10.51,3.2,11.11,1.18,5.62,1.85,3.83,2.38,2.7,12.12,8.23,3.54,8.01,6.32,11.72,7.97,1.45,12.32,2.78,10.03,1.45,1.68,3.15,0.57,1.18,6.4,2.99,0.96,6.24,7.59,3.91,6.42,1.03,8.52,9.73,9.44,8.54],\"y\":[7.0,8.88,2.85,10.69,8.74,12.83,6.72,2.67,6.41,2.81,2.19,10.68,11.96,7.7,3.56,8.6,3.72,11.19,10.5,0.84,3.32,1.54,1.37,12.11,10.51,3.2,11.11,1.18,5.62,1.85,3.83,2.38,2.7,12.12,8.23,3.54,8.01,6.32,11.72,7.97,1.45,12.32,2.78,10.03,1.45,1.68,3.15,0.57,1.18,6.4,2.99,0.96,6.24,7.59,3.91,6.42,1.03,8.52,9.73,9.44,8.54]},\"selected\":{\"id\":\"2404\",\"type\":\"Selection\"},\"selection_policy\":{\"id\":\"2403\",\"type\":\"UnionRenderers\"}},\"id\":\"2286\",\"type\":\"ColumnDataSource\"},{\"attributes\":{},\"id\":\"2214\",\"type\":\"LinearScale\"},{\"attributes\":{\"items\":[{\"id\":\"2266\",\"type\":\"LegendItem\"},{\"id\":\"2307\",\"type\":\"LegendItem\"}]},\"id\":\"2265\",\"type\":\"Legend\"},{\"attributes\":{},\"id\":\"2216\",\"type\":\"LinearScale\"},{\"attributes\":{},\"id\":\"2259\",\"type\":\"BasicTickFormatter\"},{\"attributes\":{\"axis_label\":\"McQuillan Period\",\"formatter\":{\"id\":\"2257\",\"type\":\"BasicTickFormatter\"},\"ticker\":{\"id\":\"2219\",\"type\":\"BasicTicker\"}},\"id\":\"2218\",\"type\":\"LinearAxis\"},{\"attributes\":{\"active_drag\":\"auto\",\"active_inspect\":\"auto\",\"active_multi\":null,\"active_scroll\":\"auto\",\"active_tap\":\"auto\",\"tools\":[{\"id\":\"2228\",\"type\":\"PanTool\"},{\"id\":\"2229\",\"type\":\"BoxZoomTool\"},{\"id\":\"2230\",\"type\":\"ResetTool\"},{\"id\":\"2231\",\"type\":\"SaveTool\"},{\"id\":\"2232\",\"type\":\"HoverTool\"}]},\"id\":\"2233\",\"type\":\"Toolbar\"},{\"attributes\":{},\"id\":\"2257\",\"type\":\"BasicTickFormatter\"},{\"attributes\":{},\"id\":\"2261\",\"type\":\"Selection\"},{\"attributes\":{\"label\":{\"value\":\"y=x\"},\"renderers\":[{\"id\":\"2289\",\"type\":\"GlyphRenderer\"}]},\"id\":\"2307\",\"type\":\"LegendItem\"},{\"attributes\":{\"text\":\"LS Periods from Flux with Trends Removed\"},\"id\":\"2208\",\"type\":\"Title\"},{\"attributes\":{\"callback\":null,\"data\":{\"x\":[7.0,8.88,2.85,10.69,8.74,12.83,6.72,2.67,6.41,2.81,2.19,10.68,11.96,7.7,3.56,8.6,3.72,11.19,10.5,0.84,3.32,1.54,1.37,12.11,10.51,3.2,11.11,1.18,5.62,1.85,3.83,2.38,2.7,12.12,8.23,3.54,8.01,6.32,11.72,7.97,1.45,12.32,2.78,10.03,1.45,1.68,3.15,0.57,1.18,6.4,2.99,0.96,6.24,7.59,3.91,6.42,1.03,8.52,9.73,9.44,8.54],\"y\":[14.0,17.76,5.7,21.38,17.48,25.66,13.44,5.34,12.82,5.62,4.38,21.36,23.92,15.4,7.12,17.2,7.44,22.38,21.0,1.68,6.64,3.08,2.74,24.22,21.02,6.4,22.22,2.36,11.24,3.7,7.66,4.76,5.4,24.24,16.46,7.08,16.02,12.64,23.44,15.94,2.9,24.64,5.56,20.06,2.9,3.36,6.3,1.14,2.36,12.8,5.98,1.92,12.48,15.18,7.82,12.84,2.06,17.04,19.46,18.88,17.08]},\"selected\":{\"id\":\"2303\",\"type\":\"Selection\"},\"selection_policy\":{\"id\":\"2302\",\"type\":\"UnionRenderers\"}},\"id\":\"2267\",\"type\":\"ColumnDataSource\"},{\"attributes\":{},\"id\":\"2228\",\"type\":\"PanTool\"},{\"attributes\":{},\"id\":\"2303\",\"type\":\"Selection\"},{\"attributes\":{\"data_source\":{\"id\":\"2267\",\"type\":\"ColumnDataSource\"},\"glyph\":{\"id\":\"2268\",\"type\":\"Line\"},\"hover_glyph\":null,\"muted_glyph\":null,\"nonselection_glyph\":{\"id\":\"2269\",\"type\":\"Line\"},\"selection_glyph\":null,\"view\":{\"id\":\"2271\",\"type\":\"CDSView\"}},\"id\":\"2270\",\"type\":\"GlyphRenderer\"},{\"attributes\":{},\"id\":\"2262\",\"type\":\"UnionRenderers\"},{\"attributes\":{\"callback\":null,\"data\":{\"x\":[7.0,8.88,2.85,10.69,8.74,12.83,6.72,2.67,6.41,2.81,2.19,10.68,11.96,7.7,3.56,8.6,3.72,11.19,10.5,0.84,3.32,1.54,1.37,12.11,10.51,3.2,11.11,1.18,5.62,1.85,3.83,2.38,2.7,12.12,8.23,3.54,8.01,6.32,11.72,7.97,1.45,12.32,2.78,10.03,1.45,1.68,3.15,0.57,1.18,6.4,2.99,0.96,6.24,7.59,3.91,6.42,1.03,8.52,9.73,9.44,8.54],\"y\":[3.5,4.44,1.425,5.345,4.37,6.415,3.36,1.335,3.205,1.405,1.095,5.34,5.98,3.85,1.78,4.3,1.86,5.595,5.25,0.42,1.66,0.77,0.685,6.055,5.255,1.6,5.555,0.59,2.81,0.925,1.915,1.19,1.35,6.06,4.115,1.77,4.005,3.16,5.86,3.985,0.725,6.16,1.39,5.015,0.725,0.84,1.575,0.285,0.59,3.2,1.495,0.48,3.12,3.795,1.955,3.21,0.515,4.26,4.865,4.72,4.27]},\"selected\":{\"id\":\"2282\",\"type\":\"Selection\"},\"selection_policy\":{\"id\":\"2281\",\"type\":\"UnionRenderers\"}},\"id\":\"2248\",\"type\":\"ColumnDataSource\"},{\"attributes\":{},\"id\":\"2263\",\"type\":\"Selection\"},{\"attributes\":{\"bottom_units\":\"screen\",\"fill_alpha\":{\"value\":0.5},\"fill_color\":{\"value\":\"lightgrey\"},\"left_units\":\"screen\",\"level\":\"overlay\",\"line_alpha\":{\"value\":1.0},\"line_color\":{\"value\":\"black\"},\"line_dash\":[4,4],\"line_width\":{\"value\":2},\"render_mode\":\"css\",\"right_units\":\"screen\",\"top_units\":\"screen\"},\"id\":\"2264\",\"type\":\"BoxAnnotation\"},{\"attributes\":{\"overlay\":{\"id\":\"2264\",\"type\":\"BoxAnnotation\"}},\"id\":\"2229\",\"type\":\"BoxZoomTool\"},{\"attributes\":{\"line_color\":\"khaki\",\"line_dash\":[2,4],\"x\":{\"field\":\"x\"},\"y\":{\"field\":\"y\"}},\"id\":\"2268\",\"type\":\"Line\"},{\"attributes\":{\"line_alpha\":0.1,\"line_color\":\"#1f77b4\",\"line_dash\":[2,4],\"x\":{\"field\":\"x\"},\"y\":{\"field\":\"y\"}},\"id\":\"2269\",\"type\":\"Line\"},{\"attributes\":{\"label\":{\"value\":\"y=2x\"},\"renderers\":[{\"id\":\"2251\",\"type\":\"GlyphRenderer\"},{\"id\":\"2270\",\"type\":\"GlyphRenderer\"}]},\"id\":\"2266\",\"type\":\"LegendItem\"},{\"attributes\":{},\"id\":\"2230\",\"type\":\"ResetTool\"},{\"attributes\":{\"line_alpha\":0.1,\"line_color\":\"#1f77b4\",\"line_dash\":[2,4],\"x\":{\"field\":\"x\"},\"y\":{\"field\":\"y\"}},\"id\":\"2250\",\"type\":\"Line\"},{\"attributes\":{\"callback\":null},\"id\":\"2210\",\"type\":\"DataRange1d\"},{\"attributes\":{},\"id\":\"2231\",\"type\":\"SaveTool\"},{\"attributes\":{},\"id\":\"2404\",\"type\":\"Selection\"},{\"attributes\":{\"callback\":null},\"id\":\"2232\",\"type\":\"HoverTool\"},{\"attributes\":{\"source\":{\"id\":\"2267\",\"type\":\"ColumnDataSource\"}},\"id\":\"2271\",\"type\":\"CDSView\"}],\"root_ids\":[\"2207\"]},\"title\":\"Bokeh Application\",\"version\":\"1.3.4\"}};\n",
       "  var render_items = [{\"docid\":\"fbf83c44-010f-44f0-b3c1-55fef13b0f84\",\"roots\":{\"2207\":\"85b0297d-971f-4fe3-8588-9da4fbd88612\"}}];\n",
       "  root.Bokeh.embed.embed_items_notebook(docs_json, render_items);\n",
       "\n",
       "  }\n",
       "  if (root.Bokeh !== undefined) {\n",
       "    embed_document(root);\n",
       "  } else {\n",
       "    var attempts = 0;\n",
       "    var timer = setInterval(function(root) {\n",
       "      if (root.Bokeh !== undefined) {\n",
       "        embed_document(root);\n",
       "        clearInterval(timer);\n",
       "      }\n",
       "      attempts++;\n",
       "      if (attempts > 100) {\n",
       "        console.log(\"Bokeh: ERROR: Unable to run BokehJS code because BokehJS library is missing\");\n",
       "        clearInterval(timer);\n",
       "      }\n",
       "    }, 10, root)\n",
       "  }\n",
       "})(window);"
      ],
      "application/vnd.bokehjs_exec.v0+json": ""
     },
     "metadata": {
      "application/vnd.bokehjs_exec.v0+json": {
       "id": "2207"
      }
     },
     "output_type": "display_data"
    }
   ],
   "source": [
    "plot_mcq_err_ls = figure(plot_width=900, plot_height=600, tools=\"pan,box_zoom,reset,save,hover\",\n",
    "   y_range=[-1, 15], title=\"LS Periods from Flux with Trends Removed\",\n",
    "   x_axis_label='McQuillan Period', y_axis_label='LS Period')\n",
    "\n",
    "base, lower, upper = [], [], []\n",
    "\n",
    "source = ColumnDataSource(data=dict(\n",
    "    y = ls_resid_periods[0:58],\n",
    "    x = short_periods[0:58]))\n",
    "\n",
    "x2 = [i*2 for i in x]\n",
    "x_half = [float(i)*0.5 for i in x]\n",
    "\n",
    "for i, per in enumerate(ls_resid_periods[0:58]):\n",
    "    lower.append(per - mcq_exo_difference[i])\n",
    "    upper.append(per + mcq_exo_difference[i])\n",
    "    base.append(short_periods[i])\n",
    "    \n",
    "source_error = ColumnDataSource(data=dict(base=base, lower=lower, upper=upper))\n",
    "\n",
    "plot_mcq_err_ls.add_layout(\n",
    "    Whisker(source=source_error, base=\"base\", upper=\"upper\", lower=\"lower\", line_color = 'lightsteelblue')\n",
    ")\n",
    "\n",
    "plot_mcq_err_ls.circle(x = 'x', y = 'y', source = source, color=\"mediumvioletred\", line_color=None)\n",
    "plot_mcq_err_ls.line(x, x_half, legend=\"y=2x\", line_width=1, color = 'khaki', line_dash=\"dotted\")\n",
    "plot_mcq_err_ls.line(x, x2, legend=\"y=2x\", line_width=1, color = 'khaki', line_dash=\"dotted\")\n",
    "plot_mcq_err_ls.line(x, x, name = \"y=x\", color = 'plum', line_dash=\"4 4\", legend = \"y=x\", line_width = 2)\n",
    "\n",
    "\n",
    "\n",
    "show(plot_mcq_err_ls)"
   ]
  },
  {
   "cell_type": "code",
   "execution_count": 27,
   "metadata": {},
   "outputs": [
    {
     "data": {
      "text/html": [
       "\n",
       "\n",
       "\n",
       "\n",
       "\n",
       "\n",
       "  <div class=\"bk-root\" id=\"fd721814-aa2f-49f0-ae07-fa1a352e0459\" data-root-id=\"2517\"></div>\n"
      ]
     },
     "metadata": {},
     "output_type": "display_data"
    },
    {
     "data": {
      "application/javascript": [
       "(function(root) {\n",
       "  function embed_document(root) {\n",
       "    \n",
       "  var docs_json = {\"ac14bcfd-84e9-4c2c-8be3-d87fa0ef9b56\":{\"roots\":{\"references\":[{\"attributes\":{\"below\":[{\"id\":\"2528\",\"type\":\"LinearAxis\"}],\"center\":[{\"id\":\"2532\",\"type\":\"Grid\"},{\"id\":\"2537\",\"type\":\"Grid\"},{\"id\":\"2560\",\"type\":\"Legend\"}],\"left\":[{\"id\":\"2533\",\"type\":\"LinearAxis\"}],\"plot_width\":900,\"renderers\":[{\"id\":\"2552\",\"type\":\"GlyphRenderer\"},{\"id\":\"2565\",\"type\":\"GlyphRenderer\"},{\"id\":\"2570\",\"type\":\"GlyphRenderer\"},{\"id\":\"2586\",\"type\":\"GlyphRenderer\"}],\"title\":{\"id\":\"2518\",\"type\":\"Title\"},\"toolbar\":{\"id\":\"2543\",\"type\":\"Toolbar\"},\"x_range\":{\"id\":\"2520\",\"type\":\"DataRange1d\"},\"x_scale\":{\"id\":\"2524\",\"type\":\"LinearScale\"},\"y_range\":{\"id\":\"2522\",\"type\":\"Range1d\"},\"y_scale\":{\"id\":\"2526\",\"type\":\"LinearScale\"}},\"id\":\"2517\",\"subtype\":\"Figure\",\"type\":\"Plot\"},{\"attributes\":{\"overlay\":{\"id\":\"2559\",\"type\":\"BoxAnnotation\"}},\"id\":\"2539\",\"type\":\"BoxZoomTool\"},{\"attributes\":{\"label\":{\"value\":\"y=x\"},\"renderers\":[{\"id\":\"2552\",\"type\":\"GlyphRenderer\"}]},\"id\":\"2561\",\"type\":\"LegendItem\"},{\"attributes\":{\"text\":\"Exoplanet ACF TESS Periods from Flux with Trends Removed\"},\"id\":\"2518\",\"type\":\"Title\"},{\"attributes\":{\"dimension\":1,\"ticker\":{\"id\":\"2534\",\"type\":\"BasicTicker\"}},\"id\":\"2537\",\"type\":\"Grid\"},{\"attributes\":{\"source\":{\"id\":\"2567\",\"type\":\"ColumnDataSource\"}},\"id\":\"2571\",\"type\":\"CDSView\"},{\"attributes\":{},\"id\":\"2713\",\"type\":\"Selection\"},{\"attributes\":{},\"id\":\"2529\",\"type\":\"BasicTicker\"},{\"attributes\":{},\"id\":\"2577\",\"type\":\"UnionRenderers\"},{\"attributes\":{\"data_source\":{\"id\":\"2516\",\"type\":\"ColumnDataSource\"},\"glyph\":{\"id\":\"2563\",\"type\":\"Circle\"},\"hover_glyph\":null,\"muted_glyph\":null,\"nonselection_glyph\":{\"id\":\"2564\",\"type\":\"Circle\"},\"selection_glyph\":null,\"view\":{\"id\":\"2566\",\"type\":\"CDSView\"}},\"id\":\"2565\",\"type\":\"GlyphRenderer\"},{\"attributes\":{\"label\":{\"value\":\"y=2x\"},\"renderers\":[{\"id\":\"2570\",\"type\":\"GlyphRenderer\"},{\"id\":\"2586\",\"type\":\"GlyphRenderer\"}]},\"id\":\"2582\",\"type\":\"LegendItem\"},{\"attributes\":{\"callback\":null,\"data\":{\"tess\":[275493837,121789795,63007124,275490626,171098535,63210277,351803000,170253623,158791870,164724054,122684770,121457565,273582401,267991320,137218354,184089663,272370950,159172008,121659832,138728898,169460055,169466444,122213500,63209318,120963553,267746802,271165094,27395090,298964604,270608620,185058148,271426791,273687618,272719990,239227465,27186774,271538184,121215119,121939294,352013209,185058255,170344764,378084176,120422997,63075888,270856793,26597576,158412743,121329643,351055098,120890400,137408312,267671733,279916031,271547585,158936101,121939266,239225673,27389081,121785547,138725623],\"x\":[7.0,8.88,2.85,10.69,8.74,12.83,6.72,2.67,6.41,2.81,2.19,10.68,11.96,7.7,3.56,8.6,3.72,11.19,10.5,0.84,3.32,1.54,1.37,12.11,10.51,3.2,11.11,1.18,5.62,1.85,3.83,2.38,2.7,12.12,8.23,3.54,8.01,6.32,11.72,7.97,1.45,12.32,2.78,10.03,1.45,1.68,3.15,0.57,1.18,6.4,2.99,0.96,6.24,7.59,3.91,6.42,1.03,8.52,9.73,9.44,8.54],\"y\":[7.899999999992815,4.349999999996044,2.549999999997681,2.64999999999759,1.0999999999989996,4.799999999995634,2.64999999999759,5.549999999994952,3.699999999996635,6.549999999994043,7.599999999993088,1.0999999999989996,7.8499999999928605,3.2999999999969987,0.8499999999992269,\"NaN\",3.699999999996635,2.749999999997499,2.8999999999973625,0.7999999999992724,8.549999999992224,1.6999999999984539,1.3499999999987722,7.749999999992951,1.9499999999982265,2.1499999999980446,0.949999999999136,1.149999999998954,4.0499999999963165,1.799999999998363,4.0499999999963165,2.399999999997817,13.14999999998804,3.1999999999970896,2.5999999999976353,\"NaN\",1.049999999999045,6.29999999999427,7.39999999999327,1.6999999999984539,1.4499999999986812,3.599999999996726,1.3499999999987722,7.249999999993406,2.8999999999973625,1.6499999999984993,3.4499999999968622,0.5499999999994998,2.549999999997681,4.549999999995862,5.249999999995225,7.9499999999927695,2.64999999999759,\"NaN\",5.799999999994725,6.649999999993952,2.4999999999977263,3.4499999999968622,5.349999999995134,2.849999999997408,8.39999999999236]},\"selected\":{\"id\":\"2580\",\"type\":\"Selection\"},\"selection_policy\":{\"id\":\"2579\",\"type\":\"UnionRenderers\"}},\"id\":\"2516\",\"type\":\"ColumnDataSource\"},{\"attributes\":{},\"id\":\"2540\",\"type\":\"ResetTool\"},{\"attributes\":{},\"id\":\"2578\",\"type\":\"Selection\"},{\"attributes\":{\"data_source\":{\"id\":\"2567\",\"type\":\"ColumnDataSource\"},\"glyph\":{\"id\":\"2568\",\"type\":\"Line\"},\"hover_glyph\":null,\"muted_glyph\":null,\"nonselection_glyph\":{\"id\":\"2569\",\"type\":\"Line\"},\"selection_glyph\":null,\"view\":{\"id\":\"2571\",\"type\":\"CDSView\"}},\"id\":\"2570\",\"type\":\"GlyphRenderer\"},{\"attributes\":{},\"id\":\"2541\",\"type\":\"SaveTool\"},{\"attributes\":{},\"id\":\"2579\",\"type\":\"UnionRenderers\"},{\"attributes\":{\"callback\":null,\"tooltips\":[[\"index\",\"$index\"],[\"(x,y)\",\"($x, $y)\"],[\"TESS\",\"$tess\"]]},\"id\":\"2542\",\"type\":\"HoverTool\"},{\"attributes\":{},\"id\":\"2580\",\"type\":\"Selection\"},{\"attributes\":{\"line_color\":\"lightsteelblue\",\"line_dash\":[4,4],\"line_width\":2,\"x\":{\"field\":\"x\"},\"y\":{\"field\":\"y\"}},\"id\":\"2550\",\"type\":\"Line\"},{\"attributes\":{\"callback\":null},\"id\":\"2520\",\"type\":\"DataRange1d\"},{\"attributes\":{\"line_color\":\"khaki\",\"line_dash\":[2,4],\"x\":{\"field\":\"x\"},\"y\":{\"field\":\"y\"}},\"id\":\"2568\",\"type\":\"Line\"},{\"attributes\":{},\"id\":\"2538\",\"type\":\"PanTool\"},{\"attributes\":{},\"id\":\"2556\",\"type\":\"BasicTickFormatter\"},{\"attributes\":{\"active_drag\":\"auto\",\"active_inspect\":\"auto\",\"active_multi\":null,\"active_scroll\":\"auto\",\"active_tap\":\"auto\",\"tools\":[{\"id\":\"2538\",\"type\":\"PanTool\"},{\"id\":\"2539\",\"type\":\"BoxZoomTool\"},{\"id\":\"2540\",\"type\":\"ResetTool\"},{\"id\":\"2541\",\"type\":\"SaveTool\"},{\"id\":\"2542\",\"type\":\"HoverTool\"}]},\"id\":\"2543\",\"type\":\"Toolbar\"},{\"attributes\":{},\"id\":\"2534\",\"type\":\"BasicTicker\"},{\"attributes\":{\"line_color\":\"khaki\",\"line_dash\":[2,4],\"x\":{\"field\":\"x\"},\"y\":{\"field\":\"y\"}},\"id\":\"2584\",\"type\":\"Line\"},{\"attributes\":{\"line_alpha\":0.1,\"line_color\":\"#1f77b4\",\"line_dash\":[2,4],\"x\":{\"field\":\"x\"},\"y\":{\"field\":\"y\"}},\"id\":\"2585\",\"type\":\"Line\"},{\"attributes\":{\"callback\":null,\"end\":15},\"id\":\"2522\",\"type\":\"Range1d\"},{\"attributes\":{\"fill_alpha\":{\"value\":0.1},\"fill_color\":{\"value\":\"#1f77b4\"},\"line_alpha\":{\"value\":0.1},\"line_color\":{\"value\":\"#1f77b4\"},\"x\":{\"field\":\"x\"},\"y\":{\"field\":\"y\"}},\"id\":\"2564\",\"type\":\"Circle\"},{\"attributes\":{\"axis_label\":\"Exo ACF TESS Period\",\"formatter\":{\"id\":\"2558\",\"type\":\"BasicTickFormatter\"},\"ticker\":{\"id\":\"2534\",\"type\":\"BasicTicker\"}},\"id\":\"2533\",\"type\":\"LinearAxis\"},{\"attributes\":{\"data_source\":{\"id\":\"2583\",\"type\":\"ColumnDataSource\"},\"glyph\":{\"id\":\"2584\",\"type\":\"Line\"},\"hover_glyph\":null,\"muted_glyph\":null,\"nonselection_glyph\":{\"id\":\"2585\",\"type\":\"Line\"},\"selection_glyph\":null,\"view\":{\"id\":\"2587\",\"type\":\"CDSView\"}},\"id\":\"2586\",\"type\":\"GlyphRenderer\"},{\"attributes\":{\"line_alpha\":0.1,\"line_color\":\"#1f77b4\",\"line_dash\":[2,4],\"x\":{\"field\":\"x\"},\"y\":{\"field\":\"y\"}},\"id\":\"2569\",\"type\":\"Line\"},{\"attributes\":{\"items\":[{\"id\":\"2561\",\"type\":\"LegendItem\"},{\"id\":\"2582\",\"type\":\"LegendItem\"}]},\"id\":\"2560\",\"type\":\"Legend\"},{\"attributes\":{\"source\":{\"id\":\"2549\",\"type\":\"ColumnDataSource\"}},\"id\":\"2553\",\"type\":\"CDSView\"},{\"attributes\":{\"callback\":null,\"data\":{\"x\":[7.0,8.88,2.85,10.69,8.74,12.83,6.72,2.67,6.41,2.81,2.19,10.68,11.96,7.7,3.56,8.6,3.72,11.19,10.5,0.84,3.32,1.54,1.37,12.11,10.51,3.2,11.11,1.18,5.62,1.85,3.83,2.38,2.7,12.12,8.23,3.54,8.01,6.32,11.72,7.97,1.45,12.32,2.78,10.03,1.45,1.68,3.15,0.57,1.18,6.4,2.99,0.96,6.24,7.59,3.91,6.42,1.03,8.52,9.73,9.44,8.54],\"y\":[3.5,4.44,1.425,5.345,4.37,6.415,3.36,1.335,3.205,1.405,1.095,5.34,5.98,3.85,1.78,4.3,1.86,5.595,5.25,0.42,1.66,0.77,0.685,6.055,5.255,1.6,5.555,0.59,2.81,0.925,1.915,1.19,1.35,6.06,4.115,1.77,4.005,3.16,5.86,3.985,0.725,6.16,1.39,5.015,0.725,0.84,1.575,0.285,0.59,3.2,1.495,0.48,3.12,3.795,1.955,3.21,0.515,4.26,4.865,4.72,4.27]},\"selected\":{\"id\":\"2598\",\"type\":\"Selection\"},\"selection_policy\":{\"id\":\"2597\",\"type\":\"UnionRenderers\"}},\"id\":\"2567\",\"type\":\"ColumnDataSource\"},{\"attributes\":{\"line_alpha\":0.1,\"line_color\":\"#1f77b4\",\"line_dash\":[4,4],\"line_width\":2,\"x\":{\"field\":\"x\"},\"y\":{\"field\":\"y\"}},\"id\":\"2551\",\"type\":\"Line\"},{\"attributes\":{\"source\":{\"id\":\"2583\",\"type\":\"ColumnDataSource\"}},\"id\":\"2587\",\"type\":\"CDSView\"},{\"attributes\":{},\"id\":\"2712\",\"type\":\"UnionRenderers\"},{\"attributes\":{\"bottom_units\":\"screen\",\"fill_alpha\":{\"value\":0.5},\"fill_color\":{\"value\":\"lightgrey\"},\"left_units\":\"screen\",\"level\":\"overlay\",\"line_alpha\":{\"value\":1.0},\"line_color\":{\"value\":\"black\"},\"line_dash\":[4,4],\"line_width\":{\"value\":2},\"render_mode\":\"css\",\"right_units\":\"screen\",\"top_units\":\"screen\"},\"id\":\"2559\",\"type\":\"BoxAnnotation\"},{\"attributes\":{\"ticker\":{\"id\":\"2529\",\"type\":\"BasicTicker\"}},\"id\":\"2532\",\"type\":\"Grid\"},{\"attributes\":{\"callback\":null,\"data\":{\"x\":[7.0,8.88,2.85,10.69,8.74,12.83,6.72,2.67,6.41,2.81,2.19,10.68,11.96,7.7,3.56,8.6,3.72,11.19,10.5,0.84,3.32,1.54,1.37,12.11,10.51,3.2,11.11,1.18,5.62,1.85,3.83,2.38,2.7,12.12,8.23,3.54,8.01,6.32,11.72,7.97,1.45,12.32,2.78,10.03,1.45,1.68,3.15,0.57,1.18,6.4,2.99,0.96,6.24,7.59,3.91,6.42,1.03,8.52,9.73,9.44,8.54],\"y\":[14.0,17.76,5.7,21.38,17.48,25.66,13.44,5.34,12.82,5.62,4.38,21.36,23.92,15.4,7.12,17.2,7.44,22.38,21.0,1.68,6.64,3.08,2.74,24.22,21.02,6.4,22.22,2.36,11.24,3.7,7.66,4.76,5.4,24.24,16.46,7.08,16.02,12.64,23.44,15.94,2.9,24.64,5.56,20.06,2.9,3.36,6.3,1.14,2.36,12.8,5.98,1.92,12.48,15.18,7.82,12.84,2.06,17.04,19.46,18.88,17.08]},\"selected\":{\"id\":\"2713\",\"type\":\"Selection\"},\"selection_policy\":{\"id\":\"2712\",\"type\":\"UnionRenderers\"}},\"id\":\"2583\",\"type\":\"ColumnDataSource\"},{\"attributes\":{},\"id\":\"2558\",\"type\":\"BasicTickFormatter\"},{\"attributes\":{},\"id\":\"2597\",\"type\":\"UnionRenderers\"},{\"attributes\":{\"source\":{\"id\":\"2516\",\"type\":\"ColumnDataSource\"}},\"id\":\"2566\",\"type\":\"CDSView\"},{\"attributes\":{\"fill_color\":{\"value\":\"mediumvioletred\"},\"line_color\":{\"value\":null},\"x\":{\"field\":\"x\"},\"y\":{\"field\":\"y\"}},\"id\":\"2563\",\"type\":\"Circle\"},{\"attributes\":{},\"id\":\"2526\",\"type\":\"LinearScale\"},{\"attributes\":{\"callback\":null,\"data\":{\"x\":[7.0,8.88,2.85,10.69,8.74,12.83,6.72,2.67,6.41,2.81,2.19,10.68,11.96,7.7,3.56,8.6,3.72,11.19,10.5,0.84,3.32,1.54,1.37,12.11,10.51,3.2,11.11,1.18,5.62,1.85,3.83,2.38,2.7,12.12,8.23,3.54,8.01,6.32,11.72,7.97,1.45,12.32,2.78,10.03,1.45,1.68,3.15,0.57,1.18,6.4,2.99,0.96,6.24,7.59,3.91,6.42,1.03,8.52,9.73,9.44,8.54],\"y\":[7.0,8.88,2.85,10.69,8.74,12.83,6.72,2.67,6.41,2.81,2.19,10.68,11.96,7.7,3.56,8.6,3.72,11.19,10.5,0.84,3.32,1.54,1.37,12.11,10.51,3.2,11.11,1.18,5.62,1.85,3.83,2.38,2.7,12.12,8.23,3.54,8.01,6.32,11.72,7.97,1.45,12.32,2.78,10.03,1.45,1.68,3.15,0.57,1.18,6.4,2.99,0.96,6.24,7.59,3.91,6.42,1.03,8.52,9.73,9.44,8.54]},\"selected\":{\"id\":\"2578\",\"type\":\"Selection\"},\"selection_policy\":{\"id\":\"2577\",\"type\":\"UnionRenderers\"}},\"id\":\"2549\",\"type\":\"ColumnDataSource\"},{\"attributes\":{\"axis_label\":\"McQuillan Period\",\"formatter\":{\"id\":\"2556\",\"type\":\"BasicTickFormatter\"},\"ticker\":{\"id\":\"2529\",\"type\":\"BasicTicker\"}},\"id\":\"2528\",\"type\":\"LinearAxis\"},{\"attributes\":{},\"id\":\"2598\",\"type\":\"Selection\"},{\"attributes\":{},\"id\":\"2524\",\"type\":\"LinearScale\"},{\"attributes\":{\"data_source\":{\"id\":\"2549\",\"type\":\"ColumnDataSource\"},\"glyph\":{\"id\":\"2550\",\"type\":\"Line\"},\"hover_glyph\":null,\"muted_glyph\":null,\"name\":\"y=x\",\"nonselection_glyph\":{\"id\":\"2551\",\"type\":\"Line\"},\"selection_glyph\":null,\"view\":{\"id\":\"2553\",\"type\":\"CDSView\"}},\"id\":\"2552\",\"type\":\"GlyphRenderer\"}],\"root_ids\":[\"2517\"]},\"title\":\"Bokeh Application\",\"version\":\"1.3.4\"}};\n",
       "  var render_items = [{\"docid\":\"ac14bcfd-84e9-4c2c-8be3-d87fa0ef9b56\",\"roots\":{\"2517\":\"fd721814-aa2f-49f0-ae07-fa1a352e0459\"}}];\n",
       "  root.Bokeh.embed.embed_items_notebook(docs_json, render_items);\n",
       "\n",
       "  }\n",
       "  if (root.Bokeh !== undefined) {\n",
       "    embed_document(root);\n",
       "  } else {\n",
       "    var attempts = 0;\n",
       "    var timer = setInterval(function(root) {\n",
       "      if (root.Bokeh !== undefined) {\n",
       "        embed_document(root);\n",
       "        clearInterval(timer);\n",
       "      }\n",
       "      attempts++;\n",
       "      if (attempts > 100) {\n",
       "        console.log(\"Bokeh: ERROR: Unable to run BokehJS code because BokehJS library is missing\");\n",
       "        clearInterval(timer);\n",
       "      }\n",
       "    }, 10, root)\n",
       "  }\n",
       "})(window);"
      ],
      "application/vnd.bokehjs_exec.v0+json": ""
     },
     "metadata": {
      "application/vnd.bokehjs_exec.v0+json": {
       "id": "2517"
      }
     },
     "output_type": "display_data"
    }
   ],
   "source": [
    "x =  short_periods[0:61]\n",
    "y = exo_periods_resid\n",
    "\n",
    "source = ColumnDataSource(data=dict(\n",
    "    x =  short_periods[0:61],\n",
    "    y = exo_periods_resid, \n",
    "    tess = (cat['tic_id'])[0:61]))\n",
    "\n",
    "x2 = [i*2 for i in x]\n",
    "x_half = [float(i)*0.5 for i in x]\n",
    "\n",
    "exo_plot = figure(\n",
    "   tools=\"pan,box_zoom,reset,save,hover\",\n",
    "   y_range=[0, 15], title=\"Exoplanet ACF TESS Periods from Flux with Trends Removed\",\n",
    "   x_axis_label='McQuillan Period', y_axis_label='Exo ACF TESS Period', plot_width=900)\n",
    "\n",
    "exo_plot.line(x, x, name = \"y=x\", color = 'lightsteelblue', line_dash=\"4 4\", legend = \"y=x\", line_width = 2)\n",
    "exo_plot.circle('x', 'y', source = source, color=\"mediumvioletred\", line_color=None)\n",
    "exo_plot.line(x, x_half, legend=\"y=2x\", line_width=1, color = 'khaki', line_dash=\"dotted\")\n",
    "exo_plot.line(x, x2, legend=\"y=2x\", line_width=1, color = 'khaki', line_dash=\"dotted\")\n",
    "\n",
    "exo_plot.hover.tooltips = [\n",
    "    (\"index\", \"$index\"), \n",
    "    (\"(x,y)\", \"($x, $y)\"), \n",
    "    (\"TESS\", \"$tess\")] \n",
    "\n",
    "show(exo_plot)"
   ]
  },
  {
   "cell_type": "code",
   "execution_count": 28,
   "metadata": {},
   "outputs": [],
   "source": [
    "exo_resid_periods = []\n",
    "for each, value in enumerate(exo_periods_resid): \n",
    "    if value == 'NaN':\n",
    "        exo_resid_periods.append(0)\n",
    "    else: \n",
    "        exo_resid_periods.append(value)"
   ]
  },
  {
   "cell_type": "code",
   "execution_count": 29,
   "metadata": {},
   "outputs": [],
   "source": [
    "exo_error_std = np.std(exo_resid_periods)"
   ]
  },
  {
   "cell_type": "code",
   "execution_count": 30,
   "metadata": {},
   "outputs": [
    {
     "data": {
      "text/html": [
       "\n",
       "\n",
       "\n",
       "\n",
       "\n",
       "\n",
       "  <div class=\"bk-root\" id=\"78c162e8-1a37-4b50-9966-7d3b0b63c38e\" data-root-id=\"2799\"></div>\n"
      ]
     },
     "metadata": {},
     "output_type": "display_data"
    },
    {
     "data": {
      "application/javascript": [
       "(function(root) {\n",
       "  function embed_document(root) {\n",
       "    \n",
       "  var docs_json = {\"7096943f-25e2-410a-bdeb-b918e708d018\":{\"roots\":{\"references\":[{\"attributes\":{\"below\":[{\"id\":\"2810\",\"type\":\"LinearAxis\"}],\"center\":[{\"id\":\"2814\",\"type\":\"Grid\"},{\"id\":\"2819\",\"type\":\"Grid\"},{\"id\":\"2832\",\"type\":\"Whisker\"},{\"id\":\"2856\",\"type\":\"Legend\"}],\"left\":[{\"id\":\"2815\",\"type\":\"LinearAxis\"}],\"plot_width\":900,\"renderers\":[{\"id\":\"2837\",\"type\":\"GlyphRenderer\"},{\"id\":\"2842\",\"type\":\"GlyphRenderer\"},{\"id\":\"2861\",\"type\":\"GlyphRenderer\"},{\"id\":\"2880\",\"type\":\"GlyphRenderer\"}],\"title\":{\"id\":\"2800\",\"type\":\"Title\"},\"toolbar\":{\"id\":\"2825\",\"type\":\"Toolbar\"},\"x_range\":{\"id\":\"2802\",\"type\":\"DataRange1d\"},\"x_scale\":{\"id\":\"2806\",\"type\":\"LinearScale\"},\"y_range\":{\"id\":\"2804\",\"type\":\"Range1d\"},\"y_scale\":{\"id\":\"2808\",\"type\":\"LinearScale\"}},\"id\":\"2799\",\"subtype\":\"Figure\",\"type\":\"Plot\"},{\"attributes\":{\"overlay\":{\"id\":\"2855\",\"type\":\"BoxAnnotation\"}},\"id\":\"2821\",\"type\":\"BoxZoomTool\"},{\"attributes\":{\"callback\":null,\"end\":15,\"start\":-2},\"id\":\"2804\",\"type\":\"Range1d\"},{\"attributes\":{},\"id\":\"2808\",\"type\":\"LinearScale\"},{\"attributes\":{\"label\":{\"value\":\"y=2x\"},\"renderers\":[{\"id\":\"2842\",\"type\":\"GlyphRenderer\"},{\"id\":\"2861\",\"type\":\"GlyphRenderer\"}]},\"id\":\"2857\",\"type\":\"LegendItem\"},{\"attributes\":{},\"id\":\"3026\",\"type\":\"UnionRenderers\"},{\"attributes\":{\"callback\":null,\"data\":{\"x\":[7.0,8.88,2.85,10.69,8.74,12.83,6.72,2.67,6.41,2.81,2.19,10.68,11.96,7.7,3.56,8.6,3.72,11.19,10.5,0.84,3.32,1.54,1.37,12.11,10.51,3.2,11.11,1.18,5.62,1.85,3.83,2.38,2.7,12.12,8.23,3.54,8.01,6.32,11.72,7.97,1.45,12.32,2.78,10.03,1.45,1.68,3.15,0.57,1.18,6.4,2.99,0.96,6.24,7.59,3.91,6.42,1.03,8.52,9.73,9.44,8.54],\"y\":[14.0,17.76,5.7,21.38,17.48,25.66,13.44,5.34,12.82,5.62,4.38,21.36,23.92,15.4,7.12,17.2,7.44,22.38,21.0,1.68,6.64,3.08,2.74,24.22,21.02,6.4,22.22,2.36,11.24,3.7,7.66,4.76,5.4,24.24,16.46,7.08,16.02,12.64,23.44,15.94,2.9,24.64,5.56,20.06,2.9,3.36,6.3,1.14,2.36,12.8,5.98,1.92,12.48,15.18,7.82,12.84,2.06,17.04,19.46,18.88,17.08]},\"selected\":{\"id\":\"2894\",\"type\":\"Selection\"},\"selection_policy\":{\"id\":\"2893\",\"type\":\"UnionRenderers\"}},\"id\":\"2858\",\"type\":\"ColumnDataSource\"},{\"attributes\":{\"callback\":null,\"data\":{\"x\":[7.0,8.88,2.85,10.69,8.74,12.83,6.72,2.67,6.41,2.81,2.19,10.68,11.96,7.7,3.56,8.6,3.72,11.19,10.5,0.84,3.32,1.54,1.37,12.11,10.51,3.2,11.11,1.18,5.62,1.85,3.83,2.38,2.7,12.12,8.23,3.54,8.01,6.32,11.72,7.97,1.45,12.32,2.78,10.03,1.45,1.68,3.15,0.57,1.18,6.4,2.99,0.96,6.24,7.59,3.91,6.42,1.03,8.52,9.73,9.44,8.54],\"y\":[7.0,8.88,2.85,10.69,8.74,12.83,6.72,2.67,6.41,2.81,2.19,10.68,11.96,7.7,3.56,8.6,3.72,11.19,10.5,0.84,3.32,1.54,1.37,12.11,10.51,3.2,11.11,1.18,5.62,1.85,3.83,2.38,2.7,12.12,8.23,3.54,8.01,6.32,11.72,7.97,1.45,12.32,2.78,10.03,1.45,1.68,3.15,0.57,1.18,6.4,2.99,0.96,6.24,7.59,3.91,6.42,1.03,8.52,9.73,9.44,8.54]},\"selected\":{\"id\":\"3027\",\"type\":\"Selection\"},\"selection_policy\":{\"id\":\"3026\",\"type\":\"UnionRenderers\"}},\"id\":\"2877\",\"type\":\"ColumnDataSource\"},{\"attributes\":{\"line_color\":\"plum\",\"line_dash\":[4,4],\"line_width\":2,\"x\":{\"field\":\"x\"},\"y\":{\"field\":\"y\"}},\"id\":\"2878\",\"type\":\"Line\"},{\"attributes\":{},\"id\":\"2806\",\"type\":\"LinearScale\"},{\"attributes\":{\"callback\":null,\"data\":{\"x\":[7.0,8.88,2.85,10.69,8.74,12.83,6.72,2.67,6.41,2.81,2.19,10.68,11.96,7.7,3.56,8.6,3.72,11.19,10.5,0.84,3.32,1.54,1.37,12.11,10.51,3.2,11.11,1.18,5.62,1.85,3.83,2.38,2.7,12.12,8.23,3.54,8.01,6.32,11.72,7.97,1.45,12.32,2.78,10.03,1.45,1.68,3.15,0.57,1.18,6.4,2.99,0.96,6.24,7.59,3.91,6.42,1.03,8.52,9.73,9.44,8.54],\"y\":[3.5,4.44,1.425,5.345,4.37,6.415,3.36,1.335,3.205,1.405,1.095,5.34,5.98,3.85,1.78,4.3,1.86,5.595,5.25,0.42,1.66,0.77,0.685,6.055,5.255,1.6,5.555,0.59,2.81,0.925,1.915,1.19,1.35,6.06,4.115,1.77,4.005,3.16,5.86,3.985,0.725,6.16,1.39,5.015,0.725,0.84,1.575,0.285,0.59,3.2,1.495,0.48,3.12,3.795,1.955,3.21,0.515,4.26,4.865,4.72,4.27]},\"selected\":{\"id\":\"2873\",\"type\":\"Selection\"},\"selection_policy\":{\"id\":\"2872\",\"type\":\"UnionRenderers\"}},\"id\":\"2839\",\"type\":\"ColumnDataSource\"},{\"attributes\":{},\"id\":\"2811\",\"type\":\"BasicTicker\"},{\"attributes\":{\"axis_label\":\"McQuillan Period\",\"formatter\":{\"id\":\"2848\",\"type\":\"BasicTickFormatter\"},\"ticker\":{\"id\":\"2811\",\"type\":\"BasicTicker\"}},\"id\":\"2810\",\"type\":\"LinearAxis\"},{\"attributes\":{\"line_alpha\":0.1,\"line_color\":\"#1f77b4\",\"line_dash\":[2,4],\"x\":{\"field\":\"x\"},\"y\":{\"field\":\"y\"}},\"id\":\"2860\",\"type\":\"Line\"},{\"attributes\":{\"data_source\":{\"id\":\"2516\",\"type\":\"ColumnDataSource\"},\"glyph\":{\"id\":\"2835\",\"type\":\"Circle\"},\"hover_glyph\":null,\"muted_glyph\":null,\"nonselection_glyph\":{\"id\":\"2836\",\"type\":\"Circle\"},\"selection_glyph\":null,\"view\":{\"id\":\"2838\",\"type\":\"CDSView\"}},\"id\":\"2837\",\"type\":\"GlyphRenderer\"},{\"attributes\":{\"data_source\":{\"id\":\"2858\",\"type\":\"ColumnDataSource\"},\"glyph\":{\"id\":\"2859\",\"type\":\"Line\"},\"hover_glyph\":null,\"muted_glyph\":null,\"nonselection_glyph\":{\"id\":\"2860\",\"type\":\"Line\"},\"selection_glyph\":null,\"view\":{\"id\":\"2862\",\"type\":\"CDSView\"}},\"id\":\"2861\",\"type\":\"GlyphRenderer\"},{\"attributes\":{\"callback\":null,\"data\":{\"tess\":[275493837,121789795,63007124,275490626,171098535,63210277,351803000,170253623,158791870,164724054,122684770,121457565,273582401,267991320,137218354,184089663,272370950,159172008,121659832,138728898,169460055,169466444,122213500,63209318,120963553,267746802,271165094,27395090,298964604,270608620,185058148,271426791,273687618,272719990,239227465,27186774,271538184,121215119,121939294,352013209,185058255,170344764,378084176,120422997,63075888,270856793,26597576,158412743,121329643,351055098,120890400,137408312,267671733,279916031,271547585,158936101,121939266,239225673,27389081,121785547,138725623],\"x\":[7.0,8.88,2.85,10.69,8.74,12.83,6.72,2.67,6.41,2.81,2.19,10.68,11.96,7.7,3.56,8.6,3.72,11.19,10.5,0.84,3.32,1.54,1.37,12.11,10.51,3.2,11.11,1.18,5.62,1.85,3.83,2.38,2.7,12.12,8.23,3.54,8.01,6.32,11.72,7.97,1.45,12.32,2.78,10.03,1.45,1.68,3.15,0.57,1.18,6.4,2.99,0.96,6.24,7.59,3.91,6.42,1.03,8.52,9.73,9.44,8.54],\"y\":[7.899999999992815,4.349999999996044,2.549999999997681,2.64999999999759,1.0999999999989996,4.799999999995634,2.64999999999759,5.549999999994952,3.699999999996635,6.549999999994043,7.599999999993088,1.0999999999989996,7.8499999999928605,3.2999999999969987,0.8499999999992269,\"NaN\",3.699999999996635,2.749999999997499,2.8999999999973625,0.7999999999992724,8.549999999992224,1.6999999999984539,1.3499999999987722,7.749999999992951,1.9499999999982265,2.1499999999980446,0.949999999999136,1.149999999998954,4.0499999999963165,1.799999999998363,4.0499999999963165,2.399999999997817,13.14999999998804,3.1999999999970896,2.5999999999976353,\"NaN\",1.049999999999045,6.29999999999427,7.39999999999327,1.6999999999984539,1.4499999999986812,3.599999999996726,1.3499999999987722,7.249999999993406,2.8999999999973625,1.6499999999984993,3.4499999999968622,0.5499999999994998,2.549999999997681,4.549999999995862,5.249999999995225,7.9499999999927695,2.64999999999759,\"NaN\",5.799999999994725,6.649999999993952,2.4999999999977263,3.4499999999968622,5.349999999995134,2.849999999997408,8.39999999999236]},\"selected\":{\"id\":\"2580\",\"type\":\"Selection\"},\"selection_policy\":{\"id\":\"2579\",\"type\":\"UnionRenderers\"}},\"id\":\"2516\",\"type\":\"ColumnDataSource\"},{\"attributes\":{\"line_color\":\"khaki\",\"line_dash\":[2,4],\"x\":{\"field\":\"x\"},\"y\":{\"field\":\"y\"}},\"id\":\"2840\",\"type\":\"Line\"},{\"attributes\":{\"source\":{\"id\":\"2858\",\"type\":\"ColumnDataSource\"}},\"id\":\"2862\",\"type\":\"CDSView\"},{\"attributes\":{\"line_color\":\"khaki\",\"line_dash\":[2,4],\"x\":{\"field\":\"x\"},\"y\":{\"field\":\"y\"}},\"id\":\"2859\",\"type\":\"Line\"},{\"attributes\":{\"line_alpha\":0.1,\"line_color\":\"#1f77b4\",\"line_dash\":[2,4],\"x\":{\"field\":\"x\"},\"y\":{\"field\":\"y\"}},\"id\":\"2841\",\"type\":\"Line\"},{\"attributes\":{\"callback\":null},\"id\":\"2824\",\"type\":\"HoverTool\"},{\"attributes\":{},\"id\":\"2579\",\"type\":\"UnionRenderers\"},{\"attributes\":{\"data_source\":{\"id\":\"2839\",\"type\":\"ColumnDataSource\"},\"glyph\":{\"id\":\"2840\",\"type\":\"Line\"},\"hover_glyph\":null,\"muted_glyph\":null,\"nonselection_glyph\":{\"id\":\"2841\",\"type\":\"Line\"},\"selection_glyph\":null,\"view\":{\"id\":\"2843\",\"type\":\"CDSView\"}},\"id\":\"2842\",\"type\":\"GlyphRenderer\"},{\"attributes\":{},\"id\":\"2823\",\"type\":\"SaveTool\"},{\"attributes\":{},\"id\":\"2580\",\"type\":\"Selection\"},{\"attributes\":{},\"id\":\"2873\",\"type\":\"Selection\"},{\"attributes\":{\"dimension\":1,\"ticker\":{\"id\":\"2816\",\"type\":\"BasicTicker\"}},\"id\":\"2819\",\"type\":\"Grid\"},{\"attributes\":{},\"id\":\"2872\",\"type\":\"UnionRenderers\"},{\"attributes\":{\"bottom_units\":\"screen\",\"fill_alpha\":{\"value\":0.5},\"fill_color\":{\"value\":\"lightgrey\"},\"left_units\":\"screen\",\"level\":\"overlay\",\"line_alpha\":{\"value\":1.0},\"line_color\":{\"value\":\"black\"},\"line_dash\":[4,4],\"line_width\":{\"value\":2},\"render_mode\":\"css\",\"right_units\":\"screen\",\"top_units\":\"screen\"},\"id\":\"2855\",\"type\":\"BoxAnnotation\"},{\"attributes\":{\"fill_color\":{\"value\":\"mediumvioletred\"},\"line_color\":{\"value\":null},\"x\":{\"field\":\"x\"},\"y\":{\"field\":\"y\"}},\"id\":\"2835\",\"type\":\"Circle\"},{\"attributes\":{\"source\":{\"id\":\"2839\",\"type\":\"ColumnDataSource\"}},\"id\":\"2843\",\"type\":\"CDSView\"},{\"attributes\":{},\"id\":\"2893\",\"type\":\"UnionRenderers\"},{\"attributes\":{\"line_alpha\":0.1,\"line_color\":\"#1f77b4\",\"line_dash\":[4,4],\"line_width\":2,\"x\":{\"field\":\"x\"},\"y\":{\"field\":\"y\"}},\"id\":\"2879\",\"type\":\"Line\"},{\"attributes\":{},\"id\":\"2848\",\"type\":\"BasicTickFormatter\"},{\"attributes\":{\"active_drag\":\"auto\",\"active_inspect\":\"auto\",\"active_multi\":null,\"active_scroll\":\"auto\",\"active_tap\":\"auto\",\"tools\":[{\"id\":\"2820\",\"type\":\"PanTool\"},{\"id\":\"2821\",\"type\":\"BoxZoomTool\"},{\"id\":\"2822\",\"type\":\"ResetTool\"},{\"id\":\"2823\",\"type\":\"SaveTool\"},{\"id\":\"2824\",\"type\":\"HoverTool\"}]},\"id\":\"2825\",\"type\":\"Toolbar\"},{\"attributes\":{\"source\":{\"id\":\"2877\",\"type\":\"ColumnDataSource\"}},\"id\":\"2881\",\"type\":\"CDSView\"},{\"attributes\":{\"level\":\"underlay\",\"size\":10},\"id\":\"2845\",\"type\":\"TeeHead\"},{\"attributes\":{},\"id\":\"2822\",\"type\":\"ResetTool\"},{\"attributes\":{\"items\":[{\"id\":\"2857\",\"type\":\"LegendItem\"},{\"id\":\"2898\",\"type\":\"LegendItem\"}]},\"id\":\"2856\",\"type\":\"Legend\"},{\"attributes\":{},\"id\":\"2816\",\"type\":\"BasicTicker\"},{\"attributes\":{\"level\":\"underlay\",\"size\":10},\"id\":\"2846\",\"type\":\"TeeHead\"},{\"attributes\":{},\"id\":\"2894\",\"type\":\"Selection\"},{\"attributes\":{\"source\":{\"id\":\"2516\",\"type\":\"ColumnDataSource\"}},\"id\":\"2838\",\"type\":\"CDSView\"},{\"attributes\":{\"ticker\":{\"id\":\"2811\",\"type\":\"BasicTicker\"}},\"id\":\"2814\",\"type\":\"Grid\"},{\"attributes\":{\"data_source\":{\"id\":\"2877\",\"type\":\"ColumnDataSource\"},\"glyph\":{\"id\":\"2878\",\"type\":\"Line\"},\"hover_glyph\":null,\"muted_glyph\":null,\"name\":\"y=x\",\"nonselection_glyph\":{\"id\":\"2879\",\"type\":\"Line\"},\"selection_glyph\":null,\"view\":{\"id\":\"2881\",\"type\":\"CDSView\"}},\"id\":\"2880\",\"type\":\"GlyphRenderer\"},{\"attributes\":{\"fill_alpha\":{\"value\":0.1},\"fill_color\":{\"value\":\"#1f77b4\"},\"line_alpha\":{\"value\":0.1},\"line_color\":{\"value\":\"#1f77b4\"},\"x\":{\"field\":\"x\"},\"y\":{\"field\":\"y\"}},\"id\":\"2836\",\"type\":\"Circle\"},{\"attributes\":{\"axis_label\":\"Exo ACF Period\",\"formatter\":{\"id\":\"2850\",\"type\":\"BasicTickFormatter\"},\"ticker\":{\"id\":\"2816\",\"type\":\"BasicTicker\"}},\"id\":\"2815\",\"type\":\"LinearAxis\"},{\"attributes\":{\"callback\":null,\"data\":{\"base\":[7.0,8.88,2.85,10.69,8.74,12.83,6.72,2.67,6.41,2.81,2.19,10.68,11.96,7.7,3.56,8.6,3.72,11.19,10.5,0.84,3.32,1.54,1.37,12.11,10.51,3.2,11.11,1.18,5.62,1.85,3.83,2.38,2.7,12.12,8.23,3.54,8.01,6.32,11.72,7.97,1.45,12.32,2.78,10.03,1.45,1.68,3.15,0.57,1.18,6.4,2.99,0.96,6.24,7.59,3.91,6.42,1.03,8.52,9.73,9.44,8.54],\"lower\":[5.219941608769117,1.6699416087723464,-0.13005839122601648,-0.030058391226107428,-1.5800583912246977,2.119941608771937,-0.030058391226107428,2.869941608771255,1.0199416087729376,3.8699416087703455,4.91994160876939,-1.5800583912246977,5.169941608769163,0.6199416087733014,-1.8300583912244703,-2.6800583912236973,1.0199416087729376,0.06994160877380162,0.2199416087736652,-1.8800583912244249,5.869941608768526,-0.9800583912252434,-1.330058391224925,5.069941608769254,-0.7300583912254708,-0.5300583912256527,-1.7300583912245613,-1.5300583912247432,1.3699416087726193,-0.8800583912253344,1.3699416087726193,-0.28005839122588005,10.469941608764342,0.5199416087733923,-0.08005839122606195,-2.6800583912236973,-1.6300583912246522,3.619941608770573,4.719941608769572,-0.9800583912252434,-1.230058391225016,0.9199416087730286,-1.330058391224925,4.5699416087697085,0.2199416087736652,-1.030058391225198,0.769941608773165,-2.1300583912241975,-0.13005839122601648,1.8699416087721645,2.569941608771528,5.269941608769072,-0.030058391226107428,-2.6800583912236973,3.1199416087710277,3.9699416087702546,-0.180058391225971,0.769941608773165,2.669941608771437,0.16994160877371067,5.7199416087686625],\"upper\":[10.580058391216513,7.030058391219741,5.2300583912213785,5.3300583912212876,3.780058391222697,7.480058391219332,5.3300583912212876,8.23005839121865,6.380058391220333,9.23005839121774,10.280058391216786,3.780058391222697,10.530058391216558,5.980058391220696,3.530058391222924,2.6800583912236973,6.380058391220333,5.430058391221197,5.58005839122106,3.4800583912229697,11.230058391215922,4.380058391222152,4.03005839122247,10.43005839121665,4.630058391221924,4.830058391221742,3.6300583912228332,3.8300583912226513,6.730058391220014,4.480058391222061,6.730058391220014,5.080058391221515,15.830058391211738,5.880058391220787,5.280058391221333,2.6800583912236973,3.7300583912227423,8.980058391217968,10.080058391216967,4.380058391222152,4.130058391222379,6.2800583912204235,4.03005839122247,9.930058391217104,5.58005839122106,4.330058391222197,6.13005839122056,3.230058391223197,5.2300583912213785,7.2300583912195595,7.930058391218923,10.630058391216467,5.3300583912212876,2.6800583912236973,8.480058391218423,9.33005839121765,5.180058391221424,6.13005839122056,8.030058391218832,5.530058391221106,11.080058391216058]},\"selected\":{\"id\":\"2854\",\"type\":\"Selection\"},\"selection_policy\":{\"id\":\"2853\",\"type\":\"UnionRenderers\"}},\"id\":\"2831\",\"type\":\"ColumnDataSource\"},{\"attributes\":{},\"id\":\"2853\",\"type\":\"UnionRenderers\"},{\"attributes\":{},\"id\":\"2820\",\"type\":\"PanTool\"},{\"attributes\":{\"base\":{\"field\":\"base\",\"units\":\"data\"},\"line_color\":{\"value\":\"lightsteelblue\"},\"lower\":{\"field\":\"lower\",\"units\":\"data\"},\"lower_head\":{\"id\":\"2845\",\"type\":\"TeeHead\"},\"source\":{\"id\":\"2831\",\"type\":\"ColumnDataSource\"},\"upper\":{\"field\":\"upper\",\"units\":\"data\"},\"upper_head\":{\"id\":\"2846\",\"type\":\"TeeHead\"}},\"id\":\"2832\",\"type\":\"Whisker\"},{\"attributes\":{\"label\":{\"value\":\"y=x\"},\"renderers\":[{\"id\":\"2880\",\"type\":\"GlyphRenderer\"}]},\"id\":\"2898\",\"type\":\"LegendItem\"},{\"attributes\":{},\"id\":\"2850\",\"type\":\"BasicTickFormatter\"},{\"attributes\":{\"text\":\"Exo ACF Periods from Flux with Trends Removed\"},\"id\":\"2800\",\"type\":\"Title\"},{\"attributes\":{},\"id\":\"2854\",\"type\":\"Selection\"},{\"attributes\":{},\"id\":\"3027\",\"type\":\"Selection\"},{\"attributes\":{\"callback\":null},\"id\":\"2802\",\"type\":\"DataRange1d\"}],\"root_ids\":[\"2799\"]},\"title\":\"Bokeh Application\",\"version\":\"1.3.4\"}};\n",
       "  var render_items = [{\"docid\":\"7096943f-25e2-410a-bdeb-b918e708d018\",\"roots\":{\"2799\":\"78c162e8-1a37-4b50-9966-7d3b0b63c38e\"}}];\n",
       "  root.Bokeh.embed.embed_items_notebook(docs_json, render_items);\n",
       "\n",
       "  }\n",
       "  if (root.Bokeh !== undefined) {\n",
       "    embed_document(root);\n",
       "  } else {\n",
       "    var attempts = 0;\n",
       "    var timer = setInterval(function(root) {\n",
       "      if (root.Bokeh !== undefined) {\n",
       "        embed_document(root);\n",
       "        clearInterval(timer);\n",
       "      }\n",
       "      attempts++;\n",
       "      if (attempts > 100) {\n",
       "        console.log(\"Bokeh: ERROR: Unable to run BokehJS code because BokehJS library is missing\");\n",
       "        clearInterval(timer);\n",
       "      }\n",
       "    }, 10, root)\n",
       "  }\n",
       "})(window);"
      ],
      "application/vnd.bokehjs_exec.v0+json": ""
     },
     "metadata": {
      "application/vnd.bokehjs_exec.v0+json": {
       "id": "2799"
      }
     },
     "output_type": "display_data"
    }
   ],
   "source": [
    "p_ex = figure(plot_width=900, plot_height=600, tools=\"pan,box_zoom,reset,save,hover\",\n",
    "   y_range=[-2, 15], title=\"Exo ACF Periods from Flux with Trends Removed\",\n",
    "   x_axis_label='McQuillan Period', y_axis_label='Exo ACF Period')\n",
    "\n",
    "base, lower, upper = [], [], []\n",
    "\n",
    "y = exo_resid_periods\n",
    "x = short_periods[0:61]\n",
    "\n",
    "x2 = [i*2 for i in x]\n",
    "x_half = [float(i)*0.5 for i in x]\n",
    "\n",
    "for i, per in enumerate(exo_resid_periods):\n",
    "    lower.append(per - exo_error_std)\n",
    "    upper.append(per + exo_error_std)\n",
    "    base.append(short_periods[i])\n",
    "    \n",
    "source_error = ColumnDataSource(data=dict(base=base, lower=lower, upper=upper))\n",
    "\n",
    "p_ex.add_layout(\n",
    "    Whisker(source=source_error, base=\"base\", upper=\"upper\", lower=\"lower\", line_color = 'lightsteelblue')\n",
    ")\n",
    "\n",
    "p_ex.circle(x = 'x', y = 'y', source = source, color=\"mediumvioletred\", line_color=None)\n",
    "p_ex.line(x, x_half, legend=\"y=2x\", line_width=1, color = 'khaki', line_dash=\"dotted\")\n",
    "p_ex.line(x, x2, legend=\"y=2x\", line_width=1, color = 'khaki', line_dash=\"dotted\")\n",
    "p_ex.line(x, x, name = \"y=x\", color = 'plum', line_dash=\"4 4\", legend = \"y=x\", line_width = 2)\n",
    "\n",
    "\n",
    "\n",
    "show(p_ex)"
   ]
  },
  {
   "cell_type": "code",
   "execution_count": 31,
   "metadata": {},
   "outputs": [
    {
     "data": {
      "text/html": [
       "\n",
       "\n",
       "\n",
       "\n",
       "\n",
       "\n",
       "  <div class=\"bk-root\" id=\"2c739771-ef06-4baa-ac2e-39f07314830b\" data-root-id=\"3139\"></div>\n"
      ]
     },
     "metadata": {},
     "output_type": "display_data"
    },
    {
     "data": {
      "application/javascript": [
       "(function(root) {\n",
       "  function embed_document(root) {\n",
       "    \n",
       "  var docs_json = {\"c8fa76fc-2ec3-4945-9397-f31fec4baeb2\":{\"roots\":{\"references\":[{\"attributes\":{\"below\":[{\"id\":\"3150\",\"type\":\"LinearAxis\"}],\"center\":[{\"id\":\"3154\",\"type\":\"Grid\"},{\"id\":\"3159\",\"type\":\"Grid\"},{\"id\":\"3173\",\"type\":\"Whisker\"},{\"id\":\"3197\",\"type\":\"Legend\"}],\"left\":[{\"id\":\"3155\",\"type\":\"LinearAxis\"}],\"plot_width\":900,\"renderers\":[{\"id\":\"3178\",\"type\":\"GlyphRenderer\"},{\"id\":\"3183\",\"type\":\"GlyphRenderer\"},{\"id\":\"3202\",\"type\":\"GlyphRenderer\"},{\"id\":\"3221\",\"type\":\"GlyphRenderer\"}],\"title\":{\"id\":\"3140\",\"type\":\"Title\"},\"toolbar\":{\"id\":\"3165\",\"type\":\"Toolbar\"},\"x_range\":{\"id\":\"3142\",\"type\":\"DataRange1d\"},\"x_scale\":{\"id\":\"3146\",\"type\":\"LinearScale\"},\"y_range\":{\"id\":\"3144\",\"type\":\"Range1d\"},\"y_scale\":{\"id\":\"3148\",\"type\":\"LinearScale\"}},\"id\":\"3139\",\"subtype\":\"Figure\",\"type\":\"Plot\"},{\"attributes\":{},\"id\":\"3189\",\"type\":\"BasicTickFormatter\"},{\"attributes\":{\"level\":\"underlay\",\"size\":10},\"id\":\"3186\",\"type\":\"TeeHead\"},{\"attributes\":{},\"id\":\"3213\",\"type\":\"UnionRenderers\"},{\"attributes\":{\"items\":[{\"id\":\"3198\",\"type\":\"LegendItem\"},{\"id\":\"3239\",\"type\":\"LegendItem\"}]},\"id\":\"3197\",\"type\":\"Legend\"},{\"attributes\":{},\"id\":\"3162\",\"type\":\"ResetTool\"},{\"attributes\":{},\"id\":\"3214\",\"type\":\"Selection\"},{\"attributes\":{\"callback\":null,\"data\":{\"x\":[7.0,8.88,2.85,10.69,8.74,12.83,6.72,2.67,6.41,2.81,2.19,10.68,11.96,7.7,3.56,8.6,3.72,11.19,10.5,0.84,3.32,1.54,1.37,12.11,10.51,3.2,11.11,1.18,5.62,1.85,3.83,2.38,2.7,12.12,8.23,3.54,8.01,6.32,11.72,7.97,1.45,12.32,2.78,10.03,1.45,1.68,3.15,0.57,1.18,6.4,2.99,0.96,6.24,7.59,3.91,6.42,1.03,8.52],\"y\":[7.899999999992815,4.349999999996044,2.549999999997681,2.64999999999759,1.0999999999989996,4.799999999995634,2.64999999999759,5.549999999994952,3.699999999996635,6.549999999994043,7.599999999993088,1.0999999999989996,7.8499999999928605,3.2999999999969987,0.8499999999992269,0,3.699999999996635,2.749999999997499,2.8999999999973625,0.7999999999992724,8.549999999992224,1.6999999999984539,1.3499999999987722,7.749999999992951,1.9499999999982265,2.1499999999980446,0.949999999999136,1.149999999998954,4.0499999999963165,1.799999999998363,4.0499999999963165,2.399999999997817,13.14999999998804,3.1999999999970896,2.5999999999976353,0,1.049999999999045,6.29999999999427,7.39999999999327,1.6999999999984539,1.4499999999986812,3.599999999996726,1.3499999999987722,7.249999999993406,2.8999999999973625,1.6499999999984993,3.4499999999968622,0.5499999999994998,2.549999999997681,4.549999999995862,5.249999999995225,7.9499999999927695,2.64999999999759,0,5.799999999994725,6.649999999993952,2.4999999999977263,3.4499999999968622]},\"selected\":{\"id\":\"3193\",\"type\":\"Selection\"},\"selection_policy\":{\"id\":\"3192\",\"type\":\"UnionRenderers\"}},\"id\":\"3171\",\"type\":\"ColumnDataSource\"},{\"attributes\":{\"level\":\"underlay\",\"size\":10},\"id\":\"3187\",\"type\":\"TeeHead\"},{\"attributes\":{},\"id\":\"3163\",\"type\":\"SaveTool\"},{\"attributes\":{},\"id\":\"3192\",\"type\":\"UnionRenderers\"},{\"attributes\":{\"ticker\":{\"id\":\"3151\",\"type\":\"BasicTicker\"}},\"id\":\"3154\",\"type\":\"Grid\"},{\"attributes\":{\"line_alpha\":0.1,\"line_color\":\"#1f77b4\",\"line_dash\":[4,4],\"line_width\":2,\"x\":{\"field\":\"x\"},\"y\":{\"field\":\"y\"}},\"id\":\"3220\",\"type\":\"Line\"},{\"attributes\":{\"callback\":null},\"id\":\"3164\",\"type\":\"HoverTool\"},{\"attributes\":{\"base\":{\"field\":\"base\",\"units\":\"data\"},\"line_color\":{\"value\":\"lightsteelblue\"},\"lower\":{\"field\":\"lower\",\"units\":\"data\"},\"lower_head\":{\"id\":\"3186\",\"type\":\"TeeHead\"},\"source\":{\"id\":\"3172\",\"type\":\"ColumnDataSource\"},\"upper\":{\"field\":\"upper\",\"units\":\"data\"},\"upper_head\":{\"id\":\"3187\",\"type\":\"TeeHead\"}},\"id\":\"3173\",\"type\":\"Whisker\"},{\"attributes\":{\"source\":{\"id\":\"3180\",\"type\":\"ColumnDataSource\"}},\"id\":\"3184\",\"type\":\"CDSView\"},{\"attributes\":{\"source\":{\"id\":\"3199\",\"type\":\"ColumnDataSource\"}},\"id\":\"3203\",\"type\":\"CDSView\"},{\"attributes\":{},\"id\":\"3234\",\"type\":\"UnionRenderers\"},{\"attributes\":{\"callback\":null,\"data\":{\"x\":[7.0,8.88,2.85,10.69,8.74,12.83,6.72,2.67,6.41,2.81,2.19,10.68,11.96,7.7,3.56,8.6,3.72,11.19,10.5,0.84,3.32,1.54,1.37,12.11,10.51,3.2,11.11,1.18,5.62,1.85,3.83,2.38,2.7,12.12,8.23,3.54,8.01,6.32,11.72,7.97,1.45,12.32,2.78,10.03,1.45,1.68,3.15,0.57,1.18,6.4,2.99,0.96,6.24,7.59,3.91,6.42,1.03,8.52,9.73,9.44,8.54],\"y\":[3.5,4.44,1.425,5.345,4.37,6.415,3.36,1.335,3.205,1.405,1.095,5.34,5.98,3.85,1.78,4.3,1.86,5.595,5.25,0.42,1.66,0.77,0.685,6.055,5.255,1.6,5.555,0.59,2.81,0.925,1.915,1.19,1.35,6.06,4.115,1.77,4.005,3.16,5.86,3.985,0.725,6.16,1.39,5.015,0.725,0.84,1.575,0.285,0.59,3.2,1.495,0.48,3.12,3.795,1.955,3.21,0.515,4.26,4.865,4.72,4.27]},\"selected\":{\"id\":\"3214\",\"type\":\"Selection\"},\"selection_policy\":{\"id\":\"3213\",\"type\":\"UnionRenderers\"}},\"id\":\"3180\",\"type\":\"ColumnDataSource\"},{\"attributes\":{\"source\":{\"id\":\"3218\",\"type\":\"ColumnDataSource\"}},\"id\":\"3222\",\"type\":\"CDSView\"},{\"attributes\":{},\"id\":\"3191\",\"type\":\"BasicTickFormatter\"},{\"attributes\":{\"callback\":null,\"data\":{\"base\":[7.0,8.88,2.85,10.69,8.74,12.83,6.72,2.67,6.41,2.81,2.19,10.68,11.96,7.7,3.56,8.6,3.72,11.19,10.5,0.84,3.32,1.54,1.37,12.11,10.51,3.2,11.11,1.18,5.62,1.85,3.83,2.38,2.7,12.12,8.23,3.54,8.01,6.32,11.72,7.97,1.45,12.32,2.78,10.03,1.45,1.68,3.15,0.57,1.18,6.4,2.99,0.96,6.24,7.59,3.91,6.42,1.03,8.52],\"lower\":[7.899999999990428,4.179999999999131,2.5499999999967087,2.190000000001392,1.090000000001984,4.780000000000017,2.579999999995322,5.529999999994049,3.68999999999809,6.539999999993087,7.559999999992355,1.0800000000026486,7.759999999996971,3.2999999999943723,0.8399999999980161,-0.05000000000291571,3.6799999999932695,2.6599999999937136,2.7999999999938154,0.7899999999995623,8.529999999991098,1.6899999999989825,1.3299999999983116,7.4399999999889275,1.8400000000005914,2.149999999996953,0.9100000000029382,1.1299999999993633,4.0299999999944065,1.7999999999977319,4.0199999999950204,2.3799999999986357,13.14999999998712,3.1799999999929636,2.4300000000005006,-0.0099999999987892,0.9899999999963338,6.269999999996436,7.369999999997278,1.670000000001182,-0.10000000000029563,3.3700000000010064,1.3199999999978345,7.229999999996833,2.8999999999968677,1.629999999999079,3.399999999995805,0.5299999999993122,2.519999999997289,4.449999999993713,5.2399999999962485,7.939999999992986,2.6399999999997217,-0.10999999999737398,5.759999999996072,6.629999999991769,2.4799999999980846,3.419999999999778],\"upper\":[7.899999999995202,4.519999999992956,2.549999999998653,3.1099999999937875,1.109999999996015,4.819999999991252,2.7199999999998576,5.569999999995856,3.70999999999518,6.559999999994998,7.639999999993821,1.1199999999953505,7.93999999998875,3.299999999999625,0.8600000000004377,0.05000000000291571,3.72,2.840000000001284,3.0000000000009095,0.8099999999989825,8.56999999999335,1.7099999999979252,1.3699999999992327,8.059999999996975,2.0599999999958616,2.149999999999136,0.9899999999953337,1.1699999999985449,4.069999999998227,1.799999999998994,4.079999999997613,2.4199999999969988,13.14999999998896,3.2200000000012157,2.76999999999477,0.0099999999987892,1.1100000000017562,6.329999999992104,7.429999999989262,1.7299999999957256,2.999999999997658,3.8299999999924452,1.37999999999971,7.269999999989979,2.899999999997857,1.6699999999979196,3.4999999999979194,0.5699999999996873,2.5799999999980727,4.649999999998011,5.259999999994202,7.9599999999925535,2.659999999995458,0.10999999999737398,5.839999999993378,6.669999999996135,2.519999999997368,3.4799999999939466]},\"selected\":{\"id\":\"3195\",\"type\":\"Selection\"},\"selection_policy\":{\"id\":\"3194\",\"type\":\"UnionRenderers\"}},\"id\":\"3172\",\"type\":\"ColumnDataSource\"},{\"attributes\":{},\"id\":\"3193\",\"type\":\"Selection\"},{\"attributes\":{\"text\":\"exo Periods from Flux with Trends Removed\"},\"id\":\"3140\",\"type\":\"Title\"},{\"attributes\":{},\"id\":\"3386\",\"type\":\"Selection\"},{\"attributes\":{\"data_source\":{\"id\":\"3218\",\"type\":\"ColumnDataSource\"},\"glyph\":{\"id\":\"3219\",\"type\":\"Line\"},\"hover_glyph\":null,\"muted_glyph\":null,\"name\":\"y=x\",\"nonselection_glyph\":{\"id\":\"3220\",\"type\":\"Line\"},\"selection_glyph\":null,\"view\":{\"id\":\"3222\",\"type\":\"CDSView\"}},\"id\":\"3221\",\"type\":\"GlyphRenderer\"},{\"attributes\":{\"label\":{\"value\":\"y=x\"},\"renderers\":[{\"id\":\"3221\",\"type\":\"GlyphRenderer\"}]},\"id\":\"3239\",\"type\":\"LegendItem\"},{\"attributes\":{},\"id\":\"3385\",\"type\":\"UnionRenderers\"},{\"attributes\":{},\"id\":\"3194\",\"type\":\"UnionRenderers\"},{\"attributes\":{\"callback\":null},\"id\":\"3142\",\"type\":\"DataRange1d\"},{\"attributes\":{\"fill_alpha\":{\"value\":0.1},\"fill_color\":{\"value\":\"#1f77b4\"},\"line_alpha\":{\"value\":0.1},\"line_color\":{\"value\":\"#1f77b4\"},\"x\":{\"field\":\"x\"},\"y\":{\"field\":\"y\"}},\"id\":\"3177\",\"type\":\"Circle\"},{\"attributes\":{},\"id\":\"3235\",\"type\":\"Selection\"},{\"attributes\":{\"active_drag\":\"auto\",\"active_inspect\":\"auto\",\"active_multi\":null,\"active_scroll\":\"auto\",\"active_tap\":\"auto\",\"tools\":[{\"id\":\"3160\",\"type\":\"PanTool\"},{\"id\":\"3161\",\"type\":\"BoxZoomTool\"},{\"id\":\"3162\",\"type\":\"ResetTool\"},{\"id\":\"3163\",\"type\":\"SaveTool\"},{\"id\":\"3164\",\"type\":\"HoverTool\"}]},\"id\":\"3165\",\"type\":\"Toolbar\"},{\"attributes\":{},\"id\":\"3146\",\"type\":\"LinearScale\"},{\"attributes\":{},\"id\":\"3195\",\"type\":\"Selection\"},{\"attributes\":{\"data_source\":{\"id\":\"3171\",\"type\":\"ColumnDataSource\"},\"glyph\":{\"id\":\"3176\",\"type\":\"Circle\"},\"hover_glyph\":null,\"muted_glyph\":null,\"nonselection_glyph\":{\"id\":\"3177\",\"type\":\"Circle\"},\"selection_glyph\":null,\"view\":{\"id\":\"3179\",\"type\":\"CDSView\"}},\"id\":\"3178\",\"type\":\"GlyphRenderer\"},{\"attributes\":{\"line_color\":\"khaki\",\"line_dash\":[2,4],\"x\":{\"field\":\"x\"},\"y\":{\"field\":\"y\"}},\"id\":\"3181\",\"type\":\"Line\"},{\"attributes\":{\"bottom_units\":\"screen\",\"fill_alpha\":{\"value\":0.5},\"fill_color\":{\"value\":\"lightgrey\"},\"left_units\":\"screen\",\"level\":\"overlay\",\"line_alpha\":{\"value\":1.0},\"line_color\":{\"value\":\"black\"},\"line_dash\":[4,4],\"line_width\":{\"value\":2},\"render_mode\":\"css\",\"right_units\":\"screen\",\"top_units\":\"screen\"},\"id\":\"3196\",\"type\":\"BoxAnnotation\"},{\"attributes\":{\"source\":{\"id\":\"3171\",\"type\":\"ColumnDataSource\"}},\"id\":\"3179\",\"type\":\"CDSView\"},{\"attributes\":{\"line_color\":\"khaki\",\"line_dash\":[2,4],\"x\":{\"field\":\"x\"},\"y\":{\"field\":\"y\"}},\"id\":\"3200\",\"type\":\"Line\"},{\"attributes\":{\"line_color\":\"plum\",\"line_dash\":[4,4],\"line_width\":2,\"x\":{\"field\":\"x\"},\"y\":{\"field\":\"y\"}},\"id\":\"3219\",\"type\":\"Line\"},{\"attributes\":{},\"id\":\"3156\",\"type\":\"BasicTicker\"},{\"attributes\":{\"label\":{\"value\":\"y=2x\"},\"renderers\":[{\"id\":\"3183\",\"type\":\"GlyphRenderer\"},{\"id\":\"3202\",\"type\":\"GlyphRenderer\"}]},\"id\":\"3198\",\"type\":\"LegendItem\"},{\"attributes\":{},\"id\":\"3160\",\"type\":\"PanTool\"},{\"attributes\":{\"callback\":null,\"data\":{\"x\":[7.0,8.88,2.85,10.69,8.74,12.83,6.72,2.67,6.41,2.81,2.19,10.68,11.96,7.7,3.56,8.6,3.72,11.19,10.5,0.84,3.32,1.54,1.37,12.11,10.51,3.2,11.11,1.18,5.62,1.85,3.83,2.38,2.7,12.12,8.23,3.54,8.01,6.32,11.72,7.97,1.45,12.32,2.78,10.03,1.45,1.68,3.15,0.57,1.18,6.4,2.99,0.96,6.24,7.59,3.91,6.42,1.03,8.52,9.73,9.44,8.54],\"y\":[7.0,8.88,2.85,10.69,8.74,12.83,6.72,2.67,6.41,2.81,2.19,10.68,11.96,7.7,3.56,8.6,3.72,11.19,10.5,0.84,3.32,1.54,1.37,12.11,10.51,3.2,11.11,1.18,5.62,1.85,3.83,2.38,2.7,12.12,8.23,3.54,8.01,6.32,11.72,7.97,1.45,12.32,2.78,10.03,1.45,1.68,3.15,0.57,1.18,6.4,2.99,0.96,6.24,7.59,3.91,6.42,1.03,8.52,9.73,9.44,8.54]},\"selected\":{\"id\":\"3386\",\"type\":\"Selection\"},\"selection_policy\":{\"id\":\"3385\",\"type\":\"UnionRenderers\"}},\"id\":\"3218\",\"type\":\"ColumnDataSource\"},{\"attributes\":{\"callback\":null,\"end\":15,\"start\":-1},\"id\":\"3144\",\"type\":\"Range1d\"},{\"attributes\":{\"callback\":null,\"data\":{\"x\":[7.0,8.88,2.85,10.69,8.74,12.83,6.72,2.67,6.41,2.81,2.19,10.68,11.96,7.7,3.56,8.6,3.72,11.19,10.5,0.84,3.32,1.54,1.37,12.11,10.51,3.2,11.11,1.18,5.62,1.85,3.83,2.38,2.7,12.12,8.23,3.54,8.01,6.32,11.72,7.97,1.45,12.32,2.78,10.03,1.45,1.68,3.15,0.57,1.18,6.4,2.99,0.96,6.24,7.59,3.91,6.42,1.03,8.52,9.73,9.44,8.54],\"y\":[14.0,17.76,5.7,21.38,17.48,25.66,13.44,5.34,12.82,5.62,4.38,21.36,23.92,15.4,7.12,17.2,7.44,22.38,21.0,1.68,6.64,3.08,2.74,24.22,21.02,6.4,22.22,2.36,11.24,3.7,7.66,4.76,5.4,24.24,16.46,7.08,16.02,12.64,23.44,15.94,2.9,24.64,5.56,20.06,2.9,3.36,6.3,1.14,2.36,12.8,5.98,1.92,12.48,15.18,7.82,12.84,2.06,17.04,19.46,18.88,17.08]},\"selected\":{\"id\":\"3235\",\"type\":\"Selection\"},\"selection_policy\":{\"id\":\"3234\",\"type\":\"UnionRenderers\"}},\"id\":\"3199\",\"type\":\"ColumnDataSource\"},{\"attributes\":{\"dimension\":1,\"ticker\":{\"id\":\"3156\",\"type\":\"BasicTicker\"}},\"id\":\"3159\",\"type\":\"Grid\"},{\"attributes\":{\"fill_color\":{\"value\":\"mediumvioletred\"},\"line_color\":{\"value\":null},\"x\":{\"field\":\"x\"},\"y\":{\"field\":\"y\"}},\"id\":\"3176\",\"type\":\"Circle\"},{\"attributes\":{},\"id\":\"3148\",\"type\":\"LinearScale\"},{\"attributes\":{\"line_alpha\":0.1,\"line_color\":\"#1f77b4\",\"line_dash\":[2,4],\"x\":{\"field\":\"x\"},\"y\":{\"field\":\"y\"}},\"id\":\"3182\",\"type\":\"Line\"},{\"attributes\":{\"line_alpha\":0.1,\"line_color\":\"#1f77b4\",\"line_dash\":[2,4],\"x\":{\"field\":\"x\"},\"y\":{\"field\":\"y\"}},\"id\":\"3201\",\"type\":\"Line\"},{\"attributes\":{\"overlay\":{\"id\":\"3196\",\"type\":\"BoxAnnotation\"}},\"id\":\"3161\",\"type\":\"BoxZoomTool\"},{\"attributes\":{\"data_source\":{\"id\":\"3180\",\"type\":\"ColumnDataSource\"},\"glyph\":{\"id\":\"3181\",\"type\":\"Line\"},\"hover_glyph\":null,\"muted_glyph\":null,\"nonselection_glyph\":{\"id\":\"3182\",\"type\":\"Line\"},\"selection_glyph\":null,\"view\":{\"id\":\"3184\",\"type\":\"CDSView\"}},\"id\":\"3183\",\"type\":\"GlyphRenderer\"},{\"attributes\":{\"data_source\":{\"id\":\"3199\",\"type\":\"ColumnDataSource\"},\"glyph\":{\"id\":\"3200\",\"type\":\"Line\"},\"hover_glyph\":null,\"muted_glyph\":null,\"nonselection_glyph\":{\"id\":\"3201\",\"type\":\"Line\"},\"selection_glyph\":null,\"view\":{\"id\":\"3203\",\"type\":\"CDSView\"}},\"id\":\"3202\",\"type\":\"GlyphRenderer\"},{\"attributes\":{\"axis_label\":\"McQuillan Period\",\"formatter\":{\"id\":\"3189\",\"type\":\"BasicTickFormatter\"},\"ticker\":{\"id\":\"3151\",\"type\":\"BasicTicker\"}},\"id\":\"3150\",\"type\":\"LinearAxis\"},{\"attributes\":{},\"id\":\"3151\",\"type\":\"BasicTicker\"},{\"attributes\":{\"axis_label\":\"exo Period\",\"formatter\":{\"id\":\"3191\",\"type\":\"BasicTickFormatter\"},\"ticker\":{\"id\":\"3156\",\"type\":\"BasicTicker\"}},\"id\":\"3155\",\"type\":\"LinearAxis\"}],\"root_ids\":[\"3139\"]},\"title\":\"Bokeh Application\",\"version\":\"1.3.4\"}};\n",
       "  var render_items = [{\"docid\":\"c8fa76fc-2ec3-4945-9397-f31fec4baeb2\",\"roots\":{\"3139\":\"2c739771-ef06-4baa-ac2e-39f07314830b\"}}];\n",
       "  root.Bokeh.embed.embed_items_notebook(docs_json, render_items);\n",
       "\n",
       "  }\n",
       "  if (root.Bokeh !== undefined) {\n",
       "    embed_document(root);\n",
       "  } else {\n",
       "    var attempts = 0;\n",
       "    var timer = setInterval(function(root) {\n",
       "      if (root.Bokeh !== undefined) {\n",
       "        embed_document(root);\n",
       "        clearInterval(timer);\n",
       "      }\n",
       "      attempts++;\n",
       "      if (attempts > 100) {\n",
       "        console.log(\"Bokeh: ERROR: Unable to run BokehJS code because BokehJS library is missing\");\n",
       "        clearInterval(timer);\n",
       "      }\n",
       "    }, 10, root)\n",
       "  }\n",
       "})(window);"
      ],
      "application/vnd.bokehjs_exec.v0+json": ""
     },
     "metadata": {
      "application/vnd.bokehjs_exec.v0+json": {
       "id": "3139"
      }
     },
     "output_type": "display_data"
    }
   ],
   "source": [
    "plot_mcq_err_exo = figure(plot_width=900, plot_height=600, tools=\"pan,box_zoom,reset,save,hover\",\n",
    "   y_range=[-1, 15], title=\"exo Periods from Flux with Trends Removed\",\n",
    "   x_axis_label='McQuillan Period', y_axis_label='exo Period')\n",
    "\n",
    "base, lower, upper = [], [], []\n",
    "\n",
    "source = ColumnDataSource(data=dict(\n",
    "    y = exo_resid_periods[0:58],\n",
    "    x = short_periods[0:58]))\n",
    "\n",
    "x2 = [i*2 for i in x]\n",
    "x_half = [float(i)*0.5 for i in x]\n",
    "\n",
    "for i, per in enumerate(exo_resid_periods[0:58]):\n",
    "    lower.append(per - mcq_exo_difference[i])\n",
    "    upper.append(per + mcq_exo_difference[i])\n",
    "    base.append(short_periods[i])\n",
    "    \n",
    "source_error = ColumnDataSource(data=dict(base=base, lower=lower, upper=upper))\n",
    "\n",
    "plot_mcq_err_exo.add_layout(\n",
    "    Whisker(source=source_error, base=\"base\", upper=\"upper\", lower=\"lower\", line_color = 'lightsteelblue')\n",
    ")\n",
    "\n",
    "plot_mcq_err_exo.circle(x = 'x', y = 'y', source = source, color=\"mediumvioletred\", line_color=None)\n",
    "plot_mcq_err_exo.line(x, x_half, legend=\"y=2x\", line_width=1, color = 'khaki', line_dash=\"dotted\")\n",
    "plot_mcq_err_exo.line(x, x2, legend=\"y=2x\", line_width=1, color = 'khaki', line_dash=\"dotted\")\n",
    "plot_mcq_err_exo.line(x, x, name = \"y=x\", color = 'plum', line_dash=\"4 4\", legend = \"y=x\", line_width = 2)\n",
    "\n",
    "\n",
    "\n",
    "show(plot_mcq_err_exo)"
   ]
  },
  {
   "cell_type": "code",
   "execution_count": null,
   "metadata": {},
   "outputs": [],
   "source": [
    "for each difference, check if the difference is less than the error between that and the mcq line. save the plot \n",
    "and light curve with an easy to find name. also make lists of stars that fit in the 2x and 1/2x and finally ones that\n",
    "do not fit on the lines, and save plots somewhere noticeable. Better yet, make a new notebook to do it in! \n",
    "\n",
    "run code with less and more filters on the flux - also new notebook\n",
    "\n"
   ]
  }
 ],
 "metadata": {
  "kernelspec": {
   "display_name": "Python 3",
   "language": "python",
   "name": "python3"
  },
  "language_info": {
   "codemirror_mode": {
    "name": "ipython",
    "version": 3
   },
   "file_extension": ".py",
   "mimetype": "text/x-python",
   "name": "python",
   "nbconvert_exporter": "python",
   "pygments_lexer": "ipython3",
   "version": "3.7.4"
  }
 },
 "nbformat": 4,
 "nbformat_minor": 2
}
