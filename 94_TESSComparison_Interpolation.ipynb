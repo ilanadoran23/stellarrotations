{
 "cells": [
  {
   "cell_type": "code",
   "execution_count": 1,
   "metadata": {},
   "outputs": [
    {
     "name": "stderr",
     "output_type": "stream",
     "text": [
      "/Users/ilanadoran/opt/anaconda3/lib/python3.7/site-packages/theano/configdefaults.py:560: UserWarning: DeprecationWarning: there is no c++ compiler.This is deprecated and with Theano 0.11 a c++ compiler will be mandatory\n",
      "  warnings.warn(\"DeprecationWarning: there is no c++ compiler.\"\n",
      "WARNING (theano.configdefaults): g++ not detected ! Theano will be unable to execute optimized C-implementations (for both CPU and GPU) and will default to Python implementations. Performance will be severely degraded. To remove this warning, set Theano flags cxx to an empty string.\n",
      "WARNING (theano.tensor.blas): Using NumPy C-API based implementation for BLAS functions.\n"
     ]
    }
   ],
   "source": [
    "from acfunctions import *\n",
    "import numpy as np\n",
    "import pandas as pd\n",
    "from solartwins import *\n",
    "import pickle\n",
    "import starspot as ss\n",
    "import starspot.rotation_tools as rt\n",
    "import lightkurve as lk\n",
    "from lightkurve import search_targetpixelfile, search_lightcurvefile\n",
    "import exoplanet\n",
    "import eleanor\n",
    "from scipy import interpolate\n",
    "from tess_kep_funct import *\n",
    "from tqdm import tqdm\n",
    "from bokeh.models import ColumnDataSource, LabelSet\n",
    "from bokeh.plotting import figure, output_file, show\n",
    "from bokeh.io import output_notebook\n",
    "import warnings\n",
    "warnings.filterwarnings(\"ignore\")"
   ]
  },
  {
   "cell_type": "code",
   "execution_count": 2,
   "metadata": {},
   "outputs": [],
   "source": [
    "from matplotlib import rc\n",
    "rc('font',**{'family':'sans-serif','sans-serif':['Helvetica']})\n",
    "rc('text', usetex=False)"
   ]
  },
  {
   "cell_type": "markdown",
   "metadata": {},
   "source": [
    "# key \n",
    "\n",
    "short_tess_period = periods calculated using starspot's pdm period function without linear interpolation\n",
    "\n",
    "short_periods = calculated mcquillan periods under 13 days \n",
    "\n",
    "tics_short_periods = tic ids of the mcquillan-determined short periods\n",
    "\n",
    "ls_periods_interp = calculated lombs-scargle tess periods from starspot with linear interpolation\n",
    "\n",
    "tess_periods_interp = periods calculated using pdm function and linear interpolation\n",
    "\n",
    "differences_mcq_pdm = differences between non-linear interp PDM and McQ tess periods\n",
    "\n",
    "differences_exo_acf = differences between Exoplanet ACF with interp and McQ tess periods\n",
    "\n",
    "differences_mcq_ls = differences between L-S with interp and McQ tess periods\n",
    "\n",
    "differences_ls_pdm = differences between Lomb-Scargle with interp and PDM calculated tess period without interp\n",
    "\n",
    "differences_tess = differences between linear PDM calculations and McQ tess periods\n"
   ]
  },
  {
   "cell_type": "markdown",
   "metadata": {},
   "source": [
    "# importing data from TESS_Kep"
   ]
  },
  {
   "cell_type": "code",
   "execution_count": 3,
   "metadata": {},
   "outputs": [],
   "source": [
    "#dataset with tess vs kepler IDs\n",
    "tess_kep = pd.read_csv('data_summary.csv')\n",
    "tess_short = tess_kep[tess_kep.tess_ffi == True]\n",
    "cat = pd.read_csv('tics_kics_mcq_rot.txt', names=['tic_id', 'kic_id', 'prot'], delim_whitespace=True)"
   ]
  },
  {
   "cell_type": "code",
   "execution_count": 4,
   "metadata": {},
   "outputs": [],
   "source": [
    "#importing McQ periods\n",
    "headers = 'TIC ID', 'KIC ID', 'McQ Periods';  \n",
    "\n",
    "with open(\"tics_kics_mcq_rot.txt\") as file:\n",
    "    rot_table = [line.split() for line in file.read().splitlines()]\n",
    "\n",
    "widths = [max(len(value) for value in col)\n",
    "for col in zip(*(rot_table + [headers]))]\n",
    "\n",
    "formatting = '{:{widths[0]}}  {:{widths[1]}}  {:{widths[2]}}'\n",
    "formatting.format(*headers, widths=widths)\n",
    "for tics_kics_mcq in rot_table:\n",
    "    formatting.format(*tics_kics_mcq, widths=widths)"
   ]
  },
  {
   "cell_type": "code",
   "execution_count": 5,
   "metadata": {},
   "outputs": [],
   "source": [
    "# converting txt file data to arrays\n",
    "tic_ids = []\n",
    "mcq_periods = []\n",
    "\n",
    "for index, row in enumerate(rot_table):\n",
    "    tic_ids.append(int(rot_table[index][0]))\n",
    "    mcq_periods.append(float(rot_table[index][2]))"
   ]
  },
  {
   "cell_type": "code",
   "execution_count": 6,
   "metadata": {},
   "outputs": [],
   "source": [
    "# selecting shortest periods only (<13 days, half a tess cycle)\n",
    "short_periods = []\n",
    "tics_short_periods = []\n",
    "\n",
    "for index, period in enumerate(mcq_periods):\n",
    "    if period < 13: \n",
    "        short_periods.append(period)\n",
    "        tics_short_periods.append(tic_ids[index])\n",
    "        \n",
    "#limiting to the first 60\n",
    "short_periods = short_periods[0:]\n",
    "tics_short_periods = tics_short_periods[0:70]"
   ]
  },
  {
   "cell_type": "code",
   "execution_count": 7,
   "metadata": {},
   "outputs": [],
   "source": [
    "with open('short_periods.data', 'wb') as filehandle:\n",
    "    pickle.dump(short_periods, filehandle)"
   ]
  },
  {
   "cell_type": "code",
   "execution_count": 8,
   "metadata": {},
   "outputs": [],
   "source": [
    "with open('tess_period.data', 'rb') as filehandle:\n",
    "    short_tess_period = pickle.load(filehandle) "
   ]
  },
  {
   "cell_type": "code",
   "execution_count": 9,
   "metadata": {},
   "outputs": [
    {
     "data": {
      "text/html": [
       "\n",
       "    <div class=\"bk-root\">\n",
       "        <a href=\"https://bokeh.pydata.org\" target=\"_blank\" class=\"bk-logo bk-logo-small bk-logo-notebook\"></a>\n",
       "        <span id=\"1001\">Loading BokehJS ...</span>\n",
       "    </div>"
      ]
     },
     "metadata": {},
     "output_type": "display_data"
    },
    {
     "data": {
      "application/javascript": [
       "\n",
       "(function(root) {\n",
       "  function now() {\n",
       "    return new Date();\n",
       "  }\n",
       "\n",
       "  var force = true;\n",
       "\n",
       "  if (typeof root._bokeh_onload_callbacks === \"undefined\" || force === true) {\n",
       "    root._bokeh_onload_callbacks = [];\n",
       "    root._bokeh_is_loading = undefined;\n",
       "  }\n",
       "\n",
       "  var JS_MIME_TYPE = 'application/javascript';\n",
       "  var HTML_MIME_TYPE = 'text/html';\n",
       "  var EXEC_MIME_TYPE = 'application/vnd.bokehjs_exec.v0+json';\n",
       "  var CLASS_NAME = 'output_bokeh rendered_html';\n",
       "\n",
       "  /**\n",
       "   * Render data to the DOM node\n",
       "   */\n",
       "  function render(props, node) {\n",
       "    var script = document.createElement(\"script\");\n",
       "    node.appendChild(script);\n",
       "  }\n",
       "\n",
       "  /**\n",
       "   * Handle when an output is cleared or removed\n",
       "   */\n",
       "  function handleClearOutput(event, handle) {\n",
       "    var cell = handle.cell;\n",
       "\n",
       "    var id = cell.output_area._bokeh_element_id;\n",
       "    var server_id = cell.output_area._bokeh_server_id;\n",
       "    // Clean up Bokeh references\n",
       "    if (id != null && id in Bokeh.index) {\n",
       "      Bokeh.index[id].model.document.clear();\n",
       "      delete Bokeh.index[id];\n",
       "    }\n",
       "\n",
       "    if (server_id !== undefined) {\n",
       "      // Clean up Bokeh references\n",
       "      var cmd = \"from bokeh.io.state import curstate; print(curstate().uuid_to_server['\" + server_id + \"'].get_sessions()[0].document.roots[0]._id)\";\n",
       "      cell.notebook.kernel.execute(cmd, {\n",
       "        iopub: {\n",
       "          output: function(msg) {\n",
       "            var id = msg.content.text.trim();\n",
       "            if (id in Bokeh.index) {\n",
       "              Bokeh.index[id].model.document.clear();\n",
       "              delete Bokeh.index[id];\n",
       "            }\n",
       "          }\n",
       "        }\n",
       "      });\n",
       "      // Destroy server and session\n",
       "      var cmd = \"import bokeh.io.notebook as ion; ion.destroy_server('\" + server_id + \"')\";\n",
       "      cell.notebook.kernel.execute(cmd);\n",
       "    }\n",
       "  }\n",
       "\n",
       "  /**\n",
       "   * Handle when a new output is added\n",
       "   */\n",
       "  function handleAddOutput(event, handle) {\n",
       "    var output_area = handle.output_area;\n",
       "    var output = handle.output;\n",
       "\n",
       "    // limit handleAddOutput to display_data with EXEC_MIME_TYPE content only\n",
       "    if ((output.output_type != \"display_data\") || (!output.data.hasOwnProperty(EXEC_MIME_TYPE))) {\n",
       "      return\n",
       "    }\n",
       "\n",
       "    var toinsert = output_area.element.find(\".\" + CLASS_NAME.split(' ')[0]);\n",
       "\n",
       "    if (output.metadata[EXEC_MIME_TYPE][\"id\"] !== undefined) {\n",
       "      toinsert[toinsert.length - 1].firstChild.textContent = output.data[JS_MIME_TYPE];\n",
       "      // store reference to embed id on output_area\n",
       "      output_area._bokeh_element_id = output.metadata[EXEC_MIME_TYPE][\"id\"];\n",
       "    }\n",
       "    if (output.metadata[EXEC_MIME_TYPE][\"server_id\"] !== undefined) {\n",
       "      var bk_div = document.createElement(\"div\");\n",
       "      bk_div.innerHTML = output.data[HTML_MIME_TYPE];\n",
       "      var script_attrs = bk_div.children[0].attributes;\n",
       "      for (var i = 0; i < script_attrs.length; i++) {\n",
       "        toinsert[toinsert.length - 1].firstChild.setAttribute(script_attrs[i].name, script_attrs[i].value);\n",
       "      }\n",
       "      // store reference to server id on output_area\n",
       "      output_area._bokeh_server_id = output.metadata[EXEC_MIME_TYPE][\"server_id\"];\n",
       "    }\n",
       "  }\n",
       "\n",
       "  function register_renderer(events, OutputArea) {\n",
       "\n",
       "    function append_mime(data, metadata, element) {\n",
       "      // create a DOM node to render to\n",
       "      var toinsert = this.create_output_subarea(\n",
       "        metadata,\n",
       "        CLASS_NAME,\n",
       "        EXEC_MIME_TYPE\n",
       "      );\n",
       "      this.keyboard_manager.register_events(toinsert);\n",
       "      // Render to node\n",
       "      var props = {data: data, metadata: metadata[EXEC_MIME_TYPE]};\n",
       "      render(props, toinsert[toinsert.length - 1]);\n",
       "      element.append(toinsert);\n",
       "      return toinsert\n",
       "    }\n",
       "\n",
       "    /* Handle when an output is cleared or removed */\n",
       "    events.on('clear_output.CodeCell', handleClearOutput);\n",
       "    events.on('delete.Cell', handleClearOutput);\n",
       "\n",
       "    /* Handle when a new output is added */\n",
       "    events.on('output_added.OutputArea', handleAddOutput);\n",
       "\n",
       "    /**\n",
       "     * Register the mime type and append_mime function with output_area\n",
       "     */\n",
       "    OutputArea.prototype.register_mime_type(EXEC_MIME_TYPE, append_mime, {\n",
       "      /* Is output safe? */\n",
       "      safe: true,\n",
       "      /* Index of renderer in `output_area.display_order` */\n",
       "      index: 0\n",
       "    });\n",
       "  }\n",
       "\n",
       "  // register the mime type if in Jupyter Notebook environment and previously unregistered\n",
       "  if (root.Jupyter !== undefined) {\n",
       "    var events = require('base/js/events');\n",
       "    var OutputArea = require('notebook/js/outputarea').OutputArea;\n",
       "\n",
       "    if (OutputArea.prototype.mime_types().indexOf(EXEC_MIME_TYPE) == -1) {\n",
       "      register_renderer(events, OutputArea);\n",
       "    }\n",
       "  }\n",
       "\n",
       "  \n",
       "  if (typeof (root._bokeh_timeout) === \"undefined\" || force === true) {\n",
       "    root._bokeh_timeout = Date.now() + 5000;\n",
       "    root._bokeh_failed_load = false;\n",
       "  }\n",
       "\n",
       "  var NB_LOAD_WARNING = {'data': {'text/html':\n",
       "     \"<div style='background-color: #fdd'>\\n\"+\n",
       "     \"<p>\\n\"+\n",
       "     \"BokehJS does not appear to have successfully loaded. If loading BokehJS from CDN, this \\n\"+\n",
       "     \"may be due to a slow or bad network connection. Possible fixes:\\n\"+\n",
       "     \"</p>\\n\"+\n",
       "     \"<ul>\\n\"+\n",
       "     \"<li>re-rerun `output_notebook()` to attempt to load from CDN again, or</li>\\n\"+\n",
       "     \"<li>use INLINE resources instead, as so:</li>\\n\"+\n",
       "     \"</ul>\\n\"+\n",
       "     \"<code>\\n\"+\n",
       "     \"from bokeh.resources import INLINE\\n\"+\n",
       "     \"output_notebook(resources=INLINE)\\n\"+\n",
       "     \"</code>\\n\"+\n",
       "     \"</div>\"}};\n",
       "\n",
       "  function display_loaded() {\n",
       "    var el = document.getElementById(\"1001\");\n",
       "    if (el != null) {\n",
       "      el.textContent = \"BokehJS is loading...\";\n",
       "    }\n",
       "    if (root.Bokeh !== undefined) {\n",
       "      if (el != null) {\n",
       "        el.textContent = \"BokehJS \" + root.Bokeh.version + \" successfully loaded.\";\n",
       "      }\n",
       "    } else if (Date.now() < root._bokeh_timeout) {\n",
       "      setTimeout(display_loaded, 100)\n",
       "    }\n",
       "  }\n",
       "\n",
       "\n",
       "  function run_callbacks() {\n",
       "    try {\n",
       "      root._bokeh_onload_callbacks.forEach(function(callback) {\n",
       "        if (callback != null)\n",
       "          callback();\n",
       "      });\n",
       "    } finally {\n",
       "      delete root._bokeh_onload_callbacks\n",
       "    }\n",
       "    console.debug(\"Bokeh: all callbacks have finished\");\n",
       "  }\n",
       "\n",
       "  function load_libs(css_urls, js_urls, callback) {\n",
       "    if (css_urls == null) css_urls = [];\n",
       "    if (js_urls == null) js_urls = [];\n",
       "\n",
       "    root._bokeh_onload_callbacks.push(callback);\n",
       "    if (root._bokeh_is_loading > 0) {\n",
       "      console.debug(\"Bokeh: BokehJS is being loaded, scheduling callback at\", now());\n",
       "      return null;\n",
       "    }\n",
       "    if (js_urls == null || js_urls.length === 0) {\n",
       "      run_callbacks();\n",
       "      return null;\n",
       "    }\n",
       "    console.debug(\"Bokeh: BokehJS not loaded, scheduling load and callback at\", now());\n",
       "    root._bokeh_is_loading = css_urls.length + js_urls.length;\n",
       "\n",
       "    function on_load() {\n",
       "      root._bokeh_is_loading--;\n",
       "      if (root._bokeh_is_loading === 0) {\n",
       "        console.debug(\"Bokeh: all BokehJS libraries/stylesheets loaded\");\n",
       "        run_callbacks()\n",
       "      }\n",
       "    }\n",
       "\n",
       "    function on_error() {\n",
       "      console.error(\"failed to load \" + url);\n",
       "    }\n",
       "\n",
       "    for (var i = 0; i < css_urls.length; i++) {\n",
       "      var url = css_urls[i];\n",
       "      const element = document.createElement(\"link\");\n",
       "      element.onload = on_load;\n",
       "      element.onerror = on_error;\n",
       "      element.rel = \"stylesheet\";\n",
       "      element.type = \"text/css\";\n",
       "      element.href = url;\n",
       "      console.debug(\"Bokeh: injecting link tag for BokehJS stylesheet: \", url);\n",
       "      document.body.appendChild(element);\n",
       "    }\n",
       "\n",
       "    for (var i = 0; i < js_urls.length; i++) {\n",
       "      var url = js_urls[i];\n",
       "      var element = document.createElement('script');\n",
       "      element.onload = on_load;\n",
       "      element.onerror = on_error;\n",
       "      element.async = false;\n",
       "      element.src = url;\n",
       "      console.debug(\"Bokeh: injecting script tag for BokehJS library: \", url);\n",
       "      document.head.appendChild(element);\n",
       "    }\n",
       "  };var element = document.getElementById(\"1001\");\n",
       "  if (element == null) {\n",
       "    console.error(\"Bokeh: ERROR: autoload.js configured with elementid '1001' but no matching script tag was found. \")\n",
       "    return false;\n",
       "  }\n",
       "\n",
       "  function inject_raw_css(css) {\n",
       "    const element = document.createElement(\"style\");\n",
       "    element.appendChild(document.createTextNode(css));\n",
       "    document.body.appendChild(element);\n",
       "  }\n",
       "\n",
       "  var js_urls = [\"https://cdn.pydata.org/bokeh/release/bokeh-1.3.4.min.js\", \"https://cdn.pydata.org/bokeh/release/bokeh-widgets-1.3.4.min.js\", \"https://cdn.pydata.org/bokeh/release/bokeh-tables-1.3.4.min.js\", \"https://cdn.pydata.org/bokeh/release/bokeh-gl-1.3.4.min.js\"];\n",
       "  var css_urls = [];\n",
       "\n",
       "  var inline_js = [\n",
       "    function(Bokeh) {\n",
       "      Bokeh.set_log_level(\"info\");\n",
       "    },\n",
       "    \n",
       "    function(Bokeh) {\n",
       "      \n",
       "    },\n",
       "    function(Bokeh) {} // ensure no trailing comma for IE\n",
       "  ];\n",
       "\n",
       "  function run_inline_js() {\n",
       "    \n",
       "    if ((root.Bokeh !== undefined) || (force === true)) {\n",
       "      for (var i = 0; i < inline_js.length; i++) {\n",
       "        inline_js[i].call(root, root.Bokeh);\n",
       "      }if (force === true) {\n",
       "        display_loaded();\n",
       "      }} else if (Date.now() < root._bokeh_timeout) {\n",
       "      setTimeout(run_inline_js, 100);\n",
       "    } else if (!root._bokeh_failed_load) {\n",
       "      console.log(\"Bokeh: BokehJS failed to load within specified timeout.\");\n",
       "      root._bokeh_failed_load = true;\n",
       "    } else if (force !== true) {\n",
       "      var cell = $(document.getElementById(\"1001\")).parents('.cell').data().cell;\n",
       "      cell.output_area.append_execute_result(NB_LOAD_WARNING)\n",
       "    }\n",
       "\n",
       "  }\n",
       "\n",
       "  if (root._bokeh_is_loading === 0) {\n",
       "    console.debug(\"Bokeh: BokehJS loaded, going straight to plotting\");\n",
       "    run_inline_js();\n",
       "  } else {\n",
       "    load_libs(css_urls, js_urls, function() {\n",
       "      console.debug(\"Bokeh: BokehJS plotting callback run at\", now());\n",
       "      run_inline_js();\n",
       "    });\n",
       "  }\n",
       "}(window));"
      ],
      "application/vnd.bokehjs_load.v0+json": "\n(function(root) {\n  function now() {\n    return new Date();\n  }\n\n  var force = true;\n\n  if (typeof root._bokeh_onload_callbacks === \"undefined\" || force === true) {\n    root._bokeh_onload_callbacks = [];\n    root._bokeh_is_loading = undefined;\n  }\n\n  \n\n  \n  if (typeof (root._bokeh_timeout) === \"undefined\" || force === true) {\n    root._bokeh_timeout = Date.now() + 5000;\n    root._bokeh_failed_load = false;\n  }\n\n  var NB_LOAD_WARNING = {'data': {'text/html':\n     \"<div style='background-color: #fdd'>\\n\"+\n     \"<p>\\n\"+\n     \"BokehJS does not appear to have successfully loaded. If loading BokehJS from CDN, this \\n\"+\n     \"may be due to a slow or bad network connection. Possible fixes:\\n\"+\n     \"</p>\\n\"+\n     \"<ul>\\n\"+\n     \"<li>re-rerun `output_notebook()` to attempt to load from CDN again, or</li>\\n\"+\n     \"<li>use INLINE resources instead, as so:</li>\\n\"+\n     \"</ul>\\n\"+\n     \"<code>\\n\"+\n     \"from bokeh.resources import INLINE\\n\"+\n     \"output_notebook(resources=INLINE)\\n\"+\n     \"</code>\\n\"+\n     \"</div>\"}};\n\n  function display_loaded() {\n    var el = document.getElementById(\"1001\");\n    if (el != null) {\n      el.textContent = \"BokehJS is loading...\";\n    }\n    if (root.Bokeh !== undefined) {\n      if (el != null) {\n        el.textContent = \"BokehJS \" + root.Bokeh.version + \" successfully loaded.\";\n      }\n    } else if (Date.now() < root._bokeh_timeout) {\n      setTimeout(display_loaded, 100)\n    }\n  }\n\n\n  function run_callbacks() {\n    try {\n      root._bokeh_onload_callbacks.forEach(function(callback) {\n        if (callback != null)\n          callback();\n      });\n    } finally {\n      delete root._bokeh_onload_callbacks\n    }\n    console.debug(\"Bokeh: all callbacks have finished\");\n  }\n\n  function load_libs(css_urls, js_urls, callback) {\n    if (css_urls == null) css_urls = [];\n    if (js_urls == null) js_urls = [];\n\n    root._bokeh_onload_callbacks.push(callback);\n    if (root._bokeh_is_loading > 0) {\n      console.debug(\"Bokeh: BokehJS is being loaded, scheduling callback at\", now());\n      return null;\n    }\n    if (js_urls == null || js_urls.length === 0) {\n      run_callbacks();\n      return null;\n    }\n    console.debug(\"Bokeh: BokehJS not loaded, scheduling load and callback at\", now());\n    root._bokeh_is_loading = css_urls.length + js_urls.length;\n\n    function on_load() {\n      root._bokeh_is_loading--;\n      if (root._bokeh_is_loading === 0) {\n        console.debug(\"Bokeh: all BokehJS libraries/stylesheets loaded\");\n        run_callbacks()\n      }\n    }\n\n    function on_error() {\n      console.error(\"failed to load \" + url);\n    }\n\n    for (var i = 0; i < css_urls.length; i++) {\n      var url = css_urls[i];\n      const element = document.createElement(\"link\");\n      element.onload = on_load;\n      element.onerror = on_error;\n      element.rel = \"stylesheet\";\n      element.type = \"text/css\";\n      element.href = url;\n      console.debug(\"Bokeh: injecting link tag for BokehJS stylesheet: \", url);\n      document.body.appendChild(element);\n    }\n\n    for (var i = 0; i < js_urls.length; i++) {\n      var url = js_urls[i];\n      var element = document.createElement('script');\n      element.onload = on_load;\n      element.onerror = on_error;\n      element.async = false;\n      element.src = url;\n      console.debug(\"Bokeh: injecting script tag for BokehJS library: \", url);\n      document.head.appendChild(element);\n    }\n  };var element = document.getElementById(\"1001\");\n  if (element == null) {\n    console.error(\"Bokeh: ERROR: autoload.js configured with elementid '1001' but no matching script tag was found. \")\n    return false;\n  }\n\n  function inject_raw_css(css) {\n    const element = document.createElement(\"style\");\n    element.appendChild(document.createTextNode(css));\n    document.body.appendChild(element);\n  }\n\n  var js_urls = [\"https://cdn.pydata.org/bokeh/release/bokeh-1.3.4.min.js\", \"https://cdn.pydata.org/bokeh/release/bokeh-widgets-1.3.4.min.js\", \"https://cdn.pydata.org/bokeh/release/bokeh-tables-1.3.4.min.js\", \"https://cdn.pydata.org/bokeh/release/bokeh-gl-1.3.4.min.js\"];\n  var css_urls = [];\n\n  var inline_js = [\n    function(Bokeh) {\n      Bokeh.set_log_level(\"info\");\n    },\n    \n    function(Bokeh) {\n      \n    },\n    function(Bokeh) {} // ensure no trailing comma for IE\n  ];\n\n  function run_inline_js() {\n    \n    if ((root.Bokeh !== undefined) || (force === true)) {\n      for (var i = 0; i < inline_js.length; i++) {\n        inline_js[i].call(root, root.Bokeh);\n      }if (force === true) {\n        display_loaded();\n      }} else if (Date.now() < root._bokeh_timeout) {\n      setTimeout(run_inline_js, 100);\n    } else if (!root._bokeh_failed_load) {\n      console.log(\"Bokeh: BokehJS failed to load within specified timeout.\");\n      root._bokeh_failed_load = true;\n    } else if (force !== true) {\n      var cell = $(document.getElementById(\"1001\")).parents('.cell').data().cell;\n      cell.output_area.append_execute_result(NB_LOAD_WARNING)\n    }\n\n  }\n\n  if (root._bokeh_is_loading === 0) {\n    console.debug(\"Bokeh: BokehJS loaded, going straight to plotting\");\n    run_inline_js();\n  } else {\n    load_libs(css_urls, js_urls, function() {\n      console.debug(\"Bokeh: BokehJS plotting callback run at\", now());\n      run_inline_js();\n    });\n  }\n}(window));"
     },
     "metadata": {},
     "output_type": "display_data"
    }
   ],
   "source": [
    "output_notebook()"
   ]
  },
  {
   "cell_type": "markdown",
   "metadata": {},
   "source": [
    "# calculating tess short periods using pdm and lomb-scargle with linear interpolation"
   ]
  },
  {
   "cell_type": "code",
   "execution_count": 10,
   "metadata": {
    "scrolled": true
   },
   "outputs": [
    {
     "name": "stdout",
     "output_type": "stream",
     "text": [
      "No eleanor postcard has been made for your target (yet). Using TessCut instead.\n",
      "WARNING:tensorflow:From /Users/ilanadoran/opt/anaconda3/lib/python3.7/site-packages/eleanor-1.0.4-py3.7.egg/eleanor/targetdata.py:833: The name tf.logging.set_verbosity is deprecated. Please use tf.compat.v1.logging.set_verbosity instead.\n",
      "\n",
      "WARNING:tensorflow:From /Users/ilanadoran/opt/anaconda3/lib/python3.7/site-packages/eleanor-1.0.4-py3.7.egg/eleanor/targetdata.py:833: The name tf.logging.ERROR is deprecated. Please use tf.compat.v1.logging.ERROR instead.\n",
      "\n"
     ]
    },
    {
     "name": "stderr",
     "output_type": "stream",
     "text": [
      "100%|██████████| 1197/1197 [00:21<00:00, 56.51it/s]\n",
      "100%|██████████| 1000/1000 [00:00<00:00, 1649.51it/s]\n"
     ]
    },
    {
     "name": "stdout",
     "output_type": "stream",
     "text": [
      "No eleanor postcard has been made for your target (yet). Using TessCut instead.\n"
     ]
    },
    {
     "name": "stderr",
     "output_type": "stream",
     "text": [
      "100%|██████████| 1241/1241 [00:21<00:00, 57.86it/s]\n",
      "100%|██████████| 1000/1000 [00:00<00:00, 1855.31it/s]\n"
     ]
    },
    {
     "name": "stdout",
     "output_type": "stream",
     "text": [
      "fitting to a limited range\n",
      "No eleanor postcard has been made for your target (yet). Using TessCut instead.\n"
     ]
    },
    {
     "name": "stderr",
     "output_type": "stream",
     "text": [
      "100%|██████████| 1241/1241 [00:35<00:00, 35.36it/s]\n",
      "100%|██████████| 1000/1000 [00:01<00:00, 978.75it/s]\n"
     ]
    },
    {
     "name": "stdout",
     "output_type": "stream",
     "text": [
      "No eleanor postcard has been made for your target (yet). Using TessCut instead.\n"
     ]
    },
    {
     "name": "stderr",
     "output_type": "stream",
     "text": [
      "100%|██████████| 1241/1241 [00:32<00:00, 38.68it/s]\n",
      "100%|██████████| 1000/1000 [00:03<00:00, 278.23it/s]\n"
     ]
    },
    {
     "name": "stdout",
     "output_type": "stream",
     "text": [
      "fitting to a limited range\n",
      "No eleanor postcard has been made for your target (yet). Using TessCut instead.\n"
     ]
    },
    {
     "name": "stderr",
     "output_type": "stream",
     "text": [
      "100%|██████████| 1241/1241 [00:35<00:00, 34.92it/s]\n",
      "100%|██████████| 1000/1000 [00:01<00:00, 723.48it/s]\n"
     ]
    },
    {
     "name": "stdout",
     "output_type": "stream",
     "text": [
      "No eleanor postcard has been made for your target (yet). Using TessCut instead.\n"
     ]
    },
    {
     "name": "stderr",
     "output_type": "stream",
     "text": [
      "100%|██████████| 1241/1241 [00:25<00:00, 47.91it/s]\n",
      "100%|██████████| 1000/1000 [00:00<00:00, 1535.15it/s]\n"
     ]
    },
    {
     "name": "stdout",
     "output_type": "stream",
     "text": [
      "fitting to a limited range\n",
      "No eleanor postcard has been made for your target (yet). Using TessCut instead.\n"
     ]
    },
    {
     "name": "stderr",
     "output_type": "stream",
     "text": [
      "100%|██████████| 1241/1241 [00:28<00:00, 42.81it/s]\n",
      "100%|██████████| 1000/1000 [00:00<00:00, 1424.21it/s]\n"
     ]
    },
    {
     "name": "stdout",
     "output_type": "stream",
     "text": [
      "No eleanor postcard has been made for your target (yet). Using TessCut instead.\n"
     ]
    },
    {
     "name": "stderr",
     "output_type": "stream",
     "text": [
      "100%|██████████| 1197/1197 [00:30<00:00, 39.60it/s]\n",
      "100%|██████████| 1000/1000 [00:00<00:00, 1785.49it/s]\n"
     ]
    },
    {
     "name": "stdout",
     "output_type": "stream",
     "text": [
      "No eleanor postcard has been made for your target (yet). Using TessCut instead.\n"
     ]
    },
    {
     "name": "stderr",
     "output_type": "stream",
     "text": [
      "100%|██████████| 1197/1197 [00:25<00:00, 46.41it/s]\n",
      "100%|██████████| 1000/1000 [00:00<00:00, 1185.32it/s]\n"
     ]
    },
    {
     "name": "stdout",
     "output_type": "stream",
     "text": [
      "fitting to a limited range\n",
      "No eleanor postcard has been made for your target (yet). Using TessCut instead.\n"
     ]
    },
    {
     "name": "stderr",
     "output_type": "stream",
     "text": [
      "100%|██████████| 1197/1197 [00:27<00:00, 43.82it/s]\n",
      "100%|██████████| 1000/1000 [00:00<00:00, 1808.86it/s]\n"
     ]
    },
    {
     "name": "stdout",
     "output_type": "stream",
     "text": [
      "No eleanor postcard has been made for your target (yet). Using TessCut instead.\n"
     ]
    },
    {
     "name": "stderr",
     "output_type": "stream",
     "text": [
      "100%|██████████| 1197/1197 [00:31<00:00, 38.59it/s]\n",
      "100%|██████████| 1000/1000 [00:00<00:00, 1538.12it/s]\n"
     ]
    },
    {
     "name": "stdout",
     "output_type": "stream",
     "text": [
      "No eleanor postcard has been made for your target (yet). Using TessCut instead.\n"
     ]
    },
    {
     "name": "stderr",
     "output_type": "stream",
     "text": [
      "100%|██████████| 1197/1197 [00:28<00:00, 41.59it/s]\n",
      "100%|██████████| 1000/1000 [00:01<00:00, 831.40it/s]\n"
     ]
    },
    {
     "name": "stdout",
     "output_type": "stream",
     "text": [
      "No eleanor postcard has been made for your target (yet). Using TessCut instead.\n"
     ]
    },
    {
     "name": "stderr",
     "output_type": "stream",
     "text": [
      "100%|██████████| 1197/1197 [00:35<00:00, 33.87it/s]\n",
      "100%|██████████| 1000/1000 [00:00<00:00, 1583.31it/s]\n"
     ]
    },
    {
     "name": "stdout",
     "output_type": "stream",
     "text": [
      "No eleanor postcard has been made for your target (yet). Using TessCut instead.\n"
     ]
    },
    {
     "name": "stderr",
     "output_type": "stream",
     "text": [
      "100%|██████████| 1197/1197 [00:28<00:00, 42.71it/s]\n",
      "100%|██████████| 1000/1000 [00:00<00:00, 1588.53it/s]\n"
     ]
    },
    {
     "name": "stdout",
     "output_type": "stream",
     "text": [
      "No eleanor postcard has been made for your target (yet). Using TessCut instead.\n"
     ]
    },
    {
     "name": "stderr",
     "output_type": "stream",
     "text": [
      "100%|██████████| 1241/1241 [00:34<00:00, 35.59it/s]\n",
      "100%|██████████| 1000/1000 [00:00<00:00, 1429.63it/s]\n"
     ]
    },
    {
     "name": "stdout",
     "output_type": "stream",
     "text": [
      "No eleanor postcard has been made for your target (yet). Using TessCut instead.\n"
     ]
    },
    {
     "name": "stderr",
     "output_type": "stream",
     "text": [
      "100%|██████████| 1241/1241 [02:38<00:00,  7.81it/s]\n",
      "100%|██████████| 1000/1000 [00:00<00:00, 1856.31it/s]\n"
     ]
    },
    {
     "name": "stdout",
     "output_type": "stream",
     "text": [
      "No eleanor postcard has been made for your target (yet). Using TessCut instead.\n"
     ]
    },
    {
     "name": "stderr",
     "output_type": "stream",
     "text": [
      "100%|██████████| 1241/1241 [00:19<00:00, 63.73it/s]\n",
      "100%|██████████| 1000/1000 [00:00<00:00, 1987.02it/s]\n"
     ]
    },
    {
     "name": "stdout",
     "output_type": "stream",
     "text": [
      "No eleanor postcard has been made for your target (yet). Using TessCut instead.\n"
     ]
    },
    {
     "name": "stderr",
     "output_type": "stream",
     "text": [
      "100%|██████████| 1197/1197 [00:17<00:00, 67.01it/s]\n",
      "100%|██████████| 1000/1000 [00:00<00:00, 2052.04it/s]\n"
     ]
    },
    {
     "name": "stdout",
     "output_type": "stream",
     "text": [
      "fitting to a limited range\n",
      "No eleanor postcard has been made for your target (yet). Using TessCut instead.\n"
     ]
    },
    {
     "name": "stderr",
     "output_type": "stream",
     "text": [
      "100%|██████████| 1197/1197 [00:18<00:00, 63.19it/s]\n",
      "100%|██████████| 1000/1000 [00:00<00:00, 2066.25it/s]\n"
     ]
    },
    {
     "name": "stdout",
     "output_type": "stream",
     "text": [
      "fitting to a limited range\n",
      "No eleanor postcard has been made for your target (yet). Using TessCut instead.\n"
     ]
    },
    {
     "name": "stderr",
     "output_type": "stream",
     "text": [
      "100%|██████████| 1197/1197 [00:22<00:00, 52.79it/s]\n",
      "100%|██████████| 1000/1000 [00:00<00:00, 2106.92it/s]\n"
     ]
    },
    {
     "name": "stdout",
     "output_type": "stream",
     "text": [
      "No eleanor postcard has been made for your target (yet). Using TessCut instead.\n"
     ]
    },
    {
     "name": "stderr",
     "output_type": "stream",
     "text": [
      "100%|██████████| 1197/1197 [00:19<00:00, 61.40it/s]\n",
      "100%|██████████| 1000/1000 [00:00<00:00, 1470.27it/s]\n"
     ]
    },
    {
     "name": "stdout",
     "output_type": "stream",
     "text": [
      "fitting to a limited range\n",
      "No eleanor postcard has been made for your target (yet). Using TessCut instead.\n"
     ]
    },
    {
     "name": "stderr",
     "output_type": "stream",
     "text": [
      "100%|██████████| 1197/1197 [00:23<00:00, 50.91it/s]\n",
      "100%|██████████| 1000/1000 [00:00<00:00, 2032.83it/s]\n"
     ]
    },
    {
     "name": "stdout",
     "output_type": "stream",
     "text": [
      "fitting to a limited range\n",
      "No eleanor postcard has been made for your target (yet). Using TessCut instead.\n"
     ]
    },
    {
     "name": "stderr",
     "output_type": "stream",
     "text": [
      "100%|██████████| 1197/1197 [00:17<00:00, 70.11it/s]\n",
      "100%|██████████| 1000/1000 [00:00<00:00, 2107.58it/s]\n"
     ]
    },
    {
     "name": "stdout",
     "output_type": "stream",
     "text": [
      "No eleanor postcard has been made for your target (yet). Using TessCut instead.\n"
     ]
    },
    {
     "name": "stderr",
     "output_type": "stream",
     "text": [
      "100%|██████████| 1197/1197 [00:26<00:00, 45.62it/s]\n",
      "100%|██████████| 1000/1000 [00:00<00:00, 2073.05it/s]\n"
     ]
    },
    {
     "name": "stdout",
     "output_type": "stream",
     "text": [
      "No eleanor postcard has been made for your target (yet). Using TessCut instead.\n"
     ]
    },
    {
     "name": "stderr",
     "output_type": "stream",
     "text": [
      "100%|██████████| 1197/1197 [00:35<00:00, 34.20it/s]\n",
      "100%|██████████| 1000/1000 [00:00<00:00, 2040.19it/s]\n"
     ]
    },
    {
     "name": "stdout",
     "output_type": "stream",
     "text": [
      "No eleanor postcard has been made for your target (yet). Using TessCut instead.\n"
     ]
    },
    {
     "name": "stderr",
     "output_type": "stream",
     "text": [
      "100%|██████████| 1197/1197 [00:31<00:00, 38.14it/s]\n",
      "100%|██████████| 1000/1000 [00:00<00:00, 1457.43it/s]\n"
     ]
    },
    {
     "name": "stdout",
     "output_type": "stream",
     "text": [
      "No eleanor postcard has been made for your target (yet). Using TessCut instead.\n"
     ]
    },
    {
     "name": "stderr",
     "output_type": "stream",
     "text": [
      "100%|██████████| 1197/1197 [00:26<00:00, 45.88it/s]\n",
      "100%|██████████| 1000/1000 [00:00<00:00, 1841.20it/s]\n"
     ]
    },
    {
     "name": "stdout",
     "output_type": "stream",
     "text": [
      "No eleanor postcard has been made for your target (yet). Using TessCut instead.\n"
     ]
    },
    {
     "name": "stderr",
     "output_type": "stream",
     "text": [
      "100%|██████████| 1197/1197 [00:24<00:00, 49.73it/s]\n",
      "100%|██████████| 1000/1000 [00:00<00:00, 1968.94it/s]\n"
     ]
    },
    {
     "name": "stdout",
     "output_type": "stream",
     "text": [
      "No eleanor postcard has been made for your target (yet). Using TessCut instead.\n"
     ]
    },
    {
     "name": "stderr",
     "output_type": "stream",
     "text": [
      "100%|██████████| 1197/1197 [00:26<00:00, 45.42it/s]\n",
      "100%|██████████| 1000/1000 [00:00<00:00, 1275.27it/s]\n"
     ]
    },
    {
     "name": "stdout",
     "output_type": "stream",
     "text": [
      "No eleanor postcard has been made for your target (yet). Using TessCut instead.\n"
     ]
    },
    {
     "name": "stderr",
     "output_type": "stream",
     "text": [
      "100%|██████████| 1197/1197 [00:29<00:00, 40.99it/s]\n",
      "100%|██████████| 1000/1000 [00:00<00:00, 1465.28it/s]\n"
     ]
    },
    {
     "name": "stdout",
     "output_type": "stream",
     "text": [
      "No eleanor postcard has been made for your target (yet). Using TessCut instead.\n"
     ]
    },
    {
     "name": "stderr",
     "output_type": "stream",
     "text": [
      "100%|██████████| 1197/1197 [00:26<00:00, 45.09it/s]\n",
      "100%|██████████| 1000/1000 [00:01<00:00, 931.79it/s]\n"
     ]
    },
    {
     "name": "stdout",
     "output_type": "stream",
     "text": [
      "No eleanor postcard has been made for your target (yet). Using TessCut instead.\n"
     ]
    },
    {
     "name": "stderr",
     "output_type": "stream",
     "text": [
      "100%|██████████| 1197/1197 [00:25<00:00, 47.72it/s]\n",
      "100%|██████████| 1000/1000 [00:00<00:00, 1603.76it/s]\n"
     ]
    },
    {
     "name": "stdout",
     "output_type": "stream",
     "text": [
      "fitting to a limited range\n",
      "No eleanor postcard has been made for your target (yet). Using TessCut instead.\n"
     ]
    },
    {
     "name": "stderr",
     "output_type": "stream",
     "text": [
      "100%|██████████| 1197/1197 [00:25<00:00, 46.52it/s]\n",
      "100%|██████████| 1000/1000 [00:00<00:00, 1923.80it/s]\n"
     ]
    },
    {
     "name": "stdout",
     "output_type": "stream",
     "text": [
      "No eleanor postcard has been made for your target (yet). Using TessCut instead.\n"
     ]
    },
    {
     "name": "stderr",
     "output_type": "stream",
     "text": [
      "100%|██████████| 1197/1197 [00:42<00:00, 28.26it/s]\n",
      "100%|██████████| 1000/1000 [00:00<00:00, 1532.06it/s]\n"
     ]
    },
    {
     "name": "stdout",
     "output_type": "stream",
     "text": [
      "No eleanor postcard has been made for your target (yet). Using TessCut instead.\n"
     ]
    },
    {
     "name": "stderr",
     "output_type": "stream",
     "text": [
      "100%|██████████| 1197/1197 [00:23<00:00, 50.60it/s]\n",
      "100%|██████████| 1000/1000 [00:01<00:00, 885.29it/s]\n"
     ]
    },
    {
     "name": "stdout",
     "output_type": "stream",
     "text": [
      "fitting to a limited range\n",
      "No eleanor postcard has been made for your target (yet). Using TessCut instead.\n"
     ]
    },
    {
     "name": "stderr",
     "output_type": "stream",
     "text": [
      "100%|██████████| 1197/1197 [02:54<00:00,  6.87it/s]\n",
      "100%|██████████| 1000/1000 [00:00<00:00, 1909.56it/s]\n"
     ]
    },
    {
     "name": "stdout",
     "output_type": "stream",
     "text": [
      "fitting to a limited range\n",
      "No eleanor postcard has been made for your target (yet). Using TessCut instead.\n"
     ]
    },
    {
     "name": "stderr",
     "output_type": "stream",
     "text": [
      "100%|██████████| 1241/1241 [00:36<00:00, 34.42it/s]\n",
      "100%|██████████| 1000/1000 [00:00<00:00, 1388.99it/s]\n"
     ]
    },
    {
     "name": "stdout",
     "output_type": "stream",
     "text": [
      "No eleanor postcard has been made for your target (yet). Using TessCut instead.\n"
     ]
    },
    {
     "name": "stderr",
     "output_type": "stream",
     "text": [
      "100%|██████████| 1197/1197 [01:09<00:00, 17.11it/s]\n",
      "100%|██████████| 1000/1000 [00:00<00:00, 1828.63it/s]\n"
     ]
    },
    {
     "name": "stdout",
     "output_type": "stream",
     "text": [
      "No eleanor postcard has been made for your target (yet). Using TessCut instead.\n"
     ]
    },
    {
     "name": "stderr",
     "output_type": "stream",
     "text": [
      "100%|██████████| 1241/1241 [00:27<00:00, 44.48it/s]\n",
      "100%|██████████| 1000/1000 [00:00<00:00, 2009.21it/s]\n"
     ]
    },
    {
     "name": "stdout",
     "output_type": "stream",
     "text": [
      "No eleanor postcard has been made for your target (yet). Using TessCut instead.\n"
     ]
    },
    {
     "name": "stderr",
     "output_type": "stream",
     "text": [
      "100%|██████████| 1197/1197 [00:31<00:00, 38.46it/s]\n",
      "100%|██████████| 1000/1000 [00:00<00:00, 1567.68it/s]\n"
     ]
    },
    {
     "name": "stdout",
     "output_type": "stream",
     "text": [
      "fitting to a limited range\n",
      "No eleanor postcard has been made for your target (yet). Using TessCut instead.\n"
     ]
    },
    {
     "name": "stderr",
     "output_type": "stream",
     "text": [
      "100%|██████████| 1241/1241 [00:26<00:00, 47.48it/s]\n",
      "100%|██████████| 1000/1000 [00:00<00:00, 2080.81it/s]\n"
     ]
    },
    {
     "name": "stdout",
     "output_type": "stream",
     "text": [
      "No eleanor postcard has been made for your target (yet). Using TessCut instead.\n"
     ]
    },
    {
     "name": "stderr",
     "output_type": "stream",
     "text": [
      "100%|██████████| 1197/1197 [03:22<00:00,  5.90it/s]\n",
      "100%|██████████| 1000/1000 [00:00<00:00, 1682.90it/s]\n"
     ]
    },
    {
     "name": "stdout",
     "output_type": "stream",
     "text": [
      "No eleanor postcard has been made for your target (yet). Using TessCut instead.\n"
     ]
    },
    {
     "name": "stderr",
     "output_type": "stream",
     "text": [
      "100%|██████████| 1197/1197 [00:29<00:00, 40.65it/s]\n",
      "100%|██████████| 1000/1000 [00:00<00:00, 1992.31it/s]\n"
     ]
    },
    {
     "name": "stdout",
     "output_type": "stream",
     "text": [
      "No eleanor postcard has been made for your target (yet). Using TessCut instead.\n"
     ]
    },
    {
     "name": "stderr",
     "output_type": "stream",
     "text": [
      "100%|██████████| 1197/1197 [00:27<00:00, 43.88it/s]\n",
      "100%|██████████| 1000/1000 [00:00<00:00, 1507.25it/s]\n"
     ]
    },
    {
     "name": "stdout",
     "output_type": "stream",
     "text": [
      "No eleanor postcard has been made for your target (yet). Using TessCut instead.\n"
     ]
    },
    {
     "name": "stderr",
     "output_type": "stream",
     "text": [
      "100%|██████████| 1197/1197 [00:36<00:00, 32.42it/s]\n",
      "100%|██████████| 1000/1000 [00:00<00:00, 2037.23it/s]\n"
     ]
    },
    {
     "name": "stdout",
     "output_type": "stream",
     "text": [
      "No eleanor postcard has been made for your target (yet). Using TessCut instead.\n"
     ]
    },
    {
     "name": "stderr",
     "output_type": "stream",
     "text": [
      "100%|██████████| 1197/1197 [00:26<00:00, 45.68it/s]\n",
      "100%|██████████| 1000/1000 [00:00<00:00, 1726.73it/s]\n"
     ]
    },
    {
     "name": "stdout",
     "output_type": "stream",
     "text": [
      "No eleanor postcard has been made for your target (yet). Using TessCut instead.\n"
     ]
    },
    {
     "name": "stderr",
     "output_type": "stream",
     "text": [
      "100%|██████████| 1197/1197 [00:21<00:00, 54.77it/s]\n",
      "100%|██████████| 1000/1000 [00:00<00:00, 2027.11it/s]\n"
     ]
    },
    {
     "name": "stdout",
     "output_type": "stream",
     "text": [
      "No eleanor postcard has been made for your target (yet). Using TessCut instead.\n"
     ]
    },
    {
     "name": "stderr",
     "output_type": "stream",
     "text": [
      "100%|██████████| 1241/1241 [00:31<00:00, 39.78it/s]\n",
      "100%|██████████| 1000/1000 [00:00<00:00, 1558.75it/s]\n"
     ]
    },
    {
     "name": "stdout",
     "output_type": "stream",
     "text": [
      "No eleanor postcard has been made for your target (yet). Using TessCut instead.\n"
     ]
    },
    {
     "name": "stderr",
     "output_type": "stream",
     "text": [
      "100%|██████████| 1241/1241 [00:34<00:00, 36.46it/s]\n",
      "100%|██████████| 1000/1000 [00:00<00:00, 1525.26it/s]\n"
     ]
    },
    {
     "name": "stdout",
     "output_type": "stream",
     "text": [
      "No eleanor postcard has been made for your target (yet). Using TessCut instead.\n"
     ]
    },
    {
     "name": "stderr",
     "output_type": "stream",
     "text": [
      "100%|██████████| 1197/1197 [00:31<00:00, 37.59it/s]\n",
      "100%|██████████| 1000/1000 [00:00<00:00, 1979.04it/s]\n"
     ]
    },
    {
     "name": "stdout",
     "output_type": "stream",
     "text": [
      "No eleanor postcard has been made for your target (yet). Using TessCut instead.\n"
     ]
    },
    {
     "name": "stderr",
     "output_type": "stream",
     "text": [
      "100%|██████████| 1197/1197 [00:24<00:00, 48.10it/s]\n",
      "100%|██████████| 1000/1000 [00:00<00:00, 1981.47it/s]\n"
     ]
    },
    {
     "name": "stdout",
     "output_type": "stream",
     "text": [
      "No eleanor postcard has been made for your target (yet). Using TessCut instead.\n"
     ]
    },
    {
     "name": "stderr",
     "output_type": "stream",
     "text": [
      "100%|██████████| 1197/1197 [00:29<00:00, 41.27it/s]\n",
      "100%|██████████| 1000/1000 [00:00<00:00, 1651.12it/s]\n"
     ]
    },
    {
     "name": "stdout",
     "output_type": "stream",
     "text": [
      "No eleanor postcard has been made for your target (yet). Using TessCut instead.\n"
     ]
    },
    {
     "name": "stderr",
     "output_type": "stream",
     "text": [
      "100%|██████████| 1241/1241 [00:33<00:00, 37.17it/s]\n",
      "100%|██████████| 1000/1000 [00:00<00:00, 1386.13it/s]\n"
     ]
    },
    {
     "name": "stdout",
     "output_type": "stream",
     "text": [
      "No eleanor postcard has been made for your target (yet). Using TessCut instead.\n"
     ]
    },
    {
     "name": "stderr",
     "output_type": "stream",
     "text": [
      "100%|██████████| 1241/1241 [00:31<00:00, 39.53it/s]\n",
      "100%|██████████| 1000/1000 [00:00<00:00, 1601.77it/s]\n"
     ]
    },
    {
     "name": "stdout",
     "output_type": "stream",
     "text": [
      "No eleanor postcard has been made for your target (yet). Using TessCut instead.\n"
     ]
    },
    {
     "name": "stderr",
     "output_type": "stream",
     "text": [
      "100%|██████████| 1197/1197 [00:33<00:00, 35.22it/s]\n",
      "100%|██████████| 1000/1000 [00:00<00:00, 1719.99it/s]\n"
     ]
    },
    {
     "name": "stdout",
     "output_type": "stream",
     "text": [
      "No eleanor postcard has been made for your target (yet). Using TessCut instead.\n"
     ]
    },
    {
     "name": "stderr",
     "output_type": "stream",
     "text": [
      "100%|██████████| 1241/1241 [00:27<00:00, 45.60it/s]\n",
      "100%|██████████| 1000/1000 [00:00<00:00, 1524.75it/s]\n"
     ]
    },
    {
     "name": "stdout",
     "output_type": "stream",
     "text": [
      "No eleanor postcard has been made for your target (yet). Using TessCut instead.\n"
     ]
    },
    {
     "name": "stderr",
     "output_type": "stream",
     "text": [
      "100%|██████████| 1241/1241 [00:29<00:00, 41.72it/s]\n",
      "100%|██████████| 1000/1000 [00:01<00:00, 807.68it/s]\n"
     ]
    },
    {
     "name": "stdout",
     "output_type": "stream",
     "text": [
      "fitting to a limited range\n",
      "No eleanor postcard has been made for your target (yet). Using TessCut instead.\n"
     ]
    },
    {
     "name": "stderr",
     "output_type": "stream",
     "text": [
      "100%|██████████| 1241/1241 [00:32<00:00, 37.90it/s]\n",
      "100%|██████████| 1000/1000 [00:00<00:00, 1509.49it/s]\n"
     ]
    },
    {
     "name": "stdout",
     "output_type": "stream",
     "text": [
      "No eleanor postcard has been made for your target (yet). Using TessCut instead.\n"
     ]
    },
    {
     "name": "stderr",
     "output_type": "stream",
     "text": [
      "100%|██████████| 1197/1197 [00:34<00:00, 34.50it/s]\n",
      "100%|██████████| 1000/1000 [00:00<00:00, 1633.86it/s]\n"
     ]
    },
    {
     "name": "stdout",
     "output_type": "stream",
     "text": [
      "fitting to a limited range\n",
      "No eleanor postcard has been made for your target (yet). Using TessCut instead.\n"
     ]
    },
    {
     "name": "stderr",
     "output_type": "stream",
     "text": [
      "100%|██████████| 1197/1197 [00:32<00:00, 37.37it/s]\n",
      "100%|██████████| 1000/1000 [00:00<00:00, 1337.44it/s]\n"
     ]
    },
    {
     "name": "stdout",
     "output_type": "stream",
     "text": [
      "No eleanor postcard has been made for your target (yet). Using TessCut instead.\n"
     ]
    },
    {
     "name": "stderr",
     "output_type": "stream",
     "text": [
      "100%|██████████| 1197/1197 [00:31<00:00, 38.35it/s]\n",
      "100%|██████████| 1000/1000 [00:01<00:00, 915.07it/s]\n"
     ]
    },
    {
     "name": "stdout",
     "output_type": "stream",
     "text": [
      "No eleanor postcard has been made for your target (yet). Using TessCut instead.\n",
      "Downloading URL https://mast.stsci.edu/tesscut/api/v0.1/astrocut?ra=291.348032231815&dec=42.7945457940716&y=31&x=31&units=px&sector=14 to /Users/ilanadoran/.eleanor/tesscut/tesscut_20201204115207.zip ... [Done]\n",
      "Inflating...\n"
     ]
    },
    {
     "name": "stderr",
     "output_type": "stream",
     "text": [
      "100%|██████████| 1241/1241 [00:37<00:00, 33.47it/s]\n",
      "100%|██████████| 1000/1000 [00:00<00:00, 1394.65it/s]\n"
     ]
    },
    {
     "name": "stdout",
     "output_type": "stream",
     "text": [
      "No eleanor postcard has been made for your target (yet). Using TessCut instead.\n",
      "Downloading URL https://mast.stsci.edu/tesscut/api/v0.1/astrocut?ra=297.983660087545&dec=46.1428265380471&y=31&x=31&units=px&sector=15 to /Users/ilanadoran/.eleanor/tesscut/tesscut_20201204115302.zip ... [Done]\n",
      "Inflating...\n"
     ]
    },
    {
     "name": "stderr",
     "output_type": "stream",
     "text": [
      "100%|██████████| 1197/1197 [00:23<00:00, 50.50it/s]\n",
      "100%|██████████| 1000/1000 [00:00<00:00, 1736.18it/s]\n"
     ]
    },
    {
     "name": "stdout",
     "output_type": "stream",
     "text": [
      "No eleanor postcard has been made for your target (yet). Using TessCut instead.\n",
      "Downloading URL https://mast.stsci.edu/tesscut/api/v0.1/astrocut?ra=290.083438178277&dec=50.9163367026581&y=31&x=31&units=px&sector=14 to /Users/ilanadoran/.eleanor/tesscut/tesscut_20201204115342.zip ... [Done]\n",
      "Inflating...\n"
     ]
    },
    {
     "name": "stderr",
     "output_type": "stream",
     "text": [
      "100%|██████████| 1241/1241 [00:35<00:00, 34.66it/s]\n",
      "100%|██████████| 1000/1000 [00:00<00:00, 1056.95it/s]\n"
     ]
    },
    {
     "name": "stdout",
     "output_type": "stream",
     "text": [
      "No eleanor postcard has been made for your target (yet). Using TessCut instead.\n",
      "Downloading URL https://mast.stsci.edu/tesscut/api/v0.1/astrocut?ra=293.593524522365&dec=41.2351694661097&y=31&x=31&units=px&sector=14 to /Users/ilanadoran/.eleanor/tesscut/tesscut_20201204115436.zip ... [Done]\n",
      "Inflating...\n"
     ]
    },
    {
     "name": "stderr",
     "output_type": "stream",
     "text": [
      "100%|██████████| 1241/1241 [00:36<00:00, 34.21it/s]\n",
      "100%|██████████| 1000/1000 [00:00<00:00, 1657.32it/s]\n"
     ]
    },
    {
     "name": "stdout",
     "output_type": "stream",
     "text": [
      "No eleanor postcard has been made for your target (yet). Using TessCut instead.\n",
      "Downloading URL https://mast.stsci.edu/tesscut/api/v0.1/astrocut?ra=296.083854668908&dec=42.660528010581&y=31&x=31&units=px&sector=15 to /Users/ilanadoran/.eleanor/tesscut/tesscut_20201204115528.zip ... [Done]\n",
      "Inflating...\n"
     ]
    },
    {
     "name": "stderr",
     "output_type": "stream",
     "text": [
      "100%|██████████| 1197/1197 [00:36<00:00, 33.03it/s]\n",
      "100%|██████████| 1000/1000 [00:00<00:00, 1898.43it/s]\n"
     ]
    },
    {
     "name": "stdout",
     "output_type": "stream",
     "text": [
      "No eleanor postcard has been made for your target (yet). Using TessCut instead.\n",
      "Downloading URL https://mast.stsci.edu/tesscut/api/v0.1/astrocut?ra=296.682081471424&dec=44.8462055072827&y=31&x=31&units=px&sector=15 to /Users/ilanadoran/.eleanor/tesscut/tesscut_20201204115619.zip ... [Done]\n",
      "Inflating...\n"
     ]
    },
    {
     "name": "stderr",
     "output_type": "stream",
     "text": [
      "100%|██████████| 1197/1197 [00:36<00:00, 32.80it/s]\n",
      "100%|██████████| 1000/1000 [00:00<00:00, 1537.91it/s]\n"
     ]
    },
    {
     "name": "stdout",
     "output_type": "stream",
     "text": [
      "No eleanor postcard has been made for your target (yet). Using TessCut instead.\n",
      "Downloading URL https://mast.stsci.edu/tesscut/api/v0.1/astrocut?ra=289.869150717469&dec=50.7027507467611&y=31&x=31&units=px&sector=15 to /Users/ilanadoran/.eleanor/tesscut/tesscut_20201204115711.zip ... [Done]\n",
      "Inflating...\n"
     ]
    },
    {
     "name": "stderr",
     "output_type": "stream",
     "text": [
      "100%|██████████| 1197/1197 [00:29<00:00, 40.24it/s]\n",
      "100%|██████████| 1000/1000 [00:00<00:00, 1701.83it/s]\n"
     ]
    },
    {
     "name": "stdout",
     "output_type": "stream",
     "text": [
      "No eleanor postcard has been made for your target (yet). Using TessCut instead.\n",
      "Downloading URL https://mast.stsci.edu/tesscut/api/v0.1/astrocut?ra=286.765464736517&dec=47.1748953845849&y=31&x=31&units=px&sector=15 to /Users/ilanadoran/.eleanor/tesscut/tesscut_20201204115758.zip ... [Done]\n",
      "Inflating...\n"
     ]
    },
    {
     "name": "stderr",
     "output_type": "stream",
     "text": [
      "100%|██████████| 1197/1197 [00:29<00:00, 39.99it/s]\n",
      "100%|██████████| 1000/1000 [00:00<00:00, 1802.07it/s]\n"
     ]
    },
    {
     "name": "stdout",
     "output_type": "stream",
     "text": [
      "fitting to a limited range\n",
      "No eleanor postcard has been made for your target (yet). Using TessCut instead.\n",
      "Downloading URL https://mast.stsci.edu/tesscut/api/v0.1/astrocut?ra=291.513439785686&dec=38.82295827877&y=31&x=31&units=px&sector=14 to /Users/ilanadoran/.eleanor/tesscut/tesscut_20201204115845.zip ... [Done]\n",
      "Inflating...\n"
     ]
    },
    {
     "name": "stderr",
     "output_type": "stream",
     "text": [
      "100%|██████████| 1241/1241 [00:34<00:00, 35.77it/s]\n",
      "100%|██████████| 1000/1000 [00:00<00:00, 1318.10it/s]\n"
     ]
    }
   ],
   "source": [
    "tess_periods = []\n",
    "ls_periods = []\n",
    "exo_periods = []\n",
    "\n",
    "for index, value in (enumerate(tics_short_periods[0:])):\n",
    "    period_tess = eleanor_plots(value, index)\n",
    "    tess_periods.append(period_tess[1])\n",
    "    ls_periods.append(period_tess[0])\n",
    "    exo_periods.append(period_tess[2])"
   ]
  },
  {
   "cell_type": "code",
   "execution_count": 11,
   "metadata": {},
   "outputs": [
    {
     "data": {
      "text/plain": [
       "317"
      ]
     },
     "execution_count": 11,
     "metadata": {},
     "output_type": "execute_result"
    }
   ],
   "source": [
    "len(short_periods)"
   ]
  },
  {
   "cell_type": "markdown",
   "metadata": {},
   "source": [
    "tess_periods_interp = tess_periods"
   ]
  },
  {
   "cell_type": "markdown",
   "metadata": {},
   "source": [
    "ls_periods_interp = ls_periods"
   ]
  },
  {
   "cell_type": "markdown",
   "metadata": {},
   "source": [
    "with open('tess_periods_interp.data', 'wb') as filehandle:\n",
    "    pickle.dump(tess_periods_interp, filehandle)"
   ]
  },
  {
   "cell_type": "markdown",
   "metadata": {},
   "source": [
    "with open('ls_periods_interp.data', 'wb') as filehandle:\n",
    "    pickle.dump(ls_periods_interp, filehandle)"
   ]
  },
  {
   "cell_type": "code",
   "execution_count": 11,
   "metadata": {},
   "outputs": [],
   "source": [
    "with open('tess_periods_interp.data', 'rb') as filehandle:\n",
    "    tess_periods_interp = pickle.load(filehandle) "
   ]
  },
  {
   "cell_type": "code",
   "execution_count": 12,
   "metadata": {},
   "outputs": [],
   "source": [
    "with open('ls_periods_interp.data', 'rb') as filehandle:\n",
    "    ls_period_interp = pickle.load(filehandle) "
   ]
  },
  {
   "cell_type": "markdown",
   "metadata": {
    "scrolled": true
   },
   "source": [
    "#calculating tess periods from exoplanet\n",
    "exo_ls = [] #lombs-scargle\n",
    "exo_acf = [] #acf\n",
    "\n",
    "for each, star in enumerate(tics_short_periods):\n",
    "    star_el = eleanor.Source(tic=star)\n",
    "    data = eleanor.TargetData(star_el, do_psf=True, do_pca=True)\n",
    "    q = data.quality == 0\n",
    "    \n",
    "    time = data.time[q]    \n",
    "    flux = data.pca_flux[q]/np.nanmedian(data.pca_flux[q])\n",
    "    f = interpolate.interp1d(time, flux)\n",
    "    xnew = np.arange(time[0], time[-1], 0.1)\n",
    "    norm_flux = f(xnew) \n",
    "    flux_err = np.sqrt(norm_flux)\n",
    "\n",
    "    exo = exoplanet.lomb_scargle_estimator(xnew, norm_flux, yerr=flux_err, min_period= 0.1, max_peaks=2)\n",
    "    ex_1 = exoplanet.autocorr_estimator(xnew, norm_flux, yerr=flux_err, oversample=2.0, smooth=2.0, )\n",
    "    \n",
    "    if len(exo['peaks']) > 0: \n",
    "        exo_ls.append(exo['peaks'][0]['period'])  \n",
    "    else: \n",
    "        exo_ls.append(0)\n",
    "        \n",
    "    if len(ex_1['peaks']) > 0: \n",
    "        exo_acf.append(ex_1['peaks'][0]['period'])\n",
    "    else:\n",
    "        exo_acf.append(0)  "
   ]
  },
  {
   "cell_type": "markdown",
   "metadata": {},
   "source": [
    "with open('exo_ls.data', 'wb') as filehandle:\n",
    "    pickle.dump(exo_ls, filehandle)\n",
    "\n",
    "with open('exo_acf.data', 'wb') as filehandle:\n",
    "    pickle.dump(exo_acf, filehandle)"
   ]
  },
  {
   "cell_type": "code",
   "execution_count": 13,
   "metadata": {},
   "outputs": [],
   "source": [
    "with open('exo_ls.data', 'rb') as filehandle:\n",
    "    exo_ls = pickle.load(filehandle) \n",
    "\n",
    "with open('exo_acf.data', 'rb') as filehandle:\n",
    "    exo_acf = pickle.load(filehandle) "
   ]
  },
  {
   "cell_type": "code",
   "execution_count": 14,
   "metadata": {},
   "outputs": [
    {
     "data": {
      "text/html": [
       "\n",
       "\n",
       "\n",
       "\n",
       "\n",
       "\n",
       "  <div class=\"bk-root\" id=\"7eccd97b-0302-45e8-9420-4f8c2707e541\" data-root-id=\"1003\"></div>\n"
      ]
     },
     "metadata": {},
     "output_type": "display_data"
    },
    {
     "data": {
      "application/javascript": [
       "(function(root) {\n",
       "  function embed_document(root) {\n",
       "    \n",
       "  var docs_json = {\"b137a69b-2e71-4ac1-bae8-ed0bc5a7bd66\":{\"roots\":{\"references\":[{\"attributes\":{\"below\":[{\"id\":\"1014\",\"type\":\"LinearAxis\"}],\"center\":[{\"id\":\"1018\",\"type\":\"Grid\"},{\"id\":\"1023\",\"type\":\"Grid\"},{\"id\":\"1046\",\"type\":\"Legend\"}],\"left\":[{\"id\":\"1019\",\"type\":\"LinearAxis\"}],\"plot_width\":900,\"renderers\":[{\"id\":\"1038\",\"type\":\"GlyphRenderer\"},{\"id\":\"1051\",\"type\":\"GlyphRenderer\"},{\"id\":\"1056\",\"type\":\"GlyphRenderer\"},{\"id\":\"1072\",\"type\":\"GlyphRenderer\"}],\"title\":{\"id\":\"1004\",\"type\":\"Title\"},\"toolbar\":{\"id\":\"1029\",\"type\":\"Toolbar\"},\"x_range\":{\"id\":\"1006\",\"type\":\"DataRange1d\"},\"x_scale\":{\"id\":\"1010\",\"type\":\"LinearScale\"},\"y_range\":{\"id\":\"1008\",\"type\":\"Range1d\"},\"y_scale\":{\"id\":\"1012\",\"type\":\"LinearScale\"}},\"id\":\"1003\",\"subtype\":\"Figure\",\"type\":\"Plot\"},{\"attributes\":{},\"id\":\"1010\",\"type\":\"LinearScale\"},{\"attributes\":{},\"id\":\"1064\",\"type\":\"UnionRenderers\"},{\"attributes\":{},\"id\":\"1100\",\"type\":\"UnionRenderers\"},{\"attributes\":{\"items\":[{\"id\":\"1047\",\"type\":\"LegendItem\"},{\"id\":\"1068\",\"type\":\"LegendItem\"},{\"id\":\"1086\",\"type\":\"LegendItem\"}]},\"id\":\"1046\",\"type\":\"Legend\"},{\"attributes\":{\"callback\":null,\"tooltips\":[[\"index\",\"$index\"],[\"(x,y)\",\"($x, $y)\"],[\"TIC ID\",\"@tess\"]]},\"id\":\"1028\",\"type\":\"HoverTool\"},{\"attributes\":{},\"id\":\"1024\",\"type\":\"PanTool\"},{\"attributes\":{},\"id\":\"1020\",\"type\":\"BasicTicker\"},{\"attributes\":{\"label\":{\"value\":\"y=x\"},\"renderers\":[{\"id\":\"1038\",\"type\":\"GlyphRenderer\"}]},\"id\":\"1047\",\"type\":\"LegendItem\"},{\"attributes\":{\"label\":{\"value\":\"y=2x\"},\"renderers\":[{\"id\":\"1056\",\"type\":\"GlyphRenderer\"}]},\"id\":\"1068\",\"type\":\"LegendItem\"},{\"attributes\":{},\"id\":\"1041\",\"type\":\"BasicTickFormatter\"},{\"attributes\":{\"data_source\":{\"id\":\"1035\",\"type\":\"ColumnDataSource\"},\"glyph\":{\"id\":\"1036\",\"type\":\"Line\"},\"hover_glyph\":null,\"muted_glyph\":null,\"name\":\"y=x\",\"nonselection_glyph\":{\"id\":\"1037\",\"type\":\"Line\"},\"selection_glyph\":null,\"view\":{\"id\":\"1039\",\"type\":\"CDSView\"}},\"id\":\"1038\",\"type\":\"GlyphRenderer\"},{\"attributes\":{\"overlay\":{\"id\":\"1045\",\"type\":\"BoxAnnotation\"}},\"id\":\"1025\",\"type\":\"BoxZoomTool\"},{\"attributes\":{},\"id\":\"1065\",\"type\":\"Selection\"},{\"attributes\":{},\"id\":\"1101\",\"type\":\"Selection\"},{\"attributes\":{\"callback\":null,\"data\":{\"x\":[7.0,8.88,2.85,10.69,8.74,12.83,6.72,2.67,6.41,2.81,2.19,10.68,11.96,7.7,3.56,8.6,3.72,11.19,10.5,0.84,3.32,1.54,1.37,12.11,10.51,3.2,11.11,1.18,5.62,1.85,3.83,2.38,2.7,12.12,8.23,3.54,8.01,6.32,11.72,7.97,1.45,12.32,2.78,10.03,1.45,1.68,3.15,0.57,1.18,6.4,2.99,0.96,6.24,7.59,3.91,6.42,1.03,8.52,9.73,9.44,8.54,0.57,2.24,12.05,7.75,10.05,10.69,6.46,11.48,6.86,7.86,8.25,4.88,1.84,2.61,9.94,10.02,9.76,11.56,5.43,9.33,6.09,8.48,3.64,4.99,10.46,10.73,0.57,5.61,6.27,11.47,8.48,8.59,5.98,5.68,7.45,2.32,6.06,0.29,3.84,9.43,5.96,11.77,4.64,11.88,6.7,9.73,7.6,9.8,1.41,7.82,3.51,11.15,11.48,10.47,11.46,9.9,9.62,4.49,2.84,10.87,3.72,12.39,2.9,3.26,8.97,8.2,7.94,9.12,10.29,4.92,7.1,11.27,5.33,4.7,8.11,0.82,3.48,11.07,12.48,2.0,7.01,5.78,3.3,4.36,3.34,11.96,2.0,3.25,2.77,4.85,6.8,10.96,9.98,4.96,8.14,10.29,0.57,4.62,1.52,10.34,10.42,4.89,0.78,10.46,4.73,12.56,1.21,11.11,4.16,8.02,1.1,6.64,3.62,3.6,1.83,11.02,12.59,4.09,4.88,11.39,7.67,3.08,7.51,12.47,12.61,3.1,12.11,0.3,12.1,9.87,12.31,4.89,1.63,2.57,11.25,1.67,6.61,0.99,11.65,3.1,6.66,0.57,1.18,10.72,5.15,4.16,1.27,11.94,11.95,6.31,6.63,2.88,7.36,9.47,8.99,9.47,7.01,10.65,3.85,1.8,7.3,1.15,11.81,5.17,9.44,0.61,5.98,7.99,7.95,5.18,4.56,4.32,2.67,3.51,6.45,6.28,3.9,10.27,4.1,1.41,7.01,0.9,10.78,1.34,3.33,5.93,11.32,8.24,10.75,0.56,2.51,6.88,1.52,12.0,3.49,12.82,6.74,8.85,6.82,1.19,0.88,4.94,10.12,3.17,8.13,6.09,1.16,8.05,8.6,11.54,4.54,12.0,0.22,8.44,9.25,4.04,2.61,11.96,3.45,0.33,3.93,2.02,1.69,6.36,1.22,11.96,11.41,11.21,9.12,10.78,7.47,7.29,4.35,4.01,11.98,5.21,9.02,4.77,11.51,9.77,8.1,10.27,7.78,11.21,1.26,3.62,11.71,6.88,11.54,3.3,10.88,1.39,4.07,3.56,0.26,5.45],\"y\":[7.0,8.88,2.85,10.69,8.74,12.83,6.72,2.67,6.41,2.81,2.19,10.68,11.96,7.7,3.56,8.6,3.72,11.19,10.5,0.84,3.32,1.54,1.37,12.11,10.51,3.2,11.11,1.18,5.62,1.85,3.83,2.38,2.7,12.12,8.23,3.54,8.01,6.32,11.72,7.97,1.45,12.32,2.78,10.03,1.45,1.68,3.15,0.57,1.18,6.4,2.99,0.96,6.24,7.59,3.91,6.42,1.03,8.52,9.73,9.44,8.54,0.57,2.24,12.05,7.75,10.05,10.69,6.46,11.48,6.86,7.86,8.25,4.88,1.84,2.61,9.94,10.02,9.76,11.56,5.43,9.33,6.09,8.48,3.64,4.99,10.46,10.73,0.57,5.61,6.27,11.47,8.48,8.59,5.98,5.68,7.45,2.32,6.06,0.29,3.84,9.43,5.96,11.77,4.64,11.88,6.7,9.73,7.6,9.8,1.41,7.82,3.51,11.15,11.48,10.47,11.46,9.9,9.62,4.49,2.84,10.87,3.72,12.39,2.9,3.26,8.97,8.2,7.94,9.12,10.29,4.92,7.1,11.27,5.33,4.7,8.11,0.82,3.48,11.07,12.48,2.0,7.01,5.78,3.3,4.36,3.34,11.96,2.0,3.25,2.77,4.85,6.8,10.96,9.98,4.96,8.14,10.29,0.57,4.62,1.52,10.34,10.42,4.89,0.78,10.46,4.73,12.56,1.21,11.11,4.16,8.02,1.1,6.64,3.62,3.6,1.83,11.02,12.59,4.09,4.88,11.39,7.67,3.08,7.51,12.47,12.61,3.1,12.11,0.3,12.1,9.87,12.31,4.89,1.63,2.57,11.25,1.67,6.61,0.99,11.65,3.1,6.66,0.57,1.18,10.72,5.15,4.16,1.27,11.94,11.95,6.31,6.63,2.88,7.36,9.47,8.99,9.47,7.01,10.65,3.85,1.8,7.3,1.15,11.81,5.17,9.44,0.61,5.98,7.99,7.95,5.18,4.56,4.32,2.67,3.51,6.45,6.28,3.9,10.27,4.1,1.41,7.01,0.9,10.78,1.34,3.33,5.93,11.32,8.24,10.75,0.56,2.51,6.88,1.52,12.0,3.49,12.82,6.74,8.85,6.82,1.19,0.88,4.94,10.12,3.17,8.13,6.09,1.16,8.05,8.6,11.54,4.54,12.0,0.22,8.44,9.25,4.04,2.61,11.96,3.45,0.33,3.93,2.02,1.69,6.36,1.22,11.96,11.41,11.21,9.12,10.78,7.47,7.29,4.35,4.01,11.98,5.21,9.02,4.77,11.51,9.77,8.1,10.27,7.78,11.21,1.26,3.62,11.71,6.88,11.54,3.3,10.88,1.39,4.07,3.56,0.26,5.45]},\"selected\":{\"id\":\"1065\",\"type\":\"Selection\"},\"selection_policy\":{\"id\":\"1064\",\"type\":\"UnionRenderers\"}},\"id\":\"1035\",\"type\":\"ColumnDataSource\"},{\"attributes\":{},\"id\":\"1066\",\"type\":\"UnionRenderers\"},{\"attributes\":{\"axis_label\":\"TESS PDM Period\",\"formatter\":{\"id\":\"1043\",\"type\":\"BasicTickFormatter\"},\"ticker\":{\"id\":\"1020\",\"type\":\"BasicTicker\"}},\"id\":\"1019\",\"type\":\"LinearAxis\"},{\"attributes\":{\"active_drag\":\"auto\",\"active_inspect\":\"auto\",\"active_multi\":null,\"active_scroll\":\"auto\",\"active_tap\":\"auto\",\"tools\":[{\"id\":\"1024\",\"type\":\"PanTool\"},{\"id\":\"1025\",\"type\":\"BoxZoomTool\"},{\"id\":\"1026\",\"type\":\"ResetTool\"},{\"id\":\"1027\",\"type\":\"SaveTool\"},{\"id\":\"1028\",\"type\":\"HoverTool\"}]},\"id\":\"1029\",\"type\":\"Toolbar\"},{\"attributes\":{},\"id\":\"1027\",\"type\":\"SaveTool\"},{\"attributes\":{\"callback\":null,\"data\":{\"tess\":[275493837,121789795,63007124,275490626,171098535,63210277,351803000,170253623,158791870,164724054,122684770,121457565,273582401,267991320,137218354,184089663,272370950,159172008,121659832,138728898,169460055,169466444,122213500,63209318,120963553,267746802,271165094,27395090,298964604,270608620,185058148,271426791,273687618,272719990,239227465,27186774,271538184,121215119,121939294,352013209,185058255,170344764,378084176,120422997,63075888,270856793,26597576,158412743,121329643,351055098,120890400,137408312,267671733,279916031,271547585,158936101,121939266,239225673,27389081,121785547,138725623],\"x\":[7.0,8.88,2.85,10.69,8.74,12.83,6.72,2.67,6.41,2.81,2.19,10.68,11.96,7.7,3.56,8.6,3.72,11.19,10.5,0.84,3.32,1.54,1.37,12.11,10.51,3.2,11.11,1.18,5.62,1.85,3.83,2.38,2.7,12.12,8.23,3.54,8.01,6.32,11.72,7.97,1.45,12.32,2.78,10.03,1.45,1.68,3.15,0.57,1.18,6.4,2.99,0.96,6.24,7.59,3.91,6.42,1.03,8.52,9.73,9.44,8.54,0.57,2.24,12.05,7.75,10.05,10.69,6.46,11.48,6.86,7.86,8.25,4.88,1.84,2.61,9.94,10.02,9.76,11.56,5.43,9.33,6.09,8.48,3.64,4.99,10.46,10.73,0.57,5.61,6.27,11.47,8.48,8.59,5.98,5.68,7.45,2.32,6.06,0.29,3.84,9.43,5.96,11.77,4.64,11.88,6.7,9.73,7.6,9.8,1.41,7.82,3.51,11.15,11.48,10.47,11.46,9.9,9.62,4.49,2.84,10.87,3.72,12.39,2.9,3.26,8.97,8.2,7.94,9.12,10.29,4.92,7.1,11.27,5.33,4.7,8.11,0.82,3.48,11.07,12.48,2.0,7.01,5.78,3.3,4.36,3.34,11.96,2.0,3.25,2.77,4.85,6.8,10.96,9.98,4.96,8.14,10.29,0.57,4.62,1.52,10.34,10.42,4.89,0.78,10.46,4.73,12.56,1.21,11.11,4.16,8.02,1.1,6.64,3.62,3.6,1.83,11.02,12.59,4.09,4.88,11.39,7.67,3.08,7.51,12.47,12.61,3.1,12.11,0.3,12.1,9.87,12.31,4.89,1.63,2.57,11.25,1.67,6.61,0.99,11.65,3.1,6.66,0.57,1.18,10.72,5.15,4.16,1.27,11.94,11.95,6.31,6.63,2.88,7.36,9.47,8.99,9.47,7.01,10.65,3.85,1.8,7.3,1.15,11.81,5.17,9.44,0.61,5.98,7.99,7.95,5.18,4.56,4.32,2.67,3.51,6.45,6.28,3.9,10.27,4.1,1.41,7.01,0.9,10.78,1.34,3.33,5.93,11.32,8.24,10.75,0.56,2.51,6.88,1.52,12.0,3.49,12.82,6.74,8.85,6.82,1.19,0.88,4.94,10.12,3.17,8.13,6.09,1.16,8.05,8.6,11.54,4.54,12.0,0.22,8.44,9.25,4.04,2.61,11.96,3.45,0.33,3.93,2.02,1.69,6.36,1.22,11.96,11.41,11.21,9.12,10.78,7.47,7.29,4.35,4.01,11.98,5.21,9.02,4.77,11.51,9.77,8.1,10.27,7.78,11.21,1.26,3.62,11.71,6.88,11.54,3.3,10.88,1.39,4.07,3.56,0.26,5.45],\"y\":[7.730630630630631,7.83963963963964,2.8153153153153156,7.066666666666667,7.046846846846847,9.762162162162163,2.8153153153153156,7.750450450450451,6.72972972972973,8.00810810810811,7.84954954954955,7.641441441441442,0.44684684684684695,7.472972972972974,5.6000000000000005,3.5288288288288294,3.7072072072072078,4.559459459459459,4.440540540540541,0.8333333333333334,8.612612612612613,9.682882882882884,1.3783783783783785,7.443243243243244,1.0216216216216218,6.838738738738739,7.215315315315316,1.1603603603603605,4.757657657657658,7.532432432432433,7.363963963963965,0.7837837837837839,7.522522522522523,7.770270270270271,6.918018018018018,6.937837837837838,2.8252252252252257,4.52972972972973,8.394594594594595,9.791891891891893,1.447747747747748,6.918018018018018,1.3882882882882885,6.898198198198199,7.205405405405406,1.665765765765766,6.838738738738739,0.5657657657657659,4.688288288288288,3.558558558558559,8.156756756756756,8.612612612612613,2.8153153153153156,7.046846846846847,7.710810810810811,6.848648648648649,7.066666666666667,7.096396396396397,7.86936936936937,0.5954954954954955,8.572972972972973]},\"selected\":{\"id\":\"1067\",\"type\":\"Selection\"},\"selection_policy\":{\"id\":\"1066\",\"type\":\"UnionRenderers\"}},\"id\":\"1002\",\"type\":\"ColumnDataSource\"},{\"attributes\":{\"line_color\":\"khaki\",\"line_dash\":[2,4],\"x\":{\"field\":\"x\"},\"y\":{\"field\":\"y\"}},\"id\":\"1054\",\"type\":\"Line\"},{\"attributes\":{\"callback\":null},\"id\":\"1006\",\"type\":\"DataRange1d\"},{\"attributes\":{\"ticker\":{\"id\":\"1015\",\"type\":\"BasicTicker\"}},\"id\":\"1018\",\"type\":\"Grid\"},{\"attributes\":{\"line_alpha\":0.1,\"line_color\":\"#1f77b4\",\"line_dash\":[4,4],\"line_width\":2,\"x\":{\"field\":\"x\"},\"y\":{\"field\":\"y\"}},\"id\":\"1037\",\"type\":\"Line\"},{\"attributes\":{},\"id\":\"1067\",\"type\":\"Selection\"},{\"attributes\":{\"callback\":null,\"end\":15},\"id\":\"1008\",\"type\":\"Range1d\"},{\"attributes\":{\"data_source\":{\"id\":\"1069\",\"type\":\"ColumnDataSource\"},\"glyph\":{\"id\":\"1070\",\"type\":\"Line\"},\"hover_glyph\":null,\"muted_glyph\":null,\"nonselection_glyph\":{\"id\":\"1071\",\"type\":\"Line\"},\"selection_glyph\":null,\"view\":{\"id\":\"1073\",\"type\":\"CDSView\"}},\"id\":\"1072\",\"type\":\"GlyphRenderer\"},{\"attributes\":{},\"id\":\"1043\",\"type\":\"BasicTickFormatter\"},{\"attributes\":{\"axis_label\":\"McQuillan Period\",\"formatter\":{\"id\":\"1041\",\"type\":\"BasicTickFormatter\"},\"ticker\":{\"id\":\"1015\",\"type\":\"BasicTicker\"}},\"id\":\"1014\",\"type\":\"LinearAxis\"},{\"attributes\":{\"line_color\":\"rosybrown\",\"line_dash\":[2,4],\"x\":{\"field\":\"x\"},\"y\":{\"field\":\"y\"}},\"id\":\"1070\",\"type\":\"Line\"},{\"attributes\":{\"bottom_units\":\"screen\",\"fill_alpha\":{\"value\":0.5},\"fill_color\":{\"value\":\"lightgrey\"},\"left_units\":\"screen\",\"level\":\"overlay\",\"line_alpha\":{\"value\":1.0},\"line_color\":{\"value\":\"black\"},\"line_dash\":[4,4],\"line_width\":{\"value\":2},\"render_mode\":\"css\",\"right_units\":\"screen\",\"top_units\":\"screen\"},\"id\":\"1045\",\"type\":\"BoxAnnotation\"},{\"attributes\":{\"data_source\":{\"id\":\"1002\",\"type\":\"ColumnDataSource\"},\"glyph\":{\"id\":\"1049\",\"type\":\"Circle\"},\"hover_glyph\":null,\"muted_glyph\":null,\"nonselection_glyph\":{\"id\":\"1050\",\"type\":\"Circle\"},\"selection_glyph\":null,\"view\":{\"id\":\"1052\",\"type\":\"CDSView\"}},\"id\":\"1051\",\"type\":\"GlyphRenderer\"},{\"attributes\":{\"callback\":null,\"data\":{\"x\":[7.0,8.88,2.85,10.69,8.74,12.83,6.72,2.67,6.41,2.81,2.19,10.68,11.96,7.7,3.56,8.6,3.72,11.19,10.5,0.84,3.32,1.54,1.37,12.11,10.51,3.2,11.11,1.18,5.62,1.85,3.83,2.38,2.7,12.12,8.23,3.54,8.01,6.32,11.72,7.97,1.45,12.32,2.78,10.03,1.45,1.68,3.15,0.57,1.18,6.4,2.99,0.96,6.24,7.59,3.91,6.42,1.03,8.52,9.73,9.44,8.54,0.57,2.24,12.05,7.75,10.05,10.69,6.46,11.48,6.86,7.86,8.25,4.88,1.84,2.61,9.94,10.02,9.76,11.56,5.43,9.33,6.09,8.48,3.64,4.99,10.46,10.73,0.57,5.61,6.27,11.47,8.48,8.59,5.98,5.68,7.45,2.32,6.06,0.29,3.84,9.43,5.96,11.77,4.64,11.88,6.7,9.73,7.6,9.8,1.41,7.82,3.51,11.15,11.48,10.47,11.46,9.9,9.62,4.49,2.84,10.87,3.72,12.39,2.9,3.26,8.97,8.2,7.94,9.12,10.29,4.92,7.1,11.27,5.33,4.7,8.11,0.82,3.48,11.07,12.48,2.0,7.01,5.78,3.3,4.36,3.34,11.96,2.0,3.25,2.77,4.85,6.8,10.96,9.98,4.96,8.14,10.29,0.57,4.62,1.52,10.34,10.42,4.89,0.78,10.46,4.73,12.56,1.21,11.11,4.16,8.02,1.1,6.64,3.62,3.6,1.83,11.02,12.59,4.09,4.88,11.39,7.67,3.08,7.51,12.47,12.61,3.1,12.11,0.3,12.1,9.87,12.31,4.89,1.63,2.57,11.25,1.67,6.61,0.99,11.65,3.1,6.66,0.57,1.18,10.72,5.15,4.16,1.27,11.94,11.95,6.31,6.63,2.88,7.36,9.47,8.99,9.47,7.01,10.65,3.85,1.8,7.3,1.15,11.81,5.17,9.44,0.61,5.98,7.99,7.95,5.18,4.56,4.32,2.67,3.51,6.45,6.28,3.9,10.27,4.1,1.41,7.01,0.9,10.78,1.34,3.33,5.93,11.32,8.24,10.75,0.56,2.51,6.88,1.52,12.0,3.49,12.82,6.74,8.85,6.82,1.19,0.88,4.94,10.12,3.17,8.13,6.09,1.16,8.05,8.6,11.54,4.54,12.0,0.22,8.44,9.25,4.04,2.61,11.96,3.45,0.33,3.93,2.02,1.69,6.36,1.22,11.96,11.41,11.21,9.12,10.78,7.47,7.29,4.35,4.01,11.98,5.21,9.02,4.77,11.51,9.77,8.1,10.27,7.78,11.21,1.26,3.62,11.71,6.88,11.54,3.3,10.88,1.39,4.07,3.56,0.26,5.45],\"y\":[14.0,17.76,5.7,21.38,17.48,25.66,13.44,5.34,12.82,5.62,4.38,21.36,23.92,15.4,7.12,17.2,7.44,22.38,21.0,1.68,6.64,3.08,2.74,24.22,21.02,6.4,22.22,2.36,11.24,3.7,7.66,4.76,5.4,24.24,16.46,7.08,16.02,12.64,23.44,15.94,2.9,24.64,5.56,20.06,2.9,3.36,6.3,1.14,2.36,12.8,5.98,1.92,12.48,15.18,7.82,12.84,2.06,17.04,19.46,18.88,17.08,1.14,4.48,24.1,15.5,20.1,21.38,12.92,22.96,13.72,15.72,16.5,9.76,3.68,5.22,19.88,20.04,19.52,23.12,10.86,18.66,12.18,16.96,7.28,9.98,20.92,21.46,1.14,11.22,12.54,22.94,16.96,17.18,11.96,11.36,14.9,4.64,12.12,0.58,7.68,18.86,11.92,23.54,9.28,23.76,13.4,19.46,15.2,19.6,2.82,15.64,7.02,22.3,22.96,20.94,22.92,19.8,19.24,8.98,5.68,21.74,7.44,24.78,5.8,6.52,17.94,16.4,15.88,18.24,20.58,9.84,14.2,22.54,10.66,9.4,16.22,1.64,6.96,22.14,24.96,4.0,14.02,11.56,6.6,8.72,6.68,23.92,4.0,6.5,5.54,9.7,13.6,21.92,19.96,9.92,16.28,20.58,1.14,9.24,3.04,20.68,20.84,9.78,1.56,20.92,9.46,25.12,2.42,22.22,8.32,16.04,2.2,13.28,7.24,7.2,3.66,22.04,25.18,8.18,9.76,22.78,15.34,6.16,15.02,24.94,25.22,6.2,24.22,0.6,24.2,19.74,24.62,9.78,3.26,5.14,22.5,3.34,13.22,1.98,23.3,6.2,13.32,1.14,2.36,21.44,10.3,8.32,2.54,23.88,23.9,12.62,13.26,5.76,14.72,18.94,17.98,18.94,14.02,21.3,7.7,3.6,14.6,2.3,23.62,10.34,18.88,1.22,11.96,15.98,15.9,10.36,9.12,8.64,5.34,7.02,12.9,12.56,7.8,20.54,8.2,2.82,14.02,1.8,21.56,2.68,6.66,11.86,22.64,16.48,21.5,1.12,5.02,13.76,3.04,24.0,6.98,25.64,13.48,17.7,13.64,2.38,1.76,9.88,20.24,6.34,16.26,12.18,2.32,16.1,17.2,23.08,9.08,24.0,0.44,16.88,18.5,8.08,5.22,23.92,6.9,0.66,7.86,4.04,3.38,12.72,2.44,23.92,22.82,22.42,18.24,21.56,14.94,14.58,8.7,8.02,23.96,10.42,18.04,9.54,23.02,19.54,16.2,20.54,15.56,22.42,2.52,7.24,23.42,13.76,23.08,6.6,21.76,2.78,8.14,7.12,0.52,10.9]},\"selected\":{\"id\":\"1085\",\"type\":\"Selection\"},\"selection_policy\":{\"id\":\"1084\",\"type\":\"UnionRenderers\"}},\"id\":\"1053\",\"type\":\"ColumnDataSource\"},{\"attributes\":{\"source\":{\"id\":\"1053\",\"type\":\"ColumnDataSource\"}},\"id\":\"1057\",\"type\":\"CDSView\"},{\"attributes\":{\"line_alpha\":0.1,\"line_color\":\"#1f77b4\",\"line_dash\":[2,4],\"x\":{\"field\":\"x\"},\"y\":{\"field\":\"y\"}},\"id\":\"1071\",\"type\":\"Line\"},{\"attributes\":{\"source\":{\"id\":\"1002\",\"type\":\"ColumnDataSource\"}},\"id\":\"1052\",\"type\":\"CDSView\"},{\"attributes\":{\"fill_alpha\":{\"value\":0.1},\"fill_color\":{\"value\":\"#1f77b4\"},\"line_alpha\":{\"value\":0.1},\"line_color\":{\"value\":\"#1f77b4\"},\"x\":{\"field\":\"x\"},\"y\":{\"field\":\"y\"}},\"id\":\"1050\",\"type\":\"Circle\"},{\"attributes\":{},\"id\":\"1015\",\"type\":\"BasicTicker\"},{\"attributes\":{\"fill_color\":{\"value\":\"mediumvioletred\"},\"line_color\":{\"value\":null},\"x\":{\"field\":\"x\"},\"y\":{\"field\":\"y\"}},\"id\":\"1049\",\"type\":\"Circle\"},{\"attributes\":{\"source\":{\"id\":\"1069\",\"type\":\"ColumnDataSource\"}},\"id\":\"1073\",\"type\":\"CDSView\"},{\"attributes\":{},\"id\":\"1012\",\"type\":\"LinearScale\"},{\"attributes\":{\"text\":\"PDM Period vs McQuillan Periods\"},\"id\":\"1004\",\"type\":\"Title\"},{\"attributes\":{\"line_color\":\"lightsteelblue\",\"line_dash\":[4,4],\"line_width\":2,\"x\":{\"field\":\"x\"},\"y\":{\"field\":\"y\"}},\"id\":\"1036\",\"type\":\"Line\"},{\"attributes\":{},\"id\":\"1084\",\"type\":\"UnionRenderers\"},{\"attributes\":{\"line_alpha\":0.1,\"line_color\":\"#1f77b4\",\"line_dash\":[2,4],\"x\":{\"field\":\"x\"},\"y\":{\"field\":\"y\"}},\"id\":\"1055\",\"type\":\"Line\"},{\"attributes\":{\"label\":{\"value\":\"y=0.5*x\"},\"renderers\":[{\"id\":\"1072\",\"type\":\"GlyphRenderer\"}]},\"id\":\"1086\",\"type\":\"LegendItem\"},{\"attributes\":{\"source\":{\"id\":\"1035\",\"type\":\"ColumnDataSource\"}},\"id\":\"1039\",\"type\":\"CDSView\"},{\"attributes\":{\"callback\":null,\"data\":{\"x\":[7.0,8.88,2.85,10.69,8.74,12.83,6.72,2.67,6.41,2.81,2.19,10.68,11.96,7.7,3.56,8.6,3.72,11.19,10.5,0.84,3.32,1.54,1.37,12.11,10.51,3.2,11.11,1.18,5.62,1.85,3.83,2.38,2.7,12.12,8.23,3.54,8.01,6.32,11.72,7.97,1.45,12.32,2.78,10.03,1.45,1.68,3.15,0.57,1.18,6.4,2.99,0.96,6.24,7.59,3.91,6.42,1.03,8.52,9.73,9.44,8.54,0.57,2.24,12.05,7.75,10.05,10.69,6.46,11.48,6.86,7.86,8.25,4.88,1.84,2.61,9.94,10.02,9.76,11.56,5.43,9.33,6.09,8.48,3.64,4.99,10.46,10.73,0.57,5.61,6.27,11.47,8.48,8.59,5.98,5.68,7.45,2.32,6.06,0.29,3.84,9.43,5.96,11.77,4.64,11.88,6.7,9.73,7.6,9.8,1.41,7.82,3.51,11.15,11.48,10.47,11.46,9.9,9.62,4.49,2.84,10.87,3.72,12.39,2.9,3.26,8.97,8.2,7.94,9.12,10.29,4.92,7.1,11.27,5.33,4.7,8.11,0.82,3.48,11.07,12.48,2.0,7.01,5.78,3.3,4.36,3.34,11.96,2.0,3.25,2.77,4.85,6.8,10.96,9.98,4.96,8.14,10.29,0.57,4.62,1.52,10.34,10.42,4.89,0.78,10.46,4.73,12.56,1.21,11.11,4.16,8.02,1.1,6.64,3.62,3.6,1.83,11.02,12.59,4.09,4.88,11.39,7.67,3.08,7.51,12.47,12.61,3.1,12.11,0.3,12.1,9.87,12.31,4.89,1.63,2.57,11.25,1.67,6.61,0.99,11.65,3.1,6.66,0.57,1.18,10.72,5.15,4.16,1.27,11.94,11.95,6.31,6.63,2.88,7.36,9.47,8.99,9.47,7.01,10.65,3.85,1.8,7.3,1.15,11.81,5.17,9.44,0.61,5.98,7.99,7.95,5.18,4.56,4.32,2.67,3.51,6.45,6.28,3.9,10.27,4.1,1.41,7.01,0.9,10.78,1.34,3.33,5.93,11.32,8.24,10.75,0.56,2.51,6.88,1.52,12.0,3.49,12.82,6.74,8.85,6.82,1.19,0.88,4.94,10.12,3.17,8.13,6.09,1.16,8.05,8.6,11.54,4.54,12.0,0.22,8.44,9.25,4.04,2.61,11.96,3.45,0.33,3.93,2.02,1.69,6.36,1.22,11.96,11.41,11.21,9.12,10.78,7.47,7.29,4.35,4.01,11.98,5.21,9.02,4.77,11.51,9.77,8.1,10.27,7.78,11.21,1.26,3.62,11.71,6.88,11.54,3.3,10.88,1.39,4.07,3.56,0.26,5.45],\"y\":[3.5,4.44,1.425,5.345,4.37,6.415,3.36,1.335,3.205,1.405,1.095,5.34,5.98,3.85,1.78,4.3,1.86,5.595,5.25,0.42,1.66,0.77,0.685,6.055,5.255,1.6,5.555,0.59,2.81,0.925,1.915,1.19,1.35,6.06,4.115,1.77,4.005,3.16,5.86,3.985,0.725,6.16,1.39,5.015,0.725,0.84,1.575,0.285,0.59,3.2,1.495,0.48,3.12,3.795,1.955,3.21,0.515,4.26,4.865,4.72,4.27,0.285,1.12,6.025,3.875,5.025,5.345,3.23,5.74,3.43,3.93,4.125,2.44,0.92,1.305,4.97,5.01,4.88,5.78,2.715,4.665,3.045,4.24,1.82,2.495,5.23,5.365,0.285,2.805,3.135,5.735,4.24,4.295,2.99,2.84,3.725,1.16,3.03,0.145,1.92,4.715,2.98,5.885,2.32,5.94,3.35,4.865,3.8,4.9,0.705,3.91,1.755,5.575,5.74,5.235,5.73,4.95,4.81,2.245,1.42,5.435,1.86,6.195,1.45,1.63,4.485,4.1,3.97,4.56,5.145,2.46,3.55,5.635,2.665,2.35,4.055,0.41,1.74,5.535,6.24,1.0,3.505,2.89,1.65,2.18,1.67,5.98,1.0,1.625,1.385,2.425,3.4,5.48,4.99,2.48,4.07,5.145,0.285,2.31,0.76,5.17,5.21,2.445,0.39,5.23,2.365,6.28,0.605,5.555,2.08,4.01,0.55,3.32,1.81,1.8,0.915,5.51,6.295,2.045,2.44,5.695,3.835,1.54,3.755,6.235,6.305,1.55,6.055,0.15,6.05,4.935,6.155,2.445,0.815,1.285,5.625,0.835,3.305,0.495,5.825,1.55,3.33,0.285,0.59,5.36,2.575,2.08,0.635,5.97,5.975,3.155,3.315,1.44,3.68,4.735,4.495,4.735,3.505,5.325,1.925,0.9,3.65,0.575,5.905,2.585,4.72,0.305,2.99,3.995,3.975,2.59,2.28,2.16,1.335,1.755,3.225,3.14,1.95,5.135,2.05,0.705,3.505,0.45,5.39,0.67,1.665,2.965,5.66,4.12,5.375,0.28,1.255,3.44,0.76,6.0,1.745,6.41,3.37,4.425,3.41,0.595,0.44,2.47,5.06,1.585,4.065,3.045,0.58,4.025,4.3,5.77,2.27,6.0,0.11,4.22,4.625,2.02,1.305,5.98,1.725,0.165,1.965,1.01,0.845,3.18,0.61,5.98,5.705,5.605,4.56,5.39,3.735,3.645,2.175,2.005,5.99,2.605,4.51,2.385,5.755,4.885,4.05,5.135,3.89,5.605,0.63,1.81,5.855,3.44,5.77,1.65,5.44,0.695,2.035,1.78,0.13,2.725]},\"selected\":{\"id\":\"1101\",\"type\":\"Selection\"},\"selection_policy\":{\"id\":\"1100\",\"type\":\"UnionRenderers\"}},\"id\":\"1069\",\"type\":\"ColumnDataSource\"},{\"attributes\":{},\"id\":\"1085\",\"type\":\"Selection\"},{\"attributes\":{\"dimension\":1,\"ticker\":{\"id\":\"1020\",\"type\":\"BasicTicker\"}},\"id\":\"1023\",\"type\":\"Grid\"},{\"attributes\":{\"data_source\":{\"id\":\"1053\",\"type\":\"ColumnDataSource\"},\"glyph\":{\"id\":\"1054\",\"type\":\"Line\"},\"hover_glyph\":null,\"muted_glyph\":null,\"nonselection_glyph\":{\"id\":\"1055\",\"type\":\"Line\"},\"selection_glyph\":null,\"view\":{\"id\":\"1057\",\"type\":\"CDSView\"}},\"id\":\"1056\",\"type\":\"GlyphRenderer\"},{\"attributes\":{},\"id\":\"1026\",\"type\":\"ResetTool\"}],\"root_ids\":[\"1003\"]},\"title\":\"Bokeh Application\",\"version\":\"1.3.4\"}};\n",
       "  var render_items = [{\"docid\":\"b137a69b-2e71-4ac1-bae8-ed0bc5a7bd66\",\"roots\":{\"1003\":\"7eccd97b-0302-45e8-9420-4f8c2707e541\"}}];\n",
       "  root.Bokeh.embed.embed_items_notebook(docs_json, render_items);\n",
       "\n",
       "  }\n",
       "  if (root.Bokeh !== undefined) {\n",
       "    embed_document(root);\n",
       "  } else {\n",
       "    var attempts = 0;\n",
       "    var timer = setInterval(function(root) {\n",
       "      if (root.Bokeh !== undefined) {\n",
       "        embed_document(root);\n",
       "        clearInterval(timer);\n",
       "      }\n",
       "      attempts++;\n",
       "      if (attempts > 100) {\n",
       "        console.log(\"Bokeh: ERROR: Unable to run BokehJS code because BokehJS library is missing\");\n",
       "        clearInterval(timer);\n",
       "      }\n",
       "    }, 10, root)\n",
       "  }\n",
       "})(window);"
      ],
      "application/vnd.bokehjs_exec.v0+json": ""
     },
     "metadata": {
      "application/vnd.bokehjs_exec.v0+json": {
       "id": "1003"
      }
     },
     "output_type": "display_data"
    }
   ],
   "source": [
    "x =  short_periods\n",
    "y = short_tess_period\n",
    "\n",
    "source = ColumnDataSource(data=dict(\n",
    "    x =  short_periods,\n",
    "    y = short_tess_period, \n",
    "    tess = (cat['tic_id'])[0:61]))\n",
    "\n",
    "x2 = [i*2 for i in x]\n",
    "x_half = [float(i)*0.5 for i in x]\n",
    "\n",
    "pdm_plot = figure(\n",
    "   tools=\"pan,box_zoom,reset,save,hover\",\n",
    "   y_range=[0, 15], title=\"PDM Period vs McQuillan Periods\",\n",
    "   x_axis_label='McQuillan Period', y_axis_label='TESS PDM Period', plot_width=900)\n",
    "\n",
    "pdm_plot.line(x, x, name = \"y=x\", color = 'lightsteelblue', line_dash=\"4 4\", legend = \"y=x\", line_width = 2)\n",
    "pdm_plot.circle('x', 'y', source = source, color=\"mediumvioletred\", line_color=None)\n",
    "pdm_plot.line(x, x2, legend=\"y=2x\", line_width=1, color = 'khaki', line_dash=\"dotted\")\n",
    "pdm_plot.line(x, x_half, legend=\"y=0.5*x\", line_width=1, color = 'rosybrown', line_dash=\"dotted\")\n",
    "\n",
    "pdm_plot.hover.tooltips = [\n",
    "    (\"index\", \"$index\"), \n",
    "    (\"(x,y)\", \"($x, $y)\"), \n",
    "    (\"TIC ID\", \"@tess\")] \n",
    "\n",
    "show(pdm_plot)"
   ]
  },
  {
   "cell_type": "code",
   "execution_count": 15,
   "metadata": {},
   "outputs": [],
   "source": [
    "#finding differences between PDM and McQ tess periods\n",
    "differences_mcq_pdm = []\n",
    "\n",
    "for indx, period in enumerate(short_tess_period):\n",
    "    diff = np.abs(period - short_periods[indx])\n",
    "    differences_mcq_pdm.append(diff)"
   ]
  },
  {
   "cell_type": "code",
   "execution_count": 16,
   "metadata": {},
   "outputs": [
    {
     "data": {
      "text/html": [
       "\n",
       "\n",
       "\n",
       "\n",
       "\n",
       "\n",
       "  <div class=\"bk-root\" id=\"4ed772d0-410d-416c-ae01-0e8e7a648735\" data-root-id=\"1187\"></div>\n"
      ]
     },
     "metadata": {},
     "output_type": "display_data"
    },
    {
     "data": {
      "application/javascript": [
       "(function(root) {\n",
       "  function embed_document(root) {\n",
       "    \n",
       "  var docs_json = {\"f37ea426-3a42-42eb-8b8d-29febc9c26e2\":{\"roots\":{\"references\":[{\"attributes\":{\"below\":[{\"id\":\"1198\",\"type\":\"LinearAxis\"}],\"center\":[{\"id\":\"1202\",\"type\":\"Grid\"},{\"id\":\"1207\",\"type\":\"Grid\"},{\"id\":\"1230\",\"type\":\"Legend\"}],\"left\":[{\"id\":\"1203\",\"type\":\"LinearAxis\"}],\"plot_width\":900,\"renderers\":[{\"id\":\"1222\",\"type\":\"GlyphRenderer\"},{\"id\":\"1235\",\"type\":\"GlyphRenderer\"}],\"title\":{\"id\":\"1188\",\"type\":\"Title\"},\"toolbar\":{\"id\":\"1213\",\"type\":\"Toolbar\"},\"x_range\":{\"id\":\"1190\",\"type\":\"DataRange1d\"},\"x_scale\":{\"id\":\"1194\",\"type\":\"LinearScale\"},\"y_range\":{\"id\":\"1192\",\"type\":\"Range1d\"},\"y_scale\":{\"id\":\"1196\",\"type\":\"LinearScale\"}},\"id\":\"1187\",\"subtype\":\"Figure\",\"type\":\"Plot\"},{\"attributes\":{\"data_source\":{\"id\":\"1186\",\"type\":\"ColumnDataSource\"},\"glyph\":{\"id\":\"1233\",\"type\":\"Circle\"},\"hover_glyph\":null,\"muted_glyph\":null,\"nonselection_glyph\":{\"id\":\"1234\",\"type\":\"Circle\"},\"selection_glyph\":null,\"view\":{\"id\":\"1236\",\"type\":\"CDSView\"}},\"id\":\"1235\",\"type\":\"GlyphRenderer\"},{\"attributes\":{\"source\":{\"id\":\"1219\",\"type\":\"ColumnDataSource\"}},\"id\":\"1223\",\"type\":\"CDSView\"},{\"attributes\":{},\"id\":\"1196\",\"type\":\"LinearScale\"},{\"attributes\":{\"axis_label\":\"McQuillan Period\",\"formatter\":{\"id\":\"1225\",\"type\":\"BasicTickFormatter\"},\"ticker\":{\"id\":\"1199\",\"type\":\"BasicTicker\"}},\"id\":\"1198\",\"type\":\"LinearAxis\"},{\"attributes\":{\"label\":{\"value\":\"y=0\"},\"renderers\":[{\"id\":\"1222\",\"type\":\"GlyphRenderer\"}]},\"id\":\"1231\",\"type\":\"LegendItem\"},{\"attributes\":{\"dimension\":1,\"ticker\":{\"id\":\"1204\",\"type\":\"BasicTicker\"}},\"id\":\"1207\",\"type\":\"Grid\"},{\"attributes\":{},\"id\":\"1225\",\"type\":\"BasicTickFormatter\"},{\"attributes\":{\"callback\":null,\"tooltips\":[[\"index\",\"$index\"],[\"(x,y)\",\"($x, $y)\"],[\"TIC ID\",\"@tess\"]]},\"id\":\"1212\",\"type\":\"HoverTool\"},{\"attributes\":{},\"id\":\"1199\",\"type\":\"BasicTicker\"},{\"attributes\":{\"ticker\":{\"id\":\"1199\",\"type\":\"BasicTicker\"}},\"id\":\"1202\",\"type\":\"Grid\"},{\"attributes\":{},\"id\":\"1227\",\"type\":\"BasicTickFormatter\"},{\"attributes\":{},\"id\":\"1204\",\"type\":\"BasicTicker\"},{\"attributes\":{\"axis_label\":\"Difference Between Period Calculations\",\"formatter\":{\"id\":\"1227\",\"type\":\"BasicTickFormatter\"},\"ticker\":{\"id\":\"1204\",\"type\":\"BasicTicker\"}},\"id\":\"1203\",\"type\":\"LinearAxis\"},{\"attributes\":{\"bottom_units\":\"screen\",\"fill_alpha\":{\"value\":0.5},\"fill_color\":{\"value\":\"lightgrey\"},\"left_units\":\"screen\",\"level\":\"overlay\",\"line_alpha\":{\"value\":1.0},\"line_color\":{\"value\":\"black\"},\"line_dash\":[4,4],\"line_width\":{\"value\":2},\"render_mode\":\"css\",\"right_units\":\"screen\",\"top_units\":\"screen\"},\"id\":\"1229\",\"type\":\"BoxAnnotation\"},{\"attributes\":{\"fill_color\":{\"value\":\"mediumseagreen\"},\"line_color\":{\"value\":null},\"x\":{\"field\":\"x\"},\"y\":{\"field\":\"y\"}},\"id\":\"1233\",\"type\":\"Circle\"},{\"attributes\":{},\"id\":\"1260\",\"type\":\"UnionRenderers\"},{\"attributes\":{},\"id\":\"1261\",\"type\":\"Selection\"},{\"attributes\":{\"items\":[{\"id\":\"1231\",\"type\":\"LegendItem\"}]},\"id\":\"1230\",\"type\":\"Legend\"},{\"attributes\":{\"line_color\":\"bisque\",\"line_dash\":[4,4],\"line_width\":2,\"x\":{\"field\":\"x\"},\"y\":{\"field\":\"y\"}},\"id\":\"1220\",\"type\":\"Line\"},{\"attributes\":{},\"id\":\"1210\",\"type\":\"ResetTool\"},{\"attributes\":{\"callback\":null,\"data\":{\"tess\":[275493837,121789795,63007124,275490626,171098535,63210277,351803000,170253623,158791870,164724054,122684770,121457565,273582401,267991320,137218354,184089663,272370950,159172008,121659832,138728898,169460055,169466444,122213500,63209318,120963553,267746802,271165094,27395090,298964604,270608620,185058148,271426791,273687618,272719990,239227465,27186774,271538184,121215119,121939294,352013209,185058255,170344764,378084176,120422997,63075888,270856793,26597576,158412743,121329643,351055098,120890400,137408312,267671733,279916031,271547585,158936101,121939266,239225673,27389081,121785547,138725623],\"x\":[7.0,8.88,2.85,10.69,8.74,12.83,6.72,2.67,6.41,2.81,2.19,10.68,11.96,7.7,3.56,8.6,3.72,11.19,10.5,0.84,3.32,1.54,1.37,12.11,10.51,3.2,11.11,1.18,5.62,1.85,3.83,2.38,2.7,12.12,8.23,3.54,8.01,6.32,11.72,7.97,1.45,12.32,2.78,10.03,1.45,1.68,3.15,0.57,1.18,6.4,2.99,0.96,6.24,7.59,3.91,6.42,1.03,8.52,9.73,9.44,8.54,0.57,2.24,12.05,7.75,10.05,10.69,6.46,11.48,6.86,7.86,8.25,4.88,1.84,2.61,9.94,10.02,9.76,11.56,5.43,9.33,6.09,8.48,3.64,4.99,10.46,10.73,0.57,5.61,6.27,11.47,8.48,8.59,5.98,5.68,7.45,2.32,6.06,0.29,3.84,9.43,5.96,11.77,4.64,11.88,6.7,9.73,7.6,9.8,1.41,7.82,3.51,11.15,11.48,10.47,11.46,9.9,9.62,4.49,2.84,10.87,3.72,12.39,2.9,3.26,8.97,8.2,7.94,9.12,10.29,4.92,7.1,11.27,5.33,4.7,8.11,0.82,3.48,11.07,12.48,2.0,7.01,5.78,3.3,4.36,3.34,11.96,2.0,3.25,2.77,4.85,6.8,10.96,9.98,4.96,8.14,10.29,0.57,4.62,1.52,10.34,10.42,4.89,0.78,10.46,4.73,12.56,1.21,11.11,4.16,8.02,1.1,6.64,3.62,3.6,1.83,11.02,12.59,4.09,4.88,11.39,7.67,3.08,7.51,12.47,12.61,3.1,12.11,0.3,12.1,9.87,12.31,4.89,1.63,2.57,11.25,1.67,6.61,0.99,11.65,3.1,6.66,0.57,1.18,10.72,5.15,4.16,1.27,11.94,11.95,6.31,6.63,2.88,7.36,9.47,8.99,9.47,7.01,10.65,3.85,1.8,7.3,1.15,11.81,5.17,9.44,0.61,5.98,7.99,7.95,5.18,4.56,4.32,2.67,3.51,6.45,6.28,3.9,10.27,4.1,1.41,7.01,0.9,10.78,1.34,3.33,5.93,11.32,8.24,10.75,0.56,2.51,6.88,1.52,12.0,3.49,12.82,6.74,8.85,6.82,1.19,0.88,4.94,10.12,3.17,8.13,6.09,1.16,8.05,8.6,11.54,4.54,12.0,0.22,8.44,9.25,4.04,2.61,11.96,3.45,0.33,3.93,2.02,1.69,6.36,1.22,11.96,11.41,11.21,9.12,10.78,7.47,7.29,4.35,4.01,11.98,5.21,9.02,4.77,11.51,9.77,8.1,10.27,7.78,11.21,1.26,3.62,11.71,6.88,11.54,3.3,10.88,1.39,4.07,3.56,0.26,5.45],\"y\":[0.7306306306306309,1.0403603603603608,0.03468468468468444,3.623333333333332,1.693153153153153,3.0678378378378373,3.904684684684684,5.080450450450451,0.3197297297297297,5.198108108108109,5.659549549549551,3.0385585585585577,11.513153153153153,0.22702702702702648,2.0400000000000005,5.07117117117117,0.01279279279279244,6.63054054054054,6.059459459459459,0.006666666666666599,5.292612612612613,8.142882882882883,0.008378378378378404,4.666756756756755,9.488378378378378,3.6387387387387387,3.894684684684684,0.01963963963963944,0.862342342342342,5.682432432432433,3.5339639639639646,1.5962162162162161,4.822522522522523,4.349729729729728,1.3119819819819822,3.397837837837838,5.184774774774774,1.7902702702702706,3.325405405405405,1.8218918918918936,0.002252252252251896,5.401981981981982,1.3917117117117113,3.1318018018018003,5.755405405405406,0.014234234234233867,3.688738738738739,0.00423423423423408,3.5082882882882886,2.8414414414414413,5.166756756756756,7.6526126126126135,3.4246846846846846,0.5431531531531526,3.8008108108108107,0.4286486486486494,6.036666666666667,1.4236036036036026,1.8606306306306308,8.844504504504505,0.03297297297297419]},\"selected\":{\"id\":\"1261\",\"type\":\"Selection\"},\"selection_policy\":{\"id\":\"1260\",\"type\":\"UnionRenderers\"}},\"id\":\"1186\",\"type\":\"ColumnDataSource\"},{\"attributes\":{\"callback\":null},\"id\":\"1190\",\"type\":\"DataRange1d\"},{\"attributes\":{\"active_drag\":\"auto\",\"active_inspect\":\"auto\",\"active_multi\":null,\"active_scroll\":\"auto\",\"active_tap\":\"auto\",\"tools\":[{\"id\":\"1208\",\"type\":\"PanTool\"},{\"id\":\"1209\",\"type\":\"BoxZoomTool\"},{\"id\":\"1210\",\"type\":\"ResetTool\"},{\"id\":\"1211\",\"type\":\"SaveTool\"},{\"id\":\"1212\",\"type\":\"HoverTool\"}]},\"id\":\"1213\",\"type\":\"Toolbar\"},{\"attributes\":{},\"id\":\"1208\",\"type\":\"PanTool\"},{\"attributes\":{\"line_alpha\":0.1,\"line_color\":\"#1f77b4\",\"line_dash\":[4,4],\"line_width\":2,\"x\":{\"field\":\"x\"},\"y\":{\"field\":\"y\"}},\"id\":\"1221\",\"type\":\"Line\"},{\"attributes\":{\"callback\":null,\"end\":12,\"start\":-1},\"id\":\"1192\",\"type\":\"Range1d\"},{\"attributes\":{\"overlay\":{\"id\":\"1229\",\"type\":\"BoxAnnotation\"}},\"id\":\"1209\",\"type\":\"BoxZoomTool\"},{\"attributes\":{},\"id\":\"1259\",\"type\":\"Selection\"},{\"attributes\":{\"fill_alpha\":{\"value\":0.1},\"fill_color\":{\"value\":\"#1f77b4\"},\"line_alpha\":{\"value\":0.1},\"line_color\":{\"value\":\"#1f77b4\"},\"x\":{\"field\":\"x\"},\"y\":{\"field\":\"y\"}},\"id\":\"1234\",\"type\":\"Circle\"},{\"attributes\":{},\"id\":\"1258\",\"type\":\"UnionRenderers\"},{\"attributes\":{},\"id\":\"1211\",\"type\":\"SaveTool\"},{\"attributes\":{\"text\":\"Differences Between McQ and PDM TESS Periods\"},\"id\":\"1188\",\"type\":\"Title\"},{\"attributes\":{\"data_source\":{\"id\":\"1219\",\"type\":\"ColumnDataSource\"},\"glyph\":{\"id\":\"1220\",\"type\":\"Line\"},\"hover_glyph\":null,\"muted_glyph\":null,\"name\":\"y=0\",\"nonselection_glyph\":{\"id\":\"1221\",\"type\":\"Line\"},\"selection_glyph\":null,\"view\":{\"id\":\"1223\",\"type\":\"CDSView\"}},\"id\":\"1222\",\"type\":\"GlyphRenderer\"},{\"attributes\":{\"callback\":null,\"data\":{\"x\":[7.0,8.88,2.85,10.69,8.74,12.83,6.72,2.67,6.41,2.81,2.19,10.68,11.96,7.7,3.56,8.6,3.72,11.19,10.5,0.84,3.32,1.54,1.37,12.11,10.51,3.2,11.11,1.18,5.62,1.85,3.83,2.38,2.7,12.12,8.23,3.54,8.01,6.32,11.72,7.97,1.45,12.32,2.78,10.03,1.45,1.68,3.15,0.57,1.18,6.4,2.99,0.96,6.24,7.59,3.91,6.42,1.03,8.52,9.73,9.44,8.54,0.57,2.24,12.05,7.75,10.05,10.69,6.46,11.48,6.86,7.86,8.25,4.88,1.84,2.61,9.94,10.02,9.76,11.56,5.43,9.33,6.09,8.48,3.64,4.99,10.46,10.73,0.57,5.61,6.27,11.47,8.48,8.59,5.98,5.68,7.45,2.32,6.06,0.29,3.84,9.43,5.96,11.77,4.64,11.88,6.7,9.73,7.6,9.8,1.41,7.82,3.51,11.15,11.48,10.47,11.46,9.9,9.62,4.49,2.84,10.87,3.72,12.39,2.9,3.26,8.97,8.2,7.94,9.12,10.29,4.92,7.1,11.27,5.33,4.7,8.11,0.82,3.48,11.07,12.48,2.0,7.01,5.78,3.3,4.36,3.34,11.96,2.0,3.25,2.77,4.85,6.8,10.96,9.98,4.96,8.14,10.29,0.57,4.62,1.52,10.34,10.42,4.89,0.78,10.46,4.73,12.56,1.21,11.11,4.16,8.02,1.1,6.64,3.62,3.6,1.83,11.02,12.59,4.09,4.88,11.39,7.67,3.08,7.51,12.47,12.61,3.1,12.11,0.3,12.1,9.87,12.31,4.89,1.63,2.57,11.25,1.67,6.61,0.99,11.65,3.1,6.66,0.57,1.18,10.72,5.15,4.16,1.27,11.94,11.95,6.31,6.63,2.88,7.36,9.47,8.99,9.47,7.01,10.65,3.85,1.8,7.3,1.15,11.81,5.17,9.44,0.61,5.98,7.99,7.95,5.18,4.56,4.32,2.67,3.51,6.45,6.28,3.9,10.27,4.1,1.41,7.01,0.9,10.78,1.34,3.33,5.93,11.32,8.24,10.75,0.56,2.51,6.88,1.52,12.0,3.49,12.82,6.74,8.85,6.82,1.19,0.88,4.94,10.12,3.17,8.13,6.09,1.16,8.05,8.6,11.54,4.54,12.0,0.22,8.44,9.25,4.04,2.61,11.96,3.45,0.33,3.93,2.02,1.69,6.36,1.22,11.96,11.41,11.21,9.12,10.78,7.47,7.29,4.35,4.01,11.98,5.21,9.02,4.77,11.51,9.77,8.1,10.27,7.78,11.21,1.26,3.62,11.71,6.88,11.54,3.3,10.88,1.39,4.07,3.56,0.26,5.45],\"y\":[0.0,0.0,0.0,0.0,0.0,0.0,0.0,0.0,0.0,0.0,0.0,0.0,0.0,0.0,0.0,0.0,0.0,0.0,0.0,0.0,0.0,0.0,0.0,0.0,0.0,0.0,0.0,0.0,0.0,0.0,0.0,0.0,0.0,0.0,0.0,0.0,0.0,0.0,0.0,0.0,0.0,0.0,0.0,0.0,0.0,0.0,0.0,0.0,0.0,0.0,0.0,0.0,0.0,0.0,0.0,0.0,0.0,0.0,0.0,0.0,0.0,0.0,0.0,0.0,0.0,0.0,0.0,0.0,0.0,0.0,0.0,0.0,0.0,0.0,0.0,0.0,0.0,0.0,0.0,0.0,0.0,0.0,0.0,0.0,0.0,0.0,0.0,0.0,0.0,0.0,0.0,0.0,0.0,0.0,0.0,0.0,0.0,0.0,0.0,0.0,0.0,0.0,0.0,0.0,0.0,0.0,0.0,0.0,0.0,0.0,0.0,0.0,0.0,0.0,0.0,0.0,0.0,0.0,0.0,0.0,0.0,0.0,0.0,0.0,0.0,0.0,0.0,0.0,0.0,0.0,0.0,0.0,0.0,0.0,0.0,0.0,0.0,0.0,0.0,0.0,0.0,0.0,0.0,0.0,0.0,0.0,0.0,0.0,0.0,0.0,0.0,0.0,0.0,0.0,0.0,0.0,0.0,0.0,0.0,0.0,0.0,0.0,0.0,0.0,0.0,0.0,0.0,0.0,0.0,0.0,0.0,0.0,0.0,0.0,0.0,0.0,0.0,0.0,0.0,0.0,0.0,0.0,0.0,0.0,0.0,0.0,0.0,0.0,0.0,0.0,0.0,0.0,0.0,0.0,0.0,0.0,0.0,0.0,0.0,0.0,0.0,0.0,0.0,0.0,0.0,0.0,0.0,0.0,0.0,0.0,0.0,0.0,0.0,0.0,0.0,0.0,0.0,0.0,0.0,0.0,0.0,0.0,0.0,0.0,0.0,0.0,0.0,0.0,0.0,0.0,0.0,0.0,0.0,0.0,0.0,0.0,0.0,0.0,0.0,0.0,0.0,0.0,0.0,0.0,0.0,0.0,0.0,0.0,0.0,0.0,0.0,0.0,0.0,0.0,0.0,0.0,0.0,0.0,0.0,0.0,0.0,0.0,0.0,0.0,0.0,0.0,0.0,0.0,0.0,0.0,0.0,0.0,0.0,0.0,0.0,0.0,0.0,0.0,0.0,0.0,0.0,0.0,0.0,0.0,0.0,0.0,0.0,0.0,0.0,0.0,0.0,0.0,0.0,0.0,0.0,0.0,0.0,0.0,0.0,0.0,0.0,0.0,0.0,0.0,0.0,0.0,0.0,0.0,0.0,0.0,0.0,0.0,0.0,0.0,0.0,0.0,0.0]},\"selected\":{\"id\":\"1259\",\"type\":\"Selection\"},\"selection_policy\":{\"id\":\"1258\",\"type\":\"UnionRenderers\"}},\"id\":\"1219\",\"type\":\"ColumnDataSource\"},{\"attributes\":{\"source\":{\"id\":\"1186\",\"type\":\"ColumnDataSource\"}},\"id\":\"1236\",\"type\":\"CDSView\"},{\"attributes\":{},\"id\":\"1194\",\"type\":\"LinearScale\"}],\"root_ids\":[\"1187\"]},\"title\":\"Bokeh Application\",\"version\":\"1.3.4\"}};\n",
       "  var render_items = [{\"docid\":\"f37ea426-3a42-42eb-8b8d-29febc9c26e2\",\"roots\":{\"1187\":\"4ed772d0-410d-416c-ae01-0e8e7a648735\"}}];\n",
       "  root.Bokeh.embed.embed_items_notebook(docs_json, render_items);\n",
       "\n",
       "  }\n",
       "  if (root.Bokeh !== undefined) {\n",
       "    embed_document(root);\n",
       "  } else {\n",
       "    var attempts = 0;\n",
       "    var timer = setInterval(function(root) {\n",
       "      if (root.Bokeh !== undefined) {\n",
       "        embed_document(root);\n",
       "        clearInterval(timer);\n",
       "      }\n",
       "      attempts++;\n",
       "      if (attempts > 100) {\n",
       "        console.log(\"Bokeh: ERROR: Unable to run BokehJS code because BokehJS library is missing\");\n",
       "        clearInterval(timer);\n",
       "      }\n",
       "    }, 10, root)\n",
       "  }\n",
       "})(window);"
      ],
      "application/vnd.bokehjs_exec.v0+json": ""
     },
     "metadata": {
      "application/vnd.bokehjs_exec.v0+json": {
       "id": "1187"
      }
     },
     "output_type": "display_data"
    }
   ],
   "source": [
    "x =  short_periods\n",
    "y = differences_mcq_pdm\n",
    "\n",
    "source = ColumnDataSource(data=dict(\n",
    "    x = short_periods,\n",
    "    y = differences_mcq_pdm, \n",
    "    tess = (cat['tic_id'])[0:61]))\n",
    "\n",
    "x2 = [i*2 for i in x]\n",
    "x_half = [float(i)*0.5 for i in x]\n",
    "x_0 = [i*0 for i in x]\n",
    "\n",
    "pdm_diff = figure(\n",
    "   tools=\"pan,box_zoom,reset,save,hover\",\n",
    "   y_range=[-1, 12], title=\"Differences Between McQ and PDM TESS Periods\",\n",
    "   x_axis_label='McQuillan Period', y_axis_label='Difference Between Period Calculations', plot_width=900)\n",
    "\n",
    "pdm_diff.line(x, x_0, name = \"y=0\", color = 'bisque', line_dash=\"4 4\", legend = \"y=0\", line_width = 2)\n",
    "pdm_diff.circle('x', 'y', source = source, color=\"mediumseagreen\", line_color=None)\n",
    "\n",
    "\n",
    "pdm_diff.hover.tooltips = [\n",
    "    (\"index\", \"$index\"), \n",
    "    (\"(x,y)\", \"($x, $y)\"), \n",
    "    (\"TIC ID\", \"@tess\")] \n",
    "\n",
    "show(pdm_diff)"
   ]
  },
  {
   "cell_type": "code",
   "execution_count": 17,
   "metadata": {},
   "outputs": [
    {
     "data": {
      "text/html": [
       "\n",
       "\n",
       "\n",
       "\n",
       "\n",
       "\n",
       "  <div class=\"bk-root\" id=\"a4679725-2574-4b20-8437-69344768153e\" data-root-id=\"1323\"></div>\n"
      ]
     },
     "metadata": {},
     "output_type": "display_data"
    },
    {
     "data": {
      "application/javascript": [
       "(function(root) {\n",
       "  function embed_document(root) {\n",
       "    \n",
       "  var docs_json = {\"89a79c13-adf3-4619-8524-e792edb12489\":{\"roots\":{\"references\":[{\"attributes\":{\"below\":[{\"id\":\"1334\",\"type\":\"LinearAxis\"}],\"center\":[{\"id\":\"1338\",\"type\":\"Grid\"},{\"id\":\"1343\",\"type\":\"Grid\"},{\"id\":\"1366\",\"type\":\"Legend\"}],\"left\":[{\"id\":\"1339\",\"type\":\"LinearAxis\"}],\"plot_width\":900,\"renderers\":[{\"id\":\"1358\",\"type\":\"GlyphRenderer\"},{\"id\":\"1371\",\"type\":\"GlyphRenderer\"},{\"id\":\"1376\",\"type\":\"GlyphRenderer\"},{\"id\":\"1392\",\"type\":\"GlyphRenderer\"}],\"title\":{\"id\":\"1324\",\"type\":\"Title\"},\"toolbar\":{\"id\":\"1349\",\"type\":\"Toolbar\"},\"x_range\":{\"id\":\"1326\",\"type\":\"DataRange1d\"},\"x_scale\":{\"id\":\"1330\",\"type\":\"LinearScale\"},\"y_range\":{\"id\":\"1328\",\"type\":\"Range1d\"},\"y_scale\":{\"id\":\"1332\",\"type\":\"LinearScale\"}},\"id\":\"1323\",\"subtype\":\"Figure\",\"type\":\"Plot\"},{\"attributes\":{\"source\":{\"id\":\"1389\",\"type\":\"ColumnDataSource\"}},\"id\":\"1393\",\"type\":\"CDSView\"},{\"attributes\":{\"dimension\":1,\"ticker\":{\"id\":\"1340\",\"type\":\"BasicTicker\"}},\"id\":\"1343\",\"type\":\"Grid\"},{\"attributes\":{},\"id\":\"1332\",\"type\":\"LinearScale\"},{\"attributes\":{\"data_source\":{\"id\":\"1355\",\"type\":\"ColumnDataSource\"},\"glyph\":{\"id\":\"1356\",\"type\":\"Line\"},\"hover_glyph\":null,\"muted_glyph\":null,\"name\":\"y=x\",\"nonselection_glyph\":{\"id\":\"1357\",\"type\":\"Line\"},\"selection_glyph\":null,\"view\":{\"id\":\"1359\",\"type\":\"CDSView\"}},\"id\":\"1358\",\"type\":\"GlyphRenderer\"},{\"attributes\":{},\"id\":\"1335\",\"type\":\"BasicTicker\"},{\"attributes\":{\"line_color\":\"skyblue\",\"line_dash\":[2,4],\"x\":{\"field\":\"x\"},\"y\":{\"field\":\"y\"}},\"id\":\"1390\",\"type\":\"Line\"},{\"attributes\":{},\"id\":\"1404\",\"type\":\"UnionRenderers\"},{\"attributes\":{\"line_alpha\":0.1,\"line_color\":\"#1f77b4\",\"line_dash\":[2,4],\"x\":{\"field\":\"x\"},\"y\":{\"field\":\"y\"}},\"id\":\"1375\",\"type\":\"Line\"},{\"attributes\":{\"ticker\":{\"id\":\"1335\",\"type\":\"BasicTicker\"}},\"id\":\"1338\",\"type\":\"Grid\"},{\"attributes\":{\"callback\":null,\"data\":{\"x\":[7.0,8.88,2.85,10.69,8.74,12.83,6.72,2.67,6.41,2.81,2.19,10.68,11.96,7.7,3.56,8.6,3.72,11.19,10.5,0.84,3.32,1.54,1.37,12.11,10.51,3.2,11.11,1.18,5.62,1.85,3.83,2.38,2.7,12.12,8.23,3.54,8.01,6.32,11.72,7.97,1.45,12.32,2.78,10.03,1.45,1.68,3.15,0.57,1.18,6.4,2.99,0.96,6.24,7.59,3.91,6.42,1.03,8.52,9.73,9.44,8.54,0.57,2.24,12.05,7.75,10.05,10.69,6.46,11.48,6.86,7.86,8.25,4.88,1.84,2.61,9.94,10.02,9.76,11.56,5.43,9.33,6.09,8.48,3.64,4.99,10.46,10.73,0.57,5.61,6.27,11.47,8.48,8.59,5.98,5.68,7.45,2.32,6.06,0.29,3.84,9.43,5.96,11.77,4.64,11.88,6.7,9.73,7.6,9.8,1.41,7.82,3.51,11.15,11.48,10.47,11.46,9.9,9.62,4.49,2.84,10.87,3.72,12.39,2.9,3.26,8.97,8.2,7.94,9.12,10.29,4.92,7.1,11.27,5.33,4.7,8.11,0.82,3.48,11.07,12.48,2.0,7.01,5.78,3.3,4.36,3.34,11.96,2.0,3.25,2.77,4.85,6.8,10.96,9.98,4.96,8.14,10.29,0.57,4.62,1.52,10.34,10.42,4.89,0.78,10.46,4.73,12.56,1.21,11.11,4.16,8.02,1.1,6.64,3.62,3.6,1.83,11.02,12.59,4.09,4.88,11.39,7.67,3.08,7.51,12.47,12.61,3.1,12.11,0.3,12.1,9.87,12.31,4.89,1.63,2.57,11.25,1.67,6.61,0.99,11.65,3.1,6.66,0.57,1.18,10.72,5.15,4.16,1.27,11.94,11.95,6.31,6.63,2.88,7.36,9.47,8.99,9.47,7.01,10.65,3.85,1.8,7.3,1.15,11.81,5.17,9.44,0.61,5.98,7.99,7.95,5.18,4.56,4.32,2.67,3.51,6.45,6.28,3.9,10.27,4.1,1.41,7.01,0.9,10.78,1.34,3.33,5.93,11.32,8.24,10.75,0.56,2.51,6.88,1.52,12.0,3.49,12.82,6.74,8.85,6.82,1.19,0.88,4.94,10.12,3.17,8.13,6.09,1.16,8.05,8.6,11.54,4.54,12.0,0.22,8.44,9.25,4.04,2.61,11.96,3.45,0.33,3.93,2.02,1.69,6.36,1.22,11.96,11.41,11.21,9.12,10.78,7.47,7.29,4.35,4.01,11.98,5.21,9.02,4.77,11.51,9.77,8.1,10.27,7.78,11.21,1.26,3.62,11.71,6.88,11.54,3.3,10.88,1.39,4.07,3.56,0.26,5.45],\"y\":[3.5,4.44,1.425,5.345,4.37,6.415,3.36,1.335,3.205,1.405,1.095,5.34,5.98,3.85,1.78,4.3,1.86,5.595,5.25,0.42,1.66,0.77,0.685,6.055,5.255,1.6,5.555,0.59,2.81,0.925,1.915,1.19,1.35,6.06,4.115,1.77,4.005,3.16,5.86,3.985,0.725,6.16,1.39,5.015,0.725,0.84,1.575,0.285,0.59,3.2,1.495,0.48,3.12,3.795,1.955,3.21,0.515,4.26,4.865,4.72,4.27,0.285,1.12,6.025,3.875,5.025,5.345,3.23,5.74,3.43,3.93,4.125,2.44,0.92,1.305,4.97,5.01,4.88,5.78,2.715,4.665,3.045,4.24,1.82,2.495,5.23,5.365,0.285,2.805,3.135,5.735,4.24,4.295,2.99,2.84,3.725,1.16,3.03,0.145,1.92,4.715,2.98,5.885,2.32,5.94,3.35,4.865,3.8,4.9,0.705,3.91,1.755,5.575,5.74,5.235,5.73,4.95,4.81,2.245,1.42,5.435,1.86,6.195,1.45,1.63,4.485,4.1,3.97,4.56,5.145,2.46,3.55,5.635,2.665,2.35,4.055,0.41,1.74,5.535,6.24,1.0,3.505,2.89,1.65,2.18,1.67,5.98,1.0,1.625,1.385,2.425,3.4,5.48,4.99,2.48,4.07,5.145,0.285,2.31,0.76,5.17,5.21,2.445,0.39,5.23,2.365,6.28,0.605,5.555,2.08,4.01,0.55,3.32,1.81,1.8,0.915,5.51,6.295,2.045,2.44,5.695,3.835,1.54,3.755,6.235,6.305,1.55,6.055,0.15,6.05,4.935,6.155,2.445,0.815,1.285,5.625,0.835,3.305,0.495,5.825,1.55,3.33,0.285,0.59,5.36,2.575,2.08,0.635,5.97,5.975,3.155,3.315,1.44,3.68,4.735,4.495,4.735,3.505,5.325,1.925,0.9,3.65,0.575,5.905,2.585,4.72,0.305,2.99,3.995,3.975,2.59,2.28,2.16,1.335,1.755,3.225,3.14,1.95,5.135,2.05,0.705,3.505,0.45,5.39,0.67,1.665,2.965,5.66,4.12,5.375,0.28,1.255,3.44,0.76,6.0,1.745,6.41,3.37,4.425,3.41,0.595,0.44,2.47,5.06,1.585,4.065,3.045,0.58,4.025,4.3,5.77,2.27,6.0,0.11,4.22,4.625,2.02,1.305,5.98,1.725,0.165,1.965,1.01,0.845,3.18,0.61,5.98,5.705,5.605,4.56,5.39,3.735,3.645,2.175,2.005,5.99,2.605,4.51,2.385,5.755,4.885,4.05,5.135,3.89,5.605,0.63,1.81,5.855,3.44,5.77,1.65,5.44,0.695,2.035,1.78,0.13,2.725]},\"selected\":{\"id\":\"1445\",\"type\":\"Selection\"},\"selection_policy\":{\"id\":\"1444\",\"type\":\"UnionRenderers\"}},\"id\":\"1389\",\"type\":\"ColumnDataSource\"},{\"attributes\":{\"label\":{\"value\":\"y=0.5*x\"},\"renderers\":[{\"id\":\"1392\",\"type\":\"GlyphRenderer\"}]},\"id\":\"1406\",\"type\":\"LegendItem\"},{\"attributes\":{},\"id\":\"1363\",\"type\":\"BasicTickFormatter\"},{\"attributes\":{},\"id\":\"1340\",\"type\":\"BasicTicker\"},{\"attributes\":{\"axis_label\":\"Exoplanet ACF Period\",\"formatter\":{\"id\":\"1363\",\"type\":\"BasicTickFormatter\"},\"ticker\":{\"id\":\"1340\",\"type\":\"BasicTicker\"}},\"id\":\"1339\",\"type\":\"LinearAxis\"},{\"attributes\":{\"fill_color\":{\"value\":\"darkgreen\"},\"line_color\":{\"value\":null},\"x\":{\"field\":\"x\"},\"y\":{\"field\":\"y\"}},\"id\":\"1369\",\"type\":\"Circle\"},{\"attributes\":{\"bottom_units\":\"screen\",\"fill_alpha\":{\"value\":0.5},\"fill_color\":{\"value\":\"lightgrey\"},\"left_units\":\"screen\",\"level\":\"overlay\",\"line_alpha\":{\"value\":1.0},\"line_color\":{\"value\":\"black\"},\"line_dash\":[4,4],\"line_width\":{\"value\":2},\"render_mode\":\"css\",\"right_units\":\"screen\",\"top_units\":\"screen\"},\"id\":\"1365\",\"type\":\"BoxAnnotation\"},{\"attributes\":{},\"id\":\"1405\",\"type\":\"Selection\"},{\"attributes\":{\"data_source\":{\"id\":\"1322\",\"type\":\"ColumnDataSource\"},\"glyph\":{\"id\":\"1369\",\"type\":\"Circle\"},\"hover_glyph\":null,\"muted_glyph\":null,\"nonselection_glyph\":{\"id\":\"1370\",\"type\":\"Circle\"},\"selection_glyph\":null,\"view\":{\"id\":\"1372\",\"type\":\"CDSView\"}},\"id\":\"1371\",\"type\":\"GlyphRenderer\"},{\"attributes\":{\"line_color\":\"lightseagreen\",\"line_dash\":[4,4],\"line_width\":2,\"x\":{\"field\":\"x\"},\"y\":{\"field\":\"y\"}},\"id\":\"1356\",\"type\":\"Line\"},{\"attributes\":{\"data_source\":{\"id\":\"1373\",\"type\":\"ColumnDataSource\"},\"glyph\":{\"id\":\"1374\",\"type\":\"Line\"},\"hover_glyph\":null,\"muted_glyph\":null,\"nonselection_glyph\":{\"id\":\"1375\",\"type\":\"Line\"},\"selection_glyph\":null,\"view\":{\"id\":\"1377\",\"type\":\"CDSView\"}},\"id\":\"1376\",\"type\":\"GlyphRenderer\"},{\"attributes\":{\"source\":{\"id\":\"1355\",\"type\":\"ColumnDataSource\"}},\"id\":\"1359\",\"type\":\"CDSView\"},{\"attributes\":{\"text\":\"Exoplanet ACF vs McQuillan Periods\"},\"id\":\"1324\",\"type\":\"Title\"},{\"attributes\":{},\"id\":\"1445\",\"type\":\"Selection\"},{\"attributes\":{\"source\":{\"id\":\"1322\",\"type\":\"ColumnDataSource\"}},\"id\":\"1372\",\"type\":\"CDSView\"},{\"attributes\":{\"source\":{\"id\":\"1373\",\"type\":\"ColumnDataSource\"}},\"id\":\"1377\",\"type\":\"CDSView\"},{\"attributes\":{\"active_drag\":\"auto\",\"active_inspect\":\"auto\",\"active_multi\":null,\"active_scroll\":\"auto\",\"active_tap\":\"auto\",\"tools\":[{\"id\":\"1344\",\"type\":\"PanTool\"},{\"id\":\"1345\",\"type\":\"BoxZoomTool\"},{\"id\":\"1346\",\"type\":\"ResetTool\"},{\"id\":\"1347\",\"type\":\"SaveTool\"},{\"id\":\"1348\",\"type\":\"HoverTool\"}]},\"id\":\"1349\",\"type\":\"Toolbar\"},{\"attributes\":{\"items\":[{\"id\":\"1367\",\"type\":\"LegendItem\"},{\"id\":\"1388\",\"type\":\"LegendItem\"},{\"id\":\"1406\",\"type\":\"LegendItem\"}]},\"id\":\"1366\",\"type\":\"Legend\"},{\"attributes\":{},\"id\":\"1384\",\"type\":\"UnionRenderers\"},{\"attributes\":{},\"id\":\"1444\",\"type\":\"UnionRenderers\"},{\"attributes\":{\"callback\":null},\"id\":\"1326\",\"type\":\"DataRange1d\"},{\"attributes\":{},\"id\":\"1344\",\"type\":\"PanTool\"},{\"attributes\":{\"label\":{\"value\":\"y=2x\"},\"renderers\":[{\"id\":\"1376\",\"type\":\"GlyphRenderer\"}]},\"id\":\"1388\",\"type\":\"LegendItem\"},{\"attributes\":{\"line_color\":\"mediumpurple\",\"line_dash\":[2,4],\"x\":{\"field\":\"x\"},\"y\":{\"field\":\"y\"}},\"id\":\"1374\",\"type\":\"Line\"},{\"attributes\":{\"line_alpha\":0.1,\"line_color\":\"#1f77b4\",\"line_dash\":[2,4],\"x\":{\"field\":\"x\"},\"y\":{\"field\":\"y\"}},\"id\":\"1391\",\"type\":\"Line\"},{\"attributes\":{},\"id\":\"1385\",\"type\":\"Selection\"},{\"attributes\":{\"overlay\":{\"id\":\"1365\",\"type\":\"BoxAnnotation\"}},\"id\":\"1345\",\"type\":\"BoxZoomTool\"},{\"attributes\":{\"callback\":null,\"data\":{\"tess\":[275493837,121789795,63007124,275490626,171098535,63210277,351803000,170253623,158791870,164724054,122684770,121457565,273582401,267991320,137218354,184089663,272370950,159172008,121659832,138728898,169460055,169466444,122213500,63209318,120963553,267746802,271165094,27395090,298964604,270608620,185058148,271426791,273687618,272719990,239227465,27186774,271538184,121215119,121939294,352013209,185058255,170344764,378084176,120422997,63075888,270856793,26597576,158412743,121329643,351055098,120890400,137408312,267671733,279916031,271547585,158936101,121939266,239225673,27389081,121785547,138725623],\"x\":[7.0,8.88,2.85,10.69,8.74,12.83,6.72,2.67,6.41,2.81,2.19,10.68,11.96,7.7,3.56,8.6,3.72,11.19,10.5,0.84,3.32,1.54,1.37,12.11,10.51,3.2,11.11,1.18,5.62,1.85,3.83,2.38,2.7,12.12,8.23,3.54,8.01,6.32,11.72,7.97,1.45,12.32,2.78,10.03,1.45,1.68,3.15,0.57,1.18,6.4,2.99,0.96,6.24,7.59,3.91,6.42,1.03,8.52,9.73,9.44,8.54,0.57,2.24,12.05,7.75,10.05,10.69,6.46,11.48,6.86,7.86,8.25,4.88,1.84,2.61,9.94,10.02,9.76,11.56,5.43,9.33,6.09,8.48,3.64,4.99,10.46,10.73,0.57,5.61,6.27,11.47,8.48,8.59,5.98,5.68,7.45,2.32,6.06,0.29,3.84,9.43,5.96,11.77,4.64,11.88,6.7,9.73,7.6,9.8,1.41,7.82,3.51,11.15,11.48,10.47,11.46,9.9,9.62,4.49,2.84,10.87,3.72,12.39,2.9,3.26,8.97,8.2,7.94,9.12,10.29,4.92,7.1,11.27,5.33,4.7,8.11,0.82,3.48,11.07,12.48,2.0,7.01,5.78,3.3,4.36,3.34,11.96,2.0,3.25,2.77,4.85,6.8,10.96,9.98,4.96,8.14,10.29,0.57,4.62,1.52,10.34,10.42,4.89,0.78,10.46,4.73,12.56,1.21,11.11,4.16,8.02,1.1,6.64,3.62,3.6,1.83,11.02,12.59,4.09,4.88,11.39,7.67,3.08,7.51,12.47,12.61,3.1,12.11,0.3,12.1,9.87,12.31,4.89,1.63,2.57,11.25,1.67,6.61,0.99,11.65,3.1,6.66,0.57,1.18,10.72,5.15,4.16,1.27,11.94,11.95,6.31,6.63,2.88,7.36,9.47,8.99,9.47,7.01,10.65,3.85,1.8,7.3,1.15,11.81,5.17,9.44,0.61,5.98,7.99,7.95,5.18,4.56,4.32,2.67,3.51,6.45,6.28,3.9,10.27,4.1,1.41,7.01,0.9,10.78,1.34,3.33,5.93,11.32,8.24,10.75,0.56,2.51,6.88,1.52,12.0,3.49,12.82,6.74,8.85,6.82,1.19,0.88,4.94,10.12,3.17,8.13,6.09,1.16,8.05,8.6,11.54,4.54,12.0,0.22,8.44,9.25,4.04,2.61,11.96,3.45,0.33,3.93,2.02,1.69,6.36,1.22,11.96,11.41,11.21,9.12,10.78,7.47,7.29,4.35,4.01,11.98,5.21,9.02,4.77,11.51,9.77,8.1,10.27,7.78,11.21,1.26,3.62,11.71,6.88,11.54,3.3,10.88,1.39,4.07,3.56,0.26,5.45],\"y\":[7.8499999999928605,4.349999999996044,2.549999999997681,2.64999999999759,1.0999999999989996,4.799999999995634,2.64999999999759,5.549999999994952,3.699999999996635,6.599999999993997,7.599999999993088,1.0999999999989996,7.8499999999928605,3.2999999999969987,0.8499999999992269,2.5999999999976353,3.699999999996635,2.749999999997499,2.8999999999973625,0.7999999999992724,8.549999999992224,1.6999999999984539,1.3499999999987722,7.699999999992997,1.9499999999982265,2.1499999999980446,0.949999999999136,1.149999999998954,4.0499999999963165,1.799999999998363,4.099999999996271,2.399999999997817,13.14999999998804,3.1999999999970896,2.5999999999976353,6.699999999993906,1.049999999999045,6.349999999994225,7.349999999993315,1.6999999999984539,1.4499999999986812,3.599999999996726,1.3499999999987722,7.8499999999928605,2.8999999999973625,1.6499999999984993,3.4499999999968622,0.5499999999994998,2.549999999997681,4.549999999995862,5.249999999995225,7.9499999999927695,2.64999999999759,2.549999999997681,5.799999999994725,6.649999999993952,2.4999999999977263,3.4499999999968622,5.349999999995134,2.849999999997408,8.39999999999236]},\"selected\":{\"id\":\"1387\",\"type\":\"Selection\"},\"selection_policy\":{\"id\":\"1386\",\"type\":\"UnionRenderers\"}},\"id\":\"1322\",\"type\":\"ColumnDataSource\"},{\"attributes\":{\"callback\":null,\"data\":{\"x\":[7.0,8.88,2.85,10.69,8.74,12.83,6.72,2.67,6.41,2.81,2.19,10.68,11.96,7.7,3.56,8.6,3.72,11.19,10.5,0.84,3.32,1.54,1.37,12.11,10.51,3.2,11.11,1.18,5.62,1.85,3.83,2.38,2.7,12.12,8.23,3.54,8.01,6.32,11.72,7.97,1.45,12.32,2.78,10.03,1.45,1.68,3.15,0.57,1.18,6.4,2.99,0.96,6.24,7.59,3.91,6.42,1.03,8.52,9.73,9.44,8.54,0.57,2.24,12.05,7.75,10.05,10.69,6.46,11.48,6.86,7.86,8.25,4.88,1.84,2.61,9.94,10.02,9.76,11.56,5.43,9.33,6.09,8.48,3.64,4.99,10.46,10.73,0.57,5.61,6.27,11.47,8.48,8.59,5.98,5.68,7.45,2.32,6.06,0.29,3.84,9.43,5.96,11.77,4.64,11.88,6.7,9.73,7.6,9.8,1.41,7.82,3.51,11.15,11.48,10.47,11.46,9.9,9.62,4.49,2.84,10.87,3.72,12.39,2.9,3.26,8.97,8.2,7.94,9.12,10.29,4.92,7.1,11.27,5.33,4.7,8.11,0.82,3.48,11.07,12.48,2.0,7.01,5.78,3.3,4.36,3.34,11.96,2.0,3.25,2.77,4.85,6.8,10.96,9.98,4.96,8.14,10.29,0.57,4.62,1.52,10.34,10.42,4.89,0.78,10.46,4.73,12.56,1.21,11.11,4.16,8.02,1.1,6.64,3.62,3.6,1.83,11.02,12.59,4.09,4.88,11.39,7.67,3.08,7.51,12.47,12.61,3.1,12.11,0.3,12.1,9.87,12.31,4.89,1.63,2.57,11.25,1.67,6.61,0.99,11.65,3.1,6.66,0.57,1.18,10.72,5.15,4.16,1.27,11.94,11.95,6.31,6.63,2.88,7.36,9.47,8.99,9.47,7.01,10.65,3.85,1.8,7.3,1.15,11.81,5.17,9.44,0.61,5.98,7.99,7.95,5.18,4.56,4.32,2.67,3.51,6.45,6.28,3.9,10.27,4.1,1.41,7.01,0.9,10.78,1.34,3.33,5.93,11.32,8.24,10.75,0.56,2.51,6.88,1.52,12.0,3.49,12.82,6.74,8.85,6.82,1.19,0.88,4.94,10.12,3.17,8.13,6.09,1.16,8.05,8.6,11.54,4.54,12.0,0.22,8.44,9.25,4.04,2.61,11.96,3.45,0.33,3.93,2.02,1.69,6.36,1.22,11.96,11.41,11.21,9.12,10.78,7.47,7.29,4.35,4.01,11.98,5.21,9.02,4.77,11.51,9.77,8.1,10.27,7.78,11.21,1.26,3.62,11.71,6.88,11.54,3.3,10.88,1.39,4.07,3.56,0.26,5.45],\"y\":[14.0,17.76,5.7,21.38,17.48,25.66,13.44,5.34,12.82,5.62,4.38,21.36,23.92,15.4,7.12,17.2,7.44,22.38,21.0,1.68,6.64,3.08,2.74,24.22,21.02,6.4,22.22,2.36,11.24,3.7,7.66,4.76,5.4,24.24,16.46,7.08,16.02,12.64,23.44,15.94,2.9,24.64,5.56,20.06,2.9,3.36,6.3,1.14,2.36,12.8,5.98,1.92,12.48,15.18,7.82,12.84,2.06,17.04,19.46,18.88,17.08,1.14,4.48,24.1,15.5,20.1,21.38,12.92,22.96,13.72,15.72,16.5,9.76,3.68,5.22,19.88,20.04,19.52,23.12,10.86,18.66,12.18,16.96,7.28,9.98,20.92,21.46,1.14,11.22,12.54,22.94,16.96,17.18,11.96,11.36,14.9,4.64,12.12,0.58,7.68,18.86,11.92,23.54,9.28,23.76,13.4,19.46,15.2,19.6,2.82,15.64,7.02,22.3,22.96,20.94,22.92,19.8,19.24,8.98,5.68,21.74,7.44,24.78,5.8,6.52,17.94,16.4,15.88,18.24,20.58,9.84,14.2,22.54,10.66,9.4,16.22,1.64,6.96,22.14,24.96,4.0,14.02,11.56,6.6,8.72,6.68,23.92,4.0,6.5,5.54,9.7,13.6,21.92,19.96,9.92,16.28,20.58,1.14,9.24,3.04,20.68,20.84,9.78,1.56,20.92,9.46,25.12,2.42,22.22,8.32,16.04,2.2,13.28,7.24,7.2,3.66,22.04,25.18,8.18,9.76,22.78,15.34,6.16,15.02,24.94,25.22,6.2,24.22,0.6,24.2,19.74,24.62,9.78,3.26,5.14,22.5,3.34,13.22,1.98,23.3,6.2,13.32,1.14,2.36,21.44,10.3,8.32,2.54,23.88,23.9,12.62,13.26,5.76,14.72,18.94,17.98,18.94,14.02,21.3,7.7,3.6,14.6,2.3,23.62,10.34,18.88,1.22,11.96,15.98,15.9,10.36,9.12,8.64,5.34,7.02,12.9,12.56,7.8,20.54,8.2,2.82,14.02,1.8,21.56,2.68,6.66,11.86,22.64,16.48,21.5,1.12,5.02,13.76,3.04,24.0,6.98,25.64,13.48,17.7,13.64,2.38,1.76,9.88,20.24,6.34,16.26,12.18,2.32,16.1,17.2,23.08,9.08,24.0,0.44,16.88,18.5,8.08,5.22,23.92,6.9,0.66,7.86,4.04,3.38,12.72,2.44,23.92,22.82,22.42,18.24,21.56,14.94,14.58,8.7,8.02,23.96,10.42,18.04,9.54,23.02,19.54,16.2,20.54,15.56,22.42,2.52,7.24,23.42,13.76,23.08,6.6,21.76,2.78,8.14,7.12,0.52,10.9]},\"selected\":{\"id\":\"1405\",\"type\":\"Selection\"},\"selection_policy\":{\"id\":\"1404\",\"type\":\"UnionRenderers\"}},\"id\":\"1373\",\"type\":\"ColumnDataSource\"},{\"attributes\":{},\"id\":\"1386\",\"type\":\"UnionRenderers\"},{\"attributes\":{},\"id\":\"1346\",\"type\":\"ResetTool\"},{\"attributes\":{\"callback\":null,\"end\":15},\"id\":\"1328\",\"type\":\"Range1d\"},{\"attributes\":{\"callback\":null,\"data\":{\"x\":[7.0,8.88,2.85,10.69,8.74,12.83,6.72,2.67,6.41,2.81,2.19,10.68,11.96,7.7,3.56,8.6,3.72,11.19,10.5,0.84,3.32,1.54,1.37,12.11,10.51,3.2,11.11,1.18,5.62,1.85,3.83,2.38,2.7,12.12,8.23,3.54,8.01,6.32,11.72,7.97,1.45,12.32,2.78,10.03,1.45,1.68,3.15,0.57,1.18,6.4,2.99,0.96,6.24,7.59,3.91,6.42,1.03,8.52,9.73,9.44,8.54,0.57,2.24,12.05,7.75,10.05,10.69,6.46,11.48,6.86,7.86,8.25,4.88,1.84,2.61,9.94,10.02,9.76,11.56,5.43,9.33,6.09,8.48,3.64,4.99,10.46,10.73,0.57,5.61,6.27,11.47,8.48,8.59,5.98,5.68,7.45,2.32,6.06,0.29,3.84,9.43,5.96,11.77,4.64,11.88,6.7,9.73,7.6,9.8,1.41,7.82,3.51,11.15,11.48,10.47,11.46,9.9,9.62,4.49,2.84,10.87,3.72,12.39,2.9,3.26,8.97,8.2,7.94,9.12,10.29,4.92,7.1,11.27,5.33,4.7,8.11,0.82,3.48,11.07,12.48,2.0,7.01,5.78,3.3,4.36,3.34,11.96,2.0,3.25,2.77,4.85,6.8,10.96,9.98,4.96,8.14,10.29,0.57,4.62,1.52,10.34,10.42,4.89,0.78,10.46,4.73,12.56,1.21,11.11,4.16,8.02,1.1,6.64,3.62,3.6,1.83,11.02,12.59,4.09,4.88,11.39,7.67,3.08,7.51,12.47,12.61,3.1,12.11,0.3,12.1,9.87,12.31,4.89,1.63,2.57,11.25,1.67,6.61,0.99,11.65,3.1,6.66,0.57,1.18,10.72,5.15,4.16,1.27,11.94,11.95,6.31,6.63,2.88,7.36,9.47,8.99,9.47,7.01,10.65,3.85,1.8,7.3,1.15,11.81,5.17,9.44,0.61,5.98,7.99,7.95,5.18,4.56,4.32,2.67,3.51,6.45,6.28,3.9,10.27,4.1,1.41,7.01,0.9,10.78,1.34,3.33,5.93,11.32,8.24,10.75,0.56,2.51,6.88,1.52,12.0,3.49,12.82,6.74,8.85,6.82,1.19,0.88,4.94,10.12,3.17,8.13,6.09,1.16,8.05,8.6,11.54,4.54,12.0,0.22,8.44,9.25,4.04,2.61,11.96,3.45,0.33,3.93,2.02,1.69,6.36,1.22,11.96,11.41,11.21,9.12,10.78,7.47,7.29,4.35,4.01,11.98,5.21,9.02,4.77,11.51,9.77,8.1,10.27,7.78,11.21,1.26,3.62,11.71,6.88,11.54,3.3,10.88,1.39,4.07,3.56,0.26,5.45],\"y\":[7.0,8.88,2.85,10.69,8.74,12.83,6.72,2.67,6.41,2.81,2.19,10.68,11.96,7.7,3.56,8.6,3.72,11.19,10.5,0.84,3.32,1.54,1.37,12.11,10.51,3.2,11.11,1.18,5.62,1.85,3.83,2.38,2.7,12.12,8.23,3.54,8.01,6.32,11.72,7.97,1.45,12.32,2.78,10.03,1.45,1.68,3.15,0.57,1.18,6.4,2.99,0.96,6.24,7.59,3.91,6.42,1.03,8.52,9.73,9.44,8.54,0.57,2.24,12.05,7.75,10.05,10.69,6.46,11.48,6.86,7.86,8.25,4.88,1.84,2.61,9.94,10.02,9.76,11.56,5.43,9.33,6.09,8.48,3.64,4.99,10.46,10.73,0.57,5.61,6.27,11.47,8.48,8.59,5.98,5.68,7.45,2.32,6.06,0.29,3.84,9.43,5.96,11.77,4.64,11.88,6.7,9.73,7.6,9.8,1.41,7.82,3.51,11.15,11.48,10.47,11.46,9.9,9.62,4.49,2.84,10.87,3.72,12.39,2.9,3.26,8.97,8.2,7.94,9.12,10.29,4.92,7.1,11.27,5.33,4.7,8.11,0.82,3.48,11.07,12.48,2.0,7.01,5.78,3.3,4.36,3.34,11.96,2.0,3.25,2.77,4.85,6.8,10.96,9.98,4.96,8.14,10.29,0.57,4.62,1.52,10.34,10.42,4.89,0.78,10.46,4.73,12.56,1.21,11.11,4.16,8.02,1.1,6.64,3.62,3.6,1.83,11.02,12.59,4.09,4.88,11.39,7.67,3.08,7.51,12.47,12.61,3.1,12.11,0.3,12.1,9.87,12.31,4.89,1.63,2.57,11.25,1.67,6.61,0.99,11.65,3.1,6.66,0.57,1.18,10.72,5.15,4.16,1.27,11.94,11.95,6.31,6.63,2.88,7.36,9.47,8.99,9.47,7.01,10.65,3.85,1.8,7.3,1.15,11.81,5.17,9.44,0.61,5.98,7.99,7.95,5.18,4.56,4.32,2.67,3.51,6.45,6.28,3.9,10.27,4.1,1.41,7.01,0.9,10.78,1.34,3.33,5.93,11.32,8.24,10.75,0.56,2.51,6.88,1.52,12.0,3.49,12.82,6.74,8.85,6.82,1.19,0.88,4.94,10.12,3.17,8.13,6.09,1.16,8.05,8.6,11.54,4.54,12.0,0.22,8.44,9.25,4.04,2.61,11.96,3.45,0.33,3.93,2.02,1.69,6.36,1.22,11.96,11.41,11.21,9.12,10.78,7.47,7.29,4.35,4.01,11.98,5.21,9.02,4.77,11.51,9.77,8.1,10.27,7.78,11.21,1.26,3.62,11.71,6.88,11.54,3.3,10.88,1.39,4.07,3.56,0.26,5.45]},\"selected\":{\"id\":\"1385\",\"type\":\"Selection\"},\"selection_policy\":{\"id\":\"1384\",\"type\":\"UnionRenderers\"}},\"id\":\"1355\",\"type\":\"ColumnDataSource\"},{\"attributes\":{},\"id\":\"1387\",\"type\":\"Selection\"},{\"attributes\":{},\"id\":\"1347\",\"type\":\"SaveTool\"},{\"attributes\":{\"callback\":null,\"tooltips\":[[\"index\",\"$index\"],[\"(x,y)\",\"($x, $y)\"],[\"TIC ID\",\"@tess\"]]},\"id\":\"1348\",\"type\":\"HoverTool\"},{\"attributes\":{\"label\":{\"value\":\"y=x\"},\"renderers\":[{\"id\":\"1358\",\"type\":\"GlyphRenderer\"}]},\"id\":\"1367\",\"type\":\"LegendItem\"},{\"attributes\":{\"fill_alpha\":{\"value\":0.1},\"fill_color\":{\"value\":\"#1f77b4\"},\"line_alpha\":{\"value\":0.1},\"line_color\":{\"value\":\"#1f77b4\"},\"x\":{\"field\":\"x\"},\"y\":{\"field\":\"y\"}},\"id\":\"1370\",\"type\":\"Circle\"},{\"attributes\":{},\"id\":\"1330\",\"type\":\"LinearScale\"},{\"attributes\":{\"data_source\":{\"id\":\"1389\",\"type\":\"ColumnDataSource\"},\"glyph\":{\"id\":\"1390\",\"type\":\"Line\"},\"hover_glyph\":null,\"muted_glyph\":null,\"nonselection_glyph\":{\"id\":\"1391\",\"type\":\"Line\"},\"selection_glyph\":null,\"view\":{\"id\":\"1393\",\"type\":\"CDSView\"}},\"id\":\"1392\",\"type\":\"GlyphRenderer\"},{\"attributes\":{\"line_alpha\":0.1,\"line_color\":\"#1f77b4\",\"line_dash\":[4,4],\"line_width\":2,\"x\":{\"field\":\"x\"},\"y\":{\"field\":\"y\"}},\"id\":\"1357\",\"type\":\"Line\"},{\"attributes\":{\"axis_label\":\"McQuillan Period\",\"formatter\":{\"id\":\"1361\",\"type\":\"BasicTickFormatter\"},\"ticker\":{\"id\":\"1335\",\"type\":\"BasicTicker\"}},\"id\":\"1334\",\"type\":\"LinearAxis\"},{\"attributes\":{},\"id\":\"1361\",\"type\":\"BasicTickFormatter\"}],\"root_ids\":[\"1323\"]},\"title\":\"Bokeh Application\",\"version\":\"1.3.4\"}};\n",
       "  var render_items = [{\"docid\":\"89a79c13-adf3-4619-8524-e792edb12489\",\"roots\":{\"1323\":\"a4679725-2574-4b20-8437-69344768153e\"}}];\n",
       "  root.Bokeh.embed.embed_items_notebook(docs_json, render_items);\n",
       "\n",
       "  }\n",
       "  if (root.Bokeh !== undefined) {\n",
       "    embed_document(root);\n",
       "  } else {\n",
       "    var attempts = 0;\n",
       "    var timer = setInterval(function(root) {\n",
       "      if (root.Bokeh !== undefined) {\n",
       "        embed_document(root);\n",
       "        clearInterval(timer);\n",
       "      }\n",
       "      attempts++;\n",
       "      if (attempts > 100) {\n",
       "        console.log(\"Bokeh: ERROR: Unable to run BokehJS code because BokehJS library is missing\");\n",
       "        clearInterval(timer);\n",
       "      }\n",
       "    }, 10, root)\n",
       "  }\n",
       "})(window);"
      ],
      "application/vnd.bokehjs_exec.v0+json": ""
     },
     "metadata": {
      "application/vnd.bokehjs_exec.v0+json": {
       "id": "1323"
      }
     },
     "output_type": "display_data"
    }
   ],
   "source": [
    "x =  short_periods\n",
    "y = exo_acf\n",
    "\n",
    "source = ColumnDataSource(data=dict(\n",
    "    x =  short_periods,\n",
    "    y = exo_acf, \n",
    "    tess = (cat['tic_id'])[0:61]))\n",
    "\n",
    "x2 = [i*2 for i in x]\n",
    "x_half = [float(i)*0.5 for i in x]\n",
    "\n",
    "pdm_plot = figure(\n",
    "   tools=\"pan,box_zoom,reset,save,hover\",\n",
    "   y_range=[0, 15], title=\"Exoplanet ACF vs McQuillan Periods\",\n",
    "   x_axis_label='McQuillan Period', y_axis_label='Exoplanet ACF Period', plot_width=900)\n",
    "\n",
    "pdm_plot.line(x, x, name = \"y=x\", color = 'lightseagreen', line_dash=\"4 4\", legend = \"y=x\", line_width = 2)\n",
    "pdm_plot.circle('x', 'y', source = source, color=\"darkgreen\", line_color=None)\n",
    "pdm_plot.line(x, x2, legend=\"y=2x\", line_width=1, color = 'mediumpurple', line_dash=\"dotted\")\n",
    "pdm_plot.line(x, x_half, legend=\"y=0.5*x\", line_width=1, color = 'skyblue', line_dash=\"dotted\")\n",
    "\n",
    "pdm_plot.hover.tooltips = [\n",
    "    (\"index\", \"$index\"), \n",
    "    (\"(x,y)\", \"($x, $y)\"), \n",
    "    (\"TIC ID\", \"@tess\")] \n",
    "\n",
    "show(pdm_plot)"
   ]
  },
  {
   "cell_type": "code",
   "execution_count": 18,
   "metadata": {},
   "outputs": [],
   "source": [
    "#finding differences between Exoplanet ACF and McQ tess periods\n",
    "differences_exo_acf = []\n",
    "\n",
    "for indx, period in enumerate(exo_acf):\n",
    "    diff = np.abs(period - short_periods[indx])\n",
    "    differences_exo_acf.append(diff)"
   ]
  },
  {
   "cell_type": "code",
   "execution_count": 19,
   "metadata": {},
   "outputs": [
    {
     "data": {
      "text/html": [
       "\n",
       "\n",
       "\n",
       "\n",
       "\n",
       "\n",
       "  <div class=\"bk-root\" id=\"2b8d4533-2a4d-4ced-8167-fb555b0d3f50\" data-root-id=\"1531\"></div>\n"
      ]
     },
     "metadata": {},
     "output_type": "display_data"
    },
    {
     "data": {
      "application/javascript": [
       "(function(root) {\n",
       "  function embed_document(root) {\n",
       "    \n",
       "  var docs_json = {\"942596d0-fae7-4baa-8d7c-caf710dcb70d\":{\"roots\":{\"references\":[{\"attributes\":{\"below\":[{\"id\":\"1542\",\"type\":\"LinearAxis\"}],\"center\":[{\"id\":\"1546\",\"type\":\"Grid\"},{\"id\":\"1551\",\"type\":\"Grid\"},{\"id\":\"1574\",\"type\":\"Legend\"}],\"left\":[{\"id\":\"1547\",\"type\":\"LinearAxis\"}],\"plot_width\":900,\"renderers\":[{\"id\":\"1566\",\"type\":\"GlyphRenderer\"},{\"id\":\"1579\",\"type\":\"GlyphRenderer\"}],\"title\":{\"id\":\"1532\",\"type\":\"Title\"},\"toolbar\":{\"id\":\"1557\",\"type\":\"Toolbar\"},\"x_range\":{\"id\":\"1534\",\"type\":\"DataRange1d\"},\"x_scale\":{\"id\":\"1538\",\"type\":\"LinearScale\"},\"y_range\":{\"id\":\"1536\",\"type\":\"Range1d\"},\"y_scale\":{\"id\":\"1540\",\"type\":\"LinearScale\"}},\"id\":\"1531\",\"subtype\":\"Figure\",\"type\":\"Plot\"},{\"attributes\":{\"callback\":null,\"end\":9,\"start\":-1},\"id\":\"1536\",\"type\":\"Range1d\"},{\"attributes\":{},\"id\":\"1627\",\"type\":\"Selection\"},{\"attributes\":{\"dimension\":1,\"ticker\":{\"id\":\"1548\",\"type\":\"BasicTicker\"}},\"id\":\"1551\",\"type\":\"Grid\"},{\"attributes\":{\"label\":{\"value\":\"y=0\"},\"renderers\":[{\"id\":\"1566\",\"type\":\"GlyphRenderer\"}]},\"id\":\"1575\",\"type\":\"LegendItem\"},{\"attributes\":{},\"id\":\"1540\",\"type\":\"LinearScale\"},{\"attributes\":{\"fill_alpha\":{\"value\":0.1},\"fill_color\":{\"value\":\"#1f77b4\"},\"line_alpha\":{\"value\":0.1},\"line_color\":{\"value\":\"#1f77b4\"},\"x\":{\"field\":\"x\"},\"y\":{\"field\":\"y\"}},\"id\":\"1578\",\"type\":\"Circle\"},{\"attributes\":{},\"id\":\"1538\",\"type\":\"LinearScale\"},{\"attributes\":{\"source\":{\"id\":\"1563\",\"type\":\"ColumnDataSource\"}},\"id\":\"1567\",\"type\":\"CDSView\"},{\"attributes\":{\"active_drag\":\"auto\",\"active_inspect\":\"auto\",\"active_multi\":null,\"active_scroll\":\"auto\",\"active_tap\":\"auto\",\"tools\":[{\"id\":\"1552\",\"type\":\"PanTool\"},{\"id\":\"1553\",\"type\":\"BoxZoomTool\"},{\"id\":\"1554\",\"type\":\"ResetTool\"},{\"id\":\"1555\",\"type\":\"SaveTool\"},{\"id\":\"1556\",\"type\":\"HoverTool\"}]},\"id\":\"1557\",\"type\":\"Toolbar\"},{\"attributes\":{\"callback\":null,\"data\":{\"x\":[7.0,8.88,2.85,10.69,8.74,12.83,6.72,2.67,6.41,2.81,2.19,10.68,11.96,7.7,3.56,8.6,3.72,11.19,10.5,0.84,3.32,1.54,1.37,12.11,10.51,3.2,11.11,1.18,5.62,1.85,3.83,2.38,2.7,12.12,8.23,3.54,8.01,6.32,11.72,7.97,1.45,12.32,2.78,10.03,1.45,1.68,3.15,0.57,1.18,6.4,2.99,0.96,6.24,7.59,3.91,6.42,1.03,8.52,9.73,9.44,8.54,0.57,2.24,12.05,7.75,10.05,10.69,6.46,11.48,6.86,7.86,8.25,4.88,1.84,2.61,9.94,10.02,9.76,11.56,5.43,9.33,6.09,8.48,3.64,4.99,10.46,10.73,0.57,5.61,6.27,11.47,8.48,8.59,5.98,5.68,7.45,2.32,6.06,0.29,3.84,9.43,5.96,11.77,4.64,11.88,6.7,9.73,7.6,9.8,1.41,7.82,3.51,11.15,11.48,10.47,11.46,9.9,9.62,4.49,2.84,10.87,3.72,12.39,2.9,3.26,8.97,8.2,7.94,9.12,10.29,4.92,7.1,11.27,5.33,4.7,8.11,0.82,3.48,11.07,12.48,2.0,7.01,5.78,3.3,4.36,3.34,11.96,2.0,3.25,2.77,4.85,6.8,10.96,9.98,4.96,8.14,10.29,0.57,4.62,1.52,10.34,10.42,4.89,0.78,10.46,4.73,12.56,1.21,11.11,4.16,8.02,1.1,6.64,3.62,3.6,1.83,11.02,12.59,4.09,4.88,11.39,7.67,3.08,7.51,12.47,12.61,3.1,12.11,0.3,12.1,9.87,12.31,4.89,1.63,2.57,11.25,1.67,6.61,0.99,11.65,3.1,6.66,0.57,1.18,10.72,5.15,4.16,1.27,11.94,11.95,6.31,6.63,2.88,7.36,9.47,8.99,9.47,7.01,10.65,3.85,1.8,7.3,1.15,11.81,5.17,9.44,0.61,5.98,7.99,7.95,5.18,4.56,4.32,2.67,3.51,6.45,6.28,3.9,10.27,4.1,1.41,7.01,0.9,10.78,1.34,3.33,5.93,11.32,8.24,10.75,0.56,2.51,6.88,1.52,12.0,3.49,12.82,6.74,8.85,6.82,1.19,0.88,4.94,10.12,3.17,8.13,6.09,1.16,8.05,8.6,11.54,4.54,12.0,0.22,8.44,9.25,4.04,2.61,11.96,3.45,0.33,3.93,2.02,1.69,6.36,1.22,11.96,11.41,11.21,9.12,10.78,7.47,7.29,4.35,4.01,11.98,5.21,9.02,4.77,11.51,9.77,8.1,10.27,7.78,11.21,1.26,3.62,11.71,6.88,11.54,3.3,10.88,1.39,4.07,3.56,0.26,5.45],\"y\":[0.0,0.0,0.0,0.0,0.0,0.0,0.0,0.0,0.0,0.0,0.0,0.0,0.0,0.0,0.0,0.0,0.0,0.0,0.0,0.0,0.0,0.0,0.0,0.0,0.0,0.0,0.0,0.0,0.0,0.0,0.0,0.0,0.0,0.0,0.0,0.0,0.0,0.0,0.0,0.0,0.0,0.0,0.0,0.0,0.0,0.0,0.0,0.0,0.0,0.0,0.0,0.0,0.0,0.0,0.0,0.0,0.0,0.0,0.0,0.0,0.0,0.0,0.0,0.0,0.0,0.0,0.0,0.0,0.0,0.0,0.0,0.0,0.0,0.0,0.0,0.0,0.0,0.0,0.0,0.0,0.0,0.0,0.0,0.0,0.0,0.0,0.0,0.0,0.0,0.0,0.0,0.0,0.0,0.0,0.0,0.0,0.0,0.0,0.0,0.0,0.0,0.0,0.0,0.0,0.0,0.0,0.0,0.0,0.0,0.0,0.0,0.0,0.0,0.0,0.0,0.0,0.0,0.0,0.0,0.0,0.0,0.0,0.0,0.0,0.0,0.0,0.0,0.0,0.0,0.0,0.0,0.0,0.0,0.0,0.0,0.0,0.0,0.0,0.0,0.0,0.0,0.0,0.0,0.0,0.0,0.0,0.0,0.0,0.0,0.0,0.0,0.0,0.0,0.0,0.0,0.0,0.0,0.0,0.0,0.0,0.0,0.0,0.0,0.0,0.0,0.0,0.0,0.0,0.0,0.0,0.0,0.0,0.0,0.0,0.0,0.0,0.0,0.0,0.0,0.0,0.0,0.0,0.0,0.0,0.0,0.0,0.0,0.0,0.0,0.0,0.0,0.0,0.0,0.0,0.0,0.0,0.0,0.0,0.0,0.0,0.0,0.0,0.0,0.0,0.0,0.0,0.0,0.0,0.0,0.0,0.0,0.0,0.0,0.0,0.0,0.0,0.0,0.0,0.0,0.0,0.0,0.0,0.0,0.0,0.0,0.0,0.0,0.0,0.0,0.0,0.0,0.0,0.0,0.0,0.0,0.0,0.0,0.0,0.0,0.0,0.0,0.0,0.0,0.0,0.0,0.0,0.0,0.0,0.0,0.0,0.0,0.0,0.0,0.0,0.0,0.0,0.0,0.0,0.0,0.0,0.0,0.0,0.0,0.0,0.0,0.0,0.0,0.0,0.0,0.0,0.0,0.0,0.0,0.0,0.0,0.0,0.0,0.0,0.0,0.0,0.0,0.0,0.0,0.0,0.0,0.0,0.0,0.0,0.0,0.0,0.0,0.0,0.0,0.0,0.0,0.0,0.0,0.0,0.0,0.0,0.0,0.0,0.0,0.0,0.0,0.0,0.0,0.0,0.0,0.0,0.0,0.0,0.0,0.0,0.0,0.0,0.0]},\"selected\":{\"id\":\"1627\",\"type\":\"Selection\"},\"selection_policy\":{\"id\":\"1626\",\"type\":\"UnionRenderers\"}},\"id\":\"1563\",\"type\":\"ColumnDataSource\"},{\"attributes\":{},\"id\":\"1629\",\"type\":\"Selection\"},{\"attributes\":{\"text\":\"Differences Between McQ and Exoplanet ACF TESS Periods\"},\"id\":\"1532\",\"type\":\"Title\"},{\"attributes\":{},\"id\":\"1552\",\"type\":\"PanTool\"},{\"attributes\":{\"axis_label\":\"Difference Between Period Calculations\",\"formatter\":{\"id\":\"1571\",\"type\":\"BasicTickFormatter\"},\"ticker\":{\"id\":\"1548\",\"type\":\"BasicTicker\"}},\"id\":\"1547\",\"type\":\"LinearAxis\"},{\"attributes\":{\"callback\":null,\"data\":{\"tess\":[275493837,121789795,63007124,275490626,171098535,63210277,351803000,170253623,158791870,164724054,122684770,121457565,273582401,267991320,137218354,184089663,272370950,159172008,121659832,138728898,169460055,169466444,122213500,63209318,120963553,267746802,271165094,27395090,298964604,270608620,185058148,271426791,273687618,272719990,239227465,27186774,271538184,121215119,121939294,352013209,185058255,170344764,378084176,120422997,63075888,270856793,26597576,158412743,121329643,351055098,120890400,137408312,267671733,279916031,271547585,158936101,121939266,239225673,27389081,121785547,138725623],\"x\":[7.0,8.88,2.85,10.69,8.74,12.83,6.72,2.67,6.41,2.81,2.19,10.68,11.96,7.7,3.56,8.6,3.72,11.19,10.5,0.84,3.32,1.54,1.37,12.11,10.51,3.2,11.11,1.18,5.62,1.85,3.83,2.38,2.7,12.12,8.23,3.54,8.01,6.32,11.72,7.97,1.45,12.32,2.78,10.03,1.45,1.68,3.15,0.57,1.18,6.4,2.99,0.96,6.24,7.59,3.91,6.42,1.03,8.52,9.73,9.44,8.54,0.57,2.24,12.05,7.75,10.05,10.69,6.46,11.48,6.86,7.86,8.25,4.88,1.84,2.61,9.94,10.02,9.76,11.56,5.43,9.33,6.09,8.48,3.64,4.99,10.46,10.73,0.57,5.61,6.27,11.47,8.48,8.59,5.98,5.68,7.45,2.32,6.06,0.29,3.84,9.43,5.96,11.77,4.64,11.88,6.7,9.73,7.6,9.8,1.41,7.82,3.51,11.15,11.48,10.47,11.46,9.9,9.62,4.49,2.84,10.87,3.72,12.39,2.9,3.26,8.97,8.2,7.94,9.12,10.29,4.92,7.1,11.27,5.33,4.7,8.11,0.82,3.48,11.07,12.48,2.0,7.01,5.78,3.3,4.36,3.34,11.96,2.0,3.25,2.77,4.85,6.8,10.96,9.98,4.96,8.14,10.29,0.57,4.62,1.52,10.34,10.42,4.89,0.78,10.46,4.73,12.56,1.21,11.11,4.16,8.02,1.1,6.64,3.62,3.6,1.83,11.02,12.59,4.09,4.88,11.39,7.67,3.08,7.51,12.47,12.61,3.1,12.11,0.3,12.1,9.87,12.31,4.89,1.63,2.57,11.25,1.67,6.61,0.99,11.65,3.1,6.66,0.57,1.18,10.72,5.15,4.16,1.27,11.94,11.95,6.31,6.63,2.88,7.36,9.47,8.99,9.47,7.01,10.65,3.85,1.8,7.3,1.15,11.81,5.17,9.44,0.61,5.98,7.99,7.95,5.18,4.56,4.32,2.67,3.51,6.45,6.28,3.9,10.27,4.1,1.41,7.01,0.9,10.78,1.34,3.33,5.93,11.32,8.24,10.75,0.56,2.51,6.88,1.52,12.0,3.49,12.82,6.74,8.85,6.82,1.19,0.88,4.94,10.12,3.17,8.13,6.09,1.16,8.05,8.6,11.54,4.54,12.0,0.22,8.44,9.25,4.04,2.61,11.96,3.45,0.33,3.93,2.02,1.69,6.36,1.22,11.96,11.41,11.21,9.12,10.78,7.47,7.29,4.35,4.01,11.98,5.21,9.02,4.77,11.51,9.77,8.1,10.27,7.78,11.21,1.26,3.62,11.71,6.88,11.54,3.3,10.88,1.39,4.07,3.56,0.26,5.45],\"y\":[7.8499999999928605,4.349999999996044,2.549999999997681,2.64999999999759,1.0999999999989996,4.799999999995634,2.64999999999759,5.549999999994952,3.699999999996635,6.599999999993997,7.599999999993088,1.0999999999989996,7.8499999999928605,3.2999999999969987,0.8499999999992269,2.5999999999976353,3.699999999996635,2.749999999997499,2.8999999999973625,0.7999999999992724,8.549999999992224,1.6999999999984539,1.3499999999987722,7.699999999992997,1.9499999999982265,2.1499999999980446,0.949999999999136,1.149999999998954,4.0499999999963165,1.799999999998363,4.099999999996271,2.399999999997817,13.14999999998804,3.1999999999970896,2.5999999999976353,6.699999999993906,1.049999999999045,6.349999999994225,7.349999999993315,1.6999999999984539,1.4499999999986812,3.599999999996726,1.3499999999987722,7.8499999999928605,2.8999999999973625,1.6499999999984993,3.4499999999968622,0.5499999999994998,2.549999999997681,4.549999999995862,5.249999999995225,7.9499999999927695,2.64999999999759,2.549999999997681,5.799999999994725,6.649999999993952,2.4999999999977263,3.4499999999968622,5.349999999995134,2.849999999997408,8.39999999999236]},\"selected\":{\"id\":\"1629\",\"type\":\"Selection\"},\"selection_policy\":{\"id\":\"1628\",\"type\":\"UnionRenderers\"}},\"id\":\"1530\",\"type\":\"ColumnDataSource\"},{\"attributes\":{\"overlay\":{\"id\":\"1573\",\"type\":\"BoxAnnotation\"}},\"id\":\"1553\",\"type\":\"BoxZoomTool\"},{\"attributes\":{},\"id\":\"1554\",\"type\":\"ResetTool\"},{\"attributes\":{},\"id\":\"1628\",\"type\":\"UnionRenderers\"},{\"attributes\":{\"data_source\":{\"id\":\"1530\",\"type\":\"ColumnDataSource\"},\"glyph\":{\"id\":\"1577\",\"type\":\"Circle\"},\"hover_glyph\":null,\"muted_glyph\":null,\"nonselection_glyph\":{\"id\":\"1578\",\"type\":\"Circle\"},\"selection_glyph\":null,\"view\":{\"id\":\"1580\",\"type\":\"CDSView\"}},\"id\":\"1579\",\"type\":\"GlyphRenderer\"},{\"attributes\":{},\"id\":\"1555\",\"type\":\"SaveTool\"},{\"attributes\":{\"fill_color\":{\"value\":\"indigo\"},\"line_color\":{\"value\":null},\"x\":{\"field\":\"x\"},\"y\":{\"field\":\"y\"}},\"id\":\"1577\",\"type\":\"Circle\"},{\"attributes\":{\"callback\":null,\"tooltips\":[[\"index\",\"$index\"],[\"(x,y)\",\"($x, $y)\"],[\"TIC ID\",\"@tess\"]]},\"id\":\"1556\",\"type\":\"HoverTool\"},{\"attributes\":{\"ticker\":{\"id\":\"1543\",\"type\":\"BasicTicker\"}},\"id\":\"1546\",\"type\":\"Grid\"},{\"attributes\":{\"callback\":null},\"id\":\"1534\",\"type\":\"DataRange1d\"},{\"attributes\":{\"items\":[{\"id\":\"1575\",\"type\":\"LegendItem\"}]},\"id\":\"1574\",\"type\":\"Legend\"},{\"attributes\":{\"line_alpha\":0.1,\"line_color\":\"#1f77b4\",\"line_dash\":[4,4],\"line_width\":2,\"x\":{\"field\":\"x\"},\"y\":{\"field\":\"y\"}},\"id\":\"1565\",\"type\":\"Line\"},{\"attributes\":{},\"id\":\"1543\",\"type\":\"BasicTicker\"},{\"attributes\":{\"line_color\":\"lightgreen\",\"line_dash\":[4,4],\"line_width\":2,\"x\":{\"field\":\"x\"},\"y\":{\"field\":\"y\"}},\"id\":\"1564\",\"type\":\"Line\"},{\"attributes\":{},\"id\":\"1569\",\"type\":\"BasicTickFormatter\"},{\"attributes\":{\"bottom_units\":\"screen\",\"fill_alpha\":{\"value\":0.5},\"fill_color\":{\"value\":\"lightgrey\"},\"left_units\":\"screen\",\"level\":\"overlay\",\"line_alpha\":{\"value\":1.0},\"line_color\":{\"value\":\"black\"},\"line_dash\":[4,4],\"line_width\":{\"value\":2},\"render_mode\":\"css\",\"right_units\":\"screen\",\"top_units\":\"screen\"},\"id\":\"1573\",\"type\":\"BoxAnnotation\"},{\"attributes\":{},\"id\":\"1626\",\"type\":\"UnionRenderers\"},{\"attributes\":{\"data_source\":{\"id\":\"1563\",\"type\":\"ColumnDataSource\"},\"glyph\":{\"id\":\"1564\",\"type\":\"Line\"},\"hover_glyph\":null,\"muted_glyph\":null,\"name\":\"y=0\",\"nonselection_glyph\":{\"id\":\"1565\",\"type\":\"Line\"},\"selection_glyph\":null,\"view\":{\"id\":\"1567\",\"type\":\"CDSView\"}},\"id\":\"1566\",\"type\":\"GlyphRenderer\"},{\"attributes\":{},\"id\":\"1548\",\"type\":\"BasicTicker\"},{\"attributes\":{\"source\":{\"id\":\"1530\",\"type\":\"ColumnDataSource\"}},\"id\":\"1580\",\"type\":\"CDSView\"},{\"attributes\":{\"axis_label\":\"McQuillan Period\",\"formatter\":{\"id\":\"1569\",\"type\":\"BasicTickFormatter\"},\"ticker\":{\"id\":\"1543\",\"type\":\"BasicTicker\"}},\"id\":\"1542\",\"type\":\"LinearAxis\"},{\"attributes\":{},\"id\":\"1571\",\"type\":\"BasicTickFormatter\"}],\"root_ids\":[\"1531\"]},\"title\":\"Bokeh Application\",\"version\":\"1.3.4\"}};\n",
       "  var render_items = [{\"docid\":\"942596d0-fae7-4baa-8d7c-caf710dcb70d\",\"roots\":{\"1531\":\"2b8d4533-2a4d-4ced-8167-fb555b0d3f50\"}}];\n",
       "  root.Bokeh.embed.embed_items_notebook(docs_json, render_items);\n",
       "\n",
       "  }\n",
       "  if (root.Bokeh !== undefined) {\n",
       "    embed_document(root);\n",
       "  } else {\n",
       "    var attempts = 0;\n",
       "    var timer = setInterval(function(root) {\n",
       "      if (root.Bokeh !== undefined) {\n",
       "        embed_document(root);\n",
       "        clearInterval(timer);\n",
       "      }\n",
       "      attempts++;\n",
       "      if (attempts > 100) {\n",
       "        console.log(\"Bokeh: ERROR: Unable to run BokehJS code because BokehJS library is missing\");\n",
       "        clearInterval(timer);\n",
       "      }\n",
       "    }, 10, root)\n",
       "  }\n",
       "})(window);"
      ],
      "application/vnd.bokehjs_exec.v0+json": ""
     },
     "metadata": {
      "application/vnd.bokehjs_exec.v0+json": {
       "id": "1531"
      }
     },
     "output_type": "display_data"
    }
   ],
   "source": [
    "x =  short_periods\n",
    "y = exo_acf\n",
    "\n",
    "source = ColumnDataSource(data=dict(\n",
    "    x = short_periods,\n",
    "    y = exo_acf, \n",
    "    tess = (cat['tic_id'])[0:61]))\n",
    "\n",
    "x2 = [i*2 for i in x]\n",
    "x_half = [float(i)*0.5 for i in x]\n",
    "x_0 = [i*0 for i in x]\n",
    "\n",
    "ls_diff = figure(\n",
    "   tools=\"pan,box_zoom,reset,save,hover\",\n",
    "   y_range=[-1, 9], title=\"Differences Between McQ and Exoplanet ACF TESS Periods\",\n",
    "   x_axis_label='McQuillan Period', y_axis_label='Difference Between Period Calculations', plot_width=900)\n",
    "\n",
    "ls_diff.line(x, x_0, name = \"y=0\", color = 'lightgreen', line_dash=\"4 4\", legend = \"y=0\", line_width = 2)\n",
    "ls_diff.circle('x', 'y', source = source, color=\"indigo\", line_color=None)\n",
    "\n",
    "\n",
    "ls_diff.hover.tooltips = [\n",
    "    (\"index\", \"$index\"), \n",
    "    (\"(x,y)\", \"($x, $y)\"), \n",
    "    (\"TIC ID\", \"@tess\")] \n",
    "\n",
    "show(ls_diff)"
   ]
  },
  {
   "cell_type": "code",
   "execution_count": 20,
   "metadata": {},
   "outputs": [
    {
     "data": {
      "text/html": [
       "\n",
       "\n",
       "\n",
       "\n",
       "\n",
       "\n",
       "  <div class=\"bk-root\" id=\"88de70e5-fd39-44ee-aeeb-1a169174f125\" data-root-id=\"1691\"></div>\n"
      ]
     },
     "metadata": {},
     "output_type": "display_data"
    },
    {
     "data": {
      "application/javascript": [
       "(function(root) {\n",
       "  function embed_document(root) {\n",
       "    \n",
       "  var docs_json = {\"4efbdc68-dd9a-4892-b94f-0ec0709feb51\":{\"roots\":{\"references\":[{\"attributes\":{\"below\":[{\"id\":\"1702\",\"type\":\"LinearAxis\"}],\"center\":[{\"id\":\"1706\",\"type\":\"Grid\"},{\"id\":\"1711\",\"type\":\"Grid\"},{\"id\":\"1734\",\"type\":\"Legend\"}],\"left\":[{\"id\":\"1707\",\"type\":\"LinearAxis\"}],\"plot_width\":900,\"renderers\":[{\"id\":\"1726\",\"type\":\"GlyphRenderer\"},{\"id\":\"1739\",\"type\":\"GlyphRenderer\"},{\"id\":\"1744\",\"type\":\"GlyphRenderer\"},{\"id\":\"1760\",\"type\":\"GlyphRenderer\"}],\"title\":{\"id\":\"1692\",\"type\":\"Title\"},\"toolbar\":{\"id\":\"1717\",\"type\":\"Toolbar\"},\"x_range\":{\"id\":\"1694\",\"type\":\"DataRange1d\"},\"x_scale\":{\"id\":\"1698\",\"type\":\"LinearScale\"},\"y_range\":{\"id\":\"1696\",\"type\":\"Range1d\"},\"y_scale\":{\"id\":\"1700\",\"type\":\"LinearScale\"}},\"id\":\"1691\",\"subtype\":\"Figure\",\"type\":\"Plot\"},{\"attributes\":{\"dimension\":1,\"ticker\":{\"id\":\"1708\",\"type\":\"BasicTicker\"}},\"id\":\"1711\",\"type\":\"Grid\"},{\"attributes\":{},\"id\":\"1703\",\"type\":\"BasicTicker\"},{\"attributes\":{\"source\":{\"id\":\"1757\",\"type\":\"ColumnDataSource\"}},\"id\":\"1761\",\"type\":\"CDSView\"},{\"attributes\":{},\"id\":\"1772\",\"type\":\"UnionRenderers\"},{\"attributes\":{\"ticker\":{\"id\":\"1703\",\"type\":\"BasicTicker\"}},\"id\":\"1706\",\"type\":\"Grid\"},{\"attributes\":{\"line_color\":\"sienna\",\"line_dash\":[2,4],\"x\":{\"field\":\"x\"},\"y\":{\"field\":\"y\"}},\"id\":\"1758\",\"type\":\"Line\"},{\"attributes\":{},\"id\":\"1729\",\"type\":\"BasicTickFormatter\"},{\"attributes\":{\"label\":{\"value\":\"y=0.5*x\"},\"renderers\":[{\"id\":\"1760\",\"type\":\"GlyphRenderer\"}]},\"id\":\"1774\",\"type\":\"LegendItem\"},{\"attributes\":{},\"id\":\"1708\",\"type\":\"BasicTicker\"},{\"attributes\":{},\"id\":\"1731\",\"type\":\"BasicTickFormatter\"},{\"attributes\":{},\"id\":\"1773\",\"type\":\"Selection\"},{\"attributes\":{\"axis_label\":\"Lomb-Scargle Period\",\"formatter\":{\"id\":\"1731\",\"type\":\"BasicTickFormatter\"},\"ticker\":{\"id\":\"1708\",\"type\":\"BasicTicker\"}},\"id\":\"1707\",\"type\":\"LinearAxis\"},{\"attributes\":{\"bottom_units\":\"screen\",\"fill_alpha\":{\"value\":0.5},\"fill_color\":{\"value\":\"lightgrey\"},\"left_units\":\"screen\",\"level\":\"overlay\",\"line_alpha\":{\"value\":1.0},\"line_color\":{\"value\":\"black\"},\"line_dash\":[4,4],\"line_width\":{\"value\":2},\"render_mode\":\"css\",\"right_units\":\"screen\",\"top_units\":\"screen\"},\"id\":\"1733\",\"type\":\"BoxAnnotation\"},{\"attributes\":{\"data_source\":{\"id\":\"1741\",\"type\":\"ColumnDataSource\"},\"glyph\":{\"id\":\"1742\",\"type\":\"Line\"},\"hover_glyph\":null,\"muted_glyph\":null,\"nonselection_glyph\":{\"id\":\"1743\",\"type\":\"Line\"},\"selection_glyph\":null,\"view\":{\"id\":\"1745\",\"type\":\"CDSView\"}},\"id\":\"1744\",\"type\":\"GlyphRenderer\"},{\"attributes\":{\"source\":{\"id\":\"1723\",\"type\":\"ColumnDataSource\"}},\"id\":\"1727\",\"type\":\"CDSView\"},{\"attributes\":{\"callback\":null,\"data\":{\"tess\":[275493837,121789795,63007124,275490626,171098535,63210277,351803000,170253623,158791870,164724054,122684770,121457565,273582401,267991320,137218354,184089663,272370950,159172008,121659832,138728898,169460055,169466444,122213500,63209318,120963553,267746802,271165094,27395090,298964604,270608620,185058148,271426791,273687618,272719990,239227465,27186774,271538184,121215119,121939294,352013209,185058255,170344764,378084176,120422997,63075888,270856793,26597576,158412743,121329643,351055098,120890400,137408312,267671733,279916031,271547585,158936101,121939266,239225673,27389081,121785547,138725623],\"x\":[7.0,8.88,2.85,10.69,8.74,12.83,6.72,2.67,6.41,2.81,2.19,10.68,11.96,7.7,3.56,8.6,3.72,11.19,10.5,0.84,3.32,1.54,1.37,12.11,10.51,3.2,11.11,1.18,5.62,1.85,3.83,2.38,2.7,12.12,8.23,3.54,8.01,6.32,11.72,7.97,1.45,12.32,2.78,10.03,1.45,1.68,3.15,0.57,1.18,6.4,2.99,0.96,6.24,7.59,3.91,6.42,1.03,8.52,9.73,9.44,8.54,0.57,2.24,12.05,7.75,10.05,10.69,6.46,11.48,6.86,7.86,8.25,4.88,1.84,2.61,9.94,10.02,9.76,11.56,5.43,9.33,6.09,8.48,3.64,4.99,10.46,10.73,0.57,5.61,6.27,11.47,8.48,8.59,5.98,5.68,7.45,2.32,6.06,0.29,3.84,9.43,5.96,11.77,4.64,11.88,6.7,9.73,7.6,9.8,1.41,7.82,3.51,11.15,11.48,10.47,11.46,9.9,9.62,4.49,2.84,10.87,3.72,12.39,2.9,3.26,8.97,8.2,7.94,9.12,10.29,4.92,7.1,11.27,5.33,4.7,8.11,0.82,3.48,11.07,12.48,2.0,7.01,5.78,3.3,4.36,3.34,11.96,2.0,3.25,2.77,4.85,6.8,10.96,9.98,4.96,8.14,10.29,0.57,4.62,1.52,10.34,10.42,4.89,0.78,10.46,4.73,12.56,1.21,11.11,4.16,8.02,1.1,6.64,3.62,3.6,1.83,11.02,12.59,4.09,4.88,11.39,7.67,3.08,7.51,12.47,12.61,3.1,12.11,0.3,12.1,9.87,12.31,4.89,1.63,2.57,11.25,1.67,6.61,0.99,11.65,3.1,6.66,0.57,1.18,10.72,5.15,4.16,1.27,11.94,11.95,6.31,6.63,2.88,7.36,9.47,8.99,9.47,7.01,10.65,3.85,1.8,7.3,1.15,11.81,5.17,9.44,0.61,5.98,7.99,7.95,5.18,4.56,4.32,2.67,3.51,6.45,6.28,3.9,10.27,4.1,1.41,7.01,0.9,10.78,1.34,3.33,5.93,11.32,8.24,10.75,0.56,2.51,6.88,1.52,12.0,3.49,12.82,6.74,8.85,6.82,1.19,0.88,4.94,10.12,3.17,8.13,6.09,1.16,8.05,8.6,11.54,4.54,12.0,0.22,8.44,9.25,4.04,2.61,11.96,3.45,0.33,3.93,2.02,1.69,6.36,1.22,11.96,11.41,11.21,9.12,10.78,7.47,7.29,4.35,4.01,11.98,5.21,9.02,4.77,11.51,9.77,8.1,10.27,7.78,11.21,1.26,3.62,11.71,6.88,11.54,3.3,10.88,1.39,4.07,3.56,0.26,5.45],\"y\":[7.827624589632677,2.2097722409170824,2.331256163320115,2.8385952900420515,13.182810497840634,9.496743534077504,2.7986418614960678,7.044762870910475,4.294571006717636,7.694065507928814,7.454445428441082,7.698756946272918,7.228265112284993,7.465464416254569,12.657492424415027,2.8150208764035836,1.8662469808487554,15.659882737625436,2.6486419482333643,0.8370259100613362,4.65261377150227,9.232853035515447,1.3677197940849903,7.456646623000108,14.915295191559052,6.968940515316491,5.088059933874912,1.15968863440427,7.510984925302508,7.944600160164742,7.309868421052633,0.7823601067462804,7.249014849030508,8.298355415477914,2.6928446094636125,7.344950222774569,13.220770567097404,7.215872191193663,8.17213633221047,10.330048345109706,1.4614391051694249,7.228265112284993,1.3859229840439864,7.265700609453062,7.40091920335709,0.8317600434781959,3.3631377581906676,0.5667848084735629,2.8482002327572506,3.4859351567745294,2.7326207680162122,8.284742830726099,13.776130136137079,7.227230743212478,7.241738903734602,6.834089874647871,12.68929444279482,3.5719796823763903,4.458739305606832,4.441877013856129,8.56867432713812,0.5667657269710298,7.153526222943305,8.197338133742548,0.9983090472262804,14.775658927099126,7.3588629559965035,7.323648443782381,6.957420162805261,12.198897696581103]},\"selected\":{\"id\":\"1755\",\"type\":\"Selection\"},\"selection_policy\":{\"id\":\"1754\",\"type\":\"UnionRenderers\"}},\"id\":\"1690\",\"type\":\"ColumnDataSource\"},{\"attributes\":{\"fill_alpha\":{\"value\":0.1},\"fill_color\":{\"value\":\"#1f77b4\"},\"line_alpha\":{\"value\":0.1},\"line_color\":{\"value\":\"#1f77b4\"},\"x\":{\"field\":\"x\"},\"y\":{\"field\":\"y\"}},\"id\":\"1738\",\"type\":\"Circle\"},{\"attributes\":{\"callback\":null,\"data\":{\"x\":[7.0,8.88,2.85,10.69,8.74,12.83,6.72,2.67,6.41,2.81,2.19,10.68,11.96,7.7,3.56,8.6,3.72,11.19,10.5,0.84,3.32,1.54,1.37,12.11,10.51,3.2,11.11,1.18,5.62,1.85,3.83,2.38,2.7,12.12,8.23,3.54,8.01,6.32,11.72,7.97,1.45,12.32,2.78,10.03,1.45,1.68,3.15,0.57,1.18,6.4,2.99,0.96,6.24,7.59,3.91,6.42,1.03,8.52,9.73,9.44,8.54,0.57,2.24,12.05,7.75,10.05,10.69,6.46,11.48,6.86,7.86,8.25,4.88,1.84,2.61,9.94,10.02,9.76,11.56,5.43,9.33,6.09,8.48,3.64,4.99,10.46,10.73,0.57,5.61,6.27,11.47,8.48,8.59,5.98,5.68,7.45,2.32,6.06,0.29,3.84,9.43,5.96,11.77,4.64,11.88,6.7,9.73,7.6,9.8,1.41,7.82,3.51,11.15,11.48,10.47,11.46,9.9,9.62,4.49,2.84,10.87,3.72,12.39,2.9,3.26,8.97,8.2,7.94,9.12,10.29,4.92,7.1,11.27,5.33,4.7,8.11,0.82,3.48,11.07,12.48,2.0,7.01,5.78,3.3,4.36,3.34,11.96,2.0,3.25,2.77,4.85,6.8,10.96,9.98,4.96,8.14,10.29,0.57,4.62,1.52,10.34,10.42,4.89,0.78,10.46,4.73,12.56,1.21,11.11,4.16,8.02,1.1,6.64,3.62,3.6,1.83,11.02,12.59,4.09,4.88,11.39,7.67,3.08,7.51,12.47,12.61,3.1,12.11,0.3,12.1,9.87,12.31,4.89,1.63,2.57,11.25,1.67,6.61,0.99,11.65,3.1,6.66,0.57,1.18,10.72,5.15,4.16,1.27,11.94,11.95,6.31,6.63,2.88,7.36,9.47,8.99,9.47,7.01,10.65,3.85,1.8,7.3,1.15,11.81,5.17,9.44,0.61,5.98,7.99,7.95,5.18,4.56,4.32,2.67,3.51,6.45,6.28,3.9,10.27,4.1,1.41,7.01,0.9,10.78,1.34,3.33,5.93,11.32,8.24,10.75,0.56,2.51,6.88,1.52,12.0,3.49,12.82,6.74,8.85,6.82,1.19,0.88,4.94,10.12,3.17,8.13,6.09,1.16,8.05,8.6,11.54,4.54,12.0,0.22,8.44,9.25,4.04,2.61,11.96,3.45,0.33,3.93,2.02,1.69,6.36,1.22,11.96,11.41,11.21,9.12,10.78,7.47,7.29,4.35,4.01,11.98,5.21,9.02,4.77,11.51,9.77,8.1,10.27,7.78,11.21,1.26,3.62,11.71,6.88,11.54,3.3,10.88,1.39,4.07,3.56,0.26,5.45],\"y\":[3.5,4.44,1.425,5.345,4.37,6.415,3.36,1.335,3.205,1.405,1.095,5.34,5.98,3.85,1.78,4.3,1.86,5.595,5.25,0.42,1.66,0.77,0.685,6.055,5.255,1.6,5.555,0.59,2.81,0.925,1.915,1.19,1.35,6.06,4.115,1.77,4.005,3.16,5.86,3.985,0.725,6.16,1.39,5.015,0.725,0.84,1.575,0.285,0.59,3.2,1.495,0.48,3.12,3.795,1.955,3.21,0.515,4.26,4.865,4.72,4.27,0.285,1.12,6.025,3.875,5.025,5.345,3.23,5.74,3.43,3.93,4.125,2.44,0.92,1.305,4.97,5.01,4.88,5.78,2.715,4.665,3.045,4.24,1.82,2.495,5.23,5.365,0.285,2.805,3.135,5.735,4.24,4.295,2.99,2.84,3.725,1.16,3.03,0.145,1.92,4.715,2.98,5.885,2.32,5.94,3.35,4.865,3.8,4.9,0.705,3.91,1.755,5.575,5.74,5.235,5.73,4.95,4.81,2.245,1.42,5.435,1.86,6.195,1.45,1.63,4.485,4.1,3.97,4.56,5.145,2.46,3.55,5.635,2.665,2.35,4.055,0.41,1.74,5.535,6.24,1.0,3.505,2.89,1.65,2.18,1.67,5.98,1.0,1.625,1.385,2.425,3.4,5.48,4.99,2.48,4.07,5.145,0.285,2.31,0.76,5.17,5.21,2.445,0.39,5.23,2.365,6.28,0.605,5.555,2.08,4.01,0.55,3.32,1.81,1.8,0.915,5.51,6.295,2.045,2.44,5.695,3.835,1.54,3.755,6.235,6.305,1.55,6.055,0.15,6.05,4.935,6.155,2.445,0.815,1.285,5.625,0.835,3.305,0.495,5.825,1.55,3.33,0.285,0.59,5.36,2.575,2.08,0.635,5.97,5.975,3.155,3.315,1.44,3.68,4.735,4.495,4.735,3.505,5.325,1.925,0.9,3.65,0.575,5.905,2.585,4.72,0.305,2.99,3.995,3.975,2.59,2.28,2.16,1.335,1.755,3.225,3.14,1.95,5.135,2.05,0.705,3.505,0.45,5.39,0.67,1.665,2.965,5.66,4.12,5.375,0.28,1.255,3.44,0.76,6.0,1.745,6.41,3.37,4.425,3.41,0.595,0.44,2.47,5.06,1.585,4.065,3.045,0.58,4.025,4.3,5.77,2.27,6.0,0.11,4.22,4.625,2.02,1.305,5.98,1.725,0.165,1.965,1.01,0.845,3.18,0.61,5.98,5.705,5.605,4.56,5.39,3.735,3.645,2.175,2.005,5.99,2.605,4.51,2.385,5.755,4.885,4.05,5.135,3.89,5.605,0.63,1.81,5.855,3.44,5.77,1.65,5.44,0.695,2.035,1.78,0.13,2.725]},\"selected\":{\"id\":\"1837\",\"type\":\"Selection\"},\"selection_policy\":{\"id\":\"1836\",\"type\":\"UnionRenderers\"}},\"id\":\"1757\",\"type\":\"ColumnDataSource\"},{\"attributes\":{\"active_drag\":\"auto\",\"active_inspect\":\"auto\",\"active_multi\":null,\"active_scroll\":\"auto\",\"active_tap\":\"auto\",\"tools\":[{\"id\":\"1712\",\"type\":\"PanTool\"},{\"id\":\"1713\",\"type\":\"BoxZoomTool\"},{\"id\":\"1714\",\"type\":\"ResetTool\"},{\"id\":\"1715\",\"type\":\"SaveTool\"},{\"id\":\"1716\",\"type\":\"HoverTool\"}]},\"id\":\"1717\",\"type\":\"Toolbar\"},{\"attributes\":{\"source\":{\"id\":\"1741\",\"type\":\"ColumnDataSource\"}},\"id\":\"1745\",\"type\":\"CDSView\"},{\"attributes\":{\"callback\":null,\"data\":{\"x\":[7.0,8.88,2.85,10.69,8.74,12.83,6.72,2.67,6.41,2.81,2.19,10.68,11.96,7.7,3.56,8.6,3.72,11.19,10.5,0.84,3.32,1.54,1.37,12.11,10.51,3.2,11.11,1.18,5.62,1.85,3.83,2.38,2.7,12.12,8.23,3.54,8.01,6.32,11.72,7.97,1.45,12.32,2.78,10.03,1.45,1.68,3.15,0.57,1.18,6.4,2.99,0.96,6.24,7.59,3.91,6.42,1.03,8.52,9.73,9.44,8.54,0.57,2.24,12.05,7.75,10.05,10.69,6.46,11.48,6.86,7.86,8.25,4.88,1.84,2.61,9.94,10.02,9.76,11.56,5.43,9.33,6.09,8.48,3.64,4.99,10.46,10.73,0.57,5.61,6.27,11.47,8.48,8.59,5.98,5.68,7.45,2.32,6.06,0.29,3.84,9.43,5.96,11.77,4.64,11.88,6.7,9.73,7.6,9.8,1.41,7.82,3.51,11.15,11.48,10.47,11.46,9.9,9.62,4.49,2.84,10.87,3.72,12.39,2.9,3.26,8.97,8.2,7.94,9.12,10.29,4.92,7.1,11.27,5.33,4.7,8.11,0.82,3.48,11.07,12.48,2.0,7.01,5.78,3.3,4.36,3.34,11.96,2.0,3.25,2.77,4.85,6.8,10.96,9.98,4.96,8.14,10.29,0.57,4.62,1.52,10.34,10.42,4.89,0.78,10.46,4.73,12.56,1.21,11.11,4.16,8.02,1.1,6.64,3.62,3.6,1.83,11.02,12.59,4.09,4.88,11.39,7.67,3.08,7.51,12.47,12.61,3.1,12.11,0.3,12.1,9.87,12.31,4.89,1.63,2.57,11.25,1.67,6.61,0.99,11.65,3.1,6.66,0.57,1.18,10.72,5.15,4.16,1.27,11.94,11.95,6.31,6.63,2.88,7.36,9.47,8.99,9.47,7.01,10.65,3.85,1.8,7.3,1.15,11.81,5.17,9.44,0.61,5.98,7.99,7.95,5.18,4.56,4.32,2.67,3.51,6.45,6.28,3.9,10.27,4.1,1.41,7.01,0.9,10.78,1.34,3.33,5.93,11.32,8.24,10.75,0.56,2.51,6.88,1.52,12.0,3.49,12.82,6.74,8.85,6.82,1.19,0.88,4.94,10.12,3.17,8.13,6.09,1.16,8.05,8.6,11.54,4.54,12.0,0.22,8.44,9.25,4.04,2.61,11.96,3.45,0.33,3.93,2.02,1.69,6.36,1.22,11.96,11.41,11.21,9.12,10.78,7.47,7.29,4.35,4.01,11.98,5.21,9.02,4.77,11.51,9.77,8.1,10.27,7.78,11.21,1.26,3.62,11.71,6.88,11.54,3.3,10.88,1.39,4.07,3.56,0.26,5.45],\"y\":[14.0,17.76,5.7,21.38,17.48,25.66,13.44,5.34,12.82,5.62,4.38,21.36,23.92,15.4,7.12,17.2,7.44,22.38,21.0,1.68,6.64,3.08,2.74,24.22,21.02,6.4,22.22,2.36,11.24,3.7,7.66,4.76,5.4,24.24,16.46,7.08,16.02,12.64,23.44,15.94,2.9,24.64,5.56,20.06,2.9,3.36,6.3,1.14,2.36,12.8,5.98,1.92,12.48,15.18,7.82,12.84,2.06,17.04,19.46,18.88,17.08,1.14,4.48,24.1,15.5,20.1,21.38,12.92,22.96,13.72,15.72,16.5,9.76,3.68,5.22,19.88,20.04,19.52,23.12,10.86,18.66,12.18,16.96,7.28,9.98,20.92,21.46,1.14,11.22,12.54,22.94,16.96,17.18,11.96,11.36,14.9,4.64,12.12,0.58,7.68,18.86,11.92,23.54,9.28,23.76,13.4,19.46,15.2,19.6,2.82,15.64,7.02,22.3,22.96,20.94,22.92,19.8,19.24,8.98,5.68,21.74,7.44,24.78,5.8,6.52,17.94,16.4,15.88,18.24,20.58,9.84,14.2,22.54,10.66,9.4,16.22,1.64,6.96,22.14,24.96,4.0,14.02,11.56,6.6,8.72,6.68,23.92,4.0,6.5,5.54,9.7,13.6,21.92,19.96,9.92,16.28,20.58,1.14,9.24,3.04,20.68,20.84,9.78,1.56,20.92,9.46,25.12,2.42,22.22,8.32,16.04,2.2,13.28,7.24,7.2,3.66,22.04,25.18,8.18,9.76,22.78,15.34,6.16,15.02,24.94,25.22,6.2,24.22,0.6,24.2,19.74,24.62,9.78,3.26,5.14,22.5,3.34,13.22,1.98,23.3,6.2,13.32,1.14,2.36,21.44,10.3,8.32,2.54,23.88,23.9,12.62,13.26,5.76,14.72,18.94,17.98,18.94,14.02,21.3,7.7,3.6,14.6,2.3,23.62,10.34,18.88,1.22,11.96,15.98,15.9,10.36,9.12,8.64,5.34,7.02,12.9,12.56,7.8,20.54,8.2,2.82,14.02,1.8,21.56,2.68,6.66,11.86,22.64,16.48,21.5,1.12,5.02,13.76,3.04,24.0,6.98,25.64,13.48,17.7,13.64,2.38,1.76,9.88,20.24,6.34,16.26,12.18,2.32,16.1,17.2,23.08,9.08,24.0,0.44,16.88,18.5,8.08,5.22,23.92,6.9,0.66,7.86,4.04,3.38,12.72,2.44,23.92,22.82,22.42,18.24,21.56,14.94,14.58,8.7,8.02,23.96,10.42,18.04,9.54,23.02,19.54,16.2,20.54,15.56,22.42,2.52,7.24,23.42,13.76,23.08,6.6,21.76,2.78,8.14,7.12,0.52,10.9]},\"selected\":{\"id\":\"1773\",\"type\":\"Selection\"},\"selection_policy\":{\"id\":\"1772\",\"type\":\"UnionRenderers\"}},\"id\":\"1741\",\"type\":\"ColumnDataSource\"},{\"attributes\":{\"line_color\":\"palegreen\",\"line_dash\":[4,4],\"line_width\":2,\"x\":{\"field\":\"x\"},\"y\":{\"field\":\"y\"}},\"id\":\"1724\",\"type\":\"Line\"},{\"attributes\":{\"source\":{\"id\":\"1690\",\"type\":\"ColumnDataSource\"}},\"id\":\"1740\",\"type\":\"CDSView\"},{\"attributes\":{},\"id\":\"1752\",\"type\":\"UnionRenderers\"},{\"attributes\":{},\"id\":\"1836\",\"type\":\"UnionRenderers\"},{\"attributes\":{\"text\":\"Lomb-Scargle with Interpolation vs McQuillan TESS Periods\"},\"id\":\"1692\",\"type\":\"Title\"},{\"attributes\":{},\"id\":\"1712\",\"type\":\"PanTool\"},{\"attributes\":{\"label\":{\"value\":\"y=2x\"},\"renderers\":[{\"id\":\"1744\",\"type\":\"GlyphRenderer\"}]},\"id\":\"1756\",\"type\":\"LegendItem\"},{\"attributes\":{\"overlay\":{\"id\":\"1733\",\"type\":\"BoxAnnotation\"}},\"id\":\"1713\",\"type\":\"BoxZoomTool\"},{\"attributes\":{},\"id\":\"1753\",\"type\":\"Selection\"},{\"attributes\":{\"label\":{\"value\":\"y=x\"},\"renderers\":[{\"id\":\"1726\",\"type\":\"GlyphRenderer\"}]},\"id\":\"1735\",\"type\":\"LegendItem\"},{\"attributes\":{\"callback\":null,\"data\":{\"x\":[7.0,8.88,2.85,10.69,8.74,12.83,6.72,2.67,6.41,2.81,2.19,10.68,11.96,7.7,3.56,8.6,3.72,11.19,10.5,0.84,3.32,1.54,1.37,12.11,10.51,3.2,11.11,1.18,5.62,1.85,3.83,2.38,2.7,12.12,8.23,3.54,8.01,6.32,11.72,7.97,1.45,12.32,2.78,10.03,1.45,1.68,3.15,0.57,1.18,6.4,2.99,0.96,6.24,7.59,3.91,6.42,1.03,8.52,9.73,9.44,8.54,0.57,2.24,12.05,7.75,10.05,10.69,6.46,11.48,6.86,7.86,8.25,4.88,1.84,2.61,9.94,10.02,9.76,11.56,5.43,9.33,6.09,8.48,3.64,4.99,10.46,10.73,0.57,5.61,6.27,11.47,8.48,8.59,5.98,5.68,7.45,2.32,6.06,0.29,3.84,9.43,5.96,11.77,4.64,11.88,6.7,9.73,7.6,9.8,1.41,7.82,3.51,11.15,11.48,10.47,11.46,9.9,9.62,4.49,2.84,10.87,3.72,12.39,2.9,3.26,8.97,8.2,7.94,9.12,10.29,4.92,7.1,11.27,5.33,4.7,8.11,0.82,3.48,11.07,12.48,2.0,7.01,5.78,3.3,4.36,3.34,11.96,2.0,3.25,2.77,4.85,6.8,10.96,9.98,4.96,8.14,10.29,0.57,4.62,1.52,10.34,10.42,4.89,0.78,10.46,4.73,12.56,1.21,11.11,4.16,8.02,1.1,6.64,3.62,3.6,1.83,11.02,12.59,4.09,4.88,11.39,7.67,3.08,7.51,12.47,12.61,3.1,12.11,0.3,12.1,9.87,12.31,4.89,1.63,2.57,11.25,1.67,6.61,0.99,11.65,3.1,6.66,0.57,1.18,10.72,5.15,4.16,1.27,11.94,11.95,6.31,6.63,2.88,7.36,9.47,8.99,9.47,7.01,10.65,3.85,1.8,7.3,1.15,11.81,5.17,9.44,0.61,5.98,7.99,7.95,5.18,4.56,4.32,2.67,3.51,6.45,6.28,3.9,10.27,4.1,1.41,7.01,0.9,10.78,1.34,3.33,5.93,11.32,8.24,10.75,0.56,2.51,6.88,1.52,12.0,3.49,12.82,6.74,8.85,6.82,1.19,0.88,4.94,10.12,3.17,8.13,6.09,1.16,8.05,8.6,11.54,4.54,12.0,0.22,8.44,9.25,4.04,2.61,11.96,3.45,0.33,3.93,2.02,1.69,6.36,1.22,11.96,11.41,11.21,9.12,10.78,7.47,7.29,4.35,4.01,11.98,5.21,9.02,4.77,11.51,9.77,8.1,10.27,7.78,11.21,1.26,3.62,11.71,6.88,11.54,3.3,10.88,1.39,4.07,3.56,0.26,5.45],\"y\":[7.0,8.88,2.85,10.69,8.74,12.83,6.72,2.67,6.41,2.81,2.19,10.68,11.96,7.7,3.56,8.6,3.72,11.19,10.5,0.84,3.32,1.54,1.37,12.11,10.51,3.2,11.11,1.18,5.62,1.85,3.83,2.38,2.7,12.12,8.23,3.54,8.01,6.32,11.72,7.97,1.45,12.32,2.78,10.03,1.45,1.68,3.15,0.57,1.18,6.4,2.99,0.96,6.24,7.59,3.91,6.42,1.03,8.52,9.73,9.44,8.54,0.57,2.24,12.05,7.75,10.05,10.69,6.46,11.48,6.86,7.86,8.25,4.88,1.84,2.61,9.94,10.02,9.76,11.56,5.43,9.33,6.09,8.48,3.64,4.99,10.46,10.73,0.57,5.61,6.27,11.47,8.48,8.59,5.98,5.68,7.45,2.32,6.06,0.29,3.84,9.43,5.96,11.77,4.64,11.88,6.7,9.73,7.6,9.8,1.41,7.82,3.51,11.15,11.48,10.47,11.46,9.9,9.62,4.49,2.84,10.87,3.72,12.39,2.9,3.26,8.97,8.2,7.94,9.12,10.29,4.92,7.1,11.27,5.33,4.7,8.11,0.82,3.48,11.07,12.48,2.0,7.01,5.78,3.3,4.36,3.34,11.96,2.0,3.25,2.77,4.85,6.8,10.96,9.98,4.96,8.14,10.29,0.57,4.62,1.52,10.34,10.42,4.89,0.78,10.46,4.73,12.56,1.21,11.11,4.16,8.02,1.1,6.64,3.62,3.6,1.83,11.02,12.59,4.09,4.88,11.39,7.67,3.08,7.51,12.47,12.61,3.1,12.11,0.3,12.1,9.87,12.31,4.89,1.63,2.57,11.25,1.67,6.61,0.99,11.65,3.1,6.66,0.57,1.18,10.72,5.15,4.16,1.27,11.94,11.95,6.31,6.63,2.88,7.36,9.47,8.99,9.47,7.01,10.65,3.85,1.8,7.3,1.15,11.81,5.17,9.44,0.61,5.98,7.99,7.95,5.18,4.56,4.32,2.67,3.51,6.45,6.28,3.9,10.27,4.1,1.41,7.01,0.9,10.78,1.34,3.33,5.93,11.32,8.24,10.75,0.56,2.51,6.88,1.52,12.0,3.49,12.82,6.74,8.85,6.82,1.19,0.88,4.94,10.12,3.17,8.13,6.09,1.16,8.05,8.6,11.54,4.54,12.0,0.22,8.44,9.25,4.04,2.61,11.96,3.45,0.33,3.93,2.02,1.69,6.36,1.22,11.96,11.41,11.21,9.12,10.78,7.47,7.29,4.35,4.01,11.98,5.21,9.02,4.77,11.51,9.77,8.1,10.27,7.78,11.21,1.26,3.62,11.71,6.88,11.54,3.3,10.88,1.39,4.07,3.56,0.26,5.45]},\"selected\":{\"id\":\"1753\",\"type\":\"Selection\"},\"selection_policy\":{\"id\":\"1752\",\"type\":\"UnionRenderers\"}},\"id\":\"1723\",\"type\":\"ColumnDataSource\"},{\"attributes\":{\"line_alpha\":0.1,\"line_color\":\"#1f77b4\",\"line_dash\":[2,4],\"x\":{\"field\":\"x\"},\"y\":{\"field\":\"y\"}},\"id\":\"1743\",\"type\":\"Line\"},{\"attributes\":{\"callback\":null},\"id\":\"1694\",\"type\":\"DataRange1d\"},{\"attributes\":{},\"id\":\"1714\",\"type\":\"ResetTool\"},{\"attributes\":{\"items\":[{\"id\":\"1735\",\"type\":\"LegendItem\"},{\"id\":\"1756\",\"type\":\"LegendItem\"},{\"id\":\"1774\",\"type\":\"LegendItem\"}]},\"id\":\"1734\",\"type\":\"Legend\"},{\"attributes\":{},\"id\":\"1754\",\"type\":\"UnionRenderers\"},{\"attributes\":{},\"id\":\"1837\",\"type\":\"Selection\"},{\"attributes\":{},\"id\":\"1715\",\"type\":\"SaveTool\"},{\"attributes\":{\"line_color\":\"dimgray\",\"line_dash\":[2,4],\"x\":{\"field\":\"x\"},\"y\":{\"field\":\"y\"}},\"id\":\"1742\",\"type\":\"Line\"},{\"attributes\":{},\"id\":\"1755\",\"type\":\"Selection\"},{\"attributes\":{\"axis_label\":\"McQuillan Period\",\"formatter\":{\"id\":\"1729\",\"type\":\"BasicTickFormatter\"},\"ticker\":{\"id\":\"1703\",\"type\":\"BasicTicker\"}},\"id\":\"1702\",\"type\":\"LinearAxis\"},{\"attributes\":{},\"id\":\"1698\",\"type\":\"LinearScale\"},{\"attributes\":{\"callback\":null,\"tooltips\":[[\"index\",\"$index\"],[\"(x,y)\",\"($x, $y)\"],[\"TIC ID\",\"@tess\"]]},\"id\":\"1716\",\"type\":\"HoverTool\"},{\"attributes\":{},\"id\":\"1700\",\"type\":\"LinearScale\"},{\"attributes\":{\"line_alpha\":0.1,\"line_color\":\"#1f77b4\",\"line_dash\":[4,4],\"line_width\":2,\"x\":{\"field\":\"x\"},\"y\":{\"field\":\"y\"}},\"id\":\"1725\",\"type\":\"Line\"},{\"attributes\":{\"fill_color\":{\"value\":\"darkcyan\"},\"line_color\":{\"value\":null},\"x\":{\"field\":\"x\"},\"y\":{\"field\":\"y\"}},\"id\":\"1737\",\"type\":\"Circle\"},{\"attributes\":{\"callback\":null,\"end\":15},\"id\":\"1696\",\"type\":\"Range1d\"},{\"attributes\":{\"data_source\":{\"id\":\"1757\",\"type\":\"ColumnDataSource\"},\"glyph\":{\"id\":\"1758\",\"type\":\"Line\"},\"hover_glyph\":null,\"muted_glyph\":null,\"nonselection_glyph\":{\"id\":\"1759\",\"type\":\"Line\"},\"selection_glyph\":null,\"view\":{\"id\":\"1761\",\"type\":\"CDSView\"}},\"id\":\"1760\",\"type\":\"GlyphRenderer\"},{\"attributes\":{\"line_alpha\":0.1,\"line_color\":\"#1f77b4\",\"line_dash\":[2,4],\"x\":{\"field\":\"x\"},\"y\":{\"field\":\"y\"}},\"id\":\"1759\",\"type\":\"Line\"},{\"attributes\":{\"data_source\":{\"id\":\"1690\",\"type\":\"ColumnDataSource\"},\"glyph\":{\"id\":\"1737\",\"type\":\"Circle\"},\"hover_glyph\":null,\"muted_glyph\":null,\"nonselection_glyph\":{\"id\":\"1738\",\"type\":\"Circle\"},\"selection_glyph\":null,\"view\":{\"id\":\"1740\",\"type\":\"CDSView\"}},\"id\":\"1739\",\"type\":\"GlyphRenderer\"},{\"attributes\":{\"data_source\":{\"id\":\"1723\",\"type\":\"ColumnDataSource\"},\"glyph\":{\"id\":\"1724\",\"type\":\"Line\"},\"hover_glyph\":null,\"muted_glyph\":null,\"name\":\"y=x\",\"nonselection_glyph\":{\"id\":\"1725\",\"type\":\"Line\"},\"selection_glyph\":null,\"view\":{\"id\":\"1727\",\"type\":\"CDSView\"}},\"id\":\"1726\",\"type\":\"GlyphRenderer\"}],\"root_ids\":[\"1691\"]},\"title\":\"Bokeh Application\",\"version\":\"1.3.4\"}};\n",
       "  var render_items = [{\"docid\":\"4efbdc68-dd9a-4892-b94f-0ec0709feb51\",\"roots\":{\"1691\":\"88de70e5-fd39-44ee-aeeb-1a169174f125\"}}];\n",
       "  root.Bokeh.embed.embed_items_notebook(docs_json, render_items);\n",
       "\n",
       "  }\n",
       "  if (root.Bokeh !== undefined) {\n",
       "    embed_document(root);\n",
       "  } else {\n",
       "    var attempts = 0;\n",
       "    var timer = setInterval(function(root) {\n",
       "      if (root.Bokeh !== undefined) {\n",
       "        embed_document(root);\n",
       "        clearInterval(timer);\n",
       "      }\n",
       "      attempts++;\n",
       "      if (attempts > 100) {\n",
       "        console.log(\"Bokeh: ERROR: Unable to run BokehJS code because BokehJS library is missing\");\n",
       "        clearInterval(timer);\n",
       "      }\n",
       "    }, 10, root)\n",
       "  }\n",
       "})(window);"
      ],
      "application/vnd.bokehjs_exec.v0+json": ""
     },
     "metadata": {
      "application/vnd.bokehjs_exec.v0+json": {
       "id": "1691"
      }
     },
     "output_type": "display_data"
    }
   ],
   "source": [
    "x =  short_periods\n",
    "y = ls_period_interp\n",
    "\n",
    "source = ColumnDataSource(data=dict(\n",
    "    x =  short_periods,\n",
    "    y = ls_period_interp, \n",
    "    tess = (cat['tic_id'])[0:61]))\n",
    "\n",
    "x2 = [i*2 for i in x]\n",
    "x_half = [float(i)*0.5 for i in x]\n",
    "\n",
    "ls_plot = figure(\n",
    "   tools=\"pan,box_zoom,reset,save,hover\",\n",
    "   y_range=[0, 15], title=\"Lomb-Scargle with Interpolation vs McQuillan TESS Periods\",\n",
    "   x_axis_label='McQuillan Period', y_axis_label='Lomb-Scargle Period', plot_width=900)\n",
    "\n",
    "ls_plot.line(x, x, name = \"y=x\", color = 'palegreen', line_dash=\"4 4\", legend = \"y=x\", line_width = 2)\n",
    "ls_plot.circle('x', 'y', source = source, color=\"darkcyan\", line_color=None)\n",
    "ls_plot.line(x, x2, legend=\"y=2x\", line_width=1, color = 'dimgray', line_dash=\"dotted\")\n",
    "ls_plot.line(x, x_half, legend=\"y=0.5*x\", line_width=1, color = 'sienna', line_dash=\"dotted\")\n",
    "\n",
    "ls_plot.hover.tooltips = [\n",
    "    (\"index\", \"$index\"), \n",
    "    (\"(x,y)\", \"($x, $y)\"), \n",
    "    (\"TIC ID\", \"@tess\")] \n",
    "\n",
    "show(ls_plot)"
   ]
  },
  {
   "cell_type": "code",
   "execution_count": 21,
   "metadata": {},
   "outputs": [],
   "source": [
    "#finding differences between L-S and McQ tess periods\n",
    "differences_mcq_ls = []\n",
    "\n",
    "for indx, period in enumerate(ls_period_interp):\n",
    "    diff = np.abs(period - short_periods[indx])\n",
    "    differences_mcq_ls.append(diff)"
   ]
  },
  {
   "cell_type": "code",
   "execution_count": 22,
   "metadata": {},
   "outputs": [
    {
     "data": {
      "text/html": [
       "\n",
       "\n",
       "\n",
       "\n",
       "\n",
       "\n",
       "  <div class=\"bk-root\" id=\"458c8c80-296c-4ffe-9554-17a37e14db4c\" data-root-id=\"1923\"></div>\n"
      ]
     },
     "metadata": {},
     "output_type": "display_data"
    },
    {
     "data": {
      "application/javascript": [
       "(function(root) {\n",
       "  function embed_document(root) {\n",
       "    \n",
       "  var docs_json = {\"0088b78f-5175-41d0-8190-0fc6bcf2907e\":{\"roots\":{\"references\":[{\"attributes\":{\"below\":[{\"id\":\"1934\",\"type\":\"LinearAxis\"}],\"center\":[{\"id\":\"1938\",\"type\":\"Grid\"},{\"id\":\"1943\",\"type\":\"Grid\"},{\"id\":\"1966\",\"type\":\"Legend\"}],\"left\":[{\"id\":\"1939\",\"type\":\"LinearAxis\"}],\"plot_width\":900,\"renderers\":[{\"id\":\"1958\",\"type\":\"GlyphRenderer\"},{\"id\":\"1971\",\"type\":\"GlyphRenderer\"}],\"title\":{\"id\":\"1924\",\"type\":\"Title\"},\"toolbar\":{\"id\":\"1949\",\"type\":\"Toolbar\"},\"x_range\":{\"id\":\"1926\",\"type\":\"DataRange1d\"},\"x_scale\":{\"id\":\"1930\",\"type\":\"LinearScale\"},\"y_range\":{\"id\":\"1928\",\"type\":\"Range1d\"},\"y_scale\":{\"id\":\"1932\",\"type\":\"LinearScale\"}},\"id\":\"1923\",\"subtype\":\"Figure\",\"type\":\"Plot\"},{\"attributes\":{\"overlay\":{\"id\":\"1965\",\"type\":\"BoxAnnotation\"}},\"id\":\"1945\",\"type\":\"BoxZoomTool\"},{\"attributes\":{\"text\":\"Differences Between McQ and L-S with Interpolation TESS Periods\"},\"id\":\"1924\",\"type\":\"Title\"},{\"attributes\":{},\"id\":\"1946\",\"type\":\"ResetTool\"},{\"attributes\":{\"callback\":null},\"id\":\"1926\",\"type\":\"DataRange1d\"},{\"attributes\":{},\"id\":\"1947\",\"type\":\"SaveTool\"},{\"attributes\":{\"line_color\":\"tomato\",\"line_dash\":[4,4],\"line_width\":2,\"x\":{\"field\":\"x\"},\"y\":{\"field\":\"y\"}},\"id\":\"1956\",\"type\":\"Line\"},{\"attributes\":{\"callback\":null,\"tooltips\":[[\"index\",\"$index\"],[\"(x,y)\",\"($x, $y)\"],[\"TIC ID\",\"@tess\"]]},\"id\":\"1948\",\"type\":\"HoverTool\"},{\"attributes\":{},\"id\":\"1930\",\"type\":\"LinearScale\"},{\"attributes\":{\"callback\":null,\"data\":{\"tess\":[275493837,121789795,63007124,275490626,171098535,63210277,351803000,170253623,158791870,164724054,122684770,121457565,273582401,267991320,137218354,184089663,272370950,159172008,121659832,138728898,169460055,169466444,122213500,63209318,120963553,267746802,271165094,27395090,298964604,270608620,185058148,271426791,273687618,272719990,239227465,27186774,271538184,121215119,121939294,352013209,185058255,170344764,378084176,120422997,63075888,270856793,26597576,158412743,121329643,351055098,120890400,137408312,267671733,279916031,271547585,158936101,121939266,239225673,27389081,121785547,138725623],\"x\":[7.0,8.88,2.85,10.69,8.74,12.83,6.72,2.67,6.41,2.81,2.19,10.68,11.96,7.7,3.56,8.6,3.72,11.19,10.5,0.84,3.32,1.54,1.37,12.11,10.51,3.2,11.11,1.18,5.62,1.85,3.83,2.38,2.7,12.12,8.23,3.54,8.01,6.32,11.72,7.97,1.45,12.32,2.78,10.03,1.45,1.68,3.15,0.57,1.18,6.4,2.99,0.96,6.24,7.59,3.91,6.42,1.03,8.52,9.73,9.44,8.54,0.57,2.24,12.05,7.75,10.05,10.69,6.46,11.48,6.86,7.86,8.25,4.88,1.84,2.61,9.94,10.02,9.76,11.56,5.43,9.33,6.09,8.48,3.64,4.99,10.46,10.73,0.57,5.61,6.27,11.47,8.48,8.59,5.98,5.68,7.45,2.32,6.06,0.29,3.84,9.43,5.96,11.77,4.64,11.88,6.7,9.73,7.6,9.8,1.41,7.82,3.51,11.15,11.48,10.47,11.46,9.9,9.62,4.49,2.84,10.87,3.72,12.39,2.9,3.26,8.97,8.2,7.94,9.12,10.29,4.92,7.1,11.27,5.33,4.7,8.11,0.82,3.48,11.07,12.48,2.0,7.01,5.78,3.3,4.36,3.34,11.96,2.0,3.25,2.77,4.85,6.8,10.96,9.98,4.96,8.14,10.29,0.57,4.62,1.52,10.34,10.42,4.89,0.78,10.46,4.73,12.56,1.21,11.11,4.16,8.02,1.1,6.64,3.62,3.6,1.83,11.02,12.59,4.09,4.88,11.39,7.67,3.08,7.51,12.47,12.61,3.1,12.11,0.3,12.1,9.87,12.31,4.89,1.63,2.57,11.25,1.67,6.61,0.99,11.65,3.1,6.66,0.57,1.18,10.72,5.15,4.16,1.27,11.94,11.95,6.31,6.63,2.88,7.36,9.47,8.99,9.47,7.01,10.65,3.85,1.8,7.3,1.15,11.81,5.17,9.44,0.61,5.98,7.99,7.95,5.18,4.56,4.32,2.67,3.51,6.45,6.28,3.9,10.27,4.1,1.41,7.01,0.9,10.78,1.34,3.33,5.93,11.32,8.24,10.75,0.56,2.51,6.88,1.52,12.0,3.49,12.82,6.74,8.85,6.82,1.19,0.88,4.94,10.12,3.17,8.13,6.09,1.16,8.05,8.6,11.54,4.54,12.0,0.22,8.44,9.25,4.04,2.61,11.96,3.45,0.33,3.93,2.02,1.69,6.36,1.22,11.96,11.41,11.21,9.12,10.78,7.47,7.29,4.35,4.01,11.98,5.21,9.02,4.77,11.51,9.77,8.1,10.27,7.78,11.21,1.26,3.62,11.71,6.88,11.54,3.3,10.88,1.39,4.07,3.56,0.26,5.45],\"y\":[0.827624589632677,6.670227759082918,0.5187438366798851,7.851404709957948,4.442810497840634,3.3332564659224957,3.921358138503932,4.374762870910475,2.1154289932823644,4.884065507928813,5.264445428441082,2.9812430537270815,4.731734887715008,0.23453558374543082,9.097492424415027,5.7849791235964165,1.8537530191512448,4.469882737625436,7.851358051766636,0.002974089938663771,1.33261377150227,7.692853035515447,0.0022802059150097698,4.653353376999892,4.405295191559052,3.7689405153164905,6.0219400661250875,0.02031136559572988,1.890984925302508,6.094600160164742,3.4798684210526325,1.5976398932537195,4.549014849030508,3.821644584522085,5.5371553905363875,3.8049502227745693,5.210770567097404,0.8958721911936625,3.54786366778953,2.360048345109706,0.011439105169424924,5.091734887715007,1.3940770159560134,2.7642993905469373,5.95091920335709,0.8482399565218041,0.21313775819066771,0.0032151915264370112,1.6682002327572507,2.914064843225471,0.257379231983788,7.324742830726099,7.5361301361370785,0.36276925678752203,3.3317389037346015,0.41408987464787117,11.65929444279482,4.948020317623609,5.271260694393169,4.99812298614387,0.02867432713812157,0.0032342730289701693,4.913526222943305,3.8526618662574528,6.7516909527737194,4.725658927099126,3.331137044003496,0.863648443782381,4.52257983719474,5.338897696581102]},\"selected\":{\"id\":\"2045\",\"type\":\"Selection\"},\"selection_policy\":{\"id\":\"2044\",\"type\":\"UnionRenderers\"}},\"id\":\"1922\",\"type\":\"ColumnDataSource\"},{\"attributes\":{\"line_alpha\":0.1,\"line_color\":\"#1f77b4\",\"line_dash\":[4,4],\"line_width\":2,\"x\":{\"field\":\"x\"},\"y\":{\"field\":\"y\"}},\"id\":\"1957\",\"type\":\"Line\"},{\"attributes\":{},\"id\":\"2042\",\"type\":\"UnionRenderers\"},{\"attributes\":{\"label\":{\"value\":\"y=0\"},\"renderers\":[{\"id\":\"1958\",\"type\":\"GlyphRenderer\"}]},\"id\":\"1967\",\"type\":\"LegendItem\"},{\"attributes\":{\"callback\":null,\"end\":12,\"start\":-1},\"id\":\"1928\",\"type\":\"Range1d\"},{\"attributes\":{\"fill_alpha\":{\"value\":0.1},\"fill_color\":{\"value\":\"#1f77b4\"},\"line_alpha\":{\"value\":0.1},\"line_color\":{\"value\":\"#1f77b4\"},\"x\":{\"field\":\"x\"},\"y\":{\"field\":\"y\"}},\"id\":\"1970\",\"type\":\"Circle\"},{\"attributes\":{},\"id\":\"1932\",\"type\":\"LinearScale\"},{\"attributes\":{\"data_source\":{\"id\":\"1922\",\"type\":\"ColumnDataSource\"},\"glyph\":{\"id\":\"1969\",\"type\":\"Circle\"},\"hover_glyph\":null,\"muted_glyph\":null,\"nonselection_glyph\":{\"id\":\"1970\",\"type\":\"Circle\"},\"selection_glyph\":null,\"view\":{\"id\":\"1972\",\"type\":\"CDSView\"}},\"id\":\"1971\",\"type\":\"GlyphRenderer\"},{\"attributes\":{\"axis_label\":\"McQuillan Period\",\"formatter\":{\"id\":\"1961\",\"type\":\"BasicTickFormatter\"},\"ticker\":{\"id\":\"1935\",\"type\":\"BasicTicker\"}},\"id\":\"1934\",\"type\":\"LinearAxis\"},{\"attributes\":{\"data_source\":{\"id\":\"1955\",\"type\":\"ColumnDataSource\"},\"glyph\":{\"id\":\"1956\",\"type\":\"Line\"},\"hover_glyph\":null,\"muted_glyph\":null,\"name\":\"y=0\",\"nonselection_glyph\":{\"id\":\"1957\",\"type\":\"Line\"},\"selection_glyph\":null,\"view\":{\"id\":\"1959\",\"type\":\"CDSView\"}},\"id\":\"1958\",\"type\":\"GlyphRenderer\"},{\"attributes\":{\"fill_color\":{\"value\":\"black\"},\"line_color\":{\"value\":null},\"x\":{\"field\":\"x\"},\"y\":{\"field\":\"y\"}},\"id\":\"1969\",\"type\":\"Circle\"},{\"attributes\":{\"dimension\":1,\"ticker\":{\"id\":\"1940\",\"type\":\"BasicTicker\"}},\"id\":\"1943\",\"type\":\"Grid\"},{\"attributes\":{},\"id\":\"1935\",\"type\":\"BasicTicker\"},{\"attributes\":{\"callback\":null,\"data\":{\"x\":[7.0,8.88,2.85,10.69,8.74,12.83,6.72,2.67,6.41,2.81,2.19,10.68,11.96,7.7,3.56,8.6,3.72,11.19,10.5,0.84,3.32,1.54,1.37,12.11,10.51,3.2,11.11,1.18,5.62,1.85,3.83,2.38,2.7,12.12,8.23,3.54,8.01,6.32,11.72,7.97,1.45,12.32,2.78,10.03,1.45,1.68,3.15,0.57,1.18,6.4,2.99,0.96,6.24,7.59,3.91,6.42,1.03,8.52,9.73,9.44,8.54,0.57,2.24,12.05,7.75,10.05,10.69,6.46,11.48,6.86,7.86,8.25,4.88,1.84,2.61,9.94,10.02,9.76,11.56,5.43,9.33,6.09,8.48,3.64,4.99,10.46,10.73,0.57,5.61,6.27,11.47,8.48,8.59,5.98,5.68,7.45,2.32,6.06,0.29,3.84,9.43,5.96,11.77,4.64,11.88,6.7,9.73,7.6,9.8,1.41,7.82,3.51,11.15,11.48,10.47,11.46,9.9,9.62,4.49,2.84,10.87,3.72,12.39,2.9,3.26,8.97,8.2,7.94,9.12,10.29,4.92,7.1,11.27,5.33,4.7,8.11,0.82,3.48,11.07,12.48,2.0,7.01,5.78,3.3,4.36,3.34,11.96,2.0,3.25,2.77,4.85,6.8,10.96,9.98,4.96,8.14,10.29,0.57,4.62,1.52,10.34,10.42,4.89,0.78,10.46,4.73,12.56,1.21,11.11,4.16,8.02,1.1,6.64,3.62,3.6,1.83,11.02,12.59,4.09,4.88,11.39,7.67,3.08,7.51,12.47,12.61,3.1,12.11,0.3,12.1,9.87,12.31,4.89,1.63,2.57,11.25,1.67,6.61,0.99,11.65,3.1,6.66,0.57,1.18,10.72,5.15,4.16,1.27,11.94,11.95,6.31,6.63,2.88,7.36,9.47,8.99,9.47,7.01,10.65,3.85,1.8,7.3,1.15,11.81,5.17,9.44,0.61,5.98,7.99,7.95,5.18,4.56,4.32,2.67,3.51,6.45,6.28,3.9,10.27,4.1,1.41,7.01,0.9,10.78,1.34,3.33,5.93,11.32,8.24,10.75,0.56,2.51,6.88,1.52,12.0,3.49,12.82,6.74,8.85,6.82,1.19,0.88,4.94,10.12,3.17,8.13,6.09,1.16,8.05,8.6,11.54,4.54,12.0,0.22,8.44,9.25,4.04,2.61,11.96,3.45,0.33,3.93,2.02,1.69,6.36,1.22,11.96,11.41,11.21,9.12,10.78,7.47,7.29,4.35,4.01,11.98,5.21,9.02,4.77,11.51,9.77,8.1,10.27,7.78,11.21,1.26,3.62,11.71,6.88,11.54,3.3,10.88,1.39,4.07,3.56,0.26,5.45],\"y\":[0.0,0.0,0.0,0.0,0.0,0.0,0.0,0.0,0.0,0.0,0.0,0.0,0.0,0.0,0.0,0.0,0.0,0.0,0.0,0.0,0.0,0.0,0.0,0.0,0.0,0.0,0.0,0.0,0.0,0.0,0.0,0.0,0.0,0.0,0.0,0.0,0.0,0.0,0.0,0.0,0.0,0.0,0.0,0.0,0.0,0.0,0.0,0.0,0.0,0.0,0.0,0.0,0.0,0.0,0.0,0.0,0.0,0.0,0.0,0.0,0.0,0.0,0.0,0.0,0.0,0.0,0.0,0.0,0.0,0.0,0.0,0.0,0.0,0.0,0.0,0.0,0.0,0.0,0.0,0.0,0.0,0.0,0.0,0.0,0.0,0.0,0.0,0.0,0.0,0.0,0.0,0.0,0.0,0.0,0.0,0.0,0.0,0.0,0.0,0.0,0.0,0.0,0.0,0.0,0.0,0.0,0.0,0.0,0.0,0.0,0.0,0.0,0.0,0.0,0.0,0.0,0.0,0.0,0.0,0.0,0.0,0.0,0.0,0.0,0.0,0.0,0.0,0.0,0.0,0.0,0.0,0.0,0.0,0.0,0.0,0.0,0.0,0.0,0.0,0.0,0.0,0.0,0.0,0.0,0.0,0.0,0.0,0.0,0.0,0.0,0.0,0.0,0.0,0.0,0.0,0.0,0.0,0.0,0.0,0.0,0.0,0.0,0.0,0.0,0.0,0.0,0.0,0.0,0.0,0.0,0.0,0.0,0.0,0.0,0.0,0.0,0.0,0.0,0.0,0.0,0.0,0.0,0.0,0.0,0.0,0.0,0.0,0.0,0.0,0.0,0.0,0.0,0.0,0.0,0.0,0.0,0.0,0.0,0.0,0.0,0.0,0.0,0.0,0.0,0.0,0.0,0.0,0.0,0.0,0.0,0.0,0.0,0.0,0.0,0.0,0.0,0.0,0.0,0.0,0.0,0.0,0.0,0.0,0.0,0.0,0.0,0.0,0.0,0.0,0.0,0.0,0.0,0.0,0.0,0.0,0.0,0.0,0.0,0.0,0.0,0.0,0.0,0.0,0.0,0.0,0.0,0.0,0.0,0.0,0.0,0.0,0.0,0.0,0.0,0.0,0.0,0.0,0.0,0.0,0.0,0.0,0.0,0.0,0.0,0.0,0.0,0.0,0.0,0.0,0.0,0.0,0.0,0.0,0.0,0.0,0.0,0.0,0.0,0.0,0.0,0.0,0.0,0.0,0.0,0.0,0.0,0.0,0.0,0.0,0.0,0.0,0.0,0.0,0.0,0.0,0.0,0.0,0.0,0.0,0.0,0.0,0.0,0.0,0.0,0.0,0.0,0.0,0.0,0.0,0.0,0.0,0.0,0.0,0.0,0.0,0.0,0.0]},\"selected\":{\"id\":\"2043\",\"type\":\"Selection\"},\"selection_policy\":{\"id\":\"2042\",\"type\":\"UnionRenderers\"}},\"id\":\"1955\",\"type\":\"ColumnDataSource\"},{\"attributes\":{\"ticker\":{\"id\":\"1935\",\"type\":\"BasicTicker\"}},\"id\":\"1938\",\"type\":\"Grid\"},{\"attributes\":{},\"id\":\"1961\",\"type\":\"BasicTickFormatter\"},{\"attributes\":{},\"id\":\"1940\",\"type\":\"BasicTicker\"},{\"attributes\":{},\"id\":\"1963\",\"type\":\"BasicTickFormatter\"},{\"attributes\":{},\"id\":\"2045\",\"type\":\"Selection\"},{\"attributes\":{\"axis_label\":\"Difference Between Period Calculations\",\"formatter\":{\"id\":\"1963\",\"type\":\"BasicTickFormatter\"},\"ticker\":{\"id\":\"1940\",\"type\":\"BasicTicker\"}},\"id\":\"1939\",\"type\":\"LinearAxis\"},{\"attributes\":{\"bottom_units\":\"screen\",\"fill_alpha\":{\"value\":0.5},\"fill_color\":{\"value\":\"lightgrey\"},\"left_units\":\"screen\",\"level\":\"overlay\",\"line_alpha\":{\"value\":1.0},\"line_color\":{\"value\":\"black\"},\"line_dash\":[4,4],\"line_width\":{\"value\":2},\"render_mode\":\"css\",\"right_units\":\"screen\",\"top_units\":\"screen\"},\"id\":\"1965\",\"type\":\"BoxAnnotation\"},{\"attributes\":{},\"id\":\"2044\",\"type\":\"UnionRenderers\"},{\"attributes\":{},\"id\":\"2043\",\"type\":\"Selection\"},{\"attributes\":{\"items\":[{\"id\":\"1967\",\"type\":\"LegendItem\"}]},\"id\":\"1966\",\"type\":\"Legend\"},{\"attributes\":{\"source\":{\"id\":\"1955\",\"type\":\"ColumnDataSource\"}},\"id\":\"1959\",\"type\":\"CDSView\"},{\"attributes\":{\"source\":{\"id\":\"1922\",\"type\":\"ColumnDataSource\"}},\"id\":\"1972\",\"type\":\"CDSView\"},{\"attributes\":{\"active_drag\":\"auto\",\"active_inspect\":\"auto\",\"active_multi\":null,\"active_scroll\":\"auto\",\"active_tap\":\"auto\",\"tools\":[{\"id\":\"1944\",\"type\":\"PanTool\"},{\"id\":\"1945\",\"type\":\"BoxZoomTool\"},{\"id\":\"1946\",\"type\":\"ResetTool\"},{\"id\":\"1947\",\"type\":\"SaveTool\"},{\"id\":\"1948\",\"type\":\"HoverTool\"}]},\"id\":\"1949\",\"type\":\"Toolbar\"},{\"attributes\":{},\"id\":\"1944\",\"type\":\"PanTool\"}],\"root_ids\":[\"1923\"]},\"title\":\"Bokeh Application\",\"version\":\"1.3.4\"}};\n",
       "  var render_items = [{\"docid\":\"0088b78f-5175-41d0-8190-0fc6bcf2907e\",\"roots\":{\"1923\":\"458c8c80-296c-4ffe-9554-17a37e14db4c\"}}];\n",
       "  root.Bokeh.embed.embed_items_notebook(docs_json, render_items);\n",
       "\n",
       "  }\n",
       "  if (root.Bokeh !== undefined) {\n",
       "    embed_document(root);\n",
       "  } else {\n",
       "    var attempts = 0;\n",
       "    var timer = setInterval(function(root) {\n",
       "      if (root.Bokeh !== undefined) {\n",
       "        embed_document(root);\n",
       "        clearInterval(timer);\n",
       "      }\n",
       "      attempts++;\n",
       "      if (attempts > 100) {\n",
       "        console.log(\"Bokeh: ERROR: Unable to run BokehJS code because BokehJS library is missing\");\n",
       "        clearInterval(timer);\n",
       "      }\n",
       "    }, 10, root)\n",
       "  }\n",
       "})(window);"
      ],
      "application/vnd.bokehjs_exec.v0+json": ""
     },
     "metadata": {
      "application/vnd.bokehjs_exec.v0+json": {
       "id": "1923"
      }
     },
     "output_type": "display_data"
    }
   ],
   "source": [
    "x =  short_periods\n",
    "y = differences_mcq_ls\n",
    "\n",
    "source = ColumnDataSource(data=dict(\n",
    "    x = short_periods,\n",
    "    y = differences_mcq_ls, \n",
    "    tess = (cat['tic_id'])[0:61]))\n",
    "\n",
    "x2 = [i*2 for i in x]\n",
    "x_half = [float(i)*0.5 for i in x]\n",
    "x_0 = [i*0 for i in x]\n",
    "\n",
    "ls_diff = figure(\n",
    "   tools=\"pan,box_zoom,reset,save,hover\",\n",
    "   y_range=[-1, 12], title=\"Differences Between McQ and L-S with Interpolation TESS Periods\",\n",
    "   x_axis_label='McQuillan Period', y_axis_label='Difference Between Period Calculations', plot_width=900)\n",
    "\n",
    "ls_diff.line(x, x_0, name = \"y=0\", color = 'tomato', line_dash=\"4 4\", legend = \"y=0\", line_width = 2)\n",
    "ls_diff.circle('x', 'y', source = source, color=\"black\", line_color=None)\n",
    "\n",
    "\n",
    "ls_diff.hover.tooltips = [\n",
    "    (\"index\", \"$index\"), \n",
    "    (\"(x,y)\", \"($x, $y)\"), \n",
    "    (\"TIC ID\", \"@tess\")] \n",
    "\n",
    "show(ls_diff)"
   ]
  },
  {
   "cell_type": "code",
   "execution_count": 23,
   "metadata": {},
   "outputs": [],
   "source": [
    "#finding differences between Lomb-Scargle and PDM calculated tess period\n",
    "differences_ls_pdm = []\n",
    "\n",
    "for indx, period in enumerate(short_tess_period):\n",
    "    tess_diff = np.abs(period - ls_period_interp[indx])\n",
    "    differences_ls_pdm.append(tess_diff)"
   ]
  },
  {
   "cell_type": "code",
   "execution_count": 24,
   "metadata": {},
   "outputs": [
    {
     "data": {
      "text/html": [
       "\n",
       "\n",
       "\n",
       "\n",
       "\n",
       "\n",
       "  <div class=\"bk-root\" id=\"6c5dec15-bdf7-4810-a713-4475b9238e0d\" data-root-id=\"2107\"></div>\n"
      ]
     },
     "metadata": {},
     "output_type": "display_data"
    },
    {
     "data": {
      "application/javascript": [
       "(function(root) {\n",
       "  function embed_document(root) {\n",
       "    \n",
       "  var docs_json = {\"f38d4ca3-1bb1-4226-983a-f7dc7df3a95b\":{\"roots\":{\"references\":[{\"attributes\":{\"below\":[{\"id\":\"2118\",\"type\":\"LinearAxis\"}],\"center\":[{\"id\":\"2122\",\"type\":\"Grid\"},{\"id\":\"2127\",\"type\":\"Grid\"},{\"id\":\"2150\",\"type\":\"Legend\"}],\"left\":[{\"id\":\"2123\",\"type\":\"LinearAxis\"}],\"plot_width\":900,\"renderers\":[{\"id\":\"2142\",\"type\":\"GlyphRenderer\"},{\"id\":\"2155\",\"type\":\"GlyphRenderer\"}],\"title\":{\"id\":\"2108\",\"type\":\"Title\"},\"toolbar\":{\"id\":\"2133\",\"type\":\"Toolbar\"},\"x_range\":{\"id\":\"2110\",\"type\":\"DataRange1d\"},\"x_scale\":{\"id\":\"2114\",\"type\":\"LinearScale\"},\"y_range\":{\"id\":\"2112\",\"type\":\"Range1d\"},\"y_scale\":{\"id\":\"2116\",\"type\":\"LinearScale\"}},\"id\":\"2107\",\"subtype\":\"Figure\",\"type\":\"Plot\"},{\"attributes\":{\"data_source\":{\"id\":\"2139\",\"type\":\"ColumnDataSource\"},\"glyph\":{\"id\":\"2140\",\"type\":\"Line\"},\"hover_glyph\":null,\"muted_glyph\":null,\"name\":\"y=0\",\"nonselection_glyph\":{\"id\":\"2141\",\"type\":\"Line\"},\"selection_glyph\":null,\"view\":{\"id\":\"2143\",\"type\":\"CDSView\"}},\"id\":\"2142\",\"type\":\"GlyphRenderer\"},{\"attributes\":{\"label\":{\"value\":\"y=0\"},\"renderers\":[{\"id\":\"2142\",\"type\":\"GlyphRenderer\"}]},\"id\":\"2151\",\"type\":\"LegendItem\"},{\"attributes\":{\"dimension\":1,\"ticker\":{\"id\":\"2124\",\"type\":\"BasicTicker\"}},\"id\":\"2127\",\"type\":\"Grid\"},{\"attributes\":{\"ticker\":{\"id\":\"2119\",\"type\":\"BasicTicker\"}},\"id\":\"2122\",\"type\":\"Grid\"},{\"attributes\":{\"source\":{\"id\":\"2106\",\"type\":\"ColumnDataSource\"}},\"id\":\"2156\",\"type\":\"CDSView\"},{\"attributes\":{},\"id\":\"2147\",\"type\":\"BasicTickFormatter\"},{\"attributes\":{},\"id\":\"2124\",\"type\":\"BasicTicker\"},{\"attributes\":{\"line_color\":\"lightpink\",\"line_dash\":[4,4],\"line_width\":2,\"x\":{\"field\":\"x\"},\"y\":{\"field\":\"y\"}},\"id\":\"2140\",\"type\":\"Line\"},{\"attributes\":{\"bottom_units\":\"screen\",\"fill_alpha\":{\"value\":0.5},\"fill_color\":{\"value\":\"lightgrey\"},\"left_units\":\"screen\",\"level\":\"overlay\",\"line_alpha\":{\"value\":1.0},\"line_color\":{\"value\":\"black\"},\"line_dash\":[4,4],\"line_width\":{\"value\":2},\"render_mode\":\"css\",\"right_units\":\"screen\",\"top_units\":\"screen\"},\"id\":\"2149\",\"type\":\"BoxAnnotation\"},{\"attributes\":{\"axis_label\":\"Difference Between Period Calculations\",\"formatter\":{\"id\":\"2147\",\"type\":\"BasicTickFormatter\"},\"ticker\":{\"id\":\"2124\",\"type\":\"BasicTicker\"}},\"id\":\"2123\",\"type\":\"LinearAxis\"},{\"attributes\":{\"callback\":null,\"data\":{\"kep\":[7756984,5352889,7033500,9025444,5561963,8099075,7584332,6228783,7517679,10124839,3643810,3633847,8972956,10684727,3747118,4761031,8179896,10006576,5264764,5022454,5384707,6306891,2845689,8432040,2556702,12010753,9595170,11197664,11237492,6611940,8264427,9226959,9172572,8574353,5809758,11512772,7129992,4142809,3946300,8938427,8330380,5473615,3658536,5344075,8300087,9028495,11192119,10394802,5520881,2162377,1996773,6205481,11911283,7016864,9839696,9764489,3946262,5207114,11920493,4355362,5630581],\"tess\":[275493837,121789795,63007124,275490626,171098535,63210277,351803000,170253623,158791870,164724054,122684770,121457565,273582401,267991320,137218354,184089663,272370950,159172008,121659832,138728898,169460055,169466444,122213500,63209318,120963553,267746802,271165094,27395090,298964604,270608620,185058148,271426791,273687618,272719990,239227465,27186774,271538184,121215119,121939294,352013209,185058255,170344764,378084176,120422997,63075888,270856793,26597576,158412743,121329643,351055098,120890400,137408312,267671733,279916031,271547585,158936101,121939266,239225673,27389081,121785547,138725623],\"x\":[7.0,8.88,2.85,10.69,8.74,12.83,6.72,2.67,6.41,2.81,2.19,10.68,11.96,7.7,3.56,8.6,3.72,11.19,10.5,0.84,3.32,1.54,1.37,12.11,10.51,3.2,11.11,1.18,5.62,1.85,3.83,2.38,2.7,12.12,8.23,3.54,8.01,6.32,11.72,7.97,1.45,12.32,2.78,10.03,1.45,1.68,3.15,0.57,1.18,6.4,2.99,0.96,6.24,7.59,3.91,6.42,1.03,8.52,9.73,9.44,8.54,0.57,2.24,12.05,7.75,10.05,10.69,6.46,11.48,6.86,7.86,8.25,4.88,1.84,2.61,9.94,10.02,9.76,11.56,5.43,9.33,6.09,8.48,3.64,4.99,10.46,10.73,0.57,5.61,6.27,11.47,8.48,8.59,5.98,5.68,7.45,2.32,6.06,0.29,3.84,9.43,5.96,11.77,4.64,11.88,6.7,9.73,7.6,9.8,1.41,7.82,3.51,11.15,11.48,10.47,11.46,9.9,9.62,4.49,2.84,10.87,3.72,12.39,2.9,3.26,8.97,8.2,7.94,9.12,10.29,4.92,7.1,11.27,5.33,4.7,8.11,0.82,3.48,11.07,12.48,2.0,7.01,5.78,3.3,4.36,3.34,11.96,2.0,3.25,2.77,4.85,6.8,10.96,9.98,4.96,8.14,10.29,0.57,4.62,1.52,10.34,10.42,4.89,0.78,10.46,4.73,12.56,1.21,11.11,4.16,8.02,1.1,6.64,3.62,3.6,1.83,11.02,12.59,4.09,4.88,11.39,7.67,3.08,7.51,12.47,12.61,3.1,12.11,0.3,12.1,9.87,12.31,4.89,1.63,2.57,11.25,1.67,6.61,0.99,11.65,3.1,6.66,0.57,1.18,10.72,5.15,4.16,1.27,11.94,11.95,6.31,6.63,2.88,7.36,9.47,8.99,9.47,7.01,10.65,3.85,1.8,7.3,1.15,11.81,5.17,9.44,0.61,5.98,7.99,7.95,5.18,4.56,4.32,2.67,3.51,6.45,6.28,3.9,10.27,4.1,1.41,7.01,0.9,10.78,1.34,3.33,5.93,11.32,8.24,10.75,0.56,2.51,6.88,1.52,12.0,3.49,12.82,6.74,8.85,6.82,1.19,0.88,4.94,10.12,3.17,8.13,6.09,1.16,8.05,8.6,11.54,4.54,12.0,0.22,8.44,9.25,4.04,2.61,11.96,3.45,0.33,3.93,2.02,1.69,6.36,1.22,11.96,11.41,11.21,9.12,10.78,7.47,7.29,4.35,4.01,11.98,5.21,9.02,4.77,11.51,9.77,8.1,10.27,7.78,11.21,1.26,3.62,11.71,6.88,11.54,3.3,10.88,1.39,4.07,3.56,0.26,5.45],\"y\":[0.0969939590020461,5.629867398722558,0.48405915199520066,4.228071376624616,6.135963650993787,0.26541862808465844,0.016673453819247896,0.7056875795399762,2.435158723012094,0.3140426001792953,0.39510412110846804,0.05731550483147618,6.7814182654381465,0.007508556718404336,7.0574924244150266,0.7138079524252459,1.8409602263584524,11.100423278165977,1.7918985923071764,0.0036925767280028277,3.9599988411103437,0.45002984736743734,0.010658584293388174,0.013403379756863565,13.89367356993743,0.1302017765777519,2.1272553814404036,0.0006717259560904409,2.75332726764485,0.41216772773230925,0.05409554291133212,0.0014236770375034569,0.27350767349201544,0.5280851452076432,4.225173408554406,0.4071123849367311,10.395545341872179,2.686142461463933,0.2224582623841247,0.5381564532178125,0.01369135742167682,0.31024709426697505,0.0023653042443021466,0.36750241125486305,0.19551379795168433,0.8340057222875702,3.475600980548071,0.0010190427077970687,1.8400880555310377,0.0726234017840297,5.424135988740544,0.3278697818865144,10.960814820821764,0.18038389636563057,0.46907190707620927,0.014558774000778207,5.6226277761281525,3.5244167140200067,3.4106300637625377,3.846381518360634,0.004298645834852621]},\"selected\":{\"id\":\"2239\",\"type\":\"Selection\"},\"selection_policy\":{\"id\":\"2238\",\"type\":\"UnionRenderers\"}},\"id\":\"2106\",\"type\":\"ColumnDataSource\"},{\"attributes\":{\"source\":{\"id\":\"2139\",\"type\":\"ColumnDataSource\"}},\"id\":\"2143\",\"type\":\"CDSView\"},{\"attributes\":{\"active_drag\":\"auto\",\"active_inspect\":\"auto\",\"active_multi\":null,\"active_scroll\":\"auto\",\"active_tap\":\"auto\",\"tools\":[{\"id\":\"2128\",\"type\":\"PanTool\"},{\"id\":\"2129\",\"type\":\"BoxZoomTool\"},{\"id\":\"2130\",\"type\":\"ResetTool\"},{\"id\":\"2131\",\"type\":\"SaveTool\"},{\"id\":\"2132\",\"type\":\"HoverTool\"}]},\"id\":\"2133\",\"type\":\"Toolbar\"},{\"attributes\":{\"callback\":null},\"id\":\"2110\",\"type\":\"DataRange1d\"},{\"attributes\":{\"items\":[{\"id\":\"2151\",\"type\":\"LegendItem\"}]},\"id\":\"2150\",\"type\":\"Legend\"},{\"attributes\":{},\"id\":\"2128\",\"type\":\"PanTool\"},{\"attributes\":{\"fill_alpha\":{\"value\":0.1},\"fill_color\":{\"value\":\"#1f77b4\"},\"line_alpha\":{\"value\":0.1},\"line_color\":{\"value\":\"#1f77b4\"},\"x\":{\"field\":\"x\"},\"y\":{\"field\":\"y\"}},\"id\":\"2154\",\"type\":\"Circle\"},{\"attributes\":{\"fill_color\":{\"value\":\"darkred\"},\"line_color\":{\"value\":null},\"x\":{\"field\":\"x\"},\"y\":{\"field\":\"y\"}},\"id\":\"2153\",\"type\":\"Circle\"},{\"attributes\":{\"overlay\":{\"id\":\"2149\",\"type\":\"BoxAnnotation\"}},\"id\":\"2129\",\"type\":\"BoxZoomTool\"},{\"attributes\":{\"callback\":null,\"data\":{\"x\":[7.0,8.88,2.85,10.69,8.74,12.83,6.72,2.67,6.41,2.81,2.19,10.68,11.96,7.7,3.56,8.6,3.72,11.19,10.5,0.84,3.32,1.54,1.37,12.11,10.51,3.2,11.11,1.18,5.62,1.85,3.83,2.38,2.7,12.12,8.23,3.54,8.01,6.32,11.72,7.97,1.45,12.32,2.78,10.03,1.45,1.68,3.15,0.57,1.18,6.4,2.99,0.96,6.24,7.59,3.91,6.42,1.03,8.52,9.73,9.44,8.54,0.57,2.24,12.05,7.75,10.05,10.69,6.46,11.48,6.86,7.86,8.25,4.88,1.84,2.61,9.94,10.02,9.76,11.56,5.43,9.33,6.09,8.48,3.64,4.99,10.46,10.73,0.57,5.61,6.27,11.47,8.48,8.59,5.98,5.68,7.45,2.32,6.06,0.29,3.84,9.43,5.96,11.77,4.64,11.88,6.7,9.73,7.6,9.8,1.41,7.82,3.51,11.15,11.48,10.47,11.46,9.9,9.62,4.49,2.84,10.87,3.72,12.39,2.9,3.26,8.97,8.2,7.94,9.12,10.29,4.92,7.1,11.27,5.33,4.7,8.11,0.82,3.48,11.07,12.48,2.0,7.01,5.78,3.3,4.36,3.34,11.96,2.0,3.25,2.77,4.85,6.8,10.96,9.98,4.96,8.14,10.29,0.57,4.62,1.52,10.34,10.42,4.89,0.78,10.46,4.73,12.56,1.21,11.11,4.16,8.02,1.1,6.64,3.62,3.6,1.83,11.02,12.59,4.09,4.88,11.39,7.67,3.08,7.51,12.47,12.61,3.1,12.11,0.3,12.1,9.87,12.31,4.89,1.63,2.57,11.25,1.67,6.61,0.99,11.65,3.1,6.66,0.57,1.18,10.72,5.15,4.16,1.27,11.94,11.95,6.31,6.63,2.88,7.36,9.47,8.99,9.47,7.01,10.65,3.85,1.8,7.3,1.15,11.81,5.17,9.44,0.61,5.98,7.99,7.95,5.18,4.56,4.32,2.67,3.51,6.45,6.28,3.9,10.27,4.1,1.41,7.01,0.9,10.78,1.34,3.33,5.93,11.32,8.24,10.75,0.56,2.51,6.88,1.52,12.0,3.49,12.82,6.74,8.85,6.82,1.19,0.88,4.94,10.12,3.17,8.13,6.09,1.16,8.05,8.6,11.54,4.54,12.0,0.22,8.44,9.25,4.04,2.61,11.96,3.45,0.33,3.93,2.02,1.69,6.36,1.22,11.96,11.41,11.21,9.12,10.78,7.47,7.29,4.35,4.01,11.98,5.21,9.02,4.77,11.51,9.77,8.1,10.27,7.78,11.21,1.26,3.62,11.71,6.88,11.54,3.3,10.88,1.39,4.07,3.56,0.26,5.45],\"y\":[0.0,0.0,0.0,0.0,0.0,0.0,0.0,0.0,0.0,0.0,0.0,0.0,0.0,0.0,0.0,0.0,0.0,0.0,0.0,0.0,0.0,0.0,0.0,0.0,0.0,0.0,0.0,0.0,0.0,0.0,0.0,0.0,0.0,0.0,0.0,0.0,0.0,0.0,0.0,0.0,0.0,0.0,0.0,0.0,0.0,0.0,0.0,0.0,0.0,0.0,0.0,0.0,0.0,0.0,0.0,0.0,0.0,0.0,0.0,0.0,0.0,0.0,0.0,0.0,0.0,0.0,0.0,0.0,0.0,0.0,0.0,0.0,0.0,0.0,0.0,0.0,0.0,0.0,0.0,0.0,0.0,0.0,0.0,0.0,0.0,0.0,0.0,0.0,0.0,0.0,0.0,0.0,0.0,0.0,0.0,0.0,0.0,0.0,0.0,0.0,0.0,0.0,0.0,0.0,0.0,0.0,0.0,0.0,0.0,0.0,0.0,0.0,0.0,0.0,0.0,0.0,0.0,0.0,0.0,0.0,0.0,0.0,0.0,0.0,0.0,0.0,0.0,0.0,0.0,0.0,0.0,0.0,0.0,0.0,0.0,0.0,0.0,0.0,0.0,0.0,0.0,0.0,0.0,0.0,0.0,0.0,0.0,0.0,0.0,0.0,0.0,0.0,0.0,0.0,0.0,0.0,0.0,0.0,0.0,0.0,0.0,0.0,0.0,0.0,0.0,0.0,0.0,0.0,0.0,0.0,0.0,0.0,0.0,0.0,0.0,0.0,0.0,0.0,0.0,0.0,0.0,0.0,0.0,0.0,0.0,0.0,0.0,0.0,0.0,0.0,0.0,0.0,0.0,0.0,0.0,0.0,0.0,0.0,0.0,0.0,0.0,0.0,0.0,0.0,0.0,0.0,0.0,0.0,0.0,0.0,0.0,0.0,0.0,0.0,0.0,0.0,0.0,0.0,0.0,0.0,0.0,0.0,0.0,0.0,0.0,0.0,0.0,0.0,0.0,0.0,0.0,0.0,0.0,0.0,0.0,0.0,0.0,0.0,0.0,0.0,0.0,0.0,0.0,0.0,0.0,0.0,0.0,0.0,0.0,0.0,0.0,0.0,0.0,0.0,0.0,0.0,0.0,0.0,0.0,0.0,0.0,0.0,0.0,0.0,0.0,0.0,0.0,0.0,0.0,0.0,0.0,0.0,0.0,0.0,0.0,0.0,0.0,0.0,0.0,0.0,0.0,0.0,0.0,0.0,0.0,0.0,0.0,0.0,0.0,0.0,0.0,0.0,0.0,0.0,0.0,0.0,0.0,0.0,0.0,0.0,0.0,0.0,0.0,0.0,0.0,0.0,0.0,0.0,0.0,0.0,0.0,0.0,0.0,0.0,0.0,0.0,0.0]},\"selected\":{\"id\":\"2237\",\"type\":\"Selection\"},\"selection_policy\":{\"id\":\"2236\",\"type\":\"UnionRenderers\"}},\"id\":\"2139\",\"type\":\"ColumnDataSource\"},{\"attributes\":{},\"id\":\"2237\",\"type\":\"Selection\"},{\"attributes\":{},\"id\":\"2130\",\"type\":\"ResetTool\"},{\"attributes\":{\"text\":\"Differences Between L-S and PDM TESS Periods\"},\"id\":\"2108\",\"type\":\"Title\"},{\"attributes\":{},\"id\":\"2131\",\"type\":\"SaveTool\"},{\"attributes\":{},\"id\":\"2239\",\"type\":\"Selection\"},{\"attributes\":{},\"id\":\"2114\",\"type\":\"LinearScale\"},{\"attributes\":{\"data_source\":{\"id\":\"2106\",\"type\":\"ColumnDataSource\"},\"glyph\":{\"id\":\"2153\",\"type\":\"Circle\"},\"hover_glyph\":null,\"muted_glyph\":null,\"nonselection_glyph\":{\"id\":\"2154\",\"type\":\"Circle\"},\"selection_glyph\":null,\"view\":{\"id\":\"2156\",\"type\":\"CDSView\"}},\"id\":\"2155\",\"type\":\"GlyphRenderer\"},{\"attributes\":{\"callback\":null,\"tooltips\":[[\"index\",\"$index\"],[\"(x,y)\",\"($x, $y)\"],[\"TIC ID\",\"@tess\"],[\"KIC ID\",\"@kep\"]]},\"id\":\"2132\",\"type\":\"HoverTool\"},{\"attributes\":{},\"id\":\"2119\",\"type\":\"BasicTicker\"},{\"attributes\":{\"line_alpha\":0.1,\"line_color\":\"#1f77b4\",\"line_dash\":[4,4],\"line_width\":2,\"x\":{\"field\":\"x\"},\"y\":{\"field\":\"y\"}},\"id\":\"2141\",\"type\":\"Line\"},{\"attributes\":{\"callback\":null,\"end\":15,\"start\":-1},\"id\":\"2112\",\"type\":\"Range1d\"},{\"attributes\":{},\"id\":\"2145\",\"type\":\"BasicTickFormatter\"},{\"attributes\":{},\"id\":\"2236\",\"type\":\"UnionRenderers\"},{\"attributes\":{},\"id\":\"2238\",\"type\":\"UnionRenderers\"},{\"attributes\":{},\"id\":\"2116\",\"type\":\"LinearScale\"},{\"attributes\":{\"axis_label\":\"McQuillan Period\",\"formatter\":{\"id\":\"2145\",\"type\":\"BasicTickFormatter\"},\"ticker\":{\"id\":\"2119\",\"type\":\"BasicTicker\"}},\"id\":\"2118\",\"type\":\"LinearAxis\"}],\"root_ids\":[\"2107\"]},\"title\":\"Bokeh Application\",\"version\":\"1.3.4\"}};\n",
       "  var render_items = [{\"docid\":\"f38d4ca3-1bb1-4226-983a-f7dc7df3a95b\",\"roots\":{\"2107\":\"6c5dec15-bdf7-4810-a713-4475b9238e0d\"}}];\n",
       "  root.Bokeh.embed.embed_items_notebook(docs_json, render_items);\n",
       "\n",
       "  }\n",
       "  if (root.Bokeh !== undefined) {\n",
       "    embed_document(root);\n",
       "  } else {\n",
       "    var attempts = 0;\n",
       "    var timer = setInterval(function(root) {\n",
       "      if (root.Bokeh !== undefined) {\n",
       "        embed_document(root);\n",
       "        clearInterval(timer);\n",
       "      }\n",
       "      attempts++;\n",
       "      if (attempts > 100) {\n",
       "        console.log(\"Bokeh: ERROR: Unable to run BokehJS code because BokehJS library is missing\");\n",
       "        clearInterval(timer);\n",
       "      }\n",
       "    }, 10, root)\n",
       "  }\n",
       "})(window);"
      ],
      "application/vnd.bokehjs_exec.v0+json": ""
     },
     "metadata": {
      "application/vnd.bokehjs_exec.v0+json": {
       "id": "2107"
      }
     },
     "output_type": "display_data"
    }
   ],
   "source": [
    "x =  short_periods\n",
    "y = differences_ls_pdm\n",
    "\n",
    "source = ColumnDataSource(data=dict(\n",
    "    x = short_periods,\n",
    "    y = differences_ls_pdm, \n",
    "    kep = (cat['kic_id'])[0:61],\n",
    "    tess = (cat['tic_id'])[0:61]))\n",
    "\n",
    "x2 = [i*2 for i in x]\n",
    "x_half = [float(i)*0.5 for i in x]\n",
    "x_0 = [i*0 for i in x]\n",
    "\n",
    "diff_plot = figure(\n",
    "   tools=\"pan,box_zoom,reset,save,hover\",\n",
    "   y_range=[-1, 15], title=\"Differences Between L-S and PDM TESS Periods\",\n",
    "   x_axis_label='McQuillan Period', y_axis_label='Difference Between Period Calculations', plot_width=900)\n",
    "\n",
    "diff_plot.line(x, x_0, name = \"y=0\", color = 'lightpink', line_dash=\"4 4\", legend = \"y=0\", line_width = 2)\n",
    "diff_plot.circle('x', 'y', source = source, color=\"darkred\", line_color=None)\n",
    "\n",
    "\n",
    "diff_plot.hover.tooltips = [\n",
    "    (\"index\", \"$index\"), \n",
    "    (\"(x,y)\", \"($x, $y)\"), \n",
    "    (\"TIC ID\", \"@tess\"), \n",
    "    (\"KIC ID\", \"@kep\")] \n",
    "\n",
    "show(diff_plot)"
   ]
  },
  {
   "cell_type": "markdown",
   "metadata": {},
   "source": [
    "with open('ls_period.data', 'rb') as filehandle:\n",
    "    ls_period = pickle.load(filehandle) "
   ]
  },
  {
   "cell_type": "code",
   "execution_count": 25,
   "metadata": {},
   "outputs": [],
   "source": [
    "with open('ls_period_no_interp.data', 'rb') as filehandle:\n",
    "    ls_period_no_interp = pickle.load(filehandle) "
   ]
  },
  {
   "cell_type": "markdown",
   "metadata": {},
   "source": [
    "#finding differences between Lomb-Scargle with and without interpolation\n",
    "differences_ls = []\n",
    "\n",
    "for indx, period in enumerate(ls_period_interp):\n",
    "    ls_diff = np.abs(period - ls_period_no_interp[indx])\n",
    "    differences_ls.append(ls_diff)"
   ]
  },
  {
   "cell_type": "markdown",
   "metadata": {
    "scrolled": false
   },
   "source": [
    "x =  short_periods\n",
    "y = differences_ls\n",
    "\n",
    "source = ColumnDataSource(data=dict(\n",
    "    x = short_periods,\n",
    "    y = differences_ls, \n",
    "    kep = (cat['kic_id'])[0:61],\n",
    "    tess = (cat['tic_id'])[0:61]))\n",
    "\n",
    "x2 = [i*2 for i in x]\n",
    "x_half = [float(i)*0.5 for i in x]\n",
    "x_0 = [i*0 for i in x]\n",
    "\n",
    "ls_plot = figure(\n",
    "   tools=\"pan,box_zoom,reset,save,hover\",\n",
    "   y_range=[-1, 15], title=\"Differences Between L-S with and without Linear Interpolation\",\n",
    "   x_axis_label='McQuillan Period', y_axis_label='Difference Between LS Calculations', plot_width=900)\n",
    "\n",
    "ls_plot.line(x, x_0, name = \"y=0\", color = 'plum', line_dash=\"4 4\", legend = \"y=0\", line_width = 2)\n",
    "ls_plot.circle('x', 'y', source = source, color=\"firebrick\", line_color=None)\n",
    "\n",
    "\n",
    "ls_plot.hover.tooltips = [\n",
    "    (\"index\", \"$index\"), \n",
    "    (\"(x,y)\", \"($x, $y)\"), \n",
    "    (\"TIC ID\", \"@tess\"), \n",
    "    (\"KIC ID\", \"@kep\")] \n",
    "\n",
    "show(ls_plot)"
   ]
  },
  {
   "cell_type": "code",
   "execution_count": 27,
   "metadata": {},
   "outputs": [
    {
     "data": {
      "text/html": [
       "\n",
       "\n",
       "\n",
       "\n",
       "\n",
       "\n",
       "  <div class=\"bk-root\" id=\"462e14b2-92b4-42ab-8f1f-a5aacbe92e70\" data-root-id=\"2301\"></div>\n"
      ]
     },
     "metadata": {},
     "output_type": "display_data"
    },
    {
     "data": {
      "application/javascript": [
       "(function(root) {\n",
       "  function embed_document(root) {\n",
       "    \n",
       "  var docs_json = {\"3ad37f03-9d0b-4abb-a52f-d674c0689c11\":{\"roots\":{\"references\":[{\"attributes\":{\"below\":[{\"id\":\"2312\",\"type\":\"LinearAxis\"}],\"center\":[{\"id\":\"2316\",\"type\":\"Grid\"},{\"id\":\"2321\",\"type\":\"Grid\"},{\"id\":\"2344\",\"type\":\"Legend\"}],\"left\":[{\"id\":\"2317\",\"type\":\"LinearAxis\"}],\"plot_width\":900,\"renderers\":[{\"id\":\"2336\",\"type\":\"GlyphRenderer\"},{\"id\":\"2349\",\"type\":\"GlyphRenderer\"},{\"id\":\"2354\",\"type\":\"GlyphRenderer\"},{\"id\":\"2370\",\"type\":\"GlyphRenderer\"}],\"title\":{\"id\":\"2302\",\"type\":\"Title\"},\"toolbar\":{\"id\":\"2327\",\"type\":\"Toolbar\"},\"x_range\":{\"id\":\"2304\",\"type\":\"DataRange1d\"},\"x_scale\":{\"id\":\"2308\",\"type\":\"LinearScale\"},\"y_range\":{\"id\":\"2306\",\"type\":\"Range1d\"},\"y_scale\":{\"id\":\"2310\",\"type\":\"LinearScale\"}},\"id\":\"2301\",\"subtype\":\"Figure\",\"type\":\"Plot\"},{\"attributes\":{\"overlay\":{\"id\":\"2343\",\"type\":\"BoxAnnotation\"}},\"id\":\"2323\",\"type\":\"BoxZoomTool\"},{\"attributes\":{},\"id\":\"2362\",\"type\":\"UnionRenderers\"},{\"attributes\":{},\"id\":\"2308\",\"type\":\"LinearScale\"},{\"attributes\":{},\"id\":\"2324\",\"type\":\"ResetTool\"},{\"attributes\":{},\"id\":\"2481\",\"type\":\"Selection\"},{\"attributes\":{},\"id\":\"2363\",\"type\":\"Selection\"},{\"attributes\":{},\"id\":\"2325\",\"type\":\"SaveTool\"},{\"attributes\":{\"axis_label\":\"McQuillan Period\",\"formatter\":{\"id\":\"2339\",\"type\":\"BasicTickFormatter\"},\"ticker\":{\"id\":\"2313\",\"type\":\"BasicTicker\"}},\"id\":\"2312\",\"type\":\"LinearAxis\"},{\"attributes\":{\"callback\":null,\"data\":{\"x\":[7.0,8.88,2.85,10.69,8.74,12.83,6.72,2.67,6.41,2.81,2.19,10.68,11.96,7.7,3.56,8.6,3.72,11.19,10.5,0.84,3.32,1.54,1.37,12.11,10.51,3.2,11.11,1.18,5.62,1.85,3.83,2.38,2.7,12.12,8.23,3.54,8.01,6.32,11.72,7.97,1.45,12.32,2.78,10.03,1.45,1.68,3.15,0.57,1.18,6.4,2.99,0.96,6.24,7.59,3.91,6.42,1.03,8.52,9.73,9.44,8.54,0.57,2.24,12.05,7.75,10.05,10.69,6.46,11.48,6.86,7.86,8.25,4.88,1.84,2.61,9.94,10.02,9.76,11.56,5.43,9.33,6.09,8.48,3.64,4.99,10.46,10.73,0.57,5.61,6.27,11.47,8.48,8.59,5.98,5.68,7.45,2.32,6.06,0.29,3.84,9.43,5.96,11.77,4.64,11.88,6.7,9.73,7.6,9.8,1.41,7.82,3.51,11.15,11.48,10.47,11.46,9.9,9.62,4.49,2.84,10.87,3.72,12.39,2.9,3.26,8.97,8.2,7.94,9.12,10.29,4.92,7.1,11.27,5.33,4.7,8.11,0.82,3.48,11.07,12.48,2.0,7.01,5.78,3.3,4.36,3.34,11.96,2.0,3.25,2.77,4.85,6.8,10.96,9.98,4.96,8.14,10.29,0.57,4.62,1.52,10.34,10.42,4.89,0.78,10.46,4.73,12.56,1.21,11.11,4.16,8.02,1.1,6.64,3.62,3.6,1.83,11.02,12.59,4.09,4.88,11.39,7.67,3.08,7.51,12.47,12.61,3.1,12.11,0.3,12.1,9.87,12.31,4.89,1.63,2.57,11.25,1.67,6.61,0.99,11.65,3.1,6.66,0.57,1.18,10.72,5.15,4.16,1.27,11.94,11.95,6.31,6.63,2.88,7.36,9.47,8.99,9.47,7.01,10.65,3.85,1.8,7.3,1.15,11.81,5.17,9.44,0.61,5.98,7.99,7.95,5.18,4.56,4.32,2.67,3.51,6.45,6.28,3.9,10.27,4.1,1.41,7.01,0.9,10.78,1.34,3.33,5.93,11.32,8.24,10.75,0.56,2.51,6.88,1.52,12.0,3.49,12.82,6.74,8.85,6.82,1.19,0.88,4.94,10.12,3.17,8.13,6.09,1.16,8.05,8.6,11.54,4.54,12.0,0.22,8.44,9.25,4.04,2.61,11.96,3.45,0.33,3.93,2.02,1.69,6.36,1.22,11.96,11.41,11.21,9.12,10.78,7.47,7.29,4.35,4.01,11.98,5.21,9.02,4.77,11.51,9.77,8.1,10.27,7.78,11.21,1.26,3.62,11.71,6.88,11.54,3.3,10.88,1.39,4.07,3.56,0.26,5.45],\"y\":[7.0,8.88,2.85,10.69,8.74,12.83,6.72,2.67,6.41,2.81,2.19,10.68,11.96,7.7,3.56,8.6,3.72,11.19,10.5,0.84,3.32,1.54,1.37,12.11,10.51,3.2,11.11,1.18,5.62,1.85,3.83,2.38,2.7,12.12,8.23,3.54,8.01,6.32,11.72,7.97,1.45,12.32,2.78,10.03,1.45,1.68,3.15,0.57,1.18,6.4,2.99,0.96,6.24,7.59,3.91,6.42,1.03,8.52,9.73,9.44,8.54,0.57,2.24,12.05,7.75,10.05,10.69,6.46,11.48,6.86,7.86,8.25,4.88,1.84,2.61,9.94,10.02,9.76,11.56,5.43,9.33,6.09,8.48,3.64,4.99,10.46,10.73,0.57,5.61,6.27,11.47,8.48,8.59,5.98,5.68,7.45,2.32,6.06,0.29,3.84,9.43,5.96,11.77,4.64,11.88,6.7,9.73,7.6,9.8,1.41,7.82,3.51,11.15,11.48,10.47,11.46,9.9,9.62,4.49,2.84,10.87,3.72,12.39,2.9,3.26,8.97,8.2,7.94,9.12,10.29,4.92,7.1,11.27,5.33,4.7,8.11,0.82,3.48,11.07,12.48,2.0,7.01,5.78,3.3,4.36,3.34,11.96,2.0,3.25,2.77,4.85,6.8,10.96,9.98,4.96,8.14,10.29,0.57,4.62,1.52,10.34,10.42,4.89,0.78,10.46,4.73,12.56,1.21,11.11,4.16,8.02,1.1,6.64,3.62,3.6,1.83,11.02,12.59,4.09,4.88,11.39,7.67,3.08,7.51,12.47,12.61,3.1,12.11,0.3,12.1,9.87,12.31,4.89,1.63,2.57,11.25,1.67,6.61,0.99,11.65,3.1,6.66,0.57,1.18,10.72,5.15,4.16,1.27,11.94,11.95,6.31,6.63,2.88,7.36,9.47,8.99,9.47,7.01,10.65,3.85,1.8,7.3,1.15,11.81,5.17,9.44,0.61,5.98,7.99,7.95,5.18,4.56,4.32,2.67,3.51,6.45,6.28,3.9,10.27,4.1,1.41,7.01,0.9,10.78,1.34,3.33,5.93,11.32,8.24,10.75,0.56,2.51,6.88,1.52,12.0,3.49,12.82,6.74,8.85,6.82,1.19,0.88,4.94,10.12,3.17,8.13,6.09,1.16,8.05,8.6,11.54,4.54,12.0,0.22,8.44,9.25,4.04,2.61,11.96,3.45,0.33,3.93,2.02,1.69,6.36,1.22,11.96,11.41,11.21,9.12,10.78,7.47,7.29,4.35,4.01,11.98,5.21,9.02,4.77,11.51,9.77,8.1,10.27,7.78,11.21,1.26,3.62,11.71,6.88,11.54,3.3,10.88,1.39,4.07,3.56,0.26,5.45]},\"selected\":{\"id\":\"2363\",\"type\":\"Selection\"},\"selection_policy\":{\"id\":\"2362\",\"type\":\"UnionRenderers\"}},\"id\":\"2333\",\"type\":\"ColumnDataSource\"},{\"attributes\":{\"fill_alpha\":{\"value\":0.1},\"fill_color\":{\"value\":\"#1f77b4\"},\"line_alpha\":{\"value\":0.1},\"line_color\":{\"value\":\"#1f77b4\"},\"x\":{\"field\":\"x\"},\"y\":{\"field\":\"y\"}},\"id\":\"2348\",\"type\":\"Circle\"},{\"attributes\":{\"callback\":null,\"tooltips\":[[\"index\",\"$index\"],[\"(x,y)\",\"($x, $y)\"],[\"TIC ID\",\"@tess\"]]},\"id\":\"2326\",\"type\":\"HoverTool\"},{\"attributes\":{},\"id\":\"2364\",\"type\":\"UnionRenderers\"},{\"attributes\":{\"callback\":null},\"id\":\"2304\",\"type\":\"DataRange1d\"},{\"attributes\":{\"line_alpha\":0.1,\"line_color\":\"#1f77b4\",\"line_dash\":[4,4],\"line_width\":2,\"x\":{\"field\":\"x\"},\"y\":{\"field\":\"y\"}},\"id\":\"2335\",\"type\":\"Line\"},{\"attributes\":{\"callback\":null,\"data\":{\"x\":[7.0,8.88,2.85,10.69,8.74,12.83,6.72,2.67,6.41,2.81,2.19,10.68,11.96,7.7,3.56,8.6,3.72,11.19,10.5,0.84,3.32,1.54,1.37,12.11,10.51,3.2,11.11,1.18,5.62,1.85,3.83,2.38,2.7,12.12,8.23,3.54,8.01,6.32,11.72,7.97,1.45,12.32,2.78,10.03,1.45,1.68,3.15,0.57,1.18,6.4,2.99,0.96,6.24,7.59,3.91,6.42,1.03,8.52,9.73,9.44,8.54,0.57,2.24,12.05,7.75,10.05,10.69,6.46,11.48,6.86,7.86,8.25,4.88,1.84,2.61,9.94,10.02,9.76,11.56,5.43,9.33,6.09,8.48,3.64,4.99,10.46,10.73,0.57,5.61,6.27,11.47,8.48,8.59,5.98,5.68,7.45,2.32,6.06,0.29,3.84,9.43,5.96,11.77,4.64,11.88,6.7,9.73,7.6,9.8,1.41,7.82,3.51,11.15,11.48,10.47,11.46,9.9,9.62,4.49,2.84,10.87,3.72,12.39,2.9,3.26,8.97,8.2,7.94,9.12,10.29,4.92,7.1,11.27,5.33,4.7,8.11,0.82,3.48,11.07,12.48,2.0,7.01,5.78,3.3,4.36,3.34,11.96,2.0,3.25,2.77,4.85,6.8,10.96,9.98,4.96,8.14,10.29,0.57,4.62,1.52,10.34,10.42,4.89,0.78,10.46,4.73,12.56,1.21,11.11,4.16,8.02,1.1,6.64,3.62,3.6,1.83,11.02,12.59,4.09,4.88,11.39,7.67,3.08,7.51,12.47,12.61,3.1,12.11,0.3,12.1,9.87,12.31,4.89,1.63,2.57,11.25,1.67,6.61,0.99,11.65,3.1,6.66,0.57,1.18,10.72,5.15,4.16,1.27,11.94,11.95,6.31,6.63,2.88,7.36,9.47,8.99,9.47,7.01,10.65,3.85,1.8,7.3,1.15,11.81,5.17,9.44,0.61,5.98,7.99,7.95,5.18,4.56,4.32,2.67,3.51,6.45,6.28,3.9,10.27,4.1,1.41,7.01,0.9,10.78,1.34,3.33,5.93,11.32,8.24,10.75,0.56,2.51,6.88,1.52,12.0,3.49,12.82,6.74,8.85,6.82,1.19,0.88,4.94,10.12,3.17,8.13,6.09,1.16,8.05,8.6,11.54,4.54,12.0,0.22,8.44,9.25,4.04,2.61,11.96,3.45,0.33,3.93,2.02,1.69,6.36,1.22,11.96,11.41,11.21,9.12,10.78,7.47,7.29,4.35,4.01,11.98,5.21,9.02,4.77,11.51,9.77,8.1,10.27,7.78,11.21,1.26,3.62,11.71,6.88,11.54,3.3,10.88,1.39,4.07,3.56,0.26,5.45],\"y\":[14.0,17.76,5.7,21.38,17.48,25.66,13.44,5.34,12.82,5.62,4.38,21.36,23.92,15.4,7.12,17.2,7.44,22.38,21.0,1.68,6.64,3.08,2.74,24.22,21.02,6.4,22.22,2.36,11.24,3.7,7.66,4.76,5.4,24.24,16.46,7.08,16.02,12.64,23.44,15.94,2.9,24.64,5.56,20.06,2.9,3.36,6.3,1.14,2.36,12.8,5.98,1.92,12.48,15.18,7.82,12.84,2.06,17.04,19.46,18.88,17.08,1.14,4.48,24.1,15.5,20.1,21.38,12.92,22.96,13.72,15.72,16.5,9.76,3.68,5.22,19.88,20.04,19.52,23.12,10.86,18.66,12.18,16.96,7.28,9.98,20.92,21.46,1.14,11.22,12.54,22.94,16.96,17.18,11.96,11.36,14.9,4.64,12.12,0.58,7.68,18.86,11.92,23.54,9.28,23.76,13.4,19.46,15.2,19.6,2.82,15.64,7.02,22.3,22.96,20.94,22.92,19.8,19.24,8.98,5.68,21.74,7.44,24.78,5.8,6.52,17.94,16.4,15.88,18.24,20.58,9.84,14.2,22.54,10.66,9.4,16.22,1.64,6.96,22.14,24.96,4.0,14.02,11.56,6.6,8.72,6.68,23.92,4.0,6.5,5.54,9.7,13.6,21.92,19.96,9.92,16.28,20.58,1.14,9.24,3.04,20.68,20.84,9.78,1.56,20.92,9.46,25.12,2.42,22.22,8.32,16.04,2.2,13.28,7.24,7.2,3.66,22.04,25.18,8.18,9.76,22.78,15.34,6.16,15.02,24.94,25.22,6.2,24.22,0.6,24.2,19.74,24.62,9.78,3.26,5.14,22.5,3.34,13.22,1.98,23.3,6.2,13.32,1.14,2.36,21.44,10.3,8.32,2.54,23.88,23.9,12.62,13.26,5.76,14.72,18.94,17.98,18.94,14.02,21.3,7.7,3.6,14.6,2.3,23.62,10.34,18.88,1.22,11.96,15.98,15.9,10.36,9.12,8.64,5.34,7.02,12.9,12.56,7.8,20.54,8.2,2.82,14.02,1.8,21.56,2.68,6.66,11.86,22.64,16.48,21.5,1.12,5.02,13.76,3.04,24.0,6.98,25.64,13.48,17.7,13.64,2.38,1.76,9.88,20.24,6.34,16.26,12.18,2.32,16.1,17.2,23.08,9.08,24.0,0.44,16.88,18.5,8.08,5.22,23.92,6.9,0.66,7.86,4.04,3.38,12.72,2.44,23.92,22.82,22.42,18.24,21.56,14.94,14.58,8.7,8.02,23.96,10.42,18.04,9.54,23.02,19.54,16.2,20.54,15.56,22.42,2.52,7.24,23.42,13.76,23.08,6.6,21.76,2.78,8.14,7.12,0.52,10.9]},\"selected\":{\"id\":\"2383\",\"type\":\"Selection\"},\"selection_policy\":{\"id\":\"2382\",\"type\":\"UnionRenderers\"}},\"id\":\"2351\",\"type\":\"ColumnDataSource\"},{\"attributes\":{},\"id\":\"2365\",\"type\":\"Selection\"},{\"attributes\":{},\"id\":\"2339\",\"type\":\"BasicTickFormatter\"},{\"attributes\":{},\"id\":\"2480\",\"type\":\"UnionRenderers\"},{\"attributes\":{\"items\":[{\"id\":\"2345\",\"type\":\"LegendItem\"},{\"id\":\"2366\",\"type\":\"LegendItem\"},{\"id\":\"2384\",\"type\":\"LegendItem\"}]},\"id\":\"2344\",\"type\":\"Legend\"},{\"attributes\":{},\"id\":\"2310\",\"type\":\"LinearScale\"},{\"attributes\":{\"callback\":null,\"end\":15},\"id\":\"2306\",\"type\":\"Range1d\"},{\"attributes\":{\"line_color\":\"plum\",\"line_dash\":[4,4],\"line_width\":2,\"x\":{\"field\":\"x\"},\"y\":{\"field\":\"y\"}},\"id\":\"2334\",\"type\":\"Line\"},{\"attributes\":{\"data_source\":{\"id\":\"2333\",\"type\":\"ColumnDataSource\"},\"glyph\":{\"id\":\"2334\",\"type\":\"Line\"},\"hover_glyph\":null,\"muted_glyph\":null,\"name\":\"y=x\",\"nonselection_glyph\":{\"id\":\"2335\",\"type\":\"Line\"},\"selection_glyph\":null,\"view\":{\"id\":\"2337\",\"type\":\"CDSView\"}},\"id\":\"2336\",\"type\":\"GlyphRenderer\"},{\"attributes\":{\"label\":{\"value\":\"y=x\"},\"renderers\":[{\"id\":\"2336\",\"type\":\"GlyphRenderer\"}]},\"id\":\"2345\",\"type\":\"LegendItem\"},{\"attributes\":{\"dimension\":1,\"ticker\":{\"id\":\"2318\",\"type\":\"BasicTicker\"}},\"id\":\"2321\",\"type\":\"Grid\"},{\"attributes\":{\"source\":{\"id\":\"2300\",\"type\":\"ColumnDataSource\"}},\"id\":\"2350\",\"type\":\"CDSView\"},{\"attributes\":{\"line_alpha\":0.1,\"line_color\":\"#1f77b4\",\"line_dash\":[2,4],\"x\":{\"field\":\"x\"},\"y\":{\"field\":\"y\"}},\"id\":\"2369\",\"type\":\"Line\"},{\"attributes\":{},\"id\":\"2313\",\"type\":\"BasicTicker\"},{\"attributes\":{\"data_source\":{\"id\":\"2367\",\"type\":\"ColumnDataSource\"},\"glyph\":{\"id\":\"2368\",\"type\":\"Line\"},\"hover_glyph\":null,\"muted_glyph\":null,\"nonselection_glyph\":{\"id\":\"2369\",\"type\":\"Line\"},\"selection_glyph\":null,\"view\":{\"id\":\"2371\",\"type\":\"CDSView\"}},\"id\":\"2370\",\"type\":\"GlyphRenderer\"},{\"attributes\":{\"ticker\":{\"id\":\"2313\",\"type\":\"BasicTicker\"}},\"id\":\"2316\",\"type\":\"Grid\"},{\"attributes\":{},\"id\":\"2341\",\"type\":\"BasicTickFormatter\"},{\"attributes\":{\"text\":\"PDM with Interpolation vs McQuillan TESS Periods\"},\"id\":\"2302\",\"type\":\"Title\"},{\"attributes\":{},\"id\":\"2318\",\"type\":\"BasicTicker\"},{\"attributes\":{\"source\":{\"id\":\"2367\",\"type\":\"ColumnDataSource\"}},\"id\":\"2371\",\"type\":\"CDSView\"},{\"attributes\":{\"bottom_units\":\"screen\",\"fill_alpha\":{\"value\":0.5},\"fill_color\":{\"value\":\"lightgrey\"},\"left_units\":\"screen\",\"level\":\"overlay\",\"line_alpha\":{\"value\":1.0},\"line_color\":{\"value\":\"black\"},\"line_dash\":[4,4],\"line_width\":{\"value\":2},\"render_mode\":\"css\",\"right_units\":\"screen\",\"top_units\":\"screen\"},\"id\":\"2343\",\"type\":\"BoxAnnotation\"},{\"attributes\":{\"axis_label\":\"Lomb-Scargle Period\",\"formatter\":{\"id\":\"2341\",\"type\":\"BasicTickFormatter\"},\"ticker\":{\"id\":\"2318\",\"type\":\"BasicTicker\"}},\"id\":\"2317\",\"type\":\"LinearAxis\"},{\"attributes\":{},\"id\":\"2382\",\"type\":\"UnionRenderers\"},{\"attributes\":{\"callback\":null,\"data\":{\"x\":[7.0,8.88,2.85,10.69,8.74,12.83,6.72,2.67,6.41,2.81,2.19,10.68,11.96,7.7,3.56,8.6,3.72,11.19,10.5,0.84,3.32,1.54,1.37,12.11,10.51,3.2,11.11,1.18,5.62,1.85,3.83,2.38,2.7,12.12,8.23,3.54,8.01,6.32,11.72,7.97,1.45,12.32,2.78,10.03,1.45,1.68,3.15,0.57,1.18,6.4,2.99,0.96,6.24,7.59,3.91,6.42,1.03,8.52,9.73,9.44,8.54,0.57,2.24,12.05,7.75,10.05,10.69,6.46,11.48,6.86,7.86,8.25,4.88,1.84,2.61,9.94,10.02,9.76,11.56,5.43,9.33,6.09,8.48,3.64,4.99,10.46,10.73,0.57,5.61,6.27,11.47,8.48,8.59,5.98,5.68,7.45,2.32,6.06,0.29,3.84,9.43,5.96,11.77,4.64,11.88,6.7,9.73,7.6,9.8,1.41,7.82,3.51,11.15,11.48,10.47,11.46,9.9,9.62,4.49,2.84,10.87,3.72,12.39,2.9,3.26,8.97,8.2,7.94,9.12,10.29,4.92,7.1,11.27,5.33,4.7,8.11,0.82,3.48,11.07,12.48,2.0,7.01,5.78,3.3,4.36,3.34,11.96,2.0,3.25,2.77,4.85,6.8,10.96,9.98,4.96,8.14,10.29,0.57,4.62,1.52,10.34,10.42,4.89,0.78,10.46,4.73,12.56,1.21,11.11,4.16,8.02,1.1,6.64,3.62,3.6,1.83,11.02,12.59,4.09,4.88,11.39,7.67,3.08,7.51,12.47,12.61,3.1,12.11,0.3,12.1,9.87,12.31,4.89,1.63,2.57,11.25,1.67,6.61,0.99,11.65,3.1,6.66,0.57,1.18,10.72,5.15,4.16,1.27,11.94,11.95,6.31,6.63,2.88,7.36,9.47,8.99,9.47,7.01,10.65,3.85,1.8,7.3,1.15,11.81,5.17,9.44,0.61,5.98,7.99,7.95,5.18,4.56,4.32,2.67,3.51,6.45,6.28,3.9,10.27,4.1,1.41,7.01,0.9,10.78,1.34,3.33,5.93,11.32,8.24,10.75,0.56,2.51,6.88,1.52,12.0,3.49,12.82,6.74,8.85,6.82,1.19,0.88,4.94,10.12,3.17,8.13,6.09,1.16,8.05,8.6,11.54,4.54,12.0,0.22,8.44,9.25,4.04,2.61,11.96,3.45,0.33,3.93,2.02,1.69,6.36,1.22,11.96,11.41,11.21,9.12,10.78,7.47,7.29,4.35,4.01,11.98,5.21,9.02,4.77,11.51,9.77,8.1,10.27,7.78,11.21,1.26,3.62,11.71,6.88,11.54,3.3,10.88,1.39,4.07,3.56,0.26,5.45],\"y\":[3.5,4.44,1.425,5.345,4.37,6.415,3.36,1.335,3.205,1.405,1.095,5.34,5.98,3.85,1.78,4.3,1.86,5.595,5.25,0.42,1.66,0.77,0.685,6.055,5.255,1.6,5.555,0.59,2.81,0.925,1.915,1.19,1.35,6.06,4.115,1.77,4.005,3.16,5.86,3.985,0.725,6.16,1.39,5.015,0.725,0.84,1.575,0.285,0.59,3.2,1.495,0.48,3.12,3.795,1.955,3.21,0.515,4.26,4.865,4.72,4.27,0.285,1.12,6.025,3.875,5.025,5.345,3.23,5.74,3.43,3.93,4.125,2.44,0.92,1.305,4.97,5.01,4.88,5.78,2.715,4.665,3.045,4.24,1.82,2.495,5.23,5.365,0.285,2.805,3.135,5.735,4.24,4.295,2.99,2.84,3.725,1.16,3.03,0.145,1.92,4.715,2.98,5.885,2.32,5.94,3.35,4.865,3.8,4.9,0.705,3.91,1.755,5.575,5.74,5.235,5.73,4.95,4.81,2.245,1.42,5.435,1.86,6.195,1.45,1.63,4.485,4.1,3.97,4.56,5.145,2.46,3.55,5.635,2.665,2.35,4.055,0.41,1.74,5.535,6.24,1.0,3.505,2.89,1.65,2.18,1.67,5.98,1.0,1.625,1.385,2.425,3.4,5.48,4.99,2.48,4.07,5.145,0.285,2.31,0.76,5.17,5.21,2.445,0.39,5.23,2.365,6.28,0.605,5.555,2.08,4.01,0.55,3.32,1.81,1.8,0.915,5.51,6.295,2.045,2.44,5.695,3.835,1.54,3.755,6.235,6.305,1.55,6.055,0.15,6.05,4.935,6.155,2.445,0.815,1.285,5.625,0.835,3.305,0.495,5.825,1.55,3.33,0.285,0.59,5.36,2.575,2.08,0.635,5.97,5.975,3.155,3.315,1.44,3.68,4.735,4.495,4.735,3.505,5.325,1.925,0.9,3.65,0.575,5.905,2.585,4.72,0.305,2.99,3.995,3.975,2.59,2.28,2.16,1.335,1.755,3.225,3.14,1.95,5.135,2.05,0.705,3.505,0.45,5.39,0.67,1.665,2.965,5.66,4.12,5.375,0.28,1.255,3.44,0.76,6.0,1.745,6.41,3.37,4.425,3.41,0.595,0.44,2.47,5.06,1.585,4.065,3.045,0.58,4.025,4.3,5.77,2.27,6.0,0.11,4.22,4.625,2.02,1.305,5.98,1.725,0.165,1.965,1.01,0.845,3.18,0.61,5.98,5.705,5.605,4.56,5.39,3.735,3.645,2.175,2.005,5.99,2.605,4.51,2.385,5.755,4.885,4.05,5.135,3.89,5.605,0.63,1.81,5.855,3.44,5.77,1.65,5.44,0.695,2.035,1.78,0.13,2.725]},\"selected\":{\"id\":\"2481\",\"type\":\"Selection\"},\"selection_policy\":{\"id\":\"2480\",\"type\":\"UnionRenderers\"}},\"id\":\"2367\",\"type\":\"ColumnDataSource\"},{\"attributes\":{\"label\":{\"value\":\"y=0.5*x\"},\"renderers\":[{\"id\":\"2370\",\"type\":\"GlyphRenderer\"}]},\"id\":\"2384\",\"type\":\"LegendItem\"},{\"attributes\":{\"line_alpha\":0.1,\"line_color\":\"#1f77b4\",\"line_dash\":[2,4],\"x\":{\"field\":\"x\"},\"y\":{\"field\":\"y\"}},\"id\":\"2353\",\"type\":\"Line\"},{\"attributes\":{\"line_color\":\"powderblue\",\"line_dash\":[2,4],\"x\":{\"field\":\"x\"},\"y\":{\"field\":\"y\"}},\"id\":\"2368\",\"type\":\"Line\"},{\"attributes\":{},\"id\":\"2383\",\"type\":\"Selection\"},{\"attributes\":{\"line_color\":\"orange\",\"line_dash\":[2,4],\"x\":{\"field\":\"x\"},\"y\":{\"field\":\"y\"}},\"id\":\"2352\",\"type\":\"Line\"},{\"attributes\":{\"data_source\":{\"id\":\"2300\",\"type\":\"ColumnDataSource\"},\"glyph\":{\"id\":\"2347\",\"type\":\"Circle\"},\"hover_glyph\":null,\"muted_glyph\":null,\"nonselection_glyph\":{\"id\":\"2348\",\"type\":\"Circle\"},\"selection_glyph\":null,\"view\":{\"id\":\"2350\",\"type\":\"CDSView\"}},\"id\":\"2349\",\"type\":\"GlyphRenderer\"},{\"attributes\":{\"source\":{\"id\":\"2333\",\"type\":\"ColumnDataSource\"}},\"id\":\"2337\",\"type\":\"CDSView\"},{\"attributes\":{\"callback\":null,\"data\":{\"tess\":[275493837,121789795,63007124,275490626,171098535,63210277,351803000,170253623,158791870,164724054,122684770,121457565,273582401,267991320,137218354,184089663,272370950,159172008,121659832,138728898,169460055,169466444,122213500,63209318,120963553,267746802,271165094,27395090,298964604,270608620,185058148,271426791,273687618,272719990,239227465,27186774,271538184,121215119,121939294,352013209,185058255,170344764,378084176,120422997,63075888,270856793,26597576,158412743,121329643,351055098,120890400,137408312,267671733,279916031,271547585,158936101,121939266,239225673,27389081,121785547,138725623],\"x\":[7.0,8.88,2.85,10.69,8.74,12.83,6.72,2.67,6.41,2.81,2.19,10.68,11.96,7.7,3.56,8.6,3.72,11.19,10.5,0.84,3.32,1.54,1.37,12.11,10.51,3.2,11.11,1.18,5.62,1.85,3.83,2.38,2.7,12.12,8.23,3.54,8.01,6.32,11.72,7.97,1.45,12.32,2.78,10.03,1.45,1.68,3.15,0.57,1.18,6.4,2.99,0.96,6.24,7.59,3.91,6.42,1.03,8.52,9.73,9.44,8.54,0.57,2.24,12.05,7.75,10.05,10.69,6.46,11.48,6.86,7.86,8.25,4.88,1.84,2.61,9.94,10.02,9.76,11.56,5.43,9.33,6.09,8.48,3.64,4.99,10.46,10.73,0.57,5.61,6.27,11.47,8.48,8.59,5.98,5.68,7.45,2.32,6.06,0.29,3.84,9.43,5.96,11.77,4.64,11.88,6.7,9.73,7.6,9.8,1.41,7.82,3.51,11.15,11.48,10.47,11.46,9.9,9.62,4.49,2.84,10.87,3.72,12.39,2.9,3.26,8.97,8.2,7.94,9.12,10.29,4.92,7.1,11.27,5.33,4.7,8.11,0.82,3.48,11.07,12.48,2.0,7.01,5.78,3.3,4.36,3.34,11.96,2.0,3.25,2.77,4.85,6.8,10.96,9.98,4.96,8.14,10.29,0.57,4.62,1.52,10.34,10.42,4.89,0.78,10.46,4.73,12.56,1.21,11.11,4.16,8.02,1.1,6.64,3.62,3.6,1.83,11.02,12.59,4.09,4.88,11.39,7.67,3.08,7.51,12.47,12.61,3.1,12.11,0.3,12.1,9.87,12.31,4.89,1.63,2.57,11.25,1.67,6.61,0.99,11.65,3.1,6.66,0.57,1.18,10.72,5.15,4.16,1.27,11.94,11.95,6.31,6.63,2.88,7.36,9.47,8.99,9.47,7.01,10.65,3.85,1.8,7.3,1.15,11.81,5.17,9.44,0.61,5.98,7.99,7.95,5.18,4.56,4.32,2.67,3.51,6.45,6.28,3.9,10.27,4.1,1.41,7.01,0.9,10.78,1.34,3.33,5.93,11.32,8.24,10.75,0.56,2.51,6.88,1.52,12.0,3.49,12.82,6.74,8.85,6.82,1.19,0.88,4.94,10.12,3.17,8.13,6.09,1.16,8.05,8.6,11.54,4.54,12.0,0.22,8.44,9.25,4.04,2.61,11.96,3.45,0.33,3.93,2.02,1.69,6.36,1.22,11.96,11.41,11.21,9.12,10.78,7.47,7.29,4.35,4.01,11.98,5.21,9.02,4.77,11.51,9.77,8.1,10.27,7.78,11.21,1.26,3.62,11.71,6.88,11.54,3.3,10.88,1.39,4.07,3.56,0.26,5.45],\"y\":[7.84954954954955,9.881081081081081,5.877477477477478,7.066666666666667,7.046846846846847,8.771171171171172,2.8252252252252257,7.760360360360361,8.870270270270272,7.978378378378379,7.720720720720721,8.771171171171172,0.44684684684684695,7.690990990990992,6.9972972972972975,6.9972972972972975,3.7072072072072078,6.709909909909911,6.6504504504504505,0.8333333333333334,9.375675675675677,9.920720720720722,1.3783783783783785,7.80990990990991,1.0216216216216218,6.76936936936937,7.126126126126127,1.1603603603603605,7.443243243243244,7.492792792792793,7.363963963963965,6.6504504504504505,7.532432432432433,8.077477477477478,8.087387387387388,6.8882882882882885,5.0549549549549555,8.810810810810812,7.978378378378379,9.791891891891893,1.4576576576576579,6.987387387387388,1.3882882882882885,6.987387387387388,8.642342342342342,1.665765765765766,9.99009009009009,0.5657657657657659,4.688288288288288,6.6504504504504505,8.156756756756756,8.117117117117118,2.8252252252252257,6.9972972972972975,7.978378378378379,6.8684684684684685,7.155855855855856,7.126126126126127,7.899099099099099,0.17927927927927928,8.404504504504505,0.5657657657657659,6.918018018018018,8.107207207207209,3.7468468468468474,9.445045045045045,7.720720720720721,6.937837837837838,6.6504504504504505,7.046846846846847]},\"selected\":{\"id\":\"2365\",\"type\":\"Selection\"},\"selection_policy\":{\"id\":\"2364\",\"type\":\"UnionRenderers\"}},\"id\":\"2300\",\"type\":\"ColumnDataSource\"},{\"attributes\":{\"active_drag\":\"auto\",\"active_inspect\":\"auto\",\"active_multi\":null,\"active_scroll\":\"auto\",\"active_tap\":\"auto\",\"tools\":[{\"id\":\"2322\",\"type\":\"PanTool\"},{\"id\":\"2323\",\"type\":\"BoxZoomTool\"},{\"id\":\"2324\",\"type\":\"ResetTool\"},{\"id\":\"2325\",\"type\":\"SaveTool\"},{\"id\":\"2326\",\"type\":\"HoverTool\"}]},\"id\":\"2327\",\"type\":\"Toolbar\"},{\"attributes\":{\"data_source\":{\"id\":\"2351\",\"type\":\"ColumnDataSource\"},\"glyph\":{\"id\":\"2352\",\"type\":\"Line\"},\"hover_glyph\":null,\"muted_glyph\":null,\"nonselection_glyph\":{\"id\":\"2353\",\"type\":\"Line\"},\"selection_glyph\":null,\"view\":{\"id\":\"2355\",\"type\":\"CDSView\"}},\"id\":\"2354\",\"type\":\"GlyphRenderer\"},{\"attributes\":{\"label\":{\"value\":\"y=2x\"},\"renderers\":[{\"id\":\"2354\",\"type\":\"GlyphRenderer\"}]},\"id\":\"2366\",\"type\":\"LegendItem\"},{\"attributes\":{\"fill_color\":{\"value\":\"purple\"},\"line_color\":{\"value\":null},\"x\":{\"field\":\"x\"},\"y\":{\"field\":\"y\"}},\"id\":\"2347\",\"type\":\"Circle\"},{\"attributes\":{},\"id\":\"2322\",\"type\":\"PanTool\"},{\"attributes\":{\"source\":{\"id\":\"2351\",\"type\":\"ColumnDataSource\"}},\"id\":\"2355\",\"type\":\"CDSView\"}],\"root_ids\":[\"2301\"]},\"title\":\"Bokeh Application\",\"version\":\"1.3.4\"}};\n",
       "  var render_items = [{\"docid\":\"3ad37f03-9d0b-4abb-a52f-d674c0689c11\",\"roots\":{\"2301\":\"462e14b2-92b4-42ab-8f1f-a5aacbe92e70\"}}];\n",
       "  root.Bokeh.embed.embed_items_notebook(docs_json, render_items);\n",
       "\n",
       "  }\n",
       "  if (root.Bokeh !== undefined) {\n",
       "    embed_document(root);\n",
       "  } else {\n",
       "    var attempts = 0;\n",
       "    var timer = setInterval(function(root) {\n",
       "      if (root.Bokeh !== undefined) {\n",
       "        embed_document(root);\n",
       "        clearInterval(timer);\n",
       "      }\n",
       "      attempts++;\n",
       "      if (attempts > 100) {\n",
       "        console.log(\"Bokeh: ERROR: Unable to run BokehJS code because BokehJS library is missing\");\n",
       "        clearInterval(timer);\n",
       "      }\n",
       "    }, 10, root)\n",
       "  }\n",
       "})(window);"
      ],
      "application/vnd.bokehjs_exec.v0+json": ""
     },
     "metadata": {
      "application/vnd.bokehjs_exec.v0+json": {
       "id": "2301"
      }
     },
     "output_type": "display_data"
    }
   ],
   "source": [
    "x =  short_periods\n",
    "y = tess_periods_interp\n",
    "\n",
    "source = ColumnDataSource(data=dict(\n",
    "    x =  short_periods,\n",
    "    y = tess_periods_interp, \n",
    "    tess = (cat['tic_id'])[0:61]))\n",
    "\n",
    "x2 = [i*2 for i in x]\n",
    "x_half = [float(i)*0.5 for i in x]\n",
    "\n",
    "tess_interp_plot = figure(\n",
    "   tools=\"pan,box_zoom,reset,save,hover\",\n",
    "   y_range=[0, 15], title=\"PDM with Interpolation vs McQuillan TESS Periods\",\n",
    "   x_axis_label='McQuillan Period', y_axis_label='Lomb-Scargle Period', plot_width=900)\n",
    "\n",
    "tess_interp_plot.line(x, x, name = \"y=x\", color = 'plum', line_dash=\"4 4\", legend = \"y=x\", line_width = 2)\n",
    "tess_interp_plot.circle('x', 'y', source = source, color= \"purple\", line_color=None)\n",
    "tess_interp_plot.line(x, x2, legend=\"y=2x\", line_width=1, color = 'orange', line_dash=\"dotted\")\n",
    "tess_interp_plot.line(x, x_half, legend=\"y=0.5*x\", line_width=1, color = 'powderblue', line_dash=\"dotted\")\n",
    "\n",
    "tess_interp_plot.hover.tooltips = [\n",
    "    (\"index\", \"$index\"), \n",
    "    (\"(x,y)\", \"($x, $y)\"), \n",
    "    (\"TIC ID\", \"@tess\")] \n",
    "\n",
    "show(tess_interp_plot)"
   ]
  },
  {
   "cell_type": "code",
   "execution_count": 28,
   "metadata": {},
   "outputs": [],
   "source": [
    "#finding differences between Lomb-Scargle with and without interpolation\n",
    "differences_tess = []\n",
    "\n",
    "for indx, period in enumerate(tess_periods_interp):\n",
    "    tess_diff = np.abs(period - short_periods[indx])\n",
    "    differences_tess.append(tess_diff)"
   ]
  },
  {
   "cell_type": "code",
   "execution_count": 29,
   "metadata": {},
   "outputs": [
    {
     "data": {
      "text/html": [
       "\n",
       "\n",
       "\n",
       "\n",
       "\n",
       "\n",
       "  <div class=\"bk-root\" id=\"65847f80-8f83-407d-83b8-6edef02f1b50\" data-root-id=\"2567\"></div>\n"
      ]
     },
     "metadata": {},
     "output_type": "display_data"
    },
    {
     "data": {
      "application/javascript": [
       "(function(root) {\n",
       "  function embed_document(root) {\n",
       "    \n",
       "  var docs_json = {\"8de85159-0187-40fc-9b02-1a6d7417b6c6\":{\"roots\":{\"references\":[{\"attributes\":{\"below\":[{\"id\":\"2578\",\"type\":\"LinearAxis\"}],\"center\":[{\"id\":\"2582\",\"type\":\"Grid\"},{\"id\":\"2587\",\"type\":\"Grid\"},{\"id\":\"2610\",\"type\":\"Legend\"}],\"left\":[{\"id\":\"2583\",\"type\":\"LinearAxis\"}],\"plot_width\":900,\"renderers\":[{\"id\":\"2602\",\"type\":\"GlyphRenderer\"},{\"id\":\"2615\",\"type\":\"GlyphRenderer\"}],\"title\":{\"id\":\"2568\",\"type\":\"Title\"},\"toolbar\":{\"id\":\"2593\",\"type\":\"Toolbar\"},\"x_range\":{\"id\":\"2570\",\"type\":\"DataRange1d\"},\"x_scale\":{\"id\":\"2574\",\"type\":\"LinearScale\"},\"y_range\":{\"id\":\"2572\",\"type\":\"Range1d\"},\"y_scale\":{\"id\":\"2576\",\"type\":\"LinearScale\"}},\"id\":\"2567\",\"subtype\":\"Figure\",\"type\":\"Plot\"},{\"attributes\":{\"active_drag\":\"auto\",\"active_inspect\":\"auto\",\"active_multi\":null,\"active_scroll\":\"auto\",\"active_tap\":\"auto\",\"tools\":[{\"id\":\"2588\",\"type\":\"PanTool\"},{\"id\":\"2589\",\"type\":\"BoxZoomTool\"},{\"id\":\"2590\",\"type\":\"ResetTool\"},{\"id\":\"2591\",\"type\":\"SaveTool\"},{\"id\":\"2592\",\"type\":\"HoverTool\"}]},\"id\":\"2593\",\"type\":\"Toolbar\"},{\"attributes\":{\"callback\":null,\"data\":{\"kep\":[7756984,5352889,7033500,9025444,5561963,8099075,7584332,6228783,7517679,10124839,3643810,3633847,8972956,10684727,3747118,4761031,8179896,10006576,5264764,5022454,5384707,6306891,2845689,8432040,2556702,12010753,9595170,11197664,11237492,6611940,8264427,9226959,9172572,8574353,5809758,11512772,7129992,4142809,3946300,8938427,8330380,5473615,3658536,5344075,8300087,9028495,11192119,10394802,5520881,2162377,1996773,6205481,11911283,7016864,9839696,9764489,3946262,5207114,11920493,4355362,5630581],\"tess\":[275493837,121789795,63007124,275490626,171098535,63210277,351803000,170253623,158791870,164724054,122684770,121457565,273582401,267991320,137218354,184089663,272370950,159172008,121659832,138728898,169460055,169466444,122213500,63209318,120963553,267746802,271165094,27395090,298964604,270608620,185058148,271426791,273687618,272719990,239227465,27186774,271538184,121215119,121939294,352013209,185058255,170344764,378084176,120422997,63075888,270856793,26597576,158412743,121329643,351055098,120890400,137408312,267671733,279916031,271547585,158936101,121939266,239225673,27389081,121785547,138725623],\"x\":[7.0,8.88,2.85,10.69,8.74,12.83,6.72,2.67,6.41,2.81,2.19,10.68,11.96,7.7,3.56,8.6,3.72,11.19,10.5,0.84,3.32,1.54,1.37,12.11,10.51,3.2,11.11,1.18,5.62,1.85,3.83,2.38,2.7,12.12,8.23,3.54,8.01,6.32,11.72,7.97,1.45,12.32,2.78,10.03,1.45,1.68,3.15,0.57,1.18,6.4,2.99,0.96,6.24,7.59,3.91,6.42,1.03,8.52,9.73,9.44,8.54,0.57,2.24,12.05,7.75,10.05,10.69,6.46,11.48,6.86,7.86,8.25,4.88,1.84,2.61,9.94,10.02,9.76,11.56,5.43,9.33,6.09,8.48,3.64,4.99,10.46,10.73,0.57,5.61,6.27,11.47,8.48,8.59,5.98,5.68,7.45,2.32,6.06,0.29,3.84,9.43,5.96,11.77,4.64,11.88,6.7,9.73,7.6,9.8,1.41,7.82,3.51,11.15,11.48,10.47,11.46,9.9,9.62,4.49,2.84,10.87,3.72,12.39,2.9,3.26,8.97,8.2,7.94,9.12,10.29,4.92,7.1,11.27,5.33,4.7,8.11,0.82,3.48,11.07,12.48,2.0,7.01,5.78,3.3,4.36,3.34,11.96,2.0,3.25,2.77,4.85,6.8,10.96,9.98,4.96,8.14,10.29,0.57,4.62,1.52,10.34,10.42,4.89,0.78,10.46,4.73,12.56,1.21,11.11,4.16,8.02,1.1,6.64,3.62,3.6,1.83,11.02,12.59,4.09,4.88,11.39,7.67,3.08,7.51,12.47,12.61,3.1,12.11,0.3,12.1,9.87,12.31,4.89,1.63,2.57,11.25,1.67,6.61,0.99,11.65,3.1,6.66,0.57,1.18,10.72,5.15,4.16,1.27,11.94,11.95,6.31,6.63,2.88,7.36,9.47,8.99,9.47,7.01,10.65,3.85,1.8,7.3,1.15,11.81,5.17,9.44,0.61,5.98,7.99,7.95,5.18,4.56,4.32,2.67,3.51,6.45,6.28,3.9,10.27,4.1,1.41,7.01,0.9,10.78,1.34,3.33,5.93,11.32,8.24,10.75,0.56,2.51,6.88,1.52,12.0,3.49,12.82,6.74,8.85,6.82,1.19,0.88,4.94,10.12,3.17,8.13,6.09,1.16,8.05,8.6,11.54,4.54,12.0,0.22,8.44,9.25,4.04,2.61,11.96,3.45,0.33,3.93,2.02,1.69,6.36,1.22,11.96,11.41,11.21,9.12,10.78,7.47,7.29,4.35,4.01,11.98,5.21,9.02,4.77,11.51,9.77,8.1,10.27,7.78,11.21,1.26,3.62,11.71,6.88,11.54,3.3,10.88,1.39,4.07,3.56,0.26,5.45],\"y\":[0.8495495495495504,1.0010810810810806,3.0274774774774778,3.623333333333332,1.693153153153153,4.058828828828828,3.894774774774774,5.090360360360361,2.4602702702702715,5.168378378378378,5.530720720720721,1.9088288288288275,11.513153153153153,0.009009009009008473,3.4372972972972975,1.602702702702702,0.01279279279279244,4.480090090090089,3.8495495495495495,0.006666666666666599,6.055675675675676,8.38072072072072,0.008378378378378404,4.300090090090089,9.488378378378378,3.5693693693693698,3.983873873873873,0.01963963963963944,1.823243243243244,5.642792792792793,3.5339639639639646,4.270450450450451,4.832432432432433,4.042522522522521,0.14261261261261282,3.3482882882882885,2.9550450450450443,2.490810810810812,3.741621621621622,1.8218918918918936,0.0076576576576579125,5.332612612612612,1.3917117117117113,3.0426126126126114,7.192342342342342,0.014234234234233867,6.84009009009009,0.00423423423423408,3.5082882882882886,0.2504504504504501,5.166756756756756,7.157117117117118,3.4147747747747745,0.5927027027027023,4.0683783783783785,0.44846846846846855,6.125855855855856,1.393873873873873,1.8309009009009012,9.26072072072072,0.1354954954954941,0.00423423423423408,4.678018018018018,3.942792792792792,4.003153153153153,0.6049549549549553,2.969279279279278,0.4778378378378383,4.82954954954955,0.18684684684684694]},\"selected\":{\"id\":\"2723\",\"type\":\"Selection\"},\"selection_policy\":{\"id\":\"2722\",\"type\":\"UnionRenderers\"}},\"id\":\"2566\",\"type\":\"ColumnDataSource\"},{\"attributes\":{\"callback\":null},\"id\":\"2570\",\"type\":\"DataRange1d\"},{\"attributes\":{},\"id\":\"2588\",\"type\":\"PanTool\"},{\"attributes\":{\"line_alpha\":0.1,\"line_color\":\"#1f77b4\",\"line_dash\":[4,4],\"line_width\":2,\"x\":{\"field\":\"x\"},\"y\":{\"field\":\"y\"}},\"id\":\"2601\",\"type\":\"Line\"},{\"attributes\":{\"callback\":null,\"data\":{\"x\":[7.0,8.88,2.85,10.69,8.74,12.83,6.72,2.67,6.41,2.81,2.19,10.68,11.96,7.7,3.56,8.6,3.72,11.19,10.5,0.84,3.32,1.54,1.37,12.11,10.51,3.2,11.11,1.18,5.62,1.85,3.83,2.38,2.7,12.12,8.23,3.54,8.01,6.32,11.72,7.97,1.45,12.32,2.78,10.03,1.45,1.68,3.15,0.57,1.18,6.4,2.99,0.96,6.24,7.59,3.91,6.42,1.03,8.52,9.73,9.44,8.54,0.57,2.24,12.05,7.75,10.05,10.69,6.46,11.48,6.86,7.86,8.25,4.88,1.84,2.61,9.94,10.02,9.76,11.56,5.43,9.33,6.09,8.48,3.64,4.99,10.46,10.73,0.57,5.61,6.27,11.47,8.48,8.59,5.98,5.68,7.45,2.32,6.06,0.29,3.84,9.43,5.96,11.77,4.64,11.88,6.7,9.73,7.6,9.8,1.41,7.82,3.51,11.15,11.48,10.47,11.46,9.9,9.62,4.49,2.84,10.87,3.72,12.39,2.9,3.26,8.97,8.2,7.94,9.12,10.29,4.92,7.1,11.27,5.33,4.7,8.11,0.82,3.48,11.07,12.48,2.0,7.01,5.78,3.3,4.36,3.34,11.96,2.0,3.25,2.77,4.85,6.8,10.96,9.98,4.96,8.14,10.29,0.57,4.62,1.52,10.34,10.42,4.89,0.78,10.46,4.73,12.56,1.21,11.11,4.16,8.02,1.1,6.64,3.62,3.6,1.83,11.02,12.59,4.09,4.88,11.39,7.67,3.08,7.51,12.47,12.61,3.1,12.11,0.3,12.1,9.87,12.31,4.89,1.63,2.57,11.25,1.67,6.61,0.99,11.65,3.1,6.66,0.57,1.18,10.72,5.15,4.16,1.27,11.94,11.95,6.31,6.63,2.88,7.36,9.47,8.99,9.47,7.01,10.65,3.85,1.8,7.3,1.15,11.81,5.17,9.44,0.61,5.98,7.99,7.95,5.18,4.56,4.32,2.67,3.51,6.45,6.28,3.9,10.27,4.1,1.41,7.01,0.9,10.78,1.34,3.33,5.93,11.32,8.24,10.75,0.56,2.51,6.88,1.52,12.0,3.49,12.82,6.74,8.85,6.82,1.19,0.88,4.94,10.12,3.17,8.13,6.09,1.16,8.05,8.6,11.54,4.54,12.0,0.22,8.44,9.25,4.04,2.61,11.96,3.45,0.33,3.93,2.02,1.69,6.36,1.22,11.96,11.41,11.21,9.12,10.78,7.47,7.29,4.35,4.01,11.98,5.21,9.02,4.77,11.51,9.77,8.1,10.27,7.78,11.21,1.26,3.62,11.71,6.88,11.54,3.3,10.88,1.39,4.07,3.56,0.26,5.45],\"y\":[0.0,0.0,0.0,0.0,0.0,0.0,0.0,0.0,0.0,0.0,0.0,0.0,0.0,0.0,0.0,0.0,0.0,0.0,0.0,0.0,0.0,0.0,0.0,0.0,0.0,0.0,0.0,0.0,0.0,0.0,0.0,0.0,0.0,0.0,0.0,0.0,0.0,0.0,0.0,0.0,0.0,0.0,0.0,0.0,0.0,0.0,0.0,0.0,0.0,0.0,0.0,0.0,0.0,0.0,0.0,0.0,0.0,0.0,0.0,0.0,0.0,0.0,0.0,0.0,0.0,0.0,0.0,0.0,0.0,0.0,0.0,0.0,0.0,0.0,0.0,0.0,0.0,0.0,0.0,0.0,0.0,0.0,0.0,0.0,0.0,0.0,0.0,0.0,0.0,0.0,0.0,0.0,0.0,0.0,0.0,0.0,0.0,0.0,0.0,0.0,0.0,0.0,0.0,0.0,0.0,0.0,0.0,0.0,0.0,0.0,0.0,0.0,0.0,0.0,0.0,0.0,0.0,0.0,0.0,0.0,0.0,0.0,0.0,0.0,0.0,0.0,0.0,0.0,0.0,0.0,0.0,0.0,0.0,0.0,0.0,0.0,0.0,0.0,0.0,0.0,0.0,0.0,0.0,0.0,0.0,0.0,0.0,0.0,0.0,0.0,0.0,0.0,0.0,0.0,0.0,0.0,0.0,0.0,0.0,0.0,0.0,0.0,0.0,0.0,0.0,0.0,0.0,0.0,0.0,0.0,0.0,0.0,0.0,0.0,0.0,0.0,0.0,0.0,0.0,0.0,0.0,0.0,0.0,0.0,0.0,0.0,0.0,0.0,0.0,0.0,0.0,0.0,0.0,0.0,0.0,0.0,0.0,0.0,0.0,0.0,0.0,0.0,0.0,0.0,0.0,0.0,0.0,0.0,0.0,0.0,0.0,0.0,0.0,0.0,0.0,0.0,0.0,0.0,0.0,0.0,0.0,0.0,0.0,0.0,0.0,0.0,0.0,0.0,0.0,0.0,0.0,0.0,0.0,0.0,0.0,0.0,0.0,0.0,0.0,0.0,0.0,0.0,0.0,0.0,0.0,0.0,0.0,0.0,0.0,0.0,0.0,0.0,0.0,0.0,0.0,0.0,0.0,0.0,0.0,0.0,0.0,0.0,0.0,0.0,0.0,0.0,0.0,0.0,0.0,0.0,0.0,0.0,0.0,0.0,0.0,0.0,0.0,0.0,0.0,0.0,0.0,0.0,0.0,0.0,0.0,0.0,0.0,0.0,0.0,0.0,0.0,0.0,0.0,0.0,0.0,0.0,0.0,0.0,0.0,0.0,0.0,0.0,0.0,0.0,0.0,0.0,0.0,0.0,0.0,0.0,0.0,0.0,0.0,0.0,0.0,0.0,0.0]},\"selected\":{\"id\":\"2721\",\"type\":\"Selection\"},\"selection_policy\":{\"id\":\"2720\",\"type\":\"UnionRenderers\"}},\"id\":\"2599\",\"type\":\"ColumnDataSource\"},{\"attributes\":{},\"id\":\"2723\",\"type\":\"Selection\"},{\"attributes\":{\"overlay\":{\"id\":\"2609\",\"type\":\"BoxAnnotation\"}},\"id\":\"2589\",\"type\":\"BoxZoomTool\"},{\"attributes\":{},\"id\":\"2590\",\"type\":\"ResetTool\"},{\"attributes\":{\"text\":\"Differences Between PDM with and without Linear Interpolation\"},\"id\":\"2568\",\"type\":\"Title\"},{\"attributes\":{},\"id\":\"2574\",\"type\":\"LinearScale\"},{\"attributes\":{},\"id\":\"2591\",\"type\":\"SaveTool\"},{\"attributes\":{\"callback\":null,\"tooltips\":[[\"index\",\"$index\"],[\"(x,y)\",\"($x, $y)\"],[\"TIC ID\",\"@tess\"],[\"KIC ID\",\"@kep\"]]},\"id\":\"2592\",\"type\":\"HoverTool\"},{\"attributes\":{\"callback\":null,\"end\":15,\"start\":-1},\"id\":\"2572\",\"type\":\"Range1d\"},{\"attributes\":{},\"id\":\"2605\",\"type\":\"BasicTickFormatter\"},{\"attributes\":{},\"id\":\"2576\",\"type\":\"LinearScale\"},{\"attributes\":{\"axis_label\":\"McQuillan Period\",\"formatter\":{\"id\":\"2605\",\"type\":\"BasicTickFormatter\"},\"ticker\":{\"id\":\"2579\",\"type\":\"BasicTicker\"}},\"id\":\"2578\",\"type\":\"LinearAxis\"},{\"attributes\":{\"items\":[{\"id\":\"2611\",\"type\":\"LegendItem\"}]},\"id\":\"2610\",\"type\":\"Legend\"},{\"attributes\":{\"data_source\":{\"id\":\"2599\",\"type\":\"ColumnDataSource\"},\"glyph\":{\"id\":\"2600\",\"type\":\"Line\"},\"hover_glyph\":null,\"muted_glyph\":null,\"name\":\"y=0\",\"nonselection_glyph\":{\"id\":\"2601\",\"type\":\"Line\"},\"selection_glyph\":null,\"view\":{\"id\":\"2603\",\"type\":\"CDSView\"}},\"id\":\"2602\",\"type\":\"GlyphRenderer\"},{\"attributes\":{},\"id\":\"2579\",\"type\":\"BasicTicker\"},{\"attributes\":{\"bottom_units\":\"screen\",\"fill_alpha\":{\"value\":0.5},\"fill_color\":{\"value\":\"lightgrey\"},\"left_units\":\"screen\",\"level\":\"overlay\",\"line_alpha\":{\"value\":1.0},\"line_color\":{\"value\":\"black\"},\"line_dash\":[4,4],\"line_width\":{\"value\":2},\"render_mode\":\"css\",\"right_units\":\"screen\",\"top_units\":\"screen\"},\"id\":\"2609\",\"type\":\"BoxAnnotation\"},{\"attributes\":{\"ticker\":{\"id\":\"2579\",\"type\":\"BasicTicker\"}},\"id\":\"2582\",\"type\":\"Grid\"},{\"attributes\":{\"line_color\":\"powderblue\",\"line_dash\":[4,4],\"line_width\":2,\"x\":{\"field\":\"x\"},\"y\":{\"field\":\"y\"}},\"id\":\"2600\",\"type\":\"Line\"},{\"attributes\":{\"source\":{\"id\":\"2566\",\"type\":\"ColumnDataSource\"}},\"id\":\"2616\",\"type\":\"CDSView\"},{\"attributes\":{\"dimension\":1,\"ticker\":{\"id\":\"2584\",\"type\":\"BasicTicker\"}},\"id\":\"2587\",\"type\":\"Grid\"},{\"attributes\":{},\"id\":\"2607\",\"type\":\"BasicTickFormatter\"},{\"attributes\":{},\"id\":\"2720\",\"type\":\"UnionRenderers\"},{\"attributes\":{},\"id\":\"2584\",\"type\":\"BasicTicker\"},{\"attributes\":{\"label\":{\"value\":\"y=0\"},\"renderers\":[{\"id\":\"2602\",\"type\":\"GlyphRenderer\"}]},\"id\":\"2611\",\"type\":\"LegendItem\"},{\"attributes\":{\"fill_color\":{\"value\":\"firebrick\"},\"line_color\":{\"value\":null},\"x\":{\"field\":\"x\"},\"y\":{\"field\":\"y\"}},\"id\":\"2613\",\"type\":\"Circle\"},{\"attributes\":{\"axis_label\":\"Difference Between LS Calculations\",\"formatter\":{\"id\":\"2607\",\"type\":\"BasicTickFormatter\"},\"ticker\":{\"id\":\"2584\",\"type\":\"BasicTicker\"}},\"id\":\"2583\",\"type\":\"LinearAxis\"},{\"attributes\":{\"fill_alpha\":{\"value\":0.1},\"fill_color\":{\"value\":\"#1f77b4\"},\"line_alpha\":{\"value\":0.1},\"line_color\":{\"value\":\"#1f77b4\"},\"x\":{\"field\":\"x\"},\"y\":{\"field\":\"y\"}},\"id\":\"2614\",\"type\":\"Circle\"},{\"attributes\":{},\"id\":\"2721\",\"type\":\"Selection\"},{\"attributes\":{},\"id\":\"2722\",\"type\":\"UnionRenderers\"},{\"attributes\":{\"source\":{\"id\":\"2599\",\"type\":\"ColumnDataSource\"}},\"id\":\"2603\",\"type\":\"CDSView\"},{\"attributes\":{\"data_source\":{\"id\":\"2566\",\"type\":\"ColumnDataSource\"},\"glyph\":{\"id\":\"2613\",\"type\":\"Circle\"},\"hover_glyph\":null,\"muted_glyph\":null,\"nonselection_glyph\":{\"id\":\"2614\",\"type\":\"Circle\"},\"selection_glyph\":null,\"view\":{\"id\":\"2616\",\"type\":\"CDSView\"}},\"id\":\"2615\",\"type\":\"GlyphRenderer\"}],\"root_ids\":[\"2567\"]},\"title\":\"Bokeh Application\",\"version\":\"1.3.4\"}};\n",
       "  var render_items = [{\"docid\":\"8de85159-0187-40fc-9b02-1a6d7417b6c6\",\"roots\":{\"2567\":\"65847f80-8f83-407d-83b8-6edef02f1b50\"}}];\n",
       "  root.Bokeh.embed.embed_items_notebook(docs_json, render_items);\n",
       "\n",
       "  }\n",
       "  if (root.Bokeh !== undefined) {\n",
       "    embed_document(root);\n",
       "  } else {\n",
       "    var attempts = 0;\n",
       "    var timer = setInterval(function(root) {\n",
       "      if (root.Bokeh !== undefined) {\n",
       "        embed_document(root);\n",
       "        clearInterval(timer);\n",
       "      }\n",
       "      attempts++;\n",
       "      if (attempts > 100) {\n",
       "        console.log(\"Bokeh: ERROR: Unable to run BokehJS code because BokehJS library is missing\");\n",
       "        clearInterval(timer);\n",
       "      }\n",
       "    }, 10, root)\n",
       "  }\n",
       "})(window);"
      ],
      "application/vnd.bokehjs_exec.v0+json": ""
     },
     "metadata": {
      "application/vnd.bokehjs_exec.v0+json": {
       "id": "2567"
      }
     },
     "output_type": "display_data"
    }
   ],
   "source": [
    "x =  short_periods\n",
    "y = differences_tess\n",
    "\n",
    "source = ColumnDataSource(data=dict(\n",
    "    x = short_periods,\n",
    "    y = differences_tess, \n",
    "    kep = (cat['kic_id'])[0:61],\n",
    "    tess = (cat['tic_id'])[0:61]))\n",
    "\n",
    "x2 = [i*2 for i in x]\n",
    "x_half = [float(i)*0.5 for i in x]\n",
    "x_0 = [i*0 for i in x]\n",
    "\n",
    "tess_diff_plot = figure(\n",
    "   tools=\"pan,box_zoom,reset,save,hover\",\n",
    "   y_range=[-1, 15], title=\"Differences Between PDM with and without Linear Interpolation\",\n",
    "   x_axis_label='McQuillan Period', y_axis_label='Difference Between LS Calculations', plot_width=900)\n",
    "\n",
    "tess_diff_plot.line(x, x_0, name = \"y=0\", color = 'powderblue', line_dash=\"4 4\", legend = \"y=0\", line_width = 2)\n",
    "tess_diff_plot.circle('x', 'y', source = source, color=\"firebrick\", line_color=None)\n",
    "\n",
    "\n",
    "tess_diff_plot.hover.tooltips = [\n",
    "    (\"index\", \"$index\"), \n",
    "    (\"(x,y)\", \"($x, $y)\"), \n",
    "    (\"TIC ID\", \"@tess\"), \n",
    "    (\"KIC ID\", \"@kep\")] \n",
    "\n",
    "show(tess_diff_plot)"
   ]
  },
  {
   "cell_type": "code",
   "execution_count": 30,
   "metadata": {},
   "outputs": [
    {
     "data": {
      "text/plain": [
       "3.323581450302761"
      ]
     },
     "execution_count": 30,
     "metadata": {},
     "output_type": "execute_result"
    }
   ],
   "source": [
    "#differences between non-linear interp PDM and McQ tess periods\n",
    "np.average(differences_mcq_pdm)"
   ]
  },
  {
   "cell_type": "code",
   "execution_count": 31,
   "metadata": {},
   "outputs": [
    {
     "data": {
      "text/plain": [
       "3.663442622951167"
      ]
     },
     "execution_count": 31,
     "metadata": {},
     "output_type": "execute_result"
    }
   ],
   "source": [
    "#differences between Exoplanet ACF with interp and McQ tess periods\n",
    "np.average(differences_exo_acf)"
   ]
  },
  {
   "cell_type": "code",
   "execution_count": 32,
   "metadata": {},
   "outputs": [
    {
     "data": {
      "text/plain": [
       "3.6170666909565936"
      ]
     },
     "execution_count": 32,
     "metadata": {},
     "output_type": "execute_result"
    }
   ],
   "source": [
    "#differences between L-S with interp and McQ tess periods\n",
    "np.average(differences_mcq_ls)"
   ]
  },
  {
   "cell_type": "code",
   "execution_count": 33,
   "metadata": {},
   "outputs": [
    {
     "data": {
      "text/plain": [
       "3.2363680823680823"
      ]
     },
     "execution_count": 33,
     "metadata": {},
     "output_type": "execute_result"
    }
   ],
   "source": [
    "#differences_tess\n",
    "np.average(differences_tess)"
   ]
  },
  {
   "cell_type": "code",
   "execution_count": 34,
   "metadata": {},
   "outputs": [],
   "source": [
    "with open('ls_periods_resid.data', 'rb') as filehandle:\n",
    "    ls_periods_resid = pickle.load(filehandle) "
   ]
  },
  {
   "cell_type": "code",
   "execution_count": 35,
   "metadata": {},
   "outputs": [],
   "source": [
    "with open('pdm_periods_resid.data', 'rb') as filehandle:\n",
    "    pdm_periods_resid = pickle.load(filehandle) "
   ]
  },
  {
   "cell_type": "code",
   "execution_count": 36,
   "metadata": {},
   "outputs": [
    {
     "data": {
      "text/html": [
       "\n",
       "\n",
       "\n",
       "\n",
       "\n",
       "\n",
       "  <div class=\"bk-root\" id=\"6213cac7-3669-4609-91d4-d1b491c83f29\" data-root-id=\"2785\"></div>\n"
      ]
     },
     "metadata": {},
     "output_type": "display_data"
    },
    {
     "data": {
      "application/javascript": [
       "(function(root) {\n",
       "  function embed_document(root) {\n",
       "    \n",
       "  var docs_json = {\"21127772-ce8c-4ce1-9dc6-0896e00cac1c\":{\"roots\":{\"references\":[{\"attributes\":{\"below\":[{\"id\":\"2796\",\"type\":\"LinearAxis\"}],\"center\":[{\"id\":\"2800\",\"type\":\"Grid\"},{\"id\":\"2805\",\"type\":\"Grid\"},{\"id\":\"2828\",\"type\":\"Legend\"}],\"left\":[{\"id\":\"2801\",\"type\":\"LinearAxis\"}],\"plot_width\":900,\"renderers\":[{\"id\":\"2820\",\"type\":\"GlyphRenderer\"},{\"id\":\"2833\",\"type\":\"GlyphRenderer\"},{\"id\":\"2838\",\"type\":\"GlyphRenderer\"},{\"id\":\"2854\",\"type\":\"GlyphRenderer\"}],\"title\":{\"id\":\"2786\",\"type\":\"Title\"},\"toolbar\":{\"id\":\"2811\",\"type\":\"Toolbar\"},\"x_range\":{\"id\":\"2788\",\"type\":\"DataRange1d\"},\"x_scale\":{\"id\":\"2792\",\"type\":\"LinearScale\"},\"y_range\":{\"id\":\"2790\",\"type\":\"Range1d\"},\"y_scale\":{\"id\":\"2794\",\"type\":\"LinearScale\"}},\"id\":\"2785\",\"subtype\":\"Figure\",\"type\":\"Plot\"},{\"attributes\":{\"source\":{\"id\":\"2835\",\"type\":\"ColumnDataSource\"}},\"id\":\"2839\",\"type\":\"CDSView\"},{\"attributes\":{\"callback\":null},\"id\":\"2788\",\"type\":\"DataRange1d\"},{\"attributes\":{},\"id\":\"2866\",\"type\":\"UnionRenderers\"},{\"attributes\":{\"fill_alpha\":{\"value\":0.1},\"fill_color\":{\"value\":\"#1f77b4\"},\"line_alpha\":{\"value\":0.1},\"line_color\":{\"value\":\"#1f77b4\"},\"x\":{\"field\":\"x\"},\"y\":{\"field\":\"y\"}},\"id\":\"2832\",\"type\":\"Circle\"},{\"attributes\":{},\"id\":\"2792\",\"type\":\"LinearScale\"},{\"attributes\":{\"data_source\":{\"id\":\"2784\",\"type\":\"ColumnDataSource\"},\"glyph\":{\"id\":\"2831\",\"type\":\"Circle\"},\"hover_glyph\":null,\"muted_glyph\":null,\"nonselection_glyph\":{\"id\":\"2832\",\"type\":\"Circle\"},\"selection_glyph\":null,\"view\":{\"id\":\"2834\",\"type\":\"CDSView\"}},\"id\":\"2833\",\"type\":\"GlyphRenderer\"},{\"attributes\":{},\"id\":\"2825\",\"type\":\"BasicTickFormatter\"},{\"attributes\":{},\"id\":\"2989\",\"type\":\"Selection\"},{\"attributes\":{},\"id\":\"2794\",\"type\":\"LinearScale\"},{\"attributes\":{},\"id\":\"2806\",\"type\":\"PanTool\"},{\"attributes\":{\"label\":{\"value\":\"y=2x\"},\"renderers\":[{\"id\":\"2838\",\"type\":\"GlyphRenderer\"}]},\"id\":\"2850\",\"type\":\"LegendItem\"},{\"attributes\":{\"callback\":null,\"end\":15},\"id\":\"2790\",\"type\":\"Range1d\"},{\"attributes\":{\"label\":{\"value\":\"y=x\"},\"renderers\":[{\"id\":\"2820\",\"type\":\"GlyphRenderer\"}]},\"id\":\"2829\",\"type\":\"LegendItem\"},{\"attributes\":{\"label\":{\"value\":\"y=0.5*x\"},\"renderers\":[{\"id\":\"2854\",\"type\":\"GlyphRenderer\"}]},\"id\":\"2868\",\"type\":\"LegendItem\"},{\"attributes\":{},\"id\":\"2849\",\"type\":\"Selection\"},{\"attributes\":{\"data_source\":{\"id\":\"2817\",\"type\":\"ColumnDataSource\"},\"glyph\":{\"id\":\"2818\",\"type\":\"Line\"},\"hover_glyph\":null,\"muted_glyph\":null,\"name\":\"y=x\",\"nonselection_glyph\":{\"id\":\"2819\",\"type\":\"Line\"},\"selection_glyph\":null,\"view\":{\"id\":\"2821\",\"type\":\"CDSView\"}},\"id\":\"2820\",\"type\":\"GlyphRenderer\"},{\"attributes\":{\"line_color\":\"red\",\"line_dash\":[2,4],\"x\":{\"field\":\"x\"},\"y\":{\"field\":\"y\"}},\"id\":\"2836\",\"type\":\"Line\"},{\"attributes\":{\"axis_label\":\"McQuillan Period\",\"formatter\":{\"id\":\"2823\",\"type\":\"BasicTickFormatter\"},\"ticker\":{\"id\":\"2797\",\"type\":\"BasicTicker\"}},\"id\":\"2796\",\"type\":\"LinearAxis\"},{\"attributes\":{\"dimension\":1,\"ticker\":{\"id\":\"2802\",\"type\":\"BasicTicker\"}},\"id\":\"2805\",\"type\":\"Grid\"},{\"attributes\":{},\"id\":\"2988\",\"type\":\"UnionRenderers\"},{\"attributes\":{},\"id\":\"2808\",\"type\":\"ResetTool\"},{\"attributes\":{},\"id\":\"2797\",\"type\":\"BasicTicker\"},{\"attributes\":{\"items\":[{\"id\":\"2829\",\"type\":\"LegendItem\"},{\"id\":\"2850\",\"type\":\"LegendItem\"},{\"id\":\"2868\",\"type\":\"LegendItem\"}]},\"id\":\"2828\",\"type\":\"Legend\"},{\"attributes\":{\"active_drag\":\"auto\",\"active_inspect\":\"auto\",\"active_multi\":null,\"active_scroll\":\"auto\",\"active_tap\":\"auto\",\"tools\":[{\"id\":\"2806\",\"type\":\"PanTool\"},{\"id\":\"2807\",\"type\":\"BoxZoomTool\"},{\"id\":\"2808\",\"type\":\"ResetTool\"},{\"id\":\"2809\",\"type\":\"SaveTool\"},{\"id\":\"2810\",\"type\":\"HoverTool\"}]},\"id\":\"2811\",\"type\":\"Toolbar\"},{\"attributes\":{\"callback\":null,\"data\":{\"x\":[7.0,8.88,2.85,10.69,8.74,12.83,6.72,2.67,6.41,2.81,2.19,10.68,11.96,7.7,3.56,8.6,3.72,11.19,10.5,0.84,3.32,1.54,1.37,12.11,10.51,3.2,11.11,1.18,5.62,1.85,3.83,2.38,2.7,12.12,8.23,3.54,8.01,6.32,11.72,7.97,1.45,12.32,2.78,10.03,1.45,1.68,3.15,0.57,1.18,6.4],\"y\":[3.5,4.44,1.425,5.345,4.37,6.415,3.36,1.335,3.205,1.405,1.095,5.34,5.98,3.85,1.78,4.3,1.86,5.595,5.25,0.42,1.66,0.77,0.685,6.055,5.255,1.6,5.555,0.59,2.81,0.925,1.915,1.19,1.35,6.06,4.115,1.77,4.005,3.16,5.86,3.985,0.725,6.16,1.39,5.015,0.725,0.84,1.575,0.285,0.59,3.2]},\"selected\":{\"id\":\"2989\",\"type\":\"Selection\"},\"selection_policy\":{\"id\":\"2988\",\"type\":\"UnionRenderers\"}},\"id\":\"2851\",\"type\":\"ColumnDataSource\"},{\"attributes\":{\"ticker\":{\"id\":\"2797\",\"type\":\"BasicTicker\"}},\"id\":\"2800\",\"type\":\"Grid\"},{\"attributes\":{\"line_alpha\":0.1,\"line_color\":\"#1f77b4\",\"line_dash\":[4,4],\"line_width\":2,\"x\":{\"field\":\"x\"},\"y\":{\"field\":\"y\"}},\"id\":\"2819\",\"type\":\"Line\"},{\"attributes\":{\"source\":{\"id\":\"2784\",\"type\":\"ColumnDataSource\"}},\"id\":\"2834\",\"type\":\"CDSView\"},{\"attributes\":{\"callback\":null,\"tooltips\":[[\"index\",\"$index\"],[\"(x,y)\",\"($x, $y)\"],[\"TIC ID\",\"@tess\"]]},\"id\":\"2810\",\"type\":\"HoverTool\"},{\"attributes\":{},\"id\":\"2802\",\"type\":\"BasicTicker\"},{\"attributes\":{\"axis_label\":\"Lomb-Scargle Period\",\"formatter\":{\"id\":\"2825\",\"type\":\"BasicTickFormatter\"},\"ticker\":{\"id\":\"2802\",\"type\":\"BasicTicker\"}},\"id\":\"2801\",\"type\":\"LinearAxis\"},{\"attributes\":{\"bottom_units\":\"screen\",\"fill_alpha\":{\"value\":0.5},\"fill_color\":{\"value\":\"lightgrey\"},\"left_units\":\"screen\",\"level\":\"overlay\",\"line_alpha\":{\"value\":1.0},\"line_color\":{\"value\":\"black\"},\"line_dash\":[4,4],\"line_width\":{\"value\":2},\"render_mode\":\"css\",\"right_units\":\"screen\",\"top_units\":\"screen\"},\"id\":\"2827\",\"type\":\"BoxAnnotation\"},{\"attributes\":{\"line_color\":\"pink\",\"line_dash\":[2,4],\"x\":{\"field\":\"x\"},\"y\":{\"field\":\"y\"}},\"id\":\"2852\",\"type\":\"Line\"},{\"attributes\":{\"overlay\":{\"id\":\"2827\",\"type\":\"BoxAnnotation\"}},\"id\":\"2807\",\"type\":\"BoxZoomTool\"},{\"attributes\":{\"line_alpha\":0.1,\"line_color\":\"#1f77b4\",\"line_dash\":[2,4],\"x\":{\"field\":\"x\"},\"y\":{\"field\":\"y\"}},\"id\":\"2837\",\"type\":\"Line\"},{\"attributes\":{\"data_source\":{\"id\":\"2835\",\"type\":\"ColumnDataSource\"},\"glyph\":{\"id\":\"2836\",\"type\":\"Line\"},\"hover_glyph\":null,\"muted_glyph\":null,\"nonselection_glyph\":{\"id\":\"2837\",\"type\":\"Line\"},\"selection_glyph\":null,\"view\":{\"id\":\"2839\",\"type\":\"CDSView\"}},\"id\":\"2838\",\"type\":\"GlyphRenderer\"},{\"attributes\":{\"callback\":null,\"data\":{\"tess\":[275493837,121789795,63007124,275490626,171098535,63210277,351803000,170253623,158791870,164724054,122684770,121457565,273582401,267991320,137218354,184089663,272370950,159172008,121659832,138728898,169460055,169466444,122213500,63209318,120963553,267746802,271165094,27395090,298964604,270608620,185058148,271426791,273687618,272719990,239227465,27186774,271538184,121215119,121939294,352013209,185058255,170344764,378084176,120422997,63075888,270856793,26597576,158412743,121329643,351055098,120890400,137408312,267671733,279916031,271547585,158936101,121939266,239225673,27389081,121785547,138725623],\"x\":[7.0,8.88,2.85,10.69,8.74,12.83,6.72,2.67,6.41,2.81,2.19,10.68,11.96,7.7,3.56,8.6,3.72,11.19,10.5,0.84,3.32,1.54,1.37,12.11,10.51,3.2,11.11,1.18,5.62,1.85,3.83,2.38,2.7,12.12,8.23,3.54,8.01,6.32,11.72,7.97,1.45,12.32,2.78,10.03,1.45,1.68,3.15,0.57,1.18,6.4,2.99,0.96,6.24,7.59,3.91,6.42,1.03,8.52,9.73,9.44,8.54,0.57,2.24,12.05,7.75,10.05,10.69,6.46,11.48,6.86,7.86,8.25,4.88,1.84,2.61,9.94,10.02,9.76,11.56,5.43,9.33,6.09,8.48,3.64,4.99,10.46,10.73,0.57,5.61,6.27,11.47,8.48,8.59,5.98,5.68,7.45,2.32,6.06,0.29,3.84,9.43,5.96,11.77,4.64,11.88,6.7,9.73,7.6,9.8,1.41,7.82,3.51,11.15,11.48,10.47,11.46,9.9,9.62,4.49,2.84,10.87,3.72,12.39,2.9,3.26,8.97,8.2,7.94,9.12,10.29,4.92,7.1,11.27,5.33,4.7,8.11,0.82,3.48,11.07,12.48,2.0,7.01,5.78,3.3,4.36,3.34,11.96,2.0,3.25,2.77,4.85,6.8,10.96,9.98,4.96,8.14,10.29,0.57,4.62,1.52,10.34,10.42,4.89,0.78,10.46,4.73,12.56,1.21,11.11,4.16,8.02,1.1,6.64,3.62,3.6,1.83,11.02,12.59,4.09,4.88,11.39,7.67,3.08,7.51,12.47,12.61,3.1,12.11,0.3,12.1,9.87,12.31,4.89,1.63,2.57,11.25,1.67,6.61,0.99,11.65,3.1,6.66,0.57,1.18,10.72,5.15,4.16,1.27,11.94,11.95,6.31,6.63,2.88,7.36,9.47,8.99,9.47,7.01,10.65,3.85,1.8,7.3,1.15,11.81,5.17,9.44,0.61,5.98,7.99,7.95,5.18,4.56,4.32,2.67,3.51,6.45,6.28,3.9,10.27,4.1,1.41,7.01,0.9,10.78,1.34,3.33,5.93,11.32,8.24,10.75,0.56,2.51,6.88,1.52,12.0,3.49,12.82,6.74,8.85,6.82,1.19,0.88,4.94,10.12,3.17,8.13,6.09,1.16,8.05,8.6,11.54,4.54,12.0,0.22,8.44,9.25,4.04,2.61,11.96,3.45,0.33,3.93,2.02,1.69,6.36,1.22,11.96,11.41,11.21,9.12,10.78,7.47,7.29,4.35,4.01,11.98,5.21,9.02,4.77,11.51,9.77,8.1,10.27,7.78,11.21,1.26,3.62,11.71,6.88,11.54,3.3,10.88,1.39,4.07,3.56,0.26,5.45],\"y\":[7.856849905952568,2.2097722409170824,2.3361086581724906,2.842109571240747,7.213810834675115,9.502103786816269,2.362996801415544,7.104219948849106,4.293840767334194,7.682361888958031,7.456646623000108,7.777000069993702,7.222063335239977,7.540140338495365,0.8766157943901638,\"NaN\",1.8656954505307768,15.664739884393065,2.650448937530414,0.8370259100613362,4.691511282259155,9.24299143166126,1.3677568344756952,7.548028586179724,14.910891620591551,6.967979028960605,5.088572580054225,1.1596620061703913,7.553673161379798,7.919684096481725,7.343882191201354,0.7822873968015703,7.357790874776505,8.295629321029134,2.6934190495583286,\"NaN\",7.353505671815644,7.2803637888556905,8.20133158151139,10.32793590005763,1.4613968170459029,7.212780598003195,1.3861512128667168,7.0555887171541425,7.527777777777778,0.8317463454363617,3.3633617271169713,0.5667784478299593,2.8507725385756144,3.49027146904901,2.7375086232383956,8.218681578791644,1.4115659221993546,\"NaN\",7.197362284292895,6.834089874647871,2.3541850294935247,3.571474490845505,4.464257015203627,4.451272765149391,8.535367502458211]},\"selected\":{\"id\":\"2849\",\"type\":\"Selection\"},\"selection_policy\":{\"id\":\"2848\",\"type\":\"UnionRenderers\"}},\"id\":\"2784\",\"type\":\"ColumnDataSource\"},{\"attributes\":{\"callback\":null,\"data\":{\"x\":[7.0,8.88,2.85,10.69,8.74,12.83,6.72,2.67,6.41,2.81,2.19,10.68,11.96,7.7,3.56,8.6,3.72,11.19,10.5,0.84,3.32,1.54,1.37,12.11,10.51,3.2,11.11,1.18,5.62,1.85,3.83,2.38,2.7,12.12,8.23,3.54,8.01,6.32,11.72,7.97,1.45,12.32,2.78,10.03,1.45,1.68,3.15,0.57,1.18,6.4],\"y\":[14.0,17.76,5.7,21.38,17.48,25.66,13.44,5.34,12.82,5.62,4.38,21.36,23.92,15.4,7.12,17.2,7.44,22.38,21.0,1.68,6.64,3.08,2.74,24.22,21.02,6.4,22.22,2.36,11.24,3.7,7.66,4.76,5.4,24.24,16.46,7.08,16.02,12.64,23.44,15.94,2.9,24.64,5.56,20.06,2.9,3.36,6.3,1.14,2.36,12.8]},\"selected\":{\"id\":\"2867\",\"type\":\"Selection\"},\"selection_policy\":{\"id\":\"2866\",\"type\":\"UnionRenderers\"}},\"id\":\"2835\",\"type\":\"ColumnDataSource\"},{\"attributes\":{\"source\":{\"id\":\"2817\",\"type\":\"ColumnDataSource\"}},\"id\":\"2821\",\"type\":\"CDSView\"},{\"attributes\":{\"line_color\":\"powderblue\",\"line_dash\":[4,4],\"line_width\":2,\"x\":{\"field\":\"x\"},\"y\":{\"field\":\"y\"}},\"id\":\"2818\",\"type\":\"Line\"},{\"attributes\":{\"data_source\":{\"id\":\"2851\",\"type\":\"ColumnDataSource\"},\"glyph\":{\"id\":\"2852\",\"type\":\"Line\"},\"hover_glyph\":null,\"muted_glyph\":null,\"nonselection_glyph\":{\"id\":\"2853\",\"type\":\"Line\"},\"selection_glyph\":null,\"view\":{\"id\":\"2855\",\"type\":\"CDSView\"}},\"id\":\"2854\",\"type\":\"GlyphRenderer\"},{\"attributes\":{\"fill_color\":{\"value\":\"blue\"},\"line_color\":{\"value\":null},\"x\":{\"field\":\"x\"},\"y\":{\"field\":\"y\"}},\"id\":\"2831\",\"type\":\"Circle\"},{\"attributes\":{\"line_alpha\":0.1,\"line_color\":\"#1f77b4\",\"line_dash\":[2,4],\"x\":{\"field\":\"x\"},\"y\":{\"field\":\"y\"}},\"id\":\"2853\",\"type\":\"Line\"},{\"attributes\":{},\"id\":\"2846\",\"type\":\"UnionRenderers\"},{\"attributes\":{},\"id\":\"2809\",\"type\":\"SaveTool\"},{\"attributes\":{},\"id\":\"2848\",\"type\":\"UnionRenderers\"},{\"attributes\":{\"source\":{\"id\":\"2851\",\"type\":\"ColumnDataSource\"}},\"id\":\"2855\",\"type\":\"CDSView\"},{\"attributes\":{},\"id\":\"2823\",\"type\":\"BasicTickFormatter\"},{\"attributes\":{},\"id\":\"2847\",\"type\":\"Selection\"},{\"attributes\":{},\"id\":\"2867\",\"type\":\"Selection\"},{\"attributes\":{\"callback\":null,\"data\":{\"x\":[7.0,8.88,2.85,10.69,8.74,12.83,6.72,2.67,6.41,2.81,2.19,10.68,11.96,7.7,3.56,8.6,3.72,11.19,10.5,0.84,3.32,1.54,1.37,12.11,10.51,3.2,11.11,1.18,5.62,1.85,3.83,2.38,2.7,12.12,8.23,3.54,8.01,6.32,11.72,7.97,1.45,12.32,2.78,10.03,1.45,1.68,3.15,0.57,1.18,6.4],\"y\":[7.0,8.88,2.85,10.69,8.74,12.83,6.72,2.67,6.41,2.81,2.19,10.68,11.96,7.7,3.56,8.6,3.72,11.19,10.5,0.84,3.32,1.54,1.37,12.11,10.51,3.2,11.11,1.18,5.62,1.85,3.83,2.38,2.7,12.12,8.23,3.54,8.01,6.32,11.72,7.97,1.45,12.32,2.78,10.03,1.45,1.68,3.15,0.57,1.18,6.4]},\"selected\":{\"id\":\"2847\",\"type\":\"Selection\"},\"selection_policy\":{\"id\":\"2846\",\"type\":\"UnionRenderers\"}},\"id\":\"2817\",\"type\":\"ColumnDataSource\"},{\"attributes\":{\"text\":\"Lomb-Scargle with Trends Removed vs McQuillan TESS Periods\"},\"id\":\"2786\",\"type\":\"Title\"}],\"root_ids\":[\"2785\"]},\"title\":\"Bokeh Application\",\"version\":\"1.3.4\"}};\n",
       "  var render_items = [{\"docid\":\"21127772-ce8c-4ce1-9dc6-0896e00cac1c\",\"roots\":{\"2785\":\"6213cac7-3669-4609-91d4-d1b491c83f29\"}}];\n",
       "  root.Bokeh.embed.embed_items_notebook(docs_json, render_items);\n",
       "\n",
       "  }\n",
       "  if (root.Bokeh !== undefined) {\n",
       "    embed_document(root);\n",
       "  } else {\n",
       "    var attempts = 0;\n",
       "    var timer = setInterval(function(root) {\n",
       "      if (root.Bokeh !== undefined) {\n",
       "        embed_document(root);\n",
       "        clearInterval(timer);\n",
       "      }\n",
       "      attempts++;\n",
       "      if (attempts > 100) {\n",
       "        console.log(\"Bokeh: ERROR: Unable to run BokehJS code because BokehJS library is missing\");\n",
       "        clearInterval(timer);\n",
       "      }\n",
       "    }, 10, root)\n",
       "  }\n",
       "})(window);"
      ],
      "application/vnd.bokehjs_exec.v0+json": ""
     },
     "metadata": {
      "application/vnd.bokehjs_exec.v0+json": {
       "id": "2785"
      }
     },
     "output_type": "display_data"
    }
   ],
   "source": [
    "x =  short_periods[0:50]\n",
    "y = ls_periods_resid\n",
    "\n",
    "source = ColumnDataSource(data=dict(\n",
    "    x =  short_periods,\n",
    "    y = ls_periods_resid, \n",
    "    tess = (cat['tic_id'])[0:61]))\n",
    "\n",
    "x2 = [i*2 for i in x]\n",
    "x_half = [float(i)*0.5 for i in x]\n",
    "\n",
    "ls_resid_plot = figure(\n",
    "   tools=\"pan,box_zoom,reset,save,hover\",\n",
    "   y_range=[0, 15], title=\"Lomb-Scargle with Trends Removed vs McQuillan TESS Periods\",\n",
    "   x_axis_label='McQuillan Period', y_axis_label='Lomb-Scargle Period', plot_width=900)\n",
    "\n",
    "ls_resid_plot.line(x, x, name = \"y=x\", color = 'powderblue', line_dash=\"4 4\", legend = \"y=x\", line_width = 2)\n",
    "ls_resid_plot.circle('x', 'y', source = source, color= \"blue\", line_color=None)\n",
    "ls_resid_plot.line(x, x2, legend=\"y=2x\", line_width=1, color = 'red', line_dash=\"dotted\")\n",
    "ls_resid_plot.line(x, x_half, legend=\"y=0.5*x\", line_width=1, color = 'pink', line_dash=\"dotted\")\n",
    "\n",
    "ls_resid_plot.hover.tooltips = [\n",
    "    (\"index\", \"$index\"), \n",
    "    (\"(x,y)\", \"($x, $y)\"), \n",
    "    (\"TIC ID\", \"@tess\")] \n",
    "\n",
    "show(ls_resid_plot)"
   ]
  },
  {
   "cell_type": "markdown",
   "metadata": {},
   "source": [
    "#differences between interpolations\n",
    "difference_resid = []\n",
    "\n",
    "for indx, ls in enumerate(ls_periods_resid):\n",
    "    resid_diff = np.abs(ls - short_tess_period[indx])\n",
    "    difference_resid.append(resid_diff)"
   ]
  },
  {
   "cell_type": "markdown",
   "metadata": {},
   "source": [
    "x =  short_periods\n",
    "y = difference_resid\n",
    "\n",
    "source = ColumnDataSource(data=dict(\n",
    "    x = short_periods,\n",
    "    y = difference_resid, \n",
    "    kep = (cat['kic_id'])[0:61],\n",
    "    tess = (cat['tic_id'])[0:61]))\n",
    "\n",
    "x2 = [i*2 for i in x]\n",
    "x_half = [float(i)*0.5 for i in x]\n",
    "x_0 = [i*0 for i in x]\n",
    "\n",
    "resid_ls_plot = figure(\n",
    "   tools=\"pan,box_zoom,reset,save,hover\",\n",
    "   y_range=[-1, 15], title=\"Differences Between L-S Residuals and McQ\",\n",
    "   x_axis_label='McQuillan Period', y_axis_label='Difference Between LS Calculations', plot_width=900)\n",
    "\n",
    "resid_ls_plot.line(x, x_0, name = \"y=0\", color = 'pink', line_dash=\"4 4\", legend = \"y=0\", line_width = 2)\n",
    "resid_ls_plot.circle('x', 'y', source = source, color=\"black\", line_color=None)\n",
    "\n",
    "\n",
    "resid_ls_plot.hover.tooltips = [\n",
    "    (\"index\", \"$index\"), \n",
    "    (\"(x,y)\", \"($x, $y)\"), \n",
    "    (\"TIC ID\", \"@tess\"), \n",
    "    (\"KIC ID\", \"@kep\")] \n",
    "\n",
    "show(resid_ls_plot)"
   ]
  },
  {
   "cell_type": "markdown",
   "metadata": {},
   "source": [
    "#differences between interpolations\n",
    "difference_ls_interp_resid = []\n",
    "\n",
    "for ls, indx in enumerate(ls_periods_resid):\n",
    "    ls_interp_diff = np.abs(ls - ls_period_interp[indx])\n",
    "    difference_ls_interp_resid.append(ls_interp_diff)"
   ]
  },
  {
   "cell_type": "markdown",
   "metadata": {},
   "source": [
    "x =  short_periods\n",
    "y = difference_ls_interp_resid\n",
    "\n",
    "source = ColumnDataSource(data=dict(\n",
    "    x = short_periods,\n",
    "    y = difference_ls_interp_resid, \n",
    "    kep = (cat['kic_id'])[0:61],\n",
    "    tess = (cat['tic_id'])[0:61]))\n",
    "\n",
    "x2 = [i*2 for i in x]\n",
    "x_half = [float(i)*0.5 for i in x]\n",
    "x_0 = [i*0 for i in x]\n",
    "\n",
    "ls_interps_plot = figure(\n",
    "   tools=\"pan,box_zoom,reset,save,hover\",\n",
    "   y_range=[-1, 15], title=\"Differences Between L-S with and without Trend Removals\",\n",
    "   x_axis_label='McQuillan Period', y_axis_label='Difference Between LS Calculations', plot_width=900)\n",
    "\n",
    "ls_interps_plot.line(x, x_0, name = \"y=0\", color = 'powderblue', line_dash=\"4 4\", legend = \"y=0\", line_width = 2)\n",
    "ls_interps_plot.circle('x', 'y', source = source, color=\"navy\", line_color=None)\n",
    "\n",
    "\n",
    "ls_interps_plot.hover.tooltips = [\n",
    "    (\"index\", \"$index\"), \n",
    "    (\"(x,y)\", \"($x, $y)\"), \n",
    "    (\"TIC ID\", \"@tess\"), \n",
    "    (\"KIC ID\", \"@kep\")] \n",
    "\n",
    "show(ls_interps_plot)"
   ]
  },
  {
   "cell_type": "code",
   "execution_count": 42,
   "metadata": {},
   "outputs": [
    {
     "data": {
      "text/html": [
       "\n",
       "\n",
       "\n",
       "\n",
       "\n",
       "\n",
       "  <div class=\"bk-root\" id=\"873c4e1f-8c27-46ac-a8a9-7c06965342fe\" data-root-id=\"3569\"></div>\n"
      ]
     },
     "metadata": {},
     "output_type": "display_data"
    },
    {
     "data": {
      "application/javascript": [
       "(function(root) {\n",
       "  function embed_document(root) {\n",
       "    \n",
       "  var docs_json = {\"dd644706-587b-45f3-8ec4-cef597ff9232\":{\"roots\":{\"references\":[{\"attributes\":{\"below\":[{\"id\":\"3580\",\"type\":\"LinearAxis\"}],\"center\":[{\"id\":\"3584\",\"type\":\"Grid\"},{\"id\":\"3589\",\"type\":\"Grid\"},{\"id\":\"3612\",\"type\":\"Legend\"}],\"left\":[{\"id\":\"3585\",\"type\":\"LinearAxis\"}],\"plot_width\":900,\"renderers\":[{\"id\":\"3604\",\"type\":\"GlyphRenderer\"},{\"id\":\"3617\",\"type\":\"GlyphRenderer\"},{\"id\":\"3622\",\"type\":\"GlyphRenderer\"},{\"id\":\"3638\",\"type\":\"GlyphRenderer\"}],\"title\":{\"id\":\"3570\",\"type\":\"Title\"},\"toolbar\":{\"id\":\"3595\",\"type\":\"Toolbar\"},\"x_range\":{\"id\":\"3572\",\"type\":\"DataRange1d\"},\"x_scale\":{\"id\":\"3576\",\"type\":\"LinearScale\"},\"y_range\":{\"id\":\"3574\",\"type\":\"Range1d\"},\"y_scale\":{\"id\":\"3578\",\"type\":\"LinearScale\"}},\"id\":\"3569\",\"subtype\":\"Figure\",\"type\":\"Plot\"},{\"attributes\":{\"label\":{\"value\":\"y=2x\"},\"renderers\":[{\"id\":\"3622\",\"type\":\"GlyphRenderer\"}]},\"id\":\"3634\",\"type\":\"LegendItem\"},{\"attributes\":{\"callback\":null,\"data\":{\"x\":[7.0,8.88,2.85,10.69,8.74,12.83,6.72,2.67,6.41,2.81,2.19,10.68,11.96,7.7,3.56,8.6,3.72,11.19,10.5,0.84,3.32,1.54,1.37,12.11,10.51,3.2,11.11,1.18,5.62,1.85,3.83,2.38,2.7,12.12,8.23,3.54,8.01,6.32,11.72,7.97,1.45,12.32,2.78,10.03,1.45,1.68,3.15,0.57,1.18,6.4],\"y\":[7.0,8.88,2.85,10.69,8.74,12.83,6.72,2.67,6.41,2.81,2.19,10.68,11.96,7.7,3.56,8.6,3.72,11.19,10.5,0.84,3.32,1.54,1.37,12.11,10.51,3.2,11.11,1.18,5.62,1.85,3.83,2.38,2.7,12.12,8.23,3.54,8.01,6.32,11.72,7.97,1.45,12.32,2.78,10.03,1.45,1.68,3.15,0.57,1.18,6.4]},\"selected\":{\"id\":\"3631\",\"type\":\"Selection\"},\"selection_policy\":{\"id\":\"3630\",\"type\":\"UnionRenderers\"}},\"id\":\"3601\",\"type\":\"ColumnDataSource\"},{\"attributes\":{\"text\":\"PDM Lomb-Scargle vs McQuillan TESS Periods\"},\"id\":\"3570\",\"type\":\"Title\"},{\"attributes\":{},\"id\":\"3631\",\"type\":\"Selection\"},{\"attributes\":{\"overlay\":{\"id\":\"3611\",\"type\":\"BoxAnnotation\"}},\"id\":\"3591\",\"type\":\"BoxZoomTool\"},{\"attributes\":{\"label\":{\"value\":\"y=x\"},\"renderers\":[{\"id\":\"3604\",\"type\":\"GlyphRenderer\"}]},\"id\":\"3613\",\"type\":\"LegendItem\"},{\"attributes\":{\"data_source\":{\"id\":\"3601\",\"type\":\"ColumnDataSource\"},\"glyph\":{\"id\":\"3602\",\"type\":\"Line\"},\"hover_glyph\":null,\"muted_glyph\":null,\"name\":\"y=x\",\"nonselection_glyph\":{\"id\":\"3603\",\"type\":\"Line\"},\"selection_glyph\":null,\"view\":{\"id\":\"3605\",\"type\":\"CDSView\"}},\"id\":\"3604\",\"type\":\"GlyphRenderer\"},{\"attributes\":{},\"id\":\"3632\",\"type\":\"UnionRenderers\"},{\"attributes\":{\"callback\":null},\"id\":\"3572\",\"type\":\"DataRange1d\"},{\"attributes\":{},\"id\":\"3592\",\"type\":\"ResetTool\"},{\"attributes\":{},\"id\":\"3633\",\"type\":\"Selection\"},{\"attributes\":{},\"id\":\"3593\",\"type\":\"SaveTool\"},{\"attributes\":{},\"id\":\"3576\",\"type\":\"LinearScale\"},{\"attributes\":{},\"id\":\"3578\",\"type\":\"LinearScale\"},{\"attributes\":{\"callback\":null,\"tooltips\":[[\"index\",\"$index\"],[\"(x,y)\",\"($x, $y)\"],[\"TIC ID\",\"@tess\"]]},\"id\":\"3594\",\"type\":\"HoverTool\"},{\"attributes\":{\"callback\":null,\"data\":{\"x\":[7.0,8.88,2.85,10.69,8.74,12.83,6.72,2.67,6.41,2.81,2.19,10.68,11.96,7.7,3.56,8.6,3.72,11.19,10.5,0.84,3.32,1.54,1.37,12.11,10.51,3.2,11.11,1.18,5.62,1.85,3.83,2.38,2.7,12.12,8.23,3.54,8.01,6.32,11.72,7.97,1.45,12.32,2.78,10.03,1.45,1.68,3.15,0.57,1.18,6.4],\"y\":[3.5,4.44,1.425,5.345,4.37,6.415,3.36,1.335,3.205,1.405,1.095,5.34,5.98,3.85,1.78,4.3,1.86,5.595,5.25,0.42,1.66,0.77,0.685,6.055,5.255,1.6,5.555,0.59,2.81,0.925,1.915,1.19,1.35,6.06,4.115,1.77,4.005,3.16,5.86,3.985,0.725,6.16,1.39,5.015,0.725,0.84,1.575,0.285,0.59,3.2]},\"selected\":{\"id\":\"3807\",\"type\":\"Selection\"},\"selection_policy\":{\"id\":\"3806\",\"type\":\"UnionRenderers\"}},\"id\":\"3635\",\"type\":\"ColumnDataSource\"},{\"attributes\":{\"source\":{\"id\":\"3601\",\"type\":\"ColumnDataSource\"}},\"id\":\"3605\",\"type\":\"CDSView\"},{\"attributes\":{\"callback\":null,\"end\":15},\"id\":\"3574\",\"type\":\"Range1d\"},{\"attributes\":{},\"id\":\"3607\",\"type\":\"BasicTickFormatter\"},{\"attributes\":{\"line_alpha\":0.1,\"line_color\":\"#1f77b4\",\"line_dash\":[2,4],\"x\":{\"field\":\"x\"},\"y\":{\"field\":\"y\"}},\"id\":\"3637\",\"type\":\"Line\"},{\"attributes\":{\"data_source\":{\"id\":\"3568\",\"type\":\"ColumnDataSource\"},\"glyph\":{\"id\":\"3615\",\"type\":\"Circle\"},\"hover_glyph\":null,\"muted_glyph\":null,\"nonselection_glyph\":{\"id\":\"3616\",\"type\":\"Circle\"},\"selection_glyph\":null,\"view\":{\"id\":\"3618\",\"type\":\"CDSView\"}},\"id\":\"3617\",\"type\":\"GlyphRenderer\"},{\"attributes\":{\"data_source\":{\"id\":\"3635\",\"type\":\"ColumnDataSource\"},\"glyph\":{\"id\":\"3636\",\"type\":\"Line\"},\"hover_glyph\":null,\"muted_glyph\":null,\"nonselection_glyph\":{\"id\":\"3637\",\"type\":\"Line\"},\"selection_glyph\":null,\"view\":{\"id\":\"3639\",\"type\":\"CDSView\"}},\"id\":\"3638\",\"type\":\"GlyphRenderer\"},{\"attributes\":{\"source\":{\"id\":\"3568\",\"type\":\"ColumnDataSource\"}},\"id\":\"3618\",\"type\":\"CDSView\"},{\"attributes\":{\"axis_label\":\"McQuillan Period\",\"formatter\":{\"id\":\"3607\",\"type\":\"BasicTickFormatter\"},\"ticker\":{\"id\":\"3581\",\"type\":\"BasicTicker\"}},\"id\":\"3580\",\"type\":\"LinearAxis\"},{\"attributes\":{\"fill_alpha\":{\"value\":0.1},\"fill_color\":{\"value\":\"#1f77b4\"},\"line_alpha\":{\"value\":0.1},\"line_color\":{\"value\":\"#1f77b4\"},\"x\":{\"field\":\"x\"},\"y\":{\"field\":\"y\"}},\"id\":\"3616\",\"type\":\"Circle\"},{\"attributes\":{\"dimension\":1,\"ticker\":{\"id\":\"3586\",\"type\":\"BasicTicker\"}},\"id\":\"3589\",\"type\":\"Grid\"},{\"attributes\":{},\"id\":\"3581\",\"type\":\"BasicTicker\"},{\"attributes\":{\"source\":{\"id\":\"3635\",\"type\":\"ColumnDataSource\"}},\"id\":\"3639\",\"type\":\"CDSView\"},{\"attributes\":{},\"id\":\"3650\",\"type\":\"UnionRenderers\"},{\"attributes\":{\"ticker\":{\"id\":\"3581\",\"type\":\"BasicTicker\"}},\"id\":\"3584\",\"type\":\"Grid\"},{\"attributes\":{\"line_color\":\"powderblue\",\"line_dash\":[2,4],\"x\":{\"field\":\"x\"},\"y\":{\"field\":\"y\"}},\"id\":\"3636\",\"type\":\"Line\"},{\"attributes\":{},\"id\":\"3806\",\"type\":\"UnionRenderers\"},{\"attributes\":{\"label\":{\"value\":\"y=0.5*x\"},\"renderers\":[{\"id\":\"3638\",\"type\":\"GlyphRenderer\"}]},\"id\":\"3652\",\"type\":\"LegendItem\"},{\"attributes\":{},\"id\":\"3609\",\"type\":\"BasicTickFormatter\"},{\"attributes\":{},\"id\":\"3586\",\"type\":\"BasicTicker\"},{\"attributes\":{},\"id\":\"3651\",\"type\":\"Selection\"},{\"attributes\":{\"axis_label\":\"Lomb-Scargle Period\",\"formatter\":{\"id\":\"3609\",\"type\":\"BasicTickFormatter\"},\"ticker\":{\"id\":\"3586\",\"type\":\"BasicTicker\"}},\"id\":\"3585\",\"type\":\"LinearAxis\"},{\"attributes\":{\"callback\":null,\"data\":{\"x\":[7.0,8.88,2.85,10.69,8.74,12.83,6.72,2.67,6.41,2.81,2.19,10.68,11.96,7.7,3.56,8.6,3.72,11.19,10.5,0.84,3.32,1.54,1.37,12.11,10.51,3.2,11.11,1.18,5.62,1.85,3.83,2.38,2.7,12.12,8.23,3.54,8.01,6.32,11.72,7.97,1.45,12.32,2.78,10.03,1.45,1.68,3.15,0.57,1.18,6.4],\"y\":[14.0,17.76,5.7,21.38,17.48,25.66,13.44,5.34,12.82,5.62,4.38,21.36,23.92,15.4,7.12,17.2,7.44,22.38,21.0,1.68,6.64,3.08,2.74,24.22,21.02,6.4,22.22,2.36,11.24,3.7,7.66,4.76,5.4,24.24,16.46,7.08,16.02,12.64,23.44,15.94,2.9,24.64,5.56,20.06,2.9,3.36,6.3,1.14,2.36,12.8]},\"selected\":{\"id\":\"3651\",\"type\":\"Selection\"},\"selection_policy\":{\"id\":\"3650\",\"type\":\"UnionRenderers\"}},\"id\":\"3619\",\"type\":\"ColumnDataSource\"},{\"attributes\":{\"bottom_units\":\"screen\",\"fill_alpha\":{\"value\":0.5},\"fill_color\":{\"value\":\"lightgrey\"},\"left_units\":\"screen\",\"level\":\"overlay\",\"line_alpha\":{\"value\":1.0},\"line_color\":{\"value\":\"black\"},\"line_dash\":[4,4],\"line_width\":{\"value\":2},\"render_mode\":\"css\",\"right_units\":\"screen\",\"top_units\":\"screen\"},\"id\":\"3611\",\"type\":\"BoxAnnotation\"},{\"attributes\":{\"fill_color\":{\"value\":\"purple\"},\"line_color\":{\"value\":null},\"x\":{\"field\":\"x\"},\"y\":{\"field\":\"y\"}},\"id\":\"3615\",\"type\":\"Circle\"},{\"attributes\":{\"line_alpha\":0.1,\"line_color\":\"#1f77b4\",\"line_dash\":[2,4],\"x\":{\"field\":\"x\"},\"y\":{\"field\":\"y\"}},\"id\":\"3621\",\"type\":\"Line\"},{\"attributes\":{\"active_drag\":\"auto\",\"active_inspect\":\"auto\",\"active_multi\":null,\"active_scroll\":\"auto\",\"active_tap\":\"auto\",\"tools\":[{\"id\":\"3590\",\"type\":\"PanTool\"},{\"id\":\"3591\",\"type\":\"BoxZoomTool\"},{\"id\":\"3592\",\"type\":\"ResetTool\"},{\"id\":\"3593\",\"type\":\"SaveTool\"},{\"id\":\"3594\",\"type\":\"HoverTool\"}]},\"id\":\"3595\",\"type\":\"Toolbar\"},{\"attributes\":{\"callback\":null,\"data\":{\"tess\":[275493837,121789795,63007124,275490626,171098535,63210277,351803000,170253623,158791870,164724054,122684770,121457565,273582401,267991320,137218354,184089663,272370950,159172008,121659832,138728898,169460055,169466444,122213500,63209318,120963553,267746802,271165094,27395090,298964604,270608620,185058148,271426791,273687618,272719990,239227465,27186774,271538184,121215119,121939294,352013209,185058255,170344764,378084176,120422997,63075888,270856793,26597576,158412743,121329643,351055098,120890400,137408312,267671733,279916031,271547585,158936101,121939266,239225673,27389081,121785547,138725623],\"x\":[7.0,8.88,2.85,10.69,8.74,12.83,6.72,2.67,6.41,2.81,2.19,10.68,11.96,7.7,3.56,8.6,3.72,11.19,10.5,0.84,3.32,1.54,1.37,12.11,10.51,3.2,11.11,1.18,5.62,1.85,3.83,2.38,2.7,12.12,8.23,3.54,8.01,6.32,11.72,7.97,1.45,12.32,2.78,10.03,1.45,1.68,3.15,0.57,1.18,6.4,2.99,0.96,6.24,7.59,3.91,6.42,1.03,8.52,9.73,9.44,8.54,0.57,2.24,12.05,7.75,10.05,10.69,6.46,11.48,6.86,7.86,8.25,4.88,1.84,2.61,9.94,10.02,9.76,11.56,5.43,9.33,6.09,8.48,3.64,4.99,10.46,10.73,0.57,5.61,6.27,11.47,8.48,8.59,5.98,5.68,7.45,2.32,6.06,0.29,3.84,9.43,5.96,11.77,4.64,11.88,6.7,9.73,7.6,9.8,1.41,7.82,3.51,11.15,11.48,10.47,11.46,9.9,9.62,4.49,2.84,10.87,3.72,12.39,2.9,3.26,8.97,8.2,7.94,9.12,10.29,4.92,7.1,11.27,5.33,4.7,8.11,0.82,3.48,11.07,12.48,2.0,7.01,5.78,3.3,4.36,3.34,11.96,2.0,3.25,2.77,4.85,6.8,10.96,9.98,4.96,8.14,10.29,0.57,4.62,1.52,10.34,10.42,4.89,0.78,10.46,4.73,12.56,1.21,11.11,4.16,8.02,1.1,6.64,3.62,3.6,1.83,11.02,12.59,4.09,4.88,11.39,7.67,3.08,7.51,12.47,12.61,3.1,12.11,0.3,12.1,9.87,12.31,4.89,1.63,2.57,11.25,1.67,6.61,0.99,11.65,3.1,6.66,0.57,1.18,10.72,5.15,4.16,1.27,11.94,11.95,6.31,6.63,2.88,7.36,9.47,8.99,9.47,7.01,10.65,3.85,1.8,7.3,1.15,11.81,5.17,9.44,0.61,5.98,7.99,7.95,5.18,4.56,4.32,2.67,3.51,6.45,6.28,3.9,10.27,4.1,1.41,7.01,0.9,10.78,1.34,3.33,5.93,11.32,8.24,10.75,0.56,2.51,6.88,1.52,12.0,3.49,12.82,6.74,8.85,6.82,1.19,0.88,4.94,10.12,3.17,8.13,6.09,1.16,8.05,8.6,11.54,4.54,12.0,0.22,8.44,9.25,4.04,2.61,11.96,3.45,0.33,3.93,2.02,1.69,6.36,1.22,11.96,11.41,11.21,9.12,10.78,7.47,7.29,4.35,4.01,11.98,5.21,9.02,4.77,11.51,9.77,8.1,10.27,7.78,11.21,1.26,3.62,11.71,6.88,11.54,3.3,10.88,1.39,4.07,3.56,0.26,5.45],\"y\":[7.84954954954955,9.881081081081081,5.877477477477478,7.066666666666667,7.046846846846847,8.771171171171172,2.8252252252252257,7.760360360360361,8.870270270270272,7.978378378378379,7.720720720720721,8.771171171171172,0.44684684684684695,7.690990990990992,6.9972972972972975,\"NaN\",3.7072072072072078,6.709909909909911,8.612612612612613,0.8333333333333334,8.00810810810811,9.920720720720722,1.3783783783783785,7.80990990990991,1.0216216216216218,6.76936936936937,7.126126126126127,1.1603603603603605,7.443243243243244,7.492792792792793,7.363963963963965,6.660360360360361,7.532432432432433,8.077477477477478,8.087387387387388,\"NaN\",5.0549549549549555,9.98018018018018,7.978378378378379,9.791891891891893,1.4576576576576579,6.987387387387388,1.3882882882882885,6.987387387387388,8.642342342342342,1.665765765765766,9.99009009009009,0.5657657657657659,4.688288288288288,6.6504504504504505,8.156756756756756,8.117117117117118,2.8252252252252257,\"NaN\",6.640540540540541,6.8684684684684685,7.155855855855856,7.126126126126127,7.899099099099099,0.17927927927927928,8.404504504504505]},\"selected\":{\"id\":\"3633\",\"type\":\"Selection\"},\"selection_policy\":{\"id\":\"3632\",\"type\":\"UnionRenderers\"}},\"id\":\"3568\",\"type\":\"ColumnDataSource\"},{\"attributes\":{\"line_color\":\"orange\",\"line_dash\":[2,4],\"x\":{\"field\":\"x\"},\"y\":{\"field\":\"y\"}},\"id\":\"3620\",\"type\":\"Line\"},{\"attributes\":{\"data_source\":{\"id\":\"3619\",\"type\":\"ColumnDataSource\"},\"glyph\":{\"id\":\"3620\",\"type\":\"Line\"},\"hover_glyph\":null,\"muted_glyph\":null,\"nonselection_glyph\":{\"id\":\"3621\",\"type\":\"Line\"},\"selection_glyph\":null,\"view\":{\"id\":\"3623\",\"type\":\"CDSView\"}},\"id\":\"3622\",\"type\":\"GlyphRenderer\"},{\"attributes\":{\"line_color\":\"plum\",\"line_dash\":[4,4],\"line_width\":2,\"x\":{\"field\":\"x\"},\"y\":{\"field\":\"y\"}},\"id\":\"3602\",\"type\":\"Line\"},{\"attributes\":{},\"id\":\"3630\",\"type\":\"UnionRenderers\"},{\"attributes\":{\"line_alpha\":0.1,\"line_color\":\"#1f77b4\",\"line_dash\":[4,4],\"line_width\":2,\"x\":{\"field\":\"x\"},\"y\":{\"field\":\"y\"}},\"id\":\"3603\",\"type\":\"Line\"},{\"attributes\":{\"source\":{\"id\":\"3619\",\"type\":\"ColumnDataSource\"}},\"id\":\"3623\",\"type\":\"CDSView\"},{\"attributes\":{},\"id\":\"3807\",\"type\":\"Selection\"},{\"attributes\":{\"items\":[{\"id\":\"3613\",\"type\":\"LegendItem\"},{\"id\":\"3634\",\"type\":\"LegendItem\"},{\"id\":\"3652\",\"type\":\"LegendItem\"}]},\"id\":\"3612\",\"type\":\"Legend\"},{\"attributes\":{},\"id\":\"3590\",\"type\":\"PanTool\"}],\"root_ids\":[\"3569\"]},\"title\":\"Bokeh Application\",\"version\":\"1.3.4\"}};\n",
       "  var render_items = [{\"docid\":\"dd644706-587b-45f3-8ec4-cef597ff9232\",\"roots\":{\"3569\":\"873c4e1f-8c27-46ac-a8a9-7c06965342fe\"}}];\n",
       "  root.Bokeh.embed.embed_items_notebook(docs_json, render_items);\n",
       "\n",
       "  }\n",
       "  if (root.Bokeh !== undefined) {\n",
       "    embed_document(root);\n",
       "  } else {\n",
       "    var attempts = 0;\n",
       "    var timer = setInterval(function(root) {\n",
       "      if (root.Bokeh !== undefined) {\n",
       "        embed_document(root);\n",
       "        clearInterval(timer);\n",
       "      }\n",
       "      attempts++;\n",
       "      if (attempts > 100) {\n",
       "        console.log(\"Bokeh: ERROR: Unable to run BokehJS code because BokehJS library is missing\");\n",
       "        clearInterval(timer);\n",
       "      }\n",
       "    }, 10, root)\n",
       "  }\n",
       "})(window);"
      ],
      "application/vnd.bokehjs_exec.v0+json": ""
     },
     "metadata": {
      "application/vnd.bokehjs_exec.v0+json": {
       "id": "3569"
      }
     },
     "output_type": "display_data"
    }
   ],
   "source": [
    "x =  short_periods[0:50]\n",
    "y = pdm_periods_resid\n",
    "\n",
    "source = ColumnDataSource(data=dict(\n",
    "    x =  short_periods,\n",
    "    y = pdm_periods_resid, \n",
    "    tess = (cat['tic_id'])[0:61]))\n",
    "\n",
    "x2 = [i*2 for i in x]\n",
    "x_half = [float(i)*0.5 for i in x]\n",
    "\n",
    "pdm_resid_plot = figure(\n",
    "   tools=\"pan,box_zoom,reset,save,hover\",\n",
    "   y_range=[0, 15], title=\"PDM Lomb-Scargle vs McQuillan TESS Periods\",\n",
    "   x_axis_label='McQuillan Period', y_axis_label='Lomb-Scargle Period', plot_width=900)\n",
    "\n",
    "pdm_resid_plot.line(x, x, name = \"y=x\", color = 'plum', line_dash=\"4 4\", legend = \"y=x\", line_width = 2)\n",
    "pdm_resid_plot.circle('x', 'y', source = source, color= \"purple\", line_color=None)\n",
    "pdm_resid_plot.line(x, x2, legend=\"y=2x\", line_width=1, color = 'orange', line_dash=\"dotted\")\n",
    "pdm_resid_plot.line(x, x_half, legend=\"y=0.5*x\", line_width=1, color = 'powderblue', line_dash=\"dotted\")\n",
    "\n",
    "pdm_resid_plot.hover.tooltips = [\n",
    "    (\"index\", \"$index\"), \n",
    "    (\"(x,y)\", \"($x, $y)\"), \n",
    "    (\"TIC ID\", \"@tess\")] \n",
    "\n",
    "show(pdm_resid_plot)"
   ]
  },
  {
   "cell_type": "markdown",
   "metadata": {},
   "source": [
    "#differences between interpolations\n",
    "difference_pdm_interp_resid = []\n",
    "\n",
    "for pdm in pdm_periods_resid:\n",
    "    pdm_interp_diff = np.abs(pdm - tess_periods_interp[indx])\n",
    "    difference_pdm_interp_resid.append(pdm_interp_diff)"
   ]
  },
  {
   "cell_type": "markdown",
   "metadata": {},
   "source": [
    "np.average(difference_pdm_interp_resid)"
   ]
  },
  {
   "cell_type": "markdown",
   "metadata": {},
   "source": [
    "x =  short_periods\n",
    "y = difference_pdm_interp_resid\n",
    "\n",
    "source = ColumnDataSource(data=dict(\n",
    "    x = short_periods,\n",
    "    y = difference_pdm_interp_resid, \n",
    "    kep = (cat['kic_id'])[0:61],\n",
    "    tess = (cat['tic_id'])[0:61]))\n",
    "\n",
    "x2 = [i*2 for i in x]\n",
    "x_half = [float(i)*0.5 for i in x]\n",
    "x_0 = [i*0 for i in x]\n",
    "\n",
    "tess_pdms_plot = figure(\n",
    "   tools=\"pan,box_zoom,reset,save,hover\",\n",
    "   y_range=[-1, 15], title=\"Differences Between PDM with and without Trends Removed\",\n",
    "   x_axis_label='McQuillan Period', y_axis_label='Difference Between LS Calculations', plot_width=900)\n",
    "\n",
    "tess_pdms_plot.line(x, x_0, name = \"y=0\", color = 'powderblue', line_dash=\"4 4\", legend = \"y=0\", line_width = 2)\n",
    "tess_pdms_plot.circle('x', 'y', source = source, color=\"firebrick\", line_color=None)\n",
    "\n",
    "\n",
    "tess_pdms_plot.hover.tooltips = [\n",
    "    (\"index\", \"$index\"), \n",
    "    (\"(x,y)\", \"($x, $y)\"), \n",
    "    (\"TIC ID\", \"@tess\"), \n",
    "    (\"KIC ID\", \"@kep\")] \n",
    "\n",
    "show(tess_pdms_plot)"
   ]
  },
  {
   "cell_type": "code",
   "execution_count": null,
   "metadata": {},
   "outputs": [],
   "source": []
  },
  {
   "cell_type": "code",
   "execution_count": null,
   "metadata": {},
   "outputs": [],
   "source": []
  }
 ],
 "metadata": {
  "kernelspec": {
   "display_name": "Python 3",
   "language": "python",
   "name": "python3"
  },
  "language_info": {
   "codemirror_mode": {
    "name": "ipython",
    "version": 3
   },
   "file_extension": ".py",
   "mimetype": "text/x-python",
   "name": "python",
   "nbconvert_exporter": "python",
   "pygments_lexer": "ipython3",
   "version": "3.7.4"
  }
 },
 "nbformat": 4,
 "nbformat_minor": 2
}
